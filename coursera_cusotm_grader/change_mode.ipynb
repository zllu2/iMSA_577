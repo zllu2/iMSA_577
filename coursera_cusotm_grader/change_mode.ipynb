{
 "cells": [
  {
   "cell_type": "markdown",
   "metadata": {},
   "source": [
    "### Upload this file to coursera readonly folder, then execute"
   ]
  },
  {
   "cell_type": "code",
   "execution_count": null,
   "metadata": {},
   "outputs": [],
   "source": [
    "!chmod a-w Assignments/release/Module1/*\n",
    "!chmod a-w Assignments/release/Module2/*\n",
    "!chmod a-w Assignments/release/Module3/*\n",
    "!chmod a-w Assignments/release/Module4/*\n",
    "!chmod a-w Assignments/release/Module5/*\n",
    "!chmod a-w Assignments/release/Module6/*\n",
    "!chmod a-w Assignments/release/Module7/*\n",
    "!chmod a-w Assignments/release/Module8/*\n",
    "!chmod a-w Lessons/Module1/*\n",
    "!chmod a-w Lessons/Module2/*\n",
    "!chmod a-w Lessons/Module3/*\n",
    "!chmod a-w Lessons/Module4/*\n",
    "!chmod a-w Lessons/Module5/*\n",
    "!chmod a-w Lessons/Module6/*\n",
    "!chmod a-w Lessons/Module7/*\n",
    "!chmod a-w Lessons/Module8/*\n"
   ]
  }
 ],
 "metadata": {
  "kernelspec": {
   "display_name": "Python 3",
   "language": "python",
   "name": "python3"
  },
  "language_info": {
   "codemirror_mode": {
    "name": "ipython",
    "version": 3
   },
   "file_extension": ".py",
   "mimetype": "text/x-python",
   "name": "python",
   "nbconvert_exporter": "python",
   "pygments_lexer": "ipython3",
   "version": "3.7.3"
  }
 },
 "nbformat": 4,
 "nbformat_minor": 2
}
