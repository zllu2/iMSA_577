{
 "cells": [
  {
   "cell_type": "markdown",
   "metadata": {
    "nbgrader": {
     "grade": false,
     "grade_id": "cell-5aaea72c3751c7e2",
     "locked": true,
     "schema_version": 3,
     "solution": false
    }
   },
   "source": [
    "# Module 3 Assignment\n",
    "\n",
    "A few things you should keep in mind when working on assignments:\n",
    "\n",
    "1. Run the first code cell to import modules needed by this assignment before proceeding to problems.\n",
    "2. Make sure you fill in any place that says `# YOUR CODE HERE`. Do not write your answer anywhere else other than where it says `# YOUR CODE HERE`. Anything you write elsewhere will be removed or overwritten by the autograder.\n",
    "3. Each problem has an autograder cell below the answer cell. Run the autograder cell to check your answer. If there's anything wrong in your answer, the autograder cell will display error messages.\n",
    "4. Before you submit your assignment, make sure everything runs as expected. Go to the menubar, select Kernel, and Restart & Run all. If the notebook runs through the last code cell without an error message, you've answered all problems correctly.\n",
    "5. Make sure that you save your work (in the menubar, select File → Save and CheckPoint).\n",
    "\n",
    "-----"
   ]
  },
  {
   "cell_type": "markdown",
   "metadata": {
    "nbgrader": {
     "grade": false,
     "grade_id": "cell-aab57598618fe44d",
     "locked": true,
     "schema_version": 3,
     "solution": false
    }
   },
   "source": [
    "# Run Me First!"
   ]
  },
  {
   "cell_type": "code",
   "execution_count": 1,
   "metadata": {
    "deletable": false,
    "nbgrader": {
     "grade": false,
     "grade_id": "cell-88dd2a72c7ccd97d",
     "locked": true,
     "schema_version": 3,
     "solution": false
    }
   },
   "outputs": [],
   "source": [
    "import pandas as pd\n",
    "import numpy as np\n",
    "import seaborn as sns\n",
    "\n",
    "from nose.tools import assert_equal, assert_almost_equal, assert_true, assert_is_instance\n",
    "\n",
    "# We do this to ignore warnings\n",
    "import warnings\n",
    "warnings.filterwarnings(\"ignore\")\n"
   ]
  },
  {
   "cell_type": "markdown",
   "metadata": {
    "nbgrader": {
     "grade": false,
     "grade_id": "cell-04a5c3d6a5d2fa7a",
     "locked": true,
     "schema_version": 3,
     "solution": false
    }
   },
   "source": [
    "-----\n",
    "\n",
    "# Predicting Breast Cancer\n",
    "\n",
    "In this assignment, we will work with a breast cancer data set to make a classification model. Before we build a model, we first load the data into the assignment notebook, and randomly sample several rows. Next, we display the DataFrame information. The data is clean, and all columns are numerical.\n",
    "\n",
    "Please run the next two Code cells before proceeding to Problem 1.\n",
    "\n",
    "-----"
   ]
  },
  {
   "cell_type": "code",
   "execution_count": 2,
   "metadata": {
    "nbgrader": {
     "grade": false,
     "grade_id": "cell-067fcf4112b3f798",
     "locked": true,
     "schema_version": 3,
     "solution": false
    }
   },
   "outputs": [
    {
     "data": {
      "text/html": [
       "<div>\n",
       "<style scoped>\n",
       "    .dataframe tbody tr th:only-of-type {\n",
       "        vertical-align: middle;\n",
       "    }\n",
       "\n",
       "    .dataframe tbody tr th {\n",
       "        vertical-align: top;\n",
       "    }\n",
       "\n",
       "    .dataframe thead th {\n",
       "        text-align: right;\n",
       "    }\n",
       "</style>\n",
       "<table border=\"1\" class=\"dataframe\">\n",
       "  <thead>\n",
       "    <tr style=\"text-align: right;\">\n",
       "      <th></th>\n",
       "      <th>id</th>\n",
       "      <th>clump thickness</th>\n",
       "      <th>uniformity cell size</th>\n",
       "      <th>uniformity cell shape</th>\n",
       "      <th>marginal adhesion</th>\n",
       "      <th>epithelial cell size</th>\n",
       "      <th>bare nuclei</th>\n",
       "      <th>bland chromatin</th>\n",
       "      <th>normal nucleoli</th>\n",
       "      <th>mitoses</th>\n",
       "      <th>class</th>\n",
       "    </tr>\n",
       "  </thead>\n",
       "  <tbody>\n",
       "    <tr>\n",
       "      <th>161</th>\n",
       "      <td>1198128</td>\n",
       "      <td>10</td>\n",
       "      <td>8</td>\n",
       "      <td>10</td>\n",
       "      <td>10</td>\n",
       "      <td>6</td>\n",
       "      <td>1</td>\n",
       "      <td>3</td>\n",
       "      <td>1</td>\n",
       "      <td>10</td>\n",
       "      <td>4</td>\n",
       "    </tr>\n",
       "    <tr>\n",
       "      <th>653</th>\n",
       "      <td>1350423</td>\n",
       "      <td>5</td>\n",
       "      <td>10</td>\n",
       "      <td>10</td>\n",
       "      <td>8</td>\n",
       "      <td>5</td>\n",
       "      <td>5</td>\n",
       "      <td>7</td>\n",
       "      <td>10</td>\n",
       "      <td>1</td>\n",
       "      <td>4</td>\n",
       "    </tr>\n",
       "    <tr>\n",
       "      <th>305</th>\n",
       "      <td>718641</td>\n",
       "      <td>1</td>\n",
       "      <td>1</td>\n",
       "      <td>1</td>\n",
       "      <td>1</td>\n",
       "      <td>5</td>\n",
       "      <td>1</td>\n",
       "      <td>3</td>\n",
       "      <td>1</td>\n",
       "      <td>1</td>\n",
       "      <td>2</td>\n",
       "    </tr>\n",
       "    <tr>\n",
       "      <th>468</th>\n",
       "      <td>474162</td>\n",
       "      <td>8</td>\n",
       "      <td>7</td>\n",
       "      <td>8</td>\n",
       "      <td>5</td>\n",
       "      <td>5</td>\n",
       "      <td>10</td>\n",
       "      <td>9</td>\n",
       "      <td>10</td>\n",
       "      <td>1</td>\n",
       "      <td>4</td>\n",
       "    </tr>\n",
       "    <tr>\n",
       "      <th>241</th>\n",
       "      <td>167528</td>\n",
       "      <td>4</td>\n",
       "      <td>1</td>\n",
       "      <td>1</td>\n",
       "      <td>1</td>\n",
       "      <td>2</td>\n",
       "      <td>1</td>\n",
       "      <td>3</td>\n",
       "      <td>6</td>\n",
       "      <td>1</td>\n",
       "      <td>2</td>\n",
       "    </tr>\n",
       "  </tbody>\n",
       "</table>\n",
       "</div>"
      ],
      "text/plain": [
       "          id  clump thickness  uniformity cell size  uniformity cell shape  \\\n",
       "161  1198128               10                     8                     10   \n",
       "653  1350423                5                    10                     10   \n",
       "305   718641                1                     1                      1   \n",
       "468   474162                8                     7                      8   \n",
       "241   167528                4                     1                      1   \n",
       "\n",
       "     marginal adhesion  epithelial cell size  bare nuclei  bland chromatin  \\\n",
       "161                 10                     6            1                3   \n",
       "653                  8                     5            5                7   \n",
       "305                  1                     5            1                3   \n",
       "468                  5                     5           10                9   \n",
       "241                  1                     2            1                3   \n",
       "\n",
       "     normal nucleoli  mitoses  class  \n",
       "161                1       10      4  \n",
       "653               10        1      4  \n",
       "305                1        1      2  \n",
       "468               10        1      4  \n",
       "241                6        1      2  "
      ]
     },
     "execution_count": 2,
     "metadata": {},
     "output_type": "execute_result"
    }
   ],
   "source": [
    "#Load breast cancer dataset\n",
    "df = pd.read_csv('data/breast-cancer-wisconsin.csv')\n",
    "df.sample(5)"
   ]
  },
  {
   "cell_type": "code",
   "execution_count": 3,
   "metadata": {
    "nbgrader": {
     "grade": false,
     "grade_id": "cell-33750e46e3236618",
     "locked": true,
     "schema_version": 3,
     "solution": false
    }
   },
   "outputs": [
    {
     "name": "stdout",
     "output_type": "stream",
     "text": [
      "<class 'pandas.core.frame.DataFrame'>\n",
      "RangeIndex: 683 entries, 0 to 682\n",
      "Data columns (total 11 columns):\n",
      " #   Column                 Non-Null Count  Dtype\n",
      "---  ------                 --------------  -----\n",
      " 0   id                     683 non-null    int64\n",
      " 1   clump thickness        683 non-null    int64\n",
      " 2   uniformity cell size   683 non-null    int64\n",
      " 3   uniformity cell shape  683 non-null    int64\n",
      " 4   marginal adhesion      683 non-null    int64\n",
      " 5   epithelial cell size   683 non-null    int64\n",
      " 6   bare nuclei            683 non-null    int64\n",
      " 7   bland chromatin        683 non-null    int64\n",
      " 8   normal nucleoli        683 non-null    int64\n",
      " 9   mitoses                683 non-null    int64\n",
      " 10  class                  683 non-null    int64\n",
      "dtypes: int64(11)\n",
      "memory usage: 58.8 KB\n"
     ]
    }
   ],
   "source": [
    "df.info()"
   ]
  },
  {
   "cell_type": "markdown",
   "metadata": {
    "nbgrader": {
     "grade": false,
     "grade_id": "cell-b14f916df8f7af19",
     "locked": true,
     "schema_version": 3,
     "solution": false
    }
   },
   "source": [
    "---\n",
    "\n",
    "# Problem 1: Data Preprocessing\n",
    "\n",
    "For this problem you will use the DataFrame **df** defined above.\n",
    "\n",
    "To complete the task, do the following:\n",
    "1. Choose column 'class' as label and assign it to variable **label**. Note: since DataFrame has an attribute 'class', you can't refer to the 'class' column by using `df.class`. Use `df['class']` instead.\n",
    "2. Choose following columns as training data and assign it to variable **data**:  \n",
    "'clump thickness', 'uniformity cell size', 'uniformity cell shape', 'marginal adhesion', 'epithelial cell size', 'bare nuclei', 'bland chromatin', 'normal nucleoli', 'mitoses'.   \n",
    "__data__ should be a DataFrame.\n",
    "3. Split the independent and dependent variables to training and testing set.\n",
    "    - Assign the training and testing data to variable d_train and d_test.\n",
    "    - Assign the training and testing label to variable l_train and l_test.\n",
    "    - The `test_size` argument in `train_test_split` should be set to 0.3.\n",
    "    - The `random_state` argument in `train_test_split` should be set to 23.\n",
    "\n",
    "After this problem, there are six new variables defined, data, label, d_train, d_test, l_train, l_test.\n",
    "\n",
    "-----"
   ]
  },
  {
   "cell_type": "code",
   "execution_count": 4,
   "metadata": {
    "nbgrader": {
     "grade": false,
     "grade_id": "p1-ans",
     "locked": false,
     "schema_version": 3,
     "solution": true
    }
   },
   "outputs": [],
   "source": [
    "from sklearn.model_selection import train_test_split\n",
    "\n",
    "### BEGIN SOLUTION\n",
    "label = df['class']\n",
    "data = df[['clump thickness', 'uniformity cell size', 'uniformity cell shape', 'marginal adhesion', 'epithelial cell size', 'bare nuclei', 'bland chromatin', 'normal nucleoli', 'mitoses']]\n",
    "d_train, d_test, l_train, l_test = train_test_split(data, label, test_size=0.3, random_state=23)\n",
    "### END SOLUTION"
   ]
  },
  {
   "cell_type": "code",
   "execution_count": 5,
   "metadata": {
    "nbgrader": {
     "grade": true,
     "grade_id": "p1-test",
     "locked": true,
     "points": 1,
     "schema_version": 3,
     "solution": false
    }
   },
   "outputs": [
    {
     "data": {
      "text/html": [
       "<div>\n",
       "<style scoped>\n",
       "    .dataframe tbody tr th:only-of-type {\n",
       "        vertical-align: middle;\n",
       "    }\n",
       "\n",
       "    .dataframe tbody tr th {\n",
       "        vertical-align: top;\n",
       "    }\n",
       "\n",
       "    .dataframe thead th {\n",
       "        text-align: right;\n",
       "    }\n",
       "</style>\n",
       "<table border=\"1\" class=\"dataframe\">\n",
       "  <thead>\n",
       "    <tr style=\"text-align: right;\">\n",
       "      <th></th>\n",
       "      <th>clump thickness</th>\n",
       "      <th>uniformity cell size</th>\n",
       "      <th>uniformity cell shape</th>\n",
       "      <th>marginal adhesion</th>\n",
       "      <th>epithelial cell size</th>\n",
       "      <th>bare nuclei</th>\n",
       "      <th>bland chromatin</th>\n",
       "      <th>normal nucleoli</th>\n",
       "      <th>mitoses</th>\n",
       "    </tr>\n",
       "  </thead>\n",
       "  <tbody>\n",
       "    <tr>\n",
       "      <th>408</th>\n",
       "      <td>5</td>\n",
       "      <td>1</td>\n",
       "      <td>3</td>\n",
       "      <td>1</td>\n",
       "      <td>2</td>\n",
       "      <td>1</td>\n",
       "      <td>2</td>\n",
       "      <td>1</td>\n",
       "      <td>1</td>\n",
       "    </tr>\n",
       "    <tr>\n",
       "      <th>319</th>\n",
       "      <td>5</td>\n",
       "      <td>4</td>\n",
       "      <td>6</td>\n",
       "      <td>6</td>\n",
       "      <td>4</td>\n",
       "      <td>10</td>\n",
       "      <td>4</td>\n",
       "      <td>3</td>\n",
       "      <td>1</td>\n",
       "    </tr>\n",
       "  </tbody>\n",
       "</table>\n",
       "</div>"
      ],
      "text/plain": [
       "     clump thickness  uniformity cell size  uniformity cell shape  \\\n",
       "408                5                     1                      3   \n",
       "319                5                     4                      6   \n",
       "\n",
       "     marginal adhesion  epithelial cell size  bare nuclei  bland chromatin  \\\n",
       "408                  1                     2            1                2   \n",
       "319                  6                     4           10                4   \n",
       "\n",
       "     normal nucleoli  mitoses  \n",
       "408                1        1  \n",
       "319                3        1  "
      ]
     },
     "execution_count": 5,
     "metadata": {},
     "output_type": "execute_result"
    }
   ],
   "source": [
    "assert_equal(type(data), pd.DataFrame, msg=\"data is not a DataFrame\")\n",
    "assert_equal(data.shape, (683, 9), msg=\"data is not correct\")\n",
    "assert_equal(len(l_test), 205, msg=\"Test set size is not correct.\")\n",
    "assert_equal(tuple(d_test.values[0]), (3, 2, 1, 1, 2, 2, 3, 1, 1),\n",
    "             msg='Test data is not correct. Make sure you set random_state=23 when splitting the dataset')\n",
    "#display first 2 training data\n",
    "d_train.head(2)"
   ]
  },
  {
   "cell_type": "markdown",
   "metadata": {
    "nbgrader": {
     "grade": false,
     "grade_id": "cell-f0c9676010ba1122",
     "locked": true,
     "schema_version": 3,
     "solution": false
    }
   },
   "source": [
    "---\n",
    "\n",
    "# Problem 2: Create and Train a K-Nearest Neighbors Classification Model\n",
    "\n",
    "Your task for this problem is to build and use the scikit-learn library's `KNeighborsClassifier` estimator to make predictions on the breast cancer dataset. \n",
    "\n",
    "To complete this function, you must explicitly:\n",
    "- Create a `KNeighborsClassifier` estimator **knn_model** by using scikit learn. Set n_neighbors to 10 and accept default values for other hyperparameter.\n",
    "- Fit the `KNeighborsClassifier` estimator using d_train and l_train created in problem 1.\n",
    "\n",
    "After this problem, there will be a trained K-Nearest Neighbors Classifier **knn_model**.\n",
    "\n",
    "-----"
   ]
  },
  {
   "cell_type": "code",
   "execution_count": 6,
   "metadata": {
    "nbgrader": {
     "grade": false,
     "grade_id": "p2-ans",
     "locked": false,
     "schema_version": 3,
     "solution": true
    }
   },
   "outputs": [
    {
     "data": {
      "text/plain": [
       "KNeighborsClassifier(n_neighbors=10)"
      ]
     },
     "execution_count": 6,
     "metadata": {},
     "output_type": "execute_result"
    }
   ],
   "source": [
    "from sklearn.neighbors import KNeighborsClassifier\n",
    "\n",
    "### BEGIN SOLUTION\n",
    "# Create and fit our K-Nearest Neighbors Classifier\n",
    "knn_model = KNeighborsClassifier(n_neighbors=10)\n",
    "knn_model.fit(d_train, l_train)\n",
    "### END SOLUTION"
   ]
  },
  {
   "cell_type": "code",
   "execution_count": 7,
   "metadata": {
    "nbgrader": {
     "grade": true,
     "grade_id": "p2-test",
     "locked": true,
     "points": 1,
     "schema_version": 3,
     "solution": false
    }
   },
   "outputs": [],
   "source": [
    "assert_equal(type(knn_model), type(KNeighborsClassifier()), msg=\"knn_model is not a KNeighborsClassifier model\")\n",
    "assert_equal(knn_model.get_params()['n_neighbors'], 10,\n",
    "            msg=\"n_neighbors of knn_model is not 10.\")"
   ]
  },
  {
   "cell_type": "markdown",
   "metadata": {
    "nbgrader": {
     "grade": false,
     "grade_id": "cell-0bd8ccf5e00ce321",
     "locked": true,
     "schema_version": 3,
     "solution": false
    }
   },
   "source": [
    "---\n",
    "\n",
    "# Problem 3: Calculate Accuracy Score\n",
    "\n",
    "For this problem, you will compute the accuracy score of the knn_model created in problem 2.  \n",
    "\n",
    "To complete this function, you must explicitly:\n",
    "\n",
    "- Apply knn_model `predict` function to d_test to get predicted label, assign it to variable **predicted**.\n",
    "- Compute the accuracy score using `accuracy_score` function in `metrics` module with true label **l_test** and predicted label __predicted__.\n",
    "- Assign the accuracy score to variable **mas_score**.\n",
    "\n",
    "After this problem, there will be a new variable **mas_score** defined.\n",
    "\n",
    "-----"
   ]
  },
  {
   "cell_type": "code",
   "execution_count": 8,
   "metadata": {
    "nbgrader": {
     "grade": false,
     "grade_id": "p3-ans",
     "locked": false,
     "schema_version": 3,
     "solution": true
    }
   },
   "outputs": [],
   "source": [
    "from sklearn import metrics\n",
    "\n",
    "### BEGIN SOLUTION\n",
    "predicted = knn_model.predict(d_test)\n",
    "mas_score = metrics.accuracy_score(predicted, l_test)\n",
    "### END SOLUTION"
   ]
  },
  {
   "cell_type": "code",
   "execution_count": 9,
   "metadata": {
    "nbgrader": {
     "grade": true,
     "grade_id": "p3-test",
     "locked": true,
     "points": 1,
     "schema_version": 3,
     "solution": false
    }
   },
   "outputs": [
    {
     "name": "stdout",
     "output_type": "stream",
     "text": [
      "K-Nearest Neighbors Classifier prediction accuracy = 98.5%\n"
     ]
    }
   ],
   "source": [
    "assert_almost_equal(mas_score, 0.9853658536585366, msg=\"Accuracy score is not correct\")\n",
    "print(f\"K-Nearest Neighbors Classifier prediction accuracy = {mas_score*100:4.1f}%\")"
   ]
  },
  {
   "cell_type": "markdown",
   "metadata": {
    "nbgrader": {
     "grade": false,
     "grade_id": "cell-29cdc380fcceff0c",
     "locked": true,
     "schema_version": 3,
     "solution": false
    }
   },
   "source": [
    "---\n",
    "\n",
    "# Problem 4: Create and Train a Random Forest Classifier\n",
    "\n",
    "Your task for this problem is to build and use the scikit-learn library's `RandomForestClassifier` estimator to make predictions on the breast cancer dataset. \n",
    "\n",
    "To complete this function, you must explicitly:\n",
    "- Create a `RandomForestClassifier` estimator **rdf_model** by using scikit-learn. Set n_estimators to 10 and random_state to 23, accept default values for all other hyperparameter.\n",
    "- Fit the `RandomForestClassifier` estimator using d_train and l_train created in problem 1.\n",
    "- Calculate accuracy score of rdf_model and assign accuracy score to variable **mas_score_rdf**.\n",
    "    - Apply rdf_model `predict` function to d_test to get predicted label, assign it to variable **predicted**.\n",
    "    - Compute the accuracy score using `accuracy_score` function in `metrics` module with true label **l_test** and predicted label __predicted__.\n",
    "    - Assign the accuracy score to variable **mas_score_rdf**.\n",
    "\n",
    "\n",
    "After this problem, there will be two new variable defined, **rdf_model** and __mas_score_rdf__.\n",
    "\n",
    "-----"
   ]
  },
  {
   "cell_type": "code",
   "execution_count": 10,
   "metadata": {
    "nbgrader": {
     "grade": false,
     "grade_id": "p4-ans",
     "locked": false,
     "schema_version": 3,
     "solution": true
    }
   },
   "outputs": [],
   "source": [
    "from sklearn.ensemble import RandomForestClassifier\n",
    "from sklearn import metrics\n",
    "\n",
    "### BEGIN SOLUTION\n",
    "# Create and fit our logistic regression model to training data\n",
    "rdf_model = RandomForestClassifier(n_estimators=10, random_state=23)\n",
    "rdf_model.fit(d_train, l_train)\n",
    "predicted = rdf_model.predict(d_test)\n",
    "mas_score_rdf = metrics.accuracy_score(predicted, l_test)\n",
    "### END SOLUTION"
   ]
  },
  {
   "cell_type": "code",
   "execution_count": 11,
   "metadata": {
    "nbgrader": {
     "grade": true,
     "grade_id": "p4-test",
     "locked": true,
     "points": 1,
     "schema_version": 3,
     "solution": false
    }
   },
   "outputs": [
    {
     "name": "stdout",
     "output_type": "stream",
     "text": [
      "Random Forest Classifier prediction accuracy = 97.1%\n"
     ]
    }
   ],
   "source": [
    "assert_equal(type(rdf_model), type(RandomForestClassifier()), msg=\"rdf_model is not a RandomForestClassifier\")\n",
    "assert_equal(rdf_model.get_params()['random_state'], 23,\n",
    "            msg=\"rdf_model is not created with random_state 23\")\n",
    "assert_almost_equal(mas_score_rdf, 0.9707317073170731, msg=\"Accuracy score is not correct\")\n",
    "print(f\"Random Forest Classifier prediction accuracy = {mas_score_rdf*100:4.1f}%\")"
   ]
  }
 ],
 "metadata": {
  "celltoolbar": "Create Assignment",
  "coursera": {
   "course_slug": "machine-learning-accounting-python",
   "graded_item_id": "gfjyw",
   "launcher_item_id": "xa0LG"
  },
  "kernelspec": {
   "display_name": "Python 3",
   "language": "python",
   "name": "python3"
  },
  "language_info": {
   "codemirror_mode": {
    "name": "ipython",
    "version": 3
   },
   "file_extension": ".py",
   "mimetype": "text/x-python",
   "name": "python",
   "nbconvert_exporter": "python",
   "pygments_lexer": "ipython3",
   "version": "3.8.5"
  }
 },
 "nbformat": 4,
 "nbformat_minor": 4
}
