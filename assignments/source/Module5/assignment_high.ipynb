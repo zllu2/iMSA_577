{
 "cells": [
  {
   "cell_type": "markdown",
   "metadata": {
    "nbgrader": {
     "grade": false,
     "grade_id": "cell-5aaea72c3751c7e2",
     "locked": true,
     "schema_version": 1,
     "solution": false
    }
   },
   "source": [
    "# Module 5 Assignment\n",
    "\n",
    "A few things you should keep in mind when working on assignments:\n",
    "\n",
    "1. Run the first code cell to import modules needed by this assignment before proceeding to problems.\n",
    "2. Make sure you fill in any place that says `# YOUR CODE HERE`. Do not write your answer anywhere else other than where it says `# YOUR CODE HERE`. Anything you write elsewhere will be removed or overwritten by the autograder.\n",
    "3. Each problem has an autograder cell below the answer cell. Run the autograder cell to check your answer. If there's anything wrong in your answer, the autograder cell will display error messages.\n",
    "4. Before you submit your assignment, make sure everything runs as expected. Go to the menubar, select Kernel, and Restart & Run all. If the notebook runs through the last code cell without error message, you've answered all problems correctly.\n",
    "5. Make sure that you save your work (in the menubar, select File → Save and CheckPoint).\n",
    "\n",
    "-----"
   ]
  },
  {
   "cell_type": "markdown",
   "metadata": {
    "nbgrader": {
     "grade": false,
     "grade_id": "cell-aab57598618fe44d",
     "locked": true,
     "schema_version": 1,
     "solution": false
    }
   },
   "source": [
    "# Run Me First!"
   ]
  },
  {
   "cell_type": "code",
   "execution_count": 1,
   "metadata": {
    "deletable": false,
    "nbgrader": {
     "grade": false,
     "grade_id": "cell-88dd2a72c7ccd97d",
     "locked": true,
     "schema_version": 1,
     "solution": false
    }
   },
   "outputs": [],
   "source": [
    "import pandas as pd\n",
    "import numpy as np\n",
    "import seaborn as sns\n",
    "\n",
    "from nose.tools import assert_equal, assert_almost_equal, assert_true, assert_is_instance\n",
    "\n",
    "# We do this to ignore warnings\n",
    "import warnings\n",
    "warnings.filterwarnings(\"ignore\")"
   ]
  },
  {
   "cell_type": "markdown",
   "metadata": {
    "nbgrader": {
     "grade": false,
     "grade_id": "cell-c1ed02bea3557ccf",
     "locked": true,
     "schema_version": 1,
     "solution": false
    }
   },
   "source": [
    "-----\n",
    "\n",
    "# Prepare MPG Data\n",
    "\n",
    "In this assignment, we will use the mpg dataset to make a regression model. Before we attempt to build a model, we first prepare the data.\n",
    "\n",
    "Please run the next code cell before proceeding to Problem 1.\n",
    "\n",
    "-----"
   ]
  },
  {
   "cell_type": "code",
   "execution_count": 2,
   "metadata": {
    "nbgrader": {
     "grade": false,
     "grade_id": "cell-dfcefdd4646fca8c",
     "locked": true,
     "schema_version": 1,
     "solution": false
    }
   },
   "outputs": [
    {
     "data": {
      "text/html": [
       "<div>\n",
       "<style scoped>\n",
       "    .dataframe tbody tr th:only-of-type {\n",
       "        vertical-align: middle;\n",
       "    }\n",
       "\n",
       "    .dataframe tbody tr th {\n",
       "        vertical-align: top;\n",
       "    }\n",
       "\n",
       "    .dataframe thead th {\n",
       "        text-align: right;\n",
       "    }\n",
       "</style>\n",
       "<table border=\"1\" class=\"dataframe\">\n",
       "  <thead>\n",
       "    <tr style=\"text-align: right;\">\n",
       "      <th></th>\n",
       "      <th>cylinders</th>\n",
       "      <th>displacement</th>\n",
       "      <th>horsepower</th>\n",
       "      <th>weight</th>\n",
       "      <th>acceleration</th>\n",
       "      <th>model_year</th>\n",
       "      <th>origin</th>\n",
       "    </tr>\n",
       "  </thead>\n",
       "  <tbody>\n",
       "    <tr>\n",
       "      <th>384</th>\n",
       "      <td>4</td>\n",
       "      <td>91.0</td>\n",
       "      <td>67.0</td>\n",
       "      <td>1965</td>\n",
       "      <td>15.7</td>\n",
       "      <td>82</td>\n",
       "      <td>1</td>\n",
       "    </tr>\n",
       "    <tr>\n",
       "      <th>112</th>\n",
       "      <td>4</td>\n",
       "      <td>122.0</td>\n",
       "      <td>85.0</td>\n",
       "      <td>2310</td>\n",
       "      <td>18.5</td>\n",
       "      <td>73</td>\n",
       "      <td>2</td>\n",
       "    </tr>\n",
       "  </tbody>\n",
       "</table>\n",
       "</div>"
      ],
      "text/plain": [
       "     cylinders  displacement  horsepower  weight  acceleration  model_year  \\\n",
       "384          4          91.0        67.0    1965          15.7          82   \n",
       "112          4         122.0        85.0    2310          18.5          73   \n",
       "\n",
       "     origin  \n",
       "384       1  \n",
       "112       2  "
      ]
     },
     "execution_count": 2,
     "metadata": {},
     "output_type": "execute_result"
    }
   ],
   "source": [
    "from sklearn.model_selection import train_test_split\n",
    "from sklearn.preprocessing import LabelEncoder\n",
    "#load MPG dataset\n",
    "mpg = sns.load_dataset('mpg')\n",
    "mpg.dropna(inplace=True)\n",
    "mpg['origin'] = LabelEncoder().fit_transform(mpg.origin)\n",
    "y = mpg['mpg']\n",
    "x = mpg[['cylinders', 'displacement', 'horsepower', 'weight', 'acceleration', 'model_year', 'origin']]\n",
    "\n",
    "# Split data intro training:testing data set\n",
    "x_train, x_test, y_train, y_test = train_test_split(x, y, test_size=0.4, random_state=23)\n",
    "x_train.sample(2)"
   ]
  },
  {
   "cell_type": "markdown",
   "metadata": {
    "nbgrader": {
     "grade": false,
     "grade_id": "cell-72a7a0ba38b0c4fd",
     "locked": true,
     "schema_version": 1,
     "solution": false
    }
   },
   "source": [
    "---\n",
    "# Problem 1: Get Feature Ranking by Recursive Feature Extraction\n",
    "\n",
    "Perform RFE on a Random Forest Regressor and retieve feature rankings.\n",
    "\n",
    "This problem will use **x** and __y__ created above.\n",
    "\n",
    "To solve this problem do the following:\n",
    "- Create a `RandomForestRegressor` estimator. Set `n_estimators` to 100, `random_state` to 23 and accept default values for all other hyperparameters.\n",
    "- Create a Recursive Feature Estimator `RFE` using the random forest regressor created in step 1 as the `estimator`, set `n_features_to_select ` to 1. Accept default values for other arguments.\n",
    "- Fit the RFE estimator using **x** and __y__.\n",
    "- Retrive feature rankings from the `RFE` selector's `ranking_` attribute and assign it to variable **feature_ranking**.\n",
    "\n",
    "After this problem, there's a new variable **feature_ranking** defined."
   ]
  },
  {
   "cell_type": "code",
   "execution_count": 3,
   "metadata": {
    "nbgrader": {
     "grade": false,
     "grade_id": "p1-answer",
     "locked": false,
     "schema_version": 1,
     "solution": true
    }
   },
   "outputs": [],
   "source": [
    "from sklearn.ensemble import RandomForestRegressor\n",
    "from sklearn.feature_selection import RFE\n",
    "\n",
    "### BEGIN SOLUTION\n",
    "rfr = RandomForestRegressor(n_estimators=100, random_state=23)\n",
    "rfe = RFE(rfr, 1)\n",
    "rfe.fit(x, y)\n",
    "feature_ranking = rfe.ranking_\n",
    "### END SOLUTION"
   ]
  },
  {
   "cell_type": "code",
   "execution_count": 4,
   "metadata": {
    "nbgrader": {
     "grade": true,
     "grade_id": "p1-test",
     "locked": true,
     "points": 1,
     "schema_version": 1,
     "solution": false
    },
    "scrolled": true
   },
   "outputs": [
    {
     "name": "stdout",
     "output_type": "stream",
     "text": [
      "Feature Ranking:\n",
      "displacement = 1\n",
      "      weight = 2\n",
      "   cylinders = 3\n",
      "  model_year = 4\n",
      "  horsepower = 5\n",
      "acceleration = 6\n",
      "      origin = 7\n"
     ]
    }
   ],
   "source": [
    "assert_equal(feature_ranking.tolist(), [3, 1, 5, 2, 6, 4, 7])\n",
    "# Display feature ranking\n",
    "print('Feature Ranking:')\n",
    "for var, name in sorted(zip(feature_ranking, x.columns), key=lambda x: x[0]):\n",
    "    print(f'{name:>12} = {var}')"
   ]
  },
  {
   "cell_type": "markdown",
   "metadata": {
    "nbgrader": {
     "grade": false,
     "grade_id": "cell-30fe030e9e99b1f5",
     "locked": true,
     "schema_version": 1,
     "solution": false
    }
   },
   "source": [
    "---\n",
    "\n",
    "# Problem 2: Get Accuracy Score of a Random Forest Regressor\n",
    "\n",
    "This problem will use **x_train, x_test, y_train** and __y_test__ created above.\n",
    "\n",
    "Your task for this problem is to build and train a `RandomForestRegressor` estimator on mpg data and calcualte the estimator's $R^2$ score.\n",
    "\n",
    "To solve this problem do the following:\n",
    "- Create a `RandomForestRegressor` estimator **rfr**. Set `n_estimators` to 100, `random_state` to 23 and accept default values for all other hyperparameters.\n",
    "- Fit the RandomForestRegressor estimator using x_train and y_train.\n",
    "- Apply rfr `predict` function on x_test to get predicted mpg, save it as **y_pred**\n",
    "- Use `r2_score` function with y_test and y_pred to get $R^2$ and assign it to variable **r2**\n",
    "\n",
    "After this problem, there will be a new variable **r2** defined.\n",
    "\n",
    "-----"
   ]
  },
  {
   "cell_type": "code",
   "execution_count": 5,
   "metadata": {
    "nbgrader": {
     "grade": false,
     "grade_id": "p2-answer",
     "locked": false,
     "schema_version": 1,
     "solution": true
    }
   },
   "outputs": [],
   "source": [
    "from sklearn.ensemble import RandomForestRegressor\n",
    "from sklearn.metrics import r2_score\n",
    "\n",
    "### BEGIN SOLUTION\n",
    "rfr = RandomForestRegressor(n_estimators=100, random_state=23)\n",
    "rfr.fit(x_train, y_train)\n",
    "y_pred = rfr.predict(x_test)\n",
    "r2 = r2_score(y_test, y_pred)\n",
    "### END SOLUTION"
   ]
  },
  {
   "cell_type": "code",
   "execution_count": 6,
   "metadata": {
    "nbgrader": {
     "grade": true,
     "grade_id": "p2-test",
     "locked": true,
     "points": 1,
     "schema_version": 1,
     "solution": false
    }
   },
   "outputs": [
    {
     "name": "stdout",
     "output_type": "stream",
     "text": [
      "R2 score: 0.84\n"
     ]
    }
   ],
   "source": [
    "assert_almost_equal(r2, 0.8441667341695959, msg=\"R2 score is not correct\")\n",
    "print(f'R2 score: {r2:4.2f}')"
   ]
  },
  {
   "cell_type": "markdown",
   "metadata": {
    "nbgrader": {
     "grade": false,
     "grade_id": "cell-5415042841073d6a",
     "locked": true,
     "schema_version": 1,
     "solution": false
    }
   },
   "source": [
    "---\n",
    "\n",
    "# Problem 3: Get the Cross Validation Scores\n",
    "\n",
    "Get the cross validation scores for a random forest regressor.\n",
    "\n",
    "This problem will use **x** and __y__ created above.\n",
    "\n",
    "To solve this problem do the following:\n",
    "- Create a `RandomForestRegressor` estimator. Set `n_estimators` to 100, `random_state` to 23 and accept default values for all other hyperparameters.\n",
    "- Create `KFold` iterator. Set `n_splits` to 5 and `random_state` to 23.\n",
    "- Calculate cross validation scores using `cross_val_score` function with the random forest regressor, x, y and the `KFold` iterator. Assign scores to variable **cv_scores**.\n",
    "\n",
    "After this problem, there's a new variable **cv_scores** defined.\n",
    "\n",
    "-----"
   ]
  },
  {
   "cell_type": "code",
   "execution_count": 7,
   "metadata": {
    "nbgrader": {
     "grade": false,
     "grade_id": "p3-answer",
     "locked": false,
     "schema_version": 1,
     "solution": true
    }
   },
   "outputs": [],
   "source": [
    "from sklearn.ensemble import RandomForestRegressor\n",
    "from sklearn.model_selection import KFold\n",
    "from sklearn.model_selection import cross_val_score\n",
    "\n",
    "### BEGIN SOLUTION\n",
    "rfr = RandomForestRegressor(n_estimators=100, random_state=23)\n",
    "skf = KFold(n_splits=5, random_state=2)\n",
    "cv_scores = cross_val_score(rfr, x, y, cv=skf)\n",
    "### END SOLUTION"
   ]
  },
  {
   "cell_type": "code",
   "execution_count": 8,
   "metadata": {
    "nbgrader": {
     "grade": true,
     "grade_id": "p3-test",
     "locked": true,
     "points": 1,
     "schema_version": 1,
     "solution": false
    }
   },
   "outputs": [
    {
     "name": "stdout",
     "output_type": "stream",
     "text": [
      "Average Cross Validation Score: 0.75\n"
     ]
    }
   ],
   "source": [
    "assert_almost_equal(cv_scores[0], 0.88705262, msg='Cross validation scores are not correct')\n",
    "assert_almost_equal(cv_scores[2], 0.85913104, msg='Cross validation scores are not correct')\n",
    "print(f\"Average Cross Validation Score: {np.mean(cv_scores):4.2f}\")"
   ]
  },
  {
   "cell_type": "markdown",
   "metadata": {
    "nbgrader": {
     "grade": false,
     "grade_id": "cell-04a5c3d6a5d2fa7a",
     "locked": true,
     "schema_version": 1,
     "solution": false
    }
   },
   "source": [
    "-----\n",
    "\n",
    "# Prepare Breast Cancer Data\n",
    "\n",
    "For next 2 problems we will use the breast cancer dataset. Before we attempt to build models, we first prepare the data.\n",
    "\n",
    "Please run the next two code cells before proceeding to Problem 4.\n",
    "\n",
    "-----"
   ]
  },
  {
   "cell_type": "code",
   "execution_count": 9,
   "metadata": {
    "nbgrader": {
     "grade": false,
     "grade_id": "cell-067fcf4112b3f798",
     "locked": true,
     "schema_version": 1,
     "solution": false
    },
    "scrolled": false
   },
   "outputs": [],
   "source": [
    "from sklearn.model_selection import train_test_split\n",
    "from sklearn.preprocessing import LabelEncoder\n",
    "\n",
    "#Load breast cancer dataset\n",
    "df = pd.read_csv('data/breast-cancer-wisconsin.csv')\n",
    "#reduce data size\n",
    "df = df.sample(200, random_state=23)\n",
    "label = df['class']\n",
    "data = df[['clump thickness', 'uniformity cell size', 'uniformity cell shape', 'marginal adhesion', 'epithelial cell size', 'bare nuclei', 'bland chromatin', 'normal nucleoli', 'mitoses']]"
   ]
  },
  {
   "cell_type": "markdown",
   "metadata": {
    "nbgrader": {
     "grade": false,
     "grade_id": "cell-b14f916df8f7af19",
     "locked": true,
     "schema_version": 1,
     "solution": false
    }
   },
   "source": [
    "---\n",
    "\n",
    "# Problem 4: Find Best Estimator with Grid Search\n",
    "\n",
    "Conducts grid search cross validation on the random forest classifier and get the best estimator.\n",
    "\n",
    "This problem will use **data** and __label__ created above.\n",
    "\n",
    "To solve this problem do the following:\n",
    "- Create a `RandomForestClassifier` estimator. Set `random_state` to 23.\n",
    "- Create a `StratifiedKFold` iterator with `n_splits` equals 5 and `random_state` eaquals 23.\n",
    "- Create variable **estimators** with value `[20, 40, 60, 80, 100]`\n",
    "- Create parameter dictionary **params** and set key to `'n_estimators'` and value to the list `estimators` created in previous step.\n",
    "- Create `GridSearchCV` object:\n",
    " - set `estimator` to the random forest classifier estimator\n",
    " - set `param_grid` to the parameter dictionary\n",
    " - set `cv` to the stratified k-fold iterator\n",
    "- Fit the `GridSearchCV` object created in previous step using **data** and __label__.\n",
    "- Retrieve the best esitimator from the `GridSearchCV` object's `best_estimator_` attribute and assign it to variable **best_estimator_gs**.\n",
    "- Retrieve the best cross validation score from the `GridSearchCV` object's `best_score_` attribute and assign it to variable **best_score_gs**\n",
    "\n",
    "After this problem, there will be two new variables **best_estimator_gs**, __best_score_gs__ defined.\n",
    "\n",
    "-----"
   ]
  },
  {
   "cell_type": "code",
   "execution_count": 10,
   "metadata": {
    "nbgrader": {
     "grade": false,
     "grade_id": "p4-answer",
     "locked": false,
     "schema_version": 1,
     "solution": true
    }
   },
   "outputs": [],
   "source": [
    "from sklearn.ensemble import RandomForestClassifier\n",
    "from sklearn.model_selection import StratifiedKFold, GridSearchCV\n",
    "\n",
    "### BEGIN SOLUTION\n",
    "rfc = RandomForestClassifier(random_state=23)\n",
    "n_estimators = [20, 40, 60, 80, 100]\n",
    "skf = StratifiedKFold(n_splits=5, random_state=23)\n",
    "\n",
    "# Create a dictionary of hyperparameters and values\n",
    "params = {'n_estimators':n_estimators}\n",
    "\n",
    "# Create grid search cross validator\n",
    "gse = GridSearchCV(estimator=rfc, param_grid=params, cv=skf)\n",
    "\n",
    "# Fit estimator\n",
    "gse.fit(data, label)\n",
    "\n",
    "best_estimator_gs = gse.best_estimator_\n",
    "best_score_gs = gse.best_score_\n",
    "### END SOLUTION"
   ]
  },
  {
   "cell_type": "code",
   "execution_count": 11,
   "metadata": {
    "nbgrader": {
     "grade": true,
     "grade_id": "p4-test",
     "locked": true,
     "points": 1,
     "schema_version": 1,
     "solution": false
    }
   },
   "outputs": [
    {
     "name": "stdout",
     "output_type": "stream",
     "text": [
      "Best n_estimators=40\n",
      "Best CV Score = 0.975\n"
     ]
    }
   ],
   "source": [
    "assert_equal(best_estimator_gs.get_params()[\"n_estimators\"], 40, msg=\"Best estimator is not correct.\")\n",
    "assert_almost_equal(best_score_gs, 0.975, places=3, msg=\"Best score is not correct.\")\n",
    "\n",
    "print(f'Best n_estimators={best_estimator_gs.get_params()[\"n_estimators\"]}')\n",
    "print(f'Best CV Score = {best_score_gs:5.3f}')"
   ]
  },
  {
   "cell_type": "markdown",
   "metadata": {
    "nbgrader": {
     "grade": false,
     "grade_id": "cell-a89a17b692fc8a9d",
     "locked": true,
     "schema_version": 1,
     "solution": false
    }
   },
   "source": [
    "---\n",
    "\n",
    "# Problem 5: Find Best Estimator with Random Grid Search\n",
    "\n",
    "Conducts random grid search cross validation on the random forest classifier and get the best estimator.\n",
    "\n",
    "This problem will use **data** and __label__ created above.\n",
    "\n",
    "To solve this problem do the following:\n",
    "- Create a `RandomForestClassifier` estimator. Set `random_state` to 23.\n",
    "- Create a `StratifiedKFold` iterator with `n_splits` equals 5 and `random_state` eaquals 23.\n",
    "- Create variable **estimators** with value `range(20,100)`\n",
    "- Create variable __weights__ with value `[None, 'balanced']`\n",
    "- Create parameter dictionary **params** with two keys, `'n_estimators'` and `'class_weight'`, and two list values `estimators` and `weights` created in previous step.\n",
    "- Create `RandomizedSearchCV` object:\n",
    " - set `estimator` to the random forest classifier estimator\n",
    " - set `param_distributions` to the parameter dictionary\n",
    " - set `cv` to the stratified k-fold iterator\n",
    " - set `n_iter` to 5\n",
    " - set `random_state` to 23\n",
    "- Fit the `RandomizedSearchCV` object created in previous step using **data** and __label__.\n",
    "- Retrieve the best esitimator from the `RandomizedSearchCV` object's `best_estimator_` attribute and assign it to variable **best_estimator_rgs**.\n",
    "- Retrieve the best cross validation score from the `RandomizedSearchCV` object's `best_score_` attribute and assign it to variable **best_score_rgs**\n",
    "\n",
    "After this problem, there will be two new variable **best_estimator_rgs** and __best_score_rgs__ defined.\n",
    "\n",
    "**Note**: If you get warning messages after running your code, just ignore them.\n",
    "\n",
    "-----"
   ]
  },
  {
   "cell_type": "code",
   "execution_count": 12,
   "metadata": {
    "nbgrader": {
     "grade": false,
     "grade_id": "p5-answer",
     "locked": false,
     "schema_version": 1,
     "solution": true
    }
   },
   "outputs": [
    {
     "name": "stderr",
     "output_type": "stream",
     "text": [
      "/Users/lindenlu/anaconda3/lib/python3.7/site-packages/sklearn/model_selection/_search.py:841: DeprecationWarning: The default of the `iid` parameter will change from True to False in version 0.22 and will be removed in 0.24. This will change numeric results when test-set sizes are unequal.\n",
      "  DeprecationWarning)\n"
     ]
    }
   ],
   "source": [
    "from sklearn.ensemble import RandomForestClassifier\n",
    "from sklearn.model_selection import StratifiedKFold, RandomizedSearchCV\n",
    "\n",
    "### BEGIN SOLUTION\n",
    "rfc = RandomForestClassifier(random_state=23)\n",
    "skf = StratifiedKFold(n_splits=5, random_state=23)\n",
    "\n",
    "estimators = range(20, 100)\n",
    "weights = [None, 'balanced']\n",
    "# Create a dictionary of hyperparameters and values\n",
    "params = {'n_estimators':estimators, 'class_weight':weights}\n",
    "\n",
    "# Create grid search cross validator\n",
    "rgse = RandomizedSearchCV(estimator=rfc, param_distributions=params, n_iter=5, cv=skf, random_state=23)\n",
    "\n",
    "# Fit estimator\n",
    "rgse.fit(data, label)\n",
    "\n",
    "best_estimator_rgs = rgse.best_estimator_\n",
    "best_score_rgs = rgse.best_score_\n",
    "### END SOLUTION"
   ]
  },
  {
   "cell_type": "code",
   "execution_count": 13,
   "metadata": {
    "nbgrader": {
     "grade": true,
     "grade_id": "p5-test",
     "locked": true,
     "points": 1,
     "schema_version": 1,
     "solution": false
    }
   },
   "outputs": [
    {
     "name": "stdout",
     "output_type": "stream",
     "text": [
      "Best n_estimators=49\n",
      "Best class_weight=balanced\n",
      "Best CV Score = 0.975\n"
     ]
    }
   ],
   "source": [
    "assert_equal(best_estimator_rgs.get_params()[\"n_estimators\"], 49, msg=\"Best n_estimator is not correct.\")\n",
    "assert_equal(best_estimator_rgs.get_params()[\"class_weight\"], 'balanced', msg=\"Best class_weight is not correct.\")\n",
    "print(f'Best n_estimators={best_estimator_rgs.get_params()[\"n_estimators\"]}')\n",
    "print(f'Best class_weight={best_estimator_rgs.get_params()[\"class_weight\"]}')\n",
    "print(f'Best CV Score = {best_score_rgs:5.3f}')"
   ]
  }
 ],
 "metadata": {
  "celltoolbar": "Create Assignment",
  "coursera": {
   "course_slug": "data-analytics-accountancy-2",
   "graded_item_id": "GrQNK",
   "launcher_item_id": "m1_assignment"
  },
  "kernelspec": {
   "display_name": "Python 3",
   "language": "python",
   "name": "python3"
  },
  "language_info": {
   "codemirror_mode": {
    "name": "ipython",
    "version": 3
   },
   "file_extension": ".py",
   "mimetype": "text/x-python",
   "name": "python",
   "nbconvert_exporter": "python",
   "pygments_lexer": "ipython3",
   "version": "3.7.1"
  }
 },
 "nbformat": 4,
 "nbformat_minor": 2
}
