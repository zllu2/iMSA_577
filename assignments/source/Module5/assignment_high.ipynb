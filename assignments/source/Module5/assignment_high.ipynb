{
 "cells": [
  {
   "cell_type": "markdown",
   "metadata": {
    "nbgrader": {
     "grade": false,
     "grade_id": "cell-5aaea72c3751c7e2",
     "locked": true,
     "schema_version": 3,
     "solution": false
    }
   },
   "source": [
    "# Module 5 Assignment\n",
    "\n",
    "A few things you should keep in mind when working on assignments:\n",
    "\n",
    "1. Run the first code cell to import modules needed by this assignment before proceeding to problems.\n",
    "2. Make sure you fill in any place that says `# YOUR CODE HERE`. Do not write your answer anywhere else other than where it says `# YOUR CODE HERE`. Anything you write elsewhere will be removed or overwritten by the autograder.\n",
    "3. Each problem has an autograder cell below the answer cell. Run the autograder cell to check your answer. If there's anything wrong in your answer, the autograder cell will display error messages.\n",
    "4. Before you submit your assignment, make sure everything runs as expected. Go to the menubar, select Kernel, and Restart & Run all. If the notebook runs through the last code cell without an error message, you've answered all problems correctly.\n",
    "5. Make sure that you save your work (in the menubar, select File → Save and CheckPoint).\n",
    "\n",
    "-----"
   ]
  },
  {
   "cell_type": "markdown",
   "metadata": {
    "nbgrader": {
     "grade": false,
     "grade_id": "cell-aab57598618fe44d",
     "locked": true,
     "schema_version": 3,
     "solution": false
    }
   },
   "source": [
    "# Run Me First!"
   ]
  },
  {
   "cell_type": "code",
   "execution_count": 1,
   "metadata": {
    "deletable": false,
    "nbgrader": {
     "grade": false,
     "grade_id": "cell-88dd2a72c7ccd97d",
     "locked": true,
     "schema_version": 3,
     "solution": false
    }
   },
   "outputs": [],
   "source": [
    "import pandas as pd\n",
    "import numpy as np\n",
    "\n",
    "from nose.tools import assert_equal, assert_almost_equal, assert_true, assert_is_instance\n",
    "\n",
    "# We do this to ignore warnings\n",
    "import warnings\n",
    "warnings.filterwarnings(\"ignore\")"
   ]
  },
  {
   "cell_type": "markdown",
   "metadata": {
    "nbgrader": {
     "grade": false,
     "grade_id": "cell-c1ed02bea3557ccf",
     "locked": true,
     "schema_version": 3,
     "solution": false
    }
   },
   "source": [
    "-----\n",
    "\n",
    "# Prepare MPG Data\n",
    "\n",
    "In this assignment, we will use the mpg dataset to make a regression model. Before we attempt to build a model, we first prepare the data.\n",
    "\n",
    "Please run the next code cell before proceeding to Problem 1.\n",
    "\n",
    "-----"
   ]
  },
  {
   "cell_type": "code",
   "execution_count": 2,
   "metadata": {
    "nbgrader": {
     "grade": false,
     "grade_id": "cell-dfcefdd4646fca8c",
     "locked": true,
     "schema_version": 3,
     "solution": false
    }
   },
   "outputs": [
    {
     "data": {
      "text/html": [
       "<div>\n",
       "<style scoped>\n",
       "    .dataframe tbody tr th:only-of-type {\n",
       "        vertical-align: middle;\n",
       "    }\n",
       "\n",
       "    .dataframe tbody tr th {\n",
       "        vertical-align: top;\n",
       "    }\n",
       "\n",
       "    .dataframe thead th {\n",
       "        text-align: right;\n",
       "    }\n",
       "</style>\n",
       "<table border=\"1\" class=\"dataframe\">\n",
       "  <thead>\n",
       "    <tr style=\"text-align: right;\">\n",
       "      <th></th>\n",
       "      <th>cylinders</th>\n",
       "      <th>displacement</th>\n",
       "      <th>horsepower</th>\n",
       "      <th>weight</th>\n",
       "      <th>acceleration</th>\n",
       "      <th>model_year</th>\n",
       "      <th>origin</th>\n",
       "    </tr>\n",
       "  </thead>\n",
       "  <tbody>\n",
       "    <tr>\n",
       "      <td>303</td>\n",
       "      <td>4</td>\n",
       "      <td>151.0</td>\n",
       "      <td>90.0</td>\n",
       "      <td>2670</td>\n",
       "      <td>16.0</td>\n",
       "      <td>79</td>\n",
       "      <td>2</td>\n",
       "    </tr>\n",
       "    <tr>\n",
       "      <td>103</td>\n",
       "      <td>8</td>\n",
       "      <td>400.0</td>\n",
       "      <td>167.0</td>\n",
       "      <td>4906</td>\n",
       "      <td>12.5</td>\n",
       "      <td>73</td>\n",
       "      <td>2</td>\n",
       "    </tr>\n",
       "  </tbody>\n",
       "</table>\n",
       "</div>"
      ],
      "text/plain": [
       "     cylinders  displacement  horsepower  weight  acceleration  model_year  \\\n",
       "303          4         151.0        90.0    2670          16.0          79   \n",
       "103          8         400.0       167.0    4906          12.5          73   \n",
       "\n",
       "     origin  \n",
       "303       2  \n",
       "103       2  "
      ]
     },
     "execution_count": 2,
     "metadata": {},
     "output_type": "execute_result"
    }
   ],
   "source": [
    "from sklearn.model_selection import train_test_split\n",
    "from sklearn.preprocessing import LabelEncoder\n",
    "#load MPG dataset\n",
    "mpg = pd.read_csv('data/mpg.csv')\n",
    "mpg.dropna(inplace=True)\n",
    "mpg['origin'] = LabelEncoder().fit_transform(mpg.origin)\n",
    "y = mpg['mpg']\n",
    "x = mpg[['cylinders', 'displacement', 'horsepower', 'weight', 'acceleration', 'model_year', 'origin']]\n",
    "\n",
    "# Split data intro training:testing data set\n",
    "x_train, x_test, y_train, y_test = train_test_split(x, y, test_size=0.4, random_state=23)\n",
    "x_train.sample(2)"
   ]
  },
  {
   "cell_type": "markdown",
   "metadata": {
    "nbgrader": {
     "grade": false,
     "grade_id": "cell-72a7a0ba38b0c4fd",
     "locked": true,
     "schema_version": 3,
     "solution": false
    }
   },
   "source": [
    "---\n",
    "# Problem 1: Get Feature Ranking by Recursive Feature Extraction\n",
    "\n",
    "Perform RFE on a Random Forest Regressor and retrieve feature rankings.\n",
    "\n",
    "This problem will use **x** and __y__ created above.\n",
    "\n",
    "To solve this problem do the following:\n",
    "- Create a `RandomForestRegressor` estimator. Set `n_estimators` to 100, `random_state` to 23 and accept default values for all other hyperparameters.\n",
    "- Create a Recursive Feature Estimator `RFE` using the random forest regressor created in step 1 as the `estimator`, set `n_features_to_select ` to 1. Accept default values for other arguments.\n",
    "- Fit the RFE estimator using **x** and __y__.\n",
    "- Retrieve feature rankings from the `RFE` selector's `ranking_` attribute and assign it to variable **feature_ranking**.\n",
    "\n",
    "After this problem, there's a new variable **feature_ranking** defined."
   ]
  },
  {
   "cell_type": "code",
   "execution_count": 3,
   "metadata": {
    "nbgrader": {
     "grade": false,
     "grade_id": "p1-answer",
     "locked": false,
     "schema_version": 3,
     "solution": true
    }
   },
   "outputs": [],
   "source": [
    "from sklearn.ensemble import RandomForestRegressor\n",
    "from sklearn.feature_selection import RFE\n",
    "\n",
    "### BEGIN SOLUTION\n",
    "rfr = RandomForestRegressor(n_estimators=100, random_state=23)\n",
    "rfe = RFE(rfr, 1)\n",
    "rfe.fit(x, y)\n",
    "feature_ranking = rfe.ranking_\n",
    "### END SOLUTION"
   ]
  },
  {
   "cell_type": "code",
   "execution_count": 4,
   "metadata": {
    "nbgrader": {
     "grade": true,
     "grade_id": "p1-test",
     "locked": true,
     "points": 1,
     "schema_version": 3,
     "solution": false
    },
    "scrolled": true
   },
   "outputs": [
    {
     "name": "stdout",
     "output_type": "stream",
     "text": [
      "Feature Ranking:\n",
      "displacement = 1\n",
      "      weight = 2\n",
      "   cylinders = 3\n",
      "  model_year = 4\n",
      "  horsepower = 5\n",
      "acceleration = 6\n",
      "      origin = 7\n"
     ]
    }
   ],
   "source": [
    "assert_equal(feature_ranking.tolist(), [3, 1, 5, 2, 6, 4, 7])\n",
    "# Display feature ranking\n",
    "print('Feature Ranking:')\n",
    "for var, name in sorted(zip(feature_ranking, x.columns), key=lambda x: x[0]):\n",
    "    print(f'{name:>12} = {var}')"
   ]
  },
  {
   "cell_type": "markdown",
   "metadata": {
    "nbgrader": {
     "grade": false,
     "grade_id": "cell-30fe030e9e99b1f5",
     "locked": true,
     "schema_version": 3,
     "solution": false
    }
   },
   "source": [
    "---\n",
    "\n",
    "# Problem 2: Get Accuracy Score of a Random Forest Regressor\n",
    "\n",
    "This problem will use **x_train, x_test, y_train** and __y_test__ created above.\n",
    "\n",
    "Your task for this problem is to build and train a `RandomForestRegressor` estimator on mpg data and calculate the estimator's $R^2$ score.\n",
    "\n",
    "To solve this problem do the following:\n",
    "- Create a `RandomForestRegressor` estimator **rfr**. Set `n_estimators` to 100, `random_state` to 23 and accept default values for all other hyperparameters.\n",
    "- Fit the RandomForestRegressor estimator using x_train and y_train.\n",
    "- Apply rfr `predict` function on x_test to get predicted mpg, save it as **y_pred**.\n",
    "- Use `r2_score` function with y_test and y_pred to get $R^2$ and assign it to variable **r2**.\n",
    "\n",
    "After this problem, there will be a new variable **r2** defined.\n",
    "\n",
    "-----"
   ]
  },
  {
   "cell_type": "code",
   "execution_count": 5,
   "metadata": {
    "nbgrader": {
     "grade": false,
     "grade_id": "p2-answer",
     "locked": false,
     "schema_version": 3,
     "solution": true
    }
   },
   "outputs": [],
   "source": [
    "from sklearn.ensemble import RandomForestRegressor\n",
    "from sklearn.metrics import r2_score\n",
    "\n",
    "### BEGIN SOLUTION\n",
    "rfr = RandomForestRegressor(n_estimators=100, random_state=23)\n",
    "rfr.fit(x_train, y_train)\n",
    "y_pred = rfr.predict(x_test)\n",
    "r2 = r2_score(y_test, y_pred)\n",
    "### END SOLUTION"
   ]
  },
  {
   "cell_type": "code",
   "execution_count": 6,
   "metadata": {
    "nbgrader": {
     "grade": true,
     "grade_id": "p2-test",
     "locked": true,
     "points": 1,
     "schema_version": 3,
     "solution": false
    }
   },
   "outputs": [
    {
     "name": "stdout",
     "output_type": "stream",
     "text": [
      "R2 score: 0.84\n"
     ]
    }
   ],
   "source": [
    "assert_almost_equal(r2, 0.8441667341695959, msg=\"R2 score is not correct\")\n",
    "print(f'R2 score: {r2:4.2f}')"
   ]
  },
  {
   "cell_type": "markdown",
   "metadata": {
    "nbgrader": {
     "grade": false,
     "grade_id": "cell-5415042841073d6a",
     "locked": true,
     "schema_version": 3,
     "solution": false
    }
   },
   "source": [
    "---\n",
    "\n",
    "# Problem 3: Get the Cross Validation Scores\n",
    "\n",
    "Get the cross validation scores for a random forest regressor.\n",
    "\n",
    "This problem will use **x** and __y__ created above.\n",
    "\n",
    "To solve this problem do the following:\n",
    "- Create a `RandomForestRegressor` estimator. Set `n_estimators` to 100, `random_state` to 23 and accept default values for all other hyperparameters.\n",
    "- Create `KFold` iterator. Set `n_splits` to 5 and `random_state` to 23.\n",
    "- Calculate cross validation scores using `cross_val_score` function with the random forest regressor, x, y and the `KFold` iterator. Assign scores to variable **cv_scores**.\n",
    "\n",
    "After this problem, there's a new variable **cv_scores** defined.\n",
    "\n",
    "-----"
   ]
  },
  {
   "cell_type": "code",
   "execution_count": 7,
   "metadata": {
    "nbgrader": {
     "grade": false,
     "grade_id": "p3-answer",
     "locked": false,
     "schema_version": 3,
     "solution": true
    }
   },
   "outputs": [],
   "source": [
    "from sklearn.ensemble import RandomForestRegressor\n",
    "from sklearn.model_selection import KFold\n",
    "from sklearn.model_selection import cross_val_score\n",
    "\n",
    "### BEGIN SOLUTION\n",
    "rfr = RandomForestRegressor(n_estimators=100, random_state=23)\n",
    "skf = KFold(n_splits=5, random_state=2)\n",
    "cv_scores = cross_val_score(rfr, x, y, cv=skf)\n",
    "### END SOLUTION"
   ]
  },
  {
   "cell_type": "code",
   "execution_count": 8,
   "metadata": {
    "nbgrader": {
     "grade": true,
     "grade_id": "p3-test",
     "locked": true,
     "points": 1,
     "schema_version": 3,
     "solution": false
    }
   },
   "outputs": [
    {
     "name": "stdout",
     "output_type": "stream",
     "text": [
      "Average Cross Validation Score: 0.75\n"
     ]
    }
   ],
   "source": [
    "assert_almost_equal(cv_scores[0], 0.88705262, msg='Cross validation scores are not correct')\n",
    "assert_almost_equal(cv_scores[2], 0.85913104, msg='Cross validation scores are not correct')\n",
    "print(f\"Average Cross Validation Score: {np.mean(cv_scores):4.2f}\")"
   ]
  },
  {
   "cell_type": "markdown",
   "metadata": {
    "nbgrader": {
     "grade": false,
     "grade_id": "cell-04a5c3d6a5d2fa7a",
     "locked": true,
     "schema_version": 3,
     "solution": false
    }
   },
   "source": [
    "-----\n",
    "\n",
    "# Prepare Breast Cancer Data\n",
    "\n",
    "For next 2 problems we will use the breast cancer dataset. Before we attempt to build models, we first prepare the data.\n",
    "\n",
    "Please run the next two code cells before proceeding to Problem 4.\n",
    "\n",
    "-----"
   ]
  },
  {
   "cell_type": "code",
   "execution_count": 9,
   "metadata": {
    "nbgrader": {
     "grade": false,
     "grade_id": "cell-067fcf4112b3f798",
     "locked": true,
     "schema_version": 3,
     "solution": false
    }
   },
   "outputs": [],
   "source": [
    "from sklearn.model_selection import train_test_split\n",
    "from sklearn.preprocessing import LabelEncoder\n",
    "\n",
    "#Load breast cancer dataset\n",
    "df = pd.read_csv('data/breast-cancer-wisconsin.csv')\n",
    "#reduce data size\n",
    "df = df.sample(200, random_state=23)\n",
    "label = df['class']\n",
    "data = df[['clump thickness', 'uniformity cell size', 'uniformity cell shape', 'marginal adhesion', 'epithelial cell size', 'bare nuclei', 'bland chromatin', 'normal nucleoli', 'mitoses']]"
   ]
  },
  {
   "cell_type": "markdown",
   "metadata": {
    "nbgrader": {
     "grade": false,
     "grade_id": "cell-b14f916df8f7af19",
     "locked": true,
     "schema_version": 3,
     "solution": false
    }
   },
   "source": [
    "---\n",
    "\n",
    "# Problem 4: Find Best Estimator with Grid Search\n",
    "\n",
    "Conduct grid search cross validation on the random forest classifier and get the best estimator.\n",
    "\n",
    "This problem will use **data** and __label__ created above.\n",
    "\n",
    "To solve this problem do the following:\n",
    "- Create a `RandomForestClassifier` estimator. Set `random_state` to 23.\n",
    "- Create a `StratifiedKFold` iterator with `n_splits` equals 5 and `random_state` equals 23.\n",
    "- Create variable **estimators** with value `[20, 40, 60, 80, 100]`.\n",
    "- Create parameter dictionary **params** and set key to `'n_estimators'` and value to the list `estimators` created in previous step.\n",
    "- Create `GridSearchCV` object **gse**:\n",
    " - Set `estimator` to the random forest classifier estimator.\n",
    " - Set `param_grid` to the parameter dictionary `params`.\n",
    " - Set `cv` to the stratified k-fold iterator.\n",
    "- Fit the `GridSearchCV` object created in previous step using **data** and __label__.\n",
    "- Retrieve the best estimator from the `GridSearchCV` object's `best_estimator_` attribute and assign it to variable **best_estimator_gs**.\n",
    "- Retrieve the best cross validation score from the `GridSearchCV` object's `best_score_` attribute and assign it to variable **best_score_gs**.\n",
    "\n",
    "After this problem, there will be five new variables defined: **estimators, params, gse, best_estimator_gs,** and __best_score_gs__.\n",
    "\n",
    "-----"
   ]
  },
  {
   "cell_type": "code",
   "execution_count": 1,
   "metadata": {
    "nbgrader": {
     "grade": false,
     "grade_id": "p4-answer",
     "locked": false,
     "schema_version": 3,
     "solution": true
    }
   },
   "outputs": [
    {
     "name": "stderr",
     "output_type": "stream",
     "text": [
      "/Users/lindenlu/opt/miniconda3/lib/python3.8/site-packages/sklearn/model_selection/_split.py:293: FutureWarning: Setting a random_state has no effect since shuffle is False. This will raise an error in 0.24. You should leave random_state to its default (None), or set shuffle=True.\n",
      "  warnings.warn(\n"
     ]
    },
    {
     "ename": "NameError",
     "evalue": "name 'data' is not defined",
     "output_type": "error",
     "traceback": [
      "\u001b[0;31m---------------------------------------------------------------------------\u001b[0m",
      "\u001b[0;31mNameError\u001b[0m                                 Traceback (most recent call last)",
      "\u001b[0;32m<ipython-input-1-144de2550947>\u001b[0m in \u001b[0;36m<module>\u001b[0;34m\u001b[0m\n\u001b[1;32m     14\u001b[0m \u001b[0;34m\u001b[0m\u001b[0m\n\u001b[1;32m     15\u001b[0m \u001b[0;31m# Fit estimator\u001b[0m\u001b[0;34m\u001b[0m\u001b[0;34m\u001b[0m\u001b[0;34m\u001b[0m\u001b[0m\n\u001b[0;32m---> 16\u001b[0;31m \u001b[0mgse\u001b[0m\u001b[0;34m.\u001b[0m\u001b[0mfit\u001b[0m\u001b[0;34m(\u001b[0m\u001b[0mdata\u001b[0m\u001b[0;34m,\u001b[0m \u001b[0mlabel\u001b[0m\u001b[0;34m)\u001b[0m\u001b[0;34m\u001b[0m\u001b[0;34m\u001b[0m\u001b[0m\n\u001b[0m\u001b[1;32m     17\u001b[0m \u001b[0;34m\u001b[0m\u001b[0m\n\u001b[1;32m     18\u001b[0m \u001b[0mprint\u001b[0m\u001b[0;34m(\u001b[0m\u001b[0;34mf'Best n_estimators={gse.best_estimator_.get_params()[\"n_estimators\"]:5.4f}'\u001b[0m\u001b[0;34m)\u001b[0m\u001b[0;34m\u001b[0m\u001b[0;34m\u001b[0m\u001b[0m\n",
      "\u001b[0;31mNameError\u001b[0m: name 'data' is not defined"
     ]
    }
   ],
   "source": [
    "from sklearn.ensemble import RandomForestClassifier\n",
    "from sklearn.model_selection import StratifiedKFold, GridSearchCV\n",
    "\n",
    "### BEGIN SOLUTION\n",
    "rfc = RandomForestClassifier(random_state=23)\n",
    "n_estimators = [20, 40, 60, 80, 100]\n",
    "skf = StratifiedKFold(n_splits=5, random_state=23)\n",
    "\n",
    "# Create a dictionary of hyperparameters and values\n",
    "params = {'n_estimators':n_estimators}\n",
    "\n",
    "# Create grid search cross validator\n",
    "gse = GridSearchCV(estimator=rfc, param_grid=params, cv=skf)\n",
    "\n",
    "# Fit estimator\n",
    "gse.fit(data, label)\n",
    "\n",
    "best_estimator_gs = gse.best_estimator_\n",
    "best_score_gs = gse.best_score_\n",
    "### END SOLUTION"
   ]
  },
  {
   "cell_type": "code",
   "execution_count": 11,
   "metadata": {
    "nbgrader": {
     "grade": true,
     "grade_id": "p4-test",
     "locked": true,
     "points": 1,
     "schema_version": 3,
     "solution": false
    }
   },
   "outputs": [
    {
     "name": "stdout",
     "output_type": "stream",
     "text": [
      "Best n_estimators=40\n",
      "Best CV Score = 0.975\n"
     ]
    }
   ],
   "source": [
    "assert_true(20 in gse.get_params()['param_grid']['n_estimators'] and \\\n",
    "            40 in gse.get_params()['param_grid']['n_estimators'] and \\\n",
    "            60 in gse.get_params()['param_grid']['n_estimators'] and \\\n",
    "            80 in gse.get_params()['param_grid']['n_estimators'] and \\\n",
    "            100 in gse.get_params()['param_grid']['n_estimators'], msg='Option of n_estimators is not correct.')\n",
    "assert_is_instance(gse.get_params()['cv'], StratifiedKFold, msg='Cross validation is not StratifiedKFold.')\n",
    "\n",
    "print(f'Best n_estimators={best_estimator_gs.get_params()[\"n_estimators\"]}')\n",
    "print(f'Best CV Score = {best_score_gs:5.3f}')"
   ]
  },
  {
   "cell_type": "markdown",
   "metadata": {
    "nbgrader": {
     "grade": false,
     "grade_id": "cell-a89a17b692fc8a9d",
     "locked": true,
     "schema_version": 3,
     "solution": false
    }
   },
   "source": [
    "---\n",
    "\n",
    "# Problem 5: Find Best Estimator with Random Grid Search\n",
    "\n",
    "Conduct random grid search cross validation on the random forest classifier and get the best estimator.\n",
    "\n",
    "This problem will use **data** and __label__ created above.\n",
    "\n",
    "To solve this problem do the following:\n",
    "- Create a `RandomForestClassifier` estimator. Set `random_state` to 23.\n",
    "- Create a `StratifiedKFold` iterator with `n_splits` equals 5 and `random_state` equals 23.\n",
    "- Create variable **estimators** with value `range(20,100)`.\n",
    "- Create variable __weights__ with value `[None, 'balanced']`.\n",
    "- Create parameter dictionary **params** with two keys, `'n_estimators'` and `'class_weight'`, and two list values `estimators` and `weights` created in previous step.\n",
    "- Create `RandomizedSearchCV` object **rgse**.\n",
    " - Set `estimator` to the random forest classifier estimator.\n",
    " - Set `param_distributions` to the parameter dictionary `params`.\n",
    " - Set `cv` to the stratified k-fold iterator.\n",
    " - Set `n_iter` to 5.\n",
    " - Set `random_state` to 23.\n",
    "- Fit the `RandomizedSearchCV` object created in previous step using **data** and __label__.\n",
    "- Retrieve the best estimator from the `RandomizedSearchCV` object's `best_estimator_` attribute and assign it to variable **best_estimator_rgs**.\n",
    "- Retrieve the best cross validation score from the `RandomizedSearchCV` object's `best_score_` attribute and assign it to variable **best_score_rgs**.\n",
    "\n",
    "After this problem, there will be six new variable defined: **estimators, weights, params, rgse, best_estimator_rgs** and __best_score_rgs__.\n",
    "\n",
    "**Note**: If you get warning messages after running your code, just ignore them.\n",
    "\n",
    "-----"
   ]
  },
  {
   "cell_type": "code",
   "execution_count": 12,
   "metadata": {
    "nbgrader": {
     "grade": false,
     "grade_id": "p5-answer",
     "locked": false,
     "schema_version": 3,
     "solution": true
    }
   },
   "outputs": [
    {
     "name": "stderr",
     "output_type": "stream",
     "text": [
      "/Users/lindenlu/anaconda3/lib/python3.7/site-packages/sklearn/model_selection/_search.py:814: DeprecationWarning: The default of the `iid` parameter will change from True to False in version 0.22 and will be removed in 0.24. This will change numeric results when test-set sizes are unequal.\n",
      "  DeprecationWarning)\n"
     ]
    }
   ],
   "source": [
    "from sklearn.ensemble import RandomForestClassifier\n",
    "from sklearn.model_selection import StratifiedKFold, RandomizedSearchCV\n",
    "\n",
    "### BEGIN SOLUTION\n",
    "rfc = RandomForestClassifier(random_state=23)\n",
    "skf = StratifiedKFold(n_splits=5, random_state=23)\n",
    "\n",
    "estimators = range(20, 100)\n",
    "weights = [None, 'balanced']\n",
    "# Create a dictionary of hyperparameters and values\n",
    "params = {'n_estimators':estimators, 'class_weight':weights}\n",
    "\n",
    "# Create grid search cross validator\n",
    "rgse = RandomizedSearchCV(estimator=rfc, param_distributions=params, n_iter=5, cv=skf, random_state=23)\n",
    "\n",
    "# Fit estimator\n",
    "rgse.fit(data, label)\n",
    "\n",
    "best_estimator_rgs = rgse.best_estimator_\n",
    "best_score_rgs = rgse.best_score_\n",
    "### END SOLUTION"
   ]
  },
  {
   "cell_type": "code",
   "execution_count": 13,
   "metadata": {
    "nbgrader": {
     "grade": true,
     "grade_id": "p5-test",
     "locked": true,
     "points": 1,
     "schema_version": 3,
     "solution": false
    }
   },
   "outputs": [
    {
     "name": "stdout",
     "output_type": "stream",
     "text": [
      "Best n_estimators=49\n",
      "Best class_weight=balanced\n",
      "Best CV Score = 0.975\n"
     ]
    }
   ],
   "source": [
    "assert_equal(min(rgse.get_params()['param_distributions']['n_estimators']), 20, msg=\"n_estimator range is not correct.\")\n",
    "assert_equal(max(rgse.get_params()['param_distributions']['n_estimators']), 99, msg=\"n_estimator range is not correct.\")\n",
    "assert_is_instance(rgse.get_params()['estimator'], RandomForestClassifier, msg=\"estimator is not RandomForestClassifier\")\n",
    "assert_true('balanced' in rgse.get_params()['param_distributions']['class_weight'], msg=\"class_weight option is not correct.\")\n",
    "print(f'Best n_estimators={best_estimator_rgs.get_params()[\"n_estimators\"]}')\n",
    "print(f'Best class_weight={best_estimator_rgs.get_params()[\"class_weight\"]}')\n",
    "print(f'Best CV Score = {best_score_rgs:5.3f}')"
   ]
  }
 ],
 "metadata": {
  "celltoolbar": "Create Assignment",
  "coursera": {
   "course_slug": "data-analytics-accountancy-2",
   "graded_item_id": "GrQNK",
   "launcher_item_id": "m1_assignment"
  },
  "kernelspec": {
   "display_name": "Python 3",
   "language": "python",
   "name": "python3"
  },
  "language_info": {
   "codemirror_mode": {
    "name": "ipython",
    "version": 3
   },
   "file_extension": ".py",
   "mimetype": "text/x-python",
   "name": "python",
   "nbconvert_exporter": "python",
   "pygments_lexer": "ipython3",
   "version": "3.8.5"
  }
 },
 "nbformat": 4,
 "nbformat_minor": 4
}
