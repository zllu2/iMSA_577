{
 "cells": [
  {
   "cell_type": "markdown",
   "metadata": {
    "nbgrader": {
     "grade": false,
     "grade_id": "cell-5fb9ace54ac8eb99",
     "locked": true,
     "schema_version": 3,
     "solution": false
    }
   },
   "source": [
    "# Module 1 Assignment\n",
    "\n",
    "A few things you should keep in mind when working on assignments:\n",
    "\n",
    "1. Run the first code cell to import modules needed by this assignment before proceeding to problems.\n",
    "2. Make sure you fill in any place that says `# YOUR CODE HERE`. Do not write your answer anywhere else other than where it says `# YOUR CODE HERE`. Anything you write elsewhere will be removed or overwritten by the autograder.\n",
    "3. Each problem has an autograder cell below the answer cell. Run the autograder cell to check your answer. If there's anything wrong in your answer, the autograder cell will display error messages.\n",
    "4. Before you submit your assignment, make sure everything runs as expected. Go to the menubar, select Kernel, and Restart & Run all. If the notebook runs through the last code cell without an error message, you've answered all problems correctly.\n",
    "5. Make sure that you save your work (in the menubar, select File → Save and CheckPoint).\n",
    "\n",
    "-----"
   ]
  },
  {
   "cell_type": "markdown",
   "metadata": {
    "nbgrader": {
     "grade": false,
     "grade_id": "cell-b2cd1eba642080da",
     "locked": true,
     "schema_version": 3,
     "solution": false
    }
   },
   "source": [
    "# Run Me First!"
   ]
  },
  {
   "cell_type": "code",
   "execution_count": 1,
   "metadata": {
    "deletable": false,
    "nbgrader": {
     "grade": false,
     "grade_id": "cell-88dd2a72c7ccd97d",
     "locked": true,
     "schema_version": 3,
     "solution": false
    }
   },
   "outputs": [],
   "source": [
    "import pandas as pd\n",
    "import numpy as np\n",
    "\n",
    "from nose.tools import assert_equal, assert_almost_equal, assert_true, assert_is_instance"
   ]
  },
  {
   "cell_type": "markdown",
   "metadata": {
    "nbgrader": {
     "grade": false,
     "grade_id": "cell-12171359a60b47c2",
     "locked": true,
     "schema_version": 3,
     "solution": false
    }
   },
   "source": [
    "---\n",
    "\n",
    "# Problem 1: Read in a dataset\n",
    "\n",
    "For this problem you will read in a dataset using pandas. In the cell below, the function *read_data* has parameter \"file_path\" which contains a path to a dataset.\n",
    "- Use the *read_csv* function from pandas to read in the dataset from the file path.\n",
    "- Drop all rows with missing values from the DataFrame.\n",
    "- Return the DataFrame.\n",
    "\n",
    "-----"
   ]
  },
  {
   "cell_type": "code",
   "execution_count": 2,
   "metadata": {
    "nbgrader": {
     "grade": false,
     "grade_id": "p1-ans",
     "locked": false,
     "schema_version": 3,
     "solution": true
    }
   },
   "outputs": [],
   "source": [
    "def read_data(file_path):\n",
    "    '''\n",
    "    Reads in a dataset using pandas.\n",
    "    Drop all rows with missing values\n",
    "    \n",
    "    Parameters\n",
    "    ----------\n",
    "    file_path : string containing path to a file\n",
    "    \n",
    "    Returns\n",
    "    -------\n",
    "    pandas dataframe with data read in from the file path\n",
    "    '''\n",
    "    ### BEGIN SOLUTION\n",
    "    df = pd.read_csv(file_path)\n",
    "    return df.dropna()\n",
    "    ### END SOLUTION"
   ]
  },
  {
   "cell_type": "code",
   "execution_count": 3,
   "metadata": {
    "nbgrader": {
     "grade": true,
     "grade_id": "p1-test",
     "locked": true,
     "points": 1,
     "schema_version": 3,
     "solution": false
    }
   },
   "outputs": [
    {
     "name": "stdout",
     "output_type": "stream",
     "text": [
      "2 random rows of the dataset mpg:\n"
     ]
    },
    {
     "data": {
      "text/html": [
       "<div>\n",
       "<style scoped>\n",
       "    .dataframe tbody tr th:only-of-type {\n",
       "        vertical-align: middle;\n",
       "    }\n",
       "\n",
       "    .dataframe tbody tr th {\n",
       "        vertical-align: top;\n",
       "    }\n",
       "\n",
       "    .dataframe thead th {\n",
       "        text-align: right;\n",
       "    }\n",
       "</style>\n",
       "<table border=\"1\" class=\"dataframe\">\n",
       "  <thead>\n",
       "    <tr style=\"text-align: right;\">\n",
       "      <th></th>\n",
       "      <th>mpg</th>\n",
       "      <th>cylinders</th>\n",
       "      <th>displacement</th>\n",
       "      <th>horsepower</th>\n",
       "      <th>weight</th>\n",
       "      <th>acceleration</th>\n",
       "      <th>model_year</th>\n",
       "      <th>origin</th>\n",
       "      <th>name</th>\n",
       "    </tr>\n",
       "  </thead>\n",
       "  <tbody>\n",
       "    <tr>\n",
       "      <td>290</td>\n",
       "      <td>18.5</td>\n",
       "      <td>8</td>\n",
       "      <td>360.0</td>\n",
       "      <td>150.0</td>\n",
       "      <td>3940</td>\n",
       "      <td>13.0</td>\n",
       "      <td>79</td>\n",
       "      <td>usa</td>\n",
       "      <td>chrysler lebaron town @ country (sw)</td>\n",
       "    </tr>\n",
       "    <tr>\n",
       "      <td>244</td>\n",
       "      <td>32.8</td>\n",
       "      <td>4</td>\n",
       "      <td>78.0</td>\n",
       "      <td>52.0</td>\n",
       "      <td>1985</td>\n",
       "      <td>19.4</td>\n",
       "      <td>78</td>\n",
       "      <td>japan</td>\n",
       "      <td>mazda glc deluxe</td>\n",
       "    </tr>\n",
       "  </tbody>\n",
       "</table>\n",
       "</div>"
      ],
      "text/plain": [
       "      mpg  cylinders  displacement  horsepower  weight  acceleration  \\\n",
       "290  18.5          8         360.0       150.0    3940          13.0   \n",
       "244  32.8          4          78.0        52.0    1985          19.4   \n",
       "\n",
       "     model_year origin                                  name  \n",
       "290          79    usa  chrysler lebaron town @ country (sw)  \n",
       "244          78  japan                      mazda glc deluxe  "
      ]
     },
     "execution_count": 3,
     "metadata": {},
     "output_type": "execute_result"
    }
   ],
   "source": [
    "mpg = read_data('data/mpg.csv')\n",
    "assert_equal(type(mpg), pd.core.frame.DataFrame, msg=\"Your function does't return a dataframe\")\n",
    "assert_equal(len(mpg), 392, msg=\"The dataset should have 392 rows. Your solution has %s\"%len(mpg))\n",
    "\n",
    "print(\"2 random rows of the dataset mpg:\")\n",
    "mpg.sample(2)"
   ]
  },
  {
   "cell_type": "markdown",
   "metadata": {
    "nbgrader": {
     "grade": false,
     "grade_id": "cell-b123c07d7cb52a7a",
     "locked": true,
     "schema_version": 3,
     "solution": false
    }
   },
   "source": [
    "---\n",
    "\n",
    "# Problem 2: Encode \"origin\" column\n",
    "\n",
    "For this problem you will work on the DataFrame `mpg` created from problem 1 autograder cell.\n",
    "\n",
    "- One-hot encode the categorical feature 'origin' using `get_dummies` in Pandas module. \n",
    "- Set the prefix of dummy columns to 'origin'.\n",
    "- Assign the resulting DataFrame to `mpg_onehot`.\n",
    "\n",
    "After this problem, DataFrame `mpg_onehot` should have three dummy features, `origin_europe`, `origin_japan` and `origin_usa`, in addition to columns in DataFrame mpg (excluding `origin`).\n",
    "\n",
    "-----"
   ]
  },
  {
   "cell_type": "code",
   "execution_count": 4,
   "metadata": {
    "nbgrader": {
     "grade": false,
     "grade_id": "p2-ans",
     "locked": false,
     "schema_version": 3,
     "solution": true
    }
   },
   "outputs": [],
   "source": [
    "### BEGIN SOLUTION\n",
    "mpg_onehot = pd.get_dummies(mpg, columns=[\"origin\"], prefix=[\"origin\"])\n",
    "### END SOLUTION"
   ]
  },
  {
   "cell_type": "code",
   "execution_count": 5,
   "metadata": {
    "nbgrader": {
     "grade": true,
     "grade_id": "p2-test",
     "locked": true,
     "points": 1,
     "schema_version": 3,
     "solution": false
    }
   },
   "outputs": [
    {
     "data": {
      "text/html": [
       "<div>\n",
       "<style scoped>\n",
       "    .dataframe tbody tr th:only-of-type {\n",
       "        vertical-align: middle;\n",
       "    }\n",
       "\n",
       "    .dataframe tbody tr th {\n",
       "        vertical-align: top;\n",
       "    }\n",
       "\n",
       "    .dataframe thead th {\n",
       "        text-align: right;\n",
       "    }\n",
       "</style>\n",
       "<table border=\"1\" class=\"dataframe\">\n",
       "  <thead>\n",
       "    <tr style=\"text-align: right;\">\n",
       "      <th></th>\n",
       "      <th>mpg</th>\n",
       "      <th>cylinders</th>\n",
       "      <th>displacement</th>\n",
       "      <th>horsepower</th>\n",
       "      <th>weight</th>\n",
       "      <th>acceleration</th>\n",
       "      <th>model_year</th>\n",
       "      <th>name</th>\n",
       "      <th>origin_europe</th>\n",
       "      <th>origin_japan</th>\n",
       "      <th>origin_usa</th>\n",
       "    </tr>\n",
       "  </thead>\n",
       "  <tbody>\n",
       "    <tr>\n",
       "      <td>55</td>\n",
       "      <td>26.0</td>\n",
       "      <td>4</td>\n",
       "      <td>91.0</td>\n",
       "      <td>70.0</td>\n",
       "      <td>1955</td>\n",
       "      <td>20.5</td>\n",
       "      <td>71</td>\n",
       "      <td>plymouth cricket</td>\n",
       "      <td>0</td>\n",
       "      <td>0</td>\n",
       "      <td>1</td>\n",
       "    </tr>\n",
       "    <tr>\n",
       "      <td>70</td>\n",
       "      <td>19.0</td>\n",
       "      <td>3</td>\n",
       "      <td>70.0</td>\n",
       "      <td>97.0</td>\n",
       "      <td>2330</td>\n",
       "      <td>13.5</td>\n",
       "      <td>72</td>\n",
       "      <td>mazda rx2 coupe</td>\n",
       "      <td>0</td>\n",
       "      <td>1</td>\n",
       "      <td>0</td>\n",
       "    </tr>\n",
       "    <tr>\n",
       "      <td>313</td>\n",
       "      <td>24.3</td>\n",
       "      <td>4</td>\n",
       "      <td>151.0</td>\n",
       "      <td>90.0</td>\n",
       "      <td>3003</td>\n",
       "      <td>20.1</td>\n",
       "      <td>80</td>\n",
       "      <td>amc concord</td>\n",
       "      <td>0</td>\n",
       "      <td>0</td>\n",
       "      <td>1</td>\n",
       "    </tr>\n",
       "    <tr>\n",
       "      <td>179</td>\n",
       "      <td>33.0</td>\n",
       "      <td>4</td>\n",
       "      <td>91.0</td>\n",
       "      <td>53.0</td>\n",
       "      <td>1795</td>\n",
       "      <td>17.5</td>\n",
       "      <td>75</td>\n",
       "      <td>honda civic cvcc</td>\n",
       "      <td>0</td>\n",
       "      <td>1</td>\n",
       "      <td>0</td>\n",
       "    </tr>\n",
       "    <tr>\n",
       "      <td>307</td>\n",
       "      <td>41.5</td>\n",
       "      <td>4</td>\n",
       "      <td>98.0</td>\n",
       "      <td>76.0</td>\n",
       "      <td>2144</td>\n",
       "      <td>14.7</td>\n",
       "      <td>80</td>\n",
       "      <td>vw rabbit</td>\n",
       "      <td>1</td>\n",
       "      <td>0</td>\n",
       "      <td>0</td>\n",
       "    </tr>\n",
       "  </tbody>\n",
       "</table>\n",
       "</div>"
      ],
      "text/plain": [
       "      mpg  cylinders  displacement  horsepower  weight  acceleration  \\\n",
       "55   26.0          4          91.0        70.0    1955          20.5   \n",
       "70   19.0          3          70.0        97.0    2330          13.5   \n",
       "313  24.3          4         151.0        90.0    3003          20.1   \n",
       "179  33.0          4          91.0        53.0    1795          17.5   \n",
       "307  41.5          4          98.0        76.0    2144          14.7   \n",
       "\n",
       "     model_year              name  origin_europe  origin_japan  origin_usa  \n",
       "55           71  plymouth cricket              0             0           1  \n",
       "70           72   mazda rx2 coupe              0             1           0  \n",
       "313          80       amc concord              0             0           1  \n",
       "179          75  honda civic cvcc              0             1           0  \n",
       "307          80         vw rabbit              1             0           0  "
      ]
     },
     "execution_count": 5,
     "metadata": {},
     "output_type": "execute_result"
    }
   ],
   "source": [
    "assert_true('origin_europe' in mpg_onehot.columns, msg=\"mpg doesn't have 'origin_europe' column\")\n",
    "assert_true('origin_japan' in mpg_onehot.columns, msg=\"mpg doesn't have 'origin_japan' column\")\n",
    "assert_true('origin_usa' in mpg_onehot.columns, msg=\"mpg doesn't have 'origin_usa' column\")\n",
    "mpg_onehot.sample(5, random_state=2)"
   ]
  },
  {
   "cell_type": "markdown",
   "metadata": {
    "nbgrader": {
     "grade": false,
     "grade_id": "cell-0bd8ccf5e00ce321",
     "locked": true,
     "schema_version": 3,
     "solution": false
    }
   },
   "source": [
    "---\n",
    "\n",
    "# Problem 3: Define and split independent and dependent variables\n",
    "\n",
    "For this problem you will work on the DataFrame `mpg_onehot` created from problem 2.\n",
    "\n",
    "To complete this process, do the following:\n",
    "\n",
    "- Choose column 'mpg' in DataFrame `mpg_onehot` as dependent variable, set it to variable **y**.\n",
    "- Choose columns 'displacement', 'horsepower', 'acceleration' in DataFrame `mpg_onehot` as independent variable, set it to variable **x**.\n",
    "- Split dependent and independent variable to training and testing set.\n",
    "- Name the training and testing independent variable to x_train and x_test.\n",
    "- Name the training and testing dependent variable to y_train and y_test.\n",
    "- The `test_size` argument in train_test_split should be set to 0.4.\n",
    "- The `random_state` argument in train_test_split should be set to 23.\n",
    "\n",
    "After this problem, there are 6 new variables defined, **x, y, x_train, x_test, y_train, y_test**.\n",
    "\n",
    "-----"
   ]
  },
  {
   "cell_type": "code",
   "execution_count": 6,
   "metadata": {
    "nbgrader": {
     "grade": false,
     "grade_id": "p3-ans",
     "locked": false,
     "schema_version": 3,
     "solution": true
    }
   },
   "outputs": [],
   "source": [
    "from sklearn.model_selection import train_test_split\n",
    "\n",
    "### BEGIN SOLUTION\n",
    "x = mpg_onehot[['displacement','horsepower','acceleration']]\n",
    "y = mpg_onehot['mpg']\n",
    "x_train, x_test, y_train, y_test = train_test_split(x, y, test_size=0.4, random_state=23)\n",
    "### END SOLUTION"
   ]
  },
  {
   "cell_type": "code",
   "execution_count": 7,
   "metadata": {
    "nbgrader": {
     "grade": true,
     "grade_id": "p3-test",
     "locked": true,
     "points": 1,
     "schema_version": 3,
     "solution": false
    }
   },
   "outputs": [
    {
     "data": {
      "text/html": [
       "<div>\n",
       "<style scoped>\n",
       "    .dataframe tbody tr th:only-of-type {\n",
       "        vertical-align: middle;\n",
       "    }\n",
       "\n",
       "    .dataframe tbody tr th {\n",
       "        vertical-align: top;\n",
       "    }\n",
       "\n",
       "    .dataframe thead th {\n",
       "        text-align: right;\n",
       "    }\n",
       "</style>\n",
       "<table border=\"1\" class=\"dataframe\">\n",
       "  <thead>\n",
       "    <tr style=\"text-align: right;\">\n",
       "      <th></th>\n",
       "      <th>displacement</th>\n",
       "      <th>horsepower</th>\n",
       "      <th>acceleration</th>\n",
       "    </tr>\n",
       "  </thead>\n",
       "  <tbody>\n",
       "    <tr>\n",
       "      <td>306</td>\n",
       "      <td>151.0</td>\n",
       "      <td>90.0</td>\n",
       "      <td>13.2</td>\n",
       "    </tr>\n",
       "    <tr>\n",
       "      <td>99</td>\n",
       "      <td>250.0</td>\n",
       "      <td>88.0</td>\n",
       "      <td>16.5</td>\n",
       "    </tr>\n",
       "  </tbody>\n",
       "</table>\n",
       "</div>"
      ],
      "text/plain": [
       "     displacement  horsepower  acceleration\n",
       "306         151.0        90.0          13.2\n",
       "99          250.0        88.0          16.5"
      ]
     },
     "execution_count": 7,
     "metadata": {},
     "output_type": "execute_result"
    }
   ],
   "source": [
    "assert_equal(type(x), pd.core.frame.DataFrame, msg=\"x should be a DataFrame\")\n",
    "assert_equal(type(y), pd.core.frame.Series, msg=\"x should be a Series\")\n",
    "assert_equal(len(x.columns), 3, msg=\"x should have 3 columns\")\n",
    "assert_true('displacement' in x.columns, msg=\"origin_usa is not in the independent variable\")\n",
    "assert_equal(y[0], 18, msg=\"dependent variable values are not right\")\n",
    "assert_equal(x_train.shape, (235, 3), msg=\"Independent training dataset size is not correct\")\n",
    "assert_equal(x_test.shape, (157, 3), msg=\"Independent testing dataset size is not correct\")\n",
    "x_train.sample(2)"
   ]
  },
  {
   "cell_type": "markdown",
   "metadata": {
    "nbgrader": {
     "grade": false,
     "grade_id": "cell-a8e599edbe9c6fe0",
     "locked": true,
     "schema_version": 3,
     "solution": false
    }
   },
   "source": [
    "-----\n",
    "\n",
    "# Problem 4: Standardize dataset\n",
    "\n",
    "This problem works on the variables **x_train** and __x_test__ created in problem 3.\n",
    "\n",
    "Standardize training and testing independent variables using `StandardScaler`.\n",
    "\n",
    "To complete this process, do the following:\n",
    "\n",
    "- Create `StandardScaler` object and fit it with `x_train`.\n",
    "- Transform `x_train` and assign transformed data to `x_train_ss`.\n",
    "- Transform `x_test` and assign transformed data to `x_test_ss`.\n",
    "\n",
    "After this problem, there are 2 new variables created, **x_train_ss** and __x_test_ss__.\n",
    "\n",
    "-----"
   ]
  },
  {
   "cell_type": "code",
   "execution_count": 8,
   "metadata": {
    "nbgrader": {
     "grade": false,
     "grade_id": "p4-ans",
     "locked": false,
     "schema_version": 3,
     "solution": true
    }
   },
   "outputs": [],
   "source": [
    "from sklearn.preprocessing import StandardScaler\n",
    "\n",
    "### BEGIN SOLUTION\n",
    "# Create and fit scaler\n",
    "ss = StandardScaler().fit(x_train)\n",
    "x_train_ss = ss.transform(x_train)\n",
    "x_test_ss = ss.transform(x_test)\n",
    "### END SOLUTION"
   ]
  },
  {
   "cell_type": "code",
   "execution_count": 9,
   "metadata": {
    "nbgrader": {
     "grade": true,
     "grade_id": "p4-test",
     "locked": true,
     "points": 1,
     "schema_version": 3,
     "solution": false
    }
   },
   "outputs": [],
   "source": [
    "assert_almost_equal(x_train_ss[0][2], 1.17940189, msg=\"Training set is not standardized correctly\")\n",
    "assert_almost_equal(x_test_ss[0][0], -0.74018877, msg=\"Testing set is not standardized correctly\")"
   ]
  },
  {
   "cell_type": "markdown",
   "metadata": {
    "nbgrader": {
     "grade": false,
     "grade_id": "cell-2e8febc890c84100",
     "locked": true,
     "schema_version": 3,
     "solution": false
    }
   },
   "source": [
    "-----\n",
    "\n",
    "# Problem 5: Scale dataset\n",
    "\n",
    "This problem works on the variables **x_train** and __x_test__ created in problem 3.\n",
    "\n",
    "Scale training and testing independent variables using `MinMaxScaler`.\n",
    "\n",
    "To complete this process, do the following:\n",
    "\n",
    "- Create `MinMaxScaler` object and fit it with `x_train`.\n",
    "- Transform `x_train` and assign transformed data to `x_train_mm`.\n",
    "- Transform `x_test` and assign transformed data to `x_test_mm`.\n",
    "\n",
    "After this problem, there are 2 new variables created, **x_train_mm** and __x_test_mm__.\n",
    "\n",
    "-----"
   ]
  },
  {
   "cell_type": "code",
   "execution_count": 10,
   "metadata": {
    "nbgrader": {
     "grade": false,
     "grade_id": "p5-ans",
     "locked": false,
     "schema_version": 3,
     "solution": true
    }
   },
   "outputs": [],
   "source": [
    "from sklearn.preprocessing import MinMaxScaler\n",
    "\n",
    "### BEGIN SOLUTION\n",
    "# Create and fit scaler\n",
    "mm = MinMaxScaler().fit(x_train)\n",
    "x_train_mm = mm.transform(x_train)\n",
    "x_test_mm = mm.transform(x_test)\n",
    "### END SOLUTION"
   ]
  },
  {
   "cell_type": "code",
   "execution_count": 11,
   "metadata": {
    "nbgrader": {
     "grade": true,
     "grade_id": "p5-test",
     "locked": true,
     "points": 1,
     "schema_version": 3,
     "solution": false
    }
   },
   "outputs": [],
   "source": [
    "assert_almost_equal(x_train_mm[0][0], 0.40673575129533684, msg=\"Training set is not scaled correctly\")\n",
    "assert_almost_equal(x_test_mm[0][0], 0.12435233160621761, msg=\"Testing set is not scaled correctly\")"
   ]
  }
 ],
 "metadata": {
  "celltoolbar": "Create Assignment",
  "coursera": {
   "course_slug": "data-analytics-accountancy-2",
   "graded_item_id": "GrQNK",
   "launcher_item_id": "m1_assignment"
  },
  "kernelspec": {
   "display_name": "Python 3",
   "language": "python",
   "name": "python3"
  },
  "language_info": {
   "codemirror_mode": {
    "name": "ipython",
    "version": 3
   },
   "file_extension": ".py",
   "mimetype": "text/x-python",
   "name": "python",
   "nbconvert_exporter": "python",
   "pygments_lexer": "ipython3",
   "version": "3.7.3"
  }
 },
 "nbformat": 4,
 "nbformat_minor": 4
}
