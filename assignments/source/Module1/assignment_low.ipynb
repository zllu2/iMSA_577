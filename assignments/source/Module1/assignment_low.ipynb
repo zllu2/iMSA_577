{
 "cells": [
  {
   "cell_type": "markdown",
   "metadata": {
    "nbgrader": {
     "grade": false,
     "grade_id": "cell-9fe3edd84ede6fcf",
     "locked": true,
     "schema_version": 1,
     "solution": false
    }
   },
   "source": [
    "# Module 1 Assignment\n",
    "\n",
    "A few things you should keep in mind when working on assignments:\n",
    "\n",
    "1. Run the first code cell to import modules needed by this assignment before proceeding to problems.\n",
    "2. Make sure you fill in any place that says `# YOUR CODE HERE`. Do not write your answer anywhere else other than where it says `# YOUR CODE HERE`. Anything you write elsewhere will be removed or overwritten by the autograder.\n",
    "3. Each problem has an autograder cell below the answer cell. Run the autograder cell to check your answer. If there's anything wrong in your answer, the autograder cell will display error messages.\n",
    "4. Before you submit your assignment, make sure everything runs as expected. Go to the menubar, select Kernel, and Restart & Run all. If the notebook runs through the last code cell without error message, you've answered all problems correctly.\n",
    "5. Make sure that you save your work (in the menubar, select File → Save and CheckPoint).\n",
    "\n",
    "-----"
   ]
  },
  {
   "cell_type": "markdown",
   "metadata": {
    "nbgrader": {
     "grade": false,
     "grade_id": "cell-31752648086a10b5",
     "locked": true,
     "schema_version": 1,
     "solution": false
    }
   },
   "source": [
    "# Run Me First!"
   ]
  },
  {
   "cell_type": "code",
   "execution_count": 1,
   "metadata": {
    "deletable": false,
    "nbgrader": {
     "grade": false,
     "grade_id": "cell-88dd2a72c7ccd97d",
     "locked": true,
     "schema_version": 1,
     "solution": false
    }
   },
   "outputs": [],
   "source": [
    "import pandas as pd\n",
    "import numpy as np\n",
    "import seaborn as sns\n",
    "\n",
    "from nose.tools import assert_equal, assert_almost_equal, assert_true, assert_is_instance"
   ]
  },
  {
   "cell_type": "markdown",
   "metadata": {
    "nbgrader": {
     "grade": false,
     "grade_id": "cell-b14f916df8f7af19",
     "locked": true,
     "schema_version": 1,
     "solution": false
    }
   },
   "source": [
    "---\n",
    "\n",
    "# Problem 1: Read in a dataset\n",
    "\n",
    "For this problem you will read in a dataset using pandas. In the cell below, the function *read_data* has parameter \"file_path\" which contains a path to a dataset.\n",
    "- Use the *read_csv* function from pandas to read in the dataset from the file path and return the resulting dataframe.\n",
    "\n",
    "-----"
   ]
  },
  {
   "cell_type": "code",
   "execution_count": 2,
   "metadata": {
    "nbgrader": {
     "grade": false,
     "grade_id": "p1-ans",
     "locked": false,
     "schema_version": 1,
     "solution": true
    }
   },
   "outputs": [],
   "source": [
    "def read_data(file_path):\n",
    "    '''\n",
    "    Reads in a dataset using pandas.\n",
    "    \n",
    "    Parameters\n",
    "    ----------\n",
    "    file_path : string containing path to a file\n",
    "    \n",
    "    Returns\n",
    "    -------\n",
    "    pandas dataframe with data read in from the file path\n",
    "    '''\n",
    "    ### BEGIN SOLUTION\n",
    "    df = pd.read_csv(file_path)\n",
    "    return df\n",
    "    ### END SOLUTION"
   ]
  },
  {
   "cell_type": "code",
   "execution_count": 3,
   "metadata": {
    "nbgrader": {
     "grade": true,
     "grade_id": "p1-test",
     "locked": true,
     "points": 1,
     "schema_version": 1,
     "solution": false
    }
   },
   "outputs": [
    {
     "name": "stdout",
     "output_type": "stream",
     "text": [
      "2 random rows of the dataset tips:\n"
     ]
    },
    {
     "data": {
      "text/html": [
       "<div>\n",
       "<style scoped>\n",
       "    .dataframe tbody tr th:only-of-type {\n",
       "        vertical-align: middle;\n",
       "    }\n",
       "\n",
       "    .dataframe tbody tr th {\n",
       "        vertical-align: top;\n",
       "    }\n",
       "\n",
       "    .dataframe thead th {\n",
       "        text-align: right;\n",
       "    }\n",
       "</style>\n",
       "<table border=\"1\" class=\"dataframe\">\n",
       "  <thead>\n",
       "    <tr style=\"text-align: right;\">\n",
       "      <th></th>\n",
       "      <th>total_bill</th>\n",
       "      <th>tip</th>\n",
       "      <th>sex</th>\n",
       "      <th>smoker</th>\n",
       "      <th>day</th>\n",
       "      <th>time</th>\n",
       "      <th>size</th>\n",
       "    </tr>\n",
       "  </thead>\n",
       "  <tbody>\n",
       "    <tr>\n",
       "      <th>0</th>\n",
       "      <td>16.99</td>\n",
       "      <td>1.01</td>\n",
       "      <td>Female</td>\n",
       "      <td>No</td>\n",
       "      <td>Sun</td>\n",
       "      <td>Dinner</td>\n",
       "      <td>2</td>\n",
       "    </tr>\n",
       "    <tr>\n",
       "      <th>101</th>\n",
       "      <td>15.38</td>\n",
       "      <td>3.00</td>\n",
       "      <td>Female</td>\n",
       "      <td>Yes</td>\n",
       "      <td>Fri</td>\n",
       "      <td>Dinner</td>\n",
       "      <td>2</td>\n",
       "    </tr>\n",
       "  </tbody>\n",
       "</table>\n",
       "</div>"
      ],
      "text/plain": [
       "     total_bill   tip     sex smoker  day    time  size\n",
       "0         16.99  1.01  Female     No  Sun  Dinner     2\n",
       "101       15.38  3.00  Female    Yes  Fri  Dinner     2"
      ]
     },
     "execution_count": 3,
     "metadata": {},
     "output_type": "execute_result"
    }
   ],
   "source": [
    "tips = read_data('data/tips.csv')\n",
    "assert_equal(type(tips), pd.core.frame.DataFrame, msg=\"Your function does't return a dataframe\")\n",
    "assert_equal(len(tips), 244, msg=\"The dataset should have 244 rows. Your solution only has %s\"%len(tips))\n",
    "\n",
    "print(\"2 random rows of the dataset tips:\")\n",
    "tips.sample(2)"
   ]
  },
  {
   "cell_type": "markdown",
   "metadata": {
    "nbgrader": {
     "grade": false,
     "grade_id": "cell-b123c07d7cb52a7a",
     "locked": true,
     "schema_version": 1,
     "solution": false
    }
   },
   "source": [
    "---\n",
    "\n",
    "# Problem 2: Encode \"sex\" column\n",
    "\n",
    "For this problem you will work on the DataFrame `tips` created from problem 1 autograder cell.\n",
    "\n",
    "Encode the categorical feature 'sex' by using `LabelEncoder`. Store encoded sex in a new column named 'sex_code'.\n",
    "\n",
    "After this problem, DataFrame tips should have one more column 'sex_code' in addition to orignal columns.\n",
    "\n",
    "-----"
   ]
  },
  {
   "cell_type": "code",
   "execution_count": 4,
   "metadata": {
    "nbgrader": {
     "grade": false,
     "grade_id": "p2-ans",
     "locked": false,
     "schema_version": 1,
     "solution": true
    }
   },
   "outputs": [],
   "source": [
    "from sklearn.preprocessing import LabelEncoder\n",
    "\n",
    "### BEGIN SOLUTION\n",
    "le = LabelEncoder()\n",
    "tips['sex_code'] = le.fit_transform(tips.sex)\n",
    "### END SOLUTION"
   ]
  },
  {
   "cell_type": "code",
   "execution_count": 5,
   "metadata": {
    "nbgrader": {
     "grade": true,
     "grade_id": "p2-test",
     "locked": true,
     "points": 1,
     "schema_version": 1,
     "solution": false
    }
   },
   "outputs": [
    {
     "data": {
      "text/html": [
       "<div>\n",
       "<style scoped>\n",
       "    .dataframe tbody tr th:only-of-type {\n",
       "        vertical-align: middle;\n",
       "    }\n",
       "\n",
       "    .dataframe tbody tr th {\n",
       "        vertical-align: top;\n",
       "    }\n",
       "\n",
       "    .dataframe thead th {\n",
       "        text-align: right;\n",
       "    }\n",
       "</style>\n",
       "<table border=\"1\" class=\"dataframe\">\n",
       "  <thead>\n",
       "    <tr style=\"text-align: right;\">\n",
       "      <th></th>\n",
       "      <th>total_bill</th>\n",
       "      <th>tip</th>\n",
       "      <th>sex</th>\n",
       "      <th>smoker</th>\n",
       "      <th>day</th>\n",
       "      <th>time</th>\n",
       "      <th>size</th>\n",
       "      <th>sex_code</th>\n",
       "    </tr>\n",
       "  </thead>\n",
       "  <tbody>\n",
       "    <tr>\n",
       "      <th>0</th>\n",
       "      <td>16.99</td>\n",
       "      <td>1.01</td>\n",
       "      <td>Female</td>\n",
       "      <td>No</td>\n",
       "      <td>Sun</td>\n",
       "      <td>Dinner</td>\n",
       "      <td>2</td>\n",
       "      <td>0</td>\n",
       "    </tr>\n",
       "    <tr>\n",
       "      <th>1</th>\n",
       "      <td>10.34</td>\n",
       "      <td>1.66</td>\n",
       "      <td>Male</td>\n",
       "      <td>No</td>\n",
       "      <td>Sun</td>\n",
       "      <td>Dinner</td>\n",
       "      <td>3</td>\n",
       "      <td>1</td>\n",
       "    </tr>\n",
       "  </tbody>\n",
       "</table>\n",
       "</div>"
      ],
      "text/plain": [
       "   total_bill   tip     sex smoker  day    time  size  sex_code\n",
       "0       16.99  1.01  Female     No  Sun  Dinner     2         0\n",
       "1       10.34  1.66    Male     No  Sun  Dinner     3         1"
      ]
     },
     "execution_count": 5,
     "metadata": {},
     "output_type": "execute_result"
    }
   ],
   "source": [
    "assert_true('sex_code' in tips.columns, msg=\"tips doesn't have 'sex_code' column\")\n",
    "assert_true(0 in tips.sex_code.unique(), msg=\"sex is not properly encoded\")\n",
    "assert_true(1 in tips.sex_code.unique(), msg=\"sex is not properly encoded\")\n",
    "tips.head(2)"
   ]
  },
  {
   "cell_type": "markdown",
   "metadata": {
    "nbgrader": {
     "grade": false,
     "grade_id": "cell-0bd8ccf5e00ce321",
     "locked": true,
     "schema_version": 1,
     "solution": false
    }
   },
   "source": [
    "---\n",
    "\n",
    "# Problem 3: Define independent variable and dependent variable\n",
    "\n",
    "For this problem you will work on the DataFrame `tips` created from problem 1 and updated by problem 2.\n",
    "\n",
    "In the problem, you will prepare dependent and independent variables from DataFrame tips for a regression problem.\n",
    "\n",
    "To complete this process, do the following:  \n",
    "\n",
    "Define dependent variable y which is the 'tip' column.  \n",
    "Define independent variable x which contains 'total_bill' and 'sex_code' columns.\n",
    "\n",
    "After this problem, there are two new variables defined, **x** and __y__. y is a Pandas Series and x is a Pandas DataFrame with two columns.\n",
    "\n",
    "-----"
   ]
  },
  {
   "cell_type": "code",
   "execution_count": 6,
   "metadata": {
    "nbgrader": {
     "grade": false,
     "grade_id": "p3-ans",
     "locked": false,
     "schema_version": 1,
     "solution": true
    }
   },
   "outputs": [],
   "source": [
    "### BEGIN SOLUTION\n",
    "x = tips[['total_bill', 'sex_code']]\n",
    "y = tips['tip']\n",
    "### END SOLUTION"
   ]
  },
  {
   "cell_type": "code",
   "execution_count": 7,
   "metadata": {
    "nbgrader": {
     "grade": true,
     "grade_id": "p3-test",
     "locked": true,
     "points": 1,
     "schema_version": 1,
     "solution": false
    }
   },
   "outputs": [],
   "source": [
    "assert_equal(type(x), pd.core.frame.DataFrame, msg=\"x should be a DataFrame\")\n",
    "assert_equal(type(y), pd.core.frame.Series, msg=\"x should be a Series\")\n",
    "assert_equal(len(x.columns), 2, msg=\"x should have two columns\")\n",
    "assert_true('sex_code' in x.columns, msg=\"sex_code is not in the independent variable list\")\n",
    "assert_equal(y[0], 1.01, msg=\"dependent variable values are not right\")"
   ]
  },
  {
   "cell_type": "markdown",
   "metadata": {
    "nbgrader": {
     "grade": false,
     "grade_id": "cell-a8e599edbe9c6fe0",
     "locked": true,
     "schema_version": 1,
     "solution": false
    }
   },
   "source": [
    "-----\n",
    "\n",
    "# Problem 4: Create the Training and Testing Datasets\n",
    "\n",
    "This problem works on the variables **x** and __y__ created in problem 3.\n",
    "\n",
    "Splite the independent and dependent variables to training and testing set.\n",
    "\n",
    "To complete this process, do the following:\n",
    "\n",
    "- Name the training and testing independent variable to x_train and x_test\n",
    "- Name the training and testing dependent variable to y_train and y_test\n",
    "- The `test_size` argument in `train_test_split` should be set to 0.3.\n",
    "- The `random_state` argument in `train_test_split` should be set to 23.\n",
    "\n",
    "After this problem, there are 4 new variables defined, x_train, x_test, y_train and y_test\n",
    "\n",
    "-----"
   ]
  },
  {
   "cell_type": "code",
   "execution_count": 8,
   "metadata": {
    "nbgrader": {
     "grade": false,
     "grade_id": "p4-ans",
     "locked": false,
     "schema_version": 1,
     "solution": true
    }
   },
   "outputs": [],
   "source": [
    "from sklearn.model_selection import train_test_split\n",
    "\n",
    "### BEGIN SOLUTION\n",
    "x_train, x_test, y_train, y_test = train_test_split(x, y, test_size=0.3, random_state=23)\n",
    "### END SOLUTION"
   ]
  },
  {
   "cell_type": "code",
   "execution_count": 9,
   "metadata": {
    "nbgrader": {
     "grade": true,
     "grade_id": "p4-test",
     "locked": true,
     "points": 1,
     "schema_version": 1,
     "solution": false
    }
   },
   "outputs": [],
   "source": [
    "assert_equal(x_train.shape[0], 170, msg=\"Training set doesn't have correct size\")\n",
    "assert_equal(x_test.shape[0], 74, msg=\"Testing set doesn't have correct size\")\n",
    "\n",
    "# Test independent values\n",
    "assert_equal(x_train.total_bill[0], 16.99, msg=\"Training indenpendent data is wrong\")\n",
    "assert_equal(y_train[0], 1.01, msg=\"Training dependent data is wrong\")\n"
   ]
  }
 ],
 "metadata": {
  "celltoolbar": "Create Assignment",
  "coursera": {
   "course_slug": "data-analytics-accountancy-2",
   "graded_item_id": "GrQNK",
   "launcher_item_id": "m1_assignment"
  },
  "kernelspec": {
   "display_name": "Python 3",
   "language": "python",
   "name": "python3"
  },
  "language_info": {
   "codemirror_mode": {
    "name": "ipython",
    "version": 3
   },
   "file_extension": ".py",
   "mimetype": "text/x-python",
   "name": "python",
   "nbconvert_exporter": "python",
   "pygments_lexer": "ipython3",
   "version": "3.7.1"
  }
 },
 "nbformat": 4,
 "nbformat_minor": 2
}
