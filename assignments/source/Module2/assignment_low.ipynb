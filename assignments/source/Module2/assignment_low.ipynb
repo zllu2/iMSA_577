{
 "cells": [
  {
   "cell_type": "markdown",
   "metadata": {
    "nbgrader": {
     "grade": false,
     "grade_id": "cell-e4db2f281f201753",
     "locked": true,
     "schema_version": 3,
     "solution": false,
     "task": false
    }
   },
   "source": [
    "# Module 2 Assignment\n",
    "\n",
    "A few things you should keep in mind when working on assignments:\n",
    "\n",
    "1. Run the first code cell to import modules needed by this assignment before proceeding to problems.\n",
    "2. Make sure you fill in any place that says `# YOUR CODE HERE`. Do not write your answer anywhere else other than where it says `# YOUR CODE HERE`. Anything you write elsewhere will be removed or overwritten by the autograder.\n",
    "3. Each problem has an autograder cell below the answer cell. Run the autograder cell to check your answer. If there's anything wrong in your answer, the autograder cell will display error messages.\n",
    "4. Before you submit your assignment, make sure everything runs as expected. Go to the menubar, select Kernel, and Restart & Run all. If the notebook runs through the last code cell without an error message, you've answered all problems correctly.\n",
    "5. Make sure that you save your work (in the menubar, select File → Save and CheckPoint).\n",
    "\n",
    "-----"
   ]
  },
  {
   "cell_type": "markdown",
   "metadata": {
    "nbgrader": {
     "grade": false,
     "grade_id": "cell-4438ffaba8d62760",
     "locked": true,
     "schema_version": 3,
     "solution": false,
     "task": false
    }
   },
   "source": [
    "# Run Me First!"
   ]
  },
  {
   "cell_type": "code",
   "execution_count": 1,
   "metadata": {
    "nbgrader": {
     "grade": false,
     "grade_id": "cell-a11202f6fba5d7e5",
     "locked": true,
     "schema_version": 3,
     "solution": false,
     "task": false
    }
   },
   "outputs": [],
   "source": [
    "import pandas as pd\n",
    "import numpy as np\n",
    "import seaborn as sns\n",
    "\n",
    "from nose.tools import assert_equal, assert_almost_equal, assert_true, assert_is_instance"
   ]
  },
  {
   "cell_type": "markdown",
   "metadata": {
    "nbgrader": {
     "grade": false,
     "grade_id": "cell-fb2311b0a456e212",
     "locked": true,
     "schema_version": 3,
     "solution": false,
     "task": false
    }
   },
   "source": [
    "-----\n",
    "\n",
    "# Predicting MPG\n",
    "\n",
    "In this assignment, we will use mpg dataset to make a regression model. Before we attempt to build a mode, we first must load the data from the Seaborn module.\n",
    "\n",
    "Please run the next Code cell before proceeding to Problem 1.\n",
    "\n",
    "-----"
   ]
  },
  {
   "cell_type": "code",
   "execution_count": 2,
   "metadata": {
    "nbgrader": {
     "grade": false,
     "grade_id": "cell-f3b519a568c38d99",
     "locked": true,
     "schema_version": 3,
     "solution": false,
     "task": false
    },
    "scrolled": true
   },
   "outputs": [
    {
     "data": {
      "text/html": [
       "<div>\n",
       "<style scoped>\n",
       "    .dataframe tbody tr th:only-of-type {\n",
       "        vertical-align: middle;\n",
       "    }\n",
       "\n",
       "    .dataframe tbody tr th {\n",
       "        vertical-align: top;\n",
       "    }\n",
       "\n",
       "    .dataframe thead th {\n",
       "        text-align: right;\n",
       "    }\n",
       "</style>\n",
       "<table border=\"1\" class=\"dataframe\">\n",
       "  <thead>\n",
       "    <tr style=\"text-align: right;\">\n",
       "      <th></th>\n",
       "      <th>mpg</th>\n",
       "      <th>cylinders</th>\n",
       "      <th>displacement</th>\n",
       "      <th>horsepower</th>\n",
       "      <th>weight</th>\n",
       "      <th>acceleration</th>\n",
       "      <th>model_year</th>\n",
       "      <th>origin</th>\n",
       "      <th>name</th>\n",
       "    </tr>\n",
       "  </thead>\n",
       "  <tbody>\n",
       "    <tr>\n",
       "      <td>0</td>\n",
       "      <td>18.0</td>\n",
       "      <td>8</td>\n",
       "      <td>307.0</td>\n",
       "      <td>130.0</td>\n",
       "      <td>3504</td>\n",
       "      <td>12.0</td>\n",
       "      <td>70</td>\n",
       "      <td>usa</td>\n",
       "      <td>chevrolet chevelle malibu</td>\n",
       "    </tr>\n",
       "    <tr>\n",
       "      <td>1</td>\n",
       "      <td>15.0</td>\n",
       "      <td>8</td>\n",
       "      <td>350.0</td>\n",
       "      <td>165.0</td>\n",
       "      <td>3693</td>\n",
       "      <td>11.5</td>\n",
       "      <td>70</td>\n",
       "      <td>usa</td>\n",
       "      <td>buick skylark 320</td>\n",
       "    </tr>\n",
       "    <tr>\n",
       "      <td>2</td>\n",
       "      <td>18.0</td>\n",
       "      <td>8</td>\n",
       "      <td>318.0</td>\n",
       "      <td>150.0</td>\n",
       "      <td>3436</td>\n",
       "      <td>11.0</td>\n",
       "      <td>70</td>\n",
       "      <td>usa</td>\n",
       "      <td>plymouth satellite</td>\n",
       "    </tr>\n",
       "    <tr>\n",
       "      <td>3</td>\n",
       "      <td>16.0</td>\n",
       "      <td>8</td>\n",
       "      <td>304.0</td>\n",
       "      <td>150.0</td>\n",
       "      <td>3433</td>\n",
       "      <td>12.0</td>\n",
       "      <td>70</td>\n",
       "      <td>usa</td>\n",
       "      <td>amc rebel sst</td>\n",
       "    </tr>\n",
       "    <tr>\n",
       "      <td>4</td>\n",
       "      <td>17.0</td>\n",
       "      <td>8</td>\n",
       "      <td>302.0</td>\n",
       "      <td>140.0</td>\n",
       "      <td>3449</td>\n",
       "      <td>10.5</td>\n",
       "      <td>70</td>\n",
       "      <td>usa</td>\n",
       "      <td>ford torino</td>\n",
       "    </tr>\n",
       "  </tbody>\n",
       "</table>\n",
       "</div>"
      ],
      "text/plain": [
       "    mpg  cylinders  displacement  horsepower  weight  acceleration  \\\n",
       "0  18.0          8         307.0       130.0    3504          12.0   \n",
       "1  15.0          8         350.0       165.0    3693          11.5   \n",
       "2  18.0          8         318.0       150.0    3436          11.0   \n",
       "3  16.0          8         304.0       150.0    3433          12.0   \n",
       "4  17.0          8         302.0       140.0    3449          10.5   \n",
       "\n",
       "   model_year origin                       name  \n",
       "0          70    usa  chevrolet chevelle malibu  \n",
       "1          70    usa          buick skylark 320  \n",
       "2          70    usa         plymouth satellite  \n",
       "3          70    usa              amc rebel sst  \n",
       "4          70    usa                ford torino  "
      ]
     },
     "execution_count": 2,
     "metadata": {},
     "output_type": "execute_result"
    }
   ],
   "source": [
    "#load MPG dataset\n",
    "mpg = pd.read_csv('data/mpg.csv')\n",
    "mpg.head()"
   ]
  },
  {
   "cell_type": "markdown",
   "metadata": {
    "nbgrader": {
     "grade": false,
     "grade_id": "cell-3461c076d6261710",
     "locked": true,
     "schema_version": 3,
     "solution": false,
     "task": false
    }
   },
   "source": [
    "---\n",
    "\n",
    "# Problem 1: Create Dependent and Independent Variables\n",
    "\n",
    "For this problem you will use the DataFrame **mpg** defined above.\n",
    "\n",
    "To complete the task, do the following:\n",
    "1. Use `dmatrices` in `patsy` module to create independent variable **x** and dependent variable __y__ from DataFrame mpg. \n",
    "2. In patsy formula, use 'mpg' as dependent variable.\n",
    "3. Use displacement, acceleration and model_year as independent variables.\n",
    "4. Treat model_year as a categorical feature(enclose in C()). \n",
    "5. Set `dmatrices` argument `return_type` to 'dataframe'.\n",
    "\n",
    "After this problem, there are two new variables defined, **x** and __y__.\n",
    "\n",
    "-----"
   ]
  },
  {
   "cell_type": "code",
   "execution_count": 3,
   "metadata": {
    "nbgrader": {
     "grade": false,
     "grade_id": "cell-01d28a15328f3a82",
     "locked": false,
     "schema_version": 3,
     "solution": true,
     "task": false
    }
   },
   "outputs": [],
   "source": [
    "import patsy as pts\n",
    "\n",
    "### BEGIN SOLUTION\n",
    "# Create dependent and independent variables\n",
    "y, x = pts.dmatrices('mpg ~ displacement + acceleration + C(model_year)', data=mpg, return_type='dataframe')\n",
    "### END SOLUTION"
   ]
  },
  {
   "cell_type": "code",
   "execution_count": 4,
   "metadata": {
    "nbgrader": {
     "grade": true,
     "grade_id": "cell-53317922d312d780",
     "locked": true,
     "points": 1,
     "schema_version": 3,
     "solution": false,
     "task": false
    }
   },
   "outputs": [
    {
     "data": {
      "text/html": [
       "<div>\n",
       "<style scoped>\n",
       "    .dataframe tbody tr th:only-of-type {\n",
       "        vertical-align: middle;\n",
       "    }\n",
       "\n",
       "    .dataframe tbody tr th {\n",
       "        vertical-align: top;\n",
       "    }\n",
       "\n",
       "    .dataframe thead th {\n",
       "        text-align: right;\n",
       "    }\n",
       "</style>\n",
       "<table border=\"1\" class=\"dataframe\">\n",
       "  <thead>\n",
       "    <tr style=\"text-align: right;\">\n",
       "      <th></th>\n",
       "      <th>Intercept</th>\n",
       "      <th>C(model_year)[T.71]</th>\n",
       "      <th>C(model_year)[T.72]</th>\n",
       "      <th>C(model_year)[T.73]</th>\n",
       "      <th>C(model_year)[T.74]</th>\n",
       "      <th>C(model_year)[T.75]</th>\n",
       "      <th>C(model_year)[T.76]</th>\n",
       "      <th>C(model_year)[T.77]</th>\n",
       "      <th>C(model_year)[T.78]</th>\n",
       "      <th>C(model_year)[T.79]</th>\n",
       "      <th>C(model_year)[T.80]</th>\n",
       "      <th>C(model_year)[T.81]</th>\n",
       "      <th>C(model_year)[T.82]</th>\n",
       "      <th>displacement</th>\n",
       "      <th>acceleration</th>\n",
       "    </tr>\n",
       "  </thead>\n",
       "  <tbody>\n",
       "    <tr>\n",
       "      <td>155</td>\n",
       "      <td>1.0</td>\n",
       "      <td>0.0</td>\n",
       "      <td>0.0</td>\n",
       "      <td>0.0</td>\n",
       "      <td>0.0</td>\n",
       "      <td>1.0</td>\n",
       "      <td>0.0</td>\n",
       "      <td>0.0</td>\n",
       "      <td>0.0</td>\n",
       "      <td>0.0</td>\n",
       "      <td>0.0</td>\n",
       "      <td>0.0</td>\n",
       "      <td>0.0</td>\n",
       "      <td>350.0</td>\n",
       "      <td>14.0</td>\n",
       "    </tr>\n",
       "    <tr>\n",
       "      <td>284</td>\n",
       "      <td>1.0</td>\n",
       "      <td>0.0</td>\n",
       "      <td>0.0</td>\n",
       "      <td>0.0</td>\n",
       "      <td>0.0</td>\n",
       "      <td>0.0</td>\n",
       "      <td>0.0</td>\n",
       "      <td>0.0</td>\n",
       "      <td>0.0</td>\n",
       "      <td>1.0</td>\n",
       "      <td>0.0</td>\n",
       "      <td>0.0</td>\n",
       "      <td>0.0</td>\n",
       "      <td>302.0</td>\n",
       "      <td>13.4</td>\n",
       "    </tr>\n",
       "  </tbody>\n",
       "</table>\n",
       "</div>"
      ],
      "text/plain": [
       "     Intercept  C(model_year)[T.71]  C(model_year)[T.72]  C(model_year)[T.73]  \\\n",
       "155        1.0                  0.0                  0.0                  0.0   \n",
       "284        1.0                  0.0                  0.0                  0.0   \n",
       "\n",
       "     C(model_year)[T.74]  C(model_year)[T.75]  C(model_year)[T.76]  \\\n",
       "155                  0.0                  1.0                  0.0   \n",
       "284                  0.0                  0.0                  0.0   \n",
       "\n",
       "     C(model_year)[T.77]  C(model_year)[T.78]  C(model_year)[T.79]  \\\n",
       "155                  0.0                  0.0                  0.0   \n",
       "284                  0.0                  0.0                  1.0   \n",
       "\n",
       "     C(model_year)[T.80]  C(model_year)[T.81]  C(model_year)[T.82]  \\\n",
       "155                  0.0                  0.0                  0.0   \n",
       "284                  0.0                  0.0                  0.0   \n",
       "\n",
       "     displacement  acceleration  \n",
       "155         350.0          14.0  \n",
       "284         302.0          13.4  "
      ]
     },
     "execution_count": 4,
     "metadata": {},
     "output_type": "execute_result"
    }
   ],
   "source": [
    "assert_equal(type(x), pd.core.frame.DataFrame, msg=\"x is not a DataFrame\")\n",
    "assert_equal(x.shape, (392, 15), \n",
    "             msg=\"The independent features are not correct. Make sure to treat model_year as categorical feature\")\n",
    "# 2 random rows of the independent variables\n",
    "x.sample(2)\n"
   ]
  },
  {
   "cell_type": "markdown",
   "metadata": {
    "nbgrader": {
     "grade": false,
     "grade_id": "cell-2c7057eb08fd16e2",
     "locked": true,
     "schema_version": 3,
     "solution": false,
     "task": false
    }
   },
   "source": [
    "-----\n",
    "\n",
    "# Problem 2: Create the Training and Testing Datasets\n",
    "\n",
    "This problem works on the variables **x** and __y__ created in problem 1.\n",
    "\n",
    "Split the independent and dependent variables to training and testing set.\n",
    "\n",
    "To complete this process, do the following:\n",
    "\n",
    "- Name the training and testing independent variable as x_train and x_test.\n",
    "- Name the training and testing dependent variable as y_train and y_test.\n",
    "- The `test_size` argument in `train_test_split` should be set to 0.3.\n",
    "- The `random_state` argument in `train_test_split` should be set to 23.\n",
    "\n",
    "After this problem, there are 4 new variables defined, **x_train, x_test, y_train** and __y_test__.\n",
    "\n",
    "-----"
   ]
  },
  {
   "cell_type": "code",
   "execution_count": 5,
   "metadata": {
    "nbgrader": {
     "grade": false,
     "grade_id": "cell-e44af8d0183d1a08",
     "locked": false,
     "schema_version": 3,
     "solution": true,
     "task": false
    }
   },
   "outputs": [],
   "source": [
    "from sklearn.model_selection import train_test_split\n",
    "\n",
    "### BEGIN SOLUTION\n",
    "x_train, x_test, y_train, y_test = train_test_split(x, y, test_size=0.3, random_state=23)\n",
    "### END SOLUTION"
   ]
  },
  {
   "cell_type": "code",
   "execution_count": 6,
   "metadata": {
    "nbgrader": {
     "grade": true,
     "grade_id": "cell-fb84f71a6160adad",
     "locked": true,
     "points": 1,
     "schema_version": 3,
     "solution": false,
     "task": false
    }
   },
   "outputs": [
    {
     "data": {
      "text/html": [
       "<div>\n",
       "<style scoped>\n",
       "    .dataframe tbody tr th:only-of-type {\n",
       "        vertical-align: middle;\n",
       "    }\n",
       "\n",
       "    .dataframe tbody tr th {\n",
       "        vertical-align: top;\n",
       "    }\n",
       "\n",
       "    .dataframe thead th {\n",
       "        text-align: right;\n",
       "    }\n",
       "</style>\n",
       "<table border=\"1\" class=\"dataframe\">\n",
       "  <thead>\n",
       "    <tr style=\"text-align: right;\">\n",
       "      <th></th>\n",
       "      <th>Intercept</th>\n",
       "      <th>C(model_year)[T.71]</th>\n",
       "      <th>C(model_year)[T.72]</th>\n",
       "      <th>C(model_year)[T.73]</th>\n",
       "      <th>C(model_year)[T.74]</th>\n",
       "      <th>C(model_year)[T.75]</th>\n",
       "      <th>C(model_year)[T.76]</th>\n",
       "      <th>C(model_year)[T.77]</th>\n",
       "      <th>C(model_year)[T.78]</th>\n",
       "      <th>C(model_year)[T.79]</th>\n",
       "      <th>C(model_year)[T.80]</th>\n",
       "      <th>C(model_year)[T.81]</th>\n",
       "      <th>C(model_year)[T.82]</th>\n",
       "      <th>displacement</th>\n",
       "      <th>acceleration</th>\n",
       "    </tr>\n",
       "  </thead>\n",
       "  <tbody>\n",
       "    <tr>\n",
       "      <td>187</td>\n",
       "      <td>1.0</td>\n",
       "      <td>0.0</td>\n",
       "      <td>0.0</td>\n",
       "      <td>0.0</td>\n",
       "      <td>0.0</td>\n",
       "      <td>0.0</td>\n",
       "      <td>1.0</td>\n",
       "      <td>0.0</td>\n",
       "      <td>0.0</td>\n",
       "      <td>0.0</td>\n",
       "      <td>0.0</td>\n",
       "      <td>0.0</td>\n",
       "      <td>0.0</td>\n",
       "      <td>304.0</td>\n",
       "      <td>13.9</td>\n",
       "    </tr>\n",
       "    <tr>\n",
       "      <td>353</td>\n",
       "      <td>1.0</td>\n",
       "      <td>0.0</td>\n",
       "      <td>0.0</td>\n",
       "      <td>0.0</td>\n",
       "      <td>0.0</td>\n",
       "      <td>0.0</td>\n",
       "      <td>0.0</td>\n",
       "      <td>0.0</td>\n",
       "      <td>0.0</td>\n",
       "      <td>0.0</td>\n",
       "      <td>0.0</td>\n",
       "      <td>1.0</td>\n",
       "      <td>0.0</td>\n",
       "      <td>120.0</td>\n",
       "      <td>18.3</td>\n",
       "    </tr>\n",
       "  </tbody>\n",
       "</table>\n",
       "</div>"
      ],
      "text/plain": [
       "     Intercept  C(model_year)[T.71]  C(model_year)[T.72]  C(model_year)[T.73]  \\\n",
       "187        1.0                  0.0                  0.0                  0.0   \n",
       "353        1.0                  0.0                  0.0                  0.0   \n",
       "\n",
       "     C(model_year)[T.74]  C(model_year)[T.75]  C(model_year)[T.76]  \\\n",
       "187                  0.0                  0.0                  1.0   \n",
       "353                  0.0                  0.0                  0.0   \n",
       "\n",
       "     C(model_year)[T.77]  C(model_year)[T.78]  C(model_year)[T.79]  \\\n",
       "187                  0.0                  0.0                  0.0   \n",
       "353                  0.0                  0.0                  0.0   \n",
       "\n",
       "     C(model_year)[T.80]  C(model_year)[T.81]  C(model_year)[T.82]  \\\n",
       "187                  0.0                  0.0                  0.0   \n",
       "353                  0.0                  1.0                  0.0   \n",
       "\n",
       "     displacement  acceleration  \n",
       "187         304.0          13.9  \n",
       "353         120.0          18.3  "
      ]
     },
     "execution_count": 6,
     "metadata": {},
     "output_type": "execute_result"
    }
   ],
   "source": [
    "assert_equal(x_test.shape, (118, 15), \n",
    "             msg=\"The testing set size is not correct\")\n",
    "assert_equal(y_test.values[0][0], 24.0,\n",
    "             msg=\"The testing dependent variable is not correct. Make sure you set random_state to 23\")\n",
    "#2 random rows of the training independent variables\n",
    "x_train.sample(2)"
   ]
  },
  {
   "cell_type": "markdown",
   "metadata": {
    "nbgrader": {
     "grade": false,
     "grade_id": "cell-3fd721daadd3b15f",
     "locked": true,
     "schema_version": 3,
     "solution": false,
     "task": false
    }
   },
   "source": [
    "---\n",
    "\n",
    "# Problem 3: Performing Linear Regression\n",
    "\n",
    "Your task for this problem is to build and use the scikit-learn library's `LinearRegression` estimator to  make predictions on the mpg dataset. To complete this function, you must explicitly:\n",
    "- Create a `LinearRegression` estimator **lin_model** by using scikit-learn. Accept default values for all arguments.\n",
    "- Fit the `LinearRegression` estimator using x_train and y_train created in problem 2.\n",
    "\n",
    "After this problem, there will be a trained linear regression model **lin_model**.\n",
    "\n",
    "-----"
   ]
  },
  {
   "cell_type": "code",
   "execution_count": 7,
   "metadata": {
    "nbgrader": {
     "grade": false,
     "grade_id": "cell-f9228943e7756ab4",
     "locked": false,
     "schema_version": 3,
     "solution": true,
     "task": false
    }
   },
   "outputs": [
    {
     "data": {
      "text/plain": [
       "LinearRegression(copy_X=True, fit_intercept=True, n_jobs=None, normalize=False)"
      ]
     },
     "execution_count": 7,
     "metadata": {},
     "output_type": "execute_result"
    }
   ],
   "source": [
    "from sklearn.linear_model import LinearRegression\n",
    "\n",
    "### BEGIN SOLUTION\n",
    "# Create and fit our linear regression model to training data\n",
    "lin_model = LinearRegression()\n",
    "lin_model.fit(x_train, y_train)\n",
    "### END SOLUTION"
   ]
  },
  {
   "cell_type": "code",
   "execution_count": 8,
   "metadata": {
    "nbgrader": {
     "grade": true,
     "grade_id": "cell-cff1f5f7eb7d716d",
     "locked": true,
     "points": 1,
     "schema_version": 3,
     "solution": false,
     "task": false
    }
   },
   "outputs": [],
   "source": [
    "assert_equal(type(lin_model), type(LinearRegression()), msg=\"lin_model is not defined as a LinearRegression model\")\n",
    "assert_equal(lin_model.get_params()['fit_intercept'], True,\n",
    "            msg=\"lin_model is not created with all default argument values\")"
   ]
  },
  {
   "cell_type": "markdown",
   "metadata": {
    "nbgrader": {
     "grade": false,
     "grade_id": "cell-08496a942b390917",
     "locked": true,
     "schema_version": 3,
     "solution": false,
     "task": false
    }
   },
   "source": [
    "---\n",
    "\n",
    "# Problem 4: Checking R2 Score on Testing Dataset\n",
    "\n",
    "For this problem, you will compute the R2 score of the lin_model.\n",
    "To complete this function, you must explicitly:\n",
    "- Compute the R2 score using `score` function of lin_model.\n",
    "- Use x_test and y_test to calculate the score.\n",
    "- Assign score to variable **r2_score**.\n",
    "\n",
    "After this problem, there will be a new variable r2_score defined.\n",
    "\n",
    "-----"
   ]
  },
  {
   "cell_type": "code",
   "execution_count": 9,
   "metadata": {
    "nbgrader": {
     "grade": false,
     "grade_id": "cell-4e4a91faffbd8458",
     "locked": false,
     "schema_version": 3,
     "solution": true,
     "task": false
    }
   },
   "outputs": [],
   "source": [
    "### BEGIN SOLUTION\n",
    "r2_score = lin_model.score(x_test, y_test)\n",
    "### END SOLUTION"
   ]
  },
  {
   "cell_type": "code",
   "execution_count": 10,
   "metadata": {
    "nbgrader": {
     "grade": true,
     "grade_id": "cell-5efddbebab8412bd",
     "locked": true,
     "points": 1,
     "schema_version": 3,
     "solution": false,
     "task": false
    }
   },
   "outputs": [],
   "source": [
    "assert_almost_equal(r2_score, 0.6713752019536277, msg=\"R2 score is not correct\")\n"
   ]
  }
 ],
 "metadata": {
  "celltoolbar": "Create Assignment",
  "coursera": {
   "course_slug": "machine-learning-accounting-python",
   "graded_item_id": "OqCj3",
   "launcher_item_id": "7YfGm"
  },
  "kernelspec": {
   "display_name": "Python 3",
   "language": "python",
   "name": "python3"
  },
  "language_info": {
   "codemirror_mode": {
    "name": "ipython",
    "version": 3
   },
   "file_extension": ".py",
   "mimetype": "text/x-python",
   "name": "python",
   "nbconvert_exporter": "python",
   "pygments_lexer": "ipython3",
   "version": "3.7.3"
  }
 },
 "nbformat": 4,
 "nbformat_minor": 2
}
