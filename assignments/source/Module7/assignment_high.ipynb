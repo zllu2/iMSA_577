{
 "cells": [
  {
   "cell_type": "markdown",
   "metadata": {
    "nbgrader": {
     "grade": false,
     "grade_id": "cell-9fe3edd84ede6fcf",
     "locked": true,
     "schema_version": 3,
     "solution": false
    }
   },
   "source": [
    "# Module 7 Assignment\n",
    "\n",
    "A few things you should keep in mind when working on assignments:\n",
    "\n",
    "1. Run the first code cell to import modules needed by this assignment before proceeding to problems.\n",
    "2. Make sure you fill in any place that says `# YOUR CODE HERE`. Do not write your answer anywhere else other than where it says `# YOUR CODE HERE`. Anything you write elsewhere will be removed or overwritten by the autograder.\n",
    "3. Each problem has an autograder cell below the answer cell. Run the autograder cell to check your answer. If there's anything wrong in your answer, the autograder cell will display error messages.\n",
    "4. Before you submit your assignment, make sure everything runs as expected. Go to the menubar, select Kernel, and Restart & Run all. If the notebook runs through the last code cell without an error message, you've answered all problems correctly.\n",
    "5. Make sure that you save your work (in the menubar, select File → Save and CheckPoint).\n",
    "\n",
    "-----"
   ]
  },
  {
   "cell_type": "markdown",
   "metadata": {
    "nbgrader": {
     "grade": false,
     "grade_id": "cell-31752648086a10b5",
     "locked": true,
     "schema_version": 3,
     "solution": false
    }
   },
   "source": [
    "# Run Me First!"
   ]
  },
  {
   "cell_type": "code",
   "execution_count": 1,
   "metadata": {
    "deletable": false,
    "nbgrader": {
     "grade": false,
     "grade_id": "cell-88dd2a72c7ccd97d",
     "locked": true,
     "schema_version": 3,
     "solution": false
    }
   },
   "outputs": [],
   "source": [
    "import pandas as pd\n",
    "import numpy as np\n",
    "import seaborn as sns\n",
    "\n",
    "from nose.tools import assert_equal, assert_almost_equal, assert_true, assert_is_instance\n",
    "\n",
    "# We do this to ignore warnings\n",
    "import warnings\n",
    "warnings.filterwarnings(\"ignore\")"
   ]
  },
  {
   "cell_type": "markdown",
   "metadata": {
    "nbgrader": {
     "grade": false,
     "grade_id": "cell-c36036bd06797824",
     "locked": true,
     "schema_version": 3,
     "solution": false
    }
   },
   "source": [
    "---\n",
    "# Prepare Breast Cancer Data\n",
    "\n",
    "In this assignment we will use the breast cancer dataset to perform cluster finding. Before we attempt to build models, we first prepare the data.\n",
    "\n",
    "Please run the next two code cells before proceeding to Problem 1.\n",
    "\n"
   ]
  },
  {
   "cell_type": "code",
   "execution_count": 2,
   "metadata": {
    "nbgrader": {
     "grade": false,
     "grade_id": "cell-b7a411e93e83fc6a",
     "locked": true,
     "schema_version": 3,
     "solution": false
    }
   },
   "outputs": [
    {
     "data": {
      "text/html": [
       "<div>\n",
       "<style scoped>\n",
       "    .dataframe tbody tr th:only-of-type {\n",
       "        vertical-align: middle;\n",
       "    }\n",
       "\n",
       "    .dataframe tbody tr th {\n",
       "        vertical-align: top;\n",
       "    }\n",
       "\n",
       "    .dataframe thead th {\n",
       "        text-align: right;\n",
       "    }\n",
       "</style>\n",
       "<table border=\"1\" class=\"dataframe\">\n",
       "  <thead>\n",
       "    <tr style=\"text-align: right;\">\n",
       "      <th></th>\n",
       "      <th>clump thickness</th>\n",
       "      <th>uniformity cell size</th>\n",
       "      <th>uniformity cell shape</th>\n",
       "      <th>marginal adhesion</th>\n",
       "      <th>epithelial cell size</th>\n",
       "      <th>bare nuclei</th>\n",
       "      <th>bland chromatin</th>\n",
       "      <th>normal nucleoli</th>\n",
       "      <th>mitoses</th>\n",
       "    </tr>\n",
       "  </thead>\n",
       "  <tbody>\n",
       "    <tr>\n",
       "      <td>269</td>\n",
       "      <td>1</td>\n",
       "      <td>1</td>\n",
       "      <td>1</td>\n",
       "      <td>1</td>\n",
       "      <td>2</td>\n",
       "      <td>1</td>\n",
       "      <td>3</td>\n",
       "      <td>1</td>\n",
       "      <td>1</td>\n",
       "    </tr>\n",
       "  </tbody>\n",
       "</table>\n",
       "</div>"
      ],
      "text/plain": [
       "     clump thickness  uniformity cell size  uniformity cell shape  \\\n",
       "269                1                     1                      1   \n",
       "\n",
       "     marginal adhesion  epithelial cell size  bare nuclei  bland chromatin  \\\n",
       "269                  1                     2            1                3   \n",
       "\n",
       "     normal nucleoli  mitoses  \n",
       "269                1        1  "
      ]
     },
     "execution_count": 2,
     "metadata": {},
     "output_type": "execute_result"
    }
   ],
   "source": [
    "from sklearn.preprocessing import LabelEncoder\n",
    "#Load breast cancer dataset\n",
    "df = pd.read_csv('data/breast-cancer-wisconsin.csv')\n",
    "data = df[['clump thickness', 'uniformity cell size', 'uniformity cell shape', 'marginal adhesion', 'epithelial cell size', 'bare nuclei', 'bland chromatin', 'normal nucleoli', 'mitoses']]\n",
    "label = LabelEncoder().fit_transform(df['class'])\n",
    "\n",
    "data.sample()"
   ]
  },
  {
   "cell_type": "markdown",
   "metadata": {},
   "source": [
    "---\n",
    "# Problem 1: Standardize Features\n",
    "\n",
    "For this problem you will use the DataFrame **data** created above.\n",
    "\n",
    "To solve this problem do the following:\n",
    "- Use `StandardScaler` to standardize `data` and assign normalized data to variable **data_ss**.\n",
    "\n",
    "After this problem, there is a new variable **data_ss** defined.\n",
    "\n",
    "---"
   ]
  },
  {
   "cell_type": "code",
   "execution_count": 3,
   "metadata": {
    "nbgrader": {
     "grade": false,
     "grade_id": "p1-answer",
     "locked": false,
     "schema_version": 3,
     "solution": true
    }
   },
   "outputs": [],
   "source": [
    "from sklearn.preprocessing import StandardScaler\n",
    "### BEGIN SOLUTION\n",
    "data_ss = StandardScaler().fit_transform(data)\n",
    "### END SOLUTION"
   ]
  },
  {
   "cell_type": "code",
   "execution_count": 4,
   "metadata": {
    "nbgrader": {
     "grade": true,
     "grade_id": "p1-test",
     "locked": true,
     "points": 1,
     "schema_version": 3,
     "solution": false
    },
    "scrolled": true
   },
   "outputs": [
    {
     "name": "stdout",
     "output_type": "stream",
     "text": [
      "Sample Standardized data:\n",
      "[[ 0.19790469 -0.70221201 -0.74177362 -0.63936553 -0.5556085  -0.69885309\n",
      "  -0.18182716 -0.61292736 -0.34839971]\n",
      " [ 0.19790469  0.27725185  0.26278299  0.75803177  1.69516613  1.77286724\n",
      "  -0.18182716 -0.28510482 -0.34839971]]\n"
     ]
    }
   ],
   "source": [
    "assert_almost_equal(data_ss[0,0], 0.19790469484926235, msg='data_ss is not correct')\n",
    "assert_almost_equal(data_ss[0,-1], -0.3483997074310662, msg='data_ss is not correct')\n",
    "print('Sample Standardized data:')\n",
    "print(data_ss[:2])"
   ]
  },
  {
   "cell_type": "markdown",
   "metadata": {
    "nbgrader": {
     "grade": false,
     "grade_id": "cell-6cc2ae0e085cc156",
     "locked": true,
     "schema_version": 3,
     "solution": false
    }
   },
   "source": [
    "---\n",
    "# Problem 2: Fit KMeans Model and Calculate Evaluation Metrics\n",
    "\n",
    "Create and fit a KMeans model with breast cancer dataset. Calculate the Adjusted Rand Index and Silhouette score of the model.\n",
    "\n",
    "For this problem, use `data_ss` and `label` created above.\n",
    "\n",
    "To solve this problem do the following:\n",
    " - Create a `KMeans` model **k_means**. Set `n_clusters` to 2, `n_init` to 10, `random_state` to 23.\n",
    " - Fit the KMeans model on `data_ss`.\n",
    " - Apply k_means `predict` function on data_ss to get predicted clusters, assign it to variable **pred_clusters**.\n",
    " - Use `adjusted_rand_score` in `metrics` module with label and pred_clusters to calculate the Adjusted Rand Index and set the score to variable **ari_score**.\n",
    " - Use `silhouette_score` in `metrics` module with data_ss and pred_clusters to calculate the Silhouette score. Assign the score to variable **s_score**.\n",
    "\n",
    "After this problem, there will be a fitted KMeans model **k_means**, as well as __ari_score__ and **s_score** defined.\n",
    "\n",
    "---"
   ]
  },
  {
   "cell_type": "code",
   "execution_count": 5,
   "metadata": {
    "nbgrader": {
     "grade": false,
     "grade_id": "p2-answer",
     "locked": false,
     "schema_version": 3,
     "solution": true
    }
   },
   "outputs": [],
   "source": [
    "from sklearn.cluster import KMeans\n",
    "from sklearn import metrics\n",
    "\n",
    "### BEGIN SOLUTION\n",
    "# We build our model assuming three clusters\n",
    "k_means = KMeans(n_clusters=2, n_init=10, random_state=23)\n",
    "# We fit our original data\n",
    "k_means.fit(data_ss)\n",
    "pred_clusters = k_means.predict(data_ss)\n",
    "ari_score = metrics.adjusted_rand_score(label, pred_clusters)\n",
    "s_score = metrics.silhouette_score(data_ss, pred_clusters)\n",
    "### END SOLUTION"
   ]
  },
  {
   "cell_type": "code",
   "execution_count": 6,
   "metadata": {
    "nbgrader": {
     "grade": true,
     "grade_id": "p2-test",
     "locked": true,
     "points": 1,
     "schema_version": 3,
     "solution": false
    }
   },
   "outputs": [
    {
     "name": "stdout",
     "output_type": "stream",
     "text": [
      "Adjusted Rand Index of Kmeans: 0.836\n",
      "Silhouette Score of Kmeans: 0.573\n"
     ]
    }
   ],
   "source": [
    "assert_equal(type(k_means), type(KMeans()), msg=\"k_means is a KMeans model\")\n",
    "assert_equal(k_means.get_params()['n_clusters'], 2, msg=\"k_means is not created with n_clusters = 2\")\n",
    "assert_equal(k_means.get_params()['n_init'], 10, msg=\"k_means is not created with n_init = 10\")\n",
    "assert_equal(k_means.get_params()['random_state'], 23, msg=\"k_means is not created with random_state = 23\")\n",
    "assert_true(k_means.inertia_>2700, msg=\"k_means is not fit properly\")\n",
    "assert_true(ari_score>0.8, msg='Adjusted Rand Index is not correct')\n",
    "assert_true(s_score>0.57, msg='Silhouette score is not correct')\n",
    "print(f\"Adjusted Rand Index of Kmeans: {ari_score:5.3f}\")\n",
    "print(f\"Silhouette Score of Kmeans: {s_score:5.3f}\")"
   ]
  },
  {
   "cell_type": "markdown",
   "metadata": {
    "nbgrader": {
     "grade": false,
     "grade_id": "cell-34d75d264e64349c",
     "locked": true,
     "schema_version": 3,
     "solution": false
    }
   },
   "source": [
    "---\n",
    "\n",
    "# Problem 3: Prepare Data for k-distance Graph\n",
    "\n",
    "Prepare data to plot k-distance graph to determine proper `eps` value for a DBSCAN model.\n",
    "\n",
    "For this problem you will use **data_ss** created in problem 1.\n",
    "\n",
    "To solve this problem do the following:\n",
    "- Create `NearestNeighbors` model **nnb**. Set `n_neighbors` to 2.\n",
    "- Fit nnb with data_ss.\n",
    "- Use nnb function `kneighbors` with `data_ss` to calculate the distnace to the nearest point of each data point. Assign return values to variable **distances** and __indices__.\n",
    "\n",
    "After this problem, there is a trained model **nnb** defined, as well as numpy array of distance to nearest points, **distances**. We will use distances to plot the k-distance graph in the autograder cell.\n",
    "\n",
    "-----"
   ]
  },
  {
   "cell_type": "code",
   "execution_count": 7,
   "metadata": {
    "nbgrader": {
     "grade": false,
     "grade_id": "p3-answer",
     "locked": false,
     "schema_version": 3,
     "solution": true
    }
   },
   "outputs": [],
   "source": [
    "from sklearn.neighbors import NearestNeighbors\n",
    "from matplotlib import pyplot as plt\n",
    "\n",
    "### BEGIN SOLUTION\n",
    "#get 2 nearest neighbors of each points\n",
    "nnb = NearestNeighbors(n_neighbors=2)\n",
    "nnb.fit(data_ss)\n",
    "#calculate average distances to the 17 neighbors of each point\n",
    "distances, indices = nnb.kneighbors(data_ss)\n",
    "### END SOLUTION"
   ]
  },
  {
   "cell_type": "code",
   "execution_count": 8,
   "metadata": {
    "nbgrader": {
     "grade": true,
     "grade_id": "p3-test",
     "locked": true,
     "points": 1,
     "schema_version": 3,
     "solution": false
    }
   },
   "outputs": [
    {
     "data": {
      "image/png": "[encoded data removed]",
      "text/plain": [
       "<Figure size 576x432 with 1 Axes>"
      ]
     },
     "metadata": {
      "needs_background": "light"
     },
     "output_type": "display_data"
    }
   ],
   "source": [
    "assert_equal(type(nnb), type(NearestNeighbors()), msg=\"nnb is a NearestNeighbors model\")\n",
    "assert_equal(nnb.get_params()['n_neighbors'], 2, msg=\"nnb is not created with n_neighbors = 2\")\n",
    "assert_almost_equal(distances[1, 1], 1.00846778, msg=\"distances are not correct\")\n",
    "assert_almost_equal(distances[2, 1], 0.27463559, msg=\"distances are not correct\")\n",
    "\n",
    "#plot k-distance graph\n",
    "import matplotlib.pyplot as plt\n",
    "#sort by distance from low to high and plot\n",
    "fig, ax = plt.subplots(figsize=(8, 6))\n",
    "distances = distances[:,1]\n",
    "distances = np.sort(distances)\n",
    "plt.plot(distances)\n",
    "plt.title(\"K-Distance\")\n",
    "plt.ylabel(\"Distance\")\n",
    "sns.despine()"
   ]
  },
  {
   "cell_type": "markdown",
   "metadata": {
    "nbgrader": {
     "grade": false,
     "grade_id": "cell-5c71f0e397348902",
     "locked": true,
     "schema_version": 3,
     "solution": false
    }
   },
   "source": [
    "---\n",
    "\n",
    "# Problem 4: Create and Fit DBSCAN model\n",
    "\n",
    "Create and fit a DBSCAN model with breast cancer dataset.\n",
    "\n",
    "For this problem, you will use data_ss created in problem 1.\n",
    "\n",
    "To solve this problem do the following:\n",
    "\n",
    " - Create a `DBSCAN` model **dbscan**. Set `eps` to 2.0, `min_samples` to 20.\n",
    " - Fit the `DBSCAN` model on `data_ss`.\n",
    "\n",
    "After this problem, there will be a fitted DBSCAN model **dbscan** defined.\n",
    "\n",
    "\n",
    "-----"
   ]
  },
  {
   "cell_type": "code",
   "execution_count": 9,
   "metadata": {
    "nbgrader": {
     "grade": false,
     "grade_id": "p4-answer",
     "locked": false,
     "schema_version": 3,
     "solution": true
    }
   },
   "outputs": [
    {
     "data": {
      "text/plain": [
       "DBSCAN(algorithm='auto', eps=2.0, leaf_size=30, metric='euclidean',\n",
       "       metric_params=None, min_samples=20, n_jobs=None, p=None)"
      ]
     },
     "execution_count": 9,
     "metadata": {},
     "output_type": "execute_result"
    }
   ],
   "source": [
    "from sklearn.cluster import DBSCAN\n",
    "\n",
    "### BEGIN SOLUTION\n",
    "dbscan = DBSCAN(eps=2.0, min_samples=20)\n",
    "dbscan.fit(data_ss)\n",
    "### END SOLUTION"
   ]
  },
  {
   "cell_type": "code",
   "execution_count": 10,
   "metadata": {
    "nbgrader": {
     "grade": true,
     "grade_id": "p4-test",
     "locked": true,
     "points": 1,
     "schema_version": 3,
     "solution": false
    }
   },
   "outputs": [
    {
     "name": "stdout",
     "output_type": "stream",
     "text": [
      "Cluster labels: [-1  0  1]\n"
     ]
    }
   ],
   "source": [
    "assert_equal(type(dbscan), type(DBSCAN()), msg=\"dbscan is not a DBSCAN model\")\n",
    "assert_equal(dbscan.get_params()['eps'], 2.0, msg=\"dbscan is not created with eps = 2.0\")\n",
    "assert_equal(dbscan.get_params()['min_samples'], 20, msg=\"dbscan is not created with min_samples = 20\")\n",
    "assert_equal(dbscan.components_.shape[0], 444, msg='dbscan is not fit properly')\n",
    "print(f'Cluster labels: {np.unique(dbscan.labels_)}')"
   ]
  },
  {
   "cell_type": "markdown",
   "metadata": {
    "nbgrader": {
     "grade": false,
     "grade_id": "cell-0b8c6ec77494b971",
     "locked": true,
     "schema_version": 3,
     "solution": false
    }
   },
   "source": [
    "# Problem 5: Calculate Clustering Metrics for DBSCAN Model\n",
    "\n",
    "Compute two clustering metrics, Adjusted Rand Index and Silhouette, of the DBSCAN model created in problem 4.\n",
    "\n",
    "For this problem, you will use `data_ss`, `label` and `dbscan` created above.\n",
    "\n",
    "To solve this problem do the following:\n",
    "\n",
    "- Get predicted clusters from dbscan's `labels_` attribute, assign to variable **pred_clusters**.\n",
    "- Use `adjusted_rand_score` in `metrics` module with label and pred_clusters to calculate the Adjusted Rand Index and set the score to variable **ari_score_db**.\n",
    "- Use `silhouette_score` in `metrics` module with data_ss and pred_clusters to calculate the Silhouette score. Assign the score to variable **s_score_db**.\n",
    "\n",
    "After this problem, there will be two new variables, **ari_score_db** and __s_score_db__ defined.\n",
    "\n",
    "-----"
   ]
  },
  {
   "cell_type": "code",
   "execution_count": 11,
   "metadata": {
    "nbgrader": {
     "grade": false,
     "grade_id": "p5-answer",
     "locked": false,
     "schema_version": 3,
     "solution": true
    }
   },
   "outputs": [],
   "source": [
    "from sklearn import metrics\n",
    "\n",
    "### BEGIN SOLUTION\n",
    "pred_clusters = dbscan.labels_\n",
    "ari_score_db = metrics.adjusted_rand_score(label, pred_clusters)\n",
    "s_score_db = metrics.silhouette_score(data_ss, pred_clusters)\n",
    "### END SOLUTION"
   ]
  },
  {
   "cell_type": "code",
   "execution_count": 12,
   "metadata": {
    "nbgrader": {
     "grade": true,
     "grade_id": "p5-test",
     "locked": true,
     "points": 1,
     "schema_version": 3,
     "solution": false
    }
   },
   "outputs": [
    {
     "name": "stdout",
     "output_type": "stream",
     "text": [
      "Adjusted Rand Index: 0.732\n",
      "Silhouette Score: 0.485\n"
     ]
    }
   ],
   "source": [
    "assert_true(ari_score_db>0.73, msg='Adjusted Rand Index is not correct')\n",
    "assert_true(s_score_db>0.48, msg='Silhouette score is not correct')\n",
    "print(f\"Adjusted Rand Index: {ari_score_db:5.3f}\")\n",
    "print(f\"Silhouette Score: {s_score_db:5.3f}\")"
   ]
  }
 ],
 "metadata": {
  "celltoolbar": "Create Assignment",
  "coursera": {
   "course_slug": "data-analytics-accountancy-2",
   "graded_item_id": "GrQNK",
   "launcher_item_id": "m1_assignment"
  },
  "kernelspec": {
   "display_name": "Python 3",
   "language": "python",
   "name": "python3"
  },
  "language_info": {
   "codemirror_mode": {
    "name": "ipython",
    "version": 3
   },
   "file_extension": ".py",
   "mimetype": "text/x-python",
   "name": "python",
   "nbconvert_exporter": "python",
   "pygments_lexer": "ipython3",
   "version": "3.7.3"
  }
 },
 "nbformat": 4,
 "nbformat_minor": 2
}
