{
 "cells": [
  {
   "cell_type": "markdown",
   "metadata": {},
   "source": [
    "# Module 4 Assignment\n",
    "\n",
    "\n",
    "A few things you should keep in mind when working on assignments:\n",
    "\n",
    "1. Before you submit your assignment, make sure everything runs as expected. Go to the menubar, select Kernel, and Restart & Run all. \n",
    "2. Make sure that you save your work.\n",
    "3. Upload your notebook to Compass.\n",
    "\n",
    "-----"
   ]
  },
  {
   "cell_type": "markdown",
   "metadata": {},
   "source": [
    "\n",
    "# Prepare Breast Cancer Data\n",
    "\n",
    "In this assignment we will use the breast cancer dataset. Before we attempt to build models, we first prepare the data.\n",
    "\n",
    "Please run the next two code cells before proceeding to Problem 1.\n",
    "\n",
    "-----"
   ]
  },
  {
   "cell_type": "code",
   "execution_count": null,
   "metadata": {},
   "outputs": [],
   "source": [
    "import pandas as pd\n",
    "from sklearn.model_selection import train_test_split\n",
    "from sklearn.preprocessing import LabelEncoder\n",
    "\n",
    "#Load breast cancer dataset\n",
    "df = pd.read_csv('breast-cancer-wisconsin.csv')\n",
    "label = LabelEncoder().fit_transform(df['class'])\n",
    "data = df[['clump thickness', 'uniformity cell size', 'uniformity cell shape', 'marginal adhesion', 'epithelial cell size', 'bare nuclei', 'bland chromatin', 'normal nucleoli', 'mitoses']]\n",
    "d_train, d_test, l_train, l_test = train_test_split(data, label, test_size=0.3, random_state=23)\n",
    "d_train.sample(2)"
   ]
  },
  {
   "cell_type": "code",
   "execution_count": null,
   "metadata": {},
   "outputs": [],
   "source": [
    "# Cancer classes\n",
    "df['class'].unique()"
   ]
  },
  {
   "cell_type": "markdown",
   "metadata": {},
   "source": [
    "\n",
    "---\n",
    "\n",
    "# Problem 1: Perform K-Nearest Neighbors Classification\n",
    "\n",
    "Your task for this problem is to build and use the scikit learn library's `KNeighborsClassifier` estimator to make predictions on the breast cancer dataset. \n",
    "\n",
    "To complete the task, do the following:\n",
    "\n",
    "1. Import needed modules.\n",
    "2. Create a `KNeighborsClassifier` estimator **knn_model** by using scikit learn. Set n_neighbors to 10 and accept default values for other hyperparameter.\n",
    "3. Fit the `KNeighborsClassifier` estimator using d_train and l_train created above.\n",
    "4. Calculate the accuracy score of the knn_model and assign the value to variable **knn_score**.\n",
    " - Apply knn_model on d_test to get predicted value.\n",
    " - Use `accuracy_score` function in sklearn module to calculate the accuracy score.\n",
    "5. Print the accuracy score.\n",
    "6. Print the classification report.\n",
    "\n",
    "After this problem, there will be a trained K-Nearest Neighbors Classifier **knn_model** and accuracy score __knn_score__.\n",
    "\n",
    "-----"
   ]
  },
  {
   "cell_type": "code",
   "execution_count": null,
   "metadata": {},
   "outputs": [],
   "source": [
    "# Your answer\n"
   ]
  },
  {
   "cell_type": "markdown",
   "metadata": {},
   "source": [
    "---\n",
    "\n",
    "# Problem 2: Create and Train a Logistic Regression Model\n",
    "\n",
    "Your task for this problem is to build and use the scikit learn library's `LogisticRegression` estimator to make predictions on the breast cancer dataset.  \n",
    "\n",
    "To complete the task, do the following:\n",
    "1. Import needed modules.\n",
    "2. Create a `LogisticRegression` estimator **lr_model** by using scikit learn. Accept default values for all arguments.\n",
    "3. Fit the `LogisticRegression` estimator using d_train and l_train.\n",
    "4. Calculate the accuracy score of the lr_model.\n",
    " - Apply lr_model on d_test to get predicted value.\n",
    " - Use `accuracy_score` function in sklearn module to calculate the accuracy score.\n",
    "5. Display the accuracy score.\n",
    "\n",
    "After this problem, there will be a trained logistic regression model **lr_model** defined.\n",
    "\n",
    "-----"
   ]
  },
  {
   "cell_type": "code",
   "execution_count": null,
   "metadata": {},
   "outputs": [],
   "source": [
    "# Your answer\n"
   ]
  },
  {
   "cell_type": "markdown",
   "metadata": {},
   "source": [
    "---\n",
    "\n",
    "# Problem 3: Get Confusion Matrix\n",
    "\n",
    "For this problem, you will get the confusion matrix of the lr_model created in Problem 2.\n",
    "\n",
    "To complete the task, do the following:\n",
    "\n",
    "1. Run next code cell to define the function `confusion` which plots a confusion matrix.\n",
    "2. Apply lr_model `predict` function to d_test to get predicted label, assign it to variable **l_pred**.\n",
    "3. Plot the confusion matrix using `confusion` function with the true lable **l_test** and predicted label __l_pred__. Set labels to `['Class 2', 'Class 4']`.\n",
    "\n",
    "-----"
   ]
  },
  {
   "cell_type": "code",
   "execution_count": null,
   "metadata": {},
   "outputs": [],
   "source": [
    "import numpy as np\n",
    "import seaborn as sns\n",
    "def confusion(test, predict, labels, title='Confusion Matrix'):\n",
    "    '''\n",
    "        test: true label of test data, must be one dimensional\n",
    "        predict: predicted label of test data, must be one dimensional\n",
    "        labels: list of label names, ie: ['positive', 'negative']\n",
    "        title: plot title\n",
    "    '''\n",
    "\n",
    "    bins = len(labels)\n",
    "    # Make a 2D histogram from the test and result arrays\n",
    "    pts, xe, ye = np.histogram2d(test, predict, bins)\n",
    "\n",
    "    # For simplicity we create a new DataFrame\n",
    "    pd_pts = pd.DataFrame(pts.astype(int), index=labels, columns=labels )\n",
    "    \n",
    "    # Display heatmap and add decorations\n",
    "    hm = sns.heatmap(pd_pts, annot=True, fmt=\"d\")    \n",
    "    hm.axes.set_title(title, fontsize=20)\n",
    "    hm.axes.set_xlabel('Predicted', fontsize=18)\n",
    "    hm.axes.set_ylabel('Actual', fontsize=18)\n",
    "\n",
    "    return None"
   ]
  },
  {
   "cell_type": "code",
   "execution_count": null,
   "metadata": {},
   "outputs": [],
   "source": [
    "# Your answer\n"
   ]
  },
  {
   "cell_type": "markdown",
   "metadata": {},
   "source": [
    "---\n",
    "# Problem 4: Prepare for ROC Curve - KNN\n",
    "\n",
    "For this problem, you will prepare data for the ROC curve for the K-Nearest Neighbors classification model **knn_model** created in Problem 1.\n",
    "\n",
    "To complete the task, do the following:\n",
    "1. Import needed modules.\n",
    "2. Calculate the positive class probability of the knn_model with `predict_proba` method and assign it to variable **y_score_knn**.(Hint: the 2nd column of `predict_proba` return value is the positive probability, ie. `knn_model.predict_proba(d_test)[:, 1]`.)\n",
    "3. Calculate the false positive rate, true positive rate and thresholds with `roc_curve` function. Assign return values of `roc_curve` to **fpr_knn, tpr_knn** and __thresholds_knn__.\n",
    "4. Get auc value with `auc` function and assign it to variable **roc_auc_knn**.\n",
    "5. Display **roc_auc_knn**.\n",
    "\n",
    "After this problem, you will have following variables defined: **y_score_knn, fpr_knn, tpr_knn, thresholds_knn** and __roc_auc_knn__."
   ]
  },
  {
   "cell_type": "code",
   "execution_count": null,
   "metadata": {},
   "outputs": [],
   "source": [
    "# Your answer\n"
   ]
  },
  {
   "cell_type": "markdown",
   "metadata": {},
   "source": [
    "---\n",
    "# Problem 5: Prepare for ROC Curve - Logistic Regression\n",
    "\n",
    "For this problem, you will prepare data for the ROC curve for the Logistic Regression model **lr_model** created in problem 2.\n",
    "\n",
    "To complete the task, do the following:\n",
    "1. Import needed modules.\n",
    "2. Calculate the positive class probability of the lr_model with `decision_function` method and assign it to variable **y_score_lr**.\n",
    "3. Calculate the false positive rate, true positive rate and thresholds with `roc_curve` function. Assign return values of `roc_curve` to **fpr_lr, tpr_lr** and __thresholds_lr__.\n",
    "4. Get auc value with `auc` function and assign it to variable **roc_auc_lr**.\n",
    "5. Display **roc_auc_lr**.\n",
    "\n",
    "After this problem, you will have following variables defined: **y_score_lr, fpr_lr, tpr_lr, thresholds_lr** and __roc_auc_lr__."
   ]
  },
  {
   "cell_type": "code",
   "execution_count": null,
   "metadata": {},
   "outputs": [],
   "source": [
    "# Your answer\n",
    "# Grab positive class probability\n"
   ]
  },
  {
   "cell_type": "markdown",
   "metadata": {},
   "source": [
    "## Plot ROC Curve\n",
    "\n",
    "Run following code to plot the ROC curve after you complete all problems above. If you answer all problem correctly, you should see an ROC plot for the two classification models created in Problems 1 and 2."
   ]
  },
  {
   "cell_type": "code",
   "execution_count": null,
   "metadata": {},
   "outputs": [],
   "source": [
    "import matplotlib.pyplot as plt\n",
    "# Make the plots\n",
    "fig, ax = plt.subplots(figsize=(8, 8))\n",
    "\n",
    "# Plot data and model\n",
    "\n",
    "ax.plot(fpr_knn, tpr_knn, alpha = 0.5, linestyle=':',\n",
    "        label=f'KNN (AUC = {roc_auc_knn:4.2f})')\n",
    "\n",
    "ax.plot(fpr_lr, tpr_lr, alpha = 0.5, linestyle='-.',\n",
    "        label=f'Logistic Regression (AUC = {roc_auc_lr:4.2f})')\n",
    "\n",
    "\n",
    "ax.plot([0, 1], [0, 1], alpha = 0.5, lw=1, linestyle='-', label='Random')\n",
    "ax.plot([0, 0, 1], [0, 1, 1], alpha = 0.5, lw=1, linestyle='-.', label='Perfect')\n",
    "\n",
    "# Decorate plot appropriately\n",
    "ax.set_title('ROC Curve', fontsize=18)\n",
    "ax.set_xlabel('False Positive Rate', fontsize=16)\n",
    "ax.set_ylabel('True Positive Rate', fontsize=16)\n",
    "ax.set_xlim(-0.05, 1.05)\n",
    "ax.set_ylim(-0.05, 1.05)\n",
    "ax.set_aspect('equal')\n",
    "ax.legend(loc=4, fontsize=14)\n",
    "sns.despine(offset=5, trim=True)"
   ]
  }
 ],
 "metadata": {
  "kernelspec": {
   "display_name": "Python 3",
   "language": "python",
   "name": "python3"
  },
  "language_info": {
   "codemirror_mode": {
    "name": "ipython",
    "version": 3
   },
   "file_extension": ".py",
   "mimetype": "text/x-python",
   "name": "python",
   "nbconvert_exporter": "python",
   "pygments_lexer": "ipython3",
   "version": "3.8.5"
  }
 },
 "nbformat": 4,
 "nbformat_minor": 4
}
