{
 "cells": [
  {
   "cell_type": "markdown",
   "metadata": {},
   "source": [
    "# Module 5 Assignment\n",
    "\n",
    "\n",
    "A few things you should keep in mind when working on assignments:\n",
    "\n",
    "1. Before you submit your assignment, make sure everything runs as expected. Go to the menubar, select Kernel, and Restart & Run all. \n",
    "2. Make sure that you save your work.\n",
    "3. Upload your notebook to Compass.\n",
    "\n",
    "-----"
   ]
  },
  {
   "cell_type": "markdown",
   "metadata": {},
   "source": [
    "\n",
    "# Prepare MPG Data\n",
    "\n",
    "In this assignment, we will use the mpg dataset to make a regression model. Before we attempt to build a model, we first prepare the data.\n",
    "\n",
    "Please run the next code cell before proceeding to Problem 1.\n",
    "\n",
    "-----"
   ]
  },
  {
   "cell_type": "code",
   "execution_count": 1,
   "metadata": {},
   "outputs": [
    {
     "data": {
      "text/html": [
       "<div>\n",
       "<style scoped>\n",
       "    .dataframe tbody tr th:only-of-type {\n",
       "        vertical-align: middle;\n",
       "    }\n",
       "\n",
       "    .dataframe tbody tr th {\n",
       "        vertical-align: top;\n",
       "    }\n",
       "\n",
       "    .dataframe thead th {\n",
       "        text-align: right;\n",
       "    }\n",
       "</style>\n",
       "<table border=\"1\" class=\"dataframe\">\n",
       "  <thead>\n",
       "    <tr style=\"text-align: right;\">\n",
       "      <th></th>\n",
       "      <th>cylinders</th>\n",
       "      <th>displacement</th>\n",
       "      <th>horsepower</th>\n",
       "      <th>weight</th>\n",
       "      <th>acceleration</th>\n",
       "      <th>model_year</th>\n",
       "      <th>origin</th>\n",
       "    </tr>\n",
       "  </thead>\n",
       "  <tbody>\n",
       "    <tr>\n",
       "      <th>162</th>\n",
       "      <td>6</td>\n",
       "      <td>231.0</td>\n",
       "      <td>110.0</td>\n",
       "      <td>3039</td>\n",
       "      <td>15.0</td>\n",
       "      <td>75</td>\n",
       "      <td>2</td>\n",
       "    </tr>\n",
       "    <tr>\n",
       "      <th>374</th>\n",
       "      <td>4</td>\n",
       "      <td>120.0</td>\n",
       "      <td>88.0</td>\n",
       "      <td>2160</td>\n",
       "      <td>14.5</td>\n",
       "      <td>82</td>\n",
       "      <td>1</td>\n",
       "    </tr>\n",
       "  </tbody>\n",
       "</table>\n",
       "</div>"
      ],
      "text/plain": [
       "     cylinders  displacement  horsepower  weight  acceleration  model_year  \\\n",
       "162          6         231.0       110.0    3039          15.0          75   \n",
       "374          4         120.0        88.0    2160          14.5          82   \n",
       "\n",
       "     origin  \n",
       "162       2  \n",
       "374       1  "
      ]
     },
     "execution_count": 1,
     "metadata": {},
     "output_type": "execute_result"
    }
   ],
   "source": [
    "import pandas as pd\n",
    "from sklearn.model_selection import train_test_split\n",
    "from sklearn.preprocessing import LabelEncoder\n",
    "#load MPG dataset\n",
    "mpg = pd.read_csv('mpg.csv')\n",
    "mpg.dropna(inplace=True)\n",
    "mpg['origin'] = LabelEncoder().fit_transform(mpg.origin)\n",
    "y = mpg['mpg']\n",
    "x = mpg[['cylinders', 'displacement', 'horsepower', 'weight', 'acceleration', 'model_year', 'origin']]\n",
    "\n",
    "# Split data intro training:testing data set\n",
    "x_train, x_test, y_train, y_test = train_test_split(x, y, test_size=0.4, random_state=23)\n",
    "x_train.sample(2)"
   ]
  },
  {
   "cell_type": "markdown",
   "metadata": {},
   "source": [
    "---\n",
    "# Problem 1: Get Feature Ranking by Recursive Feature Extraction\n",
    "\n",
    "Perform RFE on a Random Forest Regressor and retrieve feature rankings.\n",
    "\n",
    "This problem will use **x** and __y__ created above.\n",
    "\n",
    "To solve this problem do the following:\n",
    "1. Import needed modules.\n",
    "2. Create a `RandomForestRegressor` estimator. Set `n_estimators` to 100 and accept default values for all other hyperparameters.\n",
    "3. Create a Recursive Feature Estimator `RFE` using the random forest regressor created in step 1 as the `estimator`, set `n_features_to_select ` to 1. Accept default values for other arguments.\n",
    "4. Fit the RFE estimator using **x** and __y__.\n",
    "5. Display feature rankings.\n",
    " - Retrive feature rankings from the `RFE` selector's `ranking_` attribute.\n",
    " - Zip the feature ranking with column names of **x** and sort the zipped object with the ranking.\n",
    " - Print out the feature rankings in `column_name rank = ranking` format. (ie. `displacement rank = 1`)\n"
   ]
  },
  {
   "cell_type": "code",
   "execution_count": 2,
   "metadata": {},
   "outputs": [
    {
     "name": "stdout",
     "output_type": "stream",
     "text": [
      "      displacement rank = 1\n",
      "            weight rank = 2\n",
      "        horsepower rank = 3\n",
      "         cylinders rank = 4\n",
      "        model_year rank = 5\n",
      "      acceleration rank = 6\n",
      "            origin rank = 7\n"
     ]
    }
   ],
   "source": [
    "# Your answer\n",
    "from sklearn.ensemble import RandomForestRegressor\n",
    "from sklearn.feature_selection import RFE\n",
    "\n",
    "rfr = RandomForestRegressor(n_estimators=100)\n",
    "rfe = RFE(rfr, n_features_to_select=1)\n",
    "rfe.fit(x, y)\n",
    "for var, name in sorted(zip(rfe.ranking_, x.columns), key=lambda x: x[0]):\n",
    "    print(f'{name:>18} rank = {var}')"
   ]
  },
  {
   "cell_type": "markdown",
   "metadata": {},
   "source": [
    "---\n",
    "\n",
    "# Problem 2: Get Accuracy Score of a Random Forest Regressor\n",
    "\n",
    "This problem will use **x_train, x_test, y_train** and __y_test__ created above.\n",
    "\n",
    "Your task for this problem is to build and train a `RandomForestRegressor` estimator on mpg data and calculate the estimator's $R^2$ score.\n",
    "\n",
    "To solve this problem do the following:\n",
    "1. Import needed modules.\n",
    "2. Create a `RandomForestRegressor` estimator **rfr**. Set `n_estimators` to 100 and accept default values for all other hyperparameters.\n",
    "3. Fit the RandomForestRegressor estimator using x_train and y_train.\n",
    "4. Apply rfr `predict` function on x_test to get predicted mpg, save it as **y_pred**.\n",
    "5. Use `r2_score` function with y_test and y_pred to get $R^2$ and display the $R^2$ score.\n",
    "\n",
    "-----"
   ]
  },
  {
   "cell_type": "code",
   "execution_count": 3,
   "metadata": {},
   "outputs": [
    {
     "data": {
      "text/plain": [
       "0.841259293744281"
      ]
     },
     "execution_count": 3,
     "metadata": {},
     "output_type": "execute_result"
    }
   ],
   "source": [
    "# Your answer\n",
    "from sklearn.ensemble import RandomForestRegressor\n",
    "from sklearn.metrics import r2_score\n",
    "\n",
    "rfr = RandomForestRegressor(n_estimators=100)\n",
    "rfr.fit(x_train, y_train)\n",
    "y_pred = rfr.predict(x_test)\n",
    "r2 = r2_score(y_test, y_pred)\n",
    "r2"
   ]
  },
  {
   "cell_type": "markdown",
   "metadata": {},
   "source": [
    "---\n",
    "\n",
    "# Problem 3: Get the Cross Validation Scores\n",
    "\n",
    "Get the cross validation scores for a random forest regressor.\n",
    "\n",
    "This problem will use **x** and __y__ created above.\n",
    "\n",
    "To solve this problem do the following:\n",
    "1. Import needed modules.\n",
    "2. Create a `RandomForestRegressor` estimator. Set `n_estimators` to 100 and accept default values for all other hyperparameters.\n",
    "3. Create `KFold` iterator. Set `n_splits` to 5.\n",
    "4. Calculate cross validation scores using `cross_val_score` function with the random forest regressor, x, y and the `KFold` iterator. Assign scores to variable **cv_scores**.\n",
    "5. Use numpy mean() method to calculate the average cross validation score and display the average score.\n",
    "\n",
    "-----"
   ]
  },
  {
   "cell_type": "code",
   "execution_count": 4,
   "metadata": {},
   "outputs": [
    {
     "data": {
      "text/plain": [
       "0.7498041953962813"
      ]
     },
     "execution_count": 4,
     "metadata": {},
     "output_type": "execute_result"
    }
   ],
   "source": [
    "# Your answer\n",
    "import numpy as np\n",
    "from sklearn.ensemble import RandomForestRegressor\n",
    "from sklearn.model_selection import KFold\n",
    "from sklearn.model_selection import cross_val_score\n",
    "\n",
    "rfr = RandomForestRegressor(n_estimators=100)\n",
    "skf = KFold(n_splits=5)\n",
    "cv_scores = cross_val_score(rfr, x, y, cv=skf)\n",
    "np.mean(cv_scores)"
   ]
  },
  {
   "cell_type": "markdown",
   "metadata": {},
   "source": [
    "-----\n",
    "\n",
    "# Prepare Breast Cancer Data\n",
    "\n",
    "For next 2 problems we will use the breast cancer dataset. Before we attempt to build models, we first prepare the data.\n",
    "\n",
    "Please run the next two code cells before proceeding to Problem 4.\n",
    "\n",
    "-----"
   ]
  },
  {
   "cell_type": "code",
   "execution_count": 5,
   "metadata": {},
   "outputs": [
    {
     "data": {
      "text/html": [
       "<div>\n",
       "<style scoped>\n",
       "    .dataframe tbody tr th:only-of-type {\n",
       "        vertical-align: middle;\n",
       "    }\n",
       "\n",
       "    .dataframe tbody tr th {\n",
       "        vertical-align: top;\n",
       "    }\n",
       "\n",
       "    .dataframe thead th {\n",
       "        text-align: right;\n",
       "    }\n",
       "</style>\n",
       "<table border=\"1\" class=\"dataframe\">\n",
       "  <thead>\n",
       "    <tr style=\"text-align: right;\">\n",
       "      <th></th>\n",
       "      <th>clump thickness</th>\n",
       "      <th>uniformity cell size</th>\n",
       "      <th>uniformity cell shape</th>\n",
       "      <th>marginal adhesion</th>\n",
       "      <th>epithelial cell size</th>\n",
       "      <th>bare nuclei</th>\n",
       "      <th>bland chromatin</th>\n",
       "      <th>normal nucleoli</th>\n",
       "      <th>mitoses</th>\n",
       "    </tr>\n",
       "  </thead>\n",
       "  <tbody>\n",
       "    <tr>\n",
       "      <th>117</th>\n",
       "      <td>3</td>\n",
       "      <td>2</td>\n",
       "      <td>1</td>\n",
       "      <td>1</td>\n",
       "      <td>2</td>\n",
       "      <td>2</td>\n",
       "      <td>3</td>\n",
       "      <td>1</td>\n",
       "      <td>1</td>\n",
       "    </tr>\n",
       "    <tr>\n",
       "      <th>29</th>\n",
       "      <td>3</td>\n",
       "      <td>1</td>\n",
       "      <td>1</td>\n",
       "      <td>1</td>\n",
       "      <td>1</td>\n",
       "      <td>1</td>\n",
       "      <td>2</td>\n",
       "      <td>1</td>\n",
       "      <td>1</td>\n",
       "    </tr>\n",
       "  </tbody>\n",
       "</table>\n",
       "</div>"
      ],
      "text/plain": [
       "     clump thickness  uniformity cell size  uniformity cell shape  \\\n",
       "117                3                     2                      1   \n",
       "29                 3                     1                      1   \n",
       "\n",
       "     marginal adhesion  epithelial cell size  bare nuclei  bland chromatin  \\\n",
       "117                  1                     2            2                3   \n",
       "29                   1                     1            1                2   \n",
       "\n",
       "     normal nucleoli  mitoses  \n",
       "117                1        1  \n",
       "29                 1        1  "
      ]
     },
     "execution_count": 5,
     "metadata": {},
     "output_type": "execute_result"
    }
   ],
   "source": [
    "from sklearn.model_selection import train_test_split\n",
    "from sklearn.preprocessing import LabelEncoder\n",
    "\n",
    "#Load breast cancer dataset\n",
    "df = pd.read_csv('breast-cancer-wisconsin.csv')\n",
    "#reduce data size\n",
    "df = df.sample(200, random_state=23)\n",
    "label = df['class']\n",
    "data = df[['clump thickness', 'uniformity cell size', 'uniformity cell shape', 'marginal adhesion', 'epithelial cell size', 'bare nuclei', 'bland chromatin', 'normal nucleoli', 'mitoses']]\n",
    "data.head(2)"
   ]
  },
  {
   "cell_type": "markdown",
   "metadata": {},
   "source": [
    "---\n",
    "\n",
    "# Problem 4: Find Best Estimator with Grid Search\n",
    "\n",
    "Conduct grid search cross validation on the random forest classifier and get the best estimator.\n",
    "\n",
    "This problem will use **data** and __label__ created above.\n",
    "\n",
    "To solve this problem do the following:\n",
    "1. Import needed modules.\n",
    "2. Create a `RandomForestClassifier` estimator.\n",
    "3. Create a `StratifiedKFold` iterator with `n_splits` equals 5.\n",
    "4. Create variable **estimators** with value `[20, 40, 60, 80, 100]`.\n",
    "5. Create parameter dictionary **params** and set key to `'n_estimators'` and value to the list `estimators` created in previous step.\n",
    "6. Create `GridSearchCV` object **gse**:\n",
    " - Set `estimator` to the random forest classifier estimator.\n",
    " - Set `param_grid` to the parameter dictionary `params`.\n",
    " - Set `cv` to the stratified k-fold iterator created in step 3.\n",
    "7. Fit the `GridSearchCV` object created in the previous step using **data** and __label__.\n",
    "8. Print out the optimum `n_estimators`.\n",
    " - Retrieve the best estimator by calling `get_parames()` method from the `GridSearchCV` object's `best_estimator_` attribute.\n",
    " - Get the optimum n_estimators value with the key `n_estimators`.\n",
    "9. Retrieve the best cross validation score from the `GridSearchCV` object's `best_score_` and print out the best score.\n",
    "\n",
    "-----"
   ]
  },
  {
   "cell_type": "code",
   "execution_count": 6,
   "metadata": {},
   "outputs": [
    {
     "name": "stdout",
     "output_type": "stream",
     "text": [
      "Best n_estimators=40.0000\n",
      "Best CV Score = 0.975\n"
     ]
    }
   ],
   "source": [
    "# Your answer\n",
    "\n",
    "from sklearn.ensemble import RandomForestClassifier\n",
    "from sklearn.model_selection import StratifiedKFold, GridSearchCV\n",
    "\n",
    "rfc = RandomForestClassifier()\n",
    "n_estimators = [20, 40, 60, 80, 100]\n",
    "skf = StratifiedKFold(n_splits=5)\n",
    "\n",
    "# Create a dictionary of hyperparameters and values\n",
    "params = {'n_estimators':n_estimators}\n",
    "\n",
    "# Create grid search cross validator\n",
    "gse = GridSearchCV(estimator=rfc, param_grid=params, cv=skf)\n",
    "\n",
    "# Fit estimator\n",
    "gse.fit(data, label)\n",
    "\n",
    "print(f'Best n_estimators={gse.best_estimator_.get_params()[\"n_estimators\"]:5.4f}')\n",
    "print(f'Best CV Score = {gse.best_score_:4.3f}')"
   ]
  },
  {
   "cell_type": "markdown",
   "metadata": {},
   "source": [
    "---\n",
    "\n",
    "# Problem 5: Find Best Estimator with Random Grid Search\n",
    "\n",
    "Conduct random grid search cross validation on the random forest classifier and get the best estimator.\n",
    "\n",
    "This problem will use **data** and __label__ created above.\n",
    "\n",
    "To solve this problem do the following:\n",
    "1. Import needed modules.\n",
    "2. Create a `RandomForestClassifier` estimator.\n",
    "3. Create a `StratifiedKFold` iterator with `n_splits` equals 5.\n",
    "4. Create variable **estimators** with value `range(20,100)`.\n",
    "5. Create variable __weights__ with value `[None, 'balanced']`.\n",
    "6. Create parameter dictionary **params** with two keys, `'n_estimators'` and `'class_weight'`, and two list values `estimators` and `weights` created in previous steps.\n",
    "7. Create `RandomizedSearchCV` object **rgse**.\n",
    " - Set `estimator` to the random forest classifier estimator.\n",
    " - Set `param_distributions` to the parameter dictionary `params`.\n",
    " - Set `cv` to the stratified k-fold iterator.\n",
    " - Set `n_iter` to 5.\n",
    "8. Fit the `RandomizedSearchCV` object created in previous step using **data** and __label__.\n",
    "9. Print out the optimum `n_estimators` and `class_weight`.\n",
    " - Retrieve the best estimator by calling `get_parames()` method from the `RandomizedSearchCV` object's `best_estimator_` attribute.\n",
    " - Get the optimum n_estimators value with the key `n_estimators`.\n",
    " - Get the optimum class weight value with the key `class_weight`.\n",
    "10. Retrieve the best cross validation score from the `RandomizedSearchCV` object's `best_score_` and print out the best score.\n",
    "\n",
    "-----"
   ]
  },
  {
   "cell_type": "code",
   "execution_count": 7,
   "metadata": {},
   "outputs": [
    {
     "name": "stdout",
     "output_type": "stream",
     "text": [
      "Best n_estimators=69\n",
      "Best class_weight=None\n",
      "Best CV Score = 0.975\n"
     ]
    }
   ],
   "source": [
    "# Your answer\n",
    "from sklearn.ensemble import RandomForestClassifier\n",
    "from sklearn.model_selection import StratifiedKFold, RandomizedSearchCV\n",
    "\n",
    "rfc = RandomForestClassifier()\n",
    "skf = StratifiedKFold(n_splits=5)\n",
    "\n",
    "estimators = range(20, 100)\n",
    "weights = [None, 'balanced']\n",
    "# Create a dictionary of hyperparameters and values\n",
    "params = {'n_estimators':estimators, 'class_weight':weights}\n",
    "\n",
    "# Create grid search cross validator\n",
    "rgse = RandomizedSearchCV(estimator=rfc, param_distributions=params, n_iter=5, cv=skf)\n",
    "\n",
    "# Fit estimator\n",
    "rgse.fit(data, label)\n",
    "\n",
    "print(f'Best n_estimators={rgse.best_estimator_.get_params()[\"n_estimators\"]}')\n",
    "print(f'Best class_weight={rgse.best_estimator_.get_params()[\"class_weight\"]}')\n",
    "print(f'Best CV Score = {gse.best_score_:5.3f}')"
   ]
  }
 ],
 "metadata": {
  "kernelspec": {
   "display_name": "Python 3",
   "language": "python",
   "name": "python3"
  },
  "language_info": {
   "codemirror_mode": {
    "name": "ipython",
    "version": 3
   },
   "file_extension": ".py",
   "mimetype": "text/x-python",
   "name": "python",
   "nbconvert_exporter": "python",
   "pygments_lexer": "ipython3",
   "version": "3.8.5"
  }
 },
 "nbformat": 4,
 "nbformat_minor": 4
}
