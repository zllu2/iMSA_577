{
 "cells": [
  {
   "cell_type": "markdown",
   "metadata": {},
   "source": [
    "# Module 5 Assignment\n",
    "\n",
    "\n",
    "A few things you should keep in mind when working on assignments:\n",
    "\n",
    "1. Before you submit your assignment, make sure everything runs as expected. Go to the menubar, select Kernel, and Restart & Run all. \n",
    "2. Make sure that you save your work.\n",
    "3. Upload your notebook to Compass.\n",
    "\n",
    "-----"
   ]
  },
  {
   "cell_type": "markdown",
   "metadata": {},
   "source": [
    "\n",
    "# Prepare MPG Data\n",
    "\n",
    "In this assignment, we will use the mpg dataset to make a regression model. Before we attempt to build a model, we first prepare the data.\n",
    "\n",
    "Please run the next code cell before proceeding to Problem 1.\n",
    "\n",
    "-----"
   ]
  },
  {
   "cell_type": "code",
   "execution_count": null,
   "metadata": {},
   "outputs": [],
   "source": [
    "import pandas as pd\n",
    "from sklearn.model_selection import train_test_split\n",
    "from sklearn.preprocessing import LabelEncoder\n",
    "#load MPG dataset\n",
    "mpg = pd.read_csv('mpg.csv')\n",
    "mpg.dropna(inplace=True)\n",
    "mpg['origin'] = LabelEncoder().fit_transform(mpg.origin)\n",
    "y = mpg['mpg']\n",
    "x = mpg[['cylinders', 'displacement', 'horsepower', 'weight', 'acceleration', 'model_year', 'origin']]\n",
    "\n",
    "# Split data intro training:testing data set\n",
    "x_train, x_test, y_train, y_test = train_test_split(x, y, test_size=0.4, random_state=23)\n",
    "x_train.sample(2)"
   ]
  },
  {
   "cell_type": "markdown",
   "metadata": {},
   "source": [
    "---\n",
    "# Problem 1: Get Feature Ranking by Recursive Feature Extraction\n",
    "\n",
    "Perform RFE on a Random Forest Regressor and retrieve feature rankings.\n",
    "\n",
    "This problem will use **x** and __y__ created above.\n",
    "\n",
    "To solve this problem do the following:\n",
    "1. Import needed modules.\n",
    "2. Create a `RandomForestRegressor` estimator. Set `n_estimators` to 100 and accept default values for all other hyperparameters.\n",
    "3. Create a Recursive Feature Estimator `RFE` using the random forest regressor created in step 1 as the `estimator`, set `n_features_to_select ` to 1. Accept default values for other arguments.\n",
    "4. Fit the RFE estimator using **x** and __y__.\n",
    "5. Display feature rankings.\n",
    " - Retrive feature rankings from the `RFE` selector's `ranking_` attribute.\n",
    " - Zip the feature ranking with column names of **x** and sort the zipped object with the ranking.\n",
    " - Print out the feature rankings in `column_name rank = ranking` format. (ie. `displacement rank = 1`)\n"
   ]
  },
  {
   "cell_type": "code",
   "execution_count": null,
   "metadata": {},
   "outputs": [],
   "source": [
    "# Your answer\n"
   ]
  },
  {
   "cell_type": "markdown",
   "metadata": {},
   "source": [
    "---\n",
    "\n",
    "# Problem 2: Get Accuracy Score of a Random Forest Regressor\n",
    "\n",
    "This problem will use **x_train, x_test, y_train** and __y_test__ created above.\n",
    "\n",
    "Your task for this problem is to build and train a `RandomForestRegressor` estimator on mpg data and calculate the estimator's $R^2$ score.\n",
    "\n",
    "To solve this problem do the following:\n",
    "1. Import needed modules.\n",
    "2. Create a `RandomForestRegressor` estimator **rfr**. Set `n_estimators` to 100 and accept default values for all other hyperparameters.\n",
    "3. Fit the RandomForestRegressor estimator using x_train and y_train.\n",
    "4. Apply rfr `predict` function on x_test to get predicted mpg, save it as **y_pred**.\n",
    "5. Use `r2_score` function with y_test and y_pred to get $R^2$ and display the $R^2$ score.\n",
    "\n",
    "-----"
   ]
  },
  {
   "cell_type": "code",
   "execution_count": null,
   "metadata": {},
   "outputs": [],
   "source": [
    "# Your answer\n"
   ]
  },
  {
   "cell_type": "markdown",
   "metadata": {},
   "source": [
    "---\n",
    "\n",
    "# Problem 3: Get the Cross Validation Scores\n",
    "\n",
    "Get the cross validation scores for a random forest regressor.\n",
    "\n",
    "This problem will use **x** and __y__ created above.\n",
    "\n",
    "To solve this problem do the following:\n",
    "1. Import needed modules.\n",
    "2. Create a `RandomForestRegressor` estimator. Set `n_estimators` to 100 and accept default values for all other hyperparameters.\n",
    "3. Create `KFold` iterator. Set `n_splits` to 5.\n",
    "4. Calculate cross validation scores using `cross_val_score` function with the random forest regressor, x, y and the `KFold` iterator. Assign scores to variable **cv_scores**.\n",
    "5. Use numpy mean() method to calculate the average cross validation score and display the average score.\n",
    "\n",
    "-----"
   ]
  },
  {
   "cell_type": "code",
   "execution_count": null,
   "metadata": {},
   "outputs": [],
   "source": [
    "# Your answer\n"
   ]
  },
  {
   "cell_type": "markdown",
   "metadata": {},
   "source": [
    "-----\n",
    "\n",
    "# Prepare Breast Cancer Data\n",
    "\n",
    "For next 2 problems we will use the breast cancer dataset. Before we attempt to build models, we first prepare the data.\n",
    "\n",
    "Please run the next two code cells before proceeding to Problem 4.\n",
    "\n",
    "-----"
   ]
  },
  {
   "cell_type": "code",
   "execution_count": null,
   "metadata": {},
   "outputs": [],
   "source": [
    "from sklearn.model_selection import train_test_split\n",
    "from sklearn.preprocessing import LabelEncoder\n",
    "\n",
    "#Load breast cancer dataset\n",
    "df = pd.read_csv('breast-cancer-wisconsin.csv')\n",
    "#reduce data size\n",
    "df = df.sample(200, random_state=23)\n",
    "label = df['class']\n",
    "data = df[['clump thickness', 'uniformity cell size', 'uniformity cell shape', 'marginal adhesion', 'epithelial cell size', 'bare nuclei', 'bland chromatin', 'normal nucleoli', 'mitoses']]\n",
    "data.head(2)"
   ]
  },
  {
   "cell_type": "markdown",
   "metadata": {},
   "source": [
    "---\n",
    "\n",
    "# Problem 4: Find Best Estimator with Grid Search\n",
    "\n",
    "Conduct grid search cross validation on the random forest classifier and get the best estimator.\n",
    "\n",
    "This problem will use **data** and __label__ created above.\n",
    "\n",
    "To solve this problem do the following:\n",
    "1. Import needed modules.\n",
    "2. Create a `RandomForestClassifier` estimator.\n",
    "3. Create a `StratifiedKFold` iterator with `n_splits` equals 5.\n",
    "4. Create variable **estimators** with value `[20, 40, 60, 80, 100]`.\n",
    "5. Create parameter dictionary **params** and set key to `'n_estimators'` and value to the list `estimators` created in previous step.\n",
    "6. Create `GridSearchCV` object **gse**:\n",
    " - Set `estimator` to the random forest classifier estimator.\n",
    " - Set `param_grid` to the parameter dictionary `params`.\n",
    " - Set `cv` to the stratified k-fold iterator created in step 3.\n",
    "7. Fit the `GridSearchCV` object created in the previous step using **data** and __label__.\n",
    "8. Print out the optimum `n_estimators`.\n",
    " - Retrieve the best estimator by calling `get_parames()` method from the `GridSearchCV` object's `best_estimator_` attribute.\n",
    " - Get the optimum n_estimators value with the key `n_estimators`.\n",
    "9. Retrieve the best cross validation score from the `GridSearchCV` object's `best_score_` and print out the best score.\n",
    "\n",
    "-----"
   ]
  },
  {
   "cell_type": "code",
   "execution_count": null,
   "metadata": {},
   "outputs": [],
   "source": [
    "# Your answer\n",
    "\n"
   ]
  },
  {
   "cell_type": "markdown",
   "metadata": {},
   "source": [
    "---\n",
    "\n",
    "# Problem 5: Find Best Estimator with Random Grid Search\n",
    "\n",
    "Conduct random grid search cross validation on the random forest classifier and get the best estimator.\n",
    "\n",
    "This problem will use **data** and __label__ created above.\n",
    "\n",
    "To solve this problem do the following:\n",
    "1. Import needed modules.\n",
    "2. Create a `RandomForestClassifier` estimator.\n",
    "3. Create a `StratifiedKFold` iterator with `n_splits` equals 5.\n",
    "4. Create variable **estimators** with value `range(20,100)`.\n",
    "5. Create variable __weights__ with value `[None, 'balanced']`.\n",
    "6. Create parameter dictionary **params** with two keys, `'n_estimators'` and `'class_weight'`, and two list values `estimators` and `weights` created in previous steps.\n",
    "7. Create `RandomizedSearchCV` object **rgse**.\n",
    " - Set `estimator` to the random forest classifier estimator.\n",
    " - Set `param_distributions` to the parameter dictionary `params`.\n",
    " - Set `cv` to the stratified k-fold iterator.\n",
    " - Set `n_iter` to 5.\n",
    "8. Fit the `RandomizedSearchCV` object created in previous step using **data** and __label__.\n",
    "9. Print out the optimum `n_estimators` and `class_weight`.\n",
    " - Retrieve the best estimator by calling `get_parames()` method from the `RandomizedSearchCV` object's `best_estimator_` attribute.\n",
    " - Get the optimum n_estimators value with the key `n_estimators`.\n",
    " - Get the optimum class weight value with the key `class_weight`.\n",
    "10. Retrieve the best cross validation score from the `RandomizedSearchCV` object's `best_score_` and print out the best score.\n",
    "\n",
    "-----"
   ]
  },
  {
   "cell_type": "code",
   "execution_count": null,
   "metadata": {},
   "outputs": [],
   "source": [
    "# Your answer\n"
   ]
  }
 ],
 "metadata": {
  "kernelspec": {
   "display_name": "Python 3",
   "language": "python",
   "name": "python3"
  },
  "language_info": {
   "codemirror_mode": {
    "name": "ipython",
    "version": 3
   },
   "file_extension": ".py",
   "mimetype": "text/x-python",
   "name": "python",
   "nbconvert_exporter": "python",
   "pygments_lexer": "ipython3",
   "version": "3.8.5"
  }
 },
 "nbformat": 4,
 "nbformat_minor": 4
}
