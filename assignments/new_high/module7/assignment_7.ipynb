{
 "cells": [
  {
   "cell_type": "markdown",
   "metadata": {},
   "source": [
    "# Module 7 Assignment\n",
    "\n",
    "\n",
    "A few things you should keep in mind when working on assignments:\n",
    "\n",
    "1. Before you submit your assignment, make sure everything runs as expected. Go to the menubar, select Kernel, and Restart & Run all. \n",
    "2. Make sure that you save your work.\n",
    "3. Upload your notebook to Compass.\n",
    "\n",
    "-----"
   ]
  },
  {
   "cell_type": "markdown",
   "metadata": {},
   "source": [
    "\n",
    "# Prepare Breast Cancer Data\n",
    "\n",
    "In this assignment we will use the breast cancer dataset to perform cluster finding. Before we attempt to build models, we first prepare the data.\n",
    "\n",
    "Please run the next code cell before proceeding to Problem 1.\n",
    "\n"
   ]
  },
  {
   "cell_type": "code",
   "execution_count": null,
   "metadata": {},
   "outputs": [],
   "source": [
    "import pandas as pd\n",
    "from sklearn.preprocessing import LabelEncoder\n",
    "#Load breast cancer dataset\n",
    "df = pd.read_csv('breast-cancer-wisconsin.csv')\n",
    "data = df[['clump thickness', 'uniformity cell size', 'uniformity cell shape', 'marginal adhesion', 'epithelial cell size', 'bare nuclei', 'bland chromatin', 'normal nucleoli', 'mitoses']]\n",
    "label = LabelEncoder().fit_transform(df['class'])\n",
    "\n",
    "data.sample(2)"
   ]
  },
  {
   "cell_type": "markdown",
   "metadata": {},
   "source": [
    "---\n",
    "# Problem 1: Standardize Features\n",
    "\n",
    "For this problem you will use the DataFrame **data** created above.\n",
    ",\n",
    "To solve this problem do the following:\n",
    "1. Import needed modules.\n",
    "2. Use `StandardScaler` to standardize `data` and assign the standardized data to variable **data_ss**.\n",
    "\n",
    "After this problem, there is a new variable **data_ss** defined.\n",
    "\n",
    "---"
   ]
  },
  {
   "cell_type": "code",
   "execution_count": null,
   "metadata": {},
   "outputs": [],
   "source": [
    "# Your Answer\n"
   ]
  },
  {
   "cell_type": "markdown",
   "metadata": {},
   "source": [
    "---\n",
    "# Problem 2: Fit KMeans Model and Calculate Evaluation Metrics\n",
    "\n",
    "Create and fit a KMeans model with breast cancer dataset. Calculate the Adjusted Rand Index and Silhouette score of the model.\n",
    "\n",
    "For this problem, use `data_ss` and `label` created above.\n",
    "\n",
    "To solve this problem do the following:\n",
    "1. Import needed modules.\n",
    "2. Create a `KMeans` model **k_means**. Set `n_clusters` to 2, `n_init` to 10.\n",
    "3. Fit the KMeans model on `data_ss`.\n",
    "4. Apply k_means `predict` function on data_ss to get predicted clusters, assign it to variable **pred_clusters**.\n",
    "5. Use `adjusted_rand_score` in `metrics` module with label and pred_clusters to calculate the Adjusted Rand Index and set the score to variable **ari_score**.\n",
    "6. Use `silhouette_score` in `metrics` module with data_ss and pred_clusters to calculate the Silhouette score. Assign the score to variable **s_score**.\n",
    "7. Print out the Adjusted Rand Index and the Silhouette score.\n",
    "\n",
    "---"
   ]
  },
  {
   "cell_type": "code",
   "execution_count": null,
   "metadata": {},
   "outputs": [],
   "source": [
    "# Your answer"
   ]
  },
  {
   "cell_type": "markdown",
   "metadata": {},
   "source": [
    "---\n",
    "\n",
    "# Problem 3: Prepare Data for k-distance Graph\n",
    "\n",
    "Prepare data to plot k-distance graph to determine proper `eps` value for a DBSCAN model.\n",
    "\n",
    "For this problem you will use **data_ss** created in Problem 1.\n",
    "\n",
    "To solve this problem, do the following:\n",
    "1. Import needed modules.\n",
    "2. Create `NearestNeighbors` model **nnb**. Set `n_neighbors` to 2.\n",
    "3. Fit nnb with data_ss.\n",
    "4. Use nnb method `kneighbors` with `data_ss` to calculate the distnace to the nearest point of each data point. Assign return values to variable **distances** and __indices__.\n",
    "\n",
    "After this problem, there is a trained model **nnb** defined, as well as numpy array of distance to nearest points, **distances**. We will use distances to plot the k-distance graph in the next code cell.\n",
    "\n",
    "-----"
   ]
  },
  {
   "cell_type": "code",
   "execution_count": null,
   "metadata": {},
   "outputs": [],
   "source": [
    "# Your answer\n"
   ]
  },
  {
   "cell_type": "markdown",
   "metadata": {},
   "source": [
    "## Plot K-distance Graph\n",
    "Run the following code cell to plot the k-distance graph after you complete Problem 3."
   ]
  },
  {
   "cell_type": "code",
   "execution_count": null,
   "metadata": {},
   "outputs": [],
   "source": [
    "#plot k-distance graph\n",
    "import numpy as np\n",
    "import seaborn as sns\n",
    "import matplotlib.pyplot as plt\n",
    "#sort by distance from low to high and plot\n",
    "fig, ax = plt.subplots(figsize=(8, 6))\n",
    "distances2 = distances[:,1]\n",
    "distances2 = np.sort(distances2)\n",
    "plt.plot(distances2)\n",
    "plt.title(\"K-Distance\")\n",
    "plt.ylabel(\"Distance\")\n",
    "sns.despine()"
   ]
  },
  {
   "cell_type": "markdown",
   "metadata": {},
   "source": [
    "---\n",
    "\n",
    "# Problem 4: Create and Fit DBSCAN model\n",
    "\n",
    "Create and fit a DBSCAN model with breast cancer dataset.\n",
    "\n",
    "For this problem, you will use data_ss created in problem 1.\n",
    "\n",
    "To solve this problem do the following:\n",
    "\n",
    "1. Import needed modules.\n",
    "2. Create a `DBSCAN` model **dbscan**. Set `eps` to 2.0, `min_samples` to 20.\n",
    "3. Fit the `DBSCAN` model on `data_ss`.\n",
    "\n",
    "After this problem, there will be a fitted DBSCAN model **dbscan** defined.\n",
    "\n",
    "-----"
   ]
  },
  {
   "cell_type": "code",
   "execution_count": null,
   "metadata": {},
   "outputs": [],
   "source": [
    "# Your answer\n"
   ]
  },
  {
   "cell_type": "markdown",
   "metadata": {},
   "source": [
    "# Problem 5: Calculate Clustering Metrics for DBSCAN Model\n",
    "\n",
    "Compute two clustering metrics, Adjusted Rand Index and Silhouette, of the DBSCAN model created in problem 4.\n",
    "\n",
    "For this problem, you will use `data_ss`, `label` and `dbscan` created above.\n",
    "\n",
    "To solve this problem do the following:\n",
    "\n",
    "1. Import needed modules.\n",
    "2. Get predicted clusters from dbscan's `labels_` attribute, assign to variable **pred_clusters**.\n",
    "3. Use `adjusted_rand_score` in `metrics` module with label and pred_clusters to calculate the Adjusted Rand Index and set the score to variable **ari_score_db**.\n",
    "4. Use `silhouette_score` in `metrics` module with data_ss and pred_clusters to calculate the Silhouette score. Assign the score to variable **s_score_db**.\n",
    "5. Print out the Adjusted Rand Index and the Silhouette score.\n",
    "\n",
    "-----"
   ]
  },
  {
   "cell_type": "code",
   "execution_count": null,
   "metadata": {},
   "outputs": [],
   "source": [
    "# Your answer\n"
   ]
  }
 ],
 "metadata": {
  "kernelspec": {
   "display_name": "Python 3",
   "language": "python",
   "name": "python3"
  },
  "language_info": {
   "codemirror_mode": {
    "name": "ipython",
    "version": 3
   },
   "file_extension": ".py",
   "mimetype": "text/x-python",
   "name": "python",
   "nbconvert_exporter": "python",
   "pygments_lexer": "ipython3",
   "version": "3.8.5"
  }
 },
 "nbformat": 4,
 "nbformat_minor": 4
}
