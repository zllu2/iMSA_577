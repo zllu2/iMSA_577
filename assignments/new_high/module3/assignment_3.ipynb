{
 "cells": [
  {
   "cell_type": "markdown",
   "metadata": {},
   "source": [
    "# Module 3 Assignment\n",
    "\n",
    "\n",
    "A few things you should keep in mind when working on assignments:\n",
    "\n",
    "1. Before you submit your assignment, make sure everything runs as expected. Go to the menubar, select Kernel, and Restart & Run all. \n",
    "2. Make sure that you save your work.\n",
    "3. Upload your notebook to Compass.\n",
    "\n",
    "-----"
   ]
  },
  {
   "cell_type": "markdown",
   "metadata": {},
   "source": [
    "\n",
    "# Predicting Breast Cancer\n",
    "\n",
    "In this assignment, we will work with a breast cancer data set to create classification models to predict breast cancer.\n",
    "\n",
    "-----"
   ]
  },
  {
   "cell_type": "markdown",
   "metadata": {},
   "source": [
    "\n",
    "# Problem 1: Load and Pre-process Data\n",
    "\n",
    "To complete the task, do the following:\n",
    "1. Import needed modules.\n",
    "2. Load the dataset from `breast-cancer-wisconsin.csv` to DataFrame `df`. \n",
    "3. Display the first 5 rows in `df`.\n",
    "4. Display basic information of the DataFrame `df`. Verify there's no missing values and all values are numeric.\n",
    "5. Choose column 'class' as label and assign it to variable **label**. Note: since DataFrame has an attribute 'class', you can't refer to the 'class' column by using `df.class`. Use `df['class']` instead.\n",
    "6. Choose the following columns as training data and assign it to variable **data**:  \n",
    "'clump thickness', 'uniformity cell size', 'uniformity cell shape', 'marginal adhesion', 'epithelial cell size', 'bare nuclei', 'bland chromatin', 'normal nucleoli' and, 'mitoses'.   \n",
    "__data__ should be a DataFrame.\n",
    "7. Split the `data` and `label` to training and testing set.\n",
    "    - Assign the training and testing data to variable `d_train` and `d_test`.\n",
    "    - Assign the training and testing label to variable `l_train` and `l_test`.\n",
    "    - The `test_size` argument in `train_test_split` should be set to 0.3.\n",
    "    - Don't set `random_state` argument in `train_test_split`.\n",
    "\n",
    "After this problem, there are six new variables defined, **data, label, d_train, d_test, l_train** and __l_test__.\n",
    "\n",
    "-----"
   ]
  },
  {
   "cell_type": "code",
   "execution_count": null,
   "metadata": {},
   "outputs": [],
   "source": [
    "# Import modules, load dataset, dispaly first 5 rows.\n"
   ]
  },
  {
   "cell_type": "code",
   "execution_count": null,
   "metadata": {},
   "outputs": [],
   "source": [
    "# Display basic information of df\n"
   ]
  },
  {
   "cell_type": "code",
   "execution_count": null,
   "metadata": {},
   "outputs": [],
   "source": [
    "# Define and split label and data\n",
    "\n"
   ]
  },
  {
   "cell_type": "markdown",
   "metadata": {},
   "source": [
    "---\n",
    "\n",
    "# Problem 2: Create and Train a Random Forest Classifier\n",
    "\n",
    "Your task for this problem is to build and use the scikit learn library's `RandomForestClassifier` estimator to make predictions on the breast cancer dataset. \n",
    "\n",
    "To complete the task, do the following:\n",
    "\n",
    "1. Import needed modules.\n",
    "2. Create a `RandomForestClassifier` estimator **rdf_model** by using scikit learn. Set `n_estimators` to 100 and accept default values for all other hyperparameters.\n",
    "3. Fit the `RandomForestClassifier` estimator using d_train and l_train created in problem 1.\n",
    "4. Calculate and display mean accuracy score of rdf_model.\n",
    "    - Apply rdf_model `predict` function to d_test to get predicted label.\n",
    "    - Compute the mean accuracy score using `accuracy_score` function in `metrics` module with true label **l_test** and the predicted label.\n",
    "\n",
    "\n",
    "After this problem, there will be one new variable defined, **rdf_model**.\n",
    "\n",
    "-----"
   ]
  },
  {
   "cell_type": "code",
   "execution_count": null,
   "metadata": {},
   "outputs": [],
   "source": [
    "# Your answer\n"
   ]
  },
  {
   "cell_type": "markdown",
   "metadata": {},
   "source": [
    "---\n",
    "\n",
    "# Problem 3: Get Feature Importance\n",
    "\n",
    "For this problem, you will retrieve the feature importances from the **rdf_model** created in problem 2.\n",
    "\n",
    "To complete the task, do the following:\n",
    "\n",
    "1. Get feature importance from `feature_importances_` attribute of the **rdf_model**.\n",
    "2. Zip the feature importance with training features (columns in d_train) and create a DataFrame **feature_importance** with two columns, 'Feature' and 'Importance'.\n",
    "3. Sort **feature_importance** DataFrame by 'Importance' column in descending order. __Note__: Either sort the DataFrame in place or assign sorted DataFrame back to feature_importance.\n",
    "4. Display **feature_importance**.\n",
    "\n",
    "After this problem, there will be a sorted DataFrame **feature_importance** defined.\n",
    "\n",
    "-----"
   ]
  },
  {
   "cell_type": "code",
   "execution_count": null,
   "metadata": {},
   "outputs": [],
   "source": [
    "# Your answer\n",
    "\n"
   ]
  },
  {
   "cell_type": "markdown",
   "metadata": {},
   "source": [
    "---\n",
    "\n",
    "# Problem 4: Scale Train and Test Data\n",
    "\n",
    "Your task for this problem is to scale the training and testing data. Use the d_train and d_test created in problem 1.\n",
    "\n",
    "To complete the task, do the following:\n",
    "1. Import needed modules.\n",
    "2. Create a MinMaxScaler.\n",
    "3. Fit the the MinMaxScaler with training data d_train.\n",
    "4. Transform d_train with the MinMaxScaler and set transformed data to **d_train_mms**.\n",
    "5. Transform d_test with the MinMaxScaler and set transformed data to **d_test_mms**.\n",
    "6. Display the first 2 rows in **d_train_mms**.(Use array slicing).\n",
    "\n",
    "After this problem, there will be two scaled dataset, **d_train_mms** and __d_test_mms__.\n",
    "\n",
    "-----"
   ]
  },
  {
   "cell_type": "code",
   "execution_count": null,
   "metadata": {},
   "outputs": [],
   "source": [
    "# Your answer\n"
   ]
  },
  {
   "cell_type": "markdown",
   "metadata": {},
   "source": [
    "---\n",
    "\n",
    "# Problem 5: Create and Train a Support Vector Machine Classifier\n",
    "\n",
    "Your task for this problem is to build and use the scikit learn library's `SVC` estimator to make predictions on the breast cancer dataset. \n",
    "\n",
    "To complete the task, do the following:\n",
    "1. Import needed modules.\n",
    "2. Create a `SVC` estimator **svc_model** by using scikit learn. Accept default values for all hyperparameter.\n",
    "3. Fit the `SVC` estimator using **d_train_mms** and __l_train__.\n",
    "4. Calculate and display mean accuracy score of **svc_model**.\n",
    "    - Apply svc_model `predict` function to __d_test_mms__ to get predicted label.\n",
    "    - Compute the mean accuracy score using `accuracy_score` function in `metrics` module with true label **l_test** and predicted label.\n",
    "\n",
    "\n",
    "-----"
   ]
  },
  {
   "cell_type": "code",
   "execution_count": null,
   "metadata": {},
   "outputs": [],
   "source": [
    "# Your answer\n"
   ]
  }
 ],
 "metadata": {
  "kernelspec": {
   "display_name": "Python 3",
   "language": "python",
   "name": "python3"
  },
  "language_info": {
   "codemirror_mode": {
    "name": "ipython",
    "version": 3
   },
   "file_extension": ".py",
   "mimetype": "text/x-python",
   "name": "python",
   "nbconvert_exporter": "python",
   "pygments_lexer": "ipython3",
   "version": "3.8.5"
  }
 },
 "nbformat": 4,
 "nbformat_minor": 4
}
