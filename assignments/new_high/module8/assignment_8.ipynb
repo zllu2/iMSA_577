{
 "cells": [
  {
   "cell_type": "markdown",
   "metadata": {},
   "source": [
    "# Module 8 Assignment\n",
    "\n",
    "\n",
    "A few things you should keep in mind when working on assignments:\n",
    "\n",
    "1. Before you submit your assignment, make sure everything runs as expected. Go to the menubar, select Kernel, and Restart & Run all. \n",
    "2. Make sure that you save your work.\n",
    "3. Upload your notebook to Compass.\n",
    "\n",
    "-----"
   ]
  },
  {
   "cell_type": "markdown",
   "metadata": {},
   "source": [
    "\n",
    "## Problem 1: Get Future Date\n",
    "\n",
    "In the code cell below, we declare a function named `get_future_date` that takes two arguments:\n",
    "- `current_date`, which is a datetime object, and \n",
    "- `days` which is an integer.   \n",
    "\n",
    "The function will return the datetime object `days` after `current_date`.\n",
    "\n",
    "To complete this problem, do the following:\n",
    "1. Import needed modules.\n",
    "2. Define function `get_future_date(current_date, days)`:\n",
    " - Add `days` into `current_date`(Hint: use `timedelta`).\n",
    " - Return the new datetime object.\n",
    "3. Test your function definition.\n",
    " - Define a datetime object, ie. d = datetime(2020, 5, 1)\n",
    " - Call the function. ie. get_future_date(d, 10). It should return a datetime object for 2020-5-11.\n",
    "\n",
    "-----"
   ]
  },
  {
   "cell_type": "code",
   "execution_count": null,
   "metadata": {},
   "outputs": [],
   "source": [
    "# Your answer\n"
   ]
  },
  {
   "cell_type": "markdown",
   "metadata": {},
   "source": [
    "-----\n",
    "\n",
    "## Problem 2: Reading in Data\n",
    "\n",
    "Load time series data.\n",
    "\n",
    "To complete this problem, do the following:\n",
    "1. Import needed modules.\n",
    "2. Load data from the csv file `dow_jones_index.data` and save it to DataFrame `dow_df`.\n",
    "3. Display the first 5 rows of `dow_df`.\n",
    "-----"
   ]
  },
  {
   "cell_type": "code",
   "execution_count": null,
   "metadata": {},
   "outputs": [],
   "source": [
    "# Your answer\n"
   ]
  },
  {
   "cell_type": "markdown",
   "metadata": {},
   "source": [
    "-----\n",
    "\n",
    "## Problem 3: Set Datetime Index\n",
    "\n",
    "\n",
    "For this problem you will use `dow_df` created in Problem 1.\n",
    "\n",
    "To solve this problem, do the following:\n",
    "1. Convert the date column in `dow_df` from `object` type to `datetime` type by using the Pandas function `to_datetime`.\n",
    "2. Create datetime index from date column using pandas `DatetimeIndex` function, and set it as the index of `dow_df`.\n",
    "3. Display the first 5 rows of the new `dow_df`.\n",
    "\n",
    "After this problem, dow_df has a datetime index.\n",
    "\n",
    "\n",
    "------"
   ]
  },
  {
   "cell_type": "code",
   "execution_count": null,
   "metadata": {},
   "outputs": [],
   "source": [
    "# Your answer\n"
   ]
  },
  {
   "cell_type": "markdown",
   "metadata": {},
   "source": [
    "---\n",
    "\n",
    "# Problem 4: Slice DataFrame\n",
    "\n",
    "Slice June 2011 stock information for stock 'AA'.\n",
    "\n",
    "For this problem you will use **dow_df** updated in Problem 2.\n",
    "\n",
    "To solve this problem, do the following:\n",
    "1. Use boolean mask to get rows of stock 'AA' from dow_df, assign the resulting DataFrame to aa_df.\n",
    "2. Get all June 2011 data from aa_df and assign the resulting DataFrame to **aa_201106_df**.\n",
    "3. Display random 2 rows in **aa_201106_df**\n",
    "\n",
    "After this problem, there is a new variable **aa_201106_df** defined.\n",
    "\n",
    "-----"
   ]
  },
  {
   "cell_type": "code",
   "execution_count": null,
   "metadata": {},
   "outputs": [],
   "source": [
    "# Your answer\n"
   ]
  },
  {
   "cell_type": "markdown",
   "metadata": {},
   "source": [
    "---\n",
    "\n",
    "# Problem 5: Resample DataFrame\n",
    "\n",
    "Resample stock 'AA'.\n",
    "\n",
    "For this problem you will use **dow_df** updated in Problem 2.\n",
    "\n",
    "To solve this problem, do the following:\n",
    "1. Use boolean mask to get rows of stock `AA` from dow_df, assign the resulting DataFrame to aa_df.\n",
    "2. Resample aa_df with month end frequency (Hint: with code 'M').\n",
    "3. Apply mean() function on the Resampler object and assign the resulting DataFrame to **aa_resample**.\n",
    "4. Display the first 5 rows of the resampled DataFrame.\n",
    "\n",
    "-----"
   ]
  },
  {
   "cell_type": "code",
   "execution_count": null,
   "metadata": {},
   "outputs": [],
   "source": [
    "# Your answer\n"
   ]
  }
 ],
 "metadata": {
  "kernelspec": {
   "display_name": "Python 3",
   "language": "python",
   "name": "python3"
  },
  "language_info": {
   "codemirror_mode": {
    "name": "ipython",
    "version": 3
   },
   "file_extension": ".py",
   "mimetype": "text/x-python",
   "name": "python",
   "nbconvert_exporter": "python",
   "pygments_lexer": "ipython3",
   "version": "3.8.5"
  }
 },
 "nbformat": 4,
 "nbformat_minor": 4
}
