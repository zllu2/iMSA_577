{
 "cells": [
  {
   "cell_type": "markdown",
   "metadata": {},
   "source": [
    "# Module 2 Assignment\n",
    "\n",
    "\n",
    "A few things you should keep in mind when working on assignments:\n",
    "\n",
    "1. Before you submit your assignment, make sure everything runs as expected. Go to the menubar, select Kernel, and Restart & Run all. \n",
    "2. Make sure that you save your work.\n",
    "3. Upload your notebook to Compass.\n",
    "\n",
    "-----"
   ]
  },
  {
   "cell_type": "markdown",
   "metadata": {},
   "source": [
    "\n",
    "# Predicting Breast Cancer\n",
    "\n",
    "In this assignment, we will work with a breast cancer data set to create classification models to predict breast cancer.\n",
    "\n",
    "-----"
   ]
  },
  {
   "cell_type": "markdown",
   "metadata": {},
   "source": [
    "\n",
    "# Problem 1: Load and Pre-process Data\n",
    "\n",
    "To complete the task, do the following:\n",
    "1. Import needed modules.\n",
    "2. Load the dataset from `breast-cancer-wisconsin.csv` to DataFrame `df`. \n",
    "3. Display the first 5 rows in `df`.\n",
    "4. Display basic information of the DataFrame `df`. Verify there's no missing values and all values are numeric.\n",
    "5. Choose column 'class' as label and assign it to variable **label**. Note: since DataFrame has an attribute 'class', you can't refer to the 'class' column by using `df.class`. Use `df['class']` instead.\n",
    "6. Choose the following columns as training data and assign it to variable **data**:  \n",
    "'clump thickness', 'uniformity cell size', 'uniformity cell shape', 'marginal adhesion', 'epithelial cell size', 'bare nuclei', 'bland chromatin', 'normal nucleoli' and, 'mitoses'.   \n",
    "__data__ should be a DataFrame.\n",
    "7. Split the `data` and `label` to training and testing set.\n",
    "    - Assign the training and testing data to variable `d_train` and `d_test`.\n",
    "    - Assign the training and testing label to variable `l_train` and `l_test`.\n",
    "    - The `test_size` argument in `train_test_split` should be set to 0.3.\n",
    "    - Don't set `random_state` argument in `train_test_split`.\n",
    "\n",
    "After this problem, there are six new variables defined, **data, label, d_train, d_test, l_train** and __l_test__.\n",
    "\n",
    "-----"
   ]
  },
  {
   "cell_type": "code",
   "execution_count": null,
   "metadata": {},
   "outputs": [],
   "source": [
    "# Import modules, load dataset, dispaly first 5 rows.\n"
   ]
  },
  {
   "cell_type": "code",
   "execution_count": null,
   "metadata": {},
   "outputs": [],
   "source": [
    "# Display basic information of df\n"
   ]
  },
  {
   "cell_type": "code",
   "execution_count": null,
   "metadata": {},
   "outputs": [],
   "source": [
    "# Define and split label and data\n"
   ]
  },
  {
   "cell_type": "markdown",
   "metadata": {},
   "source": [
    "---\n",
    "\n",
    "# Problem 2: Create and Train a Logistic Regression Model\n",
    "\n",
    "Your task for this problem is to build and use the scikit learn library's `LogisticRegression` estimator to make predictions on the breast cancer dataset.  \n",
    "\n",
    "To complete the task, do the following:\n",
    "1. Import `LogisticRegression` from `sklearn`.\n",
    "2. Create a `LogisticRegression` estimator **lr_model** by using scikit learn. Accept default values for all arguments.\n",
    "3. Fit the `LogisticRegression` estimator using d_train and l_train created in problem 1.\n",
    "\n",
    "After this problem, there will be a trained logistic regression model **lr_model**.\n",
    "\n",
    "-----"
   ]
  },
  {
   "cell_type": "code",
   "execution_count": null,
   "metadata": {},
   "outputs": [],
   "source": [
    "# Your answer\n"
   ]
  },
  {
   "cell_type": "markdown",
   "metadata": {},
   "source": [
    "---\n",
    "\n",
    "# Problem 3: Calculate Mean Accuracy Score\n",
    "\n",
    "For this problem, you will compute the mean accuracy score of the `lr_model` defined in problem 2.  \n",
    "\n",
    "To complete the task, do the following:\n",
    "\n",
    "1. Import needed modules.\n",
    "2. Apply lr_model `predict` function on d_test to get predicted label, assign it to variable **predicted**.\n",
    "3. Compute the mean accuracy score using `accuracy_score` function in `metrics` module with true label **l_test** and predicted label __predicted__.\n",
    "4. Print out the mean accuracy score.\n",
    "\n",
    "-----"
   ]
  },
  {
   "cell_type": "code",
   "execution_count": null,
   "metadata": {},
   "outputs": [],
   "source": [
    "# Your answer\n"
   ]
  },
  {
   "cell_type": "markdown",
   "metadata": {},
   "source": [
    "---\n",
    "\n",
    "# Problem 4: Create and Train a Decision Tree Classifier\n",
    "\n",
    "Your task for this problem is to build and use the scikit learn library's `DecisionTreeClassifier` estimator to make predictions on the breast cancer dataset. \n",
    "\n",
    "To complete the task, do the following:\n",
    "\n",
    "1. Import needed modules.\n",
    "2. Create a `DecisionTreeClassifier` estimator **dtc_model**. Accept default values for all hyperparameters.\n",
    "3. Fit the `DecisionTreeClassifier` estimator using `d_train` and `l_train` created in problem 1.\n",
    "\n",
    "After this problem, there will be a trained decision tree classification model **dtc_model**.\n",
    "\n",
    "-----"
   ]
  },
  {
   "cell_type": "code",
   "execution_count": null,
   "metadata": {},
   "outputs": [],
   "source": [
    "# Your answer\n",
    "\n"
   ]
  },
  {
   "cell_type": "markdown",
   "metadata": {},
   "source": [
    "---\n",
    "\n",
    "# Problem 5: Calculate Mean Accuracy Score\n",
    "\n",
    "For this problem, you will compute the mean accuracy score of the `dtc_model` defined in problem 4.  \n",
    "\n",
    "To complete the task, do the following:\n",
    "\n",
    "1. Use the decision tree model's `score()` method to get mean accuracy score from d_test and l_test.\n",
    "2. Print out the mean accuracy score.\n",
    "\n",
    "-----"
   ]
  },
  {
   "cell_type": "code",
   "execution_count": null,
   "metadata": {},
   "outputs": [],
   "source": [
    "# Your answer\n"
   ]
  }
 ],
 "metadata": {
  "kernelspec": {
   "display_name": "Python 3",
   "language": "python",
   "name": "python3"
  },
  "language_info": {
   "codemirror_mode": {
    "name": "ipython",
    "version": 3
   },
   "file_extension": ".py",
   "mimetype": "text/x-python",
   "name": "python",
   "nbconvert_exporter": "python",
   "pygments_lexer": "ipython3",
   "version": "3.8.5"
  }
 },
 "nbformat": 4,
 "nbformat_minor": 4
}
