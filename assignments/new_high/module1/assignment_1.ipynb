{
 "cells": [
  {
   "cell_type": "markdown",
   "metadata": {},
   "source": [
    "# Module 1 Assignment\n",
    "\n",
    "\n",
    "A few things you should keep in mind when working on assignments:\n",
    "\n",
    "1. Before you submit your assignment, make sure everything runs as expected. Go to the menu bar, select Kernel, and Restart & Run all. \n",
    "2. Make sure that you save your work.\n",
    "3. Upload your notebook to Compass.\n",
    "\n",
    "-----"
   ]
  },
  {
   "cell_type": "markdown",
   "metadata": {},
   "source": [
    "\n",
    "# Problem 1: Load and Clean Up a Dataset\n",
    "\n",
    "For this problem you will read in a dataset from mpg.csv.\n",
    "- Import needed modules.\n",
    "- Load the dataset from mpg.csv to a DataFrame `mpg`.\n",
    "- Use DataFrame method info() to check if `mpg` has missing values.\n",
    "- If there are missing values in `mpg`, drop all rows with missing values.\n",
    "- Use DataFrame method info() to verify `mpg` has no missing values.\n",
    "- Display the first 5 rows in the DataFrame `mpg`.\n",
    "- Feel free to add extra code cells if needed.\n",
    "-----"
   ]
  },
  {
   "cell_type": "code",
   "execution_count": null,
   "metadata": {},
   "outputs": [],
   "source": [
    "# Import modules, load dataset, display basic information.\n"
   ]
  },
  {
   "cell_type": "code",
   "execution_count": null,
   "metadata": {},
   "outputs": [],
   "source": [
    "# Drop missing values, verify with info()\n"
   ]
  },
  {
   "cell_type": "code",
   "execution_count": null,
   "metadata": {},
   "outputs": [],
   "source": [
    "# Display first 5 rows in mpg\n"
   ]
  },
  {
   "cell_type": "markdown",
   "metadata": {},
   "source": [
    "---\n",
    "\n",
    "# Problem 2: Encode \"origin\" Column\n",
    "\n",
    "For this problem you will work on the DataFrame `mpg` created from Problem 1.\n",
    "\n",
    "- Use Pandas Series unique() method to check unique values in `origin` column.\n",
    "- One-hot encode the categorical feature `origin` using `get_dummies` in Pandas module. \n",
    "- Set the prefix of dummy columns to 'origin'.\n",
    "- Assign the resulting DataFrame to `mpg_onehot`.\n",
    "- Display the first 5 rows of `mpg_onehot`.\n",
    "\n",
    "After this problem, DataFrame `mpg_onehot` should have three dummy features: `origin_europe`, `origin_japan` and `origin_usa`, in addition to columns in DataFrame mpg (excluding `origin`).\n",
    "\n",
    "-----"
   ]
  },
  {
   "cell_type": "code",
   "execution_count": null,
   "metadata": {},
   "outputs": [],
   "source": [
    "# Display unique values in origin\n"
   ]
  },
  {
   "cell_type": "code",
   "execution_count": null,
   "metadata": {},
   "outputs": [],
   "source": [
    "# One-hot encode origin, create DataFrame mpg_onehot, display first 5 rows of mpg_onehot\n"
   ]
  },
  {
   "cell_type": "markdown",
   "metadata": {},
   "source": [
    "---\n",
    "\n",
    "# Problem 3: Define and Split Independent and Dependent Variables\n",
    "\n",
    "For this problem you will work on the DataFrame `mpg_onehot` created from Problem 2.\n",
    "\n",
    "To complete this process, do the following:\n",
    "\n",
    "- Import `train_test_split` from `sklearn`.\n",
    "- Choose column `mpg` in DataFrame `mpg_onehot` as dependent variable, set it to variable **y**.\n",
    "- Choose columns `horsepower`, `weight`, `origin_europe`, `origin_japan` and `origin_usa` in DataFrame `mpg_onehot` as independent variable, set it to variable **x**.\n",
    "- Split dependent and independent variable to training and testing set.\n",
    "- Name the training and testing independent variable to `x_train` and `x_test`.\n",
    "- Name the training and testing dependent variable to `y_train`and `y_test`.\n",
    "- The `test_size` argument in train_test_split should be set to 0.4.\n",
    "- **Don't** set `random_state` argument in train_test_split.\n",
    "- Display first 5 rows in x_test.\n",
    "\n",
    "After this problem, there are 6 new variables defined, **x, y, x_train, x_test, y_train, y_test**.\n",
    "\n",
    "-----"
   ]
  },
  {
   "cell_type": "code",
   "execution_count": null,
   "metadata": {},
   "outputs": [],
   "source": [
    "# Your answer\n"
   ]
  },
  {
   "cell_type": "markdown",
   "metadata": {},
   "source": [
    "-----\n",
    "\n",
    "# Problem 4: Standardize Dataset\n",
    "\n",
    "This problem works on the variables `x_train` and `x_test` created in problem 3.\n",
    "\n",
    "Standardize training and testing independent variables using `StandardScaler`.\n",
    "\n",
    "To complete this process, do the following:\n",
    "\n",
    "- Import `StandardScaler` from `sklearn`.\n",
    "- Create `StandardScaler` object and fit it with `x_train`.\n",
    "- Transform `x_train` and assign transformed data to `x_train_ss`.\n",
    "- Transform `x_test` and assign transformed data to `x_test_ss`.\n",
    "- Display first 5 rows in `x_train_ss` (Use array slicing).\n",
    "\n",
    "After this problem, there are 2 new variables created, **x_train_ss** and __x_test_ss__.\n",
    "\n",
    "-----"
   ]
  },
  {
   "cell_type": "code",
   "execution_count": null,
   "metadata": {},
   "outputs": [],
   "source": [
    "# Your answer\n"
   ]
  },
  {
   "cell_type": "markdown",
   "metadata": {},
   "source": [
    "-----\n",
    "\n",
    "# Problem 5: Scale Dataset\n",
    "\n",
    "This problem works on the variables `x_train` and `x_test` created in problem 3.\n",
    "\n",
    "Scale training and testing independent variables using `MinMaxScaler`.\n",
    "\n",
    "To complete this process, do the following:\n",
    "\n",
    "- Import `MinMaxScaler` from `sklearn`.\n",
    "- Create `MinMaxScaler` object and fit it with `x_train`.\n",
    "- Transform `x_train` and assign transformed data to `x_train_mm`.\n",
    "- Transform `x_test` and assign transformed data to `x_test_mm`.\n",
    "- Display first 5 rows in `x_train_mm` (Use array slicing).\n",
    "\n",
    "After this problem, there are 2 new variables created, **x_train_mm** and __x_test_mm__.\n",
    "\n",
    "-----"
   ]
  },
  {
   "cell_type": "code",
   "execution_count": null,
   "metadata": {},
   "outputs": [],
   "source": [
    "# Your answer\n"
   ]
  }
 ],
 "metadata": {
  "kernelspec": {
   "display_name": "Python 3",
   "language": "python",
   "name": "python3"
  },
  "language_info": {
   "codemirror_mode": {
    "name": "ipython",
    "version": 3
   },
   "file_extension": ".py",
   "mimetype": "text/x-python",
   "name": "python",
   "nbconvert_exporter": "python",
   "pygments_lexer": "ipython3",
   "version": "3.8.5"
  }
 },
 "nbformat": 4,
 "nbformat_minor": 4
}
