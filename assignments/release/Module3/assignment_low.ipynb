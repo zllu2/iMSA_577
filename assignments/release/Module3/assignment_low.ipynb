{
 "cells": [
  {
   "cell_type": "markdown",
   "metadata": {
    "deletable": false,
    "editable": false,
    "nbgrader": {
     "cell_type": "markdown",
     "checksum": "b376fd139074a16f636a49b873581dfc",
     "grade": false,
     "grade_id": "cell-5aaea72c3751c7e2",
     "locked": true,
     "schema_version": 3,
     "solution": false
    }
   },
   "source": [
    "# Module 3 Assignment\n",
    "\n",
    "A few things you should keep in mind when working on assignments:\n",
    "\n",
    "1. Run the first code cell to import modules needed by this assignment before proceeding to problems.\n",
    "2. Make sure you fill in any place that says `# YOUR CODE HERE`. Do not write your answer anywhere else other than where it says `# YOUR CODE HERE`. Anything you write elsewhere will be removed or overwritten by the autograder.\n",
    "3. Each problem has an autograder cell below the answer cell. Run the autograder cell to check your answer. If there's anything wrong in your answer, the autograder cell will display error messages.\n",
    "4. Before you submit your assignment, make sure everything runs as expected. Go to the menubar, select Kernel, and Restart & Run all. If the notebook runs through the last code cell without an error message, you've answered all problems correctly.\n",
    "5. Make sure that you save your work (in the menubar, select File → Save and CheckPoint).\n",
    "\n",
    "-----"
   ]
  },
  {
   "cell_type": "markdown",
   "metadata": {
    "deletable": false,
    "editable": false,
    "nbgrader": {
     "cell_type": "markdown",
     "checksum": "b254b51cc1c32d2c46e136c9c04dba92",
     "grade": false,
     "grade_id": "cell-aab57598618fe44d",
     "locked": true,
     "schema_version": 3,
     "solution": false
    }
   },
   "source": [
    "# Run Me First!"
   ]
  },
  {
   "cell_type": "code",
   "execution_count": null,
   "metadata": {
    "deletable": false,
    "editable": false,
    "nbgrader": {
     "cell_type": "code",
     "checksum": "292727b68016bb518d0ec29c841d40cd",
     "grade": false,
     "grade_id": "cell-88dd2a72c7ccd97d",
     "locked": true,
     "schema_version": 3,
     "solution": false
    }
   },
   "outputs": [],
   "source": [
    "import pandas as pd\n",
    "import numpy as np\n",
    "import seaborn as sns\n",
    "\n",
    "from nose.tools import assert_equal, assert_almost_equal, assert_true, assert_is_instance\n",
    "\n",
    "# We do this to ignore warnings\n",
    "import warnings\n",
    "warnings.filterwarnings(\"ignore\")\n"
   ]
  },
  {
   "cell_type": "markdown",
   "metadata": {
    "deletable": false,
    "editable": false,
    "nbgrader": {
     "cell_type": "markdown",
     "checksum": "6096ff168d5a190c2c948593b6e6c102",
     "grade": false,
     "grade_id": "cell-04a5c3d6a5d2fa7a",
     "locked": true,
     "schema_version": 3,
     "solution": false
    }
   },
   "source": [
    "-----\n",
    "\n",
    "# Predicting Breast Cancer\n",
    "\n",
    "In this assignment, we will work with a breast cancer data set to make a classification model. Before we build a model, we first load the data into the assignment notebook, and randomly sample several rows. Next, we display the DataFrame information. The data is clean, and all columns are numerical.\n",
    "\n",
    "Please run the next two Code cells before proceeding to Problem 1.\n",
    "\n",
    "-----"
   ]
  },
  {
   "cell_type": "code",
   "execution_count": null,
   "metadata": {
    "deletable": false,
    "editable": false,
    "nbgrader": {
     "cell_type": "code",
     "checksum": "6cb2c7e527731789b764be2f32cf6d76",
     "grade": false,
     "grade_id": "cell-067fcf4112b3f798",
     "locked": true,
     "schema_version": 3,
     "solution": false
    }
   },
   "outputs": [],
   "source": [
    "#Load breast cancer dataset\n",
    "df = pd.read_csv('data/breast-cancer-wisconsin.csv')\n",
    "df.sample(5)"
   ]
  },
  {
   "cell_type": "code",
   "execution_count": null,
   "metadata": {
    "deletable": false,
    "editable": false,
    "nbgrader": {
     "cell_type": "code",
     "checksum": "ada530b6086cbb527064a4b0a9b87a90",
     "grade": false,
     "grade_id": "cell-33750e46e3236618",
     "locked": true,
     "schema_version": 3,
     "solution": false
    }
   },
   "outputs": [],
   "source": [
    "df.info()"
   ]
  },
  {
   "cell_type": "markdown",
   "metadata": {
    "deletable": false,
    "editable": false,
    "nbgrader": {
     "cell_type": "markdown",
     "checksum": "dc2fd775deb79eeb95b83d118e75b1ec",
     "grade": false,
     "grade_id": "cell-b14f916df8f7af19",
     "locked": true,
     "schema_version": 3,
     "solution": false
    }
   },
   "source": [
    "---\n",
    "\n",
    "# Problem 1: Data Preprocessing\n",
    "\n",
    "For this problem you will use the DataFrame **df** defined above.\n",
    "\n",
    "To complete the task, do the following:\n",
    "1. Choose column 'class' as label and assign it to variable **label**. Note: since DataFrame has an attribute 'class', you can't refer to the 'class' column by using `df.class`. Use `df['class']` instead.\n",
    "2. Choose following columns as training data and assign it to variable **data**:  \n",
    "'clump thickness', 'uniformity cell size', 'uniformity cell shape', 'marginal adhesion', 'epithelial cell size', 'bare nuclei', 'bland chromatin', 'normal nucleoli', 'mitoses'.   \n",
    "__data__ should be a DataFrame.\n",
    "3. Split the independent and dependent variables to training and testing set.\n",
    "    - Assign the training and testing data to variable d_train and d_test.\n",
    "    - Assign the training and testing label to variable l_train and l_test.\n",
    "    - The `test_size` argument in `train_test_split` should be set to 0.3.\n",
    "    - The `random_state` argument in `train_test_split` should be set to 23.\n",
    "\n",
    "After this problem, there are six new variables defined, data, label, d_train, d_test, l_train, l_test.\n",
    "\n",
    "-----"
   ]
  },
  {
   "cell_type": "code",
   "execution_count": null,
   "metadata": {
    "deletable": false,
    "nbgrader": {
     "cell_type": "code",
     "checksum": "96723fb2afd82a6e8766dab5fa0dbe3d",
     "grade": false,
     "grade_id": "p1-ans",
     "locked": false,
     "schema_version": 3,
     "solution": true
    }
   },
   "outputs": [],
   "source": [
    "from sklearn.model_selection import train_test_split\n",
    "\n",
    "# YOUR CODE HERE\n"
   ]
  },
  {
   "cell_type": "code",
   "execution_count": null,
   "metadata": {
    "deletable": false,
    "editable": false,
    "nbgrader": {
     "cell_type": "code",
     "checksum": "be3d1fa431967d98efd54740c3c793c7",
     "grade": true,
     "grade_id": "p1-test",
     "locked": true,
     "points": 1,
     "schema_version": 3,
     "solution": false
    }
   },
   "outputs": [],
   "source": [
    "assert_equal(type(data), pd.DataFrame, msg=\"data is not a DataFrame\")\n",
    "assert_equal(data.shape, (683, 9), msg=\"data is not correct\")\n",
    "assert_equal(len(l_test), 205, msg=\"Test set size is not correct.\")\n",
    "assert_equal(tuple(d_test.values[0]), (3, 2, 1, 1, 2, 2, 3, 1, 1),\n",
    "             msg='Test data is not correct. Make sure you set random_state=23 when splitting the dataset')\n",
    "#display first 2 training data\n",
    "d_train.head(2)"
   ]
  },
  {
   "cell_type": "markdown",
   "metadata": {
    "deletable": false,
    "editable": false,
    "nbgrader": {
     "cell_type": "markdown",
     "checksum": "21f609209e7c795b948af823635c73ac",
     "grade": false,
     "grade_id": "cell-f0c9676010ba1122",
     "locked": true,
     "schema_version": 3,
     "solution": false
    }
   },
   "source": [
    "---\n",
    "\n",
    "# Problem 2: Create and Train a K-Nearest Neighbors Classification Model\n",
    "\n",
    "Your task for this problem is to build and use the scikit-learn library's `KNeighborsClassifier` estimator to make predictions on the breast cancer dataset. \n",
    "\n",
    "To complete this function, you must explicitly:\n",
    "- Create a `KNeighborsClassifier` estimator **knn_model** by using scikit learn. Set n_neighbors to 10 and accept default values for other hyperparameter.\n",
    "- Fit the `KNeighborsClassifier` estimator using d_train and l_train created in problem 1.\n",
    "\n",
    "After this problem, there will be a trained K-Nearest Neighbors Classifier **knn_model**.\n",
    "\n",
    "-----"
   ]
  },
  {
   "cell_type": "code",
   "execution_count": null,
   "metadata": {
    "deletable": false,
    "nbgrader": {
     "cell_type": "code",
     "checksum": "9c02e09b9f32841c8c3467a5a50324cb",
     "grade": false,
     "grade_id": "p2-ans",
     "locked": false,
     "schema_version": 3,
     "solution": true
    }
   },
   "outputs": [],
   "source": [
    "from sklearn.neighbors import KNeighborsClassifier\n",
    "\n",
    "# YOUR CODE HERE\n"
   ]
  },
  {
   "cell_type": "code",
   "execution_count": null,
   "metadata": {
    "deletable": false,
    "editable": false,
    "nbgrader": {
     "cell_type": "code",
     "checksum": "78b3b38ca0b774f397ea87450805b8ab",
     "grade": true,
     "grade_id": "p2-test",
     "locked": true,
     "points": 1,
     "schema_version": 3,
     "solution": false
    }
   },
   "outputs": [],
   "source": [
    "assert_equal(type(knn_model), type(KNeighborsClassifier()), msg=\"knn_model is not a KNeighborsClassifier model\")\n",
    "assert_equal(knn_model.get_params()['n_neighbors'], 10,\n",
    "            msg=\"n_neighbors of knn_model is not 10.\")"
   ]
  },
  {
   "cell_type": "markdown",
   "metadata": {
    "deletable": false,
    "editable": false,
    "nbgrader": {
     "cell_type": "markdown",
     "checksum": "ddd808f4687576c6feb6f80e47c7507d",
     "grade": false,
     "grade_id": "cell-0bd8ccf5e00ce321",
     "locked": true,
     "schema_version": 3,
     "solution": false
    }
   },
   "source": [
    "---\n",
    "\n",
    "# Problem 3: Calculate Mean Accuracy Score\n",
    "\n",
    "For this problem, you will compute the mean accuracy score of the knn_model created in problem 2.  \n",
    "\n",
    "To complete this function, you must explicitly:\n",
    "\n",
    "- Apply knn_model `predict` function to d_test to get predicted label, assign it to variable **predicted**.\n",
    "- Compute the mean accuracy score using `accuracy_score` function in `metrics` module with true label **l_test** and predicted label __predicted__.\n",
    "- Assign the accuracy score to variable **mas_score**.\n",
    "\n",
    "After this problem, there will be a new variable **mas_score** defined.\n",
    "\n",
    "-----"
   ]
  },
  {
   "cell_type": "code",
   "execution_count": null,
   "metadata": {
    "deletable": false,
    "nbgrader": {
     "cell_type": "code",
     "checksum": "823001aeac529ceb2c52f4fd6cf21664",
     "grade": false,
     "grade_id": "p3-ans",
     "locked": false,
     "schema_version": 3,
     "solution": true
    }
   },
   "outputs": [],
   "source": [
    "from sklearn import metrics\n",
    "\n",
    "# YOUR CODE HERE\n"
   ]
  },
  {
   "cell_type": "code",
   "execution_count": null,
   "metadata": {
    "deletable": false,
    "editable": false,
    "nbgrader": {
     "cell_type": "code",
     "checksum": "70fd34473ed7ac981734468bcc7e8a0c",
     "grade": true,
     "grade_id": "p3-test",
     "locked": true,
     "points": 1,
     "schema_version": 3,
     "solution": false
    }
   },
   "outputs": [],
   "source": [
    "assert_almost_equal(mas_score, 0.9853658536585366, msg=\"Mean accuracy score is not correct\")\n",
    "print(f\"K-Nearest Neighbors Classifier prediction accuracy = {mas_score*100:4.1f}%\")"
   ]
  },
  {
   "cell_type": "markdown",
   "metadata": {
    "deletable": false,
    "editable": false,
    "nbgrader": {
     "cell_type": "markdown",
     "checksum": "eab72805a772b8a1080f41408aef5b48",
     "grade": false,
     "grade_id": "cell-29cdc380fcceff0c",
     "locked": true,
     "schema_version": 3,
     "solution": false
    }
   },
   "source": [
    "---\n",
    "\n",
    "# Problem 4: Create and Train a Random Forest Classifier\n",
    "\n",
    "Your task for this problem is to build and use the scikit-learn library's `RandomForestClassifier` estimator to make predictions on the breast cancer dataset. \n",
    "\n",
    "To complete this function, you must explicitly:\n",
    "- Create a `RandomForestClassifier` estimator **rdf_model** by using scikit-learn. Set n_estimators to 10 and random_state to 23, accept default values for all other hyperparameter.\n",
    "- Fit the `RandomForestClassifier` estimator using d_train and l_train created in problem 1.\n",
    "- Calculate mean accuracy score of rdf_model and assign accuracy score to variable **mas_score_rdf**.\n",
    "    - Apply rdf_model `predict` function to d_test to get predicted label, assign it to variable **predicted**.\n",
    "    - Compute the mean accuracy score using `accuracy_score` function in `metrics` module with true label **l_test** and predicted label __predicted__.\n",
    "    - Assign the accuracy score to variable **mas_score_rdf**.\n",
    "\n",
    "\n",
    "After this problem, there will be two new variable defined, **rdf_model** and __mas_score_rdf__.\n",
    "\n",
    "-----"
   ]
  },
  {
   "cell_type": "code",
   "execution_count": null,
   "metadata": {
    "deletable": false,
    "nbgrader": {
     "cell_type": "code",
     "checksum": "d386d65d35285f64ec8149a47f5f836b",
     "grade": false,
     "grade_id": "p4-ans",
     "locked": false,
     "schema_version": 3,
     "solution": true
    }
   },
   "outputs": [],
   "source": [
    "from sklearn.ensemble import RandomForestClassifier\n",
    "from sklearn import metrics\n",
    "\n",
    "# YOUR CODE HERE\n"
   ]
  },
  {
   "cell_type": "code",
   "execution_count": null,
   "metadata": {
    "deletable": false,
    "editable": false,
    "nbgrader": {
     "cell_type": "code",
     "checksum": "ace8dc3c93f13ada7df199489bbe2c1c",
     "grade": true,
     "grade_id": "p4-test",
     "locked": true,
     "points": 1,
     "schema_version": 3,
     "solution": false
    }
   },
   "outputs": [],
   "source": [
    "assert_equal(type(rdf_model), type(RandomForestClassifier()), msg=\"rdf_model is not a RandomForestClassifier\")\n",
    "assert_equal(rdf_model.get_params()['random_state'], 23,\n",
    "            msg=\"rdf_model is not created with random_state 23\")\n",
    "assert_almost_equal(mas_score_rdf, 0.9707317073170731, msg=\"Mean accuracy score is not correct\")\n",
    "print(f\"Random Forest Classifier prediction accuracy = {mas_score_rdf*100:4.1f}%\")"
   ]
  }
 ],
 "metadata": {
  "coursera": {
   "course_slug": "machine-learning-accounting-python",
   "graded_item_id": "gfjyw",
   "launcher_item_id": "xa0LG"
  },
  "kernelspec": {
   "display_name": "Python 3",
   "language": "python",
   "name": "python3"
  },
  "language_info": {
   "codemirror_mode": {
    "name": "ipython",
    "version": 3
   },
   "file_extension": ".py",
   "mimetype": "text/x-python",
   "name": "python",
   "nbconvert_exporter": "python",
   "pygments_lexer": "ipython3",
   "version": "3.7.3"
  }
 },
 "nbformat": 4,
 "nbformat_minor": 2
}
