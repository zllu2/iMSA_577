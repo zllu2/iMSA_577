{
 "cells": [
  {
   "cell_type": "markdown",
   "metadata": {
    "deletable": false,
    "editable": false,
    "nbgrader": {
     "cell_type": "markdown",
     "checksum": "54857a241cf1aa92f0c209d3cf5e235f",
     "grade": false,
     "grade_id": "cell-5aaea72c3751c7e2",
     "locked": true,
     "schema_version": 3,
     "solution": false
    }
   },
   "source": [
    "# Module 4 Assignment\n",
    "\n",
    "A few things you should keep in mind when working on assignments:\n",
    "\n",
    "1. Run the first code cell to import modules needed by this assignment before proceeding to problems.\n",
    "2. Make sure you fill in any place that says `# YOUR CODE HERE`. Do not write your answer anywhere else other than where it says `# YOUR CODE HERE`. Anything you write elsewhere will be removed or overwritten by the autograder.\n",
    "3. Each problem has an autograder cell below the answer cell. Run the autograder cell to check your answer. If there's anything wrong in your answer, the autograder cell will display error messages.\n",
    "4. Before you submit your assignment, make sure everything runs as expected. Go to the menubar, select Kernel, and Restart & Run all. If the notebook runs through the last code cell without an error message, you've answered all problems correctly.\n",
    "5. Make sure that you save your work (in the menubar, select File → Save and CheckPoint).\n",
    "\n",
    "-----"
   ]
  },
  {
   "cell_type": "markdown",
   "metadata": {
    "deletable": false,
    "editable": false,
    "nbgrader": {
     "cell_type": "markdown",
     "checksum": "b254b51cc1c32d2c46e136c9c04dba92",
     "grade": false,
     "grade_id": "cell-aab57598618fe44d",
     "locked": true,
     "schema_version": 3,
     "solution": false
    }
   },
   "source": [
    "# Run Me First!"
   ]
  },
  {
   "cell_type": "code",
   "execution_count": null,
   "metadata": {
    "deletable": false,
    "editable": false,
    "nbgrader": {
     "cell_type": "code",
     "checksum": "292727b68016bb518d0ec29c841d40cd",
     "grade": false,
     "grade_id": "cell-88dd2a72c7ccd97d",
     "locked": true,
     "schema_version": 3,
     "solution": false
    }
   },
   "outputs": [],
   "source": [
    "import pandas as pd\n",
    "import numpy as np\n",
    "import seaborn as sns\n",
    "\n",
    "from nose.tools import assert_equal, assert_almost_equal, assert_true, assert_is_instance\n",
    "\n",
    "# We do this to ignore warnings\n",
    "import warnings\n",
    "warnings.filterwarnings(\"ignore\")\n"
   ]
  },
  {
   "cell_type": "markdown",
   "metadata": {
    "deletable": false,
    "editable": false,
    "nbgrader": {
     "cell_type": "markdown",
     "checksum": "f926c13f92ce3c934cb5695453d12aa0",
     "grade": false,
     "grade_id": "cell-04a5c3d6a5d2fa7a",
     "locked": true,
     "schema_version": 3,
     "solution": false
    }
   },
   "source": [
    "-----\n",
    "\n",
    "# Prepare Breast Cancer Data\n",
    "\n",
    "In this assignment we will use the breast cancer dataset. Before we attempt to build models, we first prepare the data.\n",
    "\n",
    "Please run the next two code cells before proceeding to Problem 1.\n",
    "\n",
    "-----"
   ]
  },
  {
   "cell_type": "code",
   "execution_count": null,
   "metadata": {
    "deletable": false,
    "editable": false,
    "nbgrader": {
     "cell_type": "code",
     "checksum": "9a5eee1426bfea754f16df30d7edaff9",
     "grade": false,
     "grade_id": "cell-067fcf4112b3f798",
     "locked": true,
     "schema_version": 3,
     "solution": false
    }
   },
   "outputs": [],
   "source": [
    "from sklearn.model_selection import train_test_split\n",
    "from sklearn.preprocessing import LabelEncoder\n",
    "\n",
    "#Load breast cancer dataset\n",
    "df = pd.read_csv('data/breast-cancer-wisconsin.csv')\n",
    "label = LabelEncoder().fit_transform(df['class'])\n",
    "data = df[['clump thickness', 'uniformity cell size', 'uniformity cell shape', 'marginal adhesion', 'epithelial cell size', 'bare nuclei', 'bland chromatin', 'normal nucleoli', 'mitoses']]\n",
    "d_train, d_test, l_train, l_test = train_test_split(data, label, test_size=0.3, random_state=23)\n",
    "d_train.sample(2)"
   ]
  },
  {
   "cell_type": "markdown",
   "metadata": {
    "deletable": false,
    "editable": false,
    "nbgrader": {
     "cell_type": "markdown",
     "checksum": "8973fa7664123b2efc2141f24285a313",
     "grade": false,
     "grade_id": "cell-b14f916df8f7af19",
     "locked": true,
     "schema_version": 3,
     "solution": false
    }
   },
   "source": [
    "---\n",
    "\n",
    "# Problem 1: Perform K-Nearest Neighbors Classification\n",
    "\n",
    "Your task for this problem is to build and use the scikit learn library's `KNeighborsClassifier` estimator to make predictions on the breast cancer dataset. \n",
    "\n",
    "To complete this function, you must explicitly:\n",
    "- Create a `KNeighborsClassifier` estimator **knn_model** by using scikit learn. Set n_neighbors to 10 and accept default values for other hyperparameter.\n",
    "- Fit the `KNeighborsClassifier` estimator using d_train and l_train created above.\n",
    "- Calcuate mean accuracy score of the knn_model and assign the value to variable **knn_score**\n",
    " - apply knn_model on d_test to get predicted value and assign it to l_pred\n",
    " - use `accuracy_score` function in sklearn module to calculate mean accuracy score.\n",
    "\n",
    "After this problem, there will be a trained K-Nearest Neighbors Classifier **knn_model** and accuracy score __knn_score__.\n",
    "\n",
    "-----"
   ]
  },
  {
   "cell_type": "code",
   "execution_count": null,
   "metadata": {
    "deletable": false,
    "nbgrader": {
     "cell_type": "code",
     "checksum": "08a39ede90980d4a097eea7188f3f4bf",
     "grade": false,
     "grade_id": "p1-ans",
     "locked": false,
     "schema_version": 3,
     "solution": true
    }
   },
   "outputs": [],
   "source": [
    "from sklearn.neighbors import KNeighborsClassifier\n",
    "from sklearn import metrics\n",
    "\n",
    "# YOUR CODE HERE\n"
   ]
  },
  {
   "cell_type": "code",
   "execution_count": null,
   "metadata": {
    "deletable": false,
    "editable": false,
    "nbgrader": {
     "cell_type": "code",
     "checksum": "888ae34fba21d7449f4fad58c5a8148e",
     "grade": true,
     "grade_id": "p1-test",
     "locked": true,
     "points": 1,
     "schema_version": 3,
     "solution": false
    }
   },
   "outputs": [],
   "source": [
    "assert_equal(type(knn_model), type(KNeighborsClassifier()), msg=\"knn_model is not a KNeighborsClassifier model\")\n",
    "assert_equal(knn_model.get_params()['n_neighbors'], 10,\n",
    "            msg=\"n_neighbors of knn_model is not 10.\")\n",
    "assert_almost_equal(knn_score, 0.9853658536585366, msg=\"Mean accuracy score is not correct\")\n",
    "print(f\"K-Nearest Neighbors Classifier prediction accuracy = {knn_score*100:4.1f}%\")"
   ]
  },
  {
   "cell_type": "markdown",
   "metadata": {
    "deletable": false,
    "editable": false,
    "nbgrader": {
     "cell_type": "markdown",
     "checksum": "5287ebe07766e89a4043f0f4286a58f8",
     "grade": false,
     "grade_id": "cell-f0c9676010ba1122",
     "locked": true,
     "schema_version": 3,
     "solution": false
    }
   },
   "source": [
    "---\n",
    "\n",
    "# Problem 2: Create and Train a Logistic Regression Model\n",
    "\n",
    "Your task for this problem is to build and use the scikit learn library's `LogisticRegression` estimator to make predictions on the breast cancer dataset.  \n",
    "\n",
    "To complete this function, you must explicitly:\n",
    "- Create a `LogisticRegression` estimator **lr_model** by using scikit learn. Accept default values for all arguments.\n",
    "- Fit the `LogisticRegression` estimator using d_train and l_train created in problem 1.\n",
    "- Calcuate mean accuracy score of the lr_model and assign the value to variable **lr_score**\n",
    " - apply lr_model on d_test to get predicted value and assign it to l_pred\n",
    " - use `accuracy_score` function in sklearn module to calculate mean accuracy score.\n",
    "\n",
    "After this problem, there will be a trained logistic regression model **lr_model** and accuracy score __lr_score__.\n",
    "\n",
    "-----"
   ]
  },
  {
   "cell_type": "code",
   "execution_count": null,
   "metadata": {
    "deletable": false,
    "nbgrader": {
     "cell_type": "code",
     "checksum": "09ab9fa061d5b8dbb64423b03d389336",
     "grade": false,
     "grade_id": "p2-ans",
     "locked": false,
     "schema_version": 3,
     "solution": true
    }
   },
   "outputs": [],
   "source": [
    "from sklearn.linear_model import LogisticRegression\n",
    "\n",
    "# YOUR CODE HERE\n"
   ]
  },
  {
   "cell_type": "code",
   "execution_count": null,
   "metadata": {
    "deletable": false,
    "editable": false,
    "nbgrader": {
     "cell_type": "code",
     "checksum": "f18a77d73a5cf07446932a55b11cdbc6",
     "grade": true,
     "grade_id": "p2-test",
     "locked": true,
     "points": 1,
     "schema_version": 3,
     "solution": false
    }
   },
   "outputs": [],
   "source": [
    "assert_equal(type(lr_model), type(LogisticRegression()), msg=\"lr_model is not a LogisticRegression model\")\n",
    "assert_equal(lr_model.get_params()['C'], 1.0,\n",
    "            msg=\"lr_model is not created with all default argument values\")\n",
    "assert_almost_equal(lr_score, 0.975609756097561, msg=\"Mean accuracy score is not correct\")\n",
    "print(f\"Logistic Regression prediction accuracy = {lr_score*100:4.1f}%\")"
   ]
  },
  {
   "cell_type": "markdown",
   "metadata": {
    "deletable": false,
    "editable": false,
    "nbgrader": {
     "cell_type": "markdown",
     "checksum": "c3b8a712b419e84a47092b785ad7d4de",
     "grade": false,
     "grade_id": "cell-29cdc380fcceff0c",
     "locked": true,
     "schema_version": 3,
     "solution": false
    }
   },
   "source": [
    "---\n",
    "\n",
    "# Problem 3: Create and Train a Decision Tree Classifier\n",
    "\n",
    "Your task for this problem is to build and use the scikit learn library's `DecisionTreeClassifier` estimator to make predictions on the breast cancer dataset. \n",
    "\n",
    "To complete this function, you must explicitly:\n",
    "- Create a `DecisionTreeClassifier` estimator **dtc_model** by using scikit learn. Set **random_state** to 23 and accept default values for all other hyperparameters.\n",
    "- Fit the `DecisionTreeClassifier` estimator using d_train and l_train created in problem 1.\n",
    "- Calcuate mean accuracy score of the dtc_model and assign the value to variable **dtc_score**\n",
    " - apply dtc_model on d_test to get predicted value and assign it to l_pred\n",
    " - use `accuracy_score` function in sklearn module to calculate mean accuracy score.\n",
    "\n",
    "After this problem, there will be a trained decision tree classification model **dtc_model** and accuracy score __dtc_score__.\n",
    "\n",
    "-----"
   ]
  },
  {
   "cell_type": "code",
   "execution_count": null,
   "metadata": {
    "deletable": false,
    "nbgrader": {
     "cell_type": "code",
     "checksum": "916e7723604e0fb7ed398d09ff8c7ea7",
     "grade": false,
     "grade_id": "p3-ans",
     "locked": false,
     "schema_version": 3,
     "solution": true
    }
   },
   "outputs": [],
   "source": [
    "from sklearn.tree import DecisionTreeClassifier\n",
    "\n",
    "# YOUR CODE HERE\n"
   ]
  },
  {
   "cell_type": "code",
   "execution_count": null,
   "metadata": {
    "deletable": false,
    "editable": false,
    "nbgrader": {
     "cell_type": "code",
     "checksum": "48786ed4c6b09860b08c99ae6ea6a8c4",
     "grade": true,
     "grade_id": "p3-test",
     "locked": true,
     "points": 1,
     "schema_version": 3,
     "solution": false
    }
   },
   "outputs": [],
   "source": [
    "assert_equal(type(dtc_model), type(DecisionTreeClassifier()), msg=\"dtc_model is not a DecisionTreeClassifier\")\n",
    "assert_equal(dtc_model.get_params()['random_state'], 23,\n",
    "            msg=\"dtc_model is not created with random_state 23\")\n",
    "assert_equal(dtc_model.get_params()['criterion'], 'gini',\n",
    "            msg=\"dtc_model is not created with all default argument values\")\n",
    "assert_almost_equal(dtc_score, 0.9609756097560975, msg=\"Mean accuracy score is not correct\")\n",
    "print(f\"Decision Tree prediction accuracy = {dtc_score*100:4.1f}%\")"
   ]
  },
  {
   "cell_type": "markdown",
   "metadata": {
    "deletable": false,
    "editable": false,
    "nbgrader": {
     "cell_type": "markdown",
     "checksum": "1023371125ab6017d3c9186ae9f026b0",
     "grade": false,
     "grade_id": "cell-8a98dc2ad783edc1",
     "locked": true,
     "schema_version": 3,
     "solution": false
    }
   },
   "source": [
    "---\n",
    "\n",
    "# Problem 4: Get Confusion Matrix\n",
    "\n",
    "For this problem, you will get the confusion matrix of the dtc_model created in problem 3.\n",
    "\n",
    "To complete this function, you must explicitly:\n",
    "\n",
    "- Apply dtc_model `predict` function to d_test to get predicted label, assign it to variable l_pred.\n",
    "- get the confusion matrx using `confusion_matrix` function in `metrics` module with true label **l_test** and predicted label __l_pred__.\n",
    "- Assign the confusion matrix to variable **c_matrix**.\n",
    "\n",
    "After this problem, there will be a new variable **c_matrix** defined.\n",
    "\n",
    "-----"
   ]
  },
  {
   "cell_type": "code",
   "execution_count": null,
   "metadata": {
    "deletable": false,
    "nbgrader": {
     "cell_type": "code",
     "checksum": "06e9a8828cc8219a5fe93340b7eb97b2",
     "grade": false,
     "grade_id": "p4-ans",
     "locked": false,
     "schema_version": 3,
     "solution": true
    }
   },
   "outputs": [],
   "source": [
    "from sklearn import metrics\n",
    "\n",
    "# YOUR CODE HERE\n"
   ]
  },
  {
   "cell_type": "code",
   "execution_count": null,
   "metadata": {
    "deletable": false,
    "editable": false,
    "nbgrader": {
     "cell_type": "code",
     "checksum": "3cb287a6a62580957d81a672eb7e5b98",
     "grade": true,
     "grade_id": "p4-test",
     "locked": true,
     "points": 1,
     "schema_version": 3,
     "solution": false
    }
   },
   "outputs": [],
   "source": [
    "assert_equal(c_matrix[0][0], 123, msg=\"Confusion matrix is not correct\")\n",
    "assert_equal(c_matrix[1][1], 74, msg=\"Confusion matrix is not correct\")\n",
    "print(f\"Decision Tree Confusion Matrix:\\n{c_matrix}\")"
   ]
  },
  {
   "cell_type": "markdown",
   "metadata": {
    "deletable": false,
    "editable": false,
    "nbgrader": {
     "cell_type": "markdown",
     "checksum": "206e9e07b11b4e611fee08ba046c96c8",
     "grade": false,
     "grade_id": "cell-28231a10ebcd4ffb",
     "locked": true,
     "schema_version": 3,
     "solution": false
    }
   },
   "source": [
    "---\n",
    "# Problem 5: Prepare for ROC Curve\n",
    "For this problem, you will prepare data for the ROC curve for the K-Nearest Neighbors classification model **knn_model** created in problem 1.\n",
    "\n",
    "To complete this function, you must explicitly:\n",
    "- calcuate positive class probability of the knn_model with `predict_proba` function and assign it to variable **y_score_knn**.(Hint: the 2nd column of `predict_proba` return value is the positive probability, ie. `knn_model.predict_proba(d_test)[:, 1]`)\n",
    "- calculate false positive rate, true positive rate and thresholds with `roc_curve` function. Assign return values of `roc_curve` to **fpr_knn, tpr_knn** and __thresholds__.\n",
    "- get auc value with `auc` function and assign it to variable **roc_auc_knn**\n",
    "\n",
    "After this problem, you will have following variables defined: **y_score_knn, fpr_knn, tpr_knn, thresholds** and __roc_auc_knn__."
   ]
  },
  {
   "cell_type": "code",
   "execution_count": null,
   "metadata": {
    "deletable": false,
    "nbgrader": {
     "cell_type": "code",
     "checksum": "be69d89453e7f1ccfb9f6e6aaa7e2015",
     "grade": false,
     "grade_id": "p5-answer",
     "locked": false,
     "schema_version": 3,
     "solution": true
    }
   },
   "outputs": [],
   "source": [
    "# YOUR CODE HERE\n"
   ]
  },
  {
   "cell_type": "code",
   "execution_count": null,
   "metadata": {
    "deletable": false,
    "editable": false,
    "nbgrader": {
     "cell_type": "code",
     "checksum": "311d47c98edc2484638d62784d423e85",
     "grade": true,
     "grade_id": "p5-test",
     "locked": true,
     "points": 1,
     "schema_version": 3,
     "solution": false
    }
   },
   "outputs": [],
   "source": [
    "assert_almost_equal(fpr_knn[2], 0.007874015748031496, msg='fpr_knn is not correct')\n",
    "assert_almost_equal(tpr_knn[2], 0.8717948717948718, msg='tpr_knn is not correct')\n",
    "assert_almost_equal(roc_auc_knn, 0.9978800726832222, msg=\"auc is not correct\")\n",
    "\n",
    "#plot roc-auc curve\n",
    "%matplotlib inline\n",
    "import matplotlib.pyplot as plt\n",
    "\n",
    "fig, ax = plt.subplots(figsize=(8, 8))\n",
    "\n",
    "# Plot data and model\n",
    "ax.plot(fpr_knn, tpr_knn, alpha = 0.75, linestyle='-',\n",
    "        label=f'KNN (AUC = {roc_auc_knn:4.3f})')\n",
    "\n",
    "#plot random and perfect model ROC\n",
    "ax.plot([0, 1], [0, 1], alpha = 0.5, lw=1, linestyle='-', label='Random')\n",
    "ax.plot([0, 0, 1], [0, 1, 1], alpha = 0.5, lw=1, linestyle='-.', label='Perfect')\n",
    "\n",
    "ax.set_title('ROC Curve for KNN', fontsize=18)\n",
    "ax.set_xlabel('False Positive Rate', fontsize=16)\n",
    "ax.set_ylabel('True Positive Rate', fontsize=16)\n",
    "ax.set_xlim(-0.05, 1.05)\n",
    "ax.set_ylim(-0.05, 1.05)\n",
    "ax.set_aspect('equal')\n",
    "ax.legend(loc=4, fontsize=16)\n",
    "sns.despine(offset=5, trim=True)"
   ]
  }
 ],
 "metadata": {
  "coursera": {
   "course_slug": "data-analytics-accountancy-2",
   "graded_item_id": "GrQNK",
   "launcher_item_id": "m1_assignment"
  },
  "kernelspec": {
   "display_name": "Python 3",
   "language": "python",
   "name": "python3"
  },
  "language_info": {
   "codemirror_mode": {
    "name": "ipython",
    "version": 3
   },
   "file_extension": ".py",
   "mimetype": "text/x-python",
   "name": "python",
   "nbconvert_exporter": "python",
   "pygments_lexer": "ipython3",
   "version": "3.7.3"
  }
 },
 "nbformat": 4,
 "nbformat_minor": 2
}
