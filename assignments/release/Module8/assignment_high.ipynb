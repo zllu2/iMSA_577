{
 "cells": [
  {
   "cell_type": "markdown",
   "metadata": {
    "deletable": false,
    "editable": false,
    "nbgrader": {
     "checksum": "448651c5d9b0fd180260a400e684e147",
     "grade": false,
     "grade_id": "cell-9fe3edd84ede6fcf",
     "locked": true,
     "schema_version": 1,
     "solution": false
    }
   },
   "source": [
    "# Module 8 Assignment\n",
    "\n",
    "A few things you should keep in mind when working on assignments:\n",
    "\n",
    "1. Run the first code cell to import modules needed by this assignment before proceeding to problems.\n",
    "2. Make sure you fill in any place that says `# YOUR CODE HERE`. Do not write your answer anywhere else other than where it says `# YOUR CODE HERE`. Anything you write elsewhere will be removed or overwritten by the autograder.\n",
    "3. Each problem has an autograder cell below the answer cell. Run the autograder cell to check your answer. If there's anything wrong in your answer, the autograder cell will display error messages.\n",
    "4. Before you submit your assignment, make sure everything runs as expected. Go to the menubar, select Kernel, and Restart & Run all. If the notebook runs through the last code cell without error message, you've answered all problems correctly.\n",
    "5. Make sure that you save your work (in the menubar, select File → Save and CheckPoint).\n",
    "\n",
    "-----"
   ]
  },
  {
   "cell_type": "markdown",
   "metadata": {
    "deletable": false,
    "editable": false,
    "nbgrader": {
     "checksum": "47e45c5a2e283a97e5474d0589595ce8",
     "grade": false,
     "grade_id": "cell-31752648086a10b5",
     "locked": true,
     "schema_version": 1,
     "solution": false
    }
   },
   "source": [
    "# Run Me First!"
   ]
  },
  {
   "cell_type": "code",
   "execution_count": null,
   "metadata": {
    "deletable": false,
    "editable": false,
    "nbgrader": {
     "checksum": "c4c1e50508478e40958bc9525ebb46ea",
     "grade": false,
     "grade_id": "cell-88dd2a72c7ccd97d",
     "locked": true,
     "schema_version": 1,
     "solution": false
    }
   },
   "outputs": [],
   "source": [
    "% matplotlib inline\n",
    "\n",
    "import numpy as np\n",
    "import pandas as pd\n",
    "import seaborn as sns\n",
    "import matplotlib.pyplot as plt\n",
    "\n",
    "from datetime import datetime, date, timedelta\n",
    "\n",
    "from nose.tools import assert_equal, assert_true"
   ]
  },
  {
   "cell_type": "markdown",
   "metadata": {
    "deletable": false,
    "editable": false,
    "nbgrader": {
     "checksum": "778289fcfb739e459bd12983a1d32de4",
     "grade": false,
     "grade_id": "cell-d1d3882f2fbed406",
     "locked": true,
     "schema_version": 1,
     "solution": false
    }
   },
   "source": [
    "-----\n",
    "\n",
    "## Problem 1: Get Future Date\n",
    "\n",
    "In the code cell below, we declare a function named `get_future_date` that takes two argument: `current_date`, which is a datetime object, and `days` which is an integer. The function will return the datetime object `days` after `current_date`.\n",
    "\n",
    "To complete this problem, finish writing the function `get_future_date`:\n",
    "- Add `days` into `current_date`(Hint: use `timedelta`)\n",
    "- return the new datetime object.\n",
    "\n",
    "-----"
   ]
  },
  {
   "cell_type": "code",
   "execution_count": null,
   "metadata": {
    "deletable": false,
    "nbgrader": {
     "checksum": "8d02472f49b1240338b67f266d7962bd",
     "grade": false,
     "grade_id": "p1-answer",
     "locked": false,
     "schema_version": 1,
     "solution": true
    }
   },
   "outputs": [],
   "source": [
    "def get_future_date(current_date, days):\n",
    "    # YOUR CODE HERE\n",
    "    "
   ]
  },
  {
   "cell_type": "code",
   "execution_count": null,
   "metadata": {
    "deletable": false,
    "editable": false,
    "nbgrader": {
     "checksum": "1bbd23142bf67062d23d46a906b77c05",
     "grade": true,
     "grade_id": "p1-test",
     "locked": true,
     "points": 1,
     "schema_version": 1,
     "solution": false
    }
   },
   "outputs": [],
   "source": [
    "assert_equal(get_future_date(datetime(2019, 9,9), 1), datetime(2019, 9, 10), msg=\"Function is not correct.\" )\n",
    "assert_equal(get_future_date(datetime(2019, 9,9), 366), datetime(2020, 9, 9), msg=\"Function is not correct.\" )"
   ]
  },
  {
   "cell_type": "markdown",
   "metadata": {
    "deletable": false,
    "editable": false,
    "nbgrader": {
     "checksum": "77c5dac0796aeebd2f93eebdf015c97e",
     "grade": false,
     "grade_id": "cell-e0f29b979d13e6d1",
     "locked": true,
     "schema_version": 1,
     "solution": false
    }
   },
   "source": [
    "-----\n",
    "\n",
    "## Problem 2: Reading in Data\n",
    "\n",
    "In the code cell below, we declare a function named `read_data` that takes one function parameter: `file_path`, which is a string.\n",
    "\n",
    "To complete this problem, finish writing the function `read_data`:\n",
    "- read data from the file specified in the string `file_path`, by using the Pandas `read_csv` function, and\n",
    "- return the resulting DataFrame.\n",
    "\n",
    "-----"
   ]
  },
  {
   "cell_type": "code",
   "execution_count": null,
   "metadata": {
    "deletable": false,
    "nbgrader": {
     "checksum": "47f9b33af6eb8f85e9947339c8dece35",
     "grade": false,
     "grade_id": "p2-answer",
     "locked": false,
     "schema_version": 1,
     "solution": true
    }
   },
   "outputs": [],
   "source": [
    "def read_data(file_path):\n",
    "    '''\n",
    "    Parameters\n",
    "    ----------\n",
    "    file_path: string containing path to the dataset\n",
    "    \n",
    "    Returns\n",
    "    -------\n",
    "    Pandas DataFrame\n",
    "    '''\n",
    "    # YOUR CODE HERE\n",
    "    "
   ]
  },
  {
   "cell_type": "code",
   "execution_count": null,
   "metadata": {
    "deletable": false,
    "editable": false,
    "nbgrader": {
     "checksum": "7a14b183c7dee515ef2e5297bcc91b5e",
     "grade": true,
     "grade_id": "p2-test",
     "locked": true,
     "points": 1,
     "schema_version": 1,
     "solution": false
    }
   },
   "outputs": [],
   "source": [
    "path = 'data/dow_jones_index.data'\n",
    "dow_df = read_data(path)\n",
    "assert_equal(dow_df.shape[1], 16, msg=\"The number of columns your dataset has, does not match the solutions\")\n",
    "assert_equal(dow_df.shape[0], 750, msg=\"The number of rows your dataset has, does not match the solutions\")\n",
    "dow_df.head(2)"
   ]
  },
  {
   "cell_type": "markdown",
   "metadata": {
    "deletable": false,
    "editable": false,
    "nbgrader": {
     "checksum": "9bebc771d2f70f8ce228a286e479a8c3",
     "grade": false,
     "grade_id": "cell-6cc2ae0e085cc156",
     "locked": true,
     "schema_version": 1,
     "solution": false
    }
   },
   "source": [
    "-----\n",
    "\n",
    "## Problem 3: Set Datetime Index\n",
    "\n",
    "\n",
    "For this problem you will use `dow_df` created in problem 1 autograder cell.\n",
    "\n",
    "To solve this problem do the following:\n",
    "- convert the date column in `dow_df` from `object` type to `datetime` type by using the Pandas function `to_datetime`,\n",
    "- create datetime index from date column using pandas `DatetimeIndex` function and set it as the index of `dow_df`.\n",
    "\n",
    "After this problem, dow_df has a datetime index.\n",
    "\n",
    "\n",
    "------"
   ]
  },
  {
   "cell_type": "code",
   "execution_count": null,
   "metadata": {
    "deletable": false,
    "nbgrader": {
     "checksum": "5441d36383ef903fd85f6f56f517c4da",
     "grade": false,
     "grade_id": "p3-answer",
     "locked": false,
     "schema_version": 1,
     "solution": true
    }
   },
   "outputs": [],
   "source": [
    "# YOUR CODE HERE\n"
   ]
  },
  {
   "cell_type": "code",
   "execution_count": null,
   "metadata": {
    "deletable": false,
    "editable": false,
    "nbgrader": {
     "checksum": "02429807fc2fa68672b1b6153f495740",
     "grade": true,
     "grade_id": "p3-test",
     "locked": true,
     "points": 1,
     "schema_version": 1,
     "solution": false
    }
   },
   "outputs": [],
   "source": [
    "assert_equal(type(dow_df.index), pd.core.indexes.datetimes.DatetimeIndex, msg=\"The index is not datetime object.\")\n",
    "dow_df.head(2)"
   ]
  },
  {
   "cell_type": "markdown",
   "metadata": {
    "deletable": false,
    "editable": false,
    "nbgrader": {
     "checksum": "29777e36732bf6c762e3b0b5c0ab00af",
     "grade": false,
     "grade_id": "cell-34d75d264e64349c",
     "locked": true,
     "schema_version": 1,
     "solution": false
    }
   },
   "source": [
    "---\n",
    "\n",
    "# Problem 4: Slice DataFrame\n",
    "\n",
    "Slice June 2011 stock information for 'AA'.\n",
    "\n",
    "For this problem you will use **dow_df** updated in problem 2.\n",
    "\n",
    "To solve this problem do the following:\n",
    "- Use boolean mask to get rows of stock 'AA' from dow_df, assign the resulting DataFrame to aa_df\n",
    "- Get all June 2011 data from aa_df and assign the resulting DataFrame to **aa_201106_df**\n",
    "\n",
    "After this problem, there's a new variable **aa_201106_df** defined.\n",
    "\n",
    "-----"
   ]
  },
  {
   "cell_type": "code",
   "execution_count": null,
   "metadata": {
    "deletable": false,
    "nbgrader": {
     "checksum": "45e57b537091a521e7c28009006d738c",
     "grade": false,
     "grade_id": "p4-answer",
     "locked": false,
     "schema_version": 1,
     "solution": true
    }
   },
   "outputs": [],
   "source": [
    "# YOUR CODE HERE\n"
   ]
  },
  {
   "cell_type": "code",
   "execution_count": null,
   "metadata": {
    "deletable": false,
    "editable": false,
    "nbgrader": {
     "checksum": "903b4b7d9b46c28d60b13a86c3ae297f",
     "grade": true,
     "grade_id": "p4-test",
     "locked": true,
     "points": 1,
     "schema_version": 1,
     "solution": false
    }
   },
   "outputs": [],
   "source": [
    "assert_equal(aa_201106_df.shape[0], 4, msg=\"aa_201106_df is not correct\")\n",
    "aa_201106_df"
   ]
  },
  {
   "cell_type": "markdown",
   "metadata": {
    "deletable": false,
    "editable": false,
    "nbgrader": {
     "checksum": "e94bb4d2cc9ae25df3382623b4ed7390",
     "grade": false,
     "grade_id": "cell-5c71f0e397348902",
     "locked": true,
     "schema_version": 1,
     "solution": false
    }
   },
   "source": [
    "---\n",
    "\n",
    "# Problem 5: Resample DataFrame\n",
    "\n",
    "Resample stock 'AA'.\n",
    "\n",
    "For this problem you will use **dow_df** updated in problem 2.\n",
    "\n",
    "To solve this problem do the following:\n",
    "- Use boolean mask to get rows of stock `AA` from dow_df, assign the resulting DataFrame to aa_df\n",
    "- Resample aa_df with month end frequcy(Hint: with code 'M')\n",
    "- Apply mean() function on the Resampler object and assign the resulting DataFrame to **aa_resample**\n",
    "\n",
    "After this problem, there's a new variable **aa_resample** defined.\n",
    "\n",
    "\n",
    "-----"
   ]
  },
  {
   "cell_type": "code",
   "execution_count": null,
   "metadata": {
    "deletable": false,
    "nbgrader": {
     "checksum": "be69d89453e7f1ccfb9f6e6aaa7e2015",
     "grade": false,
     "grade_id": "p5-answer",
     "locked": false,
     "schema_version": 1,
     "solution": true
    }
   },
   "outputs": [],
   "source": [
    "# YOUR CODE HERE\n"
   ]
  },
  {
   "cell_type": "code",
   "execution_count": null,
   "metadata": {
    "deletable": false,
    "editable": false,
    "nbgrader": {
     "checksum": "ab8ce9152b31d4c09cf30f1c239f86ad",
     "grade": true,
     "grade_id": "p5-test",
     "locked": true,
     "points": 1,
     "schema_version": 1,
     "solution": false
    }
   },
   "outputs": [],
   "source": [
    "assert_equal(type(aa_resample), pd.DataFrame, msg=\"aa_resample should be a DataFrame\")\n",
    "assert_equal(aa_resample.shape[0], 6, msg=\"aa_resample is not correct\")\n",
    "assert_equal(aa_resample.index[0].date(), date(2011, 1,31),\n",
    "             msg=\"aa_resample is not resampled at month end frequency\")\n",
    "aa_resample"
   ]
  }
 ],
 "metadata": {
  "coursera": {
   "course_slug": "data-analytics-accountancy-2",
   "graded_item_id": "GrQNK",
   "launcher_item_id": "m1_assignment"
  },
  "kernelspec": {
   "display_name": "Python 3",
   "language": "python",
   "name": "python3"
  },
  "language_info": {
   "codemirror_mode": {
    "name": "ipython",
    "version": 3
   },
   "file_extension": ".py",
   "mimetype": "text/x-python",
   "name": "python",
   "nbconvert_exporter": "python",
   "pygments_lexer": "ipython3",
   "version": "3.7.1"
  }
 },
 "nbformat": 4,
 "nbformat_minor": 2
}
