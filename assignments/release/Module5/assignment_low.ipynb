{
 "cells": [
  {
   "cell_type": "markdown",
   "metadata": {
    "deletable": false,
    "editable": false,
    "nbgrader": {
     "cell_type": "markdown",
     "checksum": "a61fa649a8c6de58d67bc5f31989898d",
     "grade": false,
     "grade_id": "cell-9fe3edd84ede6fcf",
     "locked": true,
     "schema_version": 3,
     "solution": false
    }
   },
   "source": [
    "# Module 5 Assignment\n",
    "\n",
    "A few things you should keep in mind when working on assignments:\n",
    "\n",
    "1. Run the first code cell to import modules needed by this assignment before proceeding to problems.\n",
    "2. Make sure you fill in any place that says `# YOUR CODE HERE`. Do not write your answer anywhere else other than where it says `# YOUR CODE HERE`. Anything you write elsewhere will be removed or overwritten by the autograder.\n",
    "3. Each problem has an autograder cell below the answer cell. Run the autograder cell to check your answer. If there's anything wrong in your answer, the autograder cell will display error messages.\n",
    "4. Before you submit your assignment, make sure everything runs as expected. Go to the menubar, select Kernel, and Restart & Run all. If the notebook runs through the last code cell without an error message, you've answered all problems correctly.\n",
    "5. Make sure that you save your work (in the menubar, select File → Save and CheckPoint).\n",
    "\n",
    "-----"
   ]
  },
  {
   "cell_type": "markdown",
   "metadata": {
    "deletable": false,
    "editable": false,
    "nbgrader": {
     "cell_type": "markdown",
     "checksum": "47e45c5a2e283a97e5474d0589595ce8",
     "grade": false,
     "grade_id": "cell-31752648086a10b5",
     "locked": true,
     "schema_version": 3,
     "solution": false
    }
   },
   "source": [
    "# Run Me First!"
   ]
  },
  {
   "cell_type": "code",
   "execution_count": null,
   "metadata": {
    "deletable": false,
    "editable": false,
    "nbgrader": {
     "cell_type": "code",
     "checksum": "76c484feaa9128a5b35c7165fc3ca67a",
     "grade": false,
     "grade_id": "cell-88dd2a72c7ccd97d",
     "locked": true,
     "schema_version": 3,
     "solution": false
    }
   },
   "outputs": [],
   "source": [
    "import pandas as pd\n",
    "import numpy as np\n",
    "import seaborn as sns\n",
    "\n",
    "from nose.tools import assert_equal, assert_almost_equal, assert_true, assert_is_instance\n",
    "\n",
    "# We do this to ignore warnings\n",
    "import warnings\n",
    "warnings.filterwarnings(\"ignore\")"
   ]
  },
  {
   "cell_type": "markdown",
   "metadata": {
    "deletable": false,
    "editable": false,
    "nbgrader": {
     "cell_type": "markdown",
     "checksum": "94a6654f6afe8bc77bc01a9dd9a1d0cc",
     "grade": false,
     "grade_id": "cell-c36036bd06797824",
     "locked": true,
     "schema_version": 3,
     "solution": false
    }
   },
   "source": [
    "---\n",
    "# Prepare Breast Cancer Data\n",
    "\n",
    "This assignment will use the breast cancer dataset. Before we attempt to build a model, we first prepare the data.\n",
    "\n",
    "Please run the next code cell before proceeding to Problem 1.\n"
   ]
  },
  {
   "cell_type": "code",
   "execution_count": null,
   "metadata": {
    "deletable": false,
    "editable": false,
    "nbgrader": {
     "cell_type": "code",
     "checksum": "7414898dd8654bf0aa7c6b19d1a2a7a2",
     "grade": false,
     "grade_id": "cell-b7a411e93e83fc6a",
     "locked": true,
     "schema_version": 3,
     "solution": false
    }
   },
   "outputs": [],
   "source": [
    "#Load breast cancer dataset\n",
    "df = pd.read_csv('data/breast-cancer-wisconsin.csv')\n",
    "label = df['class']\n",
    "data = df[['clump thickness', 'uniformity cell size', 'uniformity cell shape', 'marginal adhesion', 'epithelial cell size', 'bare nuclei', 'bland chromatin', 'normal nucleoli', 'mitoses']]\n",
    "data.sample(2)"
   ]
  },
  {
   "cell_type": "markdown",
   "metadata": {},
   "source": [
    "---\n",
    "# Problem 1: Get Feature Variances by Variance Thresholding\n",
    "\n",
    "Normalize features and get feature variances.\n",
    "\n",
    "For this problem you will use the DataFrame **data** defined above.\n",
    "\n",
    "To solve this problem do the following:\n",
    "- Use `MinMaxScaler` to normalize DataFrame **data** created above, assign normalized data to variable __data_ss__.\n",
    "- Create a `VarianceThreshold` feature selector with default `threshold`(which is 0) using scikit learns library.\n",
    "- Fit & Transform the selector on the DataFrame **data_ss**.\n",
    "- Retrieve feature variances from the selector's `variances_` attribute and assign it to variable **feature_variance**\n",
    "\n",
    "After this problem, there's a new variable **feature_variance** defined.\n",
    "\n",
    "---"
   ]
  },
  {
   "cell_type": "code",
   "execution_count": null,
   "metadata": {
    "deletable": false,
    "nbgrader": {
     "cell_type": "code",
     "checksum": "b08fa57bda70253770f12ef92ffb48cb",
     "grade": false,
     "grade_id": "p1-answer",
     "locked": false,
     "schema_version": 3,
     "solution": true
    }
   },
   "outputs": [],
   "source": [
    "from sklearn.preprocessing import MinMaxScaler\n",
    "from sklearn.feature_selection import VarianceThreshold\n",
    "\n",
    "# YOUR CODE HERE\n"
   ]
  },
  {
   "cell_type": "code",
   "execution_count": null,
   "metadata": {
    "deletable": false,
    "editable": false,
    "nbgrader": {
     "cell_type": "code",
     "checksum": "d38176a31d911f50a38ab982a0db36eb",
     "grade": true,
     "grade_id": "p1-test",
     "locked": true,
     "points": 1,
     "schema_version": 3,
     "solution": false
    }
   },
   "outputs": [],
   "source": [
    "assert_almost_equal(feature_variance[0], 0.09808697, msg='Feature variances are not correct')\n",
    "assert_almost_equal(feature_variance[2], 0.11010541, msg='Feature variances are not correct')\n",
    "print('Feature Variances:\\n')\n",
    "for feature, var in sorted(zip(data.columns, feature_variance), key=lambda x: x[1], reverse=True):\n",
    "    print(f'{feature:>21} = {var:5.3f}')"
   ]
  },
  {
   "cell_type": "markdown",
   "metadata": {
    "deletable": false,
    "editable": false,
    "nbgrader": {
     "cell_type": "markdown",
     "checksum": "dd91669d06c50a3613cbcbb5c3bc2ea2",
     "grade": false,
     "grade_id": "cell-6cc2ae0e085cc156",
     "locked": true,
     "schema_version": 3,
     "solution": false
    }
   },
   "source": [
    "---\n",
    "# Problem 2: Get Feature Ranking by Recursive Feature Extraction\n",
    "\n",
    "Perform RFE on a Random Forest Classifier and retrieve feature rankings.\n",
    "\n",
    "For this problem you will use **data** and __label__ created above.\n",
    "\n",
    "To solve this problem do the following:\n",
    "- Create a `RandomForestClassifier` estimator. Set `n_estimators` to 100, `random_state` to 23 and accept default values for all other hyperparameters.\n",
    "- Create a Recursive Feature Estimator `RFE` using the Random Forest Classifier created in step 1 as the `estimator`, set `n_features_to_select ` to 1. Accept default values for other arguments.\n",
    "- Fit the RFE estimator using **data** and __lable__.\n",
    "- Retrieve feature rankings from the `RFE` selector's `ranking_` attribute and assign it to variable **feature_ranking**.\n",
    "\n",
    "After this problem, there's a new variable **feature_ranking** defined.\n",
    "\n",
    "---"
   ]
  },
  {
   "cell_type": "code",
   "execution_count": null,
   "metadata": {
    "deletable": false,
    "nbgrader": {
     "cell_type": "code",
     "checksum": "4c0961009a40e0eb20ae59177587cae1",
     "grade": false,
     "grade_id": "p2-answer",
     "locked": false,
     "schema_version": 3,
     "solution": true
    }
   },
   "outputs": [],
   "source": [
    "from sklearn.ensemble import RandomForestClassifier\n",
    "from sklearn.feature_selection import RFE\n",
    "\n",
    "# YOUR CODE HERE\n"
   ]
  },
  {
   "cell_type": "code",
   "execution_count": null,
   "metadata": {
    "deletable": false,
    "editable": false,
    "nbgrader": {
     "cell_type": "code",
     "checksum": "2f8d0eb0688cc79ef774111ff3336f7a",
     "grade": true,
     "grade_id": "p2-test",
     "locked": true,
     "points": 1,
     "schema_version": 3,
     "solution": false
    }
   },
   "outputs": [],
   "source": [
    "assert_equal(feature_ranking.tolist(), [6, 2, 1, 8, 5, 3, 4, 7, 9])\n",
    "# Display feature ranking\n",
    "print('Feature Ranking:')\n",
    "for var, name in sorted(zip(feature_ranking, data.columns), key=lambda x: x[0]):\n",
    "    print(f'{name:>21} = {var}')"
   ]
  },
  {
   "cell_type": "markdown",
   "metadata": {
    "deletable": false,
    "editable": false,
    "nbgrader": {
     "cell_type": "markdown",
     "checksum": "d0289b620f919122da82d9f2abc6cab9",
     "grade": false,
     "grade_id": "cell-34d75d264e64349c",
     "locked": true,
     "schema_version": 3,
     "solution": false
    }
   },
   "source": [
    "---\n",
    "\n",
    "# Problem 3: Get Feature Importance from Random Forest Classifier\n",
    "\n",
    "Get feature importance from a trained Random Forest Classifier.\n",
    "\n",
    "For this problem you will use **data** and __label__ created above.\n",
    "\n",
    "To solve this problem do the following:\n",
    "- Create a `RandomForestClassifier` estimator. Set `n_estimators` to 100, `random_state` to 23 and accept default values for all other hyperparameters.\n",
    "- Fit the `RandomForestClassifier` estimator using **data** and __label__.\n",
    "- Retrieve feature importances from the estimator's `feature_importances_` attribute and assign it to variable **feature_importance**.\n",
    "\n",
    "After this problem, there will be a new variable **feature_importance** defined.\n",
    "\n",
    "-----"
   ]
  },
  {
   "cell_type": "code",
   "execution_count": null,
   "metadata": {
    "deletable": false,
    "nbgrader": {
     "cell_type": "code",
     "checksum": "7ed7de15bee58890133d974a04afeb89",
     "grade": false,
     "grade_id": "p3-answer",
     "locked": false,
     "schema_version": 3,
     "solution": true
    }
   },
   "outputs": [],
   "source": [
    "from sklearn.ensemble import RandomForestClassifier\n",
    "\n",
    "# YOUR CODE HERE\n"
   ]
  },
  {
   "cell_type": "code",
   "execution_count": null,
   "metadata": {
    "deletable": false,
    "editable": false,
    "nbgrader": {
     "cell_type": "code",
     "checksum": "6f5a084929ca5ddf5d3728e71914b519",
     "grade": true,
     "grade_id": "p3-test",
     "locked": true,
     "points": 1,
     "schema_version": 3,
     "solution": false
    }
   },
   "outputs": [],
   "source": [
    "assert_almost_equal(feature_importance[0], 0.04282269, msg=\"Feature importances are not correct\")\n",
    "assert_almost_equal(feature_importance[-1], 0.00794928, msg=\"Feature importances are not correct\")\n",
    "print(\"Feature Importance:\\n\")\n",
    "for val, name in sorted(zip(feature_importance, data.columns), key=lambda x: x[0], reverse=True):\n",
    "    print(f'{name:>21}: {100.0*val:05.2f}%')"
   ]
  },
  {
   "cell_type": "markdown",
   "metadata": {
    "deletable": false,
    "editable": false,
    "nbgrader": {
     "cell_type": "markdown",
     "checksum": "73d0a7254ff3addab64e90482feb45c9",
     "grade": false,
     "grade_id": "cell-5c71f0e397348902",
     "locked": true,
     "schema_version": 3,
     "solution": false
    }
   },
   "source": [
    "---\n",
    "\n",
    "# Problem 4: Get the Cross Validation Scores\n",
    "\n",
    "Get the cross-validation scores for a Random Forest Classifier.\n",
    "\n",
    "For this problem you will use **data** and __label__ created above.\n",
    "\n",
    "To solve this problem do the following:\n",
    "- Create a `RandomForestClassifier` estimator. Set `n_estimators` to 100, `random_state` to 23 and accept default values for all other hyperparameters.\n",
    "- Create `StratifiedKFold` iterator. Set `n_splits` to 5 and `random_state` to 23.\n",
    "- Calculate cross validation scores using `cross_val_score` function with the random forest classifier, data, label and the `StratifiedKFold` iterator. Assign scores to variable **cv_scores**.\n",
    "\n",
    "After this problem, there's a new variable **cv_scores** defined.\n",
    "\n",
    "-----"
   ]
  },
  {
   "cell_type": "code",
   "execution_count": null,
   "metadata": {
    "deletable": false,
    "nbgrader": {
     "cell_type": "code",
     "checksum": "c76fe4161da935436f80f1b8b0ebe505",
     "grade": false,
     "grade_id": "p4-answer",
     "locked": false,
     "schema_version": 3,
     "solution": true
    }
   },
   "outputs": [],
   "source": [
    "from sklearn.ensemble import RandomForestClassifier\n",
    "from sklearn.model_selection import StratifiedKFold\n",
    "from sklearn.model_selection import cross_val_score\n",
    "\n",
    "# YOUR CODE HERE\n"
   ]
  },
  {
   "cell_type": "code",
   "execution_count": null,
   "metadata": {
    "deletable": false,
    "editable": false,
    "nbgrader": {
     "cell_type": "code",
     "checksum": "765f38fc2d4db9e8829e2adda5e9c619",
     "grade": true,
     "grade_id": "p4-test",
     "locked": true,
     "points": 1,
     "schema_version": 3,
     "solution": false
    }
   },
   "outputs": [],
   "source": [
    "assert_almost_equal(cv_scores[0], 0.93430657, msg='Cross validation scores are not correct')\n",
    "assert_almost_equal(cv_scores[2], 0.98540146, msg='Cross validation scores are not correct')\n",
    "print(f\"Average Cross Validation Score: {np.mean(cv_scores)*100:4.1f}%\")"
   ]
  }
 ],
 "metadata": {
  "coursera": {
   "course_slug": "machine-learning-accounting-python",
   "graded_item_id": "UJfSA",
   "launcher_item_id": "TMKNf"
  },
  "kernelspec": {
   "display_name": "Python 3",
   "language": "python",
   "name": "python3"
  },
  "language_info": {
   "codemirror_mode": {
    "name": "ipython",
    "version": 3
   },
   "file_extension": ".py",
   "mimetype": "text/x-python",
   "name": "python",
   "nbconvert_exporter": "python",
   "pygments_lexer": "ipython3",
   "version": "3.7.3"
  }
 },
 "nbformat": 4,
 "nbformat_minor": 2
}
