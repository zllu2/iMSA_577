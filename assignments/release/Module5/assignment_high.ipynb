{
 "cells": [
  {
   "cell_type": "markdown",
   "metadata": {
    "deletable": false,
    "editable": false,
    "nbgrader": {
     "cell_type": "markdown",
     "checksum": "8defcf2ab0bd11b31ec1b48d36fe2cdf",
     "grade": false,
     "grade_id": "cell-5aaea72c3751c7e2",
     "locked": true,
     "schema_version": 3,
     "solution": false
    }
   },
   "source": [
    "# Module 5 Assignment\n",
    "\n",
    "A few things you should keep in mind when working on assignments:\n",
    "\n",
    "1. Run the first code cell to import modules needed by this assignment before proceeding to problems.\n",
    "2. Make sure you fill in any place that says `# YOUR CODE HERE`. Do not write your answer anywhere else other than where it says `# YOUR CODE HERE`. Anything you write elsewhere will be removed or overwritten by the autograder.\n",
    "3. Each problem has an autograder cell below the answer cell. Run the autograder cell to check your answer. If there's anything wrong in your answer, the autograder cell will display error messages.\n",
    "4. Before you submit your assignment, make sure everything runs as expected. Go to the menubar, select Kernel, and Restart & Run all. If the notebook runs through the last code cell without an error message, you've answered all problems correctly.\n",
    "5. Make sure that you save your work (in the menubar, select File → Save and CheckPoint).\n",
    "\n",
    "-----"
   ]
  },
  {
   "cell_type": "markdown",
   "metadata": {
    "deletable": false,
    "editable": false,
    "nbgrader": {
     "cell_type": "markdown",
     "checksum": "b254b51cc1c32d2c46e136c9c04dba92",
     "grade": false,
     "grade_id": "cell-aab57598618fe44d",
     "locked": true,
     "schema_version": 3,
     "solution": false
    }
   },
   "source": [
    "# Run Me First!"
   ]
  },
  {
   "cell_type": "code",
   "execution_count": null,
   "metadata": {
    "deletable": false,
    "editable": false,
    "nbgrader": {
     "cell_type": "code",
     "checksum": "c4fdec690598cfb6c966dd90ee654b60",
     "grade": false,
     "grade_id": "cell-88dd2a72c7ccd97d",
     "locked": true,
     "schema_version": 3,
     "solution": false
    }
   },
   "outputs": [],
   "source": [
    "import pandas as pd\n",
    "import numpy as np\n",
    "\n",
    "from nose.tools import assert_equal, assert_almost_equal, assert_true, assert_is_instance\n",
    "\n",
    "# We do this to ignore warnings\n",
    "import warnings\n",
    "warnings.filterwarnings(\"ignore\")"
   ]
  },
  {
   "cell_type": "markdown",
   "metadata": {
    "deletable": false,
    "editable": false,
    "nbgrader": {
     "cell_type": "markdown",
     "checksum": "093ba8d4d62e57432311f2ef34883e06",
     "grade": false,
     "grade_id": "cell-c1ed02bea3557ccf",
     "locked": true,
     "schema_version": 3,
     "solution": false
    }
   },
   "source": [
    "-----\n",
    "\n",
    "# Prepare MPG Data\n",
    "\n",
    "In this assignment, we will use the mpg dataset to make a regression model. Before we attempt to build a model, we first prepare the data.\n",
    "\n",
    "Please run the next code cell before proceeding to Problem 1.\n",
    "\n",
    "-----"
   ]
  },
  {
   "cell_type": "code",
   "execution_count": null,
   "metadata": {
    "deletable": false,
    "editable": false,
    "nbgrader": {
     "cell_type": "code",
     "checksum": "7c83642d4682605979b8425cb3f5250a",
     "grade": false,
     "grade_id": "cell-dfcefdd4646fca8c",
     "locked": true,
     "schema_version": 3,
     "solution": false
    }
   },
   "outputs": [],
   "source": [
    "from sklearn.model_selection import train_test_split\n",
    "from sklearn.preprocessing import LabelEncoder\n",
    "#load MPG dataset\n",
    "mpg = pd.read_csv('data/mpg.csv')\n",
    "mpg.dropna(inplace=True)\n",
    "mpg['origin'] = LabelEncoder().fit_transform(mpg.origin)\n",
    "y = mpg['mpg']\n",
    "x = mpg[['cylinders', 'displacement', 'horsepower', 'weight', 'acceleration', 'model_year', 'origin']]\n",
    "\n",
    "# Split data intro training:testing data set\n",
    "x_train, x_test, y_train, y_test = train_test_split(x, y, test_size=0.4, random_state=23)\n",
    "x_train.sample(2)"
   ]
  },
  {
   "cell_type": "markdown",
   "metadata": {
    "deletable": false,
    "editable": false,
    "nbgrader": {
     "cell_type": "markdown",
     "checksum": "5e3361eec758287f34bf9191e8573e6e",
     "grade": false,
     "grade_id": "cell-72a7a0ba38b0c4fd",
     "locked": true,
     "schema_version": 3,
     "solution": false
    }
   },
   "source": [
    "---\n",
    "# Problem 1: Get Feature Ranking by Recursive Feature Extraction\n",
    "\n",
    "Perform RFE on a Random Forest Regressor and retrieve feature rankings.\n",
    "\n",
    "This problem will use **x** and __y__ created above.\n",
    "\n",
    "To solve this problem do the following:\n",
    "- Create a `RandomForestRegressor` estimator. Set `n_estimators` to 100, `random_state` to 23 and accept default values for all other hyperparameters.\n",
    "- Create a Recursive Feature Estimator `RFE` using the random forest regressor created in step 1 as the `estimator`, set `n_features_to_select ` to 1. Accept default values for other arguments.\n",
    "- Fit the RFE estimator using **x** and __y__.\n",
    "- Retrieve feature rankings from the `RFE` selector's `ranking_` attribute and assign it to variable **feature_ranking**.\n",
    "\n",
    "After this problem, there's a new variable **feature_ranking** defined."
   ]
  },
  {
   "cell_type": "code",
   "execution_count": null,
   "metadata": {
    "deletable": false,
    "nbgrader": {
     "cell_type": "code",
     "checksum": "555e5260c5a5a06f3841e5b4ee3501ca",
     "grade": false,
     "grade_id": "p1-answer",
     "locked": false,
     "schema_version": 3,
     "solution": true
    }
   },
   "outputs": [],
   "source": [
    "from sklearn.ensemble import RandomForestRegressor\n",
    "from sklearn.feature_selection import RFE\n",
    "\n",
    "# YOUR CODE HERE\n"
   ]
  },
  {
   "cell_type": "code",
   "execution_count": null,
   "metadata": {
    "deletable": false,
    "editable": false,
    "nbgrader": {
     "cell_type": "code",
     "checksum": "b1cb85a561d063daa27db16245da5e13",
     "grade": true,
     "grade_id": "p1-test",
     "locked": true,
     "points": 1,
     "schema_version": 3,
     "solution": false
    }
   },
   "outputs": [],
   "source": [
    "assert_equal(feature_ranking.tolist(), [3, 1, 5, 2, 6, 4, 7])\n",
    "# Display feature ranking\n",
    "print('Feature Ranking:')\n",
    "for var, name in sorted(zip(feature_ranking, x.columns), key=lambda x: x[0]):\n",
    "    print(f'{name:>12} = {var}')"
   ]
  },
  {
   "cell_type": "markdown",
   "metadata": {
    "deletable": false,
    "editable": false,
    "nbgrader": {
     "cell_type": "markdown",
     "checksum": "df092d604758cb7d77f669204e5b2e3a",
     "grade": false,
     "grade_id": "cell-30fe030e9e99b1f5",
     "locked": true,
     "schema_version": 3,
     "solution": false
    }
   },
   "source": [
    "---\n",
    "\n",
    "# Problem 2: Get Accuracy Score of a Random Forest Regressor\n",
    "\n",
    "This problem will use **x_train, x_test, y_train** and __y_test__ created above.\n",
    "\n",
    "Your task for this problem is to build and train a `RandomForestRegressor` estimator on mpg data and calculate the estimator's $R^2$ score.\n",
    "\n",
    "To solve this problem do the following:\n",
    "- Create a `RandomForestRegressor` estimator **rfr**. Set `n_estimators` to 100, `random_state` to 23 and accept default values for all other hyperparameters.\n",
    "- Fit the RandomForestRegressor estimator using x_train and y_train.\n",
    "- Apply rfr `predict` function on x_test to get predicted mpg, save it as **y_pred**.\n",
    "- Use `r2_score` function with y_test and y_pred to get $R^2$ and assign it to variable **r2**.\n",
    "\n",
    "After this problem, there will be a new variable **r2** defined.\n",
    "\n",
    "-----"
   ]
  },
  {
   "cell_type": "code",
   "execution_count": null,
   "metadata": {
    "deletable": false,
    "nbgrader": {
     "cell_type": "code",
     "checksum": "1208d529784c17ca62ad6bad397d9fd7",
     "grade": false,
     "grade_id": "p2-answer",
     "locked": false,
     "schema_version": 3,
     "solution": true
    }
   },
   "outputs": [],
   "source": [
    "from sklearn.ensemble import RandomForestRegressor\n",
    "from sklearn.metrics import r2_score\n",
    "\n",
    "# YOUR CODE HERE\n"
   ]
  },
  {
   "cell_type": "code",
   "execution_count": null,
   "metadata": {
    "deletable": false,
    "editable": false,
    "nbgrader": {
     "cell_type": "code",
     "checksum": "5cd94ac4f174e584e3685b557b6c22b7",
     "grade": true,
     "grade_id": "p2-test",
     "locked": true,
     "points": 1,
     "schema_version": 3,
     "solution": false
    }
   },
   "outputs": [],
   "source": [
    "assert_almost_equal(r2, 0.8441667341695959, msg=\"R2 score is not correct\")\n",
    "print(f'R2 score: {r2:4.2f}')"
   ]
  },
  {
   "cell_type": "markdown",
   "metadata": {
    "deletable": false,
    "editable": false,
    "nbgrader": {
     "cell_type": "markdown",
     "checksum": "07802167a0648da5f7111b5ee1aaf200",
     "grade": false,
     "grade_id": "cell-5415042841073d6a",
     "locked": true,
     "schema_version": 3,
     "solution": false
    }
   },
   "source": [
    "---\n",
    "\n",
    "# Problem 3: Get the Cross Validation Scores\n",
    "\n",
    "Get the cross validation scores for a random forest regressor.\n",
    "\n",
    "This problem will use **x** and __y__ created above.\n",
    "\n",
    "To solve this problem do the following:\n",
    "- Create a `RandomForestRegressor` estimator. Set `n_estimators` to 100, `random_state` to 23 and accept default values for all other hyperparameters.\n",
    "- Create `KFold` iterator. Set `n_splits` to 5 and `random_state` to 23.\n",
    "- Calculate cross validation scores using `cross_val_score` function with the random forest regressor, x, y and the `KFold` iterator. Assign scores to variable **cv_scores**.\n",
    "\n",
    "After this problem, there's a new variable **cv_scores** defined.\n",
    "\n",
    "-----"
   ]
  },
  {
   "cell_type": "code",
   "execution_count": null,
   "metadata": {
    "deletable": false,
    "nbgrader": {
     "cell_type": "code",
     "checksum": "a62d49bd27cac62f870ca8f764e60cdc",
     "grade": false,
     "grade_id": "p3-answer",
     "locked": false,
     "schema_version": 3,
     "solution": true
    }
   },
   "outputs": [],
   "source": [
    "from sklearn.ensemble import RandomForestRegressor\n",
    "from sklearn.model_selection import KFold\n",
    "from sklearn.model_selection import cross_val_score\n",
    "\n",
    "# YOUR CODE HERE\n"
   ]
  },
  {
   "cell_type": "code",
   "execution_count": null,
   "metadata": {
    "deletable": false,
    "editable": false,
    "nbgrader": {
     "cell_type": "code",
     "checksum": "e83d9d49c5999313507ca1932b0e080d",
     "grade": true,
     "grade_id": "p3-test",
     "locked": true,
     "points": 1,
     "schema_version": 3,
     "solution": false
    }
   },
   "outputs": [],
   "source": [
    "assert_almost_equal(cv_scores[0], 0.88705262, msg='Cross validation scores are not correct')\n",
    "assert_almost_equal(cv_scores[2], 0.85913104, msg='Cross validation scores are not correct')\n",
    "print(f\"Average Cross Validation Score: {np.mean(cv_scores):4.2f}\")"
   ]
  },
  {
   "cell_type": "markdown",
   "metadata": {
    "deletable": false,
    "editable": false,
    "nbgrader": {
     "cell_type": "markdown",
     "checksum": "c0d16770484a5be17e3d3e245bbebe5e",
     "grade": false,
     "grade_id": "cell-04a5c3d6a5d2fa7a",
     "locked": true,
     "schema_version": 3,
     "solution": false
    }
   },
   "source": [
    "-----\n",
    "\n",
    "# Prepare Breast Cancer Data\n",
    "\n",
    "For next 2 problems we will use the breast cancer dataset. Before we attempt to build models, we first prepare the data.\n",
    "\n",
    "Please run the next two code cells before proceeding to Problem 4.\n",
    "\n",
    "-----"
   ]
  },
  {
   "cell_type": "code",
   "execution_count": null,
   "metadata": {
    "deletable": false,
    "editable": false,
    "nbgrader": {
     "cell_type": "code",
     "checksum": "0158a3741e7ec22ad4142e8fa18441d7",
     "grade": false,
     "grade_id": "cell-067fcf4112b3f798",
     "locked": true,
     "schema_version": 3,
     "solution": false
    }
   },
   "outputs": [],
   "source": [
    "from sklearn.model_selection import train_test_split\n",
    "from sklearn.preprocessing import LabelEncoder\n",
    "\n",
    "#Load breast cancer dataset\n",
    "df = pd.read_csv('data/breast-cancer-wisconsin.csv')\n",
    "#reduce data size\n",
    "df = df.sample(200, random_state=23)\n",
    "label = df['class']\n",
    "data = df[['clump thickness', 'uniformity cell size', 'uniformity cell shape', 'marginal adhesion', 'epithelial cell size', 'bare nuclei', 'bland chromatin', 'normal nucleoli', 'mitoses']]"
   ]
  },
  {
   "cell_type": "markdown",
   "metadata": {
    "deletable": false,
    "editable": false,
    "nbgrader": {
     "cell_type": "markdown",
     "checksum": "2ede253831f991a7840798fa274a30e1",
     "grade": false,
     "grade_id": "cell-b14f916df8f7af19",
     "locked": true,
     "schema_version": 3,
     "solution": false
    }
   },
   "source": [
    "---\n",
    "\n",
    "# Problem 4: Find Best Estimator with Grid Search\n",
    "\n",
    "Conduct grid search cross validation on the random forest classifier and get the best estimator.\n",
    "\n",
    "This problem will use **data** and __label__ created above.\n",
    "\n",
    "To solve this problem do the following:\n",
    "- Create a `RandomForestClassifier` estimator. Set `random_state` to 23.\n",
    "- Create a `StratifiedKFold` iterator with `n_splits` equals 5 and `random_state` equals 23.\n",
    "- Create variable **estimators** with value `[20, 40, 60, 80, 100]`.\n",
    "- Create parameter dictionary **params** and set key to `'n_estimators'` and value to the list `estimators` created in previous step.\n",
    "- Create `GridSearchCV` object **gse**:\n",
    " - Set `estimator` to the random forest classifier estimator.\n",
    " - Set `param_grid` to the parameter dictionary `params`.\n",
    " - Set `cv` to the stratified k-fold iterator.\n",
    "- Fit the `GridSearchCV` object created in previous step using **data** and __label__.\n",
    "- Retrieve the best estimator from the `GridSearchCV` object's `best_estimator_` attribute and assign it to variable **best_estimator_gs**.\n",
    "- Retrieve the best cross validation score from the `GridSearchCV` object's `best_score_` attribute and assign it to variable **best_score_gs**.\n",
    "\n",
    "After this problem, there will be five new variables defined: **estimators, params, gse, best_estimator_gs,** and __best_score_gs__.\n",
    "\n",
    "-----"
   ]
  },
  {
   "cell_type": "code",
   "execution_count": null,
   "metadata": {
    "deletable": false,
    "nbgrader": {
     "cell_type": "code",
     "checksum": "c099dd0c5d1833a85f5758f90c3e4ad7",
     "grade": false,
     "grade_id": "p4-answer",
     "locked": false,
     "schema_version": 3,
     "solution": true
    }
   },
   "outputs": [],
   "source": [
    "from sklearn.ensemble import RandomForestClassifier\n",
    "from sklearn.model_selection import StratifiedKFold, GridSearchCV\n",
    "\n",
    "# YOUR CODE HERE\n"
   ]
  },
  {
   "cell_type": "code",
   "execution_count": null,
   "metadata": {
    "deletable": false,
    "editable": false,
    "nbgrader": {
     "cell_type": "code",
     "checksum": "114dd30d2bbc82051a0481001ab016ba",
     "grade": true,
     "grade_id": "p4-test",
     "locked": true,
     "points": 1,
     "schema_version": 3,
     "solution": false
    }
   },
   "outputs": [],
   "source": [
    "assert_true(20 in gse.get_params()['param_grid']['n_estimators'] and \\\n",
    "            40 in gse.get_params()['param_grid']['n_estimators'] and \\\n",
    "            60 in gse.get_params()['param_grid']['n_estimators'] and \\\n",
    "            80 in gse.get_params()['param_grid']['n_estimators'] and \\\n",
    "            100 in gse.get_params()['param_grid']['n_estimators'], msg='Option of n_estimators is not correct.')\n",
    "assert_is_instance(gse.get_params()['cv'], StratifiedKFold, msg='Cross validation is not StratifiedKFold.')\n",
    "\n",
    "print(f'Best n_estimators={best_estimator_gs.get_params()[\"n_estimators\"]}')\n",
    "print(f'Best CV Score = {best_score_gs:5.3f}')"
   ]
  },
  {
   "cell_type": "markdown",
   "metadata": {
    "deletable": false,
    "editable": false,
    "nbgrader": {
     "cell_type": "markdown",
     "checksum": "ac5435f92105433d9fe853c5b250dfac",
     "grade": false,
     "grade_id": "cell-a89a17b692fc8a9d",
     "locked": true,
     "schema_version": 3,
     "solution": false
    }
   },
   "source": [
    "---\n",
    "\n",
    "# Problem 5: Find Best Estimator with Random Grid Search\n",
    "\n",
    "Conduct random grid search cross validation on the random forest classifier and get the best estimator.\n",
    "\n",
    "This problem will use **data** and __label__ created above.\n",
    "\n",
    "To solve this problem do the following:\n",
    "- Create a `RandomForestClassifier` estimator. Set `random_state` to 23.\n",
    "- Create a `StratifiedKFold` iterator with `n_splits` equals 5 and `random_state` equals 23.\n",
    "- Create variable **estimators** with value `range(20,100)`.\n",
    "- Create variable __weights__ with value `[None, 'balanced']`.\n",
    "- Create parameter dictionary **params** with two keys, `'n_estimators'` and `'class_weight'`, and two list values `estimators` and `weights` created in previous step.\n",
    "- Create `RandomizedSearchCV` object **rgse**.\n",
    " - Set `estimator` to the random forest classifier estimator.\n",
    " - Set `param_distributions` to the parameter dictionary `params`.\n",
    " - Set `cv` to the stratified k-fold iterator.\n",
    " - Set `n_iter` to 5.\n",
    " - Set `random_state` to 23.\n",
    "- Fit the `RandomizedSearchCV` object created in previous step using **data** and __label__.\n",
    "- Retrieve the best estimator from the `RandomizedSearchCV` object's `best_estimator_` attribute and assign it to variable **best_estimator_rgs**.\n",
    "- Retrieve the best cross validation score from the `RandomizedSearchCV` object's `best_score_` attribute and assign it to variable **best_score_rgs**.\n",
    "\n",
    "After this problem, there will be six new variable defined: **estimators, weights, params, rgse, best_estimator_rgs** and __best_score_rgs__.\n",
    "\n",
    "**Note**: If you get warning messages after running your code, just ignore them.\n",
    "\n",
    "-----"
   ]
  },
  {
   "cell_type": "code",
   "execution_count": null,
   "metadata": {
    "deletable": false,
    "nbgrader": {
     "cell_type": "code",
     "checksum": "0c187466edfadd97196b6923d8d84c12",
     "grade": false,
     "grade_id": "p5-answer",
     "locked": false,
     "schema_version": 3,
     "solution": true
    }
   },
   "outputs": [],
   "source": [
    "from sklearn.ensemble import RandomForestClassifier\n",
    "from sklearn.model_selection import StratifiedKFold, RandomizedSearchCV\n",
    "\n",
    "# YOUR CODE HERE\n"
   ]
  },
  {
   "cell_type": "code",
   "execution_count": null,
   "metadata": {
    "deletable": false,
    "editable": false,
    "nbgrader": {
     "cell_type": "code",
     "checksum": "9e78c2d26f3705eb2590d37f1f157c60",
     "grade": true,
     "grade_id": "p5-test",
     "locked": true,
     "points": 1,
     "schema_version": 3,
     "solution": false
    }
   },
   "outputs": [],
   "source": [
    "assert_equal(min(rgse.get_params()['param_distributions']['n_estimators']), 20, msg=\"n_estimator range is not correct.\")\n",
    "assert_equal(max(rgse.get_params()['param_distributions']['n_estimators']), 99, msg=\"n_estimator range is not correct.\")\n",
    "assert_is_instance(rgse.get_params()['estimator'], RandomForestClassifier, msg=\"estimator is not RandomForestClassifier\")\n",
    "assert_true('balanced' in rgse.get_params()['param_distributions']['class_weight'], msg=\"class_weight option is not correct.\")\n",
    "print(f'Best n_estimators={best_estimator_rgs.get_params()[\"n_estimators\"]}')\n",
    "print(f'Best class_weight={best_estimator_rgs.get_params()[\"class_weight\"]}')\n",
    "print(f'Best CV Score = {best_score_rgs:5.3f}')"
   ]
  }
 ],
 "metadata": {
  "coursera": {
   "course_slug": "data-analytics-accountancy-2",
   "graded_item_id": "GrQNK",
   "launcher_item_id": "m1_assignment"
  },
  "kernelspec": {
   "display_name": "Python 3",
   "language": "python",
   "name": "python3"
  },
  "language_info": {
   "codemirror_mode": {
    "name": "ipython",
    "version": 3
   },
   "file_extension": ".py",
   "mimetype": "text/x-python",
   "name": "python",
   "nbconvert_exporter": "python",
   "pygments_lexer": "ipython3",
   "version": "3.7.3"
  }
 },
 "nbformat": 4,
 "nbformat_minor": 2
}
