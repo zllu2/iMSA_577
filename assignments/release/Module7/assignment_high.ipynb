{
 "cells": [
  {
   "cell_type": "markdown",
   "metadata": {
    "deletable": false,
    "editable": false,
    "nbgrader": {
     "checksum": "da6d64585e807b7bc7d4275e3efdc45d",
     "grade": false,
     "grade_id": "cell-9fe3edd84ede6fcf",
     "locked": true,
     "schema_version": 1,
     "solution": false
    }
   },
   "source": [
    "# Module 7 Assignment\n",
    "\n",
    "A few things you should keep in mind when working on assignments:\n",
    "\n",
    "1. Run the first code cell to import modules needed by this assignment before proceeding to problems.\n",
    "2. Make sure you fill in any place that says `# YOUR CODE HERE`. Do not write your answer anywhere else other than where it says `# YOUR CODE HERE`. Anything you write elsewhere will be removed or overwritten by the autograder.\n",
    "3. Each problem has an autograder cell below the answer cell. Run the autograder cell to check your answer. If there's anything wrong in your answer, the autograder cell will display error messages.\n",
    "4. Before you submit your assignment, make sure everything runs as expected. Go to the menubar, select Kernel, and Restart & Run all. If the notebook runs through the last code cell without error message, you've answered all problems correctly.\n",
    "5. Make sure that you save your work (in the menubar, select File → Save and CheckPoint).\n",
    "\n",
    "-----"
   ]
  },
  {
   "cell_type": "markdown",
   "metadata": {
    "deletable": false,
    "editable": false,
    "nbgrader": {
     "checksum": "47e45c5a2e283a97e5474d0589595ce8",
     "grade": false,
     "grade_id": "cell-31752648086a10b5",
     "locked": true,
     "schema_version": 1,
     "solution": false
    }
   },
   "source": [
    "# Run Me First!"
   ]
  },
  {
   "cell_type": "code",
   "execution_count": null,
   "metadata": {
    "deletable": false,
    "editable": false,
    "nbgrader": {
     "checksum": "76c484feaa9128a5b35c7165fc3ca67a",
     "grade": false,
     "grade_id": "cell-88dd2a72c7ccd97d",
     "locked": true,
     "schema_version": 1,
     "solution": false
    }
   },
   "outputs": [],
   "source": [
    "import pandas as pd\n",
    "import numpy as np\n",
    "import seaborn as sns\n",
    "\n",
    "from nose.tools import assert_equal, assert_almost_equal, assert_true, assert_is_instance\n",
    "\n",
    "# We do this to ignore warnings\n",
    "import warnings\n",
    "warnings.filterwarnings(\"ignore\")"
   ]
  },
  {
   "cell_type": "markdown",
   "metadata": {
    "deletable": false,
    "editable": false,
    "nbgrader": {
     "checksum": "e059edf4486cf182ebcb65a0d588c815",
     "grade": false,
     "grade_id": "cell-c36036bd06797824",
     "locked": true,
     "schema_version": 1,
     "solution": false
    }
   },
   "source": [
    "---\n",
    "# Prepare Breast Cancer Data\n",
    "\n",
    "In this assignment we will use the breast cancer dataset to perform cluster finding. Before we attempt to build models, we first prepare the data.\n",
    "\n",
    "Please run the next two code cells before proceeding to Problem 1.\n",
    "\n"
   ]
  },
  {
   "cell_type": "code",
   "execution_count": null,
   "metadata": {
    "deletable": false,
    "editable": false,
    "nbgrader": {
     "checksum": "0a0a9ee9bd36d2eeba15c01f4de32a95",
     "grade": false,
     "grade_id": "cell-b7a411e93e83fc6a",
     "locked": true,
     "schema_version": 1,
     "solution": false
    }
   },
   "outputs": [],
   "source": [
    "from sklearn.preprocessing import LabelEncoder\n",
    "#Load breast cancer dataset\n",
    "df = pd.read_csv('data/breast-cancer-wisconsin.csv')\n",
    "data = df[['clump thickness', 'uniformity cell size', 'uniformity cell shape', 'marginal adhesion', 'epithelial cell size', 'bare nuclei', 'bland chromatin', 'normal nucleoli', 'mitoses']]\n",
    "label = LabelEncoder().fit_transform(df['class'])\n",
    "\n",
    "data.sample()"
   ]
  },
  {
   "cell_type": "markdown",
   "metadata": {},
   "source": [
    "---\n",
    "# Problem 1: Standardize Features\n",
    "\n",
    "For this problem you will use the DataFrame **data** created above.\n",
    "\n",
    "To solve this problem do the following:\n",
    "- Use `StandardScaler` to standardize `data` and assign normalized data to variable **data_ss**\n",
    "\n",
    "After this problem, there's a new variable **data_ss** defined.\n",
    "\n",
    "---"
   ]
  },
  {
   "cell_type": "code",
   "execution_count": null,
   "metadata": {
    "deletable": false,
    "nbgrader": {
     "checksum": "33b56b213138b9fd2ee9cd0d0f21f68c",
     "grade": false,
     "grade_id": "p1-answer",
     "locked": false,
     "schema_version": 1,
     "solution": true
    }
   },
   "outputs": [],
   "source": [
    "from sklearn.preprocessing import StandardScaler\n",
    "# YOUR CODE HERE\n"
   ]
  },
  {
   "cell_type": "code",
   "execution_count": null,
   "metadata": {
    "deletable": false,
    "editable": false,
    "nbgrader": {
     "checksum": "e26083da566d795dd1911aec13d9a40c",
     "grade": true,
     "grade_id": "p1-test",
     "locked": true,
     "points": 1,
     "schema_version": 1,
     "solution": false
    }
   },
   "outputs": [],
   "source": [
    "assert_almost_equal(data_ss[0,0], 0.19790469484926235, msg='data_ss is not correct')\n",
    "assert_almost_equal(data_ss[0,-1], -0.3483997074310662, msg='data_ss is not correct')\n",
    "print('Sample Standardized data:')\n",
    "print(data_ss[:2])"
   ]
  },
  {
   "cell_type": "markdown",
   "metadata": {
    "deletable": false,
    "editable": false,
    "nbgrader": {
     "checksum": "1ed4249eae151600b3ac9f6dc84931b7",
     "grade": false,
     "grade_id": "cell-6cc2ae0e085cc156",
     "locked": true,
     "schema_version": 1,
     "solution": false
    }
   },
   "source": [
    "---\n",
    "# Problem 2: Fit KMeans Model and Calculate Evaluation Metrics\n",
    "\n",
    "Create and fit a KMeans model with breast cancer dataset. Calculate Adjusted Rand Index and Silhouette score of the model.\n",
    "\n",
    "For this problem, use `data_ss` and `label` created above.\n",
    "\n",
    "To solve this problem do the following:\n",
    " - Create a `KMeans` model **k_means**. Set `n_clusters` to 2, `n_init` to 10, `random_state` to 23\n",
    " - Fit the KMeans model on `data_ss`\n",
    " - Apply k_means `predict` function on data_ss to get predicted clusters, assign it to variable **pred_clusters**.\n",
    " - use `adjusted_rand_score` in `metrics` module with label and pred_clusters to calculate Adjusted Rand Index and set the score to variable **ari_score**\n",
    " - Use `silhouette_score` in `metrics` module with data_ss and pred_clusters to calculate Silhouette score. Assign the score to variable **s_score**\n",
    "\n",
    "After this problem, there will be a fitted KMeans model **k_means**, as well as __ari_score__ and **s_score** defined.\n",
    "\n",
    "---"
   ]
  },
  {
   "cell_type": "code",
   "execution_count": null,
   "metadata": {
    "deletable": false,
    "nbgrader": {
     "checksum": "e8b5eba0b8c9b5676d9b86ac553c8f20",
     "grade": false,
     "grade_id": "p2-answer",
     "locked": false,
     "schema_version": 1,
     "solution": true
    }
   },
   "outputs": [],
   "source": [
    "from sklearn.cluster import KMeans\n",
    "from sklearn import metrics\n",
    "\n",
    "# YOUR CODE HERE\n"
   ]
  },
  {
   "cell_type": "code",
   "execution_count": null,
   "metadata": {
    "deletable": false,
    "editable": false,
    "nbgrader": {
     "checksum": "afa38ed432aee67e9dfe9b1ce8675c18",
     "grade": true,
     "grade_id": "p2-test",
     "locked": true,
     "points": 1,
     "schema_version": 1,
     "solution": false
    }
   },
   "outputs": [],
   "source": [
    "assert_equal(type(k_means), type(KMeans()), msg=\"k_means is a KMeans model\")\n",
    "assert_equal(k_means.get_params()['n_clusters'], 2, msg=\"k_means is not created with n_clusters = 2\")\n",
    "assert_equal(k_means.get_params()['n_init'], 10, msg=\"k_means is not created with n_init = 10\")\n",
    "assert_equal(k_means.get_params()['random_state'], 23, msg=\"k_means is not created with random_state = 23\")\n",
    "assert_almost_equal(k_means.inertia_, 2728.1495129753007, msg=\"k_means is not fit properly\")\n",
    "assert_almost_equal(ari_score, 0.8355975533950785, msg='Adjusted Rand Index is not correct')\n",
    "assert_almost_equal(s_score, 0.5732450609290859, msg='Silhouette score is not correct')\n",
    "print(f\"Adjusted Rand Index of Kmeans: {ari_score:5.3f}\")\n",
    "print(f\"Silhouette Score of Kmeans: {s_score:5.3f}\")"
   ]
  },
  {
   "cell_type": "markdown",
   "metadata": {
    "deletable": false,
    "editable": false,
    "nbgrader": {
     "checksum": "e8fd154199d86131294dbf4a4f5035f5",
     "grade": false,
     "grade_id": "cell-34d75d264e64349c",
     "locked": true,
     "schema_version": 1,
     "solution": false
    }
   },
   "source": [
    "---\n",
    "\n",
    "# Problem 3: Prepare Data for k-distance Graph\n",
    "\n",
    "Prepare data to plot k-distance graph to determine proper `eps` value for a DBSCAN model.\n",
    "\n",
    "For this problem you will use **data_ss** created in problem 1.\n",
    "\n",
    "To solve this problem do the following:\n",
    "- Create `NearestNeighbors` model **nnb**. Set `n_neighbors` to 2.\n",
    "- Fit nnb with data_ss.\n",
    "- Use nnb function `kneighbors` with `data_ss` to calculate distnace to the nearest point of each data point. Assign return values to variable **distances** and __indices__.\n",
    "\n",
    "After this problem, there's a trained model **nnb** defined, as well as numpy array of distance to nearest points, **distances**. We will use distances to plot the k-distance graph in the autograder cell.\n",
    "\n",
    "-----"
   ]
  },
  {
   "cell_type": "code",
   "execution_count": null,
   "metadata": {
    "deletable": false,
    "nbgrader": {
     "checksum": "0b71fbbf9986497747f2a26fc6b472b3",
     "grade": false,
     "grade_id": "p3-answer",
     "locked": false,
     "schema_version": 1,
     "solution": true
    }
   },
   "outputs": [],
   "source": [
    "from sklearn.neighbors import NearestNeighbors\n",
    "from matplotlib import pyplot as plt\n",
    "\n",
    "# YOUR CODE HERE\n"
   ]
  },
  {
   "cell_type": "code",
   "execution_count": null,
   "metadata": {
    "deletable": false,
    "editable": false,
    "nbgrader": {
     "checksum": "2ee79ac895d0edd2ccaf26b57cad7069",
     "grade": true,
     "grade_id": "p3-test",
     "locked": true,
     "points": 1,
     "schema_version": 1,
     "solution": false
    }
   },
   "outputs": [],
   "source": [
    "assert_equal(type(nnb), type(NearestNeighbors()), msg=\"nnb is a NearestNeighbors model\")\n",
    "assert_equal(nnb.get_params()['n_neighbors'], 2, msg=\"nnb is not created with n_neighbors = 2\")\n",
    "assert_almost_equal(distances[1, 1], 1.00846778, msg=\"distances are correct\")\n",
    "assert_almost_equal(distances[2, 1], 0.27463559, msg=\"distances are correct\")\n",
    "\n",
    "#plot k-distance graph\n",
    "import matplotlib.pyplot as plt\n",
    "#sort by distance from low to high and plot\n",
    "fig, ax = plt.subplots(figsize=(8, 6))\n",
    "distances = distances[:,1]\n",
    "distances = np.sort(distances)\n",
    "plt.plot(distances)\n",
    "plt.title(\"K-Distance\")\n",
    "plt.ylabel(\"Distance\")\n",
    "sns.despine()"
   ]
  },
  {
   "cell_type": "markdown",
   "metadata": {
    "deletable": false,
    "editable": false,
    "nbgrader": {
     "checksum": "cbeb5669d88a6096ce8fdedde30730cf",
     "grade": false,
     "grade_id": "cell-5c71f0e397348902",
     "locked": true,
     "schema_version": 1,
     "solution": false
    }
   },
   "source": [
    "---\n",
    "\n",
    "# Problem 4: Create and Fit DBSCAN model\n",
    "\n",
    "Create and fit a DBSCAN model with breast cancer dataset.\n",
    "\n",
    "For this problem, you will use data_ss created in problem 1.\n",
    "\n",
    "To solve this problem do the following:\n",
    "\n",
    " - Create a `DBSCAN` model **dbscan**. Set `eps` to 2.0, `min_samples` to 20\n",
    " - Fit the `DBSCAN` model on `data_ss`\n",
    "\n",
    "After this problem, there will be a fitted DBSCAN model **dbscan** defined.\n",
    "\n",
    "\n",
    "-----"
   ]
  },
  {
   "cell_type": "code",
   "execution_count": null,
   "metadata": {
    "deletable": false,
    "nbgrader": {
     "checksum": "406879a604fb8489a32458da3597d61f",
     "grade": false,
     "grade_id": "p4-answer",
     "locked": false,
     "schema_version": 1,
     "solution": true
    }
   },
   "outputs": [],
   "source": [
    "from sklearn.cluster import DBSCAN\n",
    "\n",
    "# YOUR CODE HERE\n"
   ]
  },
  {
   "cell_type": "code",
   "execution_count": null,
   "metadata": {
    "deletable": false,
    "editable": false,
    "nbgrader": {
     "checksum": "533f4dd9e28c13ed807347bf493707f3",
     "grade": true,
     "grade_id": "p4-test",
     "locked": true,
     "points": 1,
     "schema_version": 1,
     "solution": false
    }
   },
   "outputs": [],
   "source": [
    "assert_equal(type(dbscan), type(DBSCAN()), msg=\"dbscan is not a DBSCAN model\")\n",
    "assert_equal(dbscan.get_params()['eps'], 2.0, msg=\"dbscan is not created with eps = 2.0\")\n",
    "assert_equal(dbscan.get_params()['min_samples'], 20, msg=\"dbscan is not created with min_samples = 20\")\n",
    "assert_equal(dbscan.components_.shape[0], 444, msg='dbscan is not fit properly')\n",
    "print(f'Cluster labels: {np.unique(dbscan.labels_)}')"
   ]
  },
  {
   "cell_type": "markdown",
   "metadata": {
    "deletable": false,
    "editable": false,
    "nbgrader": {
     "checksum": "d92dd489d89d31af47a5a74beafe2588",
     "grade": false,
     "grade_id": "cell-0b8c6ec77494b971",
     "locked": true,
     "schema_version": 1,
     "solution": false
    }
   },
   "source": [
    "# Problem 5: Calculate Clustering Metrics for DBSCAN Model\n",
    "\n",
    "Compute two clustering metrics, Adjusted Rand Index and Silhouette, of the DBSCAN model created in problem 4.\n",
    "\n",
    "For this problem, you will use `data_ss`, `label` and `dbscan` created above.\n",
    "\n",
    "To solve this problem do the following:\n",
    "\n",
    "- Get predicted clusters from dbscan's `labels_` attribute, assign to variable **pred_clusters**\n",
    "- use `adjusted_rand_score` in `metrics` module with label and pred_clusters to calculate Adjusted Rand Index and set the score to variable **ari_score_db**\n",
    "- Use `silhouette_score` in `metrics` module with data_ss and pred_clusters to calculate Silhouette score. Assign the score to variable **s_score_db**\n",
    "\n",
    "After this problem, there will be two new variables, **ari_score_db** and __s_score_db__ defined.\n",
    "\n",
    "-----"
   ]
  },
  {
   "cell_type": "code",
   "execution_count": null,
   "metadata": {
    "deletable": false,
    "nbgrader": {
     "checksum": "9ee338206505829db38ea90462fd398a",
     "grade": false,
     "grade_id": "p5-answer",
     "locked": false,
     "schema_version": 1,
     "solution": true
    }
   },
   "outputs": [],
   "source": [
    "from sklearn import metrics\n",
    "\n",
    "# YOUR CODE HERE\n"
   ]
  },
  {
   "cell_type": "code",
   "execution_count": null,
   "metadata": {
    "deletable": false,
    "editable": false,
    "nbgrader": {
     "checksum": "8ef0f49265f349a7dde95085d5fbe167",
     "grade": true,
     "grade_id": "p5-test",
     "locked": true,
     "points": 1,
     "schema_version": 1,
     "solution": false
    }
   },
   "outputs": [],
   "source": [
    "assert_almost_equal(ari_score_db, 0.7322398150440137, msg='Adjusted Rand Index is not correct')\n",
    "assert_almost_equal(s_score_db, 0.48507225390269243, msg='Silhouette score is not correct')\n",
    "print(f\"Adjusted Rand Index: {ari_score_db:5.3f}\")\n",
    "print(f\"Silhouette Score: {s_score_db:5.3f}\")"
   ]
  }
 ],
 "metadata": {
  "coursera": {
   "course_slug": "data-analytics-accountancy-2",
   "graded_item_id": "GrQNK",
   "launcher_item_id": "m1_assignment"
  },
  "kernelspec": {
   "display_name": "Python 3",
   "language": "python",
   "name": "python3"
  },
  "language_info": {
   "codemirror_mode": {
    "name": "ipython",
    "version": 3
   },
   "file_extension": ".py",
   "mimetype": "text/x-python",
   "name": "python",
   "nbconvert_exporter": "python",
   "pygments_lexer": "ipython3",
   "version": "3.7.1"
  }
 },
 "nbformat": 4,
 "nbformat_minor": 2
}
