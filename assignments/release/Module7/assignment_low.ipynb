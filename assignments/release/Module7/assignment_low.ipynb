{
 "cells": [
  {
   "cell_type": "markdown",
   "metadata": {
    "deletable": false,
    "editable": false,
    "nbgrader": {
     "cell_type": "markdown",
     "checksum": "5c9e42a884bb9f93107093675a0a28c7",
     "grade": false,
     "grade_id": "cell-9fe3edd84ede6fcf",
     "locked": true,
     "schema_version": 3,
     "solution": false
    }
   },
   "source": [
    "# Module 7 Assignment\n",
    "\n",
    "A few things you should keep in mind when working on assignments:\n",
    "\n",
    "1. Run the first code cell to import modules needed by this assignment before proceeding to problems.\n",
    "2. Make sure you fill in any place that says `# YOUR CODE HERE`. Do not write your answer anywhere else other than where it says `# YOUR CODE HERE`. Anything you write elsewhere will be removed or overwritten by the autograder.\n",
    "3. Each problem has an autograder cell below the answer cell. Run the autograder cell to check your answer. If there's anything wrong in your answer, the autograder cell will display error messages.\n",
    "4. Before you submit your assignment, make sure everything runs as expected. Go to the menubar, select Kernel, and Restart & Run all. If the notebook runs through the last code cell without an error message, you've answered all problems correctly.\n",
    "5. Make sure that you save your work (in the menubar, select File → Save and CheckPoint).\n",
    "\n",
    "-----"
   ]
  },
  {
   "cell_type": "markdown",
   "metadata": {
    "deletable": false,
    "editable": false,
    "nbgrader": {
     "cell_type": "markdown",
     "checksum": "47e45c5a2e283a97e5474d0589595ce8",
     "grade": false,
     "grade_id": "cell-31752648086a10b5",
     "locked": true,
     "schema_version": 3,
     "solution": false
    }
   },
   "source": [
    "# Run Me First!"
   ]
  },
  {
   "cell_type": "code",
   "execution_count": null,
   "metadata": {
    "deletable": false,
    "editable": false,
    "nbgrader": {
     "cell_type": "code",
     "checksum": "76c484feaa9128a5b35c7165fc3ca67a",
     "grade": false,
     "grade_id": "cell-88dd2a72c7ccd97d",
     "locked": true,
     "schema_version": 3,
     "solution": false
    }
   },
   "outputs": [],
   "source": [
    "import pandas as pd\n",
    "import numpy as np\n",
    "import seaborn as sns\n",
    "\n",
    "from nose.tools import assert_equal, assert_almost_equal, assert_true, assert_is_instance\n",
    "\n",
    "# We do this to ignore warnings\n",
    "import warnings\n",
    "warnings.filterwarnings(\"ignore\")"
   ]
  },
  {
   "cell_type": "markdown",
   "metadata": {
    "deletable": false,
    "editable": false,
    "nbgrader": {
     "cell_type": "markdown",
     "checksum": "501b03261e6060721186ea93e953304c",
     "grade": false,
     "grade_id": "cell-c36036bd06797824",
     "locked": true,
     "schema_version": 3,
     "solution": false
    }
   },
   "source": [
    "---\n",
    "# Prepare Breast Cancer Data\n",
    "\n",
    "In this assignment we will use the breast cancer dataset to perform cluster finding. Before we attempt to build models, we first prepare the data.\n",
    "\n",
    "Please run the next two Code cells before proceeding to Problem 1.\n",
    "\n"
   ]
  },
  {
   "cell_type": "code",
   "execution_count": null,
   "metadata": {
    "deletable": false,
    "editable": false,
    "nbgrader": {
     "cell_type": "code",
     "checksum": "0a0a9ee9bd36d2eeba15c01f4de32a95",
     "grade": false,
     "grade_id": "cell-b7a411e93e83fc6a",
     "locked": true,
     "schema_version": 3,
     "solution": false
    }
   },
   "outputs": [],
   "source": [
    "from sklearn.preprocessing import LabelEncoder\n",
    "#Load breast cancer dataset\n",
    "df = pd.read_csv('data/breast-cancer-wisconsin.csv')\n",
    "data = df[['clump thickness', 'uniformity cell size', 'uniformity cell shape', 'marginal adhesion', 'epithelial cell size', 'bare nuclei', 'bland chromatin', 'normal nucleoli', 'mitoses']]\n",
    "label = LabelEncoder().fit_transform(df['class'])\n",
    "\n",
    "data.sample()"
   ]
  },
  {
   "cell_type": "markdown",
   "metadata": {},
   "source": [
    "---\n",
    "# Problem 1: Standardize Features\n",
    "\n",
    "For this problem you will use the DataFrame **data** created above.\n",
    "\n",
    "To solve this problem do the following:\n",
    "- Use `StandardScaler` to standardize `data` and assign normalized data to variable **data_ss**.\n",
    "\n",
    "After this problem, there's a new variable **data_ss** defined.\n",
    "\n",
    "---"
   ]
  },
  {
   "cell_type": "code",
   "execution_count": null,
   "metadata": {
    "deletable": false,
    "nbgrader": {
     "cell_type": "code",
     "checksum": "33b56b213138b9fd2ee9cd0d0f21f68c",
     "grade": false,
     "grade_id": "p1-answer",
     "locked": false,
     "schema_version": 3,
     "solution": true
    }
   },
   "outputs": [],
   "source": [
    "from sklearn.preprocessing import StandardScaler\n",
    "# YOUR CODE HERE\n"
   ]
  },
  {
   "cell_type": "code",
   "execution_count": null,
   "metadata": {
    "deletable": false,
    "editable": false,
    "nbgrader": {
     "cell_type": "code",
     "checksum": "e26083da566d795dd1911aec13d9a40c",
     "grade": true,
     "grade_id": "p1-test",
     "locked": true,
     "points": 1,
     "schema_version": 3,
     "solution": false
    }
   },
   "outputs": [],
   "source": [
    "assert_almost_equal(data_ss[0,0], 0.19790469484926235, msg='data_ss is not correct')\n",
    "assert_almost_equal(data_ss[0,-1], -0.3483997074310662, msg='data_ss is not correct')\n",
    "print('Sample Standardized data:')\n",
    "print(data_ss[:2])"
   ]
  },
  {
   "cell_type": "markdown",
   "metadata": {
    "deletable": false,
    "editable": false,
    "nbgrader": {
     "cell_type": "markdown",
     "checksum": "fbfb3e5b58cf0d6808de7d6df123edf8",
     "grade": false,
     "grade_id": "cell-6cc2ae0e085cc156",
     "locked": true,
     "schema_version": 3,
     "solution": false
    }
   },
   "source": [
    "---\n",
    "# Problem 2: Prepare Data for Elbow Plot\n",
    "\n",
    "Prepare data to plot Elbow plot.\n",
    "\n",
    "For this problem you will use **data_ss** created in problem 1.\n",
    "\n",
    "To solve this problem do the following:\n",
    "- Create variable **n_clusters** and set it to a numpy array with number 1 to 10.(Hint: `np.arange(1,11)`).\n",
    "- Create variable **distances** to hold total distances for each number of clusters. The numpy array should have same length as n_clusters. Set initial value to 0.(Hint: `np.zeros(n_clusters.shape[0])`.\n",
    "- Iterate through n_clusters, for each number of clusters:\n",
    " - Create a `KMeans` model with `n_clusters` equals to number of clusters, set `n_init` to 10, `random_state` to 23.\n",
    " - Fit the KMeans model on `data_ss`.\n",
    " - Get total distance from the KMeans model's `inertia_` attribute and assign it to corresponding location in `distances` array.\n",
    "\n",
    "After this problem, there are two new variables, **n_clusters** and  __distances__ defined. We will use these two variables to plot the Elbow plot in the autograder cell.\n",
    "\n",
    "---"
   ]
  },
  {
   "cell_type": "code",
   "execution_count": null,
   "metadata": {
    "deletable": false,
    "nbgrader": {
     "cell_type": "code",
     "checksum": "a47686c25c960fdd9aa88295a2eb6e90",
     "grade": false,
     "grade_id": "p2-answer",
     "locked": false,
     "schema_version": 3,
     "solution": true
    }
   },
   "outputs": [],
   "source": [
    "from sklearn.cluster import KMeans\n",
    "\n",
    "# YOUR CODE HERE\n"
   ]
  },
  {
   "cell_type": "code",
   "execution_count": null,
   "metadata": {
    "deletable": false,
    "editable": false,
    "nbgrader": {
     "cell_type": "code",
     "checksum": "7eff3903a2fb091b6d791dc5d7116c37",
     "grade": true,
     "grade_id": "p2-test",
     "locked": true,
     "points": 1,
     "schema_version": 3,
     "solution": false
    }
   },
   "outputs": [],
   "source": [
    "assert_equal(list(n_clusters), [1, 2, 3, 4, 5, 6, 7, 8, 9, 10], msg='n_clusters is not correct.')\n",
    "assert_equal(distances.shape[0], 10, msg='distances is not an array with 10 values')\n",
    "assert_almost_equal(distances[0], 6147, msg='distances is not correct')\n",
    "assert_almost_equal(distances[-1], 1429.16651321, msg='distances is not correct')\n",
    "\n",
    "# Plot elbow method\n",
    "import matplotlib.pyplot as plt\n",
    "fig, ax = plt.subplots(figsize=(8, 6))\n",
    "\n",
    "# Draw points and connect them\n",
    "ax.scatter(n_clusters, distances, s=150, \n",
    "           c=sns.xkcd_rgb['pale red'], marker='X', alpha=0.5)\n",
    "ax.plot(n_clusters, distances, lw=3, linestyle='-', \n",
    "        color=sns.xkcd_rgb['denim blue'])\n",
    "\n",
    "# Decorate Plot\n",
    "ax.set(title='Elbow Plot', \n",
    "       xlabel='Number of Clusters', \n",
    "       ylabel='Total distance')\n",
    "sns.despine()"
   ]
  },
  {
   "cell_type": "markdown",
   "metadata": {
    "deletable": false,
    "editable": false,
    "nbgrader": {
     "cell_type": "markdown",
     "checksum": "f412e152249e7b35601793af29620841",
     "grade": false,
     "grade_id": "cell-34d75d264e64349c",
     "locked": true,
     "schema_version": 3,
     "solution": false
    }
   },
   "source": [
    "---\n",
    "\n",
    "# Problem 3: Fit KMeans Model\n",
    "\n",
    "For this problem, use data_ss created in problem 1.\n",
    "\n",
    "To solve this problem do the following:\n",
    " - Create a `KMeans` model **k_means**. Set `n_clusters` to 2, `n_init` to 10, `random_state` to 23.\n",
    " - Fit the KMeans model on `data_ss`.\n",
    "\n",
    "After this problem, there will be a fitted KMeans model **k_means** defined.\n",
    "\n",
    "-----"
   ]
  },
  {
   "cell_type": "code",
   "execution_count": null,
   "metadata": {
    "deletable": false,
    "nbgrader": {
     "cell_type": "code",
     "checksum": "b627eb7933c82998f6a10364e8c1687b",
     "grade": false,
     "grade_id": "p3-answer",
     "locked": false,
     "schema_version": 3,
     "solution": true
    }
   },
   "outputs": [],
   "source": [
    "from sklearn.cluster import KMeans\n",
    "\n",
    "# YOUR CODE HERE\n"
   ]
  },
  {
   "cell_type": "code",
   "execution_count": null,
   "metadata": {
    "deletable": false,
    "editable": false,
    "nbgrader": {
     "cell_type": "code",
     "checksum": "047d74901481c9c1ca664dec6f385d60",
     "grade": true,
     "grade_id": "p3-test",
     "locked": true,
     "points": 1,
     "schema_version": 3,
     "solution": false
    }
   },
   "outputs": [],
   "source": [
    "assert_equal(type(k_means), type(KMeans()), msg=\"k_means is a KMeans model\")\n",
    "assert_equal(k_means.get_params()['n_clusters'], 2, msg=\"k_means is not created with n_clusters = 2\")\n",
    "assert_equal(k_means.get_params()['n_init'], 10, msg=\"k_means is not created with n_init = 10\")\n",
    "assert_equal(k_means.get_params()['random_state'], 23, msg=\"k_means is not created with random_state = 23\")\n",
    "assert_almost_equal(k_means.inertia_, 2728.1495129753007, msg=\"k_means is not fit properly\")"
   ]
  },
  {
   "cell_type": "markdown",
   "metadata": {
    "deletable": false,
    "editable": false,
    "nbgrader": {
     "cell_type": "markdown",
     "checksum": "babf984cff9d894e301df0c6ada340c5",
     "grade": false,
     "grade_id": "cell-5c71f0e397348902",
     "locked": true,
     "schema_version": 3,
     "solution": false
    }
   },
   "source": [
    "---\n",
    "\n",
    "# Problem 4: Calculate Clustering Metrics\n",
    "\n",
    "Compute two clustering metrics, Adjusted Rand Index and Silhouette, of the KMeans model.\n",
    "\n",
    "For this problem you will use `data_ss`, `label` and `k_means` created above.\n",
    "\n",
    "To solve this problem do the following:\n",
    "\n",
    "- Apply k_means `predict` function on data_ss to get predicted clusters, assign it to variable **pred_clusters**.\n",
    "- Use `adjusted_rand_score` in `metrics` module with label and pred_clusters to calculate Adjusted Rand Index and set the score to variable **ari_score**.\n",
    "- Use `silhouette_score` in `metrics` module with data_ss and pred_clusters to calculate Silhouette score. Assign the score to variable **s_score**.\n",
    "\n",
    "After this problem, there will be two new variables, **ari_score** and __s_score__ defined.\n",
    "\n",
    "-----"
   ]
  },
  {
   "cell_type": "code",
   "execution_count": null,
   "metadata": {
    "deletable": false,
    "nbgrader": {
     "cell_type": "code",
     "checksum": "c9b7cf7de0d82e39928fd1d2c0d68da4",
     "grade": false,
     "grade_id": "p4-answer",
     "locked": false,
     "schema_version": 3,
     "solution": true
    }
   },
   "outputs": [],
   "source": [
    "from sklearn import metrics\n",
    "\n",
    "# YOUR CODE HERE\n"
   ]
  },
  {
   "cell_type": "code",
   "execution_count": null,
   "metadata": {
    "deletable": false,
    "editable": false,
    "nbgrader": {
     "cell_type": "code",
     "checksum": "8cb4ecd246f6f65b7372bb931304ca97",
     "grade": true,
     "grade_id": "p4-test",
     "locked": true,
     "points": 1,
     "schema_version": 3,
     "solution": false
    }
   },
   "outputs": [],
   "source": [
    "assert_almost_equal(ari_score, 0.8355975533950785, msg='Adjusted Rand Index is not correct')\n",
    "assert_almost_equal(s_score, 0.5732450609290859, msg='Silhouette score is not correct')\n",
    "print(f\"Adjusted Rand Index: {ari_score:5.3f}\")\n",
    "print(f\"Silhouette Score: {s_score:5.3f}\")"
   ]
  }
 ],
 "metadata": {
  "coursera": {
   "course_slug": "machine-learning-accounting-python",
   "graded_item_id": "1P2Ca",
   "launcher_item_id": "IqhqT"
  },
  "kernelspec": {
   "display_name": "Python 3",
   "language": "python",
   "name": "python3"
  },
  "language_info": {
   "codemirror_mode": {
    "name": "ipython",
    "version": 3
   },
   "file_extension": ".py",
   "mimetype": "text/x-python",
   "name": "python",
   "nbconvert_exporter": "python",
   "pygments_lexer": "ipython3",
   "version": "3.7.3"
  }
 },
 "nbformat": 4,
 "nbformat_minor": 2
}
