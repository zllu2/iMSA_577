{
 "cells": [
  {
   "cell_type": "markdown",
   "metadata": {
    "deletable": false,
    "editable": false,
    "nbgrader": {
     "cell_type": "markdown",
     "checksum": "eab093608ecb486bbc59d88cbe8f503c",
     "grade": false,
     "grade_id": "cell-e4db2f281f201753",
     "locked": true,
     "schema_version": 3,
     "solution": false,
     "task": false
    }
   },
   "source": [
    "# Module 2 Assignment\n",
    "\n",
    "A few things you should keep in mind when working on assignments:\n",
    "\n",
    "1. Run the first code cell to import modules needed by this assignment before proceeding to problems.\n",
    "2. Make sure you fill in any place that says `# YOUR CODE HERE`. Do not write your answer anywhere else other than where it says `# YOUR CODE HERE`. Anything you write elsewhere will be removed or overwritten by the autograder.\n",
    "3. Each problem has an autograder cell below the answer cell. Run the autograder cell to check your answer. If there's anything wrong in your answer, the autograder cell will display error messages.\n",
    "4. Before you submit your assignment, make sure everything runs as expected. Go to the menubar, select Kernel, and Restart & Run all. If the notebook runs through the last code cell without an error message, you've answered all problems correctly.\n",
    "5. Make sure that you save your work (in the menubar, select File → Save and CheckPoint).\n",
    "\n",
    "-----"
   ]
  },
  {
   "cell_type": "markdown",
   "metadata": {
    "deletable": false,
    "editable": false,
    "nbgrader": {
     "cell_type": "markdown",
     "checksum": "6456e81cf50efdc05bb64d8670dd79fd",
     "grade": false,
     "grade_id": "cell-4438ffaba8d62760",
     "locked": true,
     "schema_version": 3,
     "solution": false,
     "task": false
    }
   },
   "source": [
    "# Run Me First!"
   ]
  },
  {
   "cell_type": "code",
   "execution_count": null,
   "metadata": {
    "deletable": false,
    "editable": false,
    "nbgrader": {
     "cell_type": "code",
     "checksum": "c6809ae9894036ed44257669c6c6a58e",
     "grade": false,
     "grade_id": "cell-a11202f6fba5d7e5",
     "locked": true,
     "schema_version": 3,
     "solution": false,
     "task": false
    }
   },
   "outputs": [],
   "source": [
    "import pandas as pd\n",
    "import numpy as np\n",
    "import seaborn as sns\n",
    "\n",
    "from nose.tools import assert_equal, assert_almost_equal, assert_true, assert_is_instance"
   ]
  },
  {
   "cell_type": "markdown",
   "metadata": {
    "deletable": false,
    "editable": false,
    "nbgrader": {
     "cell_type": "markdown",
     "checksum": "25ee5383758e35bbfa8ac23a7c7b887e",
     "grade": false,
     "grade_id": "cell-fb2311b0a456e212",
     "locked": true,
     "schema_version": 3,
     "solution": false,
     "task": false
    }
   },
   "source": [
    "-----\n",
    "\n",
    "# Predicting MPG\n",
    "\n",
    "In this assignment, we will use mpg dataset to make a regression model. Before we attempt to build a mode, we first must load the data from the Seaborn module.\n",
    "\n",
    "Please run the next Code cell before proceeding to Problem 1.\n",
    "\n",
    "-----"
   ]
  },
  {
   "cell_type": "code",
   "execution_count": null,
   "metadata": {
    "deletable": false,
    "editable": false,
    "nbgrader": {
     "cell_type": "code",
     "checksum": "274f333b67c4cc35679d20ae1ec8cf16",
     "grade": false,
     "grade_id": "cell-f3b519a568c38d99",
     "locked": true,
     "schema_version": 3,
     "solution": false,
     "task": false
    }
   },
   "outputs": [],
   "source": [
    "#load MPG dataset\n",
    "mpg = pd.read_csv('data/mpg.csv')\n",
    "mpg.head()"
   ]
  },
  {
   "cell_type": "markdown",
   "metadata": {
    "deletable": false,
    "editable": false,
    "nbgrader": {
     "cell_type": "markdown",
     "checksum": "1b471df46a6347086e3b4df7918e8d5b",
     "grade": false,
     "grade_id": "cell-3461c076d6261710",
     "locked": true,
     "schema_version": 3,
     "solution": false,
     "task": false
    }
   },
   "source": [
    "---\n",
    "\n",
    "# Problem 1: Create Dependent and Independent Variables\n",
    "\n",
    "For this problem you will use the DataFrame **mpg** defined above.\n",
    "\n",
    "To complete the task, do the following:\n",
    "1. Use `dmatrices` in `patsy` module to create independent variable **x** and dependent variable __y__ from DataFrame mpg. \n",
    "2. In patsy formula, use 'mpg' as dependent variable.\n",
    "3. Use displacement, acceleration and model_year as independent variables.\n",
    "4. Treat model_year as a categorical feature(enclose in C()). \n",
    "5. Set `dmatrices` argument `return_type` to 'dataframe'.\n",
    "\n",
    "After this problem, there are two new variables defined, **x** and __y__.\n",
    "\n",
    "-----"
   ]
  },
  {
   "cell_type": "code",
   "execution_count": null,
   "metadata": {
    "deletable": false,
    "nbgrader": {
     "cell_type": "code",
     "checksum": "079bb97d90c40871e13d1b4ed6f604ba",
     "grade": false,
     "grade_id": "cell-01d28a15328f3a82",
     "locked": false,
     "schema_version": 3,
     "solution": true,
     "task": false
    }
   },
   "outputs": [],
   "source": [
    "import patsy as pts\n",
    "\n",
    "# YOUR CODE HERE\n"
   ]
  },
  {
   "cell_type": "code",
   "execution_count": null,
   "metadata": {
    "deletable": false,
    "editable": false,
    "nbgrader": {
     "cell_type": "code",
     "checksum": "f9076160c2789c1505771c1017a1482b",
     "grade": true,
     "grade_id": "cell-53317922d312d780",
     "locked": true,
     "points": 1,
     "schema_version": 3,
     "solution": false,
     "task": false
    }
   },
   "outputs": [],
   "source": [
    "assert_equal(type(x), pd.core.frame.DataFrame, msg=\"x is not a DataFrame\")\n",
    "assert_equal(x.shape, (392, 15), \n",
    "             msg=\"The independent features are not correct. Make sure to treat model_year as categorical feature\")\n",
    "# 2 random rows of the independent variables\n",
    "x.sample(2)\n"
   ]
  },
  {
   "cell_type": "markdown",
   "metadata": {
    "deletable": false,
    "editable": false,
    "nbgrader": {
     "cell_type": "markdown",
     "checksum": "98a9e4b521e7a04ab90fd7b913d0462e",
     "grade": false,
     "grade_id": "cell-2c7057eb08fd16e2",
     "locked": true,
     "schema_version": 3,
     "solution": false,
     "task": false
    }
   },
   "source": [
    "-----\n",
    "\n",
    "# Problem 2: Create the Training and Testing Datasets\n",
    "\n",
    "This problem works on the variables **x** and __y__ created in problem 1.\n",
    "\n",
    "Split the independent and dependent variables to training and testing set.\n",
    "\n",
    "To complete this process, do the following:\n",
    "\n",
    "- Name the training and testing independent variable as x_train and x_test.\n",
    "- Name the training and testing dependent variable as y_train and y_test.\n",
    "- The `test_size` argument in `train_test_split` should be set to 0.3.\n",
    "- The `random_state` argument in `train_test_split` should be set to 23.\n",
    "\n",
    "After this problem, there are 4 new variables defined, **x_train, x_test, y_train** and __y_test__.\n",
    "\n",
    "-----"
   ]
  },
  {
   "cell_type": "code",
   "execution_count": null,
   "metadata": {
    "deletable": false,
    "nbgrader": {
     "cell_type": "code",
     "checksum": "6672375d82a76c3d200b4394b2a07814",
     "grade": false,
     "grade_id": "cell-e44af8d0183d1a08",
     "locked": false,
     "schema_version": 3,
     "solution": true,
     "task": false
    }
   },
   "outputs": [],
   "source": [
    "from sklearn.model_selection import train_test_split\n",
    "\n",
    "# YOUR CODE HERE\n"
   ]
  },
  {
   "cell_type": "code",
   "execution_count": null,
   "metadata": {
    "deletable": false,
    "editable": false,
    "nbgrader": {
     "cell_type": "code",
     "checksum": "d6e5945dacbbd9605736f6944d4c6852",
     "grade": true,
     "grade_id": "cell-fb84f71a6160adad",
     "locked": true,
     "points": 1,
     "schema_version": 3,
     "solution": false,
     "task": false
    }
   },
   "outputs": [],
   "source": [
    "assert_equal(x_test.shape, (118, 15), \n",
    "             msg=\"The testing set size is not correct\")\n",
    "assert_equal(y_test.values[0][0], 24.0,\n",
    "             msg=\"The testing dependent variable is not correct. Make sure you set random_state to 23\")\n",
    "#2 random rows of the training independent variables\n",
    "x_train.sample(2)"
   ]
  },
  {
   "cell_type": "markdown",
   "metadata": {
    "deletable": false,
    "editable": false,
    "nbgrader": {
     "cell_type": "markdown",
     "checksum": "1f7d8dd1429b56fde2d78ab336edbbd1",
     "grade": false,
     "grade_id": "cell-3fd721daadd3b15f",
     "locked": true,
     "schema_version": 3,
     "solution": false,
     "task": false
    }
   },
   "source": [
    "---\n",
    "\n",
    "# Problem 3: Performing Linear Regression\n",
    "\n",
    "Your task for this problem is to build and use the scikit-learn library's `LinearRegression` estimator to  make predictions on the mpg dataset. To complete this function, you must explicitly:\n",
    "- Create a `LinearRegression` estimator **lin_model** by using scikit-learn. Accept default values for all arguments.\n",
    "- Fit the `LinearRegression` estimator using x_train and y_train created in problem 2.\n",
    "\n",
    "After this problem, there will be a trained linear regression model **lin_model**.\n",
    "\n",
    "-----"
   ]
  },
  {
   "cell_type": "code",
   "execution_count": null,
   "metadata": {
    "deletable": false,
    "nbgrader": {
     "cell_type": "code",
     "checksum": "e70455ff36e27548fb102b1630a918ea",
     "grade": false,
     "grade_id": "cell-f9228943e7756ab4",
     "locked": false,
     "schema_version": 3,
     "solution": true,
     "task": false
    }
   },
   "outputs": [],
   "source": [
    "from sklearn.linear_model import LinearRegression\n",
    "\n",
    "# YOUR CODE HERE\n"
   ]
  },
  {
   "cell_type": "code",
   "execution_count": null,
   "metadata": {
    "deletable": false,
    "editable": false,
    "nbgrader": {
     "cell_type": "code",
     "checksum": "dd081ff7b11dea81e47ee6ef9b5c37a5",
     "grade": true,
     "grade_id": "cell-cff1f5f7eb7d716d",
     "locked": true,
     "points": 1,
     "schema_version": 3,
     "solution": false,
     "task": false
    }
   },
   "outputs": [],
   "source": [
    "assert_equal(type(lin_model), type(LinearRegression()), msg=\"lin_model is not defined as a LinearRegression model\")\n",
    "assert_equal(lin_model.get_params()['fit_intercept'], True,\n",
    "            msg=\"lin_model is not created with all default argument values\")"
   ]
  },
  {
   "cell_type": "markdown",
   "metadata": {
    "deletable": false,
    "editable": false,
    "nbgrader": {
     "cell_type": "markdown",
     "checksum": "8baffb63b0f9c2bbc8973d7275906495",
     "grade": false,
     "grade_id": "cell-08496a942b390917",
     "locked": true,
     "schema_version": 3,
     "solution": false,
     "task": false
    }
   },
   "source": [
    "---\n",
    "\n",
    "# Problem 4: Checking R2 Score on Testing Dataset\n",
    "\n",
    "For this problem, you will compute the R2 score of the lin_model.\n",
    "To complete this function, you must explicitly:\n",
    "- Compute the R2 score using `score` function of lin_model.\n",
    "- Use x_test and y_test to calculate the score.\n",
    "- Assign score to variable **r2_score**.\n",
    "\n",
    "After this problem, there will be a new variable r2_score defined.\n",
    "\n",
    "-----"
   ]
  },
  {
   "cell_type": "code",
   "execution_count": null,
   "metadata": {
    "deletable": false,
    "nbgrader": {
     "cell_type": "code",
     "checksum": "01efe76ecd041dd9cc85cd0a1a197e4b",
     "grade": false,
     "grade_id": "cell-4e4a91faffbd8458",
     "locked": false,
     "schema_version": 3,
     "solution": true,
     "task": false
    }
   },
   "outputs": [],
   "source": [
    "# YOUR CODE HERE\n"
   ]
  },
  {
   "cell_type": "code",
   "execution_count": null,
   "metadata": {
    "deletable": false,
    "editable": false,
    "nbgrader": {
     "cell_type": "code",
     "checksum": "94397577804141c8785a9b964bd84463",
     "grade": true,
     "grade_id": "cell-5efddbebab8412bd",
     "locked": true,
     "points": 1,
     "schema_version": 3,
     "solution": false,
     "task": false
    }
   },
   "outputs": [],
   "source": [
    "assert_almost_equal(r2_score, 0.6713752019536277, msg=\"R2 score is not correct\")\n"
   ]
  }
 ],
 "metadata": {
  "coursera": {
   "course_slug": "machine-learning-accounting-python",
   "graded_item_id": "OqCj3",
   "launcher_item_id": "7YfGm"
  },
  "kernelspec": {
   "display_name": "Python 3",
   "language": "python",
   "name": "python3"
  },
  "language_info": {
   "codemirror_mode": {
    "name": "ipython",
    "version": 3
   },
   "file_extension": ".py",
   "mimetype": "text/x-python",
   "name": "python",
   "nbconvert_exporter": "python",
   "pygments_lexer": "ipython3",
   "version": "3.7.3"
  }
 },
 "nbformat": 4,
 "nbformat_minor": 2
}
