{
 "cells": [
  {
   "cell_type": "markdown",
   "metadata": {
    "deletable": false,
    "editable": false,
    "nbgrader": {
     "cell_type": "markdown",
     "checksum": "cd1212b154eef5cd877a46a094e2a77c",
     "grade": false,
     "grade_id": "cell-9fe3edd84ede6fcf",
     "locked": true,
     "schema_version": 3,
     "solution": false
    }
   },
   "source": [
    "# Module 2 Assignment\n",
    "\n",
    "A few things you should keep in mind when working on assignments:\n",
    "\n",
    "1. Run the first code cell to import modules needed by this assignment before proceeding to problems.\n",
    "2. Make sure you fill in any place that says `# YOUR CODE HERE`. Do not write your answer anywhere else other than where it says `# YOUR CODE HERE`. Anything you write elsewhere will be removed or overwritten by the autograder.\n",
    "3. Each problem has an autograder cell below the answer cell. Run the autograder cell to check your answer. If there's anything wrong in your answer, the autograder cell will display error messages.\n",
    "4. Before you submit your assignment, make sure everything runs as expected. Go to the menubar, select Kernel, and Restart & Run all. If the notebook runs through the last code cell without an error message, you've answered all problems correctly.\n",
    "5. Make sure that you save your work (in the menubar, select File → Save and CheckPoint).\n",
    "\n",
    "-----"
   ]
  },
  {
   "cell_type": "markdown",
   "metadata": {
    "deletable": false,
    "editable": false,
    "nbgrader": {
     "cell_type": "markdown",
     "checksum": "47e45c5a2e283a97e5474d0589595ce8",
     "grade": false,
     "grade_id": "cell-31752648086a10b5",
     "locked": true,
     "schema_version": 3,
     "solution": false
    }
   },
   "source": [
    "# Run Me First!"
   ]
  },
  {
   "cell_type": "code",
   "execution_count": null,
   "metadata": {
    "deletable": false,
    "editable": false,
    "nbgrader": {
     "cell_type": "code",
     "checksum": "e386edd06d9be4f54584d4765a9ff46f",
     "grade": false,
     "grade_id": "cell-88dd2a72c7ccd97d",
     "locked": true,
     "schema_version": 3,
     "solution": false
    }
   },
   "outputs": [],
   "source": [
    "import pandas as pd\n",
    "import numpy as np\n",
    "import seaborn as sns\n",
    "\n",
    "from nose.tools import assert_equal, assert_almost_equal, assert_true, assert_is_instance"
   ]
  },
  {
   "cell_type": "markdown",
   "metadata": {
    "deletable": false,
    "editable": false,
    "nbgrader": {
     "cell_type": "markdown",
     "checksum": "a3b989ce0c6f4e73ffee03358c929238",
     "grade": false,
     "grade_id": "cell-04a5c3d6a5d2fa7a",
     "locked": true,
     "schema_version": 3,
     "solution": false
    }
   },
   "source": [
    "-----\n",
    "\n",
    "# Predicting MPG\n",
    "\n",
    "In this assignment, we will use mpg dataset to make a regression model. Before we attempt to build a mode, we first must load the data from the seaborn module.\n",
    "\n",
    "Please run the next code cell before proceeding to Problem 1.\n",
    "\n",
    "-----"
   ]
  },
  {
   "cell_type": "code",
   "execution_count": null,
   "metadata": {
    "deletable": false,
    "editable": false,
    "nbgrader": {
     "cell_type": "code",
     "checksum": "145bef88b8727ecbb436635a51652c90",
     "grade": false,
     "grade_id": "cell-067fcf4112b3f798",
     "locked": true,
     "schema_version": 3,
     "solution": false
    }
   },
   "outputs": [],
   "source": [
    "#load MPG dataset\n",
    "mpg = sns.load_dataset('mpg')\n",
    "mpg.head()"
   ]
  },
  {
   "cell_type": "markdown",
   "metadata": {
    "deletable": false,
    "editable": false,
    "nbgrader": {
     "cell_type": "markdown",
     "checksum": "d4d68ea6b3e694e19eb83b678214b5ad",
     "grade": false,
     "grade_id": "cell-b14f916df8f7af19",
     "locked": true,
     "schema_version": 3,
     "solution": false
    }
   },
   "source": [
    "---\n",
    "\n",
    "# Problem 1: Create Dependent and Independent Variables\n",
    "\n",
    "For this problem you will use the DataFrame **mpg** defined above.\n",
    "\n",
    "To complete the task, do the following:\n",
    "1. Use `dmatrices` in `patsy` module to create independent variable **x** and dependent variable __y__ from DataFrame mpg. \n",
    "2. In patsy formula, use 'mpg' as dependent variable.\n",
    "3. Use displacement, acceleration and model_year as independent varialbe.\n",
    "4. Treat model_year as categorical feature(enclose in C()). \n",
    "5. Set `dmatrices` argument `return_type` to 'dataframe'.\n",
    "\n",
    "After this problem, there are two new variables defined, **x** and __y__.\n",
    "\n",
    "-----"
   ]
  },
  {
   "cell_type": "code",
   "execution_count": null,
   "metadata": {
    "deletable": false,
    "nbgrader": {
     "cell_type": "code",
     "checksum": "2d497aacb316356209f727e2475ce55d",
     "grade": false,
     "grade_id": "p1-ans",
     "locked": false,
     "schema_version": 3,
     "solution": true
    }
   },
   "outputs": [],
   "source": [
    "import patsy as pts\n",
    "\n",
    "# YOUR CODE HERE\n"
   ]
  },
  {
   "cell_type": "code",
   "execution_count": null,
   "metadata": {
    "deletable": false,
    "editable": false,
    "nbgrader": {
     "cell_type": "code",
     "checksum": "53709b3e535900c54783b33f85048c1d",
     "grade": true,
     "grade_id": "p1-test",
     "locked": true,
     "points": 1,
     "schema_version": 3,
     "solution": false
    }
   },
   "outputs": [],
   "source": [
    "assert_equal(type(x), pd.core.frame.DataFrame, msg=\"x is not a DataFrame\")\n",
    "assert_equal(x.shape, (398, 15), \n",
    "             msg=\"The independent features are not correct. Make sure to treat model_year as categorical feature\")\n",
    "# 2 random rows of the independent variables\n",
    "x.sample(2)"
   ]
  },
  {
   "cell_type": "markdown",
   "metadata": {
    "deletable": false,
    "editable": false,
    "nbgrader": {
     "cell_type": "markdown",
     "checksum": "8ce32c02d8468e613625efd47738f4d7",
     "grade": false,
     "grade_id": "cell-a0c66ef4d37f3a6d",
     "locked": true,
     "schema_version": 3,
     "solution": false
    }
   },
   "source": [
    "-----\n",
    "\n",
    "# Problem 2: Create the Training and Testing Datasets\n",
    "\n",
    "This problem works on the variables **x** and __y__ created in problem 1.\n",
    "\n",
    "Splite the independent and dependent variables to training and testing set.\n",
    "\n",
    "To complete this process, do the following:\n",
    "\n",
    "- Name the training and testing independent variable as x_train and x_test.\n",
    "- Name the training and testing dependent variable as y_train and y_test.\n",
    "- The `test_size` argument in `train_test_split` should be set to 0.3.\n",
    "- The `random_state` argument in `train_test_split` should be set to 23.\n",
    "\n",
    "After this problem, there are 4 new variables defined, **x_train, x_test, y_train** and __y_test__.\n",
    "\n",
    "-----"
   ]
  },
  {
   "cell_type": "code",
   "execution_count": null,
   "metadata": {
    "deletable": false,
    "nbgrader": {
     "cell_type": "code",
     "checksum": "b3e60538cd8ff19d6a664ae2c7cfbebf",
     "grade": false,
     "grade_id": "p2-ans",
     "locked": false,
     "schema_version": 3,
     "solution": true
    }
   },
   "outputs": [],
   "source": [
    "from sklearn.model_selection import train_test_split\n",
    "\n",
    "# YOUR CODE HERE\n"
   ]
  },
  {
   "cell_type": "code",
   "execution_count": null,
   "metadata": {
    "deletable": false,
    "editable": false,
    "nbgrader": {
     "cell_type": "code",
     "checksum": "e18a92dd84ce4e88a6853b2cd7bc4637",
     "grade": true,
     "grade_id": "p2-test",
     "locked": true,
     "points": 1,
     "schema_version": 3,
     "solution": false
    }
   },
   "outputs": [],
   "source": [
    "assert_equal(x_test.shape, (120, 15), \n",
    "             msg=\"The testing set size is not correct\")\n",
    "assert_equal(y_test.values[0][0], 16.0,\n",
    "             msg=\"The testing dependent variable is not correct. Make sure you set random_state to 23\")\n",
    "#2 random rows of the training independent variables\n",
    "x_train.sample(2)"
   ]
  },
  {
   "cell_type": "markdown",
   "metadata": {
    "deletable": false,
    "editable": false,
    "nbgrader": {
     "cell_type": "markdown",
     "checksum": "40a8239226f6983f94d04c2dc5dbacd3",
     "grade": false,
     "grade_id": "cell-f0c9676010ba1122",
     "locked": true,
     "schema_version": 3,
     "solution": false
    }
   },
   "source": [
    "---\n",
    "\n",
    "# Problem 3: Performing Linear Regression\n",
    "\n",
    "Your task for this problem is to build and use the scikit learn library's `LinearRegression` estimator to  make predictions on the mpg dataset. To complete this function, you must explicitly:\n",
    "- Create a `LinearRegression` estimator **lin_model** by using scikit learn. Accept default values for all arguments.\n",
    "- Fit the `LinearRegression` estimator using x_train and y_train created in problem 2.\n",
    "\n",
    "After this problem, there will be a trained linear regression model **lin_model**.\n",
    "\n",
    "-----"
   ]
  },
  {
   "cell_type": "code",
   "execution_count": null,
   "metadata": {
    "deletable": false,
    "nbgrader": {
     "cell_type": "code",
     "checksum": "f2c974a0994a9f3d217317886ae20b03",
     "grade": false,
     "grade_id": "p3-ans",
     "locked": false,
     "schema_version": 3,
     "solution": true
    }
   },
   "outputs": [],
   "source": [
    "from sklearn.linear_model import LinearRegression\n",
    "\n",
    "# YOUR CODE HERE\n"
   ]
  },
  {
   "cell_type": "code",
   "execution_count": null,
   "metadata": {
    "deletable": false,
    "editable": false,
    "nbgrader": {
     "cell_type": "code",
     "checksum": "e2fbcc734164562324e203032db861f8",
     "grade": true,
     "grade_id": "p3-test",
     "locked": true,
     "points": 1,
     "schema_version": 3,
     "solution": false
    }
   },
   "outputs": [],
   "source": [
    "assert_equal(type(lin_model), type(LinearRegression()), msg=\"lin_model is not defined as a LinearRegression model\")\n",
    "assert_equal(lin_model.get_params()['fit_intercept'], True,\n",
    "            msg=\"lin_model is not created with all default argument values\")"
   ]
  },
  {
   "cell_type": "markdown",
   "metadata": {
    "deletable": false,
    "editable": false,
    "nbgrader": {
     "cell_type": "markdown",
     "checksum": "fa1cff8f053914cd94d4baf02881577a",
     "grade": false,
     "grade_id": "cell-0bd8ccf5e00ce321",
     "locked": true,
     "schema_version": 3,
     "solution": false
    }
   },
   "source": [
    "---\n",
    "\n",
    "# Problem 4: Checking R2 Score on Testing Dataset\n",
    "\n",
    "For this problem, you will compute the R2 score of the lin_model.\n",
    "To complete this function, you must explicitly:\n",
    "- Compute the R2 score using `score` function of lin_model.\n",
    "- Use x_test and y_test to calculate the score.\n",
    "- Assign score to variable **r2_score**.\n",
    "\n",
    "After this problem, there will be a new variable r2_score defined.\n",
    "\n",
    "-----"
   ]
  },
  {
   "cell_type": "code",
   "execution_count": null,
   "metadata": {
    "deletable": false,
    "nbgrader": {
     "cell_type": "code",
     "checksum": "847019e45ef7da9d83db58f55d5b8f98",
     "grade": false,
     "grade_id": "p4-ans",
     "locked": false,
     "schema_version": 3,
     "solution": true
    }
   },
   "outputs": [],
   "source": [
    "# YOUR CODE HERE\n"
   ]
  },
  {
   "cell_type": "code",
   "execution_count": null,
   "metadata": {
    "deletable": false,
    "editable": false,
    "nbgrader": {
     "cell_type": "code",
     "checksum": "20f6e689eafd14479949e4eca9cb3439",
     "grade": true,
     "grade_id": "p4-test",
     "locked": true,
     "points": 1,
     "schema_version": 3,
     "solution": false
    }
   },
   "outputs": [],
   "source": [
    "assert_almost_equal(r2_score, 0.7325919749314689, msg=\"R2 score is not correct\")\n"
   ]
  }
 ],
 "metadata": {
  "coursera": {
   "course_slug": "data-analytics-accountancy-2",
   "graded_item_id": "GrQNK",
   "launcher_item_id": "m1_assignment"
  },
  "kernelspec": {
   "display_name": "Python 3",
   "language": "python",
   "name": "python3"
  },
  "language_info": {
   "codemirror_mode": {
    "name": "ipython",
    "version": 3
   },
   "file_extension": ".py",
   "mimetype": "text/x-python",
   "name": "python",
   "nbconvert_exporter": "python",
   "pygments_lexer": "ipython3",
   "version": "3.7.3"
  }
 },
 "nbformat": 4,
 "nbformat_minor": 2
}
