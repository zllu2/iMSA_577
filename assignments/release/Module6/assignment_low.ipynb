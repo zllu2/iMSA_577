{
 "cells": [
  {
   "cell_type": "markdown",
   "metadata": {
    "deletable": false,
    "editable": false,
    "nbgrader": {
     "cell_type": "markdown",
     "checksum": "c3a3dc60178c7c588d0f7bf220d5ae5e",
     "grade": false,
     "grade_id": "cell-9fe3edd84ede6fcf",
     "locked": true,
     "schema_version": 3,
     "solution": false
    }
   },
   "source": [
    "# Module 6 Assignment\n",
    "\n",
    "A few things you should keep in mind when working on assignments:\n",
    "\n",
    "1. Run the first code cell to import modules needed by this assignment before proceeding to problems.\n",
    "2. Make sure you fill in any place that says `# YOUR CODE HERE`. Do not write your answer anywhere else other than where it says `# YOUR CODE HERE`. Anything you write elsewhere will be removed or overwritten by the autograder.\n",
    "3. Each problem has an autograder cell below the answer cell. Run the autograder cell to check your answer. If there's anything wrong in your answer, the autograder cell will display error messages.\n",
    "4. Before you submit your assignment, make sure everything runs as expected. Go to the menubar, select Kernel, and Restart & Run all. If the notebook runs through the last code cell without an error message, you've answered all problems correctly.\n",
    "5. Make sure that you save your work (in the menubar, select File → Save and CheckPoint).\n",
    "\n",
    "-----"
   ]
  },
  {
   "cell_type": "markdown",
   "metadata": {
    "deletable": false,
    "editable": false,
    "nbgrader": {
     "cell_type": "markdown",
     "checksum": "47e45c5a2e283a97e5474d0589595ce8",
     "grade": false,
     "grade_id": "cell-31752648086a10b5",
     "locked": true,
     "schema_version": 3,
     "solution": false
    }
   },
   "source": [
    "# Run Me First!"
   ]
  },
  {
   "cell_type": "code",
   "execution_count": null,
   "metadata": {
    "deletable": false,
    "editable": false,
    "nbgrader": {
     "cell_type": "code",
     "checksum": "76c484feaa9128a5b35c7165fc3ca67a",
     "grade": false,
     "grade_id": "cell-88dd2a72c7ccd97d",
     "locked": true,
     "schema_version": 3,
     "solution": false
    }
   },
   "outputs": [],
   "source": [
    "import pandas as pd\n",
    "import numpy as np\n",
    "import seaborn as sns\n",
    "\n",
    "from nose.tools import assert_equal, assert_almost_equal, assert_true, assert_is_instance\n",
    "\n",
    "# We do this to ignore warnings\n",
    "import warnings\n",
    "warnings.filterwarnings(\"ignore\")"
   ]
  },
  {
   "cell_type": "markdown",
   "metadata": {
    "deletable": false,
    "editable": false,
    "nbgrader": {
     "cell_type": "markdown",
     "checksum": "b4744a7aebbd0b92b594c4a0d9a9f888",
     "grade": false,
     "grade_id": "cell-c36036bd06797824",
     "locked": true,
     "schema_version": 3,
     "solution": false
    }
   },
   "source": [
    "---\n",
    "# Prepare Yelp Review Data\n",
    "\n",
    "In this assignment, you will use the Yelp review dataset. Before we attempt to build a model, we first prepare the data.\n",
    "\n",
    "The Yelp review dataset contains 1000 customer reviews of a group of restaurants. There are two columns in the dataset, column **stars** which is the star rating and column __text__ which is the review text. The dataset only contains 1-star and 5-star reviews. There are 500 1-star reviews and 500 5-star reviews.\n",
    "\n",
    "Please run the next Code cell before proceeding to Problem 1.\n"
   ]
  },
  {
   "cell_type": "code",
   "execution_count": null,
   "metadata": {
    "deletable": false,
    "editable": false,
    "nbgrader": {
     "cell_type": "code",
     "checksum": "8f81e0e7febab81c66d1a883402d5444",
     "grade": false,
     "grade_id": "cell-b7a411e93e83fc6a",
     "locked": true,
     "schema_version": 3,
     "solution": false
    }
   },
   "outputs": [],
   "source": [
    "#Load yelp review dataset\n",
    "df = pd.read_csv('data/yelp_reviews.csv')\n",
    "rating = df['stars']\n",
    "data = df['text']\n",
    "sample_review = data[0]\n",
    "print(f'Counts of Reviews by Star Rating:\\n{rating.value_counts()}\\n')\n",
    "print(f'Sample Review({rating[0]} stars):\\n{sample_review}')\n",
    "print('-'*80)\n",
    "print('\\nDataset Sample:')\n",
    "df.sample(2, random_state=2)"
   ]
  },
  {
   "cell_type": "markdown",
   "metadata": {},
   "source": [
    "---\n",
    "# Problem 1: Get Top Words from a Sample Review\n",
    "\n",
    "Get the most-used words in a sample review.\n",
    "\n",
    "For this problem you will use the string **sample_review** created above.\n",
    "\n",
    "To solve this problem do the following:\n",
    "- Use regular expression `r'[^\\w]'` to replace all characters in sample_review that are not letter or number with white spaces, assign the new string to sample_review_ns.\n",
    "- Convert sample_review_ns to **all lower case** with string function lower(), assign the new string to sample_review_nsl.\n",
    "- Use string function split() to split sample_review_nsl to a list of words and use the list to construct a `Counter` object in `collections` module.\n",
    "- Get **top 10** words from the Counter object with `most_common()` function and assign the result to variable __top_10_words__.\n",
    "\n",
    "After this problem, there's a new variable **top_10_words** defined.\n",
    "\n",
    "---"
   ]
  },
  {
   "cell_type": "code",
   "execution_count": null,
   "metadata": {
    "deletable": false,
    "nbgrader": {
     "cell_type": "code",
     "checksum": "60ce6ff163b02a4bee7feb8dc06d12e9",
     "grade": false,
     "grade_id": "p1-answer",
     "locked": false,
     "schema_version": 3,
     "solution": true
    }
   },
   "outputs": [],
   "source": [
    "import re\n",
    "import collections as cl\n",
    "\n",
    "# YOUR CODE HERE\n"
   ]
  },
  {
   "cell_type": "code",
   "execution_count": null,
   "metadata": {
    "deletable": false,
    "editable": false,
    "nbgrader": {
     "cell_type": "code",
     "checksum": "7de18fb9733a6052242255807dbc8de0",
     "grade": true,
     "grade_id": "p1-test",
     "locked": true,
     "points": 1,
     "schema_version": 3,
     "solution": false
    }
   },
   "outputs": [],
   "source": [
    "assert_equal(type(top_10_words), list, msg='top_10_words should be a list')\n",
    "assert_equal(top_10_words, [('i', 10),('the', 10),('and', 5),('to', 5),('have', 5),('my', 4),\n",
    "                            ('as', 4),('love', 3),('place', 3),('was', 3)], msg='top_10_words list is not correct')\n",
    "print('Top 10 Words:')\n",
    "top_10_words"
   ]
  },
  {
   "cell_type": "markdown",
   "metadata": {
    "deletable": false,
    "editable": false,
    "nbgrader": {
     "cell_type": "markdown",
     "checksum": "434bca1099309ecd5e0405b9ae0fce6a",
     "grade": false,
     "grade_id": "cell-6cc2ae0e085cc156",
     "locked": true,
     "schema_version": 3,
     "solution": false
    }
   },
   "source": [
    "---\n",
    "# Problem 2: Prepare Data for Text Classification\n",
    "\n",
    "Create label and split text data set to training and testing set.\n",
    "\n",
    "For this problem you will use **data** and __rating__ created above.\n",
    "\n",
    "To solve this problem do the following:\n",
    "- Create **label** from __rating__. Set label to 1 if rating is 5 stars and 0 otherwise.(Hint: use lambda function: `label = rating.map(lambda x: 1 if x==5 else 0)`\n",
    "- Split data and label to training and testing using `train_test_split`.\n",
    " - Set test_size to 0.4.\n",
    " - Set random_state to 23.\n",
    " - Assign return values to **d_train, d_test, l_train, l_test**.\n",
    "\n",
    "After this problem, there are four new variable, **d_train, d_test, l_train** and  __l_test__ defined.\n",
    "\n",
    "---"
   ]
  },
  {
   "cell_type": "code",
   "execution_count": null,
   "metadata": {
    "deletable": false,
    "nbgrader": {
     "cell_type": "code",
     "checksum": "1f15662466dd8e222257cca5ac0f1103",
     "grade": false,
     "grade_id": "p2-answer",
     "locked": false,
     "schema_version": 3,
     "solution": true
    }
   },
   "outputs": [],
   "source": [
    "from sklearn.model_selection import train_test_split\n",
    "\n",
    "# YOUR CODE HERE\n"
   ]
  },
  {
   "cell_type": "code",
   "execution_count": null,
   "metadata": {
    "deletable": false,
    "editable": false,
    "nbgrader": {
     "cell_type": "code",
     "checksum": "6568d7fb33f195d53c9017fd4503a78b",
     "grade": true,
     "grade_id": "p2-test",
     "locked": true,
     "points": 1,
     "schema_version": 3,
     "solution": false
    }
   },
   "outputs": [],
   "source": [
    "assert_equal(len(d_train), 600, msg='training set size is not correct')\n",
    "assert_equal(len(d_test), 400, msg='testing set size is not correct')\n",
    "assert_equal(l_train.iloc[1], 1, msg='l_train is not correct')\n",
    "assert_equal(l_train.iloc[100], 1, msg='l_train is not correct')\n",
    "assert_equal(l_test.iloc[0], 0, msg='l_test is not correct')\n",
    "assert_equal(l_test.iloc[100], 1, msg='l_test is not correct')"
   ]
  },
  {
   "cell_type": "markdown",
   "metadata": {
    "deletable": false,
    "editable": false,
    "nbgrader": {
     "cell_type": "markdown",
     "checksum": "bf2c794a7877830313ce68afd60385c8",
     "grade": false,
     "grade_id": "cell-34d75d264e64349c",
     "locked": true,
     "schema_version": 3,
     "solution": false
    }
   },
   "source": [
    "---\n",
    "\n",
    "# Problem 3: Train a Multinomial Naive Bayes Model\n",
    "\n",
    "For this problem, use d_train, l_train, d_test and l_test created above.\n",
    "\n",
    "Your task for this problem is to build and train a `MultinomialNB` estimator to make predictions on the Yelp review dataset. \n",
    "\n",
    "To solve this problem do the following:\n",
    "- Create a `TfidfVectorizer` object, set `stop_words` to 'english'.\n",
    "- Fit the `TfidfVectorizer` objec with d_train\n",
    "- Transform d_train and d_test with the `TfidfVectorizer` object to get **train_dtm** and __test_dtm__\n",
    "- Create a `MultinomialNB` estimator **nb_model**. Accept default values for all hyperparameters.\n",
    "- Fit the `MultinomialNB` estimator using train_dtm and l_train.\n",
    "\n",
    "After this problem, there will be a trained multinomial Naive Bayes model **nb_model** define, as well as two document term matrices, __train_dtm, test_dtm__.\n",
    "\n",
    "-----"
   ]
  },
  {
   "cell_type": "code",
   "execution_count": null,
   "metadata": {
    "deletable": false,
    "nbgrader": {
     "cell_type": "code",
     "checksum": "3ddd6d5bdebabd0ff2142a2264ff24b9",
     "grade": false,
     "grade_id": "p3-answer",
     "locked": false,
     "schema_version": 3,
     "solution": true
    }
   },
   "outputs": [],
   "source": [
    "from sklearn.feature_extraction.text import TfidfVectorizer\n",
    "from sklearn.naive_bayes import MultinomialNB\n",
    "\n",
    "# YOUR CODE HERE\n"
   ]
  },
  {
   "cell_type": "code",
   "execution_count": null,
   "metadata": {
    "deletable": false,
    "editable": false,
    "nbgrader": {
     "cell_type": "code",
     "checksum": "9ea46d268d814fbba3946b2c2e0472be",
     "grade": true,
     "grade_id": "p3-test",
     "locked": true,
     "points": 1,
     "schema_version": 3,
     "solution": false
    }
   },
   "outputs": [],
   "source": [
    "assert_equal(type(nb_model), type(MultinomialNB()), msg=\"nb_model is not defined as a MultinomialNB model\")\n",
    "assert_almost_equal(train_dtm[0, 132], 0.05808376842859404, msg=\"train_dtm is not correct\")\n",
    "assert_almost_equal(test_dtm[0, 157], 0.12459374859215833, msg=\"test_dtm is not correct\")\n"
   ]
  },
  {
   "cell_type": "markdown",
   "metadata": {
    "deletable": false,
    "editable": false,
    "nbgrader": {
     "cell_type": "markdown",
     "checksum": "f17cfbf8f755ba1ab46202bc08bb993b",
     "grade": false,
     "grade_id": "cell-5c71f0e397348902",
     "locked": true,
     "schema_version": 3,
     "solution": false
    }
   },
   "source": [
    "---\n",
    "\n",
    "# Problem 4: Get Text Classification Metrics\n",
    "\n",
    "For this problem, you will compute the classification metrics of the nb_model created in problem 3.  \n",
    "\n",
    "To complete this function, you must explicitly:\n",
    "\n",
    "- Apply nb_model `predict` function on test_dtm created in problem 3 to get predicted label, assign it to variable **l_pred**.\n",
    "- Use l_test and l_pred to calculate:\n",
    " - The mean accuracy score using `accuracy_score` function in `metrics` module and save the value to **mas_score**.\n",
    " - The classification report using `classification_report` function in `metrics` module and save it to variable **c_report**.\n",
    "\n",
    "After this problem, there will be two new variables, **mas_score** and __c_report__ defined.\n",
    "\n",
    "-----"
   ]
  },
  {
   "cell_type": "code",
   "execution_count": null,
   "metadata": {
    "deletable": false,
    "nbgrader": {
     "cell_type": "code",
     "checksum": "c9b7cf7de0d82e39928fd1d2c0d68da4",
     "grade": false,
     "grade_id": "p4-answer",
     "locked": false,
     "schema_version": 3,
     "solution": true
    }
   },
   "outputs": [],
   "source": [
    "from sklearn import metrics\n",
    "\n",
    "# YOUR CODE HERE\n"
   ]
  },
  {
   "cell_type": "code",
   "execution_count": null,
   "metadata": {
    "deletable": false,
    "editable": false,
    "nbgrader": {
     "cell_type": "code",
     "checksum": "1f34e040d3de1414e1824cfe6c4f3c61",
     "grade": true,
     "grade_id": "p4-test",
     "locked": true,
     "points": 1,
     "schema_version": 3,
     "solution": false
    }
   },
   "outputs": [],
   "source": [
    "assert_equal(mas_score, 0.885, msg='Accuracy score is not correct')\n",
    "assert_true('0.94' in c_report, msg='Classification report is not correct')\n",
    "assert_true('194' in c_report, msg='Classification report is not correct')\n",
    "print(f\"Accuracy Score: {mas_score*100:4.1f}%\")\n",
    "print(f\"Classification Report\\n{c_report}\")"
   ]
  }
 ],
 "metadata": {
  "coursera": {
   "course_slug": "machine-learning-accounting-python",
   "graded_item_id": "w2uye",
   "launcher_item_id": "Bp0aI"
  },
  "kernelspec": {
   "display_name": "Python 3",
   "language": "python",
   "name": "python3"
  },
  "language_info": {
   "codemirror_mode": {
    "name": "ipython",
    "version": 3
   },
   "file_extension": ".py",
   "mimetype": "text/x-python",
   "name": "python",
   "nbconvert_exporter": "python",
   "pygments_lexer": "ipython3",
   "version": "3.7.3"
  }
 },
 "nbformat": 4,
 "nbformat_minor": 2
}
