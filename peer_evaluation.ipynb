{
 "cells": [
  {
   "cell_type": "markdown",
   "metadata": {},
   "source": [
    "# Evaluation of Group Members\n",
    "\n",
    "Final Project\n",
    " \n",
    "In this survey, you will assess the performance of your group members on the midterm project. Your responses are private; only Professor Anand will see them.\n",
    "\n",
    "You will rate each of your group members on a scale of 1 to 4:\n",
    " \n",
    "4=Outstanding Contribution \n",
    "(Most groups have, at most, one or two people who merit a \"4\". It is extremely rare to have a group in which all members should be evaluated as \"4\".)\n",
    "Extremely knowledgeable about and well prepared for ALL of the issues discussed. Ideas offered were usually substantive, provided good insights and sometimes also provided a new direction for our group to consider. May have played a role as a kind, constructive leader, but was not pushy, domineering, or overly talkative. If this person had not been a member of our group, the quality of our work would have been diminished significantly.\n",
    " \n",
    "3=Good Contribution\n",
    "Good knowledge and preparation regarding several issues. Ideas offered were usually substantive, generally provided useful insights, and occasionally offered a new direction to consider. May have played a role as a kind, constructive leader, but was not pushy, domineering, or overly talkative. If this person had not been a member of our group, the quality of our work would have been diminished.\n",
    " \n",
    "2=Marginal Contribution\n",
    "Some knowledge and preparation regarding several issues. Ideas offered were occasionally substantive, but seldom provided clear insights or offered new directions. If this person had not been a member of our group, the quality of our work would have been diminished only slightly.\n",
    " \n",
    "1=Low or Negative Contribution\n",
    "Almost no knowledge of the accounting issues Ideas offered are rarely substantive. Provided few, if any, insights; and did not offer a constructive direction for our group to consider. If this person were not a member of our group, the quality of our work would be unchanged and/or valuable time would be saved.\n"
   ]
  }
 ],
 "metadata": {
  "kernelspec": {
   "display_name": "Python 3",
   "language": "python",
   "name": "python3"
  },
  "language_info": {
   "codemirror_mode": {
    "name": "ipython",
    "version": 3
   },
   "file_extension": ".py",
   "mimetype": "text/x-python",
   "name": "python",
   "nbconvert_exporter": "python",
   "pygments_lexer": "ipython3",
   "version": "3.7.3"
  }
 },
 "nbformat": 4,
 "nbformat_minor": 2
}
