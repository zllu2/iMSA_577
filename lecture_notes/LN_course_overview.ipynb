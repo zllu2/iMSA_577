{
 "cells": [
  {
   "cell_type": "markdown",
   "metadata": {},
   "source": [
    "# Machine Learning for Accounting\n",
    "# Course Introduction"
   ]
  },
  {
   "cell_type": "markdown",
   "metadata": {},
   "source": [
    "### Slide 1\n",
    "#### Machine Learning for Accounting\n",
    "<img src='images/CRISP-DM_Process_Diagram.png' width=400>"
   ]
  },
  {
   "cell_type": "markdown",
   "metadata": {},
   "source": [
    "### Slide 1 Script\n",
    "Hi, I’m Linden Lu. Welcome to this course. This course is the third leg in the data analytics specialization. To understand what topics this course covers, let’s first review the CRISP-DM framework we learned from the previous course, Accounting Data Analytics with Python. \n",
    "\n",
    "This is the diagram of the crisp-dm framework. In this framework, business understanding normally requires little technical skills. Other steps can be very technical. Python is an ideal tool to perform those steps. In data understanding and data preparation, you collect the data, get familiar with the data, clean up the data, integrate the data, which eventually result a clean dataset on which you can perform the next steps. \n",
    "\n",
    "Data understanding and data preparation are the focus of the previous course. As we’ve learned, these two steps are tedious and time consuming, they account for about 80% of the work of data analysts. \n",
    "\n",
    "In this course, however, we will focus on the next two steps, modeling and model evaluation. In modeling step, you will apply machine learning models on cleaned dataset. This step helps you to learn insight from the data, understand what is happening and why it’s happening, or predict what will happen next, and what you should do. \n",
    "\n",
    "Modeling is always done together with evaluation, which compares different models and parameters to come up with the best model and optimum parameters of the models.\n"
   ]
  },
  {
   "cell_type": "markdown",
   "metadata": {},
   "source": [
    "### Slide 2\n",
    "\n",
    "#### Course Modules\n",
    "- Module 1: Introduction to Machine Learning\n",
    "- Module 2: Machine Learning Algorithms I\n",
    "- Module 3: Machine Learning Algorithms II\n",
    "- Module 4: Model Evaluation\n",
    "- Module 5: Model Optimization\n",
    "- Module 6: Text Analysis\n",
    "- Module 7: Clustering\n",
    "- Module 8: Time Series Analysis"
   ]
  },
  {
   "cell_type": "markdown",
   "metadata": {},
   "source": [
    "### Slide 2 Script\n",
    "There are 8 modules in this course. We will:\n",
    "- introduce machine learning in general in the first module.\n",
    "- In the 2nd and 3nd module, we will introduce 6 machine learning algorithms and learn how to apply these algorithms with python.\n",
    "- In module 4, we will introduce evaluation metrics for the machine learning models\n",
    "- In module 5, we will introduce how to optimize the machine learning models\n",
    "- In module 6, we will introduce text analysis which allows machines to extract and classify information from text.\n",
    "- All machine learning algorithms we learn in the first 6 modules are supervised learning, which means we know the true outcome of the training dataset. For example, we can create a machine learning model to predict credit card fraud. We will use historical credit card transactions to train the model. For each historical transaction, we already know whether it was a valid transaction or a fraud. We feed these information along with transaction details to the model and eventually get a trained model. We can then use the trained model to make predictions on new transactions. This kind of learning is called supervised learning. There are cases when we don't have the true outcome of data, we just try to find previously unknown patterns from data sets. This kind of learning is called unsupervised learning. One unsupervised learning example is customer segmentation which divides customers to different groups by their purchasing behavior. In module 7, we will introduce the most common unsupervised learning method, clustering.\n",
    "- In module 8, we will introduce a special kind of data, time series data which is a sequence of data points indexed by date and time. We will also learn how to explore time series data to get insight of the dataset.\n"
   ]
  },
  {
   "cell_type": "markdown",
   "metadata": {},
   "source": [
    "### Slide 3\n",
    "\n",
    "#### Module Content\n",
    "- One Overview Video\n",
    "- Three Lessons\n",
    " - One Lesson Notebook\n",
    " - One Lesson Video\n",
    "- One Review Video\n",
    "- One Quiz\n",
    "- One Assignment"
   ]
  },
  {
   "cell_type": "markdown",
   "metadata": {},
   "source": [
    "### Slide 3 Script\n",
    "\n",
    "There are 3 lessons in each module except for module 8 which has 2 lessons. There is one overview video and one review video in each module. Each lesson has a lecture video and a lecture notebook. There is one quiz and one assignment in each module.\n",
    "\n",
    "\n"
   ]
  },
  {
   "attachments": {},
   "cell_type": "markdown",
   "metadata": {},
   "source": [
    "### Slide 4\n",
    "\n",
    "#### Best Practice\n",
    "\n",
    "- Watch Overview Video\n",
    "- For each lesson:\n",
    "  - Go through notebook briefly\n",
    "  - Watch lesson video\n",
    "  - Go through notebook carefully\n",
    "- Watch Review Video\n",
    "- Work on Quiz\n",
    "- Work on Assignment\n"
   ]
  },
  {
   "cell_type": "markdown",
   "metadata": {},
   "source": [
    "#### Slide 4 Script\n",
    "The recommended way to learn each module is:\n",
    "- First, watch the module overview video to learn the objective of the module and the concepts you are going to learn in this module.\n",
    "- For each lesson:\n",
    " - Go through lesson notebook briefly, you don't have to spend too much time and try to understand all the details in the notebook. The purpose is to get an idea about the lesson and come up with questions about the topic in the lesson.\n",
    " - Watch the lesson video with questions. The lesson video will explain the concepts in more detail. Hopefully, the lesson video can answer your questions you get from reading the lesson noteboo.\n",
    " - Then you need to go through lesson notebook again. This time read it more carefully, try to understand the sample code in the notebook and work on the student exercises in the notebook.\n",
    "- Afte you finish all the lessons, watch the module review video to review the concepts in the module. The review video will also talk about the module assignment to help you finish the assignment smoothly.\n",
    "- Finally, finish quiz and assignment. If you have trouble with assignment problems, watch the review video to get help.\n"
   ]
  },
  {
   "cell_type": "markdown",
   "metadata": {},
   "source": [
    "### Slide 5\n",
    "#### Quiz and Assignment\n",
    "- 10 questions in quiz, 80% passing grade\n",
    "- 4 problem in assignment, 75% passing grade\n",
    "- No deadlines\n",
    "- Allow multiple submits\n",
    "- Need to pass all quizzes and assignments"
   ]
  },
  {
   "cell_type": "markdown",
   "metadata": {},
   "source": [
    "### Slide 5 Script\n",
    "There are 10 questions in each quiz and 4 problems in each assignment. The minimum passing grades for quiz is 80% which means you need to answer 8 out of 10 quiz questions correctly. For assignments, the passing grade is 75% which means you need to answer 3 out 4 assignment problems correctly. There're no deadlines for quizzes and assignments and you can submit them multiple times. But you do need to pass all quizzes and assignments in order to finish the course.\n",
    "\n"
   ]
  }
 ],
 "metadata": {
  "kernelspec": {
   "display_name": "Python 3",
   "language": "python",
   "name": "python3"
  },
  "language_info": {
   "codemirror_mode": {
    "name": "ipython",
    "version": 3
   },
   "file_extension": ".py",
   "mimetype": "text/x-python",
   "name": "python",
   "nbconvert_exporter": "python",
   "pygments_lexer": "ipython3",
   "version": "3.7.3"
  }
 },
 "nbformat": 4,
 "nbformat_minor": 2
}
