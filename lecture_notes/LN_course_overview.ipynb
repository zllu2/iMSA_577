{
 "cells": [
  {
   "cell_type": "markdown",
   "metadata": {},
   "source": [
    "# Machine Learning for Accounting\n",
    "# Course Introduction"
   ]
  },
  {
   "cell_type": "markdown",
   "metadata": {},
   "source": [
    "### Slide 1\n",
    "#### Machine Learning for Accounting\n",
    "<img src='images/CRISP-DM_Process_Diagram.png' width=400>"
   ]
  },
  {
   "cell_type": "markdown",
   "metadata": {},
   "source": [
    "### Slide 1 Script\n",
    "(cover page)\n",
    "Hi, I’m Linden Lu. Welcome to this course. This course is the third leg in the data analytics specialization. To understand what topics this course covers, let’s first review the CRISP-DM framework we learned from the previous course, Accounting Data Analytics with Python. \n",
    "(Slide)\n",
    "This is the diagram of the crisp-dm framework. In this framework, business understanding normally requires little technical skills. Other steps can be very technical. Python is an ideal tool to perform those steps. In data understanding and data preparation, you collect the data, explore the data through visualization, clean up the data, integrate the data, which eventually result a clean dataset on which you can perform the next steps. \n",
    "\n",
    "Data understanding and data preparation are the focus of the previous course. These two steps are tedious and time consuming, they account for about 80% of data analysts' work.\n",
    "\n",
    "In this course we will focus on the next two steps, modeling and model evaluation. In modeling step, you will apply machine learning models on clean dataset. This step helps you to learn insight from the data, understand what is happening and why it’s happening, and predict what will happen next. \n",
    "\n",
    "Modeling is always done together with evaluation and optimization, which compares different models and parameters to come up with the best model and the optimum parameters for the models.\n"
   ]
  },
  {
   "cell_type": "markdown",
   "metadata": {},
   "source": [
    "### Slide 2\n",
    "\n",
    "#### Course Content\n",
    "- Module 1: Introduction to Machine Learning\n",
    "- Module 2: Machine Learning Algorithms I\n",
    "- Module 3: Machine Learning Algorithms II\n",
    "- Module 4: Model Evaluation\n",
    "- Module 5: Model Optimization\n",
    "- Module 6: Text Analysis\n",
    "- Module 7: Clustering\n",
    "- Module 8: Time Series Analysis"
   ]
  },
  {
   "cell_type": "markdown",
   "metadata": {},
   "source": [
    "### Slide 2 Script\n",
    "There are 8 modules in this course. We will:\n",
    "- introduce machine learning in general in the first module. \n",
    "- In the 2nd and 3nd module, we will introduce 6 machine learning algorithms and learn how to apply these algorithms with python.\n",
    "- In module 4, we will introduce evaluation metrics for the machine learning models\n",
    "- In module 5, we will learn how to optimize the machine learning models\n",
    "- In module 6, we will introduce text analysis which allows machines to extract and classify information from text.\n",
    "- All machine learning algorithms we learn in the first 6 modules are supervised learning, which means we know the true outcome of the training dataset.  There are cases when we don't have the true outcome of data, we just try to find previously unknown patterns from data sets. This kind of learning is called unsupervised learning. One unsupervised learning example is customer segmentation which divides customers to different groups by their purchasing behavior. In module 7, we will introduce the most common unsupervised learning method, clustering.\n",
    "- In module 8, we will introduce a special kind of data, time series data which is a sequence of data points indexed by date and time. Daily stock price is an exmaple of time series data.\n"
   ]
  },
  {
   "cell_type": "markdown",
   "metadata": {},
   "source": [
    "### Slide 3\n",
    "\n",
    "#### Module Content\n",
    "- One Overview Video\n",
    "- Three Lessons\n",
    " - One Lesson Notebook\n",
    " - One Lesson Video\n",
    "- One Review Video\n",
    "- One Quiz(show quiz page)\n",
    "- One Assignment(show assignment page and demo assignment)"
   ]
  },
  {
   "cell_type": "markdown",
   "metadata": {},
   "source": [
    "### Slide 3 Script\n",
    "\n",
    "In each module, there is an overview video which overviews the key concepts introduced in the module. \n",
    "\n",
    "And there are 3 lessons in each module except for module 8 which has 2 lessons. \n",
    "\n",
    "Each lesson has a lecture video and a lecture notebook. \n",
    "\n",
    "There is one quiz and one assignment in each module. Each quiz has 10 quesitons Each assignment has 4 problems.\n",
    "\n"
   ]
  },
  {
   "cell_type": "markdown",
   "metadata": {},
   "source": [
    "### Slide 4\n",
    "\n",
    "#### Best Practice\n",
    "\n",
    "- Watch Overview Video\n",
    "- For each lesson:\n",
    "  - Go through notebook briefly\n",
    "  - Watch lesson video\n",
    "  - Go through notebook carefully\n",
    "- Work on Quiz\n",
    "- Work on Assignment\n"
   ]
  },
  {
   "cell_type": "markdown",
   "metadata": {},
   "source": [
    "#### Slide 4 Script\n",
    "This course is pretty rigorous. I think the most efficient way to learn each module is that\n",
    "- First, watch the module overview video to learn the objective of the module and the concepts you are going to learn in this module.\n",
    "- and For each lesson:\n",
    " - Go through lesson notebook briefly, you don't have to spend too much time, maybe 10 to 15 minutes. and don't try to understand all the details in the notebook. The purpose is to get an idea about the lesson and come up with questions about the topics in the lesson.\n",
    " - With the questions in mind, watch the lesson video, which explains the concepts in more detail. Hopefully, the lesson video can answer your questions you get from reading the lesson notebook.\n",
    " - Then you need to go back to the lesson notebook again. This time read it more carefully, try to understand the sample code in the notebook and work on the student exercises in the notebook.\n",
    "- Afte you finish all the lessons, finish the quiz and the assignment to test your understandings of the module. Remember that you can submit quizzs and assignments multiple times."
   ]
  },
  {
   "cell_type": "markdown",
   "metadata": {},
   "source": [
    "### Slide 5\n",
    "#### Passing Requirements\n",
    "- 10 questions in quiz, 80% passing grade\n",
    "- 4 problem in assignment, 75% passing grade\n",
    "- No deadlines\n",
    "- Allow multiple submits\n",
    "- Need to pass all quizzes and assignments"
   ]
  },
  {
   "cell_type": "markdown",
   "metadata": {},
   "source": [
    "### Slide 5 Script\n",
    "To finish the course, you need to pass all the quizzes and assignment. \n",
    "\n",
    "There are 10 questions in each quiz and the minimum passing grades for quiz is 80% which means you need to answer 8 out of 10 quiz questions correctly. There are 4 problems in each assignment, and the passing grade is 75% which means you need to answer 3 out 4 assignment problems correctly. There're no deadlines for quizzes and assignments and you can submit them multiple times.\n",
    "\n",
    "(Show assignment)\n",
    "I'll briefly talk about the assignment.\n",
    "\n",
    "The first markdown cell lists some important information you need to be aware of for the assignment. Please read it carefully.  \n",
    "\n",
    "You should only write your answers under your code here, not anywhere else. Don't change anything else, including the file name of the assignment notebook. Once you are done with your assignment, don’t forget to save the assignment file.\n",
    "\n",
    "The assignments are autograded. Each problem in the assignment has an autograder cell below the answer cell. If your solution is wrong, the autograder of the problem will throw error messages when you run it. \n",
    "\n",
    "Now let’s look at the problemes in the demo assignment. \n",
    "\n",
    "(run first code cell) \n",
    "\n",
    "Make sure you run the first code cell to import the needed modules.\n",
    "\n",
    "The first problem asks you to assign value 1 to variable a. If you assign a wrong value to a and run the answer cell and the autograder cell, you will see an error message. \n",
    "\n",
    "Correct your answer and run the cell and the autograder cell again. Now the error message is gone which means you’ve solved problem 1 correctly. \n",
    "\n",
    "Problem 2 asks you to assign value 2 to variable b. If we do it correctly and run the code cell and autograder below, the cells are executed without any error.  \n",
    "\n",
    "Now that we've finished all the problems, make sure you click kernel-restart run all to run the whole assignment notebook from start to end. If the notebook runs through the last cell without a problem, you may save your assignment with File-Save and checkpoint.  "
   ]
  }
 ],
 "metadata": {
  "kernelspec": {
   "display_name": "Python 3",
   "language": "python",
   "name": "python3"
  },
  "language_info": {
   "codemirror_mode": {
    "name": "ipython",
    "version": 3
   },
   "file_extension": ".py",
   "mimetype": "text/x-python",
   "name": "python",
   "nbconvert_exporter": "python",
   "pygments_lexer": "ipython3",
   "version": "3.7.3"
  }
 },
 "nbformat": 4,
 "nbformat_minor": 2
}
