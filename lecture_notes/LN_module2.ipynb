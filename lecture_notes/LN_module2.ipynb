{
 "cells": [
  {
   "cell_type": "markdown",
   "metadata": {},
   "source": [
    "# Module 2 Fundamental Algorithms I"
   ]
  },
  {
   "cell_type": "markdown",
   "metadata": {},
   "source": [
    "---\n",
    "## Introduction Script\n",
    "Hello and welcome. \n",
    "\n",
    "In this module, you will learn 3 supervised machine learning algorithms. Lesson1 introduces linear regression, lesson 2 introduces logistic regression, lesson 3 introduces dicistion tree. In the lesson notebooks, we often include some python code that create plots to help you understand some concepts. You are not required to understand those code. There will be a note indicating this for this kind of code block.\n",
    "\n",
    "You should, however, understand how the algorithm work in general, and more importantly, know how to apply those algorithms using python scripts. As we learned from module 1, the steps to apply machine learning models are standard for all models defined in python scikit learn module. By the way, machine learning model is an implementation of machine learning algorithm. I may use the two terms interchangebally accross this course.\n",
    "\n",
    "You also need to know the key hyperparameters of each machine learning model and the value options for those key hyperparameters.\n",
    "\n",
    "There are three lessons in this module. The lesson videos explain the concept of the 3 machine learning algorithms. To fully understand how to apply those algorithms in python, you need to go through the lesson notebooks carefully. Again, I encourage you to run the code in the notebooks, you may even play with the code, make modifications and rerun the code to see different result."
   ]
  },
  {
   "cell_type": "markdown",
   "metadata": {},
   "source": [
    "---\n",
    "## Lesson 1: Introduction to Linear Regression"
   ]
  },
  {
   "cell_type": "markdown",
   "metadata": {},
   "source": [
    "---\n",
    "### Slide 1\n",
    "#### Linear Regression\n",
    "\n",
    "- Supervised Learning\n",
    "- Predict continous output\n",
    "- Assume linear relationships between input and output\n",
    "- Feature scaling is normally not needed\n",
    "<img src='https://i.imgur.com/DT4H1Yk.jpg' width=400>"
   ]
  },
  {
   "cell_type": "markdown",
   "metadata": {},
   "source": [
    "---\n",
    "### Slide 2\n",
    "\n",
    "#### Cost Function\n",
    "<img src='images/linear_regression.png' width=400>"
   ]
  },
  {
   "cell_type": "markdown",
   "metadata": {},
   "source": [
    "---\n",
    "### Slide 2 Script\n"
   ]
  },
  {
   "cell_type": "markdown",
   "metadata": {},
   "source": [
    "---\n",
    "### Slide 3\n",
    "#### Hyperparameters\n",
    "- `fit_intercept`: If `True`, the _default_, an intercept is fit for this model.\n",
    "- `normalize`: If `True` all the features supplied in the `fit` method will be normalized, the _default_ is `False`.\n",
    "- `copy_X`: If `True`, the _default_, the feature matrix will be copied, otherwise the data may be overwritten during the regression.\n",
    "\n",
    "#### Linear Regression Model Attributes\n",
    "- `coef_`: An array of the estimated coefficients for the regressed linear model, in typical usage this is a single dimensional array.\n",
    "- `intercept_`: The constant term in the regressed linear model, only computed if `fit_intercept` is `True`.\n"
   ]
  },
  {
   "cell_type": "markdown",
   "metadata": {},
   "source": [
    "---\n",
    "### Slide 3 Script\n"
   ]
  },
  {
   "cell_type": "markdown",
   "metadata": {},
   "source": [
    "---\n",
    "### Slide 4\n",
    "#### Data Preparation with patsy\n",
    "```\n",
    "import patsy as pts \n",
    "y, x = pts.dmatrices('tip ~ total_bill + size + C(time)', data=tdf, return_type='dataframe')\n",
    "```\n"
   ]
  },
  {
   "cell_type": "markdown",
   "metadata": {},
   "source": [
    "### Slide 4 Script"
   ]
  },
  {
   "cell_type": "markdown",
   "metadata": {},
   "source": [
    "---\n",
    "### Slide 5\n",
    "#### Scikit Learn LinearRegression model\n",
    "```\n",
    "from sklearn.linear_model import LinearRegression\n",
    "\n",
    "model = LinearRegression(fit_intercept=False)\n",
    "model.fit(ind_train, dep_train)\n",
    "\n",
    "score = model.score(ind_test, dep_test)\n",
    "```\n"
   ]
  },
  {
   "cell_type": "markdown",
   "metadata": {},
   "source": [
    "### Slide 5 Script"
   ]
  },
  {
   "cell_type": "markdown",
   "metadata": {},
   "source": [
    "---\n",
    "### Slide 6\n",
    "#### Statsmodels Linear Regression\n",
    "```\n",
    "import statsmodels.formula.api as smf\n",
    "\n",
    "result = smf.ols(formula='tip ~ total_bill + size + C(time)', data=tdf).fit()\n",
    "result.summary()\n",
    "```"
   ]
  },
  {
   "cell_type": "markdown",
   "metadata": {},
   "source": [
    "### Slide 6 Script"
   ]
  },
  {
   "cell_type": "markdown",
   "metadata": {},
   "source": [
    "### Slide 7\n",
    "#### Analyze Linear Regression Result\n",
    "<img src='images/lin_reg_result.png' width=400>"
   ]
  },
  {
   "cell_type": "markdown",
   "metadata": {},
   "source": [
    "---\n",
    "## Lesson 2: Introduction to Logistic Regression"
   ]
  },
  {
   "cell_type": "markdown",
   "metadata": {},
   "source": [
    "---\n",
    "### Slide 1\n",
    "#### Logistic Regression\n",
    "- Supervised learning\n",
    "- For classification problems\n",
    "- Feature standardization prefered\n",
    "\n",
    "\n"
   ]
  },
  {
   "cell_type": "markdown",
   "metadata": {},
   "source": [
    "---\n",
    "### Slide 1 Script\n"
   ]
  },
  {
   "cell_type": "markdown",
   "metadata": {},
   "source": [
    "---\n",
    "### Slide 2\n",
    "#### Challenger Disaster Investigation\n",
    "<img src='images/oring.png' width=500>\n",
    "<img src='images/sigmoid.png' width=500>"
   ]
  },
  {
   "cell_type": "markdown",
   "metadata": {},
   "source": [
    "---\n",
    "### Slide 2 Script\n"
   ]
  },
  {
   "cell_type": "markdown",
   "metadata": {},
   "source": [
    "---\n",
    "### Slide 3\n",
    "#### Hyperparameters\n",
    "- `C`: inverse of regularization strength, larger `C` reduces overfitting risk.\n",
    "- `class_weight`: weights to be applied to classes when performing regression, default is uniform\n",
    "- `fit_intercept`: specifies if a constant term should be included in the regression, the default is `True`\n",
    "- `random_state`: the seed used to initialize the random number generator, a constant value ensures reproducibility."
   ]
  },
  {
   "cell_type": "markdown",
   "metadata": {},
   "source": [
    "---\n",
    "### Slide 3 Script\n",
    "\n"
   ]
  },
  {
   "cell_type": "markdown",
   "metadata": {},
   "source": [
    "---\n",
    "### Slide 4\n",
    "#### Scikit Learn LogisticRegression model\n",
    "```\n",
    "from sklearn.linear_model import LogisticRegression\n",
    "from sklearn import metrics\n",
    "\n",
    "adult_model = LogisticRegression(C=1E6)\n",
    "adult_model = adult_model.fit(x_train, y_train)\n",
    "\n",
    "predicted = adult_model.predict(x_test)\n",
    "score = metrics.accuracy_score(y_test, predicted)\n",
    "```\n"
   ]
  },
  {
   "cell_type": "markdown",
   "metadata": {},
   "source": [
    "---\n",
    "### Slide 4 Script\n",
    "\n"
   ]
  },
  {
   "cell_type": "markdown",
   "metadata": {},
   "source": [
    "---\n",
    "### Slide 5\n",
    "### Classification Metrics\n",
    "#### Classification Report\n",
    "`metrics.classification_report(y_test, predicted)`\n",
    "<img src='images/classification_report.png' width=400>"
   ]
  },
  {
   "cell_type": "markdown",
   "metadata": {},
   "source": [
    "---\n",
    "### Slide 5 Script\n"
   ]
  },
  {
   "cell_type": "markdown",
   "metadata": {},
   "source": [
    "---\n",
    "### Slide 6\n",
    "### Classification Metrics\n",
    "#### Confusion Matrix\n",
    "<img src='images/confusion_matrix.png' width=400>"
   ]
  },
  {
   "cell_type": "markdown",
   "metadata": {},
   "source": [
    "---\n",
    "### Slide 6 Script\n",
    "\n"
   ]
  },
  {
   "cell_type": "markdown",
   "metadata": {},
   "source": [
    "---\n",
    "## Lesson 3: Introduction to Decision Tree"
   ]
  },
  {
   "cell_type": "markdown",
   "metadata": {},
   "source": [
    "---\n",
    "### Slide 1\n",
    "#### Decision Tree\n",
    "- Supervised learning\n",
    "- For both classification and regression problems\n",
    "- Can handle categorical feature(numerical)\n",
    "- Feature scaling is not needed\n",
    "\n"
   ]
  },
  {
   "cell_type": "markdown",
   "metadata": {},
   "source": [
    "---\n",
    "### Slide 1 Script\n"
   ]
  },
  {
   "cell_type": "markdown",
   "metadata": {},
   "source": [
    "---\n",
    "### Slide 2\n",
    "#### Decition Tree\n",
    "<img src=\"images/dt_sunglasses.png\" width=600>"
   ]
  },
  {
   "cell_type": "markdown",
   "metadata": {},
   "source": [
    "### Slide 2 Script"
   ]
  },
  {
   "cell_type": "markdown",
   "metadata": {},
   "source": [
    "---\n",
    "### Slide 3\n",
    "#### Decision Tree Classifier\n",
    "```\n",
    "from sklearn.tree import DecisionTreeClassifier\n",
    "\n",
    "dtc = DecisionTreeClassifier(random_state=23)\n",
    "dtc = dtc.fit(d_train, l_train)\n",
    "score = dtc.score(d_test, l_test)\n",
    "```"
   ]
  },
  {
   "cell_type": "markdown",
   "metadata": {},
   "source": [
    "### Slide 3 Script"
   ]
  },
  {
   "cell_type": "markdown",
   "metadata": {},
   "source": [
    "---\n",
    "### Slide 4\n",
    "#### Decision Tree Regressor\n",
    "```\n",
    "from sklearn.tree import DecisionTreeRegressor\n",
    "\n",
    "auto_model = DecisionTreeRegressor(random_state=23)\n",
    "auto_model = auto_model.fit(ind_train, dep_train)\n",
    "score = auto_model.score(ind_test, dep_test)\n",
    "```"
   ]
  },
  {
   "cell_type": "markdown",
   "metadata": {},
   "source": [
    "### Slide 4 Script"
   ]
  },
  {
   "cell_type": "markdown",
   "metadata": {},
   "source": [
    "---\n",
    "## Review Script\n",
    "\n",
    "\n",
    "The first module's assignment is fairly straightforward. Just remember to work on the problems in order.\n",
    "\n",
    "Good luck."
   ]
  }
 ],
 "metadata": {
  "kernelspec": {
   "display_name": "Python 3",
   "language": "python",
   "name": "python3"
  },
  "language_info": {
   "codemirror_mode": {
    "name": "ipython",
    "version": 3
   },
   "file_extension": ".py",
   "mimetype": "text/x-python",
   "name": "python",
   "nbconvert_exporter": "python",
   "pygments_lexer": "ipython3",
   "version": "3.7.1"
  }
 },
 "nbformat": 4,
 "nbformat_minor": 2
}
