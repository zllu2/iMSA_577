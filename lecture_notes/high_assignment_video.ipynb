{
 "cells": [
  {
   "cell_type": "markdown",
   "metadata": {},
   "source": [
    "In this video I'm going to show you how to complete the high engagement assignment. There are two assignments for each module, the foundamental assignment is on the coursera jupyter hub server and the high engagement assignment is on a different jupyterhub server.\n",
    "\n",
    "The high engagement assignment link is accy576.giesbusiness.illinois.edu. You can find this link in the accy 576 compass page.\n",
    "\n",
    "When you open this link for the first time, it'll ask you to sign in with your illnois netid"
   ]
  }
 ],
 "metadata": {
  "kernelspec": {
   "display_name": "Python 3",
   "language": "python",
   "name": "python3"
  },
  "language_info": {
   "codemirror_mode": {
    "name": "ipython",
    "version": 3
   },
   "file_extension": ".py",
   "mimetype": "text/x-python",
   "name": "python",
   "nbconvert_exporter": "python",
   "pygments_lexer": "ipython3",
   "version": "3.7.3"
  }
 },
 "nbformat": 4,
 "nbformat_minor": 2
}
