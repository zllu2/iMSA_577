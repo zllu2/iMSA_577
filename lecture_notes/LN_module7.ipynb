{
 "cells": [
  {
   "cell_type": "markdown",
   "metadata": {},
   "source": [
    "# Module 7 Introduction to Clustering"
   ]
  },
  {
   "cell_type": "markdown",
   "metadata": {},
   "source": [
    "---\n",
    "## Introduction Script\n",
    "Hello and welcome. \n",
    "\n",
    "\n",
    "As I mentioned before, please watch the video to learn the concepts behind the algorithms, and more importantly, go through the lesson notebooks and practice as much as you can."
   ]
  },
  {
   "cell_type": "markdown",
   "metadata": {},
   "source": [
    "---\n",
    "## Lesson 1: Introduction to K-means Clustering"
   ]
  },
  {
   "cell_type": "markdown",
   "metadata": {},
   "source": [
    "---\n",
    "### Slide 1\n",
    "#### K-means\n",
    "\n",
    "1. Choose k centers randomly\n",
    "2. Form k groups by centers\n",
    "3. Recalculate centers of k groups\n",
    "4. Repeat 2-4 until no change in groups or reach max_iter\n",
    "5. Calculate total distance D\n",
    "6. Repeat 1-6 pre-defined times(n_init)\n",
    "7. Choose groups with smallest D as final clusters"
   ]
  },
  {
   "cell_type": "markdown",
   "metadata": {},
   "source": [
    "### Slide 1 Script\n"
   ]
  },
  {
   "cell_type": "markdown",
   "metadata": {},
   "source": [
    "---\n",
    "### Slide 2\n",
    "\n",
    "#### K-means\n",
    "\n",
    "##### Image need to change\n",
    "<img src='https://miro.medium.com/max/638/0*rrzG3LyOnAvOepbJ.png' width=500>"
   ]
  },
  {
   "cell_type": "markdown",
   "metadata": {},
   "source": [
    "---\n",
    "### Slide 2 Script\n"
   ]
  },
  {
   "cell_type": "markdown",
   "metadata": {},
   "source": [
    "---\n",
    "### Slide 3\n",
    "\n",
    "#### Principal Component Analysis(PCA)\n",
    "- Reduce Dimension\n",
    "- Retain major characteristics of original features\n",
    "- Help visualize clusters\n"
   ]
  },
  {
   "cell_type": "markdown",
   "metadata": {},
   "source": [
    "---\n",
    "### Slide 3 Script\n",
    "\n",
    "After text tokenization, we can conut appearence of words in the text. This is the list of word counts. From the top 2 used words, learn and data, we can already have a good guess on what the text is about."
   ]
  },
  {
   "cell_type": "markdown",
   "metadata": {},
   "source": [
    "---\n",
    "### Slide 4\n",
    "#### Sklearn KMeans\n",
    "\n",
    "- Standardize features\n",
    "- No train-test split\n",
    "- Hyperparameters\n",
    "    - `n_clusters`: number of clusters, $k$\n",
    "    - `n_init`: number of times to choose different initial centers, default 10.\n",
    "    - `max_iter`: maximum number of iterations for the algorithm in any given run, default 300.\n",
    "    - `random_state`: random seed, enables reproducibility.\n",
    "- Steps to apply KMeans\n",
    " - Create KMeans object with hyperparameter values\n",
    " - Fit with dataset\n",
    " - Predit dateset to get clusters\n"
   ]
  },
  {
   "cell_type": "markdown",
   "metadata": {},
   "source": [
    "---\n",
    "### Slide 4 Script\n",
    "\n"
   ]
  },
  {
   "cell_type": "markdown",
   "metadata": {},
   "source": [
    "---\n"
   ]
  },
  {
   "cell_type": "markdown",
   "metadata": {},
   "source": [
    "### Slide 5\n",
    "#### Sklearn KMeans\n",
    "```\n",
    "from sklearn.cluster import KMeans\n",
    "\n",
    "# We build our model assuming three clusters\n",
    "k_means = KMeans(n_clusters=3, n_init=25, random_state=23)\n",
    "\n",
    "# We fit our original data\n",
    "k_means.fit(x)\n",
    "\n",
    "# Obtain the predictions\n",
    "y_cluster = k_means.predict(x)\n",
    "```"
   ]
  },
  {
   "cell_type": "markdown",
   "metadata": {},
   "source": [
    "### Slide 5 Script\n",
    "\n"
   ]
  },
  {
   "cell_type": "markdown",
   "metadata": {},
   "source": [
    "### Slide 6\n",
    "#### Determine K - Elbow Method\n",
    "\n",
    "- Use KMeans\n",
    "- Get total distance D for each $k$\n",
    "- Plot D against k\n",
    "- Find elbow"
   ]
  },
  {
   "cell_type": "markdown",
   "metadata": {},
   "source": [
    "### Slide 6 Script"
   ]
  },
  {
   "cell_type": "markdown",
   "metadata": {},
   "source": [
    "### Slide 7\n",
    "#### Elbow Plot\n",
    "<img src='images/elbow.png' width=500>"
   ]
  },
  {
   "cell_type": "markdown",
   "metadata": {},
   "source": [
    "### Slide 7 Script"
   ]
  },
  {
   "cell_type": "markdown",
   "metadata": {},
   "source": [
    "### Slide 8\n",
    "#### Explore Cluster Characteristics\n",
    "<img src='images/cluster_pairplot.png' width=600>"
   ]
  },
  {
   "cell_type": "markdown",
   "metadata": {},
   "source": [
    "### Slide 8 Script"
   ]
  },
  {
   "cell_type": "markdown",
   "metadata": {},
   "source": [
    "### Slide 9\n",
    "#### Clustering Evaluation\n",
    "- Adjusted Rand Index\n",
    " - -1 to 1\n",
    " - Compare with true class\n",
    "- Silhouette\n",
    " - -1 to 1\n",
    " - Don't use true class\n",
    " - Compare distance to assigned center and next closest center"
   ]
  },
  {
   "cell_type": "markdown",
   "metadata": {},
   "source": [
    "### Slide 9 Script"
   ]
  },
  {
   "cell_type": "markdown",
   "metadata": {},
   "source": [
    "---\n",
    "## Lesson 2: K-means Case Study\n",
    "\n"
   ]
  },
  {
   "cell_type": "markdown",
   "metadata": {},
   "source": [
    "---\n",
    "### Slide 1\n",
    "#### Credit Card Data\n",
    "<img src='images/credit_card_dataset.png' width=600>"
   ]
  },
  {
   "cell_type": "markdown",
   "metadata": {},
   "source": [
    "---\n",
    "### Slide 1 Script\n",
    "\n",
    "- TOTAL_PURCHASES : Amount of total purchases made from account \n",
    "- PRC_CASH_ADVANCE : Percent of total purchases that is cash in advance given by the user. Cash in advance purchases are typically on-line purchases.\n",
    "- CREDIT_LIMIT : Limit of Credit Card for user \n",
    "- MINIMUM_PAYMENTS : Minimum amount of payments made by user \n",
    "- PRCFULLPAYMENT : Percent of full payment paid by user \n"
   ]
  },
  {
   "cell_type": "markdown",
   "metadata": {},
   "source": [
    "---\n",
    "### Slide 2\n",
    "#### Determine K\n",
    "<img src='images/elbow_creditcard.png' width=500>\n"
   ]
  },
  {
   "cell_type": "markdown",
   "metadata": {},
   "source": [
    "---\n",
    "### Slide 2 Script\n"
   ]
  },
  {
   "cell_type": "markdown",
   "metadata": {},
   "source": [
    "---\n",
    "### Slide 3\n",
    "#### Clusters Member Counts\n",
    "\n",
    "Cluster 0     : 3436 members  \n",
    "Cluster 1     : 2572 members  \n",
    "Cluster 2     : 1270 members  \n",
    "Cluster 3     : 1233 members  \n",
    "Cluster 4     :   56 members  \n",
    "Cluster 5     :   69 members  "
   ]
  },
  {
   "cell_type": "markdown",
   "metadata": {},
   "source": [
    "---\n",
    "### Slide 3 Script\n",
    "\n"
   ]
  },
  {
   "cell_type": "markdown",
   "metadata": {},
   "source": [
    "### Slide 4\n",
    "#### Explore Clusters with Pair Plot\n",
    "<img src='images/creditcard_pairplot.png' width=600>"
   ]
  },
  {
   "cell_type": "markdown",
   "metadata": {},
   "source": [
    "### Slide 4 Script"
   ]
  },
  {
   "cell_type": "markdown",
   "metadata": {},
   "source": [
    "---\n",
    "### Slide 5\n",
    "#### Visualize Data\n",
    "<img src='images/pca_creditcard.png' width=500>"
   ]
  },
  {
   "cell_type": "markdown",
   "metadata": {},
   "source": [
    "---\n",
    "### Slide 5 Script\n"
   ]
  },
  {
   "cell_type": "markdown",
   "metadata": {},
   "source": [
    "---\n",
    "## Lesson 3: Introduction to Density-Based Clustering\n",
    "\n",
    "- DBSCAN\n",
    "- Scikit Learn DBSCAN Model\n",
    "- Hyperparameter Estimation\n",
    "- Kmeans vs. DBSCAN\n"
   ]
  },
  {
   "cell_type": "markdown",
   "metadata": {},
   "source": [
    "### Lesson 3 Script\n"
   ]
  },
  {
   "cell_type": "markdown",
   "metadata": {},
   "source": [
    "---\n",
    "### Slide 1\n",
    "#### DBSCAN\n",
    "- Hyperparameters\n",
    " - `eps`: Max distance between two points to be considered as in same neighbor\n",
    " - `min_samples`: Number of points that must lie within the neighborhood of the current point in order for it to be considered a _core point_. \n",
    "\n",
    "- Point Categories\n",
    " - **Core point**: at least `min_samples` of points within distance `eps`.\n",
    " - **Border point**: a core point, but within `eps` to at least one core point.\n",
    " - **Noise point**: Neither core point nor border point.\n",
    "\n",
    "- Clusters\n",
    " - All core points that are reachable to each other form a cluster. All border points of these core points also belong to the cluster.\n"
   ]
  },
  {
   "cell_type": "markdown",
   "metadata": {},
   "source": [
    "### Slide 1 Script"
   ]
  },
  {
   "cell_type": "markdown",
   "metadata": {},
   "source": [
    "---\n",
    "### Slide 2\n",
    "#### DBSCAN\n",
    "<img src='images/dbscan_iris.png' width='500'>"
   ]
  },
  {
   "cell_type": "markdown",
   "metadata": {},
   "source": [
    "\n",
    "### Slide 2 Script"
   ]
  },
  {
   "cell_type": "markdown",
   "metadata": {},
   "source": [
    "### Slide 3\n",
    "#### Sklearn DBSCAN\n",
    "```\n",
    "from sklearn.cluster import DBSCAN\n",
    "\n",
    "# Apply DBSCAN\n",
    "db = DBSCAN(eps=0.575, min_samples=10)\n",
    "db.fit(x)\n",
    "```"
   ]
  },
  {
   "cell_type": "markdown",
   "metadata": {},
   "source": [
    "### Slide 3 Script"
   ]
  },
  {
   "cell_type": "markdown",
   "metadata": {},
   "source": [
    "### Slide 4\n",
    "#### Hyperparameter Estimation\n",
    "\n",
    "- `min_samples`\n",
    " - Greater than number of features. ie. 2 times\n",
    "- `eps`\n",
    " - small `eps` preferable\n",
    " - k-distance graph"
   ]
  },
  {
   "cell_type": "markdown",
   "metadata": {},
   "source": [
    "### Slide 4 Script\n",
    "Now let's look at a popular text analysis application, so called sentiment analysis.\n",
    "\n",
    "Sentiment analysis identifies and extracts subjective information in source material, and helping a business to understand the social sentiment of their brand, product or service while monitoring online conversations. In sentiment analysis, target label is customer sentiment, like positive, neutral or negative, toward a product or service."
   ]
  },
  {
   "cell_type": "markdown",
   "metadata": {},
   "source": [
    "### Slide 5\n",
    "#### K-distance Graph\n",
    "\n",
    "- Plot distance to nearest neighbor for all data points\n",
    "- Choose a distance at elbow that covers majority of data points\n",
    "\n",
    "<img src='images/k_distance.png' width=500>"
   ]
  },
  {
   "cell_type": "markdown",
   "metadata": {},
   "source": [
    "### Slide 5 Script\n"
   ]
  },
  {
   "cell_type": "markdown",
   "metadata": {},
   "source": [
    "### Slide 6\n",
    "#### k-Means vs. DBSCAN\n",
    "\n",
    "#### k-Means works well:\n",
    "<img src='images/k_means_good.png' width=400>\n",
    "\n",
    "#### k-Means works poorly but DBSCAN works well:\n",
    "<img src='images/dbscan_good.png' width=400>\n"
   ]
  },
  {
   "cell_type": "markdown",
   "metadata": {},
   "source": [
    "### Slide 6 Script\n"
   ]
  },
  {
   "cell_type": "markdown",
   "metadata": {},
   "source": [
    "---\n",
    "## Review Script\n",
    "\n",
    "\n",
    "The first module's assignment is fairly straightforward. Just remember to work on the problems in order.\n",
    "\n",
    "Good luck."
   ]
  },
  {
   "cell_type": "code",
   "execution_count": null,
   "metadata": {},
   "outputs": [],
   "source": []
  }
 ],
 "metadata": {
  "kernelspec": {
   "display_name": "Python 3",
   "language": "python",
   "name": "python3"
  },
  "language_info": {
   "codemirror_mode": {
    "name": "ipython",
    "version": 3
   },
   "file_extension": ".py",
   "mimetype": "text/x-python",
   "name": "python",
   "nbconvert_exporter": "python",
   "pygments_lexer": "ipython3",
   "version": "3.7.3"
  }
 },
 "nbformat": 4,
 "nbformat_minor": 4
}
