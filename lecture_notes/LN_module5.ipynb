{
 "cells": [
  {
   "cell_type": "markdown",
   "metadata": {},
   "source": [
    "# Module 5 Model Optimization"
   ]
  },
  {
   "cell_type": "markdown",
   "metadata": {},
   "source": [
    "---\n",
    "## Introduction Script\n",
    "Hello and welcome. \n",
    "\n",
    "\n",
    "As I mentioned before, please watch the video to learn the concepts behind the algorithms, and more importantly, go through the lesson notebooks and practice as much as you can."
   ]
  },
  {
   "cell_type": "markdown",
   "metadata": {},
   "source": [
    "---\n",
    "## Lesson 1: Introduction to Feature Selection"
   ]
  },
  {
   "cell_type": "markdown",
   "metadata": {},
   "source": [
    "---\n",
    "### Slide 1\n",
    "#### The key benefits feature selection:\n",
    "\n",
    "- Reduces Overfitting\n",
    "- Improves Accuracy\n",
    "- Reduces Training Time\n",
    "- Improves Interpretability\n"
   ]
  },
  {
   "cell_type": "markdown",
   "metadata": {},
   "source": [
    "### Slide 1 Script\n",
    "This lesson explores feature selection, which is a technique for improving the performance of machine learning algorithms by focusing on those features that contain the most predictive power.\n",
    "\n",
    "The key benefits of performing feature selection on the data are:\n",
    "\n",
    "- Reduces Overfitting: Less redundant data means less chance to make decisions based on noise.\n",
    "- Improves Accuracy: Less misleading data means improvements in modeling accuracy.\n",
    "- Reduces Training Time: Less data means algorithms train faster.\n",
    "- Improves Interpretability: Less complexity of a model makes it easier to interpret.\n"
   ]
  },
  {
   "cell_type": "markdown",
   "metadata": {},
   "source": [
    "---\n",
    "### Slide 2\n",
    "\n",
    "#### Feature selection algorithms:\n",
    "- Filter methods\n",
    "- Wrapper methods\n",
    "- Embedded methods\n"
   ]
  },
  {
   "cell_type": "markdown",
   "metadata": {},
   "source": [
    "---\n",
    "### Slide 2 Script\n"
   ]
  },
  {
   "cell_type": "markdown",
   "metadata": {},
   "source": [
    "---\n",
    "### Slide 3\n",
    "\n",
    "#### Filter Methods\n",
    "- **Variance Threshold**\n",
    " - Rank features by variance\n",
    " - Feature Scaling is necessary\n",
    " - Doesn't use target feature\n",
    "- **Univariate Techniques**\n",
    " - Rate features individually\n",
    " - Relationship between individual feature and target feature"
   ]
  },
  {
   "cell_type": "markdown",
   "metadata": {},
   "source": [
    "---\n",
    "### Slide 3 Script\n",
    "Filter methods typically involve the application of a statistical measure to score the different features. This score allows the features to be ranked. We introduce VarianceThreshold in this lesson. This method rank features by their variance. The idea is straightforward, feature with higher variance normally contains more predictive information. \n"
   ]
  },
  {
   "cell_type": "markdown",
   "metadata": {},
   "source": [
    "---\n",
    "### Slide 4\n",
    "#### Wrapper methods\n",
    "\n",
    "- Recursive Feature Extraction"
   ]
  },
  {
   "cell_type": "markdown",
   "metadata": {},
   "source": [
    "---\n",
    "### Slide 4 Script\n"
   ]
  },
  {
   "cell_type": "markdown",
   "metadata": {},
   "source": [
    "---\n"
   ]
  },
  {
   "cell_type": "markdown",
   "metadata": {},
   "source": [
    "### Slide 5\n",
    "#### Embedded Methods\n",
    "- Rank features during training\n",
    "- Model dependent\n",
    " - Decision Tree\n",
    " - Random Forest"
   ]
  },
  {
   "cell_type": "markdown",
   "metadata": {},
   "source": [
    "### Slide 5 Script"
   ]
  },
  {
   "cell_type": "markdown",
   "metadata": {},
   "source": [
    "---\n",
    "## Lesson 2: Introduction to Cross Validation\n",
    "\n",
    "Make image 1,2,3 consistant"
   ]
  },
  {
   "cell_type": "markdown",
   "metadata": {},
   "source": [
    "---\n",
    "### Slide 1\n",
    "#### Train Test Split vs. Cross Validation\n",
    "\n",
    "<img src='https://miro.medium.com/max/2984/1*pJ5jQHPfHDyuJa4-7LR11Q.png' width=500>"
   ]
  },
  {
   "cell_type": "markdown",
   "metadata": {},
   "source": [
    "---\n",
    "### Slide 1 Script\n",
    "\n",
    "This lesson introduces cross-validation, which is a technique used to evaluate machine learning models by training the models on subsets of the available data and evaluating them on the complementary subset of the data. Cross validation helps to evaluate models more accurately and can be used to select the best model hyperparameters.\n",
    "\n"
   ]
  },
  {
   "cell_type": "markdown",
   "metadata": {},
   "source": [
    "---\n",
    "### Slide 2--Not needed\n",
    "#### Cross Validation\n",
    "\n",
    "- `KFold`\n",
    "- `StratifiedKFold`\n",
    "- `GroupKFold` similar to `KFold`, but limits the testing data to only one group within each fold.\n",
    "- `LeaveOneOut` iteratively leaves one observation out to validate the model trained on the remaining data.\n",
    "- `LeavePOut` iteratively leaves $P$ observations out to validate the model trained on the remaining data.\n",
    "- `ShuffleSplit` generates a user defined number of train/validate data sets, by first randomly shuffling the data.\n"
   ]
  },
  {
   "cell_type": "markdown",
   "metadata": {},
   "source": [
    "---\n",
    "### Slide 2 Script\n"
   ]
  },
  {
   "cell_type": "markdown",
   "metadata": {},
   "source": [
    "---\n",
    "### Slide 3\n",
    "#### KFold\n",
    "\n",
    "<img src=\"https://miro.medium.com/max/2736/1*rgba1BIOUys7wQcXcL4U5A.png\" width=\"600\">\n",
    "\n"
   ]
  },
  {
   "cell_type": "markdown",
   "metadata": {},
   "source": [
    "---\n",
    "### Slide 3 Script\n",
    "\n"
   ]
  },
  {
   "cell_type": "markdown",
   "metadata": {},
   "source": [
    "---\n",
    "### Slide 4\n",
    "#### Stratified KFold\n",
    "<img src=\"https://image.noelshack.com/fichiers/2018/20/6/1526716452-general-tips-for-participating-kaggle-competitions-13-638.jpg\" width='500'>\n"
   ]
  },
  {
   "cell_type": "markdown",
   "metadata": {},
   "source": [
    "---\n",
    "### Slide 4 Script\n",
    "\n"
   ]
  },
  {
   "cell_type": "markdown",
   "metadata": {},
   "source": [
    "---\n",
    "### Slide 5\n",
    "#### Evaluate Model with Cross-Validation\n",
    "```\n",
    "from sklearn.model_selection import StratifiedKFold\n",
    "from sklearn.model_selection import cross_val_score\n",
    "\n",
    "skf = StratifiedKFold(n_splits=10, random_state=23)\n",
    "score = cross_val_score(adult_model, features, label, cv=skf)\n",
    "\n",
    "```\n"
   ]
  },
  {
   "cell_type": "markdown",
   "metadata": {},
   "source": [
    "---\n",
    "### Slide 5 Script\n",
    "\n",
    "When there are two outcomes, 0 and 1, It is a table with 4 different combinations of predicted and actual values.\n"
   ]
  },
  {
   "cell_type": "markdown",
   "metadata": {},
   "source": [
    "### Slide 6\n",
    "#### Custom Scoring\n",
    "```\n",
    "precision_score = cross_val_score(adult_model, features, label, cv=skf, scoring='precision')\n",
    "recall_score = cross_val_score(adult_model, features, label, cv=skf, scoring='recall')\n",
    "auc_score = cross_val_score(adult_model, features, label, cv=skf, scoring='roc_auc')\n",
    "```"
   ]
  },
  {
   "cell_type": "markdown",
   "metadata": {},
   "source": [
    "### Slide 6 Scrip"
   ]
  },
  {
   "cell_type": "markdown",
   "metadata": {},
   "source": [
    "---\n",
    "## Lesson 3: Introduction to Model Selection"
   ]
  },
  {
   "cell_type": "markdown",
   "metadata": {},
   "source": [
    "---\n",
    "### Slide 1\n",
    "#### Model Selection\n",
    "- Use cross validation\n",
    "- Grid Search\n",
    "- Random Grid Search\n"
   ]
  },
  {
   "cell_type": "markdown",
   "metadata": {},
   "source": [
    "---\n",
    "### Slide 1 Script\n"
   ]
  },
  {
   "cell_type": "markdown",
   "metadata": {},
   "source": [
    "---\n",
    "### Slide 2\n",
    "#### Grid Search  (Shade lines while speaking)\n",
    "```\n",
    "from sklearn.model_selection import GridSearchCV\n",
    "\n",
    "skf = StratifiedKFold(n_splits=10, random_state=23)\n",
    "knc = KNeighborsClassifier()\n",
    "\n",
    "# Create a dictionary of hyperparameters and values\n",
    "neighbors = [1, 3, 5, 11, 17, 23, 31, 53, 107]\n",
    "params = {'n_neighbors':neighbors}\n",
    "\n",
    "# Create grid search cross validator\n",
    "gse = GridSearchCV(estimator=knc, param_grid=params, cv=skf)\n",
    "gse.fit(features, label)\n",
    "\n",
    "best_n_neighbors=gse.best_estimator_.get_params()[\"n_neighbors\"]\n",
    "```"
   ]
  },
  {
   "cell_type": "markdown",
   "metadata": {},
   "source": [
    "\n",
    "### Slide 2 Script"
   ]
  },
  {
   "cell_type": "markdown",
   "metadata": {},
   "source": [
    "### Slide 3\n",
    "#### Multi-dimensional Grid Search\n",
    "```\n",
    "neighbors = [1, 3, 5, 11, 17, 23, 31, 53, 107]\n",
    "weights = ['uniform', 'distance']\n",
    "\n",
    "knc = KNeighborsClassifier()\n",
    "skf = StratifiedKFold(n_splits=10, random_state=23)\n",
    "\n",
    "params = {'n_neighbors':neighbors, 'weights':weights}\n",
    "```"
   ]
  },
  {
   "cell_type": "markdown",
   "metadata": {},
   "source": [
    "### Slide 3 Script"
   ]
  },
  {
   "cell_type": "markdown",
   "metadata": {},
   "source": [
    "### Slide 4\n",
    "#### Randomized Grid Search\n",
    "```\n",
    "from sklearn.model_selection import RandomizedSearchCV\n",
    "\n",
    "knc = KNeighborsClassifier()\n",
    "skf = StratifiedKFold(n_splits=10, random_state=23)\n",
    "\n",
    "neighbors = range(1, 51)\n",
    "weights = ['uniform', 'distance']\n",
    "params = {'n_neighbors':neighbors, 'weights':weights}\n",
    " \n",
    "# Run randomized search\n",
    "rscv = RandomizedSearchCV(knc, param_distributions=params, n_iter=20, random_state=23)\n",
    "```"
   ]
  },
  {
   "cell_type": "markdown",
   "metadata": {},
   "source": [
    "### Slide 4 Script"
   ]
  },
  {
   "cell_type": "markdown",
   "metadata": {},
   "source": [
    "---\n",
    "## Review Script\n",
    "\n",
    "\n",
    "The first module's assignment is fairly straightforward. Just remember to work on the problems in order.\n",
    "\n",
    "Good luck."
   ]
  },
  {
   "cell_type": "code",
   "execution_count": null,
   "metadata": {},
   "outputs": [],
   "source": []
  }
 ],
 "metadata": {
  "kernelspec": {
   "display_name": "Python 3",
   "language": "python",
   "name": "python3"
  },
  "language_info": {
   "codemirror_mode": {
    "name": "ipython",
    "version": 3
   },
   "file_extension": ".py",
   "mimetype": "text/x-python",
   "name": "python",
   "nbconvert_exporter": "python",
   "pygments_lexer": "ipython3",
   "version": "3.7.3"
  }
 },
 "nbformat": 4,
 "nbformat_minor": 4
}
