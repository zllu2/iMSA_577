{
 "cells": [
  {
   "cell_type": "markdown",
   "metadata": {},
   "source": [
    "# Module 8 Introduction to Time Series Analysis"
   ]
  },
  {
   "cell_type": "markdown",
   "metadata": {},
   "source": [
    "# Introduction"
   ]
  },
  {
   "cell_type": "markdown",
   "metadata": {},
   "source": [
    "### Slide 1\n",
    "#### Module 8: Introduction to Time Series Data\n",
    "- Working with date and time\n",
    "- Analyzing time series data"
   ]
  },
  {
   "cell_type": "markdown",
   "metadata": {},
   "source": [
    "---\n",
    "### Slide 1 script\n",
    "Hello and welcome. \n",
    "\n",
    "In this module, we will introduce time series data, which is a series of data points indexed in time order. Some common examples of time series data include daily stock price and hourly weather data.\n",
    "\n",
    "Time series anaysis contains various methods for analyzing time series data in order to extract meaningful statistics and other characteristics of the data. Time series analysis is a very big topic, especially the time series forcasting, we can devote a whole semester on the topic.\n",
    "\n",
    "In this module, we will introduce time series data and time series analysis briefly. We will not cover time series forcasting.\n",
    "\n",
    "As the last module of the course, this module has two lessons.\n",
    "\n",
    "In lesson one, we'll review date and time in the dataset, including concept of timezone and how to convert a date time column to data time index. Unlike the datasets we've used so far, whose index are simply row numbers, the time series data has a date time index.\n",
    "\n",
    "In lesson two, we'll introduct some basic time series analysis techniques, including resampling, slicing and seasonal decomposition."
   ]
  },
  {
   "cell_type": "markdown",
   "metadata": {},
   "source": [
    "---\n",
    "## Lesson 1: Working with Times and Dates"
   ]
  },
  {
   "cell_type": "markdown",
   "metadata": {},
   "source": [
    "---\n",
    "### Slide 1\n",
    "#### Date Time Related Modules\n",
    "\n",
    "- time\n",
    "- datetime\n",
    " - time\n",
    " - date\n",
    " - **datetime**\n",
    " - timezone\n",
    " - **timedelta**"
   ]
  },
  {
   "cell_type": "markdown",
   "metadata": {},
   "source": [
    "### Slide 1 Script\n",
    "\n",
    "in this lesson, we will first introduce some date and time related python modules including time and datetime module. \n",
    "\n",
    "In datetime module, we will focus on datetime and timedelta class which are used frequently in data analytics. Please don't be confused by the same name datetime. One is module name and one is class name. \n",
    "\n",
    "Now let's start with the time module. "
   ]
  },
  {
   "cell_type": "markdown",
   "metadata": {},
   "source": [
    "---\n",
    "### Slide 2\n",
    "\n",
    "#### time\n",
    "- Epoch: 1/1/1970(UTC)\n",
    "- timestamp: number of seconds since Epoch.\n",
    "\n",
    "```\n",
    "import time as tm\n",
    "\n",
    "print(tm.time())\n",
    "\n",
    "```\n",
    "   `1569509792.913162`"
   ]
  },
  {
   "cell_type": "markdown",
   "metadata": {},
   "source": [
    "---\n",
    "### Slide 2 Script\n",
    "\n",
    "Some dataset uses timestamp values in date time related columns. The timestamp of a specific date is the number of seconds from the epoch to the date. The Epoch is the midnight of 1/1/1970 in Coordinated Universal Time. Coordinated Universal Time or UTC is a time standard, in some areas, UTC time is same as Greenwich mean time or GMT, but strictly to say, utc is not a timezone. It's a standard time widely used in computer system. For example, for an online assignment, we can set the deadline to sunday midngith UTC. If you live in Chicago, the deadline will be 5am on monday morning, or 6am during the summer daylight saving period.\n",
    "\n",
    "We can use the time module to get the time stamp of current time as shown in the sample code in this slide. Of course, every time you call the time function you will get different value since the function returns the time stamp of the time you run the function.\n",
    "\n",
    "You can also convert a timestamp back to a time."
   ]
  },
  {
   "cell_type": "markdown",
   "metadata": {},
   "source": [
    "---\n",
    "### Slide 3\n",
    "\n",
    "#### datetime module\n",
    "\n",
    "##### datetime\n",
    "\n",
    "```\n",
    "from datetime import datetime\n",
    "\n",
    "print(datetime.now())\n",
    "\n",
    "2019-09-26 09:56:32.959847\n",
    "```\n",
    "\n",
    "##### timedelta\n",
    "```\n",
    "from datetime import datetime, timedelta\n",
    "\n",
    "# days to next Olympic which starts on July 24, 2020\n",
    "(datetime(2020,7,24) - datetime.now()).days\n",
    "\n",
    "#24 hours ago\n",
    "datetime.now() - timedelta(hours=24)\n",
    "```"
   ]
  },
  {
   "cell_type": "markdown",
   "metadata": {},
   "source": [
    "---\n",
    "### Slide 3 Script(Explain with the slide, don't read script)\n",
    "\n",
    "Datetime module is the most used library in date and time related operations. The two most used classes are datetime and timedelta.\n",
    "\n",
    "Please pay attention to the import clause in the code, to import datetime class, you need to use \n",
    "\n",
    "from datetime import datetime\n",
    "\n",
    "the first datetime is the module name, the second datetime is the class name.\n",
    "\n",
    "datetime class includes many functions to manipulate date and time data, including converting a date time string to a date time object.\n",
    "\n",
    "timedelta is a class that defines difference between two times. You can define timedelta in different unit like  seconds, minutes, hours, days etc.\n",
    "\n",
    "(focus on the slide)\n",
    "This line of code returns the number of days to the next olympic game. We first construct a datetime object with the 2020 olympic start date, then minus current day, this returns a time delta, we then get the number of days from the days attribute of the timedelta object.\n",
    "\n",
    "The next line shows how to get the date of one day before current date. We first get current date by calling now() function in datetime class, then minus timedelta of 24 hours to get the date of one day ago.\n",
    "\n",
    "So this expression returns a datetime object that represents one day before current time.\n"
   ]
  },
  {
   "cell_type": "markdown",
   "metadata": {},
   "source": [
    "---\n",
    "### Slide 4\n",
    "#### Datetime Format\n",
    "\n",
    "**%m**: Month as a zero-padded number, ie. \"09\".  \n",
    "**%d**: Day of the month as a zero-padded number, ie. \"30\".  \n",
    "**%Y**: Year with century as a number, ie. \"2019\".  \n",
    "**%b**: Month as locale’s abbreviated name. ie. \"Sep\"  \n",
    "**%H**: Hour (24-hour clock) ie, \"23\".  \n",
    "**%M**: Minute as a zero-padded number, ie. \"59\"  \n",
    "**%S**: Second as a zero-padded number, ie. \"59\"  \n"
   ]
  },
  {
   "cell_type": "markdown",
   "metadata": {},
   "source": [
    "---\n",
    "### Slide 4 Script\n",
    "The datetime class can be used to convert datetime string to datetime object or from datetime object to a datetime string in certain format. To convert a datetim string, we need to tell python the format of the datetime string.\n",
    "\n",
    "This is a list of datetime formats. %m means two digit month, %d represents two digit day, % capital Y represents 4 digit year. There are many more different format strings which you can find on the online document of datatime class.\n",
    "\n",
    "With the format string, we can use functions in datetime class to convert a datetime object or string.\n"
   ]
  },
  {
   "cell_type": "markdown",
   "metadata": {},
   "source": [
    "---\n"
   ]
  },
  {
   "cell_type": "markdown",
   "metadata": {},
   "source": [
    "### Slide 5\n",
    "#### datetime to string\n",
    "##### datetime.strftime()\n",
    "```\n",
    "from datetime import datetime\n",
    "#define a demo date of September 30, 2019\n",
    "demo_date = datetime(2019, 9, 30)\n",
    "#09/30/2019\n",
    "print(demo_date.strftime('%m/%d/%Y'))\n",
    "#Sep 30, 2019\n",
    "print(demo_date.strftime('%b %d, %Y'))\n",
    "#2019-09-30 00:00:00\n",
    "print(demo_date.strftime('%Y-%m-%d %H:%M:%S'))\n",
    "```"
   ]
  },
  {
   "cell_type": "markdown",
   "metadata": {},
   "source": [
    "### Slide 5 Script\n",
    "This is the python code to convert a datetime object to a datetime string.\n",
    "We first define a datetime object for september 30/2019, then call strftime function to convert it to a datetime string. In the sample code, we demonstrate 3 different formats. Let's look at the first example.\n",
    "\n",
    "In the first strftime call, we pass %m/%d/%Y, which represents a date format with two digit month, followed by a backslash, then 2 digit day and another back slash, followed by 4 digit year. So the output will be 09/30/2019.\n"
   ]
  },
  {
   "cell_type": "markdown",
   "metadata": {},
   "source": [
    "### Slide 6\n",
    "#### String to datetime \n",
    "##### datetime.strptime()\n",
    "```\n",
    "from datetime import datetime\n",
    "\n",
    "datetime.strptime('09/30/2019', '%m/%d/%Y')\n",
    "```"
   ]
  },
  {
   "cell_type": "markdown",
   "metadata": {},
   "source": [
    "### Slide 6 Script\n",
    "\n",
    "To convert a datetime string to datetime object, we call the datetime function strptime. This time we need to pass both the datetime string and the datetime format string as arguments.\n",
    "\n",
    "The sample code in this slide convert string 09/30/2019 to a datetime object for september 30th, 2019."
   ]
  },
  {
   "cell_type": "markdown",
   "metadata": {},
   "source": [
    "### Slide 7\n",
    "#### DataFrame datetime Manipulation\n",
    "\n",
    "```\n",
    "df['Date_obj'] = pd.to_datetime(df.Date)\n",
    "```"
   ]
  },
  {
   "cell_type": "markdown",
   "metadata": {},
   "source": [
    "### Slide 7 Script\n",
    "Pandas dataframe has a function to_datetime that converts datetime string to datetime object. Pandas is pretty smart in that it can recognize many different datetime formats. But sometimes, we will have to pass datetime format string to the function to make sure the datetime strings are converted as expected.\n",
    "\n",
    "This lesson is all about datetime manipulation with python, please go through the lesson notebook for all the coding details."
   ]
  },
  {
   "cell_type": "markdown",
   "metadata": {},
   "source": [
    "---\n",
    "## Lesson 2: Analyzing Time Series Data\n",
    "\n"
   ]
  },
  {
   "cell_type": "markdown",
   "metadata": {},
   "source": [
    "---\n",
    "### Slide 1\n",
    "#### Time Series Data\n",
    "- A series of data points indexed in time order.\n",
    "- Normally with equal intervals between indexes.\n",
    "- Examples\n",
    " - Daily Dow Jones Index Close\n",
    " - Hourly Weather Data\n",
    "\n"
   ]
  },
  {
   "cell_type": "markdown",
   "metadata": {},
   "source": [
    "---\n",
    "### Slide 1 Script\n",
    "\n",
    "In this lesson we will introduce basic time series analysis. \n",
    "\n",
    "Time series data is a series of data points indexed in time order, normally with equal intervals between indexes. Some time series data examples are daily dow jones index and hourly weather data.\n",
    "\n",
    "We will demonstrate the basic time series analysis with the hourly weather data in beijing.\n"
   ]
  },
  {
   "cell_type": "markdown",
   "metadata": {},
   "source": [
    "---\n",
    "### Slide 2\n",
    "#### Data - Beijing Environment\n",
    "\n",
    "<img src='images/beijing_df.png' width=400>"
   ]
  },
  {
   "cell_type": "markdown",
   "metadata": {},
   "source": [
    "---\n",
    "### Slide 2 Script\n",
    "\n",
    "This is the beijing weather dataset.The first four columns in the dataset are related to date and time. A time series data needs to have a time index, so we will use the 4 columns to create a datetime column and set it as the index of the dataframe."
   ]
  },
  {
   "cell_type": "markdown",
   "metadata": {},
   "source": [
    "---\n",
    "### Slide 3\n",
    "#### Create Time Index\n",
    "\n",
    "```\n",
    "df['TS'] = pd.to_datetime(df.apply(lambda x:\n",
    "                                   datetime(int(x.year), int(x.month), int(x.day), int(x.hour)),\n",
    "                                   axis=1))\n",
    "df.index = pd.DatetimeIndex(df.TS)\n",
    "```\n",
    "<img src='images/beijing_df2.png' width=500>"
   ]
  },
  {
   "cell_type": "markdown",
   "metadata": {},
   "source": [
    "---\n",
    "### Slide 3 Script\n",
    "The first line of the code creates a TS column from year, month, day and hour. We use a lambda function to create a datetime for each row.\n",
    "\n",
    "First, we call apply function on the dataframe. When apply a lambda function on a dataframe, the argument x reppresent a row or a column in the dataframe. We set argument axis to 1 which makes x a row of the dataframe, then we use the column names to get year, month, day and hour for a row from x, and the use the 4 values to create a datetime object.\n",
    "\n",
    "The to_datetime function convert the new column to pandas datetime which can be used as datetime index.\n",
    "\n",
    "We then converte the TS column to a datetime index and set it as the index of the dataframe.\n",
    "\n",
    "Now the new dataframe looks like the table in this slide. The dataframe has a datetime index. \n",
    "\n",
    "After dropping unused columns, we have this clean time seires dataset.\n"
   ]
  },
  {
   "cell_type": "markdown",
   "metadata": {},
   "source": [
    "### Slide 4\n",
    "#### Create Time Index\n",
    "<img src='images/beijing_df3.png' width=300>"
   ]
  },
  {
   "cell_type": "markdown",
   "metadata": {},
   "source": [
    "### Slide 4 Script\n",
    "This dataset has a datetime index, and two features, pm2.5 and TEMP. Notice that there are missing values in the dataset, we would like to deal with the missing values before analyzing the dataset."
   ]
  },
  {
   "cell_type": "markdown",
   "metadata": {},
   "source": [
    "---\n",
    "### Slide 5\n",
    "#### Handling Missing Values\n",
    "```\n",
    "df['pm2.5'] = df['pm2.5'].interpolate(method='time', limit_direction='both')\n",
    "```"
   ]
  },
  {
   "cell_type": "markdown",
   "metadata": {},
   "source": [
    "---\n",
    "### Slide 5 Script\n",
    "The easist way to deal with missing values is to fill them with the mean value of the column. But with time series, it's normally not recommanded to fill missing value with simple column mean. We can interpolate missing values instead. Interpolation will calculate missing value with adjacent values. This makes sense becuause in time series, a value normall has high correlation with adjacent values. for example, the temperate at 10am should be close to that at 9 and 11am. \n",
    "\n",
    "After the missing values are filled, we can plot the time series dataset."
   ]
  },
  {
   "cell_type": "markdown",
   "metadata": {},
   "source": [
    "### Slide 6\n",
    "#### Plot Time Series\n",
    "```\n",
    "fig, ax = plt.subplots(figsize=(12, 6))\n",
    "\n",
    "df.TEMP.plot(lw=0.1, alpha=0.5)\n",
    "\n",
    "ax.set(title='Beijing Temperature',\n",
    "      xlabel='Date', ylabel = 'Degrees (C)')\n",
    "\n",
    "sns.despine(offset=5, trim=True)\n",
    "```"
   ]
  },
  {
   "cell_type": "markdown",
   "metadata": {},
   "source": [
    "### Slide 6 Script\n",
    "\n",
    "we can directly call plot function on a column of the time series dataset. The x axis in the plot is the datetime information, or the index of the dataframe. In this sample code, we plot beijing temperature. The argument lw stands for line width, alpha defines the transparency of the line. With these argument values, we get this plot.\n"
   ]
  },
  {
   "cell_type": "markdown",
   "metadata": {},
   "source": [
    "### Slide 7\n",
    "<img src='images/beijing_temp_plot.png' width=500>"
   ]
  },
  {
   "cell_type": "markdown",
   "metadata": {},
   "source": [
    "### Slide 7 Script\n",
    "You can try different line width and alpha to plot the same plot. For example, use the default values by not passing values for these two arguments. The plot will be pretty ugly because this dataset is hourly dataset, there are a lot of datapoints in 5 years span. Default line width is too thick and default alpha is too dark for this dataset.\n",
    "\n",
    "From the plot we can see a clear yearly cycle because this is the plot of temperatures.\n",
    "\n",
    "Now let's look at some basic time series data manipulation."
   ]
  },
  {
   "cell_type": "markdown",
   "metadata": {},
   "source": [
    "### Slide 8\n",
    "#### Time Series Data Slicing\n",
    "- Specific date: `df['2011-06-01']`\n",
    "- Specific month: `df['2011-01']`\n",
    "- Specific year: `df['2011']`\n",
    "- Time range(end included): `df['2011-01':'2011-12']`"
   ]
  },
  {
   "cell_type": "markdown",
   "metadata": {},
   "source": [
    "### Slide 8 Script\n",
    "A time series data can be sliced in many different ways. For example, in this slide, the first line returns the data for a specific day, the second line returns the data for January of 2011, the third line returns the data for year 2011. the last line returns the data from janurary 2011 to december 2011. \n",
    "\n",
    "Unlike most ranges in python, when you get a range of data from a time series data, the end date is included in the slice. For example, the last line of the code basically returns the data of the whole year 2011, because the end date 2011-12 is interpreted as 12-31-2011 and it is included in the slice."
   ]
  },
  {
   "cell_type": "markdown",
   "metadata": {},
   "source": [
    "### Slide 9\n",
    "#### Rolling Statistics\n",
    "```\n",
    "roll_df = df.rolling(24*14)\n",
    "mn = roll_df.mean()\n",
    "md = roll_df.median()\n",
    "std = roll_df.std()\n",
    "```\n",
    "<img src='images/beijing_rolling.png' width=500>"
   ]
  },
  {
   "cell_type": "markdown",
   "metadata": {},
   "source": [
    "### Slide 9 Script\n",
    "With a time series data, we can easily calculate rolling statistics. We first create a rolling object with a certain rolling window. In this slide we define rolling window to 24*14 period, since the data set has hourly data, 24*14 means 14 24 hours or 14 days. We call mean() to get the rolling average which is the average of previous 14 day's data. Similarly we can get other rolling statistics like median and standard deviation.\n"
   ]
  },
  {
   "cell_type": "markdown",
   "metadata": {},
   "source": [
    "### Slide 10\n",
    "#### Death Cross\n",
    "<img src='images/dow_rolling.png' width=500>"
   ]
  },
  {
   "cell_type": "markdown",
   "metadata": {},
   "source": [
    "### Slide 10 Script\n",
    "\n",
    "One of the more popular rolling statistics in stock trading is the moving average, which is the rolling mean.\n",
    "\n",
    "The plot in this slide shows two moving averages of dow joines industrial average from 2006 to 2010. One is the 50 day moving average, the other is the 200 day moving average. The so called death cross appears just before 2008, when the short term moving average crosses below the long term moving average. A lot of people believe that the death cross indicates a major sell off in the stock market."
   ]
  },
  {
   "cell_type": "markdown",
   "metadata": {},
   "source": [
    "### Slide 11\n",
    "#### Resampling\n",
    "- B:       business day frequency\n",
    "- D:       calendar day frequency\n",
    "- W:       weekly frequency\n",
    "- M:       month end frequency\n",
    "- BM:      business month end frequency\n",
    "- MS:      month start frequency\n",
    "- BMS:     business month start frequency"
   ]
  },
  {
   "cell_type": "markdown",
   "metadata": {},
   "source": [
    "### Slide 11 Script\n",
    "The beijing weather dataset has hourly data. The frequency is too high when you plot for several years data. Time series data supports resampling which changes the frequency of the time series observations. There are many different resampling frequencys and we list a few in this slide.\n",
    "\n",
    "D is for calendar day frequency. If we resample the dataframe to calendar day frequency, the data becomes daily weather data.\n",
    "\n",
    "For business related dataset, we may resample to business day frequency. Then weekend and holidays will not be in the resampled dataset."
   ]
  },
  {
   "cell_type": "markdown",
   "metadata": {},
   "source": [
    "### Slide 12\n",
    "#### Resampling\n",
    "```\n",
    "df.TEMP.resample('BMS').mean().head()\n",
    "```\n",
    "<img src='images/resampling_bms.png' width=400>"
   ]
  },
  {
   "cell_type": "markdown",
   "metadata": {},
   "source": [
    "### Slide 12 Script\n",
    "To resample a dataset, we first create a resample object with a new frequency, then call an aggregate function to calculate the values for each period.\n",
    "\n",
    "In this slide, we resample beijing hourly temperature to business month start frequency, use the mean temperature of the whole month as the temperature of the business month start.\n",
    "\n",
    "From the result we can see that the datetime index frequency is now monthly, and May 2010 data has index may 3rd, this is because may 1st and may 2nd are not business days, since we resample to buisness month start, non-business days are excluded."
   ]
  },
  {
   "cell_type": "markdown",
   "metadata": {},
   "source": [
    "### Slide 13\n",
    "#### Resampling\n",
    "<img src='images/beijing_resample.png' width=600>"
   ]
  },
  {
   "cell_type": "markdown",
   "metadata": {},
   "source": [
    "### Slide 13 Script\n",
    "After we resmple the dataset, we can get a lot more smoother 5 years temperature plot . This slide shows the original plot and the plot from the resampled data.\n"
   ]
  },
  {
   "cell_type": "markdown",
   "metadata": {},
   "source": [
    "### Slide 14\n",
    "#### ## Seasonal Decomposition\n",
    "\n",
    "- Level: The average value in the series.\n",
    "- Trend: The underlying trend in the series.\n",
    "- Seasonality: The repeating short-term cycle in the series.\n",
    "- Noise: The random variation in the series, aka residual.\n"
   ]
  },
  {
   "cell_type": "markdown",
   "metadata": {},
   "source": [
    "### Slide 14 Script\n",
    "A time series data can be decomposed to 4 compoents,\n",
    "\n",
    "the average value in the series, \n",
    "\n",
    "the underlying trend, \n",
    "\n",
    "the repeating short-term cycle and \n",
    "\n",
    "the random variation or residual. This process is called seasonal decomposition. \n",
    "\n",
    "Seasonal decomposition is useful for studying time series data, and exploring changes over time, it can also be used in time series forecasting."
   ]
  },
  {
   "cell_type": "markdown",
   "metadata": {},
   "source": [
    "### Slide 15\n",
    "```\n",
    "from statsmodels.tsa.seasonal import seasonal_decompose\n",
    "decomposition = seasonal_decompose(df.TEMP)\n",
    "\n",
    "trend = decomposition.trend\n",
    "seasonal = decomposition.seasonal\n",
    "residual = decomposition.resid\n",
    "```"
   ]
  },
  {
   "cell_type": "markdown",
   "metadata": {},
   "source": [
    "### Slide 15 Script\n",
    "statsmodels module defines seasonal_decompose function which can be used to decompose a time series data. This piece of code decompose the temperature column.\n",
    "\n",
    "One thing you need to be aware is that trend and seasonal are sensitive to the time frequency. For example, if you want to understand temperature paterns within a day, you can decompose hourly temperature data over a few days. On the other hand, to get yearly temperature pattern, you'd better first resample the data to daily or weekly freqency before decomposing the data."
   ]
  },
  {
   "cell_type": "markdown",
   "metadata": {},
   "source": [
    "### Slide 16\n",
    "##### Trend\n",
    "<img src='images/trend.png' width=500>\n",
    "\n",
    "##### Seasonal\n",
    "<img src='images/seasonal.png' width=500>\n",
    "\n",
    "##### Residual\n",
    "<img src='images/seasonality_residual.png' width=500>"
   ]
  },
  {
   "cell_type": "markdown",
   "metadata": {},
   "source": [
    "### Slide 16 Script\n",
    "\n",
    "#### Trend\n",
    "\n",
    "This is the plot of the original data and the trend of beijing temperature in the first week of july in 2010.\n",
    "The plot indicates that bejing temperature has an upward trend in this period.\n",
    "\n",
    "#### Seasonal\n",
    "\n",
    "The seasonality plot shows a clear cycle in the temperature change within a day.\n",
    "\n",
    "With the help of trend and seasonality, we can estimate the next a few day's temperature. This is the simplest form of time series forcasting.\n",
    "\n",
    "\n",
    "\n"
   ]
  },
  {
   "cell_type": "markdown",
   "metadata": {},
   "source": [
    "---\n",
    "## Review Script\n",
    "\n",
    "In this module we introduced time series data and some basic time series analysis methods. \n",
    "\n",
    "In lesson one, we learned some techniques to manipulate date and time with python. These techniques are very useful in data analytics, not only in time series analysis since there are a lot of date time data in business related datasets. \n",
    "\n",
    "In lesson two, we scratched the surface of the time series analysis which is a very big topic. After this lesson, you should be able to:\n",
    "create datetime index for a time series data,\n",
    "plot a timeseries data,\n",
    "resample and perform seasonal decomposition on a time series data.\n",
    "\n",
    "This module's assignment is fairly straightforward. Just remember to work on the problems in order.\n",
    "\n",
    "Good luck."
   ]
  }
 ],
 "metadata": {
  "kernelspec": {
   "display_name": "Python 3",
   "language": "python",
   "name": "python3"
  },
  "language_info": {
   "codemirror_mode": {
    "name": "ipython",
    "version": 3
   },
   "file_extension": ".py",
   "mimetype": "text/x-python",
   "name": "python",
   "nbconvert_exporter": "python",
   "pygments_lexer": "ipython3",
   "version": "3.7.3"
  }
 },
 "nbformat": 4,
 "nbformat_minor": 4
}
