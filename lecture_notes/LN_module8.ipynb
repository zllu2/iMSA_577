{
 "cells": [
  {
   "cell_type": "markdown",
   "metadata": {},
   "source": [
    "# Module 8 Introduction to Time Series Data"
   ]
  },
  {
   "cell_type": "markdown",
   "metadata": {},
   "source": [
    "---\n",
    "## Introduction Script\n",
    "Hello and welcome. \n",
    "\n",
    "\n",
    "As I mentioned before, please watch the video to learn the concepts behind the algorithms, and more importantly, go through the lesson notebooks and practice as much as you can."
   ]
  },
  {
   "cell_type": "markdown",
   "metadata": {},
   "source": [
    "---\n",
    "## Lesson 1: Working with Times and Dates"
   ]
  },
  {
   "cell_type": "markdown",
   "metadata": {},
   "source": [
    "---\n",
    "### Slide 1\n",
    "#### Date Time Related Modules\n",
    "\n",
    "- time\n",
    "- datetime\n",
    " - time\n",
    " - date\n",
    " - **datetime**\n",
    " - timezone\n",
    " - **timedelta**"
   ]
  },
  {
   "cell_type": "markdown",
   "metadata": {},
   "source": [
    "### Slide 1 Script\n"
   ]
  },
  {
   "cell_type": "markdown",
   "metadata": {},
   "source": [
    "---\n",
    "### Slide 2\n",
    "\n",
    "#### time\n",
    "- Epoch: 1/1/1970(UTC)\n",
    "- timestamp\n",
    "\n",
    "```\n",
    "import time as tm\n",
    "\n",
    "print(tm.time())\n",
    "\n",
    "```\n",
    "   `1569509792.913162`"
   ]
  },
  {
   "cell_type": "markdown",
   "metadata": {},
   "source": [
    "---\n",
    "### Slide 2 Script\n"
   ]
  },
  {
   "cell_type": "markdown",
   "metadata": {},
   "source": [
    "---\n",
    "### Slide 3\n",
    "\n",
    "#### datetime module\n",
    "\n",
    "##### datetime\n",
    "\n",
    "```\n",
    "from datetime import datetime\n",
    "\n",
    "print(datetime.now())\n",
    "\n",
    "2019-09-26 09:56:32.959847\n",
    "```\n",
    "\n",
    "##### timedelta\n",
    "```\n",
    "from datetime import datetime, timedelta\n",
    "\n",
    "# days to next Olympic which starts on July 24, 2020\n",
    "(datetime(2020,7,24) - datetime.now()).days\n",
    "\n",
    "#24 hours ago\n",
    "datetime.now() - timedelta(hours=24)\n",
    "```"
   ]
  },
  {
   "cell_type": "markdown",
   "metadata": {},
   "source": [
    "---\n",
    "### Slide 3 Script\n",
    "\n"
   ]
  },
  {
   "cell_type": "markdown",
   "metadata": {},
   "source": [
    "---\n",
    "### Slide 4\n",
    "#### Datetime Format\n",
    "\n",
    "**%m**: Month as a zero-padded number, ie. \"09\".  \n",
    "**%d**: Day of the month as a zero-padded number, ie. \"30\".  \n",
    "**%Y**: Year with century as a number, ie. \"2019\".  \n",
    "**%b**: Month as locale’s abbreviated name. ie. \"Sep\"  \n",
    "**%H**: Hour (24-hour clock) ie, \"23\".  \n",
    "**%M**: Minute as a zero-padded number, ie. \"59\"  \n",
    "**%S**: Second as a zero-padded number, ie. \"59\"  \n"
   ]
  },
  {
   "cell_type": "markdown",
   "metadata": {},
   "source": [
    "---\n",
    "### Slide 4 Script\n",
    "\n"
   ]
  },
  {
   "cell_type": "markdown",
   "metadata": {},
   "source": [
    "---\n"
   ]
  },
  {
   "cell_type": "markdown",
   "metadata": {},
   "source": [
    "### Slide 5\n",
    "#### datetime to string\n",
    "##### datetime.strftime()\n",
    "```\n",
    "from datetime import datetime\n",
    "#define a demo date of September 30, 2019\n",
    "demo_date = datetime(2019, 9, 30)\n",
    "#09/30/2019\n",
    "print(demo_date.strftime('%m/%d/%Y'))\n",
    "#Sep 30, 2019\n",
    "print(demo_date.strftime('%b %d, %Y'))\n",
    "#2019-09-30 00:00:00\n",
    "print(demo_date.strftime('%Y-%m-%d %H:%M:%S'))\n",
    "```"
   ]
  },
  {
   "cell_type": "markdown",
   "metadata": {},
   "source": [
    "### Slide 5 Script\n",
    "\n"
   ]
  },
  {
   "cell_type": "markdown",
   "metadata": {},
   "source": [
    "### Slide 6\n",
    "#### String to datetime \n",
    "##### datetime.strptime()\n",
    "```\n",
    "from datetime import datetime\n",
    "\n",
    "datetime.strptime('09/30/2019', '%m/%d/%Y')\n",
    "```"
   ]
  },
  {
   "cell_type": "markdown",
   "metadata": {},
   "source": [
    "### Slide 6 Script"
   ]
  },
  {
   "cell_type": "markdown",
   "metadata": {},
   "source": [
    "### Slide 7\n",
    "#### DataFrame datetime Manipulation\n",
    "\n",
    "```\n",
    "df['Date_obj'] = pd.to_datetime(df.Date)\n",
    "```"
   ]
  },
  {
   "cell_type": "markdown",
   "metadata": {},
   "source": [
    "### Slide 7 Script"
   ]
  },
  {
   "cell_type": "markdown",
   "metadata": {},
   "source": [
    "---\n",
    "## Lesson 2: Analyzing Time Series Data\n",
    "\n"
   ]
  },
  {
   "cell_type": "markdown",
   "metadata": {},
   "source": [
    "---\n",
    "### Slide 1\n",
    "#### Time Series Data\n",
    "- A series of data points indexed in time order.\n",
    "- Normally with equal intervals between indexes.\n",
    "- Examples\n",
    " - Daily Dow Jones Index Close\n",
    " - Hourly Weather Data\n",
    "\n"
   ]
  },
  {
   "cell_type": "markdown",
   "metadata": {},
   "source": [
    "---\n",
    "### Slide 1 Script\n",
    "\n"
   ]
  },
  {
   "cell_type": "markdown",
   "metadata": {},
   "source": [
    "---\n",
    "### Slide 2\n",
    "#### Data - Beijing Environment\n",
    "\n",
    "<img src='images/beijing_df.png' width=400>"
   ]
  },
  {
   "cell_type": "markdown",
   "metadata": {},
   "source": [
    "---\n",
    "### Slide 2 Script\n"
   ]
  },
  {
   "cell_type": "markdown",
   "metadata": {},
   "source": [
    "---\n",
    "### Slide 3\n",
    "#### Create Time Index\n",
    "\n",
    "```\n",
    "df['TS'] = pd.to_datetime(df.apply(lambda x:\n",
    "                                   datetime(int(x.year), int(x.month), int(x.day), int(x.hour)),\n",
    "                                   axis=1))\n",
    "df.index = pd.DatetimeIndex(df.TS)\n",
    "```\n",
    "<img src='images/beijing_df2.png' width=500>"
   ]
  },
  {
   "cell_type": "markdown",
   "metadata": {},
   "source": [
    "---\n",
    "### Slide 3 Script\n",
    "\n"
   ]
  },
  {
   "cell_type": "markdown",
   "metadata": {},
   "source": [
    "### Slide 4\n",
    "#### Create Time Index\n",
    "<img src='images/beijing_df3.png' width=300>"
   ]
  },
  {
   "cell_type": "markdown",
   "metadata": {},
   "source": [
    "### Slide 4 Script"
   ]
  },
  {
   "cell_type": "markdown",
   "metadata": {},
   "source": [
    "---\n",
    "### Slide 5\n",
    "#### Handling Missing Values\n",
    "```\n",
    "df['pm2.5'] = df['pm2.5'].interpolate(method='time', limit_direction='both')\n",
    "```"
   ]
  },
  {
   "cell_type": "markdown",
   "metadata": {},
   "source": [
    "---\n",
    "### Slide 5 Script\n"
   ]
  },
  {
   "cell_type": "markdown",
   "metadata": {},
   "source": [
    "### Slide 6\n",
    "#### Plot Time Series\n",
    "```\n",
    "fig, ax = plt.subplots(figsize=(12, 6))\n",
    "\n",
    "df.TEMP.plot(lw=0.1, alpha=0.5)\n",
    "\n",
    "ax.set(title='Beijing Temperature',\n",
    "      xlabel='Date', ylabel = 'Degrees (C)')\n",
    "\n",
    "sns.despine(offset=5, trim=True)\n",
    "```"
   ]
  },
  {
   "cell_type": "markdown",
   "metadata": {},
   "source": [
    "### Slide 6 Script\n"
   ]
  },
  {
   "cell_type": "markdown",
   "metadata": {},
   "source": [
    "### Slide 7\n",
    "<img src='images/beijing_temp_plot.png' width=500>"
   ]
  },
  {
   "cell_type": "markdown",
   "metadata": {},
   "source": [
    "### Slide 8\n",
    "#### Time Series Data Slicing\n",
    "- Specific date: `df['2011-06-01']`\n",
    "- Specific month: `df['2011-01']`\n",
    "- Specific year: `df['2011']`\n",
    "- Time range(end included): `df['2011-01':'2011-12']`"
   ]
  },
  {
   "cell_type": "markdown",
   "metadata": {},
   "source": [
    "### Slide 8\n",
    "#### Rolling Statistics\n",
    "```\n",
    "roll_df = df.rolling(24*14)\n",
    "mn = roll_df.mean()\n",
    "md = roll_df.median()\n",
    "std = roll_df.std()\n",
    "```\n",
    "<img src='images/beijing_rolling.png' width=500>"
   ]
  },
  {
   "cell_type": "markdown",
   "metadata": {},
   "source": [
    "### Slide 9\n",
    "#### Death Cross\n",
    "<img src='images/dow_rolling.png' width=500>"
   ]
  },
  {
   "cell_type": "markdown",
   "metadata": {},
   "source": [
    "### Slide 10\n",
    "#### Resampling\n",
    "- B:       business day frequency\n",
    "- D:       calendar day frequency\n",
    "- W:       weekly frequency\n",
    "- M:       month end frequency\n",
    "- BM:      business month end frequency\n",
    "- MS:      month start frequency\n",
    "- BMS:     business month start frequency"
   ]
  },
  {
   "cell_type": "markdown",
   "metadata": {},
   "source": [
    "### Slide 11\n",
    "#### Resampling\n",
    "```\n",
    "df.TEMP.resample('BMS').mean().head()\n",
    "```\n",
    "<img src='images/resampling_bms.png' width=400>"
   ]
  },
  {
   "cell_type": "markdown",
   "metadata": {},
   "source": [
    "### Slide 11 Script\n",
    "We must now decide how to create a new quarterly value from each group of 3 records. A good starting point is to calculate the average monthly sales numbers for the quarter. For this, we can use the mean() function."
   ]
  },
  {
   "cell_type": "markdown",
   "metadata": {},
   "source": [
    "### Slide 12\n",
    "#### Resampling\n",
    "<img src='images/beijing_resample.png' width=600>"
   ]
  },
  {
   "cell_type": "markdown",
   "metadata": {},
   "source": [
    "### Slide 13\n",
    "#### ## Seasonal Decomposition\n",
    "\n",
    "- Level: The average value in the series.\n",
    "- Trend: The underlying trend in the series.\n",
    "- Seasonality: The repeating short-term cycle in the series.\n",
    "- Noise: The random variation in the series, aka residual.\n"
   ]
  },
  {
   "cell_type": "markdown",
   "metadata": {},
   "source": [
    "### Slide 14\n",
    "```\n",
    "from statsmodels.tsa.seasonal import seasonal_decompose\n",
    "decomposition = seasonal_decompose(df.TEMP)\n",
    "\n",
    "trend = decomposition.trend\n",
    "seasonal = decomposition.seasonal\n",
    "residual = decomposition.resid\n",
    "```"
   ]
  },
  {
   "cell_type": "markdown",
   "metadata": {},
   "source": [
    "### Slide 15\n",
    "##### Trend\n",
    "<img src='images/trend.png' width=500>\n",
    "\n",
    "##### Seasonal\n",
    "<img src='images/seasonal.png' width=500>\n",
    "\n",
    "##### Residual\n",
    "<img src='images/seasonality_residual.png' width=500>"
   ]
  },
  {
   "cell_type": "markdown",
   "metadata": {},
   "source": [
    "---\n",
    "## Review Script\n",
    "\n",
    "\n",
    "The first module's assignment is fairly straightforward. Just remember to work on the problems in order.\n",
    "\n",
    "Good luck."
   ]
  }
 ],
 "metadata": {
  "kernelspec": {
   "display_name": "Python 3",
   "language": "python",
   "name": "python3"
  },
  "language_info": {
   "codemirror_mode": {
    "name": "ipython",
    "version": 3
   },
   "file_extension": ".py",
   "mimetype": "text/x-python",
   "name": "python",
   "nbconvert_exporter": "python",
   "pygments_lexer": "ipython3",
   "version": "3.7.3"
  }
 },
 "nbformat": 4,
 "nbformat_minor": 4
}
