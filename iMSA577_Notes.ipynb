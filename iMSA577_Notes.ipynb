{
 "cells": [
  {
   "cell_type": "markdown",
   "metadata": {},
   "source": [
    "# Plan & Timeline\n",
    "Fall 2019\n",
    "\n",
    "ACCY 569 - Ron will develop and deliver first 8-weeks for 2 credit hours.\n",
    "ACCY 593 Analytics Modules - To be delivered by various faculty.  2, 4-week, 1 credit hour modules during 2nd 8-weeks.\n",
    "\n",
    "Ron & Linden will work together to develop 8-week, 2 credit hour version of ACCY 570 equivalent (we are changing course rubric to ACCY 576 to show distinction from on-campus course).\n",
    "\n",
    "Linden will develop 8-week, 2 credit hour version of ACCY 571 equivalent (we are changing course rubric to ACY 577 to show distinction from on-campus course).  Linden will work with Ron to ensure it is aligned with ACCY 569 and ACCY 576.\n",
    "\n",
    "Spring 2020\n",
    "\n",
    "ACCY 576 (previously ACCY 570) - Ron and Linden will co-deliver ACCY 576, first 8-weeks for 2 credit hours.\n",
    "\n",
    "ACCY 577 (previously ACCY 571) - Linden will deliver ACCY 577, 2nd 8-weeks for 2 credit hours.\n",
    "\n",
    "ACCY 593 Analytics Modules - To be delivered by various faculty.  2, 4-week, 1 credit hour modules during 2nd 8-weeks.\n",
    "\n",
    "Linden will develop and deliver Analytics Capstone.\n"
   ]
  },
  {
   "cell_type": "markdown",
   "metadata": {},
   "source": [
    "2017 570\n",
    "Module9-Machine Learning:classification & regression, preprocessing, scaling, train_test_split, Linear Regression, K nearest neighbors  \n",
    "Module10-Logistic Regression, Decision Tree, Support Vector Machine  \n",
    "Module11-Bagging(RandomForest), Boosting, Pipeline  \n",
    "Module12-Cross Validation, Model selection  \n",
    "Module13-Naive Bayes, Gaussian Processes  \n",
    "Module14-Feature selection, dimension reduction  \n",
    "Module15-Clustering, K-Means, DBSCAN, GMM  \n",
    "2017 571  \n",
    "Module 5: Text analysis  \n",
    "Module 6: NLP  \n",
    "M8: network analysis  \n",
    "M12: time series  \n",
    "\n",
    "2018 570\n",
    "M14/15 Time Series\n",
    "\n",
    "570b:\n",
    "M1: Intro to ML  \n",
    "M2: Intro to Foundamental Algorithm, DT, SVM, LR  \n",
    "M3: Bagging, Pipeline  \n",
    "M4: Overfitting, Model Selection  \n",
    "M5: Naive Bayes  \n",
    "M6: Feature Selection  \n",
    "M7: Clustering\n"
   ]
  },
  {
   "cell_type": "markdown",
   "metadata": {},
   "source": [
    "## iMSA 577 Topics\n",
    "- Introduction to Machine Learning\n",
    " - supervised learning\n",
    "  - regression\n",
    "  - classification\n",
    "  - text analysis\n",
    " - unsupervised learning\n",
    " \n",
    "- Calssification\n",
    "- Regression\n",
    "- Text Analysis\n",
    "- Cross Validation, Model selection\n",
    "- Feature Selection\n",
    "- Clustering\n",
    "- Time Series\n"
   ]
  },
  {
   "cell_type": "markdown",
   "metadata": {},
   "source": [
    "## Module 1: Machine Learning and Accounting\n",
    "### Lesson 1: Introduction to machine learning\n",
    "- Review CRISP-DM\n",
    "- Machine Learning definition\n",
    "- Machine Learning algorithms\n",
    "- Machine Learning in accounting cases\n",
    "\n",
    "### Lesson 2: Data pre-processing, Normalizing\n",
    "- Data Scaling\n",
    "- Dummy variables for categorical features(matrices?)\n",
    "- Splite train/test dataset\n",
    "\n",
    "### Lesson 3: Introduction to Machine Learning Algorithms\n",
    "- Classification\n",
    "- Regression\n",
    "- Clustering\n",
    "- Text Analysis\n",
    "- Time Series Analysis\n",
    "\n",
    "### Notes\n",
    "- Lesson 1 reading [How is the accountancy and finance world using artificial intelligence?](https://www.icas.com/ca-today-news/how-accountancy-and-finance-are-using-artificial-intelligence) was writen in 2016, too old.\n",
    "- Lesson 1 reading [Artificial Intelligence Comes to Financial Statement Audits](http://www.cfo.com/auditing/2017/02/artificial-intelligence-audits/) has some insights but also has flaws(AI is going to do what we tell it to do — nothing more, nothing less”- artificial intelligence is the ability for machine learning, hence AI is the ability to learn fir itself and not just be told what to do.)\n",
    "- Try this one [Why Accountants Must Embrace Machine Learning](https://www.ifac.org/global-knowledge-gateway/technology/discussion/why-accountants-must-embrace-machine-learning)\n",
    "- Quora [How can machine learning be applied to accounting?](https://www.quora.com/How-can-machine-learning-be-applied-to-accounting)\n",
    "\n",
    "- [Difference of AI and ML](https://skymind.ai/wiki/ai-vs-machine-learning-vs-deep-learning)\n",
    "- [Low interpretability of DL](https://towardsdatascience.com/interpretability-of-deep-learning-models-9f52e54d72ab)\n",
    "- List all ML application in accounting and give examples\n",
    " - regression\n",
    " - classification\n",
    " - text analysis\n",
    " - [time series is ML](https://machinelearningmastery.com/time-series-forecasting/)\n",
    " - [time series defers to ML](https://www.datascience.com/blog/time-series-forecasting-machine-learning-differences)\n",
    "- [AI, ML, DL](https://news.newseed.cn/p/1326716)\n",
    "- [Encode Categorical variables](https://pbpython.com/categorical-encoding.html)\n",
    "- [Smart ways to encode categorical data](https://towardsdatascience.com/smarter-ways-to-encode-categorical-data-for-machine-learning-part-1-of-3-6dca2f71b159)\n",
    "\n",
    "\n",
    "# General Resources\n",
    "[Text/Sentiment Analysis with Dataset](https://www.kdnuggets.com/2018/03/5-things-sentiment-analysis-classification.html)  \n",
    "[4 types of data analytics](https://insights.principa.co.za/4-types-of-data-analytics-descriptive-diagnostic-predictive-prescriptive)"
   ]
  },
  {
   "cell_type": "markdown",
   "metadata": {},
   "source": [
    "## Module 2: Fundamental Algorithms 1\n",
    "[Evaluate regression metrics](https://becominghuman.ai/understand-regression-performance-metrics-bdb0e7fcc1b3)  \n",
    "[Classification evaluation metrics](https://becominghuman.ai/understand-classification-performance-metrics-cad56f2da3aa)  \n",
    "[Classification vs. Regression](https://machinelearningmastery.com/classification-versus-regression-in-machine-learning/)  \n",
    "[Machine Learning Regression Explained***](https://medium.com/datadriveninvestor/regression-in-machine-learning-296caae933ec)  \n",
    "[Decision Tree Regressor](https://www.saedsayad.com/decision_tree_reg.htm?source=post_page---------------------------)  \n",
    "[Decision Tree Optimization](https://medium.com/cracking-the-data-science-interview/decision-trees-how-to-optimize-my-decision-making-process-e1f327999c7a)  \n",
    "[3 ways to improve ML results](https://towardsdatascience.com/3-ways-to-improve-your-machine-learning-results-without-more-data-f2f0fe78976e)  \n",
    "[Choose right ML algorithm***](https://hackernoon.com/choosing-the-right-machine-learning-algorithm-68126944ce1f)  \n",
    "[ML Evaluation matrix(see comments, many mistakes)](https://towardsdatascience.com/metrics-to-evaluate-your-machine-learning-algorithm-f10ba6e38234)  \n",
    "[ML Evaluation 2](https://heartbeat.fritz.ai/introduction-to-machine-learning-model-evaluation-fa859e1b2d7f)  \n",
    "[Top 10 ML algorithms](https://towardsdatascience.com/top-10-machine-learning-algorithms-for-data-science-cdb0400a25f9)   \n",
    "[Top 10 ML algorithms](https://www.dataquest.io/blog/top-10-machine-learning-algorithms-for-beginners/)  \n",
    "\n",
    "\n",
    "- Linear Regression\n",
    "- Logistic Regression\n",
    "- Decision Tree\n",
    "\n",
    "\n",
    "imbalanced training data\n",
    "### Lesson 1: Linear Regression\n",
    "### Lesson 2: Logistic Regression\n",
    "### Lesson 3: Decision Tree"
   ]
  },
  {
   "cell_type": "markdown",
   "metadata": {},
   "source": [
    "## Module 3: Fundamental Algorithms 2\n",
    "\n",
    "- Support Vector Machine\n",
    "- K-Nearest Neighbor\n",
    "- Random Forest\n",
    "\n",
    "### Lesson 1: Support Vector Machine\n",
    "[SVM](https://towardsdatascience.com/support-vector-machine-introduction-to-machine-learning-algorithms-934a444fca47)\n",
    "### Lesson 2: K-Nearest Neighbor\n",
    "[KNN](https://towardsdatascience.com/machine-learning-basics-with-the-k-nearest-neighbors-algorithm-6a6e71d01761)\n",
    "### Lesson 3: Random Forest"
   ]
  },
  {
   "cell_type": "markdown",
   "metadata": {},
   "source": [
    "## Module 4: Model Evaluation\n",
    "### Lesson 1: Classification evaluation 1&2\n",
    "### Lesson 2: Regression Evaluation\n",
    "- $R2$ and adjusted $R^2$ [R squared definition](https://www.investopedia.com/terms/r/r-squared.asp)"
   ]
  },
  {
   "cell_type": "code",
   "execution_count": 1,
   "metadata": {},
   "outputs": [
    {
     "name": "stdout",
     "output_type": "stream",
     "text": [
      "Help on built-in function print in module builtins:\n",
      "\n",
      "print(...)\n",
      "    print(value, ..., sep=' ', end='\\n', file=sys.stdout, flush=False)\n",
      "    \n",
      "    Prints the values to a stream, or to sys.stdout by default.\n",
      "    Optional keyword arguments:\n",
      "    file:  a file-like object (stream); defaults to the current sys.stdout.\n",
      "    sep:   string inserted between values, default a space.\n",
      "    end:   string appended after the last value, default a newline.\n",
      "    flush: whether to forcibly flush the stream.\n",
      "\n"
     ]
    }
   ],
   "source": [
    "help(print)"
   ]
  },
  {
   "cell_type": "markdown",
   "metadata": {},
   "source": [
    "## Module 4: Model Optimization\n",
    "- Imbalanced training set\n",
    "- Scaling?\n",
    "- AUC curve, true positive and false positive rate\n",
    "\n",
    "**sklearn.cross_validation is now replaced by sklearn.model_selection!**\n",
    "\n",
    "### Lesson 1: Introduction to overfitting\n",
    "### Lesson 2: Feature Selection\n",
    "### Lesson 3: Model Selection through Cross Validation\n"
   ]
  },
  {
   "cell_type": "markdown",
   "metadata": {},
   "source": [
    "## Module 5: Introduction to Clustering\n",
    "### Lesson 1: Introduction to Clustering\n",
    "### Lesson 2: Introduction to Spatial Clustering\n",
    "### Lesson 3: Introduction to Density-based clustering\n"
   ]
  },
  {
   "cell_type": "markdown",
   "metadata": {},
   "source": [
    "## Module 6: Introduction to Text Analysis\n",
    "- Naive Bayes  \n",
    "[Good notes on naive bayes](https://becominghuman.ai/top-machine-learning-algorithms-you-should-know-to-become-a-data-scientist-17b16bc85077)  \n",
    "\n",
    "### Lesson 1: Introduction to Text Analytics\n",
    "### Lesson 2: Introduction to Text Classification\n",
    "### Lesson 3: Sentiment Analysis\n"
   ]
  },
  {
   "cell_type": "markdown",
   "metadata": {},
   "source": [
    "## Module 7: Introduction to Network Analysis(X)\n",
    "### Lesson 1: Introduction to Network Analysis: Graph Concepts\n",
    "### Lesson 2: Introduction to Network Analysis: Graph Analysis\n",
    "### Lesson 3: Introduction to Network Analysis: Social Media\n"
   ]
  },
  {
   "cell_type": "markdown",
   "metadata": {},
   "source": [
    "## Module 8: Introduction to Time Series\n",
    "### Lesson 1: Working with Times and Dates\n",
    "### Lesson 2: Analyzing Time Series Data\t\n",
    "### Lesson 3: Introduction to Time Series Analysis\n",
    "### Lesson 4: Introduction to Statistical Time Series Analysis??"
   ]
  },
  {
   "cell_type": "markdown",
   "metadata": {},
   "source": [
    "# Data Analytics and Business\n",
    "Researchers are invited to submit their abstracts or research manuscripts under the following domains:\n",
    "\n",
    "·         Management and organizational behavior through big data\n",
    "\n",
    "·         Accounting and big data\n",
    "\n",
    "·         Finance and banking and the use of big data into banking for improved customer satisfaction and security\n",
    "\n",
    "·         Human Resources and the use of big data for hiring, appraisal, promotion, and compensation\n",
    "\n",
    "·         Marketing in the era of big data and social media\n",
    "\n",
    "·         Retail\n",
    "\n",
    "·         Innovation and entrepreneurship\n",
    "\n",
    "·         Sustainability in business through the use of big data\n",
    "\n",
    "·         Business Education and how to incorporate data science in the business education\n",
    "\n",
    "·         Business Ethics and the impact of big data\n",
    "\n",
    "·         Business Intelligence and analytics\n",
    "\n"
   ]
  }
 ],
 "metadata": {
  "kernelspec": {
   "display_name": "Python 3",
   "language": "python",
   "name": "python3"
  },
  "language_info": {
   "codemirror_mode": {
    "name": "ipython",
    "version": 3
   },
   "file_extension": ".py",
   "mimetype": "text/x-python",
   "name": "python",
   "nbconvert_exporter": "python",
   "pygments_lexer": "ipython3",
   "version": "3.7.1"
  }
 },
 "nbformat": 4,
 "nbformat_minor": 2
}
