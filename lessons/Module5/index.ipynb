{
 "cells": [
  {
   "cell_type": "markdown",
   "metadata": {},
   "source": [
    "# Module 5: Model Optimization\n",
    "\n",
    "Now you've learned quite a few supervised learning algorithms and how to evaluate model performance. You are ready for the next very important task: model optimization. This module introduces the techniques of model optimization. First, the basic techniques of feature selection is presented. Next, the technique of cross-validation is introduced, which can provide a more accurate evaluation on models. Finally, model selection, or hyperparameter tunning, which uses cross-validation, is introduced.\n",
    "\n",
    "## Learning Objectives\n",
    "\n",
    "#### By the end of this module, you should be able to:\n",
    "\n",
    "- articulate the techniques of feature selection and explain its impact on a machine learning analysis,\n",
    "- employ different cross-validation techniques to evaluate machine learning models, and\n",
    "- use cross-validation to select optimal model hyperparameters when determining the best machine learning model.\n",
    "\n",
    "### Activities and Assignments\n",
    "\n",
    "| Activities and Assignments               | Time Estimate | Deadline | Points |\n",
    "| :--------------------------------------- | ------------- | --------- | -----: |\n",
    "| **[Module 5 Overview Video][wv]**        | 10 Minutes    | N/A   |    N/A |\n",
    "| **[Module 5 Lesson 1: Introduction to Feature Selection][nb1]** | 2 Hours        | N/A  |    N/A |\n",
    "| **[Module 5 Lesson 2: Introduction to Cross-Validation][nb2]** | 2 Hours       | N/A  |    N/A |\n",
    "| **[Module 5 Lesson 3: Introduction to Model-Selection][nb3]** | 2 Hours       | N/A  |    N/A |\n",
    "| **[Module 5 Assignment Low][mal]**                    | 1 hour   | Sunday    |  25 |\n",
    "| **[Module 5 Assignment High][mah]**                    | 1 hour   | Sunday    |  75 |\n",
    "\n",
    "----------\n",
    "\n",
    "[nb1]: notebooks/m5_1.ipynb\n",
    "[nb2]: notebooks/m5_2.ipynb\n",
    "[nb3]: notebooks/m5_3.ipynb\n",
    "\n",
    "[wv]: https://mediaspace.illinois.edu/media/t/1_av629ez1\n",
    "[mal]: ../../assignments/Release/Module5/assignment_low.ipynb\n",
    "[mah]: ../../assignments/Release/Module5/assignment_high.ipynb"
   ]
  },
  {
   "cell_type": "markdown",
   "metadata": {
    "deletable": false,
    "editable": false
   },
   "source": [
    "**&copy; 2019: Gies College of Business at the University of Illinois.**\n",
    "\n",
    "This notebook is released under the [Creative Commons license CC BY-NC-SA 4.0][ll]. Any reproduction, adaptation, distribution, dissemination or making available of this notebook for commercial use is not allowed unless authorized in writing by the copyright holder.\n",
    "\n",
    "[ll]: https://creativecommons.org/licenses/by-nc-sa/4.0/legalcode "
   ]
  }
 ],
 "metadata": {
  "kernelspec": {
   "display_name": "Python 3",
   "language": "python",
   "name": "python3"
  },
  "language_info": {
   "codemirror_mode": {
    "name": "ipython",
    "version": 3
   },
   "file_extension": ".py",
   "mimetype": "text/x-python",
   "name": "python",
   "nbconvert_exporter": "python",
   "pygments_lexer": "ipython3",
   "version": "3.7.3"
  }
 },
 "nbformat": 4,
 "nbformat_minor": 2
}
