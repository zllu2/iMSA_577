{
 "cells": [
  {
   "cell_type": "markdown",
   "metadata": {},
   "source": [
    "# Module 5: Lesson 2\n",
    "\n",
    "-----\n",
    "\n",
    "##  Introduction to Cross-Validation\n",
    "\n",
    "This lesson introduces cross-validation, which is a technique used to evaluate machine learning models by training the models on subsets of the available data and evaluating them on the complementary subset of the data. Cross validation helps to evaluate models more accurately and can be used to select the best model hyperparameters.\n",
    "\n",
    "### Objectives\n",
    "\n",
    "By the end of this lesson, you will be able to:\n",
    "\n",
    "- articulate the different cross validation methods,\n",
    "- explain how cross-validation can improve model evaluation accuracy, and\n",
    "- apply cross-validation by using the scikit learn library.\n",
    "\n",
    "### Time Estimate\n",
    "\n",
    "Approximately 2 hours.\n",
    "\n",
    "### Activities \n",
    "\n",
    "Video: Watch the [Introduction to Cross-Validation][iov] video, which will demonstrate the concepts behind overfitting and ways to overcome it, including cross-validation.\n",
    "\n",
    "Notebook: Read and complete the practice exercises in the [Introduction to Cross-Validation][intro2of] notebook.\n",
    "\n",
    "------\n",
    "[rmr]: http://machinelearningmastery.com/arent-results-good-thought-youre-probably-overfitting/\n",
    "\n",
    "[bvt]: http://scott.fortmann-roe.com/docs/BiasVariance.html\n",
    "\n",
    "[iov]: https://mediaspace.illinois.edu/media/t/1_mgxg9d4z\n",
    "[intro2of]: intro2cv.ipynb "
   ]
  },
  {
   "cell_type": "markdown",
   "metadata": {
    "deletable": false,
    "editable": false
   },
   "source": [
    "**&copy; 2019: Gies College of Business at the University of Illinois.**\n",
    "\n",
    "This notebook is released under the [Creative Commons license CC BY-NC-SA 4.0][ll]. Any reproduction, adaptation, distribution, dissemination or making available of this notebook for commercial use is not allowed unless authorized in writing by the copyright holder.\n",
    "\n",
    "[ll]: https://creativecommons.org/licenses/by-nc-sa/4.0/legalcode "
   ]
  }
 ],
 "metadata": {
  "kernelspec": {
   "display_name": "Python 3",
   "language": "python",
   "name": "python3"
  },
  "language_info": {
   "codemirror_mode": {
    "name": "ipython",
    "version": 3
   },
   "file_extension": ".py",
   "mimetype": "text/x-python",
   "name": "python",
   "nbconvert_exporter": "python",
   "pygments_lexer": "ipython3",
   "version": "3.7.1"
  }
 },
 "nbformat": 4,
 "nbformat_minor": 2
}
