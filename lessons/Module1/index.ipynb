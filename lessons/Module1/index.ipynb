{
 "cells": [
  {
   "cell_type": "markdown",
   "metadata": {},
   "source": [
    "# Module 1: Introduction to Machine Learning\n",
    "\n",
    "This module provides the basis for the rest of the course by introducing the basic concepts behind machine learning, and, specifically, how to perform machine learning by using Python and the scikit learn machine learning module. First, you will learn about the basic types of machine learning. Next, you will learn an important step before applying machine learning algorithms, data pre-processing. Finally, you will learn how to leverage different types of machine learning algorithms in a Python script.\n",
    "\n",
    "## Learning Objectives\n",
    "\n",
    "#### By the end of this module, you should be able to:\n",
    "\n",
    "- articulate the different types of machine learning algorithms and provide examples where each type might be applied within the Accounting profession,\n",
    "- understand basic data pre-processing techniques, and\n",
    "- apply the scikit learn Python module to perform basic machine learning tasks\n",
    "\n",
    "### Activities and Assignments\n",
    "\n",
    "| Activities and Assignments               | Time Estimate | Deadline* | Points |\n",
    "| :--------------------------------------- | ------------- | --------- | -----: |\n",
    "| **[Module 1 Overview Video][wv]**      | 10 Minutes    | Tuesday |    N/A |\n",
    "| **[Module 1 Lesson 1: Introduction to Machine Learning][nb1]** | 2 Hours | Thursday  |     N/A |\n",
    "| **[Module 1 Lesson 2: Introduction to Data Pre-Processing][nb2]** | 2 Hours | Thursday  |     N/A |\n",
    "| **[Module 1 Lesson 3: Introduction to Machine Learning Algorithms][nb3]** | 2 Hours | Thursday  |     N/A |\n",
    "| **[Module 1 Quiz][wq]**                    | 30 Minutes    | Friday    |    25  |\n",
    "| **[Module 1 Assignment Low][mal]**                    | 1 hour   | Sunday    |  25 |\n",
    "| **[Module 1 Assignment High][mah]**                    | 1 hour   | Sunday    |  75 |\n",
    "\n",
    "*Please note that unless otherwise noted, the due time is 6pm Central time!\n",
    "\n",
    "----------\n",
    "\n",
    "[nb1]: notebooks/m1_1.ipynb\n",
    "[nb2]: notebooks/m1_2.ipynb\n",
    "[nb3]: notebooks/m1_3.ipynb\n",
    "\n",
    "[mal]: ../../assignments/Release/Module1/assignment_low.ipynb\n",
    "[mah]: ../../assignments/Release/Module1/assignment_high.ipynb\n",
    "\n",
    "[wv]: https://mediaspace.illinois.edu/media/t/1_5hnb5v6u/76544361\n",
    "[wq]: https://learn.illinois.edu/mod/quiz/view.php?id=2351320"
   ]
  }
 ],
 "metadata": {
  "kernelspec": {
   "display_name": "Python 3",
   "language": "python",
   "name": "python3"
  },
  "language_info": {
   "codemirror_mode": {
    "name": "ipython",
    "version": 3
   },
   "file_extension": ".py",
   "mimetype": "text/x-python",
   "name": "python",
   "nbconvert_exporter": "python",
   "pygments_lexer": "ipython3",
   "version": "3.7.1"
  }
 },
 "nbformat": 4,
 "nbformat_minor": 2
}
