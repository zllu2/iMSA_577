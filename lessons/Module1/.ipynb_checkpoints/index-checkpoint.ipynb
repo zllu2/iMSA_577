{
 "cells": [
  {
   "cell_type": "markdown",
   "metadata": {
    "deletable": true,
    "editable": true
   },
   "source": [
    "# Module 9: Introduction to Machine Learning\n",
    "\n",
    "This module provides the basis for the rest of the course by introducing the basic concepts behind machine learning, and , specifically, how to perform machine learning by using Python and the scikit learn machine learning module. First, you will learn how machine learning and artificial intelligence are disrupting businesses. Next, you will learn about the basic types of machine learning and how to leverage these algorithms in a Python script. Third, you will learn how linear regression can be considered a machine learning problem with  parameters that must be determined computationally by minimizing a _cost_ function. Finally, you will learn about neighbor-based algorithms, including the k-nearest neighbor algorithm, which can be used for both classification and regression tasks.\n",
    "\n",
    "## Learning Objectives\n",
    "\n",
    "#### By the end of this module, you should be able to:\n",
    "\n",
    "- articulate the different types of machine learning algorithms and provide examples where each type might be applied within the Accounting profession,\n",
    "- describe the challenges in cleaning and pre-processing data,\n",
    "- apply the scikit learn Python module to perform basic machine learning tasks,\n",
    "- understand the importance of a _cost_ function and the importance of minimizing this functions,\n",
    "- perform general linear regression by using the scikit learn module,\n",
    "- apply the k-nearest neighbor algorithm for both classification and regression tasks.\n",
    "\n",
    "### Activities and Assignments\n",
    "\n",
    "| Activities and Assignments               | Time Estimate | Deadline* | Points |\n",
    "| :--------------------------------------- | ------------- | --------- | -----: |\n",
    "| **[Module 9 Overview Video][wv]**      | 10 Minutes    | Tuesday |    N/A |\n",
    "| **[Module 9 Lesson 1: Artificial Intelligence and Accountancy][nb1]** | 1 Hour   | Thursday  |     N/A |\n",
    "| **[Module 9 Lesson 2: Introduction to Machine Learning][nb2]** | 2 Hours | Thursday  |     N/A |\n",
    "| **[Module 9 Lesson 3: Introduction to Linear Regression][nb3]** | 2 Hours | Thursday  |     N/A |\n",
    "| **[Module 9 Lesson 4: Introduction to k-Nearest Neighbors][nb4]** | 2 Hours   | Thursday  |   N/A |\n",
    "| **[Module 9 Quiz][wq]**                    | 30 Minutes    | Friday    |    25  |\n",
    "| **[Module 9 Assignment][ma]**         | 2 Hours   | Monday    |    100  |\n",
    "\n",
    "*Please note that unless otherwise noted, the due time is 6pm Central time!\n",
    "\n",
    "----------\n",
    "\n",
    "[nb1]: notebooks/m9l1.ipynb\n",
    "[nb2]: notebooks/m9l2.ipynb\n",
    "[nb3]: notebooks/m9l3.ipynb\n",
    "[nb4]: notebooks/m9l4.ipynb\n",
    "\n",
    "[ma]: https://datascience.business.illinois.edu/user/accy/notebooks/accy570/assignments/Module9/assignment.ipynb\n",
    "\n",
    "[wv]: https://mediaspace.illinois.edu/media/t/1_5hnb5v6u/76544361\n",
    "[wq]: https://learn.illinois.edu/mod/quiz/view.php?id=2351320"
   ]
  }
 ],
 "metadata": {
  "kernelspec": {
   "display_name": "Python 3",
   "language": "python",
   "name": "python3"
  },
  "language_info": {
   "codemirror_mode": {
    "name": "ipython",
    "version": 3
   },
   "file_extension": ".py",
   "mimetype": "text/x-python",
   "name": "python",
   "nbconvert_exporter": "python",
   "pygments_lexer": "ipython3",
   "version": "3.6.0"
  }
 },
 "nbformat": 4,
 "nbformat_minor": 2
}
