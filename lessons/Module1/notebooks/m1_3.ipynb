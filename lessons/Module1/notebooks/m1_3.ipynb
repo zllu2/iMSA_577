{
 "cells": [
  {
   "cell_type": "markdown",
   "metadata": {},
   "source": [
    "# Module 1: Lesson 3\n",
    "\n",
    "-----\n",
    "\n",
    "## Introduction to Machine Learning Algorithms\n",
    "\n",
    "This lesson introduces the three types of machine learning algorithms that are commonly used in business communities. The basic tasks of machine learning are introduced, including data cleaning and pre-processing. \n",
    "\n",
    "\n",
    "### Objectives\n",
    "\n",
    "By the end of this lesson, you will be able to:\n",
    "\n",
    "- articulate the basic process of data analysis,\n",
    "- explain the difference between regression, classification, and clustering,\n",
    "- articulate the basic steps of using the scikit learn library to perform basic machine learning tasks.\n",
    "\n",
    "### Time Estimate\n",
    "\n",
    "Approximately 2 hours.\n",
    "\n",
    "### Activities \n",
    "\n",
    "Reading: The four types of [data analytics][b4da] encountered in data science.\n",
    "\n",
    "Video: Watch the [Introduction to Machine Learning ][imlv] video, which will introduce the fundamental concepts in machine learning that will be covered in more detail in the rest of this course.\n",
    "\n",
    "Notebook: Read and complete the practice exercises in the [Introduction to Machine Learning Algorithms](intro2mla.ipynb) notebook.\n",
    "\n",
    "------\n",
    "\n",
    "[b4da]: http://insights.principa.co.za/4-types-of-data-analytics-descriptive-diagnostic-predictive-prescriptive\n",
    "[imlv]: https://mediaspace.illinois.edu/media/t/1_67gssl6t\n",
    "\n"
   ]
  }
 ],
 "metadata": {
  "kernelspec": {
   "display_name": "Python 3",
   "language": "python",
   "name": "python3"
  },
  "language_info": {
   "codemirror_mode": {
    "name": "ipython",
    "version": 3
   },
   "file_extension": ".py",
   "mimetype": "text/x-python",
   "name": "python",
   "nbconvert_exporter": "python",
   "pygments_lexer": "ipython3",
   "version": "3.7.1"
  }
 },
 "nbformat": 4,
 "nbformat_minor": 2
}
