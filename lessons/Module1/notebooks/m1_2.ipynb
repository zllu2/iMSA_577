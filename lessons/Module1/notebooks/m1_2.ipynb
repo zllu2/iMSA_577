{
 "cells": [
  {
   "cell_type": "markdown",
   "metadata": {},
   "source": [
    "# Module 9: Lesson 2\n",
    "\n",
    "-----\n",
    "\n",
    "## Data Pre-Processing\n",
    "This lesson introduces the three types of data pre-processing techniques: encoding categorical variables, scaling data and spliting data to training and testing dataset.\n",
    "\n",
    "### Objectives\n",
    "\n",
    "By the end of this lesson, you will be able to:\n",
    "\n",
    "- tell the difference between ordinal and nominal categorical variables,\n",
    "- apply proper encoding for different categorical variables,\n",
    "- scale data properly, and\n",
    "- split dataset to testing and traing dataset.\n",
    "\n",
    "### Time Estimate\n",
    "\n",
    "Approximately 2 hours.\n",
    "\n",
    "### Activities \n",
    "\n",
    "Reading: [Guide to Encoding Categorical Values in Python](https://pbpython.com/categorical-encoding.html)\n",
    "\n",
    "Video: Watch the [Introduction to Data Pre-Processing ][imlv] video, which will introduce the data pre-processing concepts in machine learning.\n",
    "\n",
    "Notebook: Read and complete the practice exercises in the [Introduction to Data Pre-Processing](intro2dp.ipynb) notebook.\n",
    "\n",
    "------\n",
    "\n",
    "[imlv]: https://mediaspace.illinois.edu/media/t/1_67gssl6t\n",
    "\n"
   ]
  }
 ],
 "metadata": {
  "kernelspec": {
   "display_name": "Python 3",
   "language": "python",
   "name": "python3"
  },
  "language_info": {
   "codemirror_mode": {
    "name": "ipython",
    "version": 3
   },
   "file_extension": ".py",
   "mimetype": "text/x-python",
   "name": "python",
   "nbconvert_exporter": "python",
   "pygments_lexer": "ipython3",
   "version": "3.7.1"
  }
 },
 "nbformat": 4,
 "nbformat_minor": 2
}
