{
 "cells": [
  {
   "cell_type": "markdown",
   "metadata": {},
   "source": [
    "# Module 5: Introduction to Text Analytics\n",
    "\n",
    "In this module, you will start applying your new machine learning skills to real world problems. First, you will read about how text analytics is used in Accountancy and Business. Second, we will to review the process by which textual data is converted into numerical data that can be processed by a computer. Along with this are a number of new concepts that focus on manipulating these data to generate improved machine learning predictions. Finally, we will apply machine learning algorithms including classification, dimensional reduction, and clustering to text data.\n",
    "\n",
    "\n",
    "## Learning Objectives\n",
    "\n",
    "#### By the end of this module, you should be able to:\n",
    "\n",
    "- recognize the benefits of text analytics for business professionals,\n",
    "- articulate the basic concepts of tokenizing a text document including word counts, bag of words, stop words, TF-IDF, stemming, and n-grams,\n",
    "- explain the basic principles of text classification, including for sentiment analysis, and\n",
    "- apply advanced text mining approaches such as dimensional reduction, clustering, and parameter grid search by using Python.\n",
    "\n",
    "### Activities and Assignments\n",
    "\n",
    "| Activities and Assignments               | Time Estimate | Deadline* | Points |\n",
    "| :--------------------------------------- | ------------- | --------- | -----: |\n",
    "| **[Module 5 Overview Video][wv]**      | 10 Minutes    | Tuesday  |    N/A |\n",
    "| **[Module 5 Lesson 1: Introduction to Text Analytics for Business][nb1]** | 1 Hour  | Thursday  |     N/A |\n",
    "| **[Module 5 Lesson 2: Introduction to Text Analytics][nb2]** | 2 Hours | Thursday  |     N/A |\n",
    "| **[Module 5 Lesson 3: Introduction to Text Classification][nb3]** | 2 Hours | Thursday  |     N/A |\n",
    "| **[Module 5 Lesson 4: Introduction to Text Mining][nb4]** | 2 Hours   | Thursday  |     N/A |\n",
    "| **[Module 5 Quiz][wq]**                    | 30 Minutes    | Friday    |     25|\n",
    "| **[Module 5 Assignment][ma]**                    | 2 hours   | (following) Monday    |  100 |\n",
    "\n",
    "*Please note that unless otherwise noted, the due time is 6pm Central time!\n",
    "\n",
    "----------\n",
    "\n",
    "[nb1]: notebooks/m5l1.ipynb\n",
    "[nb2]: notebooks/m5l2.ipynb\n",
    "[nb3]: notebooks/m5l3.ipynb\n",
    "[nb4]: notebooks/m5l4.ipynb\n",
    "\n",
    "[ma]: https://datascience.business.illinois.edu/user/accy/notebooks/accy571/assignments/Module5/assignment.ipynb\n",
    "\n",
    "[wv]: https://mediaspace.illinois.edu/media/t/1_4knriclw/80455691\n",
    "[wq]: https://learn.illinois.edu/mod/quiz/view.php?id=2366452"
   ]
  }
 ],
 "metadata": {
  "kernelspec": {
   "display_name": "Python 3",
   "language": "python",
   "name": "python3"
  },
  "language_info": {
   "codemirror_mode": {
    "name": "ipython",
    "version": 3
   },
   "file_extension": ".py",
   "mimetype": "text/x-python",
   "name": "python",
   "nbconvert_exporter": "python",
   "pygments_lexer": "ipython3",
   "version": "3.7.1"
  }
 },
 "nbformat": 4,
 "nbformat_minor": 2
}
