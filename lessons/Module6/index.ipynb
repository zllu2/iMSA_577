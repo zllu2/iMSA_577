{
 "cells": [
  {
   "cell_type": "markdown",
   "metadata": {},
   "source": [
    "# Module 6: Introduction to Text Analysis\n",
    "\n",
    "In this module, you will start applying your new machine learning skills to an exciting data analytic topic: Text Analysis. First, we will review the process by which textual data is converted into numerical data that can be processed by a computer. Along with this are a number of new concepts that focus on manipulating these data to generate improved machine learning predictions. Second, we will apply machine learning algorithms, specifically  classification, to text data. Finally, we will explore the more advanced concepts in text analysis and introduce a special kind of text classification: setiment analysis.\n",
    "\n",
    "\n",
    "## Learning Objectives\n",
    "\n",
    "#### By the end of this module, you should be able to:\n",
    "\n",
    "- articulate the basic concepts of tokenizing a text document including word counts, bag of words, stop words, TF-IDF, stemming, and n-grams,\n",
    "- explain the basic principles of text classification, including sentiment analysis, and\n",
    "- apply advanced text classification approaches such as finding top words, applying n-grams and stemming by using Python.\n",
    "\n",
    "### Activities and Assignments\n",
    "\n",
    "| Activities and Assignments               | Time Estimate | Deadline* | Points |\n",
    "| :--------------------------------------- | ------------- | --------- | -----: |\n",
    "| **[Module 6 Overview Video][wv]**      | 10 Minutes    | Tuesday  |    N/A |\n",
    "| **[Module 6 Lesson 1: Introduction to Text Analytics][nb1]** | 2 Hours  | Thursday  |     N/A |\n",
    "| **[Module 6 Lesson 2: Introduction to Text Classification I][nb2]** | 2 Hours | Thursday  |     N/A |\n",
    "| **[Module 6 Lesson 3: Introduction to Text Classification II][nb3]** | 2 Hours   | Thursday  |     N/A |\n",
    "| **[Module 6 Quiz][wq]**                    | 30 Minutes    | Friday    |     25|\n",
    "| **[Module 6 Assignment Low][mal]**                    | 1 hour   | Sunday    |  25 |\n",
    "| **[Module 6 Assignment High][mah]**                    | 1 hour   | Sunday    |  75 |\n",
    "\n",
    "*Please note that unless otherwise noted, the due time is 6pm Central time!\n",
    "\n",
    "----------\n",
    "\n",
    "[nb1]: notebooks/m6_1.ipynb\n",
    "[nb2]: notebooks/m6_2.ipynb\n",
    "[nb3]: notebooks/m6_3.ipynb\n",
    "\n",
    "[mal]: ../../assignments/Release/Module6/assignment_low.ipynb\n",
    "[mah]: ../../assignments/Release/Module6/assignment_high.ipynb\n",
    "\n",
    "[wv]: https://mediaspace.illinois.edu/media/t/1_4knriclw/80455691\n",
    "[wq]: https://learn.illinois.edu/mod/quiz/view.php?id=2366452"
   ]
  }
 ],
 "metadata": {
  "kernelspec": {
   "display_name": "Python 3",
   "language": "python",
   "name": "python3"
  },
  "language_info": {
   "codemirror_mode": {
    "name": "ipython",
    "version": 3
   },
   "file_extension": ".py",
   "mimetype": "text/x-python",
   "name": "python",
   "nbconvert_exporter": "python",
   "pygments_lexer": "ipython3",
   "version": "3.7.3"
  }
 },
 "nbformat": 4,
 "nbformat_minor": 2
}
