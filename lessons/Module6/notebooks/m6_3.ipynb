{
 "cells": [
  {
   "cell_type": "markdown",
   "metadata": {},
   "source": [
    "# Module 6: Lesson 3\n",
    "\n",
    "-----\n",
    "\n",
    "## Introduction to Text Mining\n",
    "\n",
    "In this lesson, we will be build on previous concepts to produce more powerful text mining applications. First, we explore the classifiers for further improvement. Next, we will extend the bag of words concept to include n-grams, which are groups of n-words. Next we will introduce a special kind of text classfication which is sentiment analysis with movie reviews text set built-in in the `nltk` module. Finally, we demonstrate how to apply stemming in text analysis.\n",
    "\n",
    "\n",
    "### Objectives\n",
    "\n",
    "By the end of this lesson, you will be able to:\n",
    "\n",
    "- retieve top tokens in predicting each class,\n",
    "- articulate n-grams, and how to construct them from a document by using Python,\n",
    "- apply stemming and n-grams in a Python program by using scikit-learn and NLTK, and\n",
    "- perform sentiment analysis by using Python.\n",
    "\n",
    "### Time Estimate\n",
    "\n",
    "Approximately 2 hours.\n",
    "\n",
    "### Activities\n",
    "\n",
    "Video: Watch the [Introduction to Text Mining][lv] video, which will discuss how to perform text mining by using Python.\n",
    "\n",
    "Notebook: Read and complete the practice exercises in the [Introduction to Text Mining][l3nb] notebook.\n",
    "\n",
    "------\n",
    "\n",
    "[gnv]: https://books.google.com/ngrams\n",
    "\n",
    "[lv]: https://mediaspace.illinois.edu/media/t/1_8w879t9f/80455691\n",
    "\n",
    "[l3nb]: intro2tm.ipynb"
   ]
  }
 ],
 "metadata": {
  "kernelspec": {
   "display_name": "Python 3",
   "language": "python",
   "name": "python3"
  },
  "language_info": {
   "codemirror_mode": {
    "name": "ipython",
    "version": 3
   },
   "file_extension": ".py",
   "mimetype": "text/x-python",
   "name": "python",
   "nbconvert_exporter": "python",
   "pygments_lexer": "ipython3",
   "version": "3.7.1"
  }
 },
 "nbformat": 4,
 "nbformat_minor": 2
}
