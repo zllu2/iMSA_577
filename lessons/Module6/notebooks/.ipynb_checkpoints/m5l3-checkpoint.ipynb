{
 "cells": [
  {
   "cell_type": "markdown",
   "metadata": {
    "deletable": true,
    "editable": true
   },
   "source": [
    "# Module 5: Lesson 3\n",
    "\n",
    "-----\n",
    "\n",
    "## Introduction to Text Classification\n",
    "\n",
    "In this lesson, you will be introduced to techniques for classifying text documents, including to perform sentiment analysis. To improve machine classification of text documents, we will identify stop words and demonstrate how they can be removed from the analysis by using NLTK. Next, we will introduce the concept of frequency normalization, where we normalize the frequency of token or word occurrences across multiple documents. Formally, this is known as Term-Frequency, inverse document frequency, or TF-IDF. Finally, we will explore how text classification can be extended to perform sentiment analysis.\n",
    "\n",
    "\n",
    "### Objectives\n",
    "\n",
    "By the end of this lesson, you will be able to:\n",
    "\n",
    "- describe the basic concepts involved in text classification,\n",
    "- identify stop words and remove them from a text corpus,\n",
    "- explain TF-IDF and employ it in a text classification computation, and\n",
    "- apply text classification to perform sentiment analysis by using Python\n",
    "\n",
    "\n",
    "### Time Estimate\n",
    "\n",
    "Approximately 2 hours.\n",
    "\n",
    "### Activities\n",
    "\n",
    "Video: Watch the [Introduction to Text Classification][lv] video, which will discuss how to perform text classification by using Python.\n",
    "\n",
    "Reading: Blog on Sentiment Analysis with NLTK, [Part 1][bsa1] and [Part II][bsa2]\n",
    "\n",
    "Notebook: Read and complete the practice exercises in the [Introduction to Text Classification][l2nb] notebook.\n",
    "\n",
    "------\n",
    "\n",
    "[bsa1]: http://streamhacker.com/2010/05/10/text-classification-sentiment-analysis-naive-bayes-classifier/\n",
    "[bsa2]: http://streamhacker.com/2010/05/17/text-classification-sentiment-analysis-precision-recall/\n",
    "\n",
    "[lv]: https://mediaspace.illinois.edu/media/\n",
    "\n",
    "[l2nb]: intro2tc.ipynb"
   ]
  }
 ],
 "metadata": {
  "kernelspec": {
   "display_name": "Python 3",
   "language": "python",
   "name": "python3"
  },
  "language_info": {
   "codemirror_mode": {
    "name": "ipython",
    "version": 3
   },
   "file_extension": ".py",
   "mimetype": "text/x-python",
   "name": "python",
   "nbconvert_exporter": "python",
   "pygments_lexer": "ipython3",
   "version": "3.6.0"
  }
 },
 "nbformat": 4,
 "nbformat_minor": 2
}
