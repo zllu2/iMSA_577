{
 "cells": [
  {
   "cell_type": "markdown",
   "metadata": {},
   "source": [
    "# Module 6: Lesson 2\n",
    "\n",
    "-----\n",
    "\n",
    "## Introduction to Text Classification I\n",
    "\n",
    "In this lesson, you will be introduced to techniques for classifying text documents with different classification algorithms. We will use a text dataset built-in scikit learn module for the classifications.\n",
    "\n",
    "### Objectives\n",
    "\n",
    "By the end of this lesson, you will be able to:\n",
    "\n",
    "- describe the basic concepts involved in text classification,\n",
    "- apply text classification with different models by using Python\n",
    "\n",
    "\n",
    "### Time Estimate\n",
    "\n",
    "Approximately 2 hours.\n",
    "\n",
    "### Activities\n",
    "\n",
    "Video: Watch the [Introduction to Text Classification][lv] video, which will discuss how to perform text classification by using Python.\n",
    "\n",
    "Notebook: Read and complete the practice exercises in the [Introduction to Text Classification I][l2nb] notebook.\n",
    "\n",
    "------\n",
    "\n",
    "[bsa1]: http://streamhacker.com/2010/05/10/text-classification-sentiment-analysis-naive-bayes-classifier/\n",
    "[bsa2]: http://streamhacker.com/2010/05/17/text-classification-sentiment-analysis-precision-recall/\n",
    "\n",
    "[lv]: https://mediaspace.illinois.edu/media/t/1_2nixbm1o/80455691\n",
    "\n",
    "[l2nb]: intro2tc.ipynb"
   ]
  }
 ],
 "metadata": {
  "kernelspec": {
   "display_name": "Python 3",
   "language": "python",
   "name": "python3"
  },
  "language_info": {
   "codemirror_mode": {
    "name": "ipython",
    "version": 3
   },
   "file_extension": ".py",
   "mimetype": "text/x-python",
   "name": "python",
   "nbconvert_exporter": "python",
   "pygments_lexer": "ipython3",
   "version": "3.7.1"
  }
 },
 "nbformat": 4,
 "nbformat_minor": 2
}
