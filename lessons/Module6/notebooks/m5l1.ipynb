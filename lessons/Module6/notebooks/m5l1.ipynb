{
 "cells": [
  {
   "cell_type": "markdown",
   "metadata": {},
   "source": [
    "# Module 5: Lesson 1\n",
    "\n",
    "-----\n",
    "\n",
    "##  Introduction to Text Analytics for Business\t\n",
    "\n",
    "In this lesson, you will learn about different ways that text analytics are used for accounting and business operations. \n",
    "\n",
    "### Objectives\n",
    "\n",
    "By the end of this lesson, you will be able to  \n",
    "\n",
    "- articulate the importance of unstructured data for predictive analytics,\n",
    "- identify different forms of unstructured text data, and\n",
    "- explain how text analytics can be used in Accountancy and Business.\n",
    "\n",
    "\n",
    "### Time Estimate\n",
    "\n",
    "Approximately 1 hour.\n",
    "\n",
    "### Activities\n",
    "\n",
    "Video: Watch the [Introduction to Text Analytics][lv] video, which will discuss unstructured business text data and how it can be used for predictive analytics.\n",
    "\n",
    "Reading: Deloitte's [three minute guide][3mg] to text analytics\n",
    "\n",
    "Reading: Deloitte's guide to improving [fraud monitoring with analytics][dbf]\n",
    "\n",
    "Reading: NY Times' story on the [impact of text analytics][nytta]\n",
    "\n",
    "------\n",
    "\n",
    "\n",
    "\n",
    "[3mg]: https://www2.deloitte.com/content/dam/Deloitte/global/Documents/Deloitte-Analytics/dttl-analytics-us-ba-textanalytics3minguide.pdf\n",
    "\n",
    "[dbf]: http://deloitte.wsj.com/riskandcompliance/2013/08/19/four-steps-to-improve-bank-fraud-monitoring-with-analytics/\n",
    "\n",
    "[nytta]: http://www.nytimes.com/2003/10/16/technology/digging-for-nuggets-of-wisdom.html\n",
    "\n",
    "[lv]: https://mediaspace.illinois.edu/media/t/1_msb42wy6/80455691"
   ]
  }
 ],
 "metadata": {
  "kernelspec": {
   "display_name": "Python 3",
   "language": "python",
   "name": "python3"
  },
  "language_info": {
   "codemirror_mode": {
    "name": "ipython",
    "version": 3
   },
   "file_extension": ".py",
   "mimetype": "text/x-python",
   "name": "python",
   "nbconvert_exporter": "python",
   "pygments_lexer": "ipython3",
   "version": "3.6.1"
  }
 },
 "nbformat": 4,
 "nbformat_minor": 2
}
