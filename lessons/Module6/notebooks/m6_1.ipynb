{
 "cells": [
  {
   "cell_type": "markdown",
   "metadata": {},
   "source": [
    "# Module 6: Lesson 1\n",
    "\n",
    "-----\n",
    "\n",
    "## Introduction to Text Analytics\n",
    "\n",
    "In this lesson, you will be introduced to basic concepts in text analytics, starting with the conversion of a sequence of characters that make up a text document into numerical data that can be computationally processed. By parsing textual data into tokens, we can create a count of word occurrences within a document, which when normalized by the total number of words in the document, provides word frequencies. This collection of words contained within a document is formally known as a bag of words, and is a standard technique for text analytics. For multiple documents, or subsections within a single document, we can turn this bag of words into a matrix, where each row is a new document (or text item, like a tweet, email, or web page) and each column is a count (or frequency) of a specific word. Given the number of words, a document matrix can quickly become large, which introduces important computational issues that must be addressed in text analysis. We will also introduce the concepts of stop words, stemming and a special way to create document matrix which is called TF-IDF.\n",
    "\n",
    "### Objectives\n",
    "\n",
    "By the end of this lesson, you will be able to \n",
    "\n",
    "- articulate the concepts of parsing a text document into a sequence of tokens, or words,\n",
    "- articulate the concepts of stop words, stemming,\n",
    "- describe the bag of words model and TF-IDF,\n",
    "- explain the document matrix concept,\n",
    "- create a bag of words from a text document by using Python, and\n",
    "- create a document matrix by using scikit learn.\n",
    "\n",
    "### Time Estimate\n",
    "\n",
    "Approximately 2 hours.\n",
    "\n",
    "### Activities\n",
    "\n",
    "Video: Watch the [Introduction to Text Analytics][lv] video, which will discuss basic concepts in text analytics.\n",
    "\n",
    "Notebook: Read and complete the practice exercises in the [Introduction to Text Analytics][intro2ta] notebook.\n",
    "\n",
    "------\n",
    "\n",
    "[lv]: https://mediaspace.illinois.edu/media/t/1_u3y502tl/80455691\n",
    "\n",
    "[intro2ta]: intro2ta.ipynb"
   ]
  }
 ],
 "metadata": {
  "kernelspec": {
   "display_name": "Python 3",
   "language": "python",
   "name": "python3"
  },
  "language_info": {
   "codemirror_mode": {
    "name": "ipython",
    "version": 3
   },
   "file_extension": ".py",
   "mimetype": "text/x-python",
   "name": "python",
   "nbconvert_exporter": "python",
   "pygments_lexer": "ipython3",
   "version": "3.7.3"
  }
 },
 "nbformat": 4,
 "nbformat_minor": 2
}
