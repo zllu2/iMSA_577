{
 "cells": [
  {
   "cell_type": "markdown",
   "metadata": {},
   "source": [
    "# Module 7: Introduction to Clustering\n",
    "\n",
    "This module introduces clustering, where data points are assigned to sub groups of points based on some specific properties, such as spatial distance or the local density of points. While humans often find clusters visually with ease in a given data sets, computationally the problem is more challenging. This module starts by exploring the basic ideas behind this unsupervised learning technique. One of the most popular clustering techniques, K-means, is introduced. Next, a K-means case study is provided. Finally the density-based DB-SCAN technique is introduced.\n",
    "\n",
    "\n",
    "## Learning Objectives\n",
    "\n",
    "#### By the end of this module, you should be able to:\n",
    "\n",
    "- articulate that basic concepts behind clustering and provide examples where it is commonly used by businesses,\n",
    "- understand the basic concepts of the K-means, DB-SCAN, and\n",
    "- employ these algorithms within a Python data analytics script by using the scikit learn module.\n",
    "\n",
    "### Activities and Assignments\n",
    "\n",
    "| Activities and Assignments               | Time Estimate | Deadline | Points |\n",
    "| :--------------------------------------- | ------------- | --------- | -----: |\n",
    "| **[Module 7 Overview Video][wv]**      | 10 Minutes    | N/A |    N/A |\n",
    "| **[Module 7 Lesson 1: Introduction to K-means Clustering][nb1]** | 2 Hours   | N/A  |     N/A |\n",
    "| **[Module 7 Lesson 2: K-means Case Study][nb2]** | 2 Hours | N/A  |     N/A |\n",
    "| **[Module 7 Lesson 3: Introduction to Density-Based Clustering][nb3]** | 2 Hours | N/A  |     N/A |\n",
    "| **[Module 7 Assignment Low][mal]**                    | 1 hour   | Sunday    |  25 |\n",
    "| **[Module 7 Assignment High][mah]**                    | 1 hour   | Sunday    |  75 |\n",
    "\n",
    "----------\n",
    "\n",
    "[nb1]: notebooks/m7_1.ipynb\n",
    "[nb2]: notebooks/m7_2.ipynb\n",
    "[nb3]: notebooks/m7_3.ipynb\n",
    "\n",
    "[wv]: https://mediaspace.illinois.edu/media/t/1_j5kk4kgs\n",
    "[mal]: ../../assignments/Release/Module7/assignment_low.ipynb\n",
    "[mah]: ../../assignments/Release/Module7/assignment_high.ipynb"
   ]
  },
  {
   "cell_type": "markdown",
   "metadata": {
    "deletable": false
   },
   "source": [
    "**&copy; 2019: Gies College of Business at the University of Illinois.**\n",
    "\n",
    "This notebook is released under the [Creative Commons license CC BY-NC-SA 4.0][ll]. Any reproduction, adaptation, distribution, dissemination or making available of this notebook for commercial use is not allowed unless authorized in writing by the copyright holder.\n",
    "\n",
    "[ll]: https://creativecommons.org/licenses/by-nc-sa/4.0/legalcode "
   ]
  }
 ],
 "metadata": {
  "kernelspec": {
   "display_name": "Python 3",
   "language": "python",
   "name": "python3"
  },
  "language_info": {
   "codemirror_mode": {
    "name": "ipython",
    "version": 3
   },
   "file_extension": ".py",
   "mimetype": "text/x-python",
   "name": "python",
   "nbconvert_exporter": "python",
   "pygments_lexer": "ipython3",
   "version": "3.7.3"
  }
 },
 "nbformat": 4,
 "nbformat_minor": 2
}
