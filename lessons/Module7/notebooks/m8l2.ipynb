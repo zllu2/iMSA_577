{
 "cells": [
  {
   "cell_type": "markdown",
   "metadata": {},
   "source": [
    "# Module 8: Lesson 2\n",
    "\n",
    "-----\n",
    "\n",
    "## Introduction to Network Analysis: Graph Concepts\n",
    "\n",
    "In this lesson, you will learn basic graph concepts in network analysis. Specifically, we will start by introducing the concept of a node, and how nodes can be connected in a graph by edges. Next, we will contrast undirected and directed graphs, before discussing how graphs, nodes, and edges can all posses attributes. We will also explore the underlying graph matrix representations including the adjacency and incidence matrices. Finally, we will learn how to perform basic graph visualizations in Python.\n",
    "\n",
    "### Objectives\n",
    "\n",
    "By the end of this lesson, you will be able to \n",
    "\n",
    "- explain the basic graph concepts including nodes and edges,\n",
    "- describe the differences between undirected and directed graphs,\n",
    "- articulate the relationship between a graph and its adjacency and incidence matrices, and\n",
    "- create and visualize a graph in Python by using the NetworkX library.\n",
    "\n",
    "### Time Estimate\n",
    "\n",
    "Approximately 2 hours.\n",
    "\n",
    "### Activities\n",
    "\n",
    "Video: Watch the [Introduction to Network Analysis: Graph Concepts][lv] video, which will discuss the basic graph concepts.\n",
    "\n",
    "Reading: Wikipedia articles on the [Graph][wgt] data type, [Adjacency Matrix][wam], and [Incidence Matrix][wim]\n",
    "\n",
    "Reading: Visualize sample graphs: [Force-directed][vfd], [Edge-Binding][veb], and [Uber Rides][vur], and the [Adjacency Matrix][vam], note, be sure to change the order of the matrix elements in these visualizations\n",
    "\n",
    "Notebook: Read and complete the practice exercises in the [Introduction to Network Analysis: Graph Concepts][l1nb] notebook.\n",
    "\n",
    "------\n",
    "\n",
    "[wgt]: https://en.wikipedia.org/wiki/Graph_theory\n",
    "[wam]: https://en.wikipedia.org/wiki/Adjacency_matrix\n",
    "[wim]: https://en.wikipedia.org/wiki/Incidence_matrix\n",
    "\n",
    "[vfd]: http://bl.ocks.org/mbostock/4062045\n",
    "[veb]: http://bl.ocks.org/mbostock/7607999\n",
    "[vur]: https://bost.ocks.org/mike/uberdata/\n",
    "[vam]: https://bost.ocks.org/mike/miserables/\n",
    "\n",
    "[lv]: https://mediaspace.illinois.edu/media/t/1_thjodofb/80455691\n",
    "\n",
    "[l1nb]: intro2na-gc.ipynb"
   ]
  }
 ],
 "metadata": {
  "kernelspec": {
   "display_name": "Python 3",
   "language": "python",
   "name": "python3"
  },
  "language_info": {
   "codemirror_mode": {
    "name": "ipython",
    "version": 3
   },
   "file_extension": ".py",
   "mimetype": "text/x-python",
   "name": "python",
   "nbconvert_exporter": "python",
   "pygments_lexer": "ipython3",
   "version": "3.7.1"
  }
 },
 "nbformat": 4,
 "nbformat_minor": 2
}
