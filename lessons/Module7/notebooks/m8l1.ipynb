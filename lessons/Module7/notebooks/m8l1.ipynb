{
 "cells": [
  {
   "cell_type": "markdown",
   "metadata": {},
   "source": [
    "# Module 8: Lesson 1\n",
    "\n",
    "-----\n",
    "\n",
    "## Introduction to Network Analysis\n",
    "\n",
    "This lesson will introduce network analysis, and present different ways that this new technique can generate insights into accountancy and business data by focusing on both the data and the relationships amongst the data.\n",
    "\n",
    "### Objectives\n",
    "\n",
    "By the end of this lesson, you will be able to  \n",
    "\n",
    "- describe how relationships between data can be used to define a network, \n",
    "- explain how network analysis can be used to drive innovation, and\n",
    "- identify how network analysis can be used in accountancy and business.\n",
    "\n",
    "### Time Estimate\n",
    "\n",
    "Approximately 1 hour.\n",
    "\n",
    "### Activities\n",
    "\n",
    "Video: Watch the [Introduction to Network Analysis][lv] video, which will introduce network, or graph, analysis and describe ways that it can be used to impact accountancy and business.\n",
    "\n",
    "Reading: Article on application of [network analysis][naf] for fraud detection  \n",
    "Reading: Deloitte article on [organizational network analysis][ona]\n",
    "\n",
    "------\n",
    "\n",
    "[naf]: https://sctr7.com/2014/06/27/the-cutting-edge-network-analytics-for-financial-fraud-detection-and-mitigation/\n",
    "\n",
    "[ona]: https://www2.deloitte.com/content/dam/Deloitte/us/Documents/human-capital/us-cons-organizational-network-analysis.pdf\n",
    "\n",
    "[lv]: https://mediaspace.illinois.edu/media/t/1_15qwe04w/80455691"
   ]
  }
 ],
 "metadata": {
  "kernelspec": {
   "display_name": "Python 3",
   "language": "python",
   "name": "python3"
  },
  "language_info": {
   "codemirror_mode": {
    "name": "ipython",
    "version": 3
   },
   "file_extension": ".py",
   "mimetype": "text/x-python",
   "name": "python",
   "nbconvert_exporter": "python",
   "pygments_lexer": "ipython3",
   "version": "3.6.1"
  }
 },
 "nbformat": 4,
 "nbformat_minor": 2
}
