{
 "cells": [
  {
   "cell_type": "markdown",
   "metadata": {},
   "source": [
    "# Module 8: Lesson 4\n",
    "\n",
    "-----\n",
    "\n",
    "##  Introduction to Network Analysis: Social Media ##\n",
    "\n",
    "In this lesson, you will learn about network analysis applied to social media. Specifically, we will take techniques presented in the first two lessons from this week, and apply them to social media data sources that were discussed in a previous module. You will learn about social networking concepts like circles, cliques, and clusters, and about the concept of centrality, which quantifies the importance of a node in a network. Finally, you will learn to build an actual social network graph in Python by using the NetworkX library. \n",
    "\n",
    "\n",
    "### Objectives\n",
    "\n",
    "By the end of this lesson, you will be able to:\n",
    "\n",
    "- explain basic social networking concepts such as cliques, social circles, clusters, and centrality, \n",
    "- describe the utility of graph analysis to social media, and\n",
    "- construct a social graph by applying NetworkX to social media data.\n",
    "\n",
    "### Time Estimate\n",
    "\n",
    "Approximately 2 hours.\n",
    "\n",
    "### Activities\n",
    "\n",
    "Video: Watch the [Introduction to Network Analysis: Social Media][lv] video, which will discuss how social media data can be used to construct a network that can provide insight into those users generating the content.\n",
    "\n",
    "Reading: Wikipedia article on [Social Network Analysis][wsna]  \n",
    "Reading: Basic [Graph Analysis Concepts][bgac]  \n",
    "Reading: Visualizations of social networks, [part 1][p1], [part 2][p2], and [part 3][p3]  \n",
    "\n",
    "Notebook: Read and complete the practice exercises in the [Introduction to Network Analysis: Social Media][l3nb] notebook.\n",
    "\n",
    "------\n",
    "\n",
    "[wsna]: https://en.wikipedia.org/wiki/Social_network_analysis\n",
    "\n",
    "[p1]: http://neoformix.com/2012/DataVisField.html\n",
    "[p2]: http://neoformix.com/2012/DataVisFieldSubGroups.html\n",
    "[p3]: http://neoformix.com/2012/DataVisFieldConnections.html\n",
    "\n",
    "[bgac]: http://www.orgnet.com/sna.html\n",
    "\n",
    "[lv]: https://mediaspace.illinois.edu/media/t/1_9vddixmf/80455691\n",
    "\n",
    "[l3nb]: intro2na-sm.ipynb"
   ]
  }
 ],
 "metadata": {
  "kernelspec": {
   "display_name": "Python 3",
   "language": "python",
   "name": "python3"
  },
  "language_info": {
   "codemirror_mode": {
    "name": "ipython",
    "version": 3
   },
   "file_extension": ".py",
   "mimetype": "text/x-python",
   "name": "python",
   "nbconvert_exporter": "python",
   "pygments_lexer": "ipython3",
   "version": "3.7.1"
  }
 },
 "nbformat": 4,
 "nbformat_minor": 2
}
