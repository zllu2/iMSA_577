{
 "cells": [
  {
   "cell_type": "markdown",
   "metadata": {},
   "source": [
    "# Module 8: Lesson 3\n",
    "\n",
    "-----\n",
    "\n",
    "## Introduction to Network Analysis: Graph Analysis\n",
    "\n",
    "In this lesson, you will learn about special types of graphs, including cycles, complete graphs, and complete bipartite graphs. Next, you will learn about traversing graphs, which can be done via a depth-first search, a breadth-first search, or a general exploration. Finally, you will learn about algorithms for analyzing the data represented by a graph to compute distance, diameter, and density by using the NetworkX Python library.\n",
    "\n",
    "### Objectives\n",
    "\n",
    "By the end of this lesson, you will be able to:\n",
    "\n",
    "- explain the basic graph families including complete graphs, bipartite graphs, and cycles,\n",
    "- describe the analysis of graphs including the concepts of density, distance, diameter, and graph traversal, and\n",
    "- apply basic graph analysis techniques in Python by using NetworkX.\n",
    "\n",
    "### Time Estimate\n",
    "\n",
    "Approximately 2 hours.\n",
    "\n",
    "### Activities\n",
    "\n",
    "Video: Watch the [Introduction to Network Analysis: Graph Analysis][lv] video, which will discuss different types of graphs and how they can be traversed.\n",
    "\n",
    "Reading: Wikipedia articles on [Graph Types][wgt] and on [Graph Traversal][wgtr]  \n",
    "Reading: The Python [Graph Analysis][pga], starting with the _Paths in Graphs_ section\n",
    "\n",
    "Notebook: Read and complete the practice exercises in the [Introduction to Network Analysis: Graph Analysis][l2nb] notebook\n",
    "\n",
    "-----\n",
    "\n",
    "[wgt]: https://en.wikipedia.org/wiki/Gallery_of_named_graphs\n",
    "[wgtr]: https://en.wikipedia.org/wiki/Graph_traversal\n",
    "\n",
    "[pga]: http://www.python-course.eu/graphs_python.php\n",
    "\n",
    "[lv]: https://mediaspace.illinois.edu/media/t/1_gzwxip06/80455691\n",
    "\n",
    "[l2nb]: intro2na-ga.ipynb"
   ]
  }
 ],
 "metadata": {
  "kernelspec": {
   "display_name": "Python 3",
   "language": "python",
   "name": "python3"
  },
  "language_info": {
   "codemirror_mode": {
    "name": "ipython",
    "version": 3
   },
   "file_extension": ".py",
   "mimetype": "text/x-python",
   "name": "python",
   "nbconvert_exporter": "python",
   "pygments_lexer": "ipython3",
   "version": "3.7.1"
  }
 },
 "nbformat": 4,
 "nbformat_minor": 2
}
