{
 "cells": [
  {
   "cell_type": "markdown",
   "metadata": {},
   "source": [
    "# Module 7: Lesson 2\n",
    "\n",
    "-----\n",
    "\n",
    "## k-Means Case Study\n",
    "\n",
    "This lesson introduces how to apply k-means clustering on a real word dataset, the credit card dataset, to develop a customer segmentation for marketing strategy.\n",
    "\n",
    "### Objectives\n",
    "\n",
    "By the end of this lesson, you will\n",
    "\n",
    "- be familiar with applications of clustering such as customer segmentation.\n",
    "- understand the process of applying k-means for a real world task,\n",
    "\n",
    "### Time Estimate\n",
    "\n",
    "Approximately 2 hour.\n",
    "\n",
    "### Activities\n",
    "\n",
    "Video: Watch the [Introduction to Clustering ][icv] video, which will demonstrate review many of the basic concepts and applications for clustering.\n",
    "\n",
    "Notebook: Read and complete the practice exercises in the [k-Means Case Study][intro2km_case] notebook.\n",
    "\n",
    "------\n",
    "\n",
    "[csm]: http://www.optimove.com/blog/customer-segmentation-for-more-effective-marketing\n",
    "\n",
    "[bcdm]: https://www.dataentryoutsourced.com/blog/how-businesses-can-use-clustering-in-data-mining/\n",
    "\n",
    "[icv]: https://mediaspace.illinois.edu/media/t/1_9tl3do0d\n",
    "\n",
    "[intro2km_case]: intro2km_case.ipynb"
   ]
  },
  {
   "cell_type": "markdown",
   "metadata": {
    "deletable": false,
    "editable": false
   },
   "source": [
    "**&copy; 2019: Gies College of Business at the University of Illinois.**\n",
    "\n",
    "This notebook is released under the [Creative Commons license CC BY-NC-SA 4.0][ll]. Any reproduction, adaptation, distribution, dissemination or making available of this notebook for commercial use is not allowed unless authorized in writing by the copyright holder.\n",
    "\n",
    "[ll]: https://creativecommons.org/licenses/by-nc-sa/4.0/legalcode "
   ]
  }
 ],
 "metadata": {
  "celltoolbar": "Edit Metadata",
  "kernelspec": {
   "display_name": "Python 3",
   "language": "python",
   "name": "python3"
  },
  "language_info": {
   "codemirror_mode": {
    "name": "ipython",
    "version": 3
   },
   "file_extension": ".py",
   "mimetype": "text/x-python",
   "name": "python",
   "nbconvert_exporter": "python",
   "pygments_lexer": "ipython3",
   "version": "3.7.3"
  }
 },
 "nbformat": 4,
 "nbformat_minor": 2
}
