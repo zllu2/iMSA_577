{
 "cells": [
  {
   "cell_type": "markdown",
   "metadata": {},
   "source": [
    "# Module 8: Lesson 1\n",
    "\n",
    "-----\n",
    "\n",
    "## Working with Times and Dates \n",
    "\n",
    "In this lesson, you will learn how to work with time and dates within a Python program. While seemingly simple, times and dates have a number of nuances that can complicate using them within a program. The Python language provides a complete interface to working with times and dates from around the world in a simple and effective manner.\n",
    "\n",
    "\n",
    "### Objectives\n",
    "\n",
    "By the end of this lesson, you will be able to  \n",
    "\n",
    "\n",
    "- understand python date, time and timedelta objects,\n",
    "- understand the formal process by which time zones are handled,\n",
    "- process and compute times and dates from within a Python program, and\n",
    "- convert date and time string to datetime object in pandas DataFrame\n",
    "\n",
    "### Time Estimate\n",
    "\n",
    "Approximately 2 hours.\n",
    "\n",
    "### Activities\n",
    "\n",
    "Video: Watch the [Working with Time and Dates][lv] video, which will introduce how to work with time and dates from within a Python program.\n",
    "\n",
    "Reading: Read the Deloitte article discussing economic outlook in the [United States][useo].\n",
    "\n",
    "Reading: Read about how [times and dates are handled computationally][wtd] under international standards. \n",
    "\n",
    "Reading: Read how to [work with times and dates][wtdp] by using standard Python modules.\n",
    "\n",
    "Notebook: Read and complete the practice exercises in the [Working with Times and Dates][intro2td] with Python notebook.\n",
    "\n",
    "------\n",
    "\n",
    "[useo]: https://www2.deloitte.com/insights/us/en/economy/us-economic-forecast/united-states-outlook-analysis.html\n",
    "\n",
    "[wtd]: https://en.wikipedia.org/wiki/Tz_database\n",
    "[wtdp]: https://opensource.com/article/17/5/understanding-datetime-python-primer\n",
    "\n",
    "[lv]: https://mediaspace.illinois.edu/media/\n",
    "\n",
    "[intro2td]: intro2td.ipynb"
   ]
  }
 ],
 "metadata": {
  "kernelspec": {
   "display_name": "Python 3",
   "language": "python",
   "name": "python3"
  },
  "language_info": {
   "codemirror_mode": {
    "name": "ipython",
    "version": 3
   },
   "file_extension": ".py",
   "mimetype": "text/x-python",
   "name": "python",
   "nbconvert_exporter": "python",
   "pygments_lexer": "ipython3",
   "version": "3.7.1"
  }
 },
 "nbformat": 4,
 "nbformat_minor": 2
}
