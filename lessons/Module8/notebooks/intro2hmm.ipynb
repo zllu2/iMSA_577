{
 "cells": [
  {
   "cell_type": "markdown",
   "metadata": {
    "deletable": true,
    "editable": true
   },
   "source": [
    "# Introduction to Hidden Markov Models\n",
    "\n",
    "-----"
   ]
  },
  {
   "cell_type": "markdown",
   "metadata": {
    "deletable": true,
    "editable": true
   },
   "source": [
    "In this notebook, we introduce hidden Markov models.\n",
    "\n",
    "-----\n"
   ]
  },
  {
   "cell_type": "markdown",
   "metadata": {
    "deletable": true,
    "editable": true
   },
   "source": [
    "## Table of Contents\n",
    "\n",
    "\n",
    "[Hidden Markov Model](#Hidden-Markov-Model)\n",
    "\n",
    "\n",
    "[](#)\n",
    "\n",
    "\n",
    "[](#)\n",
    "\n",
    "\n",
    "-----\n",
    "\n",
    "Before proceeding with the rest of this notebook, we first include the notebook setup code.\n",
    "\n",
    "-----"
   ]
  },
  {
   "cell_type": "code",
   "execution_count": 1,
   "metadata": {
    "collapsed": false,
    "deletable": true,
    "editable": true
   },
   "outputs": [
    {
     "data": {
      "text/plain": [
       "1"
      ]
     },
     "execution_count": 1,
     "metadata": {},
     "output_type": "execute_result"
    }
   ],
   "source": [
    "1"
   ]
  },
  {
   "cell_type": "code",
   "execution_count": 2,
   "metadata": {
    "collapsed": true,
    "deletable": true,
    "editable": true
   },
   "outputs": [],
   "source": [
    "# Set up Notebook\n",
    "\n",
    "% matplotlib inline\n",
    "\n",
    "# Standard imports\n",
    "import numpy as np\n",
    "import pandas as pd\n",
    "import matplotlib.pyplot as plt\n",
    "import seaborn as sns\n",
    "\n",
    "# These two lines suppress warnings that sometimes\n",
    "# occur when making visualizations\n",
    "import warnings\n",
    "warnings.filterwarnings('ignore')\n",
    "\n",
    "# Set global figure properties\n",
    "import matplotlib as mpl\n",
    "mpl.rcParams.update({'axes.titlesize' : 20,\n",
    "                     'axes.labelsize' : 18,\n",
    "                     'legend.fontsize': 16})\n",
    "\n",
    "# Set default Seaborn plotting style\n",
    "sns.set_style('white')\n",
    "\n",
    "rng = np.random.RandomState(23)"
   ]
  },
  {
   "cell_type": "markdown",
   "metadata": {
    "deletable": true,
    "editable": true
   },
   "source": [
    "-----\n",
    "\n",
    "[[Back to TOC]](#Table-of-Contents)\n",
    "\n",
    "## Hidden Markov Model\n",
    "\n",
    "In this notebook uses a hidden Markov model to simulate observations of a series of auditors. We assume there are two auditors that write down numbers (or states), one is always fair and the other is fair part of the time. We transition between the two auditors as a Markov process with state transition probabilities, and we have initial odds of choosing either auditor as our starting point. The following Code cells generate this simulations, and generate visualizations showing which auditor is being used at any time (normally this would be hidden), as well as the numbers written down by the auditors (which is normally all we would observe).\n",
    "\n",
    "https://github.com/lcdm-uiuc/accy571-fa17/blob/master/Module9/notebooks/intro2mc.ipynb\n",
    "\n",
    "-----"
   ]
  },
  {
   "cell_type": "code",
   "execution_count": 3,
   "metadata": {
    "collapsed": false,
    "deletable": true,
    "editable": true
   },
   "outputs": [],
   "source": [
    "n_states = 5\n",
    "size = 1000\n",
    "\n",
    "odds = np.array([7./10, 3./10])\n",
    "stp_array = np.array([[0.95, 0.05], [0.1, 0.9]])\n",
    "obs_states = np.array([[1./n_states for i in range(n_states)], \n",
    "                       [0.1, 0.1, 0.1, 0.1, 0.6]])"
   ]
  },
  {
   "cell_type": "code",
   "execution_count": 4,
   "metadata": {
    "collapsed": false
   },
   "outputs": [
    {
     "data": {
      "text/plain": [
       "array([[ 0.2,  0.2,  0.2,  0.2,  0.2],\n",
       "       [ 0.1,  0.1,  0.1,  0.1,  0.6]])"
      ]
     },
     "execution_count": 4,
     "metadata": {},
     "output_type": "execute_result"
    }
   ],
   "source": [
    "obs_states"
   ]
  },
  {
   "cell_type": "code",
   "execution_count": 4,
   "metadata": {
    "collapsed": true,
    "deletable": true,
    "editable": true
   },
   "outputs": [],
   "source": [
    "hidden_state = np.zeros(size, dtype=np.int8)\n",
    "\n",
    "hidden_state[0] = rng.choice([0, 1], size = 1, p=odds)[0]\n",
    "\n",
    "for idx in range(1, size):\n",
    "    hidden_state[idx] = rng.choice(range(stp_array.shape[1]), size = 1,\n",
    "                                         p=stp_array[hidden_state[idx - 1]])[0]"
   ]
  },
  {
   "cell_type": "code",
   "execution_count": 6,
   "metadata": {
    "collapsed": false,
    "deletable": true,
    "editable": true
   },
   "outputs": [
    {
     "name": "stdout",
     "output_type": "stream",
     "text": [
      "Number of Good states = 686\n",
      "Number of Bad states = 314\n"
     ]
    }
   ],
   "source": [
    "good = np.where(hidden_state==0)\n",
    "bad = np.where(hidden_state==1)\n",
    "print(f'Number of Good states = {good[0].shape[0]}')\n",
    "print(f'Number of Bad states = {bad[0].shape[0]}')"
   ]
  },
  {
   "cell_type": "code",
   "execution_count": 7,
   "metadata": {
    "collapsed": false,
    "deletable": true,
    "editable": true
   },
   "outputs": [
    {
     "data": {
      "image/png": "[encoded data removed]",
      "text/plain": [
       "<matplotlib.figure.Figure at 0x7fef555d0cf8>"
      ]
     },
     "metadata": {},
     "output_type": "display_data"
    }
   ],
   "source": [
    "from matplotlib.patches import Rectangle\n",
    "from matplotlib.collections import PatchCollection\n",
    "fig, ax = plt.subplots(figsize=(16, 2))\n",
    "\n",
    "patches = [Rectangle((x, 0), 1, 1) for x in good[0]]\n",
    "pc = PatchCollection(patches, facecolor=sns.xkcd_rgb['denim blue'], alpha=0.75)\n",
    "ax.add_collection(pc)   \n",
    "\n",
    "patches = [Rectangle((x, 0), 1, 1) for x in bad[0]]\n",
    "pc = PatchCollection(patches, facecolor=sns.xkcd_rgb['pale green'], alpha=0.75)\n",
    "ax.add_collection(pc)\n",
    "\n",
    "ax.set(title='Hidden States (Blue=Good | Green=Bad)',\n",
    "      xlabel='State', xlim = (0, size))\n",
    "\n",
    "sns.despine(offset=5)\n",
    "ax.spines['left'].set_visible(False)\n",
    "ax.set_yticks([]) ;"
   ]
  },
  {
   "cell_type": "code",
   "execution_count": 8,
   "metadata": {
    "collapsed": true,
    "deletable": true,
    "editable": true
   },
   "outputs": [],
   "source": [
    "obs_state = np.zeros(size, dtype=np.int8)\n",
    "\n",
    "for idx in range(size):\n",
    "    obs_state[idx] = rng.choice(range(obs_states.shape[1]), size = 1, \n",
    "                                      p=obs_states[hidden_state[idx]])[0]"
   ]
  },
  {
   "cell_type": "code",
   "execution_count": 9,
   "metadata": {
    "collapsed": false,
    "deletable": true,
    "editable": true
   },
   "outputs": [
    {
     "data": {
      "text/plain": [
       "array([4, 4, 0, 1, 4, 3, 4, 3, 2, 2, 3, 1, 4, 1, 1, 3, 2, 1, 3, 1, 1, 1, 1,\n",
       "       4, 4, 2, 2, 4, 1, 2, 4, 2, 1, 2, 0, 2, 4, 2, 4, 0, 1, 2, 1, 2, 3, 3,\n",
       "       1, 2, 3, 2, 2, 0, 4, 4, 4, 4, 2, 1, 3, 0, 4, 4, 4, 4, 0, 4, 4, 4, 4,\n",
       "       0, 4, 0, 4, 4, 2, 4, 0, 0, 1, 2, 1, 4, 2, 4, 0, 1, 3, 2, 4, 2, 2, 2,\n",
       "       0, 2, 0, 0, 2, 1, 4, 0, 3, 1, 3, 3, 2, 2, 1, 0, 1, 2, 2, 4, 0, 4, 2,\n",
       "       0, 2, 4, 1, 3, 4, 4, 1, 4, 4, 4, 1, 4, 0, 4, 4, 4, 1, 4, 3, 1, 4, 2,\n",
       "       3, 2, 4, 2, 4, 3, 4, 3, 1, 3, 4, 4, 4, 1, 4, 0, 0, 3, 2, 3, 1, 4, 2,\n",
       "       1, 4, 4, 0, 4, 0, 2, 3, 1, 0, 0, 1, 3, 0, 2, 1, 3, 2, 0, 0, 4, 4, 4,\n",
       "       3, 4, 4, 2, 4, 4, 4, 0, 3, 0, 4, 4, 2, 4, 4, 0, 0, 1, 4, 1, 4, 0, 4,\n",
       "       2, 2, 4, 1, 2, 0, 3, 0, 0, 2, 2, 1, 4, 1, 0, 1, 1, 2, 4, 4, 4, 2, 0,\n",
       "       4, 4, 4, 3, 4, 3, 4, 1, 3, 2, 4, 2, 3, 2, 2, 4, 2, 1, 4, 1, 0, 4, 4,\n",
       "       4, 2, 2, 0, 3, 1, 3, 0, 2, 1, 4, 0, 4, 2, 2, 3, 1, 2, 3, 2, 4, 4, 2,\n",
       "       0, 1, 4, 4, 3, 4, 0, 2, 1, 1, 0, 1, 1, 2, 4, 1, 1, 4, 3, 3, 1, 4, 2,\n",
       "       4, 4, 4, 0, 4, 3, 4, 1, 2, 1, 0, 2, 2, 4, 3, 3, 0, 0, 4, 4, 0, 2, 1,\n",
       "       4, 4, 1, 3, 4, 3, 3, 4, 4, 4, 2, 3, 3, 1, 0, 2, 2, 3, 4, 4, 3, 1, 4,\n",
       "       4, 4, 0, 4, 2, 4, 0, 1, 2, 4, 1, 2, 1, 4, 3, 2, 1, 0, 4, 0, 2, 4, 1,\n",
       "       2, 2, 1, 2, 4, 4, 3, 1, 2, 2, 1, 0, 1, 0, 3, 4, 2, 2, 0, 3, 3, 4, 1,\n",
       "       2, 4, 2, 3, 1, 1, 2, 3, 4, 4, 4, 4, 2, 4, 1, 0, 4, 3, 0, 4, 3, 2, 3,\n",
       "       2, 1, 1, 0, 2, 1, 3, 1, 1, 1, 2, 4, 2, 0, 0, 0, 3, 4, 0, 2, 2, 3, 2,\n",
       "       4, 1, 0, 4, 4, 3, 4, 4, 3, 1, 0, 4, 0, 3, 4, 4, 0, 3, 1, 1, 3, 4, 3,\n",
       "       4, 1, 2, 2, 1, 1, 2, 2, 2, 0, 1, 2, 4, 3, 3, 0, 2, 2, 2, 4, 2, 3, 4,\n",
       "       2, 4, 3, 1, 1, 3, 0, 2, 2, 2, 4, 4, 2, 3, 1, 2, 0, 3, 2, 0, 3, 2, 4,\n",
       "       4, 4, 4, 4, 4, 4, 4, 4, 4, 4, 1, 0, 3, 0, 1, 1, 0, 4, 1, 3, 2, 1, 4,\n",
       "       0, 0, 4, 4, 0, 0, 2, 3, 4, 4, 3, 3, 2, 1, 3, 0, 0, 4, 2, 3, 1, 1, 3,\n",
       "       2, 1, 3, 0, 4, 3, 0, 2, 0, 1, 0, 1, 4, 2, 1, 3, 1, 0, 2, 1, 2, 4, 2,\n",
       "       3, 2, 4, 4, 1, 0, 4, 0, 0, 4, 4, 4, 3, 3, 1, 4, 4, 4, 1, 0, 1, 4, 1,\n",
       "       2, 2, 0, 2, 1, 0, 4, 1, 1, 3, 3, 2, 1, 4, 3, 3, 0, 2, 1, 3, 2, 4, 4,\n",
       "       2, 4, 0, 0, 4, 3, 4, 4, 0, 0, 4, 4, 4, 3, 3, 4, 4, 0, 4, 2, 4, 4, 4,\n",
       "       4, 4, 4, 4, 4, 4, 4, 4, 4, 1, 2, 3, 4, 4, 3, 3, 2, 3, 3, 1, 1, 1, 2,\n",
       "       3, 3, 0, 1, 2, 4, 0, 1, 4, 3, 3, 4, 4, 0, 4, 4, 0, 0, 4, 3, 4, 0, 3,\n",
       "       0, 2, 4, 4, 3, 4, 1, 1, 4, 1, 2, 0, 3, 3, 2, 0, 2, 0, 3, 1, 3, 0, 1,\n",
       "       0, 3, 0, 2, 3, 4, 1, 3, 2, 3, 0, 0, 2, 0, 0, 0, 1, 4, 1, 0, 3, 4, 3,\n",
       "       2, 3, 2, 2, 3, 4, 0, 2, 2, 2, 3, 4, 1, 4, 0, 2, 2, 2, 3, 1, 1, 4, 4,\n",
       "       1, 4, 1, 3, 0, 3, 4, 3, 4, 1, 4, 4, 3, 3, 4, 0, 1, 0, 4, 2, 1, 2, 1,\n",
       "       2, 3, 2, 3, 0, 3, 2, 0, 1, 4, 2, 2, 0, 2, 0, 4, 0, 1, 1, 2, 1, 2, 4,\n",
       "       0, 4, 3, 3, 4, 4, 4, 2, 1, 0, 0, 3, 3, 1, 0, 0, 2, 1, 2, 0, 0, 1, 4,\n",
       "       3, 1, 0, 0, 1, 3, 2, 4, 1, 2, 0, 2, 4, 3, 3, 2, 4, 2, 1, 3, 4, 3, 3,\n",
       "       4, 1, 0, 4, 4, 4, 2, 0, 4, 4, 4, 4, 4, 4, 4, 0, 4, 4, 4, 4, 4, 2, 0,\n",
       "       3, 0, 1, 4, 1, 1, 4, 4, 0, 1, 0, 4, 2, 3, 0, 3, 4, 0, 4, 4, 4, 2, 1,\n",
       "       3, 3, 4, 3, 4, 0, 3, 4, 3, 2, 1, 4, 4, 4, 4, 4, 2, 4, 4, 4, 1, 4, 2,\n",
       "       1, 0, 3, 1, 4, 2, 3, 2, 2, 0, 2, 4, 0, 2, 1, 3, 0, 3, 2, 0, 4, 4, 4,\n",
       "       4, 4, 0, 0, 1, 0, 2, 4, 3, 0, 4, 4, 1, 1, 3, 1, 4, 4, 4, 4, 4, 4, 1,\n",
       "       3, 0, 4, 4, 4, 4, 3, 4, 4, 4, 4, 1, 1, 4, 2, 4, 0, 1, 3, 3, 4, 4, 4,\n",
       "       4, 4, 4, 4, 1, 4, 4, 3, 0, 3, 4], dtype=int8)"
      ]
     },
     "execution_count": 9,
     "metadata": {},
     "output_type": "execute_result"
    }
   ],
   "source": [
    "obs_state"
   ]
  },
  {
   "cell_type": "code",
   "execution_count": 7,
   "metadata": {
    "collapsed": false,
    "deletable": true,
    "editable": true
   },
   "outputs": [
    {
     "name": "stdout",
     "output_type": "stream",
     "text": [
      "Number of times 0 occurrs = 161\n",
      "Number of times 1 occurrs = 170\n",
      "Number of times 2 occurrs = 185\n",
      "Number of times 3 occurrs = 162\n",
      "Number of times 4 occurrs = 322\n"
     ]
    }
   ],
   "source": [
    "for idx in range(obs_states.shape[1]):\n",
    "    cnt = np.where(obs_state==idx)[0].shape[0]\n",
    "    print(f'Number of times {idx} occurrs = {cnt}')"
   ]
  },
  {
   "cell_type": "code",
   "execution_count": 8,
   "metadata": {
    "collapsed": false,
    "deletable": true,
    "editable": true
   },
   "outputs": [
    {
     "data": {
      "image/png": "[encoded data removed]",
      "text/plain": [
       "<matplotlib.figure.Figure at 0x7fd214421128>"
      ]
     },
     "metadata": {},
     "output_type": "display_data"
    }
   ],
   "source": [
    "fig, ax = plt.subplots(figsize=(16, 6))\n",
    "for idx in range(obs_states.shape[1]):\n",
    "\n",
    "    states = np.where(obs_state==idx)[0]\n",
    "    \n",
    "    patches = [Rectangle((x, idx + 0.5), 1, 1) for x in states]\n",
    "    pc = PatchCollection(patches, facecolor=sns.xkcd_rgb['denim blue'], alpha=0.75)\n",
    "    ax.add_collection(pc)  \n",
    "\n",
    "ax.set(title='Observations',\n",
    "      xlabel='State', xlim = (0, size), ylim = (0.5, obs_states.shape[1] + 0.5))\n",
    "\n",
    "sns.despine(offset=5)"
   ]
  },
  {
   "cell_type": "markdown",
   "metadata": {
    "deletable": true,
    "editable": true
   },
   "source": [
    "-----\n",
    "\n",
    "<font color='red' size = '5'> Student Exercise </font>\n",
    "\n",
    "\n",
    "In the preceding cells, we simulated a Markov process. To estimate the underlying states, we would need to use special hidden Markov model software. Since this isn't currently installed on the course server, you can do so and then use this to model the underlying (hidden system). The easiest library to use is the [_hmmlearn_][hl] library (which used to be part of the scikit learn library). Download and install this library (enter `!pip install hmmlearn` in a code cell). Then build a hidden Markov model for our simulation. If you are successful, share what you did and learned in the class forums.\n",
    "\n",
    "-----\n",
    "\n",
    "[hl]: https://github.com/hmmlearn/hmmlearn\n"
   ]
  },
  {
   "cell_type": "markdown",
   "metadata": {
    "deletable": true,
    "editable": true
   },
   "source": [
    "## Ancillary Information\n",
    "\n",
    "The following links are to additional documentation that you might find helpful in learning this material. Reading these web-accessible documents is completely optional.\n",
    "\n",
    "12. Wikipedia article on [hidden Markov models][whmm]\n",
    "21. Introduction to [hidden Markov models][qhmm] using Python\n",
    "3. [Hidden Markov model][phmmi] tutorial for stock prices using Python \n",
    "4. Multipart tutorial on [hidden Markov models][hmmr] in finance, using R\n",
    "5. Another multipart tutorial on [hidden Markov models][hmmrd] in finance, using R\n",
    "11. Introduction to [hidden Markov models][qhmm] using R from a quantitative finance perspective\n",
    "6. Presentation introducing [hidden Markov models][phmmo]\n",
    "7. Tutorial on [hidden Markov models][thmm] for speech recognition\n",
    "\n",
    "-----\n",
    "\n",
    "[whmm]: https://en.wikipedia.org/wiki/Hidden_Markov_model\n",
    "\n",
    "[qhmm]: https://www.quantstart.com/articles/hidden-markov-models-an-introduction\n",
    "\n",
    "[phmmi]: http://www.blackarbs.com/blog/introduction-hidden-markov-models-python-networkx-sklearn/2/9/2017\n",
    "\n",
    "[pchmm]: https://github.com/alexsosn/MarslandMLAlgo/blob/master/Ch16/HMM.py\n",
    "\n",
    "[thmm]: https://codefying.com/2016/09/15/a-tutorial-on-hidden-markov-model-with-a-stock-price-example/\n",
    "\n",
    "[hmmrd]: https://www.quantstart.com/articles/hidden-markov-models-for-regime-detection-using-r\n",
    "\n",
    "[hmmr]: http://gekkoquant.com/2014/05/18/hidden-markov-models-model-description-part-1-of-4/\n",
    "\n",
    "[phmmo]: http://www.robots.ox.ac.uk/~vgg/rg/slides/hmm.pdf\n",
    "\n",
    "[thmm]: http://www-stat.wharton.upenn.edu/~steele/Courses/956/ResourceDetails/HiddenMarkovModels/HMMTutorial/rabiner89.pdf"
   ]
  },
  {
   "cell_type": "markdown",
   "metadata": {
    "deletable": false,
    "editable": false
   },
   "source": [
    "**&copy; 2017: Robert J. Brunner at the University of Illinois.**\n",
    "\n",
    "This notebook is released under the [Creative Commons license CC BY-NC-SA 4.0][ll]. Any reproduction, adaptation, distribution, dissemination or making available of this notebook for commercial use is not allowed unless authorized in writing by the copyright holder.\n",
    "\n",
    "[ll]: https://creativecommons.org/licenses/by-nc-sa/4.0/legalcode"
   ]
  }
 ],
 "metadata": {
  "kernelspec": {
   "display_name": "Python 3",
   "language": "python",
   "name": "python3"
  },
  "language_info": {
   "codemirror_mode": {
    "name": "ipython",
    "version": 3
   },
   "file_extension": ".py",
   "mimetype": "text/x-python",
   "name": "python",
   "nbconvert_exporter": "python",
   "pygments_lexer": "ipython3",
   "version": "3.6.0"
  }
 },
 "nbformat": 4,
 "nbformat_minor": 2
}
