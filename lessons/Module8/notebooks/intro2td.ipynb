{
 "cells": [
  {
   "cell_type": "markdown",
   "metadata": {},
   "source": [
    "# Working with Dates and Times\n",
    "\n",
    "-----"
   ]
  },
  {
   "cell_type": "markdown",
   "metadata": {},
   "source": [
    "In this notebook, we introduce how to work efficiently with dates and times in Python.\n",
    "\n",
    "-----\n"
   ]
  },
  {
   "cell_type": "markdown",
   "metadata": {},
   "source": [
    "## Table of Contents\n",
    "\n",
    "[Time](#Time)\n",
    "\n",
    "[Datetime](#Datetime)\n",
    "\n",
    "[Timezone](#Timezone)\n",
    "\n",
    "[Timedelta](#Timedelta)\n",
    "\n",
    "[Datetime Format](#Datetime-Format)\n",
    "\n",
    "[Pandas DataFrame Date and Time Manipulation](#Pandas-DataFrame-Date-and-Time-Manipulation)\n"
   ]
  },
  {
   "cell_type": "markdown",
   "metadata": {},
   "source": [
    "-----\n",
    "\n",
    "[[Back to TOC]](#Table-of-Contents)\n",
    "\n",
    "## Time\n",
    "\n",
    "While it might seem that working with time in a program would be simple, the reality is that handling time data is complicated by several challenges. For a discussion of these issues, see the official Python [time documentation][td]. First, computers are designed to work with numerical data, so what is the numerical representation for a time? The simple solution for this problem is to define an epoch, or starting point for time data, which in Python (or Unix systems in general) is typically taken to be midnight, or 00:00:00, on January 1, 1970(UTC). \n",
    "\n",
    "Second, time is relative, and is measured relative to a time zone. For example, in Champaign-Urbana, we are in the US Central time zone. Programmatically, time zones are often indicated by the large major cities. Thus, for the University of Illinois we would programmatically refer to our time zone by 'America/Chicago'. The epoch is defined in the UTC(Coordinated Universal Time) time zone.\n",
    "\n",
    "These issues, and the way we deal with them in Python, are demonstrated in the following Code cells. First, we import the `time` module, and demonstrate how to convert between the time (in seconds) since the start of the current epoch and the corresponding time representation by using the `ctime` function. These times can, of course, extend into the future. We can perform the conversion in the other direction (time to seconds since the start of the epoch) by using the `time` function.\n",
    "\n",
    "\n",
    "-----\n",
    "\n",
    "[td]: https://docs.python.org/3/library/time.html\n",
    "\n",
    "\n"
   ]
  },
  {
   "cell_type": "code",
   "execution_count": 1,
   "metadata": {},
   "outputs": [
    {
     "data": {
      "text/plain": [
       "1578502808.544706"
      ]
     },
     "execution_count": 1,
     "metadata": {},
     "output_type": "execute_result"
    }
   ],
   "source": [
    "import time as tm\n",
    "\n",
    "# Convert from current time to the seconds since the start of the epoch.\n",
    "tm.time()"
   ]
  },
  {
   "cell_type": "code",
   "execution_count": 2,
   "metadata": {},
   "outputs": [
    {
     "name": "stdout",
     "output_type": "stream",
     "text": [
      "Sat Sep  8 20:46:40 2001\n"
     ]
    }
   ],
   "source": [
    "# Time for one billion seconds\n",
    "print(tm.ctime(1E9))"
   ]
  },
  {
   "cell_type": "code",
   "execution_count": 3,
   "metadata": {},
   "outputs": [
    {
     "name": "stdout",
     "output_type": "stream",
     "text": [
      "Sat Nov 20 11:46:40 2286\n"
     ]
    }
   ],
   "source": [
    "# Time for ten billion seconds\n",
    "print(tm.ctime(1E10))"
   ]
  },
  {
   "cell_type": "markdown",
   "metadata": {},
   "source": [
    "-----\n",
    "\n",
    "[[Back to TOC]](#Table-of-Contents)\n",
    "\n",
    "\n",
    "## Datetime\n",
    "\n",
    "To deal effectively with dates and times from around the world, Python provides the [`datetime`][dt] module. By default, the times are represented in the coordinated universal time(UTC), or timezone zero. This module also includes functionality for dealing with times in the `time` module, and for dates in the `date` module. Several basic functions are demonstrated for each of these modules in the following Code cells.\n",
    "\n",
    "-----\n",
    "\n",
    "[dt]: https://docs.python.org/3.5/library/datetime.html"
   ]
  },
  {
   "cell_type": "code",
   "execution_count": 4,
   "metadata": {},
   "outputs": [
    {
     "name": "stdout",
     "output_type": "stream",
     "text": [
      "2020-01-08 11:00:08.610489\n",
      "2020-01-08 17:00:08.613225\n",
      "14:02:12.002105\n"
     ]
    }
   ],
   "source": [
    "# Work with time and dates\n",
    "from datetime import datetime\n",
    "from datetime import time\n",
    "\n",
    "print(datetime.now())\n",
    "print(datetime.utcnow())\n",
    "print(time(14, 2, 12, 2105))"
   ]
  },
  {
   "cell_type": "code",
   "execution_count": 5,
   "metadata": {
    "scrolled": true
   },
   "outputs": [
    {
     "name": "stdout",
     "output_type": "stream",
     "text": [
      "2020-01-08\n"
     ]
    }
   ],
   "source": [
    "# Display dates\n",
    "from datetime import date \n",
    "today = date.today()\n",
    "print(today)"
   ]
  },
  {
   "cell_type": "markdown",
   "metadata": {},
   "source": [
    "-----\n",
    "\n",
    "[[Back to TOC]](#Table-of-Contents)\n",
    "\n",
    "\n",
    "## Timezone\n",
    "\n",
    "To be effective, these Python time and date functions need to be able to deal with time zones. By default, the functionality for this is declared in the [`tzinfo` abstract class][tz]. This allows different implementations that all conform to the same standard; but the challenge to developers is to ensure a fast and reliable implementation is available and can be used for our analyses. In this notebook, we will use the `dateutil` module, which provides timezone support. This is demonstrated in the following Code cells, where we obtain the time zone for 'America/Chicago' by using the `gettz` function, and display the date and time in this representation, the full `datetime` object, as well as the current time in several other time zones around the world.\n",
    "\n",
    "-----\n",
    "\n",
    "[tz]: https://docs.python.org/3.5/library/datetime.html#datetime.tzinfo"
   ]
  },
  {
   "cell_type": "code",
   "execution_count": 6,
   "metadata": {},
   "outputs": [],
   "source": [
    "from dateutil import tz\n",
    "\n",
    "lcl = tz.gettz('America/Chicago')"
   ]
  },
  {
   "cell_type": "code",
   "execution_count": 7,
   "metadata": {},
   "outputs": [
    {
     "name": "stdout",
     "output_type": "stream",
     "text": [
      "2020-01-08 11:00:08.641119-06:00\n"
     ]
    }
   ],
   "source": [
    "print(datetime.now(lcl))"
   ]
  },
  {
   "cell_type": "code",
   "execution_count": 8,
   "metadata": {},
   "outputs": [
    {
     "name": "stdout",
     "output_type": "stream",
     "text": [
      "Tokyo:  2020-01-09 02:00:08.663687+09:00\n",
      "Dubai:  2020-01-08 21:00:08.667415+04:00\n",
      "London:  2020-01-08 17:00:08.670846+00:00\n",
      "Madrid:  2020-01-08 18:00:08.674346+01:00\n",
      "Chicago:  2020-01-08 11:00:08.675048-06:00\n"
     ]
    }
   ],
   "source": [
    "print('Tokyo: ', datetime.now(tz.gettz(\"Asia/Tokyo\")))\n",
    "print('Dubai: ', datetime.now(tz.gettz(\"Asia/Dubai\")))\n",
    "print('London: ', datetime.now(tz.gettz(\"Europe/London\")))\n",
    "print('Madrid: ', datetime.now(tz.gettz('Europe/Madrid')))\n",
    "print('Chicago: ', datetime.now(tz.gettz(\"America/Chicago\")))"
   ]
  },
  {
   "cell_type": "markdown",
   "metadata": {},
   "source": [
    "-----\n",
    "\n",
    "[[Back to TOC]](#Table-of-Contents)\n",
    "\n",
    "## Timedelta\n",
    "\n",
    "To simplify processing time and date information, Python provides the [`timedelta`][tdm] class. This allows mathematical operations to be performed on times and dates by using standard conventions, like the number of hours, or the number of days. The following Code cells demonstrate several ways to perform date computations by using this module.\n",
    "\n",
    "\n",
    "-----\n",
    "\n",
    "[tdm]: https://docs.python.org/3.5/library/datetime.html#timedelta-objects"
   ]
  },
  {
   "cell_type": "code",
   "execution_count": 9,
   "metadata": {},
   "outputs": [
    {
     "data": {
      "text/plain": [
       "197"
      ]
     },
     "execution_count": 9,
     "metadata": {},
     "output_type": "execute_result"
    }
   ],
   "source": [
    "# days to next Olympic which starts on July 24, 2020\n",
    "(datetime(2020,7,24) - datetime.now()).days"
   ]
  },
  {
   "cell_type": "code",
   "execution_count": 10,
   "metadata": {},
   "outputs": [
    {
     "name": "stdout",
     "output_type": "stream",
     "text": [
      "2020-01-08 11:00:08.699571\n"
     ]
    }
   ],
   "source": [
    "from datetime import timedelta\n",
    "\n",
    "today = datetime.today()\n",
    "print(today)"
   ]
  },
  {
   "cell_type": "code",
   "execution_count": 11,
   "metadata": {},
   "outputs": [
    {
     "name": "stdout",
     "output_type": "stream",
     "text": [
      "2020-01-07 11:00:08.699571\n"
     ]
    }
   ],
   "source": [
    "#24 hours ago\n",
    "print(today - timedelta(hours=24))"
   ]
  },
  {
   "cell_type": "code",
   "execution_count": 12,
   "metadata": {},
   "outputs": [
    {
     "name": "stdout",
     "output_type": "stream",
     "text": [
      "2019-01-09 11:00:08.699571\n"
     ]
    }
   ],
   "source": [
    "#52 weeks ago\n",
    "print(today - timedelta(weeks=52))"
   ]
  },
  {
   "cell_type": "code",
   "execution_count": 13,
   "metadata": {},
   "outputs": [
    {
     "name": "stdout",
     "output_type": "stream",
     "text": [
      "2020-01-10 11:00:08.699571\n"
     ]
    }
   ],
   "source": [
    "#2 days later\n",
    "print(today + timedelta(days=2))"
   ]
  },
  {
   "cell_type": "markdown",
   "metadata": {},
   "source": [
    "-----\n",
    "\n",
    "<font color='red' size = '5'> Student Exercise </font>\n",
    "\n",
    "\n",
    "In the preceding cells, we introduced working with times and dates in Python. Now that you have run the notebook, go back and make the following changes to see how the results change.\n",
    "\n",
    "1. Change the time zone to a new location.\n",
    "2. Compute the date and time corresponding to 2.5 billion seconds since the start of the epoch.\n",
    "3. Compute the date and time that corresponds to 5,000 days from today.\n"
   ]
  },
  {
   "cell_type": "markdown",
   "metadata": {},
   "source": [
    "-----\n",
    "\n",
    "[[Back to TOC]](#Table-of-Contents)\n",
    "\n",
    "## Datetime Format\n",
    "\n",
    "Date and time are very common in datasets. Different regions around the world have different ways of representing dates and times. For example, September 30, 2019 can be recorded in a data file as `2019-09-30`, `09/30/2019`, `Sep 30, 2019` or many other different formats. To analyze data with date and time, we need to convert a datetime string in various formats to a datetime object. So it's very important to understand datetime formatting and the ways to convert datetime string to a datetime object and vice versa.\n",
    "\n",
    "Python `datetime` module contains methods to convert between datetime string and object. `strftime` method is to convert datetime object to readable date and time string. `strptime` is to convert date and time string to datetime object. We will demonstrate these two methods in the following Code cells.\n",
    "\n",
    "In the Code cell below, we first define a datetime object for September 30, 2019, then convert it to various datetime string representations."
   ]
  },
  {
   "cell_type": "code",
   "execution_count": 14,
   "metadata": {},
   "outputs": [
    {
     "name": "stdout",
     "output_type": "stream",
     "text": [
      "09/30/2019\n",
      "Sep 30, 2019\n",
      "2019-09-30 00:00:00\n"
     ]
    }
   ],
   "source": [
    "from datetime import datetime\n",
    "#define a demo date of September 30, 2019\n",
    "demo_date = datetime(2019, 9, 30)\n",
    "#09/30/2019\n",
    "print(demo_date.strftime('%m/%d/%Y'))\n",
    "#Sep 30, 2019\n",
    "print(demo_date.strftime('%b %d, %Y'))\n",
    "#2019-09-30 00:00:00\n",
    "print(demo_date.strftime('%Y-%m-%d %H:%M:%S'))"
   ]
  },
  {
   "cell_type": "markdown",
   "metadata": {},
   "source": [
    "---\n",
    "\n",
    "In above Code cell, we use `strftime` method to convert `demo_date` to date string with different formats. `strftime` takes one argument, which is a string that defines the format of the output date and time string.\n",
    "\n",
    "We have used the following format codes to format the `demo_date`:\n",
    "\n",
    "%m: Month as a zero-padded decimal number. In our example, it returned \"09\".   \n",
    "%d: Day of the month as a zero-padded decimal number. In our example, it returned \"30\".  \n",
    "%Y: Year with century as a decimal number. In our example, it returned \"2019\".  \n",
    "%b: Month as locale’s abbreviated name. In our example, it returned \"Sep\".  \n",
    "%H: Hour (24-hour clock) as a zero-padded decimal number. In our example, it returned \"00\".  \n",
    "%M: Minute as a zero-padded decimal number. In our example, it returned \"00\".  \n",
    "%S: Second as a zero-padded decimal number. In our example, it returned \"00\".  \n",
    "\n",
    "For the complete date and time format codes, please check out Python [`datetime` module document][dtf].\n",
    "\n",
    "Any character in the format string that is not a format code will be printed as is. Just like \"/\", \",\", \"-\" and white spaces in our examples.\n",
    "\n",
    "`strptime` converts date and time string to a datetime object. The function takes two arguments, the first one is the date and time string, the second one is the format string. In the next Code cell, we convert a date and time string to datetime object with `strptime` function.\n",
    "\n",
    "---\n",
    "[dtf]:https://docs.python.org/2/library/datetime.html#strftime-strptime-behavior"
   ]
  },
  {
   "cell_type": "code",
   "execution_count": 15,
   "metadata": {},
   "outputs": [
    {
     "data": {
      "text/plain": [
       "datetime.datetime(2019, 9, 30, 0, 0)"
      ]
     },
     "execution_count": 15,
     "metadata": {},
     "output_type": "execute_result"
    }
   ],
   "source": [
    "datetime.strptime('09/30/2019', '%m/%d/%Y')"
   ]
  },
  {
   "cell_type": "markdown",
   "metadata": {},
   "source": [
    "---\n",
    "\n",
    "When calling `strptime`, the format string must match the datetime string. If there is a mismatch, python will throw `ValueError` exception as shown below.\n",
    "\n",
    "<img src='images/mismatch_date_format.png' width=1000>"
   ]
  },
  {
   "cell_type": "markdown",
   "metadata": {},
   "source": [
    "-----\n",
    "\n",
    "<font color='red' size = '5'> Student Exercise </font>\n",
    "\n",
    "\n",
    "In the preceding cells, we introduced `strftime` and `strptime`. In the following Code cell, try to finish following tasks:\n",
    "\n",
    "1. Convert `demo_date` to string `'Sep 30, 19'`. (You will need to find out the format character for two-digit year.)\n",
    "2. Convert `'2019-09-30 08:30'` to a datetime object.\n",
    "\n",
    "-----"
   ]
  },
  {
   "cell_type": "code",
   "execution_count": null,
   "metadata": {},
   "outputs": [],
   "source": []
  },
  {
   "cell_type": "markdown",
   "metadata": {},
   "source": [
    "-----\n",
    "\n",
    "[[Back to TOC]](#Table-of-Contents)\n",
    "\n",
    "\n",
    "## Pandas DataFrame Date and Time Manipulation\n",
    "\n",
    "We already learned how to convert a datetime string to datetime object. In this section we will learn how to convert a column in a Pandas DataFrame to datetime object. First we will load a weekly Dow Joes average data. The `Date` column is type `Object`, which means it's loaded as string value."
   ]
  },
  {
   "cell_type": "code",
   "execution_count": 16,
   "metadata": {},
   "outputs": [
    {
     "data": {
      "text/html": [
       "<div>\n",
       "<style scoped>\n",
       "    .dataframe tbody tr th:only-of-type {\n",
       "        vertical-align: middle;\n",
       "    }\n",
       "\n",
       "    .dataframe tbody tr th {\n",
       "        vertical-align: top;\n",
       "    }\n",
       "\n",
       "    .dataframe thead th {\n",
       "        text-align: right;\n",
       "    }\n",
       "</style>\n",
       "<table border=\"1\" class=\"dataframe\">\n",
       "  <thead>\n",
       "    <tr style=\"text-align: right;\">\n",
       "      <th></th>\n",
       "      <th>Date</th>\n",
       "      <th>Open</th>\n",
       "      <th>High</th>\n",
       "      <th>Low</th>\n",
       "      <th>Close</th>\n",
       "      <th>Adj Close</th>\n",
       "      <th>Volume</th>\n",
       "    </tr>\n",
       "  </thead>\n",
       "  <tbody>\n",
       "    <tr>\n",
       "      <td>0</td>\n",
       "      <td>1985-01-28</td>\n",
       "      <td>1277.719971</td>\n",
       "      <td>1305.099976</td>\n",
       "      <td>1266.890015</td>\n",
       "      <td>1277.719971</td>\n",
       "      <td>1277.719971</td>\n",
       "      <td>55430000</td>\n",
       "    </tr>\n",
       "    <tr>\n",
       "      <td>1</td>\n",
       "      <td>1985-02-04</td>\n",
       "      <td>1272.079956</td>\n",
       "      <td>1301.130005</td>\n",
       "      <td>1268.989990</td>\n",
       "      <td>1289.969971</td>\n",
       "      <td>1289.969971</td>\n",
       "      <td>59480000</td>\n",
       "    </tr>\n",
       "    <tr>\n",
       "      <td>2</td>\n",
       "      <td>1985-02-11</td>\n",
       "      <td>1287.989990</td>\n",
       "      <td>1307.530029</td>\n",
       "      <td>1266.339966</td>\n",
       "      <td>1282.020020</td>\n",
       "      <td>1282.020020</td>\n",
       "      <td>61270000</td>\n",
       "    </tr>\n",
       "    <tr>\n",
       "      <td>3</td>\n",
       "      <td>1985-02-18</td>\n",
       "      <td>1279.810059</td>\n",
       "      <td>1292.510010</td>\n",
       "      <td>1269.989990</td>\n",
       "      <td>1275.839966</td>\n",
       "      <td>1275.839966</td>\n",
       "      <td>34550000</td>\n",
       "    </tr>\n",
       "    <tr>\n",
       "      <td>4</td>\n",
       "      <td>1985-02-25</td>\n",
       "      <td>1269.989990</td>\n",
       "      <td>1309.959961</td>\n",
       "      <td>1263.910034</td>\n",
       "      <td>1299.359985</td>\n",
       "      <td>1299.359985</td>\n",
       "      <td>55750000</td>\n",
       "    </tr>\n",
       "  </tbody>\n",
       "</table>\n",
       "</div>"
      ],
      "text/plain": [
       "         Date         Open         High          Low        Close  \\\n",
       "0  1985-01-28  1277.719971  1305.099976  1266.890015  1277.719971   \n",
       "1  1985-02-04  1272.079956  1301.130005  1268.989990  1289.969971   \n",
       "2  1985-02-11  1287.989990  1307.530029  1266.339966  1282.020020   \n",
       "3  1985-02-18  1279.810059  1292.510010  1269.989990  1275.839966   \n",
       "4  1985-02-25  1269.989990  1309.959961  1263.910034  1299.359985   \n",
       "\n",
       "     Adj Close    Volume  \n",
       "0  1277.719971  55430000  \n",
       "1  1289.969971  59480000  \n",
       "2  1282.020020  61270000  \n",
       "3  1275.839966  34550000  \n",
       "4  1299.359985  55750000  "
      ]
     },
     "execution_count": 16,
     "metadata": {},
     "output_type": "execute_result"
    }
   ],
   "source": [
    "import pandas as pd\n",
    "df_dow = pd.read_csv('data/dow_weekly_all.csv')\n",
    "df_dow.head()"
   ]
  },
  {
   "cell_type": "code",
   "execution_count": 17,
   "metadata": {
    "scrolled": true
   },
   "outputs": [
    {
     "name": "stdout",
     "output_type": "stream",
     "text": [
      "<class 'pandas.core.frame.DataFrame'>\n",
      "RangeIndex: 1764 entries, 0 to 1763\n",
      "Data columns (total 7 columns):\n",
      "Date         1764 non-null object\n",
      "Open         1764 non-null float64\n",
      "High         1764 non-null float64\n",
      "Low          1764 non-null float64\n",
      "Close        1764 non-null float64\n",
      "Adj Close    1764 non-null float64\n",
      "Volume       1764 non-null int64\n",
      "dtypes: float64(5), int64(1), object(1)\n",
      "memory usage: 96.6+ KB\n"
     ]
    }
   ],
   "source": [
    "df_dow.info()"
   ]
  },
  {
   "cell_type": "markdown",
   "metadata": {},
   "source": [
    "---\n",
    "\n",
    "Pandas has a method `to_datetime` which converts datetime string to datetime object. We demonstrate this function in next Code cell."
   ]
  },
  {
   "cell_type": "code",
   "execution_count": 18,
   "metadata": {
    "scrolled": true
   },
   "outputs": [
    {
     "name": "stdout",
     "output_type": "stream",
     "text": [
      "<class 'pandas.core.frame.DataFrame'>\n",
      "RangeIndex: 1764 entries, 0 to 1763\n",
      "Data columns (total 7 columns):\n",
      "Date         1764 non-null datetime64[ns]\n",
      "Open         1764 non-null float64\n",
      "High         1764 non-null float64\n",
      "Low          1764 non-null float64\n",
      "Close        1764 non-null float64\n",
      "Adj Close    1764 non-null float64\n",
      "Volume       1764 non-null int64\n",
      "dtypes: datetime64[ns](1), float64(5), int64(1)\n",
      "memory usage: 96.6 KB\n"
     ]
    }
   ],
   "source": [
    "df_dow['Date'] = pd.to_datetime(df_dow.Date)\n",
    "df_dow.info()"
   ]
  },
  {
   "cell_type": "markdown",
   "metadata": {},
   "source": [
    "---\n",
    "Now `Date` column in the DataFrame has type `datetime64`. In above code, we don't even pass a format to the function. Pandas is able to figure out the datetime format from the string values in the column. This approach works when the datetime string values are recognizable by Pandas. While Pandas can recognize many datetime formats, it can't cover all the cases. In next Code cell, we define a DataFrame with a Date column, which has various datetime formats. The first two datetime strings are recognizable by Pandas. But the last one is not. If we use `to_datetime` to convert the `Date` column, a `ValueError` exception is thrown as shown in the second Code cell below. We put the code in try-except block so that the exception is handled(printed) elegantly."
   ]
  },
  {
   "cell_type": "code",
   "execution_count": 19,
   "metadata": {},
   "outputs": [
    {
     "data": {
      "text/html": [
       "<div>\n",
       "<style scoped>\n",
       "    .dataframe tbody tr th:only-of-type {\n",
       "        vertical-align: middle;\n",
       "    }\n",
       "\n",
       "    .dataframe tbody tr th {\n",
       "        vertical-align: top;\n",
       "    }\n",
       "\n",
       "    .dataframe thead th {\n",
       "        text-align: right;\n",
       "    }\n",
       "</style>\n",
       "<table border=\"1\" class=\"dataframe\">\n",
       "  <thead>\n",
       "    <tr style=\"text-align: right;\">\n",
       "      <th></th>\n",
       "      <th>Date</th>\n",
       "    </tr>\n",
       "  </thead>\n",
       "  <tbody>\n",
       "    <tr>\n",
       "      <td>0</td>\n",
       "      <td>2019-09-30</td>\n",
       "    </tr>\n",
       "    <tr>\n",
       "      <td>1</td>\n",
       "      <td>09/30/2019</td>\n",
       "    </tr>\n",
       "    <tr>\n",
       "      <td>2</td>\n",
       "      <td>2019.09.30 00.00.00</td>\n",
       "    </tr>\n",
       "  </tbody>\n",
       "</table>\n",
       "</div>"
      ],
      "text/plain": [
       "                  Date\n",
       "0           2019-09-30\n",
       "1           09/30/2019\n",
       "2  2019.09.30 00.00.00"
      ]
     },
     "execution_count": 19,
     "metadata": {},
     "output_type": "execute_result"
    }
   ],
   "source": [
    "demo_df = pd.DataFrame({'Date':['2019-09-30', '09/30/2019', '2019.09.30 00.00.00']})\n",
    "demo_df"
   ]
  },
  {
   "cell_type": "code",
   "execution_count": 20,
   "metadata": {
    "scrolled": false
   },
   "outputs": [
    {
     "name": "stdout",
     "output_type": "stream",
     "text": [
      "('Unknown string format:', '2019.09.30 00.00.00')\n"
     ]
    }
   ],
   "source": [
    "try:\n",
    "    demo_df['Date_ojb'] = pd.to_datetime(demo_df.Date)\n",
    "except Exception as ex:\n",
    "    print(ex)"
   ]
  },
  {
   "cell_type": "markdown",
   "metadata": {},
   "source": [
    "---\n",
    "\n",
    "When there are datetime string formats that are not recognizable by `to_datetime` method, we can pass a user-defined format to the function argument `format`. But in the above case, since there are multiple datetime formats in the `Date` column, we can't pass a single format string to cover all the cases. We can then use lambda function to solve the issue.\n",
    "\n",
    "In next Code cell, we first define a function `convert_date`. In the function, we use `strptime` to convert date string to datetime object. Since there are multiple formats, we use multiple try-except blocks to handle different formats. If the first format matches the data string, return the datetime object; if not, `except` clause will catch the exception. `pass` in the `except` clause tells the code to do nothing and just go to the next try-except block to try the next date format. We define try-except blocks for all date formats appearing in the dataset. When a match is found, the function directly returns the datetime object. The last line is a print statement which prints out the input argument. When this line is reached, it means all formats in the function can't handle this `date_str`. We then need to add a new format in another try-except block to the function to handle the case.\n",
    "\n",
    "We then apply this function via lambda function on `Date` column. This time we successfully created `Date_obj` column which is `datetime64` type.\n",
    "\n",
    "Please note that it's a good practice to create a new date column when converting date string columns. This is to ensure that we always have the original data. If there's anything wrong in the conversion, we can fix the problem and try on the original date column repeatedly."
   ]
  },
  {
   "cell_type": "code",
   "execution_count": 21,
   "metadata": {
    "scrolled": true
   },
   "outputs": [
    {
     "data": {
      "text/html": [
       "<div>\n",
       "<style scoped>\n",
       "    .dataframe tbody tr th:only-of-type {\n",
       "        vertical-align: middle;\n",
       "    }\n",
       "\n",
       "    .dataframe tbody tr th {\n",
       "        vertical-align: top;\n",
       "    }\n",
       "\n",
       "    .dataframe thead th {\n",
       "        text-align: right;\n",
       "    }\n",
       "</style>\n",
       "<table border=\"1\" class=\"dataframe\">\n",
       "  <thead>\n",
       "    <tr style=\"text-align: right;\">\n",
       "      <th></th>\n",
       "      <th>Date</th>\n",
       "      <th>Date_obj</th>\n",
       "    </tr>\n",
       "  </thead>\n",
       "  <tbody>\n",
       "    <tr>\n",
       "      <td>0</td>\n",
       "      <td>2019-09-30</td>\n",
       "      <td>2019-09-30</td>\n",
       "    </tr>\n",
       "    <tr>\n",
       "      <td>1</td>\n",
       "      <td>09/30/2019</td>\n",
       "      <td>2019-09-30</td>\n",
       "    </tr>\n",
       "    <tr>\n",
       "      <td>2</td>\n",
       "      <td>2019.09.30 00.00.00</td>\n",
       "      <td>2019-09-30</td>\n",
       "    </tr>\n",
       "  </tbody>\n",
       "</table>\n",
       "</div>"
      ],
      "text/plain": [
       "                  Date   Date_obj\n",
       "0           2019-09-30 2019-09-30\n",
       "1           09/30/2019 2019-09-30\n",
       "2  2019.09.30 00.00.00 2019-09-30"
      ]
     },
     "execution_count": 21,
     "metadata": {},
     "output_type": "execute_result"
    }
   ],
   "source": [
    "def convert_date(date_str):\n",
    "    try:\n",
    "        return datetime.strptime(date_str, '%Y-%m-%d')\n",
    "    except:\n",
    "        pass\n",
    "    try:\n",
    "        return datetime.strptime(date_str, '%m/%d/%Y')\n",
    "    except:\n",
    "        pass\n",
    "    try:\n",
    "        return datetime.strptime(date_str, '%Y.%m.%d %H.%M.%S')\n",
    "    except:\n",
    "        pass\n",
    "    print (\"Can't convert\", date_str)\n",
    "    \n",
    "demo_df['Date_obj'] = demo_df.Date.apply(lambda x:convert_date(x))\n",
    "demo_df.head()"
   ]
  },
  {
   "cell_type": "markdown",
   "metadata": {},
   "source": [
    "-----\n",
    "\n",
    "<font color='red' size = '5'> Student Exercise </font>\n",
    "\n",
    "\n",
    "In the following Code cell, a DataFrame is defined with a Data column. Please convert data strings in the Date column to datetime objects and create a new `Date_obj` column to host the datetime objects.\n",
    "\n",
    "Try using `to_datetime` directly and lambda function. Do both ways work?\n",
    "\n",
    "-----"
   ]
  },
  {
   "cell_type": "code",
   "execution_count": 22,
   "metadata": {},
   "outputs": [
    {
     "data": {
      "text/html": [
       "<div>\n",
       "<style scoped>\n",
       "    .dataframe tbody tr th:only-of-type {\n",
       "        vertical-align: middle;\n",
       "    }\n",
       "\n",
       "    .dataframe tbody tr th {\n",
       "        vertical-align: top;\n",
       "    }\n",
       "\n",
       "    .dataframe thead th {\n",
       "        text-align: right;\n",
       "    }\n",
       "</style>\n",
       "<table border=\"1\" class=\"dataframe\">\n",
       "  <thead>\n",
       "    <tr style=\"text-align: right;\">\n",
       "      <th></th>\n",
       "      <th>Date</th>\n",
       "    </tr>\n",
       "  </thead>\n",
       "  <tbody>\n",
       "    <tr>\n",
       "      <td>0</td>\n",
       "      <td>2019-09-30</td>\n",
       "    </tr>\n",
       "    <tr>\n",
       "      <td>1</td>\n",
       "      <td>09/30/2019</td>\n",
       "    </tr>\n",
       "    <tr>\n",
       "      <td>2</td>\n",
       "      <td>2019.09.30</td>\n",
       "    </tr>\n",
       "  </tbody>\n",
       "</table>\n",
       "</div>"
      ],
      "text/plain": [
       "         Date\n",
       "0  2019-09-30\n",
       "1  09/30/2019\n",
       "2  2019.09.30"
      ]
     },
     "execution_count": 22,
     "metadata": {},
     "output_type": "execute_result"
    }
   ],
   "source": [
    "exe_df = pd.DataFrame({'Date':['2019-09-30', '09/30/2019', '2019.09.30']})\n",
    "exe_df"
   ]
  },
  {
   "cell_type": "code",
   "execution_count": null,
   "metadata": {},
   "outputs": [],
   "source": []
  },
  {
   "cell_type": "markdown",
   "metadata": {},
   "source": [
    "## Ancillary Information\n",
    "\n",
    "The following links are to additional documentation that you might find helpful in learning this material. Reading these web-accessible documents is completely optional.\n",
    "\n",
    "1. Python [`time` module][ptm] and [Python `datetime` module][pdtm]\n",
    "2. Informative tutorial introducing Python [time and datetime][tad] modules\n",
    "3. Summary sheet of [string time formatting codes][so]\n",
    "4. A Python [date and time][dt1] tutorial\n",
    "5. A tutorial on using Python [string format methods for working with times and dates][tsft]\n",
    "7. Python tutorial on [working with times and dates][ptt] including the use of Pandas.\n",
    "8. Tutorial on using pandas for times and dates, [part 1][ptd1] and [part 2][ptd2]\n",
    "111. Review of the Python [DateTime][pdtm] module\n",
    "\n",
    "-----\n",
    "\n",
    "[wtzd]: https://en.wikipedia.org/wiki/Tz_database\n",
    "\n",
    "[ptm]: https://docs.python.org/3/library/time.html\n",
    "[pdtm]: https://docs.python.org/3/library/datetime.html\n",
    "\n",
    "[tad]: http://o7planning.org/en/11443/python-date-time-tutorial\n",
    "[so]: http://strftime.org\n",
    "\n",
    "[dt1]: https://intellipaat.com/tutorial/python-tutorial/python-date-and-time/\n",
    "[dt2]: https://www.webcodegeeks.com/python/python-datetime-tutorial/\n",
    "\n",
    "[ptct]: https://www.saltycrane.com/blog/2008/06/how-to-get-current-date-and-time-in/\n",
    "[dt3]: http://www.pythonforbeginners.com/basics/python-datetime-timedelta/\n",
    "\n",
    "[tsft]: https://www.tutorialspoint.com/python/time_strptime.htm\n",
    "[dt4]: https://www.tutorialspoint.com/python/python_date_time.htm\n",
    "[dt5]: https://opensource.com/article/17/5/understanding-datetime-python-primer\n",
    "[ptt]: http://www.marcelscharth.com/python/time.html\n",
    "[ptd1]: http://earthpy.org/pandas-basics.html\n",
    "[ptd2]: http://earthpy.org/time_series_analysis_with_pandas_part_2.html\n",
    "\n",
    "[dud]: https://dateutil.readthedocs.io/en/stable/\n",
    "[pdtm]: https://pymotw.com/2/datetime/"
   ]
  },
  {
   "cell_type": "markdown",
   "metadata": {
    "deletable": false,
    "editable": false
   },
   "source": [
    "**&copy; 2019: Gies College of Business at the University of Illinois.**\n",
    "\n",
    "This notebook is released under the [Creative Commons license CC BY-NC-SA 4.0][ll]. Any reproduction, adaptation, distribution, dissemination or making available of this notebook for commercial use is not allowed unless authorized in writing by the copyright holder.\n",
    "\n",
    "[ll]: https://creativecommons.org/licenses/by-nc-sa/4.0/legalcode"
   ]
  }
 ],
 "metadata": {
  "kernelspec": {
   "display_name": "Python 3",
   "language": "python",
   "name": "python3"
  },
  "language_info": {
   "codemirror_mode": {
    "name": "ipython",
    "version": 3
   },
   "file_extension": ".py",
   "mimetype": "text/x-python",
   "name": "python",
   "nbconvert_exporter": "python",
   "pygments_lexer": "ipython3",
   "version": "3.7.3"
  }
 },
 "nbformat": 4,
 "nbformat_minor": 1
}
