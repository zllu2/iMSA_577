{
 "cells": [
  {
   "cell_type": "markdown",
   "metadata": {
    "deletable": true,
    "editable": true
   },
   "source": [
    "# Module 12: Lesson 4\n",
    "\n",
    "-----\n",
    "\n",
    "## Introduction to Kalman Filters\n",
    "\n",
    "The Kalman filter employs Bayesian inference to estimate a joint probability distribution of one or more variables from a series of measurements observed at different times. Since these measurements are generally affected (sometimes quite strongly) by noise, the Kalman filter can be used to accurately infer future values for the variables under analysis. Historically, the Kalman filter has found applications in engineering, such as navigation, but has recently found application in finance.\n",
    "\n",
    "### Objectives\n",
    "\n",
    "By the end of this lesson, you will be able to  \n",
    "\n",
    "- describe the purpose of the Kalman filter,\n",
    "- explain how the Kalman filter can be used to make predictions for a one-dimensional time series, and\n",
    "- apply the Kalman filter by using Python.\n",
    "\n",
    "### Time Estimate\n",
    "\n",
    "Approximately 2 hours.\n",
    "\n",
    "### Activities\n",
    "\n",
    "Video: Watch the [Introduction to Kalman Filters][lv] video, which will introduce the Kalman filter and discuss how it can be used to improve our understanding of the state of a system under noise.\n",
    "\n",
    "Reading: Read the introductory article on [State Space Models and the Kalman Filter][qkf]\n",
    "\n",
    "Reading: Read the Notebook on the [One-Dimensional Kalman Filters][nkf1]\n",
    "\n",
    "Notebook: Read and complete the practice exercises in the [Introduction to Kalman Filters][intro2kf] notebook.\n",
    "\n",
    "------\n",
    "\n",
    "[qkf]: https://www.quantstart.com/articles/State-Space-Models-and-the-Kalman-Filter\n",
    "\n",
    "[nkf1]: https://github.com/rlabbe/Kalman-and-Bayesian-Filters-in-Python/blob/master/04-One-Dimensional-Kalman-Filters.ipynb\n",
    "\n",
    "\n",
    "[lv]: https://mediaspace.illinois.edu/media/\n",
    "\n",
    "[intro2kf]: intro2kf.ipynb"
   ]
  }
 ],
 "metadata": {
  "kernelspec": {
   "display_name": "Python 3",
   "language": "python",
   "name": "python3"
  },
  "language_info": {
   "codemirror_mode": {
    "name": "ipython",
    "version": 3
   },
   "file_extension": ".py",
   "mimetype": "text/x-python",
   "name": "python",
   "nbconvert_exporter": "python",
   "pygments_lexer": "ipython3",
   "version": "3.6.0"
  }
 },
 "nbformat": 4,
 "nbformat_minor": 2
}
