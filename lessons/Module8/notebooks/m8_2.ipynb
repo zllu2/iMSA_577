{
 "cells": [
  {
   "cell_type": "markdown",
   "metadata": {},
   "source": [
    "# Module 8: Lesson 2\n",
    "\n",
    "-----\n",
    "\n",
    "## Analyzing Time Series Data\n",
    "\n",
    "In this lesson, we focus on analyzing time series data by using Python and the Pandas library. First, we will look at how to use Pandas to handle time and date data. Next, we will look at performing simple time series operations such as grouping, merging, and filtering by using dates. Finally, we will see how to generate insightful visualizations of time series data.\n",
    "\n",
    "### Objectives\n",
    "\n",
    "By the end of this lesson, you will be able to \n",
    "\n",
    "- manipulate date and time data by using the Pandas library, and\n",
    "- visualize time series data by using the Pandas library.\n",
    "\n",
    "### Time Estimate\n",
    "\n",
    "Approximately 2 hours.\n",
    "\n",
    "### Activities\n",
    "\n",
    "Video: Watch the [Analyzing Time Series Data][lv] video, which will discuss .\n",
    "\n",
    "Reading: Read the article demonstrating how to [analyze time series data][pgts] with Python and the Pandas library \n",
    "\n",
    "Reading: Read the notebook demonstrating how to use [Pandas library to analyze time series data][npta]\n",
    "\n",
    "Notebook: Read and complete the practice exercises in the [Analyzing Time Series Data][intro2pt] notebook.\n",
    "\n",
    "------\n",
    "\n",
    "[pgts]: http://www.marcelscharth.com/python/time.html\n",
    "\n",
    "[npta]: https://github.com/vgreg/python-finance-unimelb2017/blob/master/notebooks/introduction-to-pandas.ipynb\n",
    "\n",
    "\n",
    "[lv]: https://mediaspace.illinois.edu/media/\n",
    "\n",
    "[intro2pt]: intro2pt.ipynb"
   ]
  }
 ],
 "metadata": {
  "kernelspec": {
   "display_name": "Python 3",
   "language": "python",
   "name": "python3"
  },
  "language_info": {
   "codemirror_mode": {
    "name": "ipython",
    "version": 3
   },
   "file_extension": ".py",
   "mimetype": "text/x-python",
   "name": "python",
   "nbconvert_exporter": "python",
   "pygments_lexer": "ipython3",
   "version": "3.7.1"
  }
 },
 "nbformat": 4,
 "nbformat_minor": 2
}
