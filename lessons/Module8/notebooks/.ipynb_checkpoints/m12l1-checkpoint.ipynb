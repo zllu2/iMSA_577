{
 "cells": [
  {
   "cell_type": "markdown",
   "metadata": {},
   "source": [
    "# Module 12: Lesson 1\n",
    "\n",
    "-----\n",
    "\n",
    "## Introduction to Time Series Analysis\n",
    "\n",
    "Many business processes generate time series data, and understanding how to analyze the se data, especially to predict future outcomes, is increasingly important. In this lesson, we review many of the basic concepts in time series analysis including stationarity, correlation, trend analysis and removal, and decomposition to provide a foundation for more advanced statistical analysis techniques.\n",
    "\n",
    "### Objectives\n",
    "\n",
    "By the end of this lesson, you will be able to \n",
    "\n",
    "- describe the process of modeling a system to generate a time series data set,\n",
    "- explain how to assess the quality of a model, and\n",
    "- articulate the basic concepts involved in time series forecasting.\n",
    "\n",
    "### Time Estimate\n",
    "\n",
    "Approximately 1 hour.\n",
    "\n",
    "### Activities\n",
    "\n",
    "Video: Watch the [Introduction to Time Series Analysis][lv] video, which will introduce the basic concepts of time series analysis.\n",
    "\n",
    "Reading: _Chapter 1: Time-Critical Decision Modeling and Analysis_ and _Chapter 2: Causal Modeling and Forecasting and_ from the online text, [Time-Critical Decision Making for Business Administration][bats]\n",
    "\n",
    "------\n",
    "\n",
    "[bats]: http://home.ubalt.edu/ntsbarsh/Business-stat/stat-data/Forecast.htm#rhowdecom\n",
    "\n",
    "[lv]: https://mediaspace.illinois.edu/media/"
   ]
  }
 ],
 "metadata": {
  "kernelspec": {
   "display_name": "Python 3",
   "language": "python",
   "name": "python3"
  },
  "language_info": {
   "codemirror_mode": {
    "name": "ipython",
    "version": 3
   },
   "file_extension": ".py",
   "mimetype": "text/x-python",
   "name": "python",
   "nbconvert_exporter": "python",
   "pygments_lexer": "ipython3",
   "version": "3.7.1"
  }
 },
 "nbformat": 4,
 "nbformat_minor": 2
}
