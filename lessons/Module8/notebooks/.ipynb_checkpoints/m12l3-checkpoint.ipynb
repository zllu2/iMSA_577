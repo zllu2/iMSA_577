{
 "cells": [
  {
   "cell_type": "markdown",
   "metadata": {
    "deletable": true,
    "editable": true
   },
   "source": [
    "# Module 12: Lesson 3\n",
    "\n",
    "-----\n",
    "\n",
    "## Introduction to Hidden Markov Models\n",
    "\n",
    "In many practical settings, we observe the state of a system, such as a financial time series, that we assume is the combination of multiple effects. These effects can be modeled as states, which while hidden to us, produce outputs that are visible. The hidden Markov model extends the Markov process, described in an earlier lesson, to model these systems. \n",
    "\n",
    "### Objectives\n",
    "\n",
    "By the end of this lesson, you will be able to \n",
    "\n",
    "- explain the basic concepts of a hidden Markov model,\n",
    "- describe different problem domains where hidden Markov models prove beneficial, and\n",
    "- apply a simple hidden Markov model by using Python.\n",
    "\n",
    "### Time Estimate\n",
    "\n",
    "Approximately 2 hours.\n",
    "\n",
    "### Activities\n",
    "\n",
    "Video: Watch the [Introduction to Hidden Markov Models][lv] video, which will introduce hidden Markov models and discuss how they can be used to model the state of unobserved variables. \n",
    "\n",
    "Reading: Read the introductory article on [Hidden Markov Models][qhmm]\n",
    "\n",
    "Reading: Read the article on [Hidden Markov Models][phmm] using Python to analyze financial time series data.\n",
    "\n",
    "Notebook: Read and complete the practice exercises in the [Introduction to Hidden Markov Models][intro2hmm] notebook.\n",
    "\n",
    "------\n",
    "\n",
    "[qhmm]: https://www.quantstart.com/articles/hidden-markov-models-an-introduction\n",
    "[phmm]: http://www.blackarbs.com/blog/introduction-hidden-markov-models-python-networkx-sklearn/2/9/2017\n",
    "\n",
    "[lv]: https://mediaspace.illinois.edu/media/\n",
    "\n",
    "[intro2hmm]: intro2hmm.ipynb"
   ]
  }
 ],
 "metadata": {
  "kernelspec": {
   "display_name": "Python 3",
   "language": "python",
   "name": "python3"
  },
  "language_info": {
   "codemirror_mode": {
    "name": "ipython",
    "version": 3
   },
   "file_extension": ".py",
   "mimetype": "text/x-python",
   "name": "python",
   "nbconvert_exporter": "python",
   "pygments_lexer": "ipython3",
   "version": "3.6.0"
  }
 },
 "nbformat": 4,
 "nbformat_minor": 2
}
