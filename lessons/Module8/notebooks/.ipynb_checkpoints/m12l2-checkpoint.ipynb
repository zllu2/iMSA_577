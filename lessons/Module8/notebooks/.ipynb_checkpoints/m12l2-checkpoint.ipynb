{
 "cells": [
  {
   "cell_type": "markdown",
   "metadata": {
    "deletable": true,
    "editable": true
   },
   "source": [
    "# Module 12: Lesson 2\n",
    "\n",
    "-----\n",
    "\n",
    "## Introduction to Statistical Time Series Analysis\n",
    "\n",
    "In this lesson, we introduce standard statistical approaches for time series analysis, with an emphasis on forecasting. This will require the introduction of autoregression models and moving average models, which form the basis for the more complex ARMA and ARIMA models. Finally, we will look at more advanced models including ARCH and GARCH.\n",
    "\n",
    "### Objectives\n",
    "\n",
    "By the end of this lesson, you will be able to \n",
    "\n",
    "- explain the autoregression and moving average models,\n",
    "- describe the ARMA and ARIMA models,\n",
    "- describe the ARCH and GARCH models, and\n",
    "- apply these models to simple time series data by using Python.\n",
    "\n",
    "### Time Estimate\n",
    "\n",
    "Approximately 2 hours.\n",
    "\n",
    "### Activities\n",
    "\n",
    "Video: Watch the [Introduction to Statistical Time Series Analysis][lv] video, which will discuss how different types of time series analyses can be performed by using Python.\n",
    "\n",
    "Reading: Read the introductory article on [Time Series forecasting][tsf] with Python\n",
    "\n",
    "Reading: Read the exposition on [Time Series Analysis][tsa] in Python\n",
    "\n",
    "Notebook: Read and complete the practice exercises in the [Introduction to Statistical Time Series Analysis][intro2ts] notebook.\n",
    "\n",
    "------\n",
    "\n",
    "[tsf]: http://www.seanabu.com/2016/03/22/time-series-seasonal-ARIMA-model-in-python/\n",
    "\n",
    "[tsa]: http://www.blackarbs.com/blog/time-series-analysis-in-python-linear-models-to-garch/11/1/2016\n",
    "\n",
    "[lv]: https://mediaspace.illinois.edu/media/\n",
    "\n",
    "[intro2ts]: intro2ts.ipynb"
   ]
  }
 ],
 "metadata": {
  "kernelspec": {
   "display_name": "Python 3",
   "language": "python",
   "name": "python3"
  },
  "language_info": {
   "codemirror_mode": {
    "name": "ipython",
    "version": 3
   },
   "file_extension": ".py",
   "mimetype": "text/x-python",
   "name": "python",
   "nbconvert_exporter": "python",
   "pygments_lexer": "ipython3",
   "version": "3.6.0"
  }
 },
 "nbformat": 4,
 "nbformat_minor": 2
}
