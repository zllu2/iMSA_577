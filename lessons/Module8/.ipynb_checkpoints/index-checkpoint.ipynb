{
 "cells": [
  {
   "cell_type": "markdown",
   "metadata": {
    "deletable": true,
    "editable": true
   },
   "source": [
    "# Module 12: Introduction to Time Series Analysis\n",
    "\n",
    "The real world is filled with data generation processes that depend on time. For example, we might record the amount of rain that falls each day, the number of cars that travel across a bridge every hour, or the price of a commodity every second. To analyze these types of data, we must understand how time series data are different than the other forms of data and what these differences mean for subsequent analyses. In this module, you will learn basic concepts in time series analysis that enable time series data to be modeled either to better understand the data generation process or to make reliable forecasts for future observations.\n",
    "\n",
    "## Learning Objectives\n",
    "\n",
    "#### By the end of this module, you should be able to:\n",
    "\n",
    "- explain the importance of time series analysis for business,\n",
    "- apply basic time series analysis and forecasting techniques such as ARIMA and GARCH by using Python,\n",
    "- explain hidden Markov models and apply them by using Python to describe simple systems, and\n",
    "- explain Kalman filters and apply them by using Python to model simple systems.\n",
    "\n",
    "### Activities and Assignments\n",
    "\n",
    "| Activities and Assignments               | Time Estimate | Deadline* | Points |\n",
    "| :--------------------------------------- | ------------- | --------- | -----: |\n",
    "| **[Module 12 Overview Video][wv]**      | 10 Minutes    | Tuesday |    N/A |\n",
    "| **[Module 12 Lesson 1: Introduction to Time Series Analysis][nb1]** | 1 Hour   | Thursday  |     N/A |\n",
    "| **[Module 12 Lesson 2: Introduction to Statistical Time Series Analysis][nb2]** | 2 Hours | Thursday  |     N/A |\n",
    "| **[Module 12 Lesson 3: Introduction to Hidden Markov Models][nb3]** | 2 Hours | Thursday  |     N/A |\n",
    "| **[Module 12 Lesson 4: Introduction to Kalman Filters][nb4]** | 2 Hours   | Thursday  |   N/A |\n",
    "| **[Module 12 Quiz][wq]**               | 30 Minutes    | Friday    |    25  |\n",
    "| **[Module 12 Assignment][ma]**         | 2 hours    | (following) Tuesday    |    100  |\n",
    "\n",
    "*Please note that unless otherwise noted, the due time is 6pm Central time!\n",
    "\n",
    "----------\n",
    "\n",
    "[nb1]: notebooks/m12l1.ipynb\n",
    "[nb2]: notebooks/m12l2.ipynb\n",
    "[nb3]: notebooks/m12l3.ipynb\n",
    "[nb4]: notebooks/m12l4.ipynb\n",
    "\n",
    "[ma]: https://datascience.business.illinois.edu/user/accy/notebooks/accy571/assignments/Module12/assignment.ipynb\n",
    "\n",
    "[wv]: https://mediaspace.illinois.edu/media/\n",
    "[wq]: https://learn.illinois.edu/mod/quiz/"
   ]
  }
 ],
 "metadata": {
  "kernelspec": {
   "display_name": "Python 3",
   "language": "python",
   "name": "python3"
  },
  "language_info": {
   "codemirror_mode": {
    "name": "ipython",
    "version": 3
   },
   "file_extension": ".py",
   "mimetype": "text/x-python",
   "name": "python",
   "nbconvert_exporter": "python",
   "pygments_lexer": "ipython3",
   "version": "3.6.0"
  }
 },
 "nbformat": 4,
 "nbformat_minor": 2
}
