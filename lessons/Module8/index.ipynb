{
 "cells": [
  {
   "cell_type": "markdown",
   "metadata": {},
   "source": [
    "# Module 8: Introduction to Time Series Data\n",
    "\n",
    "This module introduces time and date data, which provide unique learning opportunities and challenges. First, we will  discuss how to properly handle time and date features within a Python program. Next, we will extend this discussion to handle data indexed by time and date information, which is known as time series data.\n",
    "\n",
    "## Learning Objectives\n",
    "\n",
    "#### By the end of this module, you should be able to:\n",
    "\n",
    "- work effectively with time and date data by using Python,\n",
    "- use the Pandas library to manipulate data sets that include time and date features, and\n",
    "- perform basic time series data analysis with python.\n",
    "\n",
    "### Activities and Assignments\n",
    "\n",
    "| Activities and Assignments               | Time Estimate | Deadline* | Points |\n",
    "| :--------------------------------------- | ------------- | --------- | -----: |\n",
    "| **[Module 8 Overview Video][wv]**      | 10 Minutes    | Tuesday  |    N/A |\n",
    "| **[Module 8 Lesson 1: Working with Times and Dates][nb1]** | 2 Hours | Thursday  |     N/A |\n",
    "| **[Module 8 Lesson 2: Analyzing Time Series Data][nb2]** | 2 Hours | Thursday  |     N/A |\n",
    "| **[Module 8 Quiz][wq]**                    | 30 Minutes    | Friday    |     25|\n",
    "| **[Module 8 Assignment Low][mal]**                    | 1 hour   | Sunday    |  25 |\n",
    "| **[Module 8 Assignment High][mah]**                    | 1 hour   | Sunday    |  75 |\n",
    "\n",
    "\n",
    "*Please note that unless otherwise noted, the due time is 6pm Central time!\n",
    "\n",
    "----------\n",
    "\n",
    "[nb1]: notebooks/m8_1.ipynb\n",
    "[nb2]: notebooks/m8_2.ipynb\n",
    "\n",
    "[mal]: ../../assignments/Release/Module8/assignment_low.ipynb\n",
    "[mah]: ../../assignments/Release/Module8/assignment_high.ipynb\n",
    "\n",
    "[wv]: https://mediaspace.illinois.edu/media/\n",
    "[wq]: https://learn.illinois.edu/mod/quiz/"
   ]
  }
 ],
 "metadata": {
  "kernelspec": {
   "display_name": "Python 3 (ipykernel)",
   "language": "python",
   "name": "python3"
  },
  "language_info": {
   "codemirror_mode": {
    "name": "ipython",
    "version": 3
   },
   "file_extension": ".py",
   "mimetype": "text/x-python",
   "name": "python",
   "nbconvert_exporter": "python",
   "pygments_lexer": "ipython3",
   "version": "3.9.5"
  }
 },
 "nbformat": 4,
 "nbformat_minor": 4
}
