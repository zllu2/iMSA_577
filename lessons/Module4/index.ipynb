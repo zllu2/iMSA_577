{
 "cells": [
  {
   "cell_type": "markdown",
   "metadata": {},
   "source": [
    "# Module 4: Model Evaluation\n",
    "\n",
    "Model Evaluation is an integral component of any data analytics project. It helps to find out how well the model will work on predicting future(out-of-sample) data. This module introduces basic model evaluation metrics for machine learning algorithms. First, the evaluation metrics for regression is presented. Next the metrics and technics to evaluate classification are introduced.\n",
    "\n",
    "## Learning Objectives\n",
    "\n",
    "#### By the end of this module, you should be able to:\n",
    "\n",
    "- understand the evaluation metrics for regression,\n",
    "- understand the evalueation metrics for classification,\n",
    "- calculate and display values of the evaluation metrics with python code, and\n",
    "- plot ROC curve for classification models.\n",
    "\n",
    "### Activities and Assignments\n",
    "\n",
    "| Activities and Assignments               | Time Estimate | Deadline | Points |\n",
    "| :--------------------------------------- | ------------- | --------- | -----: |\n",
    "| **[Module 4 Overview Video][wv]**        | 10 Minutes    | N/A   |    N/A |\n",
    "| **[Module 4 Lesson 1: Introduction to Regression Evaluation][nb1]** | 2 Hours        | N/A  |    N/A |\n",
    "| **[Module 4 Lesson 2: Introduction to Classification Evaluation I][nb2]** | 2 Hours       | N/A  |    N/A |\n",
    "| **[Module 4 Lesson 3: Introduction to Classification Evalueaion II][nb3]** | 2 Hours       | N/A  |    N/A |\n",
    "| **[Module 4 Assignment Low][mal]**                    | 1 hour   | Sunday    |  25 |\n",
    "| **[Module 4 Assignment High][mah]**                    | 1 hour   | Sunday    |  75 |\n",
    "\n",
    "----------\n",
    "\n",
    "[nb1]: notebooks/m4_1.ipynb\n",
    "[nb2]: notebooks/m4_2.ipynb\n",
    "[nb3]: notebooks/m4_3.ipynb\n",
    "\n",
    "[wv]: https://mediaspace.illinois.edu/media/t/1_av629ez1\n",
    "[mal]: ../../assignments/Release/Module4/assignment_low.ipynb\n",
    "[mah]: ../../assignments/Release/Module4/assignment_high.ipynb"
   ]
  },
  {
   "cell_type": "markdown",
   "metadata": {
    "deletable": false,
    "editable": false
   },
   "source": [
    "**&copy; 2019: Gies College of Business at the University of Illinois.**\n",
    "\n",
    "This notebook is released under the [Creative Commons license CC BY-NC-SA 4.0][ll]. Any reproduction, adaptation, distribution, dissemination or making available of this notebook for commercial use is not allowed unless authorized in writing by the copyright holder.\n",
    "\n",
    "[ll]: https://creativecommons.org/licenses/by-nc-sa/4.0/legalcode "
   ]
  }
 ],
 "metadata": {
  "kernelspec": {
   "display_name": "Python 3",
   "language": "python",
   "name": "python3"
  },
  "language_info": {
   "codemirror_mode": {
    "name": "ipython",
    "version": 3
   },
   "file_extension": ".py",
   "mimetype": "text/x-python",
   "name": "python",
   "nbconvert_exporter": "python",
   "pygments_lexer": "ipython3",
   "version": "3.7.3"
  }
 },
 "nbformat": 4,
 "nbformat_minor": 2
}
