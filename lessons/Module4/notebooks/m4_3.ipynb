{
 "cells": [
  {
   "cell_type": "markdown",
   "metadata": {},
   "source": [
    "# Module 4: Lesson 3\n",
    "\n",
    "-----\n",
    "\n",
    "## Introduction to Classification Evaluation II\n",
    "\n",
    "In this lesson we will introduce a popular classification evaluation metric, Area Under the ROC curve or AUC-ROC.\n",
    "\n",
    "### Objectives\n",
    "\n",
    "By the end of this lesson, you will be able to\n",
    "\n",
    "- articulate the concept of AUC-ROC,\n",
    "- plot AUC-ROC for various classifcation models, and\n",
    "- compare classification models by AUC-ROC\n",
    "\n",
    "### Time Estimate\n",
    "\n",
    "Approximately 2 hour.\n",
    "\n",
    "### Activities\n",
    "\n",
    "Video: Watch the [Introduction to Classification Evaluation II][ofv] video, which will demonstrate overfitting and discuss problems that are associated with it.\n",
    "\n",
    "Notebook: Read and complete the practice exercises in the [Introduction to Classification Evaluation II][claseval2] notebook.\n",
    "\n",
    "------\n",
    "\n",
    "\n",
    "[claseval2]: claseval2.ipynb\n",
    "[ofv]: https://mediaspace.illinois.edu/media/t/1_kpvyluzo"
   ]
  },
  {
   "cell_type": "markdown",
   "metadata": {
    "deletable": false,
    "editable": false
   },
   "source": [
    "**&copy; 2019: Gies College of Business at the University of Illinois.**\n",
    "\n",
    "This notebook is released under the [Creative Commons license CC BY-NC-SA 4.0][ll]. Any reproduction, adaptation, distribution, dissemination or making available of this notebook for commercial use is not allowed unless authorized in writing by the copyright holder.\n",
    "\n",
    "[ll]: https://creativecommons.org/licenses/by-nc-sa/4.0/legalcode "
   ]
  }
 ],
 "metadata": {
  "kernelspec": {
   "display_name": "Python 3",
   "language": "python",
   "name": "python3"
  },
  "language_info": {
   "codemirror_mode": {
    "name": "ipython",
    "version": 3
   },
   "file_extension": ".py",
   "mimetype": "text/x-python",
   "name": "python",
   "nbconvert_exporter": "python",
   "pygments_lexer": "ipython3",
   "version": "3.7.1"
  }
 },
 "nbformat": 4,
 "nbformat_minor": 2
}
