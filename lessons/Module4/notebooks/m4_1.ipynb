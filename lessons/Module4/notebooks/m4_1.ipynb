{
 "cells": [
  {
   "cell_type": "markdown",
   "metadata": {},
   "source": [
    "# Module 4: Lesson 1\n",
    "\n",
    "-----\n",
    "\n",
    "## Introduction to Regression Evaluation\n",
    "\n",
    "This lesson introduces basic evaluation metrics and technics to evaluate regression models. The metrics introduced in this lesson include Mean Absolute Error(MAE), Mean Squared Error(MSE), Root Mean Squared Error(RMSE) and R-squared($R^2$) aka Coefficient of Determination. We will also demonstrate how to plot residual vs. observed plot for a regression model and how to interpret the plot.\n",
    "\n",
    "### Objectives\n",
    "\n",
    "By the end of this lesson, you will be able to\n",
    "\n",
    "- articulate the concept of MAE, MSE, RMSE and R-squared and how to calcluate them,\n",
    "- extract and print the metric values for regression models with python, and\n",
    "- plot residual vs. observed plot and evaluate models based on the plot.\n",
    "\n",
    "### Time Estimate\n",
    "\n",
    "Approximately 2 hour.\n",
    "\n",
    "### Activities\n",
    "\n",
    "Video: Watch the [Introduction to Regression Evaluation][ofv] video, which will demonstrate overfitting and discuss problems that are associated with it.\n",
    "\n",
    "Notebook: Read and complete the practice exercises in the [Introduction to Regression Evaluation][regeval] notebook.\n",
    "\n",
    "------\n",
    "\n",
    "\n",
    "[regeval]: regeval.ipynb\n",
    "[ofv]: https://mediaspace.illinois.edu/media/t/1_kpvyluzo"
   ]
  },
  {
   "cell_type": "markdown",
   "metadata": {
    "deletable": false,
    "editable": false
   },
   "source": [
    "**&copy; 2019: Gies College of Business at the University of Illinois.**\n",
    "\n",
    "This notebook is released under the [Creative Commons license CC BY-NC-SA 4.0][ll]. Any reproduction, adaptation, distribution, dissemination or making available of this notebook for commercial use is not allowed unless authorized in writing by the copyright holder.\n",
    "\n",
    "[ll]: https://creativecommons.org/licenses/by-nc-sa/4.0/legalcode "
   ]
  }
 ],
 "metadata": {
  "kernelspec": {
   "display_name": "Python 3",
   "language": "python",
   "name": "python3"
  },
  "language_info": {
   "codemirror_mode": {
    "name": "ipython",
    "version": 3
   },
   "file_extension": ".py",
   "mimetype": "text/x-python",
   "name": "python",
   "nbconvert_exporter": "python",
   "pygments_lexer": "ipython3",
   "version": "3.7.1"
  }
 },
 "nbformat": 4,
 "nbformat_minor": 2
}
