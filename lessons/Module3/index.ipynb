{
 "cells": [
  {
   "cell_type": "markdown",
   "metadata": {},
   "source": [
    "# Module 3: Fundamental Algorithms II\n",
    "\n",
    "This module introduces three more machine learning algorithms, k-nearest neighbors, support vector machine and random forest. All of them can be used for either classification or regression tasks.\n",
    "\n",
    "## Learning Objectives\n",
    "\n",
    "#### By the end of this module, you should be able to:\n",
    "\n",
    "- describe the basic concepts behind the k-nearest neighbors algorithm,\n",
    "- describe the basic concepts behind the support vector machine algorithm,\n",
    "- describe the basic concepts behind bagging and the random forest algorithms, and\n",
    "- apply k-nearest neighbors, support vector machine and random forest algorithms to regression and classification challenges by writing Python analysis scripts.\n",
    "\n",
    "### Activities and Assignments\n",
    "\n",
    "| Activities and Assignments               | Time Estimate | Deadline | Points |\n",
    "| :--------------------------------------- | ------------- | --------- | -----: |\n",
    "| **[Module 3 Overview Video][wv]**        | 10 Minutes    | N/A   |    N/A |\n",
    "| **[Module 3 Lesson 1: Introduction to K-Nearest Neighbors][lesson1]** | 2 Hours       | N/A  |    N/A |\n",
    "| **[Module 3 Lesson 2: Introduction to Support Vector Machine][lesson2]** | 2 Hours       | N/A  |    N/A |\n",
    "| **[Module 3 Lesson 3: Introduction to Bagging and Random Forest][lesson3]** | 2 Hours       | N/A  |    N/A |\n",
    "| **[Module 3 Assignment Low][mal]**                    | 1 hour   | Sunday    |  25 |\n",
    "| **[Module 3 Assignment High][mah]**                    | 1 hour   | Sunday    |  75 |\n",
    "\n",
    "----------\n",
    "\n",
    "[lesson1]: notebooks/m3_1.ipynb\n",
    "[lesson2]: notebooks/m3_2.ipynb\n",
    "[lesson3]: notebooks/m3_3.ipynb\n",
    "\n",
    "[wv]: https://mediaspace.illinois.edu/media/t/1_e5sxqskd\n",
    "[mal]: ../../assignments/Release/Module3/assignment_low.ipynb\n",
    "[mah]: ../../assignments/Release/Module3/assignment_high.ipynb\n"
   ]
  },
  {
   "cell_type": "markdown",
   "metadata": {
    "deletable": false,
    "editable": false
   },
   "source": [
    "**&copy; 2019: Gies College of Business at the University of Illinois.**\n",
    "\n",
    "This notebook is released under the [Creative Commons license CC BY-NC-SA 4.0][ll]. Any reproduction, adaptation, distribution, dissemination or making available of this notebook for commercial use is not allowed unless authorized in writing by the copyright holder.\n",
    "\n",
    "[ll]: https://creativecommons.org/licenses/by-nc-sa/4.0/legalcode "
   ]
  }
 ],
 "metadata": {
  "kernelspec": {
   "display_name": "Python 3",
   "language": "python",
   "name": "python3"
  },
  "language_info": {
   "codemirror_mode": {
    "name": "ipython",
    "version": 3
   },
   "file_extension": ".py",
   "mimetype": "text/x-python",
   "name": "python",
   "nbconvert_exporter": "python",
   "pygments_lexer": "ipython3",
   "version": "3.7.3"
  }
 },
 "nbformat": 4,
 "nbformat_minor": 2
}
