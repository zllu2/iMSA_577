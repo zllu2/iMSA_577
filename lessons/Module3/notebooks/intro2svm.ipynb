{
 "cells": [
  {
   "cell_type": "markdown",
   "metadata": {},
   "source": [
    "# Introduction to Support Vector Machine\n",
    "\n",
    "-----"
   ]
  },
  {
   "cell_type": "markdown",
   "metadata": {},
   "source": [
    "In this notebook, we introduce the [Support Vector Machine (SVM) algorithm][svm], a powerful, but simple supervised learning approach to predicting data. For classification tasks, the SVM algorithm attempts to divide data in the feature space into distinct categories. By default, this division is performed by constructing hyperplanes that optimally divide the data. For regression, the hyperplanes are constructed to map the distribution of data. In both cases, these hyperplanes map linear structures in a non-probabilistic manner. By employing a _kernel trick_, however, we can transform non-linear data sets into linear ones, thus enabling SVM to be applied to non-linear problems.\n",
    "\n",
    "SVMs are powerful algorithms that have gained widespread popularity. This is partly due to the fact that they are effective in high dimensional feature spaces, including those problems where the number of features is similar to or slightly exceeds the number of instances. Unlike KNN, which has high demand on memory with large dataset, SVMs can be memory efficient since only the support vectors are needed to compute the hyperplanes. Finally, by using different kernels, SVM can be applied to a wide range of learning tasks. On the other hand, these models are black boxes, and it can be difficult to explain how they operate, especially on new instances. They do not, by default, provide probability estimates since the hyperplane is constructed to cleanly divide the training data.\n",
    "\n",
    "In this notebook, we first explore the basic formalism of the SVM algorithm, including the construction of hyperplane and the kernel trick, which enables SVM to be applied to non-linear problems. Next, we explore the application of SVM to classification problems, which is known as support vector classification, or SVC. To introduce this topic, we will once again use the Iris data to construct an SVC estimator, plot the calculated hyperplane, explore the resulting performance. Next, we will switch to a more complex data set, the adult data. Finally, we will apply SVM to regression problems, which is known as support vector regression. For this we will use the MPG data introduced in previous lessons.\n",
    "\n",
    "-----\n",
    "[idt]: intro2dt.ipynb\n",
    "[svm]: https://en.wikipedia.org/wiki/Support_vector_machine"
   ]
  },
  {
   "cell_type": "markdown",
   "metadata": {},
   "source": [
    "## Table of Contents\n",
    "\n",
    "[Formalism](#Formalism)\n",
    "\n",
    "- [Hyperplanes](#Hyperplanes)\n",
    "- [Non-linear Kernels](#Non-linear-Kernels)\n",
    "\n",
    "[Support Vector Machine: Classification](#Support-Vector-Machine:-Classification)\n",
    "\n",
    "- [Classification: Iris Data](#Classification:-Iris-Data)\n",
    "- [Support Vector Classification: Decision Surface](#Support-Vector-Classification:-Decision-Surface)\n",
    "- [Classification: Adult Data](#Classification:-Adult-Data)\n",
    "\n",
    "[Support Vector Machine: Regression](#Support-Vector-Machine:-Regression)\n",
    "\n",
    "- [Regression: Auto MPG Data](#Regression:-Auto-MPG-Data)\n",
    "\n",
    "-----\n",
    "\n",
    "Before proceeding with the _Formalism_ section of this Notebook, we first have our standard notebook setup code.\n",
    "\n",
    "-----\n",
    "\n"
   ]
  },
  {
   "cell_type": "code",
   "execution_count": 1,
   "metadata": {},
   "outputs": [],
   "source": [
    "# Set up Notebook\n",
    "\n",
    "% matplotlib inline\n",
    "\n",
    "# Standard imports\n",
    "import numpy as np\n",
    "import pandas as pd\n",
    "import matplotlib.pyplot as plt\n",
    "import seaborn as sns\n",
    "\n",
    "# We do this to ignore several specific Pandas warnings\n",
    "import warnings\n",
    "warnings.filterwarnings(\"ignore\")\n",
    "\n",
    "sns.set_style('white')"
   ]
  },
  {
   "cell_type": "markdown",
   "metadata": {},
   "source": [
    "-----\n",
    "\n",
    "[[Back to TOC]](#Table-of-Contents)\n",
    "\n",
    "## Formalism\n",
    "\n",
    "As was the case with the decision tree or KNN, one of the simplest machine learning algorithms to understand and employ is the [support vector machine][svm]. For classification tasks, this algorithm simply divides the data with hyperplanes into the resulting classes, while for regression, the hyperplanes form a predictive model of the underlying data. These hyperplanes, by default, produce a linear classifier (or regressor) since they are restricted to be linear in the features. However, unlike a decision tree, SVM produces a black box model; we can't examine the model, especially in higher dimensions, to understand why specific predictions are made. In order to construct the optimal set of hyperplanes, SVM assumes the features are normalized and can be compared equally. Thus, for proper use of an SVM on a data set, we must **normalize** the features.\n",
    "\n",
    "Given a set of data with $n$ features, we can construct many different hyperplanes that divide the data. The SVM algorithm selects the optimal hyperplane by finding the one that produces the largest separation, which is known as the _margin_, between the data. The hyperplane that accomplishes this goal is known as the maximum-margin hyperplane. For high dimensional data, a set of hyperplanes is constructed, which accomplishes this same task. In cases where the data can not be cleanly separated, many SVM implementations map the data set into a higher dimensional space by using a kernel function, where the data are linearly separated and construct a set of optimal hyperplanes in this space. This process can also be used to transform a non-linear feature space into a linear (or approximately linear) space where traditional SVM can be applied.\n",
    "\n",
    "In the rest of this section, we demonstrate the construction of hyperplane by using the Iris data set. To simplify the visualization of these data and the resulting hyperplanes, we use only two classes(or species) and two dimensions. Since SVM, by default, provides a linear classification, this hyperplane will generate linear division between the two classes. After this, we demonstrate how a kernel can be employed to transform a non-linear problem into a linear classification task.\n",
    "\n",
    "-----\n",
    "\n",
    "[svm]: https://en.wikipedia.org/wiki/Support_vector_machine"
   ]
  },
  {
   "cell_type": "markdown",
   "metadata": {},
   "source": [
    "-----\n",
    "\n",
    "[[Back to TOC]](#Table-of-Contents)\n",
    "\n",
    "### Hyperplane\n",
    "\n",
    "To demonstrate how hyperplanes can divide data, we will use the Iris classification data set. There are 3 different species and 4 features in the dataset. For demo purpose, we will only use 2 classes, Setosa and Versicolor, and 2 features,  Sepal Width and Petal Width, to enable easier visualization of the training data, test data, and hyperplane. In the following two Code cells, we first load the Iris data, select data points we want to keep. We then divide the dataset into training and testing, and normalize the data by using the training features.\n",
    "\n",
    "The second Code cell uses the training data to generate an SVC (don't worry about the details of doing this right now, they are introduced in the next section). Next, we make a scatter plot of the training data, colored by their label, and display test data with a different symbol (see the plot legend for full details). Next, we generate a grid of points through this space and apply the predetermined SVC to generate decisions over this grid. Finally, we plot the computed hyperplane and the support vectors used to compute these hyperplanes from the training data.\n",
    "\n",
    "The hyperplane shown in the plot is denoted by the solid gray line. We also plot the decision boundaries for the hyperplane, the upper boundary as a blue dashed line, and the lower boundary as a red dashed line. SVM tries to make a decision boundary in such a way that the separation between the two classes is as wide as possible.\n",
    "\n",
    "The support are those training data that are used to finalize the selection of the best hyperplane. The training data that anchor the support vectors are enclosed in a large yellow circle. The vector extends from these points to the hyperplane (forming a right angle to the hyperplane). The margin for each support vector is the distance from the support to the hyperplane (or the length of the support vector). It is the combinations of these distances that we seek to maximize when we compute the best hyperplane. \n",
    "\n",
    "__Note:__ You are **not** required to understand the code, especially the plotting part. Pay attention to the plot itself and understand SVM with its help.\n",
    "\n",
    "-----"
   ]
  },
  {
   "cell_type": "code",
   "execution_count": 2,
   "metadata": {},
   "outputs": [],
   "source": [
    "from sklearn.preprocessing import LabelEncoder\n",
    "from sklearn.model_selection import train_test_split\n",
    "from sklearn.preprocessing import StandardScaler\n",
    "\n",
    "iris_df = sns.load_dataset('iris')\n",
    "#create new column to hold encoded species\n",
    "iris_df['species_cat'] = LabelEncoder().fit_transform(iris_df.species)\n",
    "\n",
    "#Only keep Setosa and Versicolor data\n",
    "setosa_versicolor = iris_df[iris_df.species_cat < 2]\n",
    "\n",
    "#Define data and label\n",
    "\n",
    "data = setosa_versicolor[['sepal_width', 'petal_width']]\n",
    "label = setosa_versicolor['species_cat']\n",
    "\n",
    "# Split data into training and testing\n",
    "d_train, d_test, l_train, l_test = train_test_split(data, label, test_size=0.4, random_state=23)\n",
    "\n",
    "# Normalize data\n",
    "sc = StandardScaler().fit(d_train)\n",
    "\n",
    "d_train_sc = sc.transform(d_train)\n",
    "d_test_sc = sc.transform(d_test)"
   ]
  },
  {
   "cell_type": "code",
   "execution_count": 3,
   "metadata": {},
   "outputs": [
    {
     "data": {
      "image/png": "[encoded data removed]",
      "text/plain": [
       "<Figure size 720x720 with 1 Axes>"
      ]
     },
     "metadata": {
      "needs_background": "light"
     },
     "output_type": "display_data"
    }
   ],
   "source": [
    "from sklearn.svm import SVC\n",
    "from matplotlib import cm\n",
    "\n",
    "# Fit the model, don't regularize for illustration purposes\n",
    "iris_model = SVC(kernel='linear', C=1E6)\n",
    "iris_model.fit(d_train_sc, l_train)\n",
    "\n",
    "# Number of training samples to show in plot\n",
    "num_show = 10\n",
    "\n",
    "# Now we create our figure and axes for the plot we will make.\n",
    "fig, ax = plt.subplots(figsize=(10, 10))\n",
    "        \n",
    "# Select features from training data to plot\n",
    "x = d_train_sc[:, 0]\n",
    "y = d_train_sc[:, 1]\n",
    "\n",
    "# Labels for instances\n",
    "iris_name = ['Setosa', 'Versicolor']\n",
    "\n",
    "# Iterate over types of instances, plotting each separately\n",
    "for idx in np.unique(l_train):\n",
    "    i = int(idx)\n",
    "    ax.scatter(x[l_train == i], y[l_train == i], \n",
    "               label=f'{iris_name[idx]}',\n",
    "               s=200, alpha = .5, cmap=cm.coolwarm) \n",
    "\n",
    "# Now plot the test data differently\n",
    "xx = d_test_sc[:num_show, 0]\n",
    "yy = d_test_sc[:num_show, 1]\n",
    "ax.scatter(xx, yy, label='Test Data',\n",
    "           marker='x', s=400, alpha = .5, cmap=cm.coolwarm) \n",
    "\n",
    "# Create grid to evaluate model\n",
    "xx = np.linspace(-2, 2, 30)\n",
    "yy = np.linspace(-2, 2, 30)\n",
    "YY, XX = np.meshgrid(yy, xx)\n",
    "xy = np.vstack([XX.ravel(), YY.ravel()]).T\n",
    "\n",
    "# Predict on this grid\n",
    "ZZ = iris_model.decision_function(xy)\n",
    "\n",
    "# Take the grid and construct the hyperplanes \n",
    "# by treating them as contours. Note that we only select \n",
    "# the first and third hyperplane, otherwise plot becomes\n",
    "# too busy.\n",
    "z = ZZ.reshape(XX.shape)\n",
    "\n",
    "# Plot hyperplanes\n",
    "ax.contour(XX, YY, z, levels=[-1, 0, 1], \n",
    "           alpha=0.5, linewidth=100,linestyles=['--', '-', '--'],\n",
    "           cmap=cm.coolwarm) \n",
    "\n",
    "# Plot support vector data points.\n",
    "ax.scatter(iris_model.support_vectors_[:, 0], \n",
    "           iris_model.support_vectors_[:, 1], \n",
    "           s=250, linewidth=10, alpha=0.15, cmap=cm.coolwarm,\n",
    "           label='Support')\n",
    "\n",
    "# Decorate and clean plot\n",
    "ax.set_xlabel('Sepal Width', fontsize=16)\n",
    "ax.set_ylabel('Petal Width', fontsize=16)\n",
    "ax.legend(loc = 7, labelspacing=2)\n",
    "ax.set_title(\"Iris Classification Demonstration\", fontsize=18)\n",
    "\n",
    "sns.despine(offset=0, trim=True)"
   ]
  },
  {
   "cell_type": "markdown",
   "metadata": {},
   "source": [
    "-----\n",
    "\n",
    "[[Back to TOC]](#Table-of-Contents)\n",
    "\n",
    "\n",
    "### Non-Linear Kernels\n",
    "\n",
    "In many real-world cases, the data of interest are non-linear. In these cases, we can still successfully employ SVM by transforming the data into a space where the data are linearly separated. This process is known as the _kernel trick_, since we employ a kernel function to perform the mapping. To demonstrate this process, the following Code cell generates two classes of data. The first class is enclosed in a circle about the origin, while the second class is contained in a ring that surrounds the first class. \n",
    "\n",
    "-----"
   ]
  },
  {
   "cell_type": "code",
   "execution_count": 4,
   "metadata": {},
   "outputs": [],
   "source": [
    "# Generate random data in polar coordinates\n",
    "# Then tranform to r, theta as linear. \n",
    "# This demonstrates the kernel SVM trick.\n",
    "\n",
    "# Set random state for reproducability\n",
    "rng = np.random.RandomState(23)\n",
    "\n",
    "# Random radial data, two ranges\n",
    "r1 = rng.uniform(0, 1, 50)\n",
    "r2 = rng.uniform(1.25, 2.5, 50)\n",
    "\n",
    "# Random theta uniformly around circle.\n",
    "t1 = rng.uniform(0, 360, 50)\n",
    "t2 = rng.uniform(0, 360, 50)\n",
    "\n",
    "# Transform to Cartesian, which forms\n",
    "# our new starting data set\n",
    "x1 = r1 * np.sin(t1)\n",
    "x2 = r2 * np.sin(t2)\n",
    "y1 = r1 * np.cos(t1)\n",
    "y2 = r2 * np.cos(t2)"
   ]
  },
  {
   "cell_type": "markdown",
   "metadata": {},
   "source": [
    "-----\n",
    "\n",
    "Given these simulated data, the next Code cell first plots the original data as generated, the first class is blue points, while the second class is green points. Clearly these data are distributed in a non-linear pattern, and a standard SVC would not perform well on this task (a non-linear technique, such as a decision tree would likely perform better, assuming we have sufficient data to generate a tree that effectively captures the non-linear signal without overfitting). \n",
    "\n",
    "We can, however, apply a transformation to convert from the original Cartesian coordinate system spanned by the original data to a polar coordinate system, which uses radial distance from the origin as the new `x` axis, and the angle from the original positive x axis as the new `y` axis. In this new space, the data are easily separated by a simple vertical line, and thus an SVC would perform extremely well in this new projection. To effectively apply SVM to data, we must often choose a kernel that will employ this type of transformation, or another, to reliably project data into a new space where the data can be effectively divided by the SVM algorithm.\n",
    "\n",
    "-----"
   ]
  },
  {
   "cell_type": "code",
   "execution_count": 5,
   "metadata": {},
   "outputs": [
    {
     "data": {
      "image/png": "[encoded data removed]",
      "text/plain": [
       "<Figure size 864x432 with 2 Axes>"
      ]
     },
     "metadata": {
      "needs_background": "light"
     },
     "output_type": "display_data"
    }
   ],
   "source": [
    "# Two plots, one for polar, one for linear.\n",
    "fig, axs = plt.subplots(figsize=(12, 6.0), nrows=1, ncols=2, sharex=False)\n",
    "adj = plt.subplots_adjust(hspace=0.5)\n",
    "\n",
    "# Plot x,y dat\n",
    "axs[0].scatter(x1, y1)\n",
    "axs[0].scatter(x2, y2)\n",
    "axs[0].set(xlabel=r'$X$', xlim=(-3, 3),\n",
    "           ylabel=r'$Y$', ylim=(-3, 3),\n",
    "           title='Cartesian')\n",
    "\n",
    "# Plot, r, theta\n",
    "axs[1].scatter(r1, t1)\n",
    "axs[1].scatter(r2, t2)\n",
    "axs[1].set(xlabel=r'$r$', xlim=(-0.25, 3),\n",
    "           ylabel=r'$\\theta$', ylim=(0, 360),\n",
    "           title='Polar')\n",
    "\n",
    "# Clean plots\n",
    "sns.despine(offset = 2, trim=True)"
   ]
  },
  {
   "cell_type": "markdown",
   "metadata": {},
   "source": [
    "-----\n",
    "\n",
    "[[Back to TOC]](#Table-of-Contents)\n",
    "\n",
    "\n",
    "## Support Vector Classification\n",
    "\n",
    "With a discussion on the construction of hyperplanes complete, we can now introduce how to perform [support vector classification][sksvc] by using the scikit-learn library. This is accomplished by using the `SVC` estimator, which is located in the `svm` module. To perform linear SVC, we must specify that we wish to use a `linear` kernel as a hyperparameter, note this is not the default option. We could, instead, use the `LinearSVC` estimator, which does not support a kernel hyperparameter, and can only be used for linear classification problems.\n",
    "\n",
    "The `SVC` estimator accepts a number of hyperparameters that control how it performs, some of the more useful hyperparameters include:\n",
    "\n",
    "- `kernel`: controls the kernel used to transform the data into a (quasi-)linear space. Options include `linear`, `rbf` for radial basis function, similar to the transformation displayed earlier in this notebook, `poly` for polynomial, `sigmoid` for a transformation similar to that used by the logistic function, or a user defined function, which can also be pre-computed.\n",
    "- `C`: penalty term for regularization, setting this high reduces the effects of regularization.\n",
    "- `class_weight`: determines how unbalanced classes are handled, by default, weights are assumed to be uniform. Specifying the value of `balanced` for this hyperparameter indicates that weights should be determined automatically from the training data. \n",
    "- `decision_function_shape`: determines if multi-class problems return a decision function that is computed as a _one-versus-rest_, the recommended, or a _one-versus-one_, where each pair of classes is divided separately.\n",
    "- `random_state`: seed for random number generation, setting this ensures reproducibility.\n",
    "\n",
    "To demonstrate how to use SVC, we will use the [Adult Income Dataset][uciad] introduced in the previous lessons. In the following code cells, we first load the adult data, encode `Salary` column as label, then use patsy module to create training data and feature. We use patsy because there are continous and categorical features in the training data. `dmatrices` in patsy module makes it easy to create dummy variables for categorical features. Next, we will split the dataset to training and testing, then normalize training and testing data. With the data ready, we will create an SVC estimator that employs a linear kernel with a defined random seed. Next, we fit this estimator to our training data, and produce an accuracy metric. The two Code cells that follow the first display the classification report and confusion matrix for this prediction task.\n",
    "\n",
    "-----\n",
    "\n",
    "[sksvc]: http://scikit-learn.org/stable/modules/svm.html#svm-classification\n",
    "[uciad]: https://archive.ics.uci.edu/ml/datasets/Adult"
   ]
  },
  {
   "cell_type": "code",
   "execution_count": 6,
   "metadata": {
    "scrolled": true
   },
   "outputs": [
    {
     "data": {
      "text/html": [
       "<div>\n",
       "<style scoped>\n",
       "    .dataframe tbody tr th:only-of-type {\n",
       "        vertical-align: middle;\n",
       "    }\n",
       "\n",
       "    .dataframe tbody tr th {\n",
       "        vertical-align: top;\n",
       "    }\n",
       "\n",
       "    .dataframe thead th {\n",
       "        text-align: right;\n",
       "    }\n",
       "</style>\n",
       "<table border=\"1\" class=\"dataframe\">\n",
       "  <thead>\n",
       "    <tr style=\"text-align: right;\">\n",
       "      <th></th>\n",
       "      <th>Intercept</th>\n",
       "      <th>C(Sex)[T. Male]</th>\n",
       "      <th>C(MaritalStatus)[T. Married-AF-spouse]</th>\n",
       "      <th>C(MaritalStatus)[T. Married-civ-spouse]</th>\n",
       "      <th>C(MaritalStatus)[T. Married-spouse-absent]</th>\n",
       "      <th>C(MaritalStatus)[T. Never-married]</th>\n",
       "      <th>C(MaritalStatus)[T. Separated]</th>\n",
       "      <th>C(MaritalStatus)[T. Widowed]</th>\n",
       "      <th>C(Relationship)[T. Not-in-family]</th>\n",
       "      <th>C(Relationship)[T. Other-relative]</th>\n",
       "      <th>C(Relationship)[T. Own-child]</th>\n",
       "      <th>C(Relationship)[T. Unmarried]</th>\n",
       "      <th>C(Relationship)[T. Wife]</th>\n",
       "      <th>Age</th>\n",
       "      <th>HoursPerWeek</th>\n",
       "      <th>CapitalGain</th>\n",
       "    </tr>\n",
       "  </thead>\n",
       "  <tbody>\n",
       "    <tr>\n",
       "      <th>28114</th>\n",
       "      <td>1.0</td>\n",
       "      <td>0.0</td>\n",
       "      <td>0.0</td>\n",
       "      <td>0.0</td>\n",
       "      <td>0.0</td>\n",
       "      <td>1.0</td>\n",
       "      <td>0.0</td>\n",
       "      <td>0.0</td>\n",
       "      <td>0.0</td>\n",
       "      <td>0.0</td>\n",
       "      <td>1.0</td>\n",
       "      <td>0.0</td>\n",
       "      <td>0.0</td>\n",
       "      <td>20.0</td>\n",
       "      <td>52.0</td>\n",
       "      <td>0.0</td>\n",
       "    </tr>\n",
       "    <tr>\n",
       "      <th>23804</th>\n",
       "      <td>1.0</td>\n",
       "      <td>1.0</td>\n",
       "      <td>0.0</td>\n",
       "      <td>1.0</td>\n",
       "      <td>0.0</td>\n",
       "      <td>0.0</td>\n",
       "      <td>0.0</td>\n",
       "      <td>0.0</td>\n",
       "      <td>0.0</td>\n",
       "      <td>0.0</td>\n",
       "      <td>0.0</td>\n",
       "      <td>0.0</td>\n",
       "      <td>0.0</td>\n",
       "      <td>48.0</td>\n",
       "      <td>30.0</td>\n",
       "      <td>0.0</td>\n",
       "    </tr>\n",
       "    <tr>\n",
       "      <th>27482</th>\n",
       "      <td>1.0</td>\n",
       "      <td>0.0</td>\n",
       "      <td>0.0</td>\n",
       "      <td>0.0</td>\n",
       "      <td>0.0</td>\n",
       "      <td>0.0</td>\n",
       "      <td>0.0</td>\n",
       "      <td>0.0</td>\n",
       "      <td>1.0</td>\n",
       "      <td>0.0</td>\n",
       "      <td>0.0</td>\n",
       "      <td>0.0</td>\n",
       "      <td>0.0</td>\n",
       "      <td>34.0</td>\n",
       "      <td>25.0</td>\n",
       "      <td>0.0</td>\n",
       "    </tr>\n",
       "    <tr>\n",
       "      <th>26929</th>\n",
       "      <td>1.0</td>\n",
       "      <td>1.0</td>\n",
       "      <td>0.0</td>\n",
       "      <td>1.0</td>\n",
       "      <td>0.0</td>\n",
       "      <td>0.0</td>\n",
       "      <td>0.0</td>\n",
       "      <td>0.0</td>\n",
       "      <td>0.0</td>\n",
       "      <td>0.0</td>\n",
       "      <td>0.0</td>\n",
       "      <td>0.0</td>\n",
       "      <td>0.0</td>\n",
       "      <td>41.0</td>\n",
       "      <td>45.0</td>\n",
       "      <td>0.0</td>\n",
       "    </tr>\n",
       "    <tr>\n",
       "      <th>19374</th>\n",
       "      <td>1.0</td>\n",
       "      <td>0.0</td>\n",
       "      <td>0.0</td>\n",
       "      <td>0.0</td>\n",
       "      <td>0.0</td>\n",
       "      <td>1.0</td>\n",
       "      <td>0.0</td>\n",
       "      <td>0.0</td>\n",
       "      <td>0.0</td>\n",
       "      <td>0.0</td>\n",
       "      <td>1.0</td>\n",
       "      <td>0.0</td>\n",
       "      <td>0.0</td>\n",
       "      <td>22.0</td>\n",
       "      <td>15.0</td>\n",
       "      <td>0.0</td>\n",
       "    </tr>\n",
       "  </tbody>\n",
       "</table>\n",
       "</div>"
      ],
      "text/plain": [
       "       Intercept  C(Sex)[T. Male]  C(MaritalStatus)[T. Married-AF-spouse]  \\\n",
       "28114        1.0              0.0                                     0.0   \n",
       "23804        1.0              1.0                                     0.0   \n",
       "27482        1.0              0.0                                     0.0   \n",
       "26929        1.0              1.0                                     0.0   \n",
       "19374        1.0              0.0                                     0.0   \n",
       "\n",
       "       C(MaritalStatus)[T. Married-civ-spouse]  \\\n",
       "28114                                      0.0   \n",
       "23804                                      1.0   \n",
       "27482                                      0.0   \n",
       "26929                                      1.0   \n",
       "19374                                      0.0   \n",
       "\n",
       "       C(MaritalStatus)[T. Married-spouse-absent]  \\\n",
       "28114                                         0.0   \n",
       "23804                                         0.0   \n",
       "27482                                         0.0   \n",
       "26929                                         0.0   \n",
       "19374                                         0.0   \n",
       "\n",
       "       C(MaritalStatus)[T. Never-married]  C(MaritalStatus)[T. Separated]  \\\n",
       "28114                                 1.0                             0.0   \n",
       "23804                                 0.0                             0.0   \n",
       "27482                                 0.0                             0.0   \n",
       "26929                                 0.0                             0.0   \n",
       "19374                                 1.0                             0.0   \n",
       "\n",
       "       C(MaritalStatus)[T. Widowed]  C(Relationship)[T. Not-in-family]  \\\n",
       "28114                           0.0                                0.0   \n",
       "23804                           0.0                                0.0   \n",
       "27482                           0.0                                1.0   \n",
       "26929                           0.0                                0.0   \n",
       "19374                           0.0                                0.0   \n",
       "\n",
       "       C(Relationship)[T. Other-relative]  C(Relationship)[T. Own-child]  \\\n",
       "28114                                 0.0                            1.0   \n",
       "23804                                 0.0                            0.0   \n",
       "27482                                 0.0                            0.0   \n",
       "26929                                 0.0                            0.0   \n",
       "19374                                 0.0                            1.0   \n",
       "\n",
       "       C(Relationship)[T. Unmarried]  C(Relationship)[T. Wife]   Age  \\\n",
       "28114                            0.0                       0.0  20.0   \n",
       "23804                            0.0                       0.0  48.0   \n",
       "27482                            0.0                       0.0  34.0   \n",
       "26929                            0.0                       0.0  41.0   \n",
       "19374                            0.0                       0.0  22.0   \n",
       "\n",
       "       HoursPerWeek  CapitalGain  \n",
       "28114          52.0          0.0  \n",
       "23804          30.0          0.0  \n",
       "27482          25.0          0.0  \n",
       "26929          45.0          0.0  \n",
       "19374          15.0          0.0  "
      ]
     },
     "execution_count": 6,
     "metadata": {},
     "output_type": "execute_result"
    }
   ],
   "source": [
    "# Adult data archived at UCI ML Repository\n",
    "data_file = \"http://archive.ics.uci.edu/ml/machine-learning-databases/adult/adult.data\"\n",
    "col_names = ['Age', 'Workclass', 'FNLWGT', 'Education', \n",
    "             'EducationLevel', 'MaritalStatus', 'Occupation', \n",
    "             'Relationship', 'Race', 'Sex', 'CapitalGain', 'CapitalLoss', \n",
    "             'HoursPerWeek', 'NativeCountry', 'Salary']\n",
    "\n",
    "# Read CSV data from URL return Pandas\n",
    "adult_data = pd.read_csv(data_file, index_col=False, names = col_names)\n",
    "\n",
    "# Create label column, one for >50K, zero otherwise.\n",
    "adult_data['Label'] = adult_data['Salary'].map(lambda x : 1 if '>50K' in x else 0)\n",
    "\n",
    "import patsy as pts \n",
    "\n",
    "# Create dependent and independent variables\n",
    "formula = 'Label ~ Age + HoursPerWeek + CapitalGain + C(Sex) + C(MaritalStatus) + C(Relationship)'\n",
    "label, data = pts.dmatrices(formula, data=adult_data, return_type='dataframe')\n",
    "data.sample(5)"
   ]
  },
  {
   "cell_type": "code",
   "execution_count": 7,
   "metadata": {},
   "outputs": [],
   "source": [
    "from sklearn.model_selection import train_test_split\n",
    "from sklearn.preprocessing import StandardScaler\n",
    "\n",
    "d_train, d_test, l_train, l_test = train_test_split(data, label, test_size=0.4, random_state=23)\n",
    "# Normalize data\n",
    "sc = StandardScaler().fit(d_train)\n",
    "\n",
    "d_train_sc = sc.transform(d_train)\n",
    "d_test_sc = sc.transform(d_test)"
   ]
  },
  {
   "cell_type": "code",
   "execution_count": 8,
   "metadata": {},
   "outputs": [
    {
     "name": "stdout",
     "output_type": "stream",
     "text": [
      "SVM prediction accuracy =  79.5%\n"
     ]
    }
   ],
   "source": [
    "# Next lets try SVM\n",
    "from sklearn.svm import SVC\n",
    "\n",
    "# Use default parameters, except we want a linear kernel\n",
    "# and we specify the random_state hyperparameter to \n",
    "# ensure reproduceability.\n",
    "svc = SVC(kernel='linear', random_state=23)\n",
    "svc = svc.fit(d_train_sc, l_train)\n",
    "\n",
    "# Compute and display accuracy score\n",
    "score = 100.0 * svc.score(d_test_sc, l_test)\n",
    "print(f\"SVM prediction accuracy = {score:5.1f}%\")"
   ]
  },
  {
   "cell_type": "code",
   "execution_count": 9,
   "metadata": {},
   "outputs": [
    {
     "name": "stdout",
     "output_type": "stream",
     "text": [
      "              precision    recall  f1-score   support\n",
      "\n",
      "         Low       0.79      0.99      0.88      9811\n",
      "        High       0.84      0.21      0.34      3214\n",
      "\n",
      "   micro avg       0.80      0.80      0.80     13025\n",
      "   macro avg       0.81      0.60      0.61     13025\n",
      "weighted avg       0.80      0.80      0.75     13025\n",
      "\n"
     ]
    }
   ],
   "source": [
    "from sklearn.metrics import classification_report\n",
    "\n",
    "# Thre types of Iris in data set\n",
    "labels = ['Low', 'High']\n",
    "\n",
    "# Predict on test data and report scores\n",
    "y_pred = svc.predict(d_test_sc)\n",
    "print(classification_report(l_test, y_pred, target_names = labels))"
   ]
  },
  {
   "cell_type": "code",
   "execution_count": 10,
   "metadata": {},
   "outputs": [
    {
     "data": {
      "image/png": "[encoded data removed]",
      "text/plain": [
       "<Figure size 432x288 with 2 Axes>"
      ]
     },
     "metadata": {
      "needs_background": "light"
     },
     "output_type": "display_data"
    }
   ],
   "source": [
    "from helper_code import mlplots as ml\n",
    "\n",
    "# Call confusion matrix plotting routine\n",
    "ml.confusion(l_test['Label'], y_pred, labels, 'Support Vector Classification')"
   ]
  },
  {
   "cell_type": "markdown",
   "metadata": {},
   "source": [
    "---\n",
    "The confusion matrix shows that our SVM model doesn't do well with adult data. The recall rate on High income class is perticularly low. This could because the data set is not easily separable using the kernel which is linear we chose for the model. You can try other kernels but this won't guarantee much improvements. This is the main disadvantage of SVM, that the performance relies on kernel selection. Sometimes you may need to build custom kernel for best result which requires intensive domain knowledge. Another disadvantage of SVM is that the training process can be very slow, especially with non linear kernels and large dataset. This is due to the computation complexity of the hyperplane calculation.\n",
    "\n",
    "---"
   ]
  },
  {
   "cell_type": "markdown",
   "metadata": {},
   "source": [
    "-----\n",
    "\n",
    "<font color='red' size = '5'> Student Exercise </font>\n",
    "\n",
    "In the preceding Code cells, we used a simple linear SVC to predict classifications for the Iris data. Now that you have run the notebook once, go back and make the following change to see how the results change.\n",
    "\n",
    "1. Try other `kernel` when costruct SVC\n",
    "\n",
    "Finally, how does the SVC performence compare to that from the KNN classification algorithm, or to that from the decision tree classification algorithm?\n",
    "\n",
    "-----"
   ]
  },
  {
   "cell_type": "markdown",
   "metadata": {},
   "source": [
    "-----\n",
    "\n",
    "[[Back to TOC]](#Table-of-Contents)\n",
    "\n",
    "## Support Vector Machine: Regression\n",
    "\n",
    "To this point, we have only applied the support vector machine algorithm to classification tasks. This algorithm can also be applied to regression tasks by using hyperplanes to model the data distribution. Basically, this algorithm works on regression problems by mapping the training data into a high dimensional space, which might involve a non-linear kernel, and performing something akin to linear regression on the data in this higher dimensional space. Recall that for best performance, SVMs require the data be normalized prior to use.\n",
    "\n",
    "To perform support vector regression, or SVR, we will use the `SVR` estimator in the `svm` module in the scikit-learn library. This estimator accepts a very similar list of hyperparameters to the `SVC` estimator discussed earlier in this notebook. One of the few important additions is the `epsilon` hyperparameter, which is used in the cost function that is minimized when constructing the SVR model. This term essentially defines a _tube_ around the best fit model wherein data inside the tube are ignored, since they are _close_ to the model, and data outside are used to modify the final predictive model.\n",
    "\n",
    "In the rest of this section, we demonstrate how to perform SVR on a complex data set, in this case the automotive fuel prediction data, also used in previous notebooks. Note that in the following example, we have not normalized the numerical features. While this obviously can affect performance, we leave that as a student exercise.\n",
    "\n"
   ]
  },
  {
   "cell_type": "markdown",
   "metadata": {},
   "source": [
    "-----\n",
    "\n",
    "[[Back to TOC]](#Table-of-Contents)\n",
    "\n",
    "### Regression: Auto MPG Data\n",
    "\n",
    "To demonstrate support vector regression, we will use the automobile fuel efficiency data set from the UCI machine learning repository. For more information on these data, refer to the [online documentation][od] at the UCI website.\n",
    "\n",
    "In the following Code cells, we load these data into our notebook, construct an SVR predictive model, and evaluate its performance. \n",
    "\n",
    "----\n",
    "\n",
    "[idt]: intro2dt.ipynb\n",
    "[od]: https://archive.ics.uci.edu/ml/datasets/auto+mpg"
   ]
  },
  {
   "cell_type": "code",
   "execution_count": 11,
   "metadata": {},
   "outputs": [],
   "source": [
    "import patsy as pts \n",
    "\n",
    "data_file = \"https://archive.ics.uci.edu/ml/machine-learning-databases/auto-mpg/auto-mpg.data\"\n",
    "# Names for our columns\n",
    "col_names = ['MPG', 'Cylinders', 'Displacement', 'Horsepower', 'Weight', 'Acceleration', 'Year', 'Origin', 'Name']\n",
    "\n",
    "# Create DataFrame and sample the result\n",
    "auto_data = pd.read_csv(data_file, index_col=False, names = col_names, delim_whitespace=True)\n",
    "\n",
    "# Create feature and label DataFrames using formula-based interface\n",
    "formula = 'MPG ~ C(Cylinders) + Displacement + Horsepower + Weight + Acceleration + C(Year) + C(Origin)'\n",
    "y, x = pts.dmatrices(formula, data=auto_data, return_type='dataframe')\n",
    "\n",
    "# Split data into training:testing data set\n",
    "ind_train, ind_test, dep_train, dep_test = train_test_split(x, y, test_size=0.4, random_state=23)"
   ]
  },
  {
   "cell_type": "markdown",
   "metadata": {},
   "source": [
    "-----\n",
    "\n",
    "With these data now loaded into a DataFrame and split into training and testing samples, we can create a regression model by using the `SVR` estimator in the `svm` module in the scikit-learn library. First, we create our estimator, in this case we simply use the default hyperparameters. Next, we fit the model to our training data. Finally, we compute a regression score, which by default is $R^2$, or the coefficient of determination. Comparing to that of KNN, our computed score from SVM is not great, for reference, a perfect model would have a score of one, and a constant model that ignored the feature values would have a score of zero. This indicates that KNN is probably the better model for MPG dataset.\n",
    "\n",
    "The second Code cell computes and displays other metrics, which in this case provide more insight into our performance. For example, the mean absolute errors indicate that we predict the miles per gallon for an automobile in the test data set within about 5.65 miles per gallon.\n",
    "\n",
    "-----"
   ]
  },
  {
   "cell_type": "code",
   "execution_count": 12,
   "metadata": {},
   "outputs": [
    {
     "name": "stdout",
     "output_type": "stream",
     "text": [
      "Regression Score = 0.123\n"
     ]
    }
   ],
   "source": [
    "from sklearn.svm import SVR\n",
    "\n",
    "# Create Regressor with default properties\n",
    "auto_model = SVR()\n",
    "\n",
    "# Fit estimator and display score\n",
    "auto_model = auto_model.fit(ind_train, dep_train)\n",
    "print(f'Regression Score = {auto_model.score(ind_test, dep_test):5.3f}')"
   ]
  },
  {
   "cell_type": "code",
   "execution_count": 13,
   "metadata": {},
   "outputs": [
    {
     "name": "stdout",
     "output_type": "stream",
     "text": [
      "R^2 Score             = 0.123\n",
      "Mean Absolute Error   = 5.65\n",
      "Mean Squared Error    = 47.28\n"
     ]
    }
   ],
   "source": [
    "from sklearn.metrics import mean_absolute_error\n",
    "from sklearn.metrics import mean_squared_error\n",
    "from sklearn.metrics import r2_score\n",
    "\n",
    "# Regress on test data\n",
    "pred = auto_model.predict(ind_test)\n",
    "\n",
    "# Copute performance metrics\n",
    "mae = mean_absolute_error(dep_test, pred)\n",
    "mse = mean_squared_error(dep_test, pred)\n",
    "mr2 = r2_score(dep_test, pred)\n",
    "\n",
    "# Display metrics\n",
    "print(f'R^2 Score             = {mr2:5.3f}')\n",
    "print(f'Mean Absolute Error   = {mae:4.2f}')\n",
    "print(f'Mean Squared Error    = {mse:4.2f}')\n"
   ]
  },
  {
   "cell_type": "markdown",
   "metadata": {},
   "source": [
    "-----\n",
    "\n",
    "<font color='red' size = '5'> Student Exercise </font>\n",
    "\n",
    "In the preceding cells, we used support vector regression to model the fuel efficiency of automobiles. Try to improve the results by making the following changes. As you try these tasks, try to understand what has changed and if the change is good or bad.\n",
    "\n",
    "1. Iteratively remove one or more of the categorical features from the training data.\n",
    "2. Try using a different kernel function, the default is `rbf`. \n"
   ]
  },
  {
   "cell_type": "markdown",
   "metadata": {},
   "source": [
    "-----\n",
    "\n",
    "## Ancillary Information\n",
    "\n",
    "The following links are to additional documentation that you might find helpful in learning this material. Reading these web-accessible documents is completely optional.\n",
    "\n",
    "1. A [beginners guide][1] to support vector machines\n",
    "2. An [introduction to machine learning][2] with support vector machines\n",
    "\n",
    "-----\n",
    "\n",
    "[1]: https://www.quantstart.com/articles/Support-Vector-Machines-A-Guide-for-Beginners\n",
    "[2]: http://www.ritchieng.com/machine-learning-svms/"
   ]
  }
 ],
 "metadata": {
  "kernelspec": {
   "display_name": "Python 3",
   "language": "python",
   "name": "python3"
  },
  "language_info": {
   "codemirror_mode": {
    "name": "ipython",
    "version": 3
   },
   "file_extension": ".py",
   "mimetype": "text/x-python",
   "name": "python",
   "nbconvert_exporter": "python",
   "pygments_lexer": "ipython3",
   "version": "3.7.1"
  }
 },
 "nbformat": 4,
 "nbformat_minor": 1
}
