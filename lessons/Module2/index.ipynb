{
 "cells": [
  {
   "cell_type": "markdown",
   "metadata": {},
   "source": [
    "# Module 2: Fundamental Algorithms I\n",
    "\n",
    "This module introduces three machine learning algorithms. First, you will learn how linear regression can be considered a machine learning problem with parameters that must be determined computationally by minimizing a cost function. Next, you will learn Logistic Regression. Despite its name, Logistic Regression is a classification algorithm. Lastly, you will learn Decision Tree, which is a popular machine learning algorithm that can be used for both classification and regression. This module will dive deeper into the concept of machine classification, where algorithms learn from existing, labeled data to classify new, unseen data into specific categories; and, the concept of machine regression, where algorithms learn a model from data to make predictions for new, unseen continuous data. While these algorithms all differ in their mathematical underpinnings, they are often used for classifying numerical, text, and image data or performing regression in a variety of domains.\n",
    "\n",
    "## Learning Objectives\n",
    "\n",
    "#### By the end of this module, you should be able to:\n",
    "\n",
    "- describe the basic concepts behind the linear regression algorithm,\n",
    "- describe the basic concepts behind thelogistic regression algorithm,\n",
    "- describe the basic concepts behind the decision tree algorithms, and\n",
    "- apply linear regression, logistic regression and decision tree algorithms to regression and classification challenges by writing Python analysis scripts.\n",
    "\n",
    "### Activities and Assignments\n",
    "\n",
    "| Activities and Assignments               | Time Estimate | Deadline | Points |\n",
    "| :--------------------------------------- | ------------- | --------- | -----: |\n",
    "| **[Module 2 Overview Video][wv]**        | 10 Minutes    | N/A   |    N/A |\n",
    "| **[Module 2 Lesson 1: Introduction to Linear Regression][lesson1]** | 2 Hours       | N/A  |    N/A |\n",
    "| **[Module 2 Lesson 2: Introduction to Logistic Regression][lesson2]** | 2 Hours       | N/A  |    N/A |\n",
    "| **[Module 2 Lesson 3: Introduction to Decision Trees][lesson3]** | 2 Hours       | N/A  |    N/A |\n",
    "| **[Module 2 Assignment Low][mal]**                    | 1 hour   | Sunday    |  25 |\n",
    "| **[Module 2 Assignment High][mah]**                    | 1 hour   | Sunday    |  75 |\n",
    "\n",
    "----------\n",
    "\n",
    "[lesson1]: notebooks/m2_1.ipynb\n",
    "[lesson2]: notebooks/m2_2.ipynb\n",
    "[lesson3]: notebooks/m2_3.ipynb\n",
    "\n",
    "[wv]: https://mediaspace.illinois.edu/media/t/1_e5sxqskd\n",
    "[mal]: ../../assignments/Release/Module2/assignment_low.ipynb\n",
    "[mah]: ../../assignments/Release/Module2/assignment_high.ipynb\n"
   ]
  },
  {
   "cell_type": "markdown",
   "metadata": {
    "deletable": false,
    "editable": false
   },
   "source": [
    "**&copy; 2019: Gies College of Business at the University of Illinois.**\n",
    "\n",
    "This notebook is released under the [Creative Commons license CC BY-NC-SA 4.0][ll]. Any reproduction, adaptation, distribution, dissemination or making available of this notebook for commercial use is not allowed unless authorized in writing by the copyright holder.\n",
    "\n",
    "[ll]: https://creativecommons.org/licenses/by-nc-sa/4.0/legalcode "
   ]
  }
 ],
 "metadata": {
  "celltoolbar": "Edit Metadata",
  "kernelspec": {
   "display_name": "Python 3 (ipykernel)",
   "language": "python",
   "name": "python3"
  },
  "language_info": {
   "codemirror_mode": {
    "name": "ipython",
    "version": 3
   },
   "file_extension": ".py",
   "mimetype": "text/x-python",
   "name": "python",
   "nbconvert_exporter": "python",
   "pygments_lexer": "ipython3",
   "version": "3.9.5"
  }
 },
 "nbformat": 4,
 "nbformat_minor": 4
}
