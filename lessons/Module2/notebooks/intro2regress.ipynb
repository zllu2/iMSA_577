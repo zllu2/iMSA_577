{
 "cells": [
  {
   "cell_type": "markdown",
   "metadata": {},
   "source": [
    "# Introduction to Linear Regression\n",
    "\n",
    "-----"
   ]
  },
  {
   "cell_type": "markdown",
   "metadata": {},
   "source": [
    "\n",
    "Linear regression is one of the most well-known and well-understood algorithms in statistics and machine learning. In this notebook, we will discuss the linear regression algorithm, how it works and how you can best use it in your machine learning projects. We will introduce the concept of minimizing a cost function to determine the optimal model parameters. We will demonstrate linear regression with scikit-learn machine learning module and statsmodel library.\n",
    "\n",
    "-----"
   ]
  },
  {
   "cell_type": "markdown",
   "metadata": {},
   "source": [
    "## Table of Contents\n",
    "\n",
    "[Formalism](#Formalism)\n",
    "\n",
    "[Cost Function](#Cost-Function)\n",
    "\n",
    "[Linear Regression with Scikit-Learn](#Linear-Regression-with-Scikit-Learn)\n",
    "\n",
    "- [Data Preparation](#Data-Preparation)\n",
    "\n",
    "- [Linear Regression](#Linear-Regression)\n",
    "\n",
    "[Linear Regression with StatsModel](#Linear-Regression-with-Statsmodels)\n",
    "\n",
    "-----\n",
    "\n",
    "Before proceeding with the _Formalism_ section of this Notebook, we first have our standard notebook setup code, after which we load a sample data set, the _tips_ data, and perform simple linear regression.\n",
    "\n",
    "-----"
   ]
  },
  {
   "cell_type": "code",
   "execution_count": 1,
   "metadata": {},
   "outputs": [],
   "source": [
    "# Set up Notebook\n",
    "\n",
    "%matplotlib inline\n",
    "\n",
    "# Standard imports\n",
    "import pandas as pd\n",
    "import numpy as np\n",
    "import matplotlib.pyplot as plt\n",
    "import seaborn as sns\n",
    "\n",
    "# We do this to ignore several specific warnings\n",
    "import warnings\n",
    "warnings.filterwarnings(\"ignore\")\n",
    "\n",
    "sns.set(style=\"white\")"
   ]
  },
  {
   "cell_type": "markdown",
   "metadata": {},
   "source": [
    "-----\n",
    "\n",
    "In this notebook, we will use the _tips_ data set from the Seaborn module. After loading this data into our Notebook, we display several random rows, and next compute a simple linear regression to predict the `tip` feature from the `total_bill` feature.\n",
    "\n",
    "-----"
   ]
  },
  {
   "cell_type": "code",
   "execution_count": 2,
   "metadata": {},
   "outputs": [
    {
     "data": {
      "text/html": [
       "<div>\n",
       "<style scoped>\n",
       "    .dataframe tbody tr th:only-of-type {\n",
       "        vertical-align: middle;\n",
       "    }\n",
       "\n",
       "    .dataframe tbody tr th {\n",
       "        vertical-align: top;\n",
       "    }\n",
       "\n",
       "    .dataframe thead th {\n",
       "        text-align: right;\n",
       "    }\n",
       "</style>\n",
       "<table border=\"1\" class=\"dataframe\">\n",
       "  <thead>\n",
       "    <tr style=\"text-align: right;\">\n",
       "      <th></th>\n",
       "      <th>total_bill</th>\n",
       "      <th>tip</th>\n",
       "      <th>sex</th>\n",
       "      <th>smoker</th>\n",
       "      <th>day</th>\n",
       "      <th>time</th>\n",
       "      <th>size</th>\n",
       "    </tr>\n",
       "  </thead>\n",
       "  <tbody>\n",
       "    <tr>\n",
       "      <th>85</th>\n",
       "      <td>34.83</td>\n",
       "      <td>5.17</td>\n",
       "      <td>Female</td>\n",
       "      <td>No</td>\n",
       "      <td>Thur</td>\n",
       "      <td>Lunch</td>\n",
       "      <td>4</td>\n",
       "    </tr>\n",
       "    <tr>\n",
       "      <th>54</th>\n",
       "      <td>25.56</td>\n",
       "      <td>4.34</td>\n",
       "      <td>Male</td>\n",
       "      <td>No</td>\n",
       "      <td>Sun</td>\n",
       "      <td>Dinner</td>\n",
       "      <td>4</td>\n",
       "    </tr>\n",
       "    <tr>\n",
       "      <th>126</th>\n",
       "      <td>8.52</td>\n",
       "      <td>1.48</td>\n",
       "      <td>Male</td>\n",
       "      <td>No</td>\n",
       "      <td>Thur</td>\n",
       "      <td>Lunch</td>\n",
       "      <td>2</td>\n",
       "    </tr>\n",
       "    <tr>\n",
       "      <th>93</th>\n",
       "      <td>16.32</td>\n",
       "      <td>4.30</td>\n",
       "      <td>Female</td>\n",
       "      <td>Yes</td>\n",
       "      <td>Fri</td>\n",
       "      <td>Dinner</td>\n",
       "      <td>2</td>\n",
       "    </tr>\n",
       "    <tr>\n",
       "      <th>113</th>\n",
       "      <td>23.95</td>\n",
       "      <td>2.55</td>\n",
       "      <td>Male</td>\n",
       "      <td>No</td>\n",
       "      <td>Sun</td>\n",
       "      <td>Dinner</td>\n",
       "      <td>2</td>\n",
       "    </tr>\n",
       "  </tbody>\n",
       "</table>\n",
       "</div>"
      ],
      "text/plain": [
       "     total_bill   tip     sex smoker   day    time  size\n",
       "85        34.83  5.17  Female     No  Thur   Lunch     4\n",
       "54        25.56  4.34    Male     No   Sun  Dinner     4\n",
       "126        8.52  1.48    Male     No  Thur   Lunch     2\n",
       "93        16.32  4.30  Female    Yes   Fri  Dinner     2\n",
       "113       23.95  2.55    Male     No   Sun  Dinner     2"
      ]
     },
     "execution_count": 2,
     "metadata": {},
     "output_type": "execute_result"
    }
   ],
   "source": [
    "# Load Data Set\n",
    "tdf = pd.read_csv('tips.csv')\n",
    "\n",
    "# Display several random rows\n",
    "tdf.sample(5, random_state=2)"
   ]
  },
  {
   "cell_type": "markdown",
   "metadata": {},
   "source": [
    "-----\n",
    "\n",
    "[Back to TOC](#Table-of-Contents)\n",
    "\n",
    "## Formalism\n",
    "\n",
    "-----\n",
    "\n",
    "Linear regression is a linear model that assumes a linear relationship between the input variables (x or independent variable) and the single output variable (y or dependent variable). More specifically, that y can be calculated from a linear combination of the input variables (x). It constructs a simple model, such as\n",
    "$y = \\beta_0 + \\beta_1 x_1 + \\beta_2 x_2 + ... + \\beta_n x_n$\n",
    "from a data set. This model builds on assumptions (such as the y and x are linearly dependent and any errors in the regression are normally distributed), to build a model from the independent variables (i.e., $x_1..x_n$) for the dependent variable ($y$). In some application areas, the independent variables are known as the predictors, while the dependent variable is known as the response variable. If only one feature is used ($x$), the technique is known as simple linear regression, while if more than one feature is used ($x_1, x_2, ..., x_n$), the technique is known as multiple linear regression.\n",
    "\n",
    "To make it simple, we start with simple linear regression. The simple linear model relates the independent variables $x_i$ to the dependent variables $y_i$ via two parameters: an intercept, and a slope. Mathematically, we express this relation in the following form:\n",
    "\n",
    "$\\hat{y}_i = \\beta_0 + \\beta_1  x_i$  \n",
    "$y_i = \\hat{y}_i + \\epsilon_i$ = $\\beta_0 + \\beta_1  x_i + \\epsilon_i$  \n",
    "\n",
    "\n",
    "Where $y_i$ is the observed dependent variable and $\\hat{y}_i$ is the value predicted by the linear model. $\\epsilon_i$ accounts for the difference between the model predicted value $\\hat{y}_i$ and the observed value $y_i$ for each data point $x_i$. If we have a perfect model, these errors, $\\epsilon_i$, are all zero, and $y_i = \\hat{y}_i$. In real life, however, the error terms rarely vanish because even if the original relationship is perfect noise creeps into the measurement process. \n",
    "\n",
    "As a result, in this simple example we wish to determine the model parameters: $\\beta_0$ and $\\beta_1$ that minimize the values of $\\epsilon_i$. We could perform this process in an iterative manner, trying different values for the model parameters and measuring the error function. This approach is often used in machine learning, where we define a **cost function** that we seek to minimize by selecting the best model parameters. \n",
    "\n",
    "In the case of a simple linear model, we have several potential cost (or loss) functions that we could seek to minimize, but we will use the common cost function for **ordinary least squares (OLS)** regression:\n",
    "\n",
    "$\\epsilon_i^2 = \\left( \\ y_i - \\hat{y}_i \\ \\right)^2$  \n",
    "$cost = \\sum \\epsilon_i^2$\n",
    "\n",
    "Where $\\hat{y}_i$ is defined by our model parameters. We demonstrate this approach visually in the following code block. The red line is the linear regression line which is determined by $\\beta_0$ and $\\beta_1$. The intercept of the regression line with the y axis is $\\beta_0$, the slope of the line is $\\beta_1$. We are trying to find the best regression line by minimizing the sum of squared errors. The $\\beta_0$ and $\\beta_1$ of the best regression line are the best model parameters for our linear regression model.\n",
    "\n",
    "**Note:** You are __not__ required to understand the following code. Please pay more attention to the plot and understand how $\\epsilon$ is calculated.\n",
    "\n",
    "-----"
   ]
  },
  {
   "cell_type": "code",
   "execution_count": 3,
   "metadata": {},
   "outputs": [
    {
     "name": "stdout",
     "output_type": "stream",
     "text": [
      "Minimial Cost (l2 Norm) = 13.76\n"
     ]
    },
    {
     "data": {
      "image/png": "[encoded data removed]",
      "text/plain": [
       "<Figure size 432x288 with 1 Axes>"
      ]
     },
     "metadata": {},
     "output_type": "display_data"
    }
   ],
   "source": [
    "# Load Anscombe's Quartet\n",
    "adf = pd.read_csv(\"anscombe.csv\")\n",
    "\n",
    "# Select only the first data set\n",
    "adfi = adf[adf.dataset == 'I']\n",
    "\n",
    "# Extract the x & y columns as NumPy arrays, \n",
    "# we call them xx and yy to avoid conflict with the tips data\n",
    "xx = adfi.x.values\n",
    "yy = adfi.y.values\n",
    "\n",
    "# Number of data points\n",
    "n = xx.shape[0]\n",
    "\n",
    "# Determine mean values\n",
    "mux = np.mean(xx)\n",
    "muy = np.mean(yy)\n",
    "\n",
    "# Determine best fit model parameters (from simple linear regression)\n",
    "beta = np.sum((xx - mux) * (yy - muy)) / np.sum((xx - mux)**2)\n",
    "alpha = muy - beta * mux\n",
    "\n",
    "# Plot the data as a Regression Plot\n",
    "ax = sns.regplot(x='x', y='y', data=adfi, fit_reg=False)\n",
    "\n",
    "# Label plot\n",
    "ax.set_xlabel('X', fontsize=18)\n",
    "ax.set_ylabel('Y', fontsize=18)\n",
    "ax.set_title('Regression Plot', fontsize=18)\n",
    "\n",
    "# Compute and draw epsilons\n",
    "fy = beta * xx + alpha\n",
    "ax.vlines(xx, yy, fy)\n",
    "\n",
    "print(f'Minimial Cost (l2 Norm) = {np.sum((fy - yy)**2):5.2f}')\n",
    "\n",
    "# Annotate third point\n",
    "ax.annotate(r'$(x_3, y_3)$', xy=(6, 7), xytext=(5.5, 7.5))\n",
    "ax.annotate(r'$(x_3, \\hat{y}_3)$', xy=(6, 7), xytext=(5.3, 5.5))\n",
    "\n",
    "ax.annotate(r'$\\epsilon_3$', xy=(6, 6.5), xytext=(4.5, 6.5),\n",
    "            arrowprops=dict(facecolor='black', alpha =0.25, shrink = 0.05))\n",
    "\n",
    "# Annotate tenth point\n",
    "ax.annotate(r'$(x_{10}, y_{10})$', xy=(13, 7.5), xytext=(12.5, 7.0))\n",
    "ax.annotate(r'$(x_{10}, \\hat{y}_{10})$', xy=(13, 7.5), xytext=(12.2, 9.8))\n",
    "\n",
    "ax.annotate(r'$\\epsilon_{10}$', xy=(13, 8.75), xytext=(14.5, 8.0),\n",
    "            arrowprops=dict(facecolor='black', alpha =0.25, shrink = 0.05))\n",
    "\n",
    "# Compute and plot linear model\n",
    "xx = np.arange(3, 16)\n",
    "yy = beta * xx + alpha\n",
    "ax.plot(xx, yy)\n",
    "\n",
    "sns.despine(offset = 5, trim=True)"
   ]
  },
  {
   "cell_type": "markdown",
   "metadata": {},
   "source": [
    "-----\n",
    "\n",
    "[Back to TOC](#Table-of-Contents)\n",
    "\n",
    "## Cost Function\n",
    "\n",
    "This simple example demonstrates a fundamental concept in machine learning, namely the minimization of a cost (or loss) function, which quantifies how well a model represents a data set. For a given data set, the cost function is completely specified by the model, thus a more complex model has a more complex cost function, which can become difficult to minimize. \n",
    "\n",
    "As we move to higher dimensional data sets or more complex cost functions, the challenge of finding the global minimum becomes increasingly difficult. As a result, many mathematical techniques have been developed to find the global minimum of a (potentially) complex function. The standard approach is [gradient descent][wgd], where we use the fact that the first derivative (or gradient) measures the slope of a function at a given point. We can use the slope to infer which direction is _downhill_ and thus travel (hopefully) towards the minimum. \n",
    "\n",
    "A major challenge with this approach is the potential to become stuck in a local and not global minimum. Thus, modifications are often added to reduce the likelihood of becoming stuck in a local minimum. One popular example of this approach is known as [stochastic gradient descent][wsgd]. This algorithm employs standard gradient descent, yet adds an occasional random jump in the parameter space to reduce the chances of being stuck in a local _valley_. Another, very different, approach to this problem is the use of [genetic algorithms][wga], which employ techniques from evolutionary biology to minimize the cost function.\n",
    "\n",
    "For a mental picture of this process, imagine hiking in the mountains and trying to find the highest peak. We can use gradient ascent in this case. Gradient ascent is like finding the local mountain peak and climbing it. This local peak might look like it is the highest, but a random jump away from the local peak might enable one to view higher peaks beyond, which can subsequently be climbed with a new gradient ascent.\n",
    "\n",
    "Whenever you perform machine learning in the future, you should keep in mind that the model that you generate for a given data set has generally resulted from the minimization of a cost function. Thus, there remains the possibility that with more effort, more data, or a better cost minimization strategy, a new, and better model may potentially exist.\n",
    "\n",
    "\n",
    "-----\n",
    "\n",
    "[wgd]: https://en.wikipedia.org/wiki/Gradient_descent\n",
    "[wsgd]: https://en.wikipedia.org/wiki/Stochastic_gradient_descent\n",
    "[wga]: https://en.wikipedia.org/wiki/Genetic_algorithm"
   ]
  },
  {
   "cell_type": "markdown",
   "metadata": {},
   "source": [
    "[Back to TOC](#Table-of-Contents)\n",
    "\n",
    "\n",
    "## Linear Regression with Scikit-Learn\n",
    "\n",
    "------\n",
    "\n",
    "The most commonly used statistical and machine learning library in Python is the [scikit-learn][skl] library. This library includes many different model fitting techniques (in addition to general regression and classification algorithms) which can be easily applied to a data set. In this notebook, we will focus on the standard linear regression estimator, though much of what you learn in this notebook is applicable to other regressors in the scikit-learn library, since this library employs a standard interface.\n",
    "\n",
    "To perform linear regression with the scikit-learn library, we first create a [`LinearRegression`][sklr] estimator, which is imported from the `linear_model` module in `scikit-learn`.\n",
    "\n",
    "```python\n",
    "from sklearn.linear_model import LinearRegression\n",
    "model = LinearRegression()\n",
    "```\n",
    "  \n",
    "When this estimator is created, the following hyperparameters can be specified (they are all optional):\n",
    "  \n",
    "- `fit_intercept`: If `True`, the *default*, an intercept is fit for this model.\n",
    "- `normalize`: If `True` all the features supplied in the `fit` method will be normalized, the *default* is `False`.\n",
    "- `copy_X`: If `True`, the *default*, the feature matrix will be copied, otherwise the data may be overwritten during the regression.\n",
    "  \n",
    "This regressor has two commonly used attributes, which can be accessed after the model has been fit to the data (note that model attributes in scikit-learn are suffixed by an underscore):\n",
    "\n",
    "- `coef_`: An array of the estimated coefficients for the regressed linear model, in typical usage this is a single dimensional array.\n",
    "- `intercept_`: The constant term in the regressed linear model, only computed if `fit_intercept` is `True`.\n",
    "  \n",
    "Once created, this estimator is _fit_ to the training data, after which it can be used to _predict_ new values from the test data. These two actions, along with a measure of the performance of the regressor, are encapsulated in the following three functions that can be called on a `LinearRegression` estimator:\n",
    "- `fit`: Fits a linear model to the supplied features(both independent and dependent features).\n",
    "- `predict`: Predicts new results from the given model for the new supplied features\n",
    "- `score`: Computes a regression score, specifically the coefficient of determination $R^2$ of the prediction.\n",
    "\n",
    "-----\n",
    "[skl]: http://scikit-learn.org/stable/index.html\n",
    "[sklr]: http://scikit-learn.org/stable/modules/generated/sklearn.linear_model.LinearRegression.html"
   ]
  },
  {
   "cell_type": "markdown",
   "metadata": {},
   "source": [
    "### Data Preparation\n",
    "\n",
    "Before computing a linear regression to the _tips_ data, we must first process these data to  make them ready for the `LinearRegression` estimator. For demonstration, we will choose `total_bill`, `size` and `time` as independent variables. Among them, `total_bill` and `size` are numeric features, while `time` is a categorical feature, which has two values, `Lunch` and `Dinner`. LinearRegression models can only accept numerical features, thus we need to encode categorical features. The scikit-learn library provides several different encodings in the preprocessing module. In this notebook, we will use the patsy module, which has function `dmatrices` that makes creating dependent and independent variables from a dataframe very easy as shown below:\n",
    "\n",
    "```\n",
    "import patsy as pts \n",
    "y, x = pts.dmatrices('tip ~ total_bill + size + C(time)', data=tdf, return_type='dataframe')\n",
    "```\n",
    "\n",
    "`tdf` is the dataframe that holds the tips dataset. The formula `tip ~ total_bill + size + C(time)` indicates that `tip` column is the dependent variable, and `total_bill`, `size` and `time` are independent variables. `time` is categorical feature so it is enclosed in parenthesis and prefixed with a C. `dmatrices` will return y which has values in `tip` column; Encode `time` and return `total_bill`, `size` and encoded `time` as x.\n",
    "\n",
    "The `dmatrices` function takes this formula and the supplied data and returns the aggregated result, which in this case we have requested as two DataFrames: `x` for the independent variables and `y` for the dependent variable. \n",
    "\n",
    "Two important points to notice with `x`, the new independent feature DataFrame. First, patsy automatically created the dummy, or binarized, features for our categorical features. Second, notice that patsy also dropped one option for the categorical feature. This is not a bug, instead it is done to generate more robust results (something we probably should have been doing earlier). If we regress across all possible categorical options, we have introduced [unnecessary correlations][wdf] between our features. That is because if we have $n$ categorical features, we only need $n - 1$ dummy features to fully map all options (If they are all zero, it is the same as saying the $n^{th}$ dummy feature was one). This is known as [multicollinearity][wmc], and can lead to problems with convergence. To avoid this, you should always [drop one dummy feature][wmcr]. \n",
    "\n",
    "An `Intercept` column with value 1.0 is created in the independent feature DataFrame. This Intercept feature can be used to determine the intercept term in the linear regression if the model hyperparameter `fit_intercept` is set to False. \n",
    "\n",
    "Next, we divide the data and labels into training:testing samples with a 60:40 split.\n",
    "\n",
    "-----\n",
    "[wmc]: https://en.wikipedia.org/wiki/Multicollinearity\n",
    "[wmcr]: https://en.wikipedia.org/wiki/Multicollinearity#Remedies_for_multicollinearity\n",
    "\n",
    "[wdf]: https://en.wikipedia.org/wiki/Dummy_variable_(statistics)#Interactions_among_dummy_variables\n"
   ]
  },
  {
   "cell_type": "code",
   "execution_count": 4,
   "metadata": {},
   "outputs": [],
   "source": [
    "import patsy as pts \n",
    "\n",
    "# Create dependent and independent variables\n",
    "y, x = pts.dmatrices('tip ~ total_bill + size + C(time)', data=tdf, return_type='dataframe')"
   ]
  },
  {
   "cell_type": "code",
   "execution_count": 5,
   "metadata": {},
   "outputs": [
    {
     "data": {
      "text/html": [
       "<div>\n",
       "<style scoped>\n",
       "    .dataframe tbody tr th:only-of-type {\n",
       "        vertical-align: middle;\n",
       "    }\n",
       "\n",
       "    .dataframe tbody tr th {\n",
       "        vertical-align: top;\n",
       "    }\n",
       "\n",
       "    .dataframe thead th {\n",
       "        text-align: right;\n",
       "    }\n",
       "</style>\n",
       "<table border=\"1\" class=\"dataframe\">\n",
       "  <thead>\n",
       "    <tr style=\"text-align: right;\">\n",
       "      <th></th>\n",
       "      <th>Intercept</th>\n",
       "      <th>C(time)[T.Lunch]</th>\n",
       "      <th>total_bill</th>\n",
       "      <th>size</th>\n",
       "    </tr>\n",
       "  </thead>\n",
       "  <tbody>\n",
       "    <tr>\n",
       "      <th>85</th>\n",
       "      <td>1.0</td>\n",
       "      <td>1.0</td>\n",
       "      <td>34.83</td>\n",
       "      <td>4.0</td>\n",
       "    </tr>\n",
       "    <tr>\n",
       "      <th>54</th>\n",
       "      <td>1.0</td>\n",
       "      <td>0.0</td>\n",
       "      <td>25.56</td>\n",
       "      <td>4.0</td>\n",
       "    </tr>\n",
       "    <tr>\n",
       "      <th>126</th>\n",
       "      <td>1.0</td>\n",
       "      <td>1.0</td>\n",
       "      <td>8.52</td>\n",
       "      <td>2.0</td>\n",
       "    </tr>\n",
       "    <tr>\n",
       "      <th>93</th>\n",
       "      <td>1.0</td>\n",
       "      <td>0.0</td>\n",
       "      <td>16.32</td>\n",
       "      <td>2.0</td>\n",
       "    </tr>\n",
       "    <tr>\n",
       "      <th>113</th>\n",
       "      <td>1.0</td>\n",
       "      <td>0.0</td>\n",
       "      <td>23.95</td>\n",
       "      <td>2.0</td>\n",
       "    </tr>\n",
       "  </tbody>\n",
       "</table>\n",
       "</div>"
      ],
      "text/plain": [
       "     Intercept  C(time)[T.Lunch]  total_bill  size\n",
       "85         1.0               1.0       34.83   4.0\n",
       "54         1.0               0.0       25.56   4.0\n",
       "126        1.0               1.0        8.52   2.0\n",
       "93         1.0               0.0       16.32   2.0\n",
       "113        1.0               0.0       23.95   2.0"
      ]
     },
     "execution_count": 5,
     "metadata": {},
     "output_type": "execute_result"
    }
   ],
   "source": [
    "x.sample(5, random_state=2)"
   ]
  },
  {
   "cell_type": "markdown",
   "metadata": {},
   "source": [
    "\n",
    "Now we will split the dataset to training and testing. We set `random_state` to ensure repeatability."
   ]
  },
  {
   "cell_type": "code",
   "execution_count": 6,
   "metadata": {},
   "outputs": [],
   "source": [
    "from sklearn.model_selection import train_test_split\n",
    "ind_train, ind_test, dep_train, dep_test = train_test_split(x, y, test_size=0.4, random_state=23)"
   ]
  },
  {
   "cell_type": "markdown",
   "metadata": {},
   "source": [
    "----\n",
    "\n",
    "### Linear Regression\n",
    "\n",
    "With these data, we can now employ the scikit-learn library’s linear regression estimator to generate a linear model for these data. In the following Code cells, we use the `LinearRegression` estimator to fit our sample data, plot the results, and finally display the fit coefficients.\n",
    "\n",
    "After the model is trained, we can get coefficients from `model.coef_`. As a result, we display the regression formula with the coefficients. We also print the regression score which is $R^2$ of the linear regression.\n",
    "\n",
    "----"
   ]
  },
  {
   "cell_type": "code",
   "execution_count": 7,
   "metadata": {},
   "outputs": [
    {
     "name": "stdout",
     "output_type": "stream",
     "text": [
      "tip = 0.60 + 0.23 Lunch + 0.09 total_bill + 0.22 size\n",
      "LR Model score = 0.442\n"
     ]
    }
   ],
   "source": [
    "from sklearn.linear_model import LinearRegression\n",
    "\n",
    "# Create and fit our linear regression model to training data\n",
    "model = LinearRegression()\n",
    "model.fit(ind_train, dep_train)\n",
    "\n",
    "# Display model fit parameters for training data\n",
    "print(f\"tip = {model.intercept_[0]:.2f} + \" + \\\n",
    "      f\"{model.coef_[0][1]:.2f} Lunch + \" + \\\n",
    "      f\"{model.coef_[0][2]:.2f} total_bill + \" + \n",
    "      f\"{model.coef_[0][3]:.2f} size\")\n",
    "\n",
    "# Compute model predictions for test data\n",
    "results = model.predict(ind_test)\n",
    "\n",
    "# Compute score and display result (R squared, or Coefficient of Determination)\n",
    "score = model.score(ind_test, dep_test)\n",
    "print(f'LR Model score = {score:.3f}')\n"
   ]
  },
  {
   "cell_type": "markdown",
   "metadata": {},
   "source": [
    "---\n",
    "In above code, there are several things need more discussion:\n",
    "1. We create `LinearRegression` Model by accepting default values for all hyperparameter. So `fit_intercept` is True, which means the model will calculate intercept. This makes the 'Intercept' column created by `dmatrices` useless. If you check the model's first coefficient by using `model.coef_[0][0]`, you will get 0. That's why we don't need the first coefficient to construct the linear formula. In the next Code cell, we create `LinearRegression` model with `fit_intercept` set to False. This time the trained model will not have attribute `intercept_`.  We then use the first coefficient as the intercept. Both approaches give same result.\n",
    "2. `predict` function is normally used to predict on data without known output. `ind_test` has known output `dep_test`. So it's not necessary to predict with `ind_test`. We put it here just to demonstrate how to use `predict` function.\n",
    "3. `score` function takes 2 arguments, `ind_test` and `dep_test`. It will first predict on `ind_test` with the trained model, then compare the predicted result with the ground truth `dep_test`, then calculate $R^2$ value.\n",
    "4. $R^2$ is one of the regression evaluation metrics. The value of $R^2$ is normally between 0 to 1. The larger the $R^2$, the more accurate the regression model is. We will discuss regression evaluation metrics in more detail in future lessons."
   ]
  },
  {
   "cell_type": "code",
   "execution_count": 8,
   "metadata": {},
   "outputs": [
    {
     "name": "stdout",
     "output_type": "stream",
     "text": [
      "tip = 0.60 + 0.23 Lunch + 0.09 total_bill + 0.22 size\n",
      "LR Model score = 0.442\n"
     ]
    }
   ],
   "source": [
    "# Create model without fit_intercept\n",
    "model = LinearRegression(fit_intercept=False)\n",
    "model.fit(ind_train, dep_train)\n",
    "\n",
    "# Display model fit parameters for training data\n",
    "print(f\"tip = {model.coef_[0][0]:.2f} + \" + \\\n",
    "      f\"{model.coef_[0][1]:.2f} Lunch + \" + \\\n",
    "      f\"{model.coef_[0][2]:.2f} total_bill + \" + \n",
    "      f\"{model.coef_[0][3]:.2f} size\")\n",
    "\n",
    "# Compute score and display result (Coefficient of Determination)\n",
    "score = model.score(ind_test, dep_test)\n",
    "print(f'LR Model score = {score:.3f}')\n"
   ]
  },
  {
   "cell_type": "markdown",
   "metadata": {},
   "source": [
    "-----\n",
    "\n",
    "<font color='red' size = '5'> Student Exercise </font>\n",
    "\n",
    "In the preceding cells, we used multi-variate linear regression to predict the `tip` feature from the `total_bill`, `size` and categorical `time` features. In the empty Code cell below, repeat this process, but use the `total_bill`, `size`, `sex`, and `time` features. Has the prediction performance improved?\n"
   ]
  },
  {
   "cell_type": "code",
   "execution_count": null,
   "metadata": {},
   "outputs": [],
   "source": []
  },
  {
   "cell_type": "markdown",
   "metadata": {},
   "source": [
    "----\n",
    "\n",
    "[Back to TOC](#Table-of-Contents)\n",
    "\n",
    "## Linear Regression with Statsmodels\n",
    "\n",
    "Scikit-learn is the dominant Python machine learning library, and will be the primary library we use to generate models from data. However, an alternative library, [_statsmodels_][sm] is being developed that focuses more on statistical analyses, along with easier integration with the Pandas DataFrame. To demonstrate this new library and how it can be used to perform linear regression, we demonstrate the statsmodels library in the next few Code cells to perform linear regression on the _tips_ data. \n",
    "\n",
    "Given an appropriate DataFrame, in this case the _tips_ DataFrame, we can easily employ the formulaic interface to obtain an ordinary-least-squares fit to the data of interest. The formulaic interface is borrowed from the `R` programming language (which drives much of the development of the statsmodels library), and simply relates the dependent variable to the independent variables (or features).\n",
    "\n",
    "In this example, we map the `tip` label to the `total_bill`, `size` and `time` features, this will include the constant term in the calculation. At the end we call the `summary` method, which generates a detailed report showing the fit parameters, and a number of performance metrics.\n",
    "\n",
    "Notice that the absolute of `t` value of T.Lunch's coefficient is less than 2, which means the coefficient is not significant, or time of the meal has no impact on tip.\n",
    "\n",
    "**Note:** LinearRegression in sckit-learn doesn't return coefficient significance directly, you will need to calculate them from the model's attributes.\n",
    "\n",
    "-----\n",
    "\n",
    "[sm]: http://statsmodels.sourceforge.net\n",
    "\n"
   ]
  },
  {
   "cell_type": "code",
   "execution_count": 9,
   "metadata": {},
   "outputs": [
    {
     "name": "stdout",
     "output_type": "stream",
     "text": [
      "tip = 0.67 + 0.00 T.Lunch + 0.09 total_bill + 0.19 size\n",
      "Regression Score: 0.468\n"
     ]
    }
   ],
   "source": [
    "import statsmodels.formula.api as smf\n",
    "\n",
    "# Implement simple regression: Result ~ Input\n",
    "\n",
    "# First we fit slope and intercept\n",
    "result = smf.ols(formula='tip ~ total_bill + size + C(time)', data=tdf).fit()\n",
    "\n",
    "print(f\"tip = {result.params[0]:.2f} + {result.params[1]:.2f} T.Lunch + {result.params[2]:.2f} total_bill + {result.params[3]:.2f} size\") \n",
    "print(f'Regression Score: {result.rsquared:.3f}')"
   ]
  },
  {
   "cell_type": "code",
   "execution_count": 10,
   "metadata": {
    "scrolled": true
   },
   "outputs": [
    {
     "data": {
      "text/html": [
       "<table class=\"simpletable\">\n",
       "<caption>OLS Regression Results</caption>\n",
       "<tr>\n",
       "  <th>Dep. Variable:</th>           <td>tip</td>       <th>  R-squared:         </th> <td>   0.468</td>\n",
       "</tr>\n",
       "<tr>\n",
       "  <th>Model:</th>                   <td>OLS</td>       <th>  Adj. R-squared:    </th> <td>   0.461</td>\n",
       "</tr>\n",
       "<tr>\n",
       "  <th>Method:</th>             <td>Least Squares</td>  <th>  F-statistic:       </th> <td>   70.34</td>\n",
       "</tr>\n",
       "<tr>\n",
       "  <th>Date:</th>             <td>Thu, 25 Mar 2021</td> <th>  Prob (F-statistic):</th> <td>1.13e-32</td>\n",
       "</tr>\n",
       "<tr>\n",
       "  <th>Time:</th>                 <td>10:19:13</td>     <th>  Log-Likelihood:    </th> <td> -347.98</td>\n",
       "</tr>\n",
       "<tr>\n",
       "  <th>No. Observations:</th>      <td>   244</td>      <th>  AIC:               </th> <td>   704.0</td>\n",
       "</tr>\n",
       "<tr>\n",
       "  <th>Df Residuals:</th>          <td>   240</td>      <th>  BIC:               </th> <td>   718.0</td>\n",
       "</tr>\n",
       "<tr>\n",
       "  <th>Df Model:</th>              <td>     3</td>      <th>                     </th>     <td> </td>   \n",
       "</tr>\n",
       "<tr>\n",
       "  <th>Covariance Type:</th>      <td>nonrobust</td>    <th>                     </th>     <td> </td>   \n",
       "</tr>\n",
       "</table>\n",
       "<table class=\"simpletable\">\n",
       "<tr>\n",
       "          <td></td>            <th>coef</th>     <th>std err</th>      <th>t</th>      <th>P>|t|</th>  <th>[0.025</th>    <th>0.975]</th>  \n",
       "</tr>\n",
       "<tr>\n",
       "  <th>Intercept</th>        <td>    0.6671</td> <td>    0.205</td> <td>    3.249</td> <td> 0.001</td> <td>    0.263</td> <td>    1.072</td>\n",
       "</tr>\n",
       "<tr>\n",
       "  <th>C(time)[T.Lunch]</th> <td>    0.0041</td> <td>    0.148</td> <td>    0.028</td> <td> 0.978</td> <td>   -0.286</td> <td>    0.295</td>\n",
       "</tr>\n",
       "<tr>\n",
       "  <th>total_bill</th>       <td>    0.0928</td> <td>    0.009</td> <td>   10.037</td> <td> 0.000</td> <td>    0.075</td> <td>    0.111</td>\n",
       "</tr>\n",
       "<tr>\n",
       "  <th>size</th>             <td>    0.1926</td> <td>    0.085</td> <td>    2.253</td> <td> 0.025</td> <td>    0.024</td> <td>    0.361</td>\n",
       "</tr>\n",
       "</table>\n",
       "<table class=\"simpletable\">\n",
       "<tr>\n",
       "  <th>Omnibus:</th>       <td>24.790</td> <th>  Durbin-Watson:     </th> <td>   2.100</td>\n",
       "</tr>\n",
       "<tr>\n",
       "  <th>Prob(Omnibus):</th> <td> 0.000</td> <th>  Jarque-Bera (JB):  </th> <td>  46.226</td>\n",
       "</tr>\n",
       "<tr>\n",
       "  <th>Skew:</th>          <td> 0.546</td> <th>  Prob(JB):          </th> <td>9.17e-11</td>\n",
       "</tr>\n",
       "<tr>\n",
       "  <th>Kurtosis:</th>      <td> 4.831</td> <th>  Cond. No.          </th> <td>    73.7</td>\n",
       "</tr>\n",
       "</table><br/><br/>Notes:<br/>[1] Standard Errors assume that the covariance matrix of the errors is correctly specified."
      ],
      "text/plain": [
       "<class 'statsmodels.iolib.summary.Summary'>\n",
       "\"\"\"\n",
       "                            OLS Regression Results                            \n",
       "==============================================================================\n",
       "Dep. Variable:                    tip   R-squared:                       0.468\n",
       "Model:                            OLS   Adj. R-squared:                  0.461\n",
       "Method:                 Least Squares   F-statistic:                     70.34\n",
       "Date:                Thu, 25 Mar 2021   Prob (F-statistic):           1.13e-32\n",
       "Time:                        10:19:13   Log-Likelihood:                -347.98\n",
       "No. Observations:                 244   AIC:                             704.0\n",
       "Df Residuals:                     240   BIC:                             718.0\n",
       "Df Model:                           3                                         \n",
       "Covariance Type:            nonrobust                                         \n",
       "====================================================================================\n",
       "                       coef    std err          t      P>|t|      [0.025      0.975]\n",
       "------------------------------------------------------------------------------------\n",
       "Intercept            0.6671      0.205      3.249      0.001       0.263       1.072\n",
       "C(time)[T.Lunch]     0.0041      0.148      0.028      0.978      -0.286       0.295\n",
       "total_bill           0.0928      0.009     10.037      0.000       0.075       0.111\n",
       "size                 0.1926      0.085      2.253      0.025       0.024       0.361\n",
       "==============================================================================\n",
       "Omnibus:                       24.790   Durbin-Watson:                   2.100\n",
       "Prob(Omnibus):                  0.000   Jarque-Bera (JB):               46.226\n",
       "Skew:                           0.546   Prob(JB):                     9.17e-11\n",
       "Kurtosis:                       4.831   Cond. No.                         73.7\n",
       "==============================================================================\n",
       "\n",
       "Notes:\n",
       "[1] Standard Errors assume that the covariance matrix of the errors is correctly specified.\n",
       "\"\"\""
      ]
     },
     "execution_count": 10,
     "metadata": {},
     "output_type": "execute_result"
    }
   ],
   "source": [
    "# Display model fit and performance metrics\n",
    "result.summary()"
   ]
  },
  {
   "cell_type": "markdown",
   "metadata": {},
   "source": [
    "-----\n",
    "\n",
    "## Ancillary Information\n",
    "\n",
    "The following links are to additional documentation that you might find helpful in learning this material. Reading these web-accessible documents is completely optional.\n",
    "\n",
    "1. The Wikipedia article on [linear regression][1]\n",
    "2. A Python-based [tutorial on linear regression][tlr] that focuses on the statsmodels library\n",
    "3. A blog article using [linear regression to predict housing prices][5] in Python\n",
    "\n",
    "\n",
    "-----\n",
    "[1]: https://en.wikipedia.org/wiki/Linear_regression\n",
    "[tlr]: https://github.com/justmarkham/DAT4/blob/master/notebooks/08_linear_regression.ipynb\n",
    "\n",
    "[5]: http://www.learndatasci.com/predicting-housing-prices-linear-regression-using-python-pandas-statsmodels/?imm_mid=0eddcf&cmp=em-data-na-na-newsltr_20170301\n"
   ]
  },
  {
   "cell_type": "markdown",
   "metadata": {
    "deletable": false,
    "editable": false
   },
   "source": [
    "**&copy; 2019: Gies College of Business at the University of Illinois.**\n",
    "\n",
    "This notebook is released under the [Creative Commons license CC BY-NC-SA 4.0][ll]. Any reproduction, adaptation, distribution, dissemination or making available of this notebook for commercial use is not allowed unless authorized in writing by the copyright holder.\n",
    "\n",
    "[ll]: https://creativecommons.org/licenses/by-nc-sa/4.0/legalcode "
   ]
  }
 ],
 "metadata": {
  "kernelspec": {
   "display_name": "Python 3",
   "language": "python",
   "name": "python3"
  },
  "language_info": {
   "codemirror_mode": {
    "name": "ipython",
    "version": 3
   },
   "file_extension": ".py",
   "mimetype": "text/x-python",
   "name": "python",
   "nbconvert_exporter": "python",
   "pygments_lexer": "ipython3",
   "version": "3.8.5"
  }
 },
 "nbformat": 4,
 "nbformat_minor": 4
}
