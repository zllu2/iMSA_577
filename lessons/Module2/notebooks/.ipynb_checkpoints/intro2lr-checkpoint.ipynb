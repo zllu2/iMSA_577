{
 "cells": [
  {
   "cell_type": "markdown",
   "metadata": {},
   "source": [
    "# Introduction to Logistic Regression\n",
    "\n",
    "-----"
   ]
  },
  {
   "cell_type": "markdown",
   "metadata": {},
   "source": [
    "In previous notebooks, we have seen how to perform linear regression on input data to predict a continuous value. In some cases, however, we wish to predict a categorical value, such as _True/False_ or _Yes/No_. Traditional regression methods are not optimal for these problems, since this requires the prediction of a discrete and not continuous value. In this notebook we introduce a technique that simulates linear regression, but with an additional function employed that maps the continuous value predicted by linear regression methods into a **probability**, or specifically the range $[0, 1]$. In this manner, we can apply a threshold to this probability to predict a binary response.\n",
    "\n",
    "While several functions might be suitable for this transformation, the most popular\n",
    "function is the [_logit_ function][wlf]. Note that some older analyses might reference the [_probit_ function][wpf]. Performing regression by using the logit function is known as _[logistic regression][wlr]_ (the inverse of the logit function is known as the [_logistic_ function][wlcf]). The name might seem confusing since technically this algorithm is used to perform classification, but since logistic regression borrows heavily in its approach from linear regression, the descriptive name was maintained. A major benefit of logistic regression is the creation of a parametric model that can be explored to understand why predictions are made, in the same manner as a linear regression model.\n",
    "\n",
    "In this notebook, we introduce the logit function and how it can be used to construct a binary model. Next, we introduce logistic regression, and specifically show how logistic regression can be performed by using estimators from the scikit-learn library. We also introduce several popular performance metrics and show how they can be calculated for binary classification tasks.\n",
    "\n",
    "-----\n",
    "[wlr]: https://en.wikipedia.org/wiki/Logistic_regression\n",
    "[wlf]: https://en.wikipedia.org/wiki/Logit\n",
    "[wpf]: https://en.wikipedia.org/wiki/Probit\n",
    "[wlcf]: https://en.wikipedia.org/wiki/Logistic_function"
   ]
  },
  {
   "cell_type": "markdown",
   "metadata": {},
   "source": [
    "## Table of Contents\n",
    "\n",
    "[Formalism](#Formalism)\n",
    "\n",
    "- [Logit Function](#Logit-Function)\n",
    "- [Gradient Descent](#Gradient-Descent)\n",
    "- [Logistic Modelling](#Logistic-Modelling)\n",
    "\n",
    "[Logistic Regression: Adult Data](#LogisticRegression:-Adult-Data)\n",
    "- [Data Preparation](#Data-Preparation)\n",
    "- [LogisticRegression Model](#LogisticRegression-Model)\n",
    "\n",
    "[Classification Performance Metrics](#Classification-Performance-Metrics)\n",
    "\n",
    "-----\n",
    "\n",
    "Before proceeding with the _Formalism_ section of this Notebook, we first have our standard notebook setup code.\n",
    "\n",
    "-----"
   ]
  },
  {
   "cell_type": "code",
   "execution_count": 1,
   "metadata": {},
   "outputs": [],
   "source": [
    "# Set up Notebook\n",
    "\n",
    "%matplotlib inline\n",
    "\n",
    "# Standard imports\n",
    "import pandas as pd\n",
    "import numpy as np\n",
    "import matplotlib.pyplot as plt\n",
    "import seaborn as sns\n",
    "\n",
    "# We do this to ignore several specific warnings\n",
    "import warnings\n",
    "warnings.filterwarnings(\"ignore\")\n",
    "\n",
    "sns.set(style=\"white\")"
   ]
  },
  {
   "cell_type": "markdown",
   "metadata": {},
   "source": [
    "-----\n",
    "\n",
    "[[Back to TOC]](#Table-of-Contents)\n",
    "\n",
    "## Formalism\n",
    "\n",
    "-----"
   ]
  },
  {
   "cell_type": "markdown",
   "metadata": {},
   "source": [
    "In a binary classification process, we have two possible outcomes, which for the sake of generality, we can label as _Success_ or _Failure_. Denoting the probability of these two outcomes as $P(S)$ and $P(F)$ respectively, we can write the probability of success as $P(S) = p$, and the probability of failure as $P(F) = 1 - p$. Thus, the odds of a successful outcome, which is the ratio of the probability of success to the probability of failure, is given by the following expression:\n",
    "\n",
    "$\\textrm{Odds}(S) = \\frac{p}{1 - p}$\n",
    "\n",
    "We can extend the framework of _linear regression_ to the task of binary classification by employing a mapping between the continuous value predicted by a linear regressor and the probability of an event occurring, which is bounded by the range $[0, 1]$. To do this, we need a function that maps the real numbers into this range, which enables a regression onto a set of discrete values (0 or 1) that provides us the binary classification. One popular choice for this function is the _logit_ function, while another choice is the _probit_ function. The use of these functions for a classification task leads to _logistic regression_ or _probit regression_. While we focus in this notebook on the application of logistic regression for the binary classification task, this approach can be generalized to classify into more than two categories, this more advanced technique is known as [multinomial logistic regression][mlr].\n",
    "\n",
    "-----\n",
    "\n",
    "[mlr]: https://en.wikipedia.org/wiki/Multinomial_logistic_regression"
   ]
  },
  {
   "cell_type": "markdown",
   "metadata": {},
   "source": [
    "[[Back to TOC]](#Table-of-Contents)\n",
    "\n",
    "### Logit Function\n",
    "\n",
    "$\\DeclareMathOperator\\erf{erf}$\n",
    "\n",
    "The [_logit_ function][wl] is defined as the logarithm of the odds (i.e, $p/(1 - p)$), which is also known as the _log-odds_. Thus, the _logit_ function can be written for a probability of success $p$:\n",
    "\n",
    "$\\textrm{logit}(p) = \\log\\left(\\frac{p}{1 - p}\\right)$ where $0 \\leq p \\leq 1$. \n",
    "\n",
    "We can invert this relationship to obtain the [_logistic_ function][wlf], which for a parameter $\\alpha$ is defined by the following expression:\n",
    "\n",
    "$\\textrm{logit}^{-1}(\\alpha) = \\textrm{logistic}(\\alpha) = \\frac{1}{1 + \\exp{(-\\alpha})}$\n",
    "\n",
    "The logit function (and the probit function) is an _S_ shaped curve that converts real numbers into a probability. Both the logit and probit functions are related to the *sigmoid* function, but are centered at the origin (0, 0). In the following Code cell, we plot the $\\textrm{logistic}$ function, or the inverse of the logit function, demonstrating how the real numbers can be mapped into the range $[0, 1]$.\n",
    "\n",
    "**Note:** You are not required to understand the code in the next Code cell. Just pay attention to the plot and visualize how real numbers are mapped into [0,1] range.\n",
    "\n",
    "-----\n",
    "[wl]: https://en.wikipedia.org/wiki/Logit\n",
    "[wp]: https://en.wikipedia.org/wiki/Probit\n",
    "[wlf]: https://en.wikipedia.org/wiki/Logistic_function\n",
    "[wef]: https://en.wikipedia.org/wiki/Error_function\n",
    "[mlr]: https://en.wikipedia.org/wiki/Multinomial_logistic_regression"
   ]
  },
  {
   "cell_type": "code",
   "execution_count": 2,
   "metadata": {},
   "outputs": [
    {
     "data": {
      "image/png": "[encoded data removed]",
      "text/plain": [
       "<Figure size 720x360 with 1 Axes>"
      ]
     },
     "metadata": {},
     "output_type": "display_data"
    }
   ],
   "source": [
    "# Create figure and axes\n",
    "fig, ax = plt.subplots(figsize=(10, 5))\n",
    "\n",
    "# Compute and plot logistic function\n",
    "x = np.linspace(-10, 10, 100)\n",
    "y = 1. / (1 + np.exp(-x))\n",
    "ax.plot(x, y, alpha=0.75)\n",
    "\n",
    "# Draw probability barrier\n",
    "ax.hlines(0.5, -10, 10, linestyles='--')\n",
    "\n",
    "# Decorate plot\n",
    "ax.set_xlabel(r'$\\alpha$', fontsize=16)\n",
    "ax.set_ylabel(r'$p$', fontsize=16)\n",
    "ax.set_title('Logistic Function', fontsize=18)\n",
    "sns.despine(offset = 2, trim=True)"
   ]
  },
  {
   "cell_type": "markdown",
   "metadata": {},
   "source": [
    "-----\n",
    "\n",
    "[[Back to TOC]](#Table-of-Contents)\n",
    "\n",
    "### Logistic Modeling\n",
    "\n",
    "Before introducing logistic regression, we first show how the logistic function can be used to model binary response data. For this purpose, we will use data from NASA on the relationship between the outside temperature when the space shuttle was launched, and the occurrence of a thermal failure of an O-ring on a booster rocket. We will use this data to create a predictive model between temperature and thermal failure (note that it is believed that the [failure of an O-ring][wsrb] on a solid rocket booster led to the Challenger disaster).\n",
    "\n",
    "We will bypass the logistic regression process and instead explain the concept with two images. The first image is the O-ring test result conducted by NASA. The test recorded the number of O-ring failures under different temperature. The [actual data][ord] we use is hosted at the University of California at Irvine (UCI) machine learning data repository.\n",
    "\n",
    "<img src=\"images/m2_challenger.png\" width=\"800\">\n",
    "\n",
    "We can apply logistic regression on this data. The independent variable is temperature. The dependent variable will be whether there's at least one failure, 1 if yes, 0 if no.\n",
    "\n",
    "The cost (or loss) function for logistic regression is the sum of the squared errors between the actual classes and the predicted classes\n",
    "\n",
    "After we apply logistic function and minimize the cost function, we will get a sigmoid curve which is also our predictive model like this:\n",
    "\n",
    "<img src=\"images/sigmoid.png\" width=\"600\">\n",
    "\n",
    "\n",
    "-----\n",
    "[wsrb]: https://en.wikipedia.org/wiki/Space_Shuttle_Solid_Rocket_Booster#Challenger_disaster\n",
    "[ord]: https://archive.ics.uci.edu/ml/machine-learning-databases/space-shuttle/"
   ]
  },
  {
   "cell_type": "markdown",
   "metadata": {},
   "source": [
    "\n",
    "Given this predictive model, we can predict for new, unseen data. In this case, we can predict the probability of thermal failure for a given temperature. We can see that the probability of at least one O-ring failure is about 50% when temperature is 65 degree Fahrenheit. The temperature at launch during the Challenger disaster was 31 degrees Fahrenheit!\n",
    "\n"
   ]
  },
  {
   "cell_type": "markdown",
   "metadata": {},
   "source": [
    "-----\n",
    "\n",
    "[[Back to TOC]](#Table-of-Contents)\n",
    "\n",
    "## LogisticRegression: Adult Data\n",
    "\n",
    "-----\n",
    "\n",
    "We now will use the `LogisticRegression` estimator in the scikit-learn library to construct a logistic regression model. This estimator accepts several hyperparameters, of which the most important for our purposes include:\n",
    "\n",
    "- `C`: Inverse of regularization strength, larger `C` reduces overfitting risk.\n",
    "- `class_weight`: Weights to be applied to classes when performing regression, default is uniform\n",
    "- `fit_intercept`: Specifies if a constant term should be included in the regression, the default is `True`\n",
    "- `random_state`: The seed used to initialize the random number generator, a constant value ensures reproducibility.\n",
    "\n",
    "Run `help(LogisticRegression)` to view more details about the model and the hyper parameters.\n",
    "\n",
    "\n",
    "------"
   ]
  },
  {
   "cell_type": "code",
   "execution_count": 3,
   "metadata": {},
   "outputs": [],
   "source": [
    "from sklearn.linear_model import LogisticRegression\n",
    "model = LogisticRegression(C=1E6)"
   ]
  },
  {
   "cell_type": "markdown",
   "metadata": {},
   "source": [
    "-----\n",
    "\n",
    "### Data Preparation\n",
    "\n",
    "We now turn to a rather complex data set with which to perform logistic regression. The data we will explore next is the adult income prediction data. These data were extracted by Barry Becker from the 1994 Census database and consist of the following features: age, workclass, fnlwgt, education, education-num, marital-status, occupation, relationship, race, sex, capital-gain, capital-loss, hours-per-week, native-country, and salary. Of these, only five are continuous:  fnlwgt, education-num, capital-gain, capital-loss, and hours-per-week; the others are discrete. The last column, salary, is discrete and contains one of two strings to indicate if the salary was below or above $50,000. This is the column we will use to make our label.\n",
    "\n",
    "The data we use is a subset of original data which can be found in the [UCI Machine Learning Repository][uciad].\n",
    "\n",
    "We first use the pandas `read_csv` function to read the data file. Once the DataFrame is created, we randomly sample five rows to verify that the data has been successfully read.\n",
    "\n",
    "Next, we display basic information and descriptive statistics of the dataframe to get more understanding of our data.\n",
    "\n",
    "Next, we encode out target column `Salary` to create a numeric label. We use `value_counts()` to check class balance of the label.\n",
    "\n",
    "Finally, we use patsy module to create dependent and independent variables from the dataframe.\n",
    "\n",
    "-----\n",
    "[uciad]: https://archive.ics.uci.edu/ml/datasets/Adult"
   ]
  },
  {
   "cell_type": "code",
   "execution_count": 4,
   "metadata": {
    "scrolled": true
   },
   "outputs": [
    {
     "data": {
      "text/html": [
       "<div>\n",
       "<style scoped>\n",
       "    .dataframe tbody tr th:only-of-type {\n",
       "        vertical-align: middle;\n",
       "    }\n",
       "\n",
       "    .dataframe tbody tr th {\n",
       "        vertical-align: top;\n",
       "    }\n",
       "\n",
       "    .dataframe thead th {\n",
       "        text-align: right;\n",
       "    }\n",
       "</style>\n",
       "<table border=\"1\" class=\"dataframe\">\n",
       "  <thead>\n",
       "    <tr style=\"text-align: right;\">\n",
       "      <th></th>\n",
       "      <th>Age</th>\n",
       "      <th>Workclass</th>\n",
       "      <th>FNLWGT</th>\n",
       "      <th>Education</th>\n",
       "      <th>EducationLevel</th>\n",
       "      <th>MaritalStatus</th>\n",
       "      <th>Occupation</th>\n",
       "      <th>Relationship</th>\n",
       "      <th>Race</th>\n",
       "      <th>Sex</th>\n",
       "      <th>CapitalGain</th>\n",
       "      <th>CapitalLoss</th>\n",
       "      <th>HoursPerWeek</th>\n",
       "      <th>NativeCountry</th>\n",
       "      <th>Salary</th>\n",
       "    </tr>\n",
       "  </thead>\n",
       "  <tbody>\n",
       "    <tr>\n",
       "      <th>1088</th>\n",
       "      <td>45</td>\n",
       "      <td>Private</td>\n",
       "      <td>88500</td>\n",
       "      <td>Some-college</td>\n",
       "      <td>10</td>\n",
       "      <td>Married-civ-spouse</td>\n",
       "      <td>Machine-op-inspct</td>\n",
       "      <td>Husband</td>\n",
       "      <td>White</td>\n",
       "      <td>Male</td>\n",
       "      <td>0</td>\n",
       "      <td>0</td>\n",
       "      <td>44</td>\n",
       "      <td>United-States</td>\n",
       "      <td>&gt;50K</td>\n",
       "    </tr>\n",
       "    <tr>\n",
       "      <th>2178</th>\n",
       "      <td>25</td>\n",
       "      <td>State-gov</td>\n",
       "      <td>257064</td>\n",
       "      <td>Some-college</td>\n",
       "      <td>10</td>\n",
       "      <td>Married-civ-spouse</td>\n",
       "      <td>Adm-clerical</td>\n",
       "      <td>Husband</td>\n",
       "      <td>Black</td>\n",
       "      <td>Male</td>\n",
       "      <td>0</td>\n",
       "      <td>0</td>\n",
       "      <td>38</td>\n",
       "      <td>United-States</td>\n",
       "      <td>&lt;=50K</td>\n",
       "    </tr>\n",
       "    <tr>\n",
       "      <th>3343</th>\n",
       "      <td>32</td>\n",
       "      <td>Federal-gov</td>\n",
       "      <td>454508</td>\n",
       "      <td>Bachelors</td>\n",
       "      <td>13</td>\n",
       "      <td>Married-civ-spouse</td>\n",
       "      <td>Exec-managerial</td>\n",
       "      <td>Husband</td>\n",
       "      <td>White</td>\n",
       "      <td>Male</td>\n",
       "      <td>0</td>\n",
       "      <td>0</td>\n",
       "      <td>40</td>\n",
       "      <td>United-States</td>\n",
       "      <td>&lt;=50K</td>\n",
       "    </tr>\n",
       "    <tr>\n",
       "      <th>2089</th>\n",
       "      <td>26</td>\n",
       "      <td>Local-gov</td>\n",
       "      <td>287233</td>\n",
       "      <td>Bachelors</td>\n",
       "      <td>13</td>\n",
       "      <td>Married-civ-spouse</td>\n",
       "      <td>Prof-specialty</td>\n",
       "      <td>Wife</td>\n",
       "      <td>Black</td>\n",
       "      <td>Female</td>\n",
       "      <td>0</td>\n",
       "      <td>0</td>\n",
       "      <td>40</td>\n",
       "      <td>United-States</td>\n",
       "      <td>&gt;50K</td>\n",
       "    </tr>\n",
       "    <tr>\n",
       "      <th>3542</th>\n",
       "      <td>48</td>\n",
       "      <td>Private</td>\n",
       "      <td>176732</td>\n",
       "      <td>9th</td>\n",
       "      <td>5</td>\n",
       "      <td>Divorced</td>\n",
       "      <td>Sales</td>\n",
       "      <td>Not-in-family</td>\n",
       "      <td>White</td>\n",
       "      <td>Female</td>\n",
       "      <td>0</td>\n",
       "      <td>0</td>\n",
       "      <td>40</td>\n",
       "      <td>United-States</td>\n",
       "      <td>&lt;=50K</td>\n",
       "    </tr>\n",
       "  </tbody>\n",
       "</table>\n",
       "</div>"
      ],
      "text/plain": [
       "      Age     Workclass  FNLWGT      Education  EducationLevel  \\\n",
       "1088   45       Private   88500   Some-college              10   \n",
       "2178   25     State-gov  257064   Some-college              10   \n",
       "3343   32   Federal-gov  454508      Bachelors              13   \n",
       "2089   26     Local-gov  287233      Bachelors              13   \n",
       "3542   48       Private  176732            9th               5   \n",
       "\n",
       "            MaritalStatus          Occupation    Relationship    Race  \\\n",
       "1088   Married-civ-spouse   Machine-op-inspct         Husband   White   \n",
       "2178   Married-civ-spouse        Adm-clerical         Husband   Black   \n",
       "3343   Married-civ-spouse     Exec-managerial         Husband   White   \n",
       "2089   Married-civ-spouse      Prof-specialty            Wife   Black   \n",
       "3542             Divorced               Sales   Not-in-family   White   \n",
       "\n",
       "          Sex  CapitalGain  CapitalLoss  HoursPerWeek   NativeCountry  Salary  \n",
       "1088     Male            0            0            44   United-States    >50K  \n",
       "2178     Male            0            0            38   United-States   <=50K  \n",
       "3343     Male            0            0            40   United-States   <=50K  \n",
       "2089   Female            0            0            40   United-States    >50K  \n",
       "3542   Female            0            0            40   United-States   <=50K  "
      ]
     },
     "execution_count": 4,
     "metadata": {},
     "output_type": "execute_result"
    }
   ],
   "source": [
    "# Read CSV data\n",
    "adult_data = pd.read_csv('data/adult_income.csv')\n",
    "\n",
    "# Display random sample\n",
    "adult_data.sample(5)"
   ]
  },
  {
   "cell_type": "markdown",
   "metadata": {},
   "source": [
    "-----\n",
    "\n",
    "The data sample displayed by the previous Code cell does not indicate any problems with the data that must be fixed; but to ensure the data are clean, we first check if there's missing data with DataFrame `info` function, then compute and display summary statistics by using the `describe` function.\n",
    "\n",
    "-----"
   ]
  },
  {
   "cell_type": "code",
   "execution_count": 5,
   "metadata": {},
   "outputs": [
    {
     "name": "stdout",
     "output_type": "stream",
     "text": [
      "<class 'pandas.core.frame.DataFrame'>\n",
      "RangeIndex: 4000 entries, 0 to 3999\n",
      "Data columns (total 15 columns):\n",
      " #   Column          Non-Null Count  Dtype \n",
      "---  ------          --------------  ----- \n",
      " 0   Age             4000 non-null   int64 \n",
      " 1   Workclass       4000 non-null   object\n",
      " 2   FNLWGT          4000 non-null   int64 \n",
      " 3   Education       4000 non-null   object\n",
      " 4   EducationLevel  4000 non-null   int64 \n",
      " 5   MaritalStatus   4000 non-null   object\n",
      " 6   Occupation      4000 non-null   object\n",
      " 7   Relationship    4000 non-null   object\n",
      " 8   Race            4000 non-null   object\n",
      " 9   Sex             4000 non-null   object\n",
      " 10  CapitalGain     4000 non-null   int64 \n",
      " 11  CapitalLoss     4000 non-null   int64 \n",
      " 12  HoursPerWeek    4000 non-null   int64 \n",
      " 13  NativeCountry   4000 non-null   object\n",
      " 14  Salary          4000 non-null   object\n",
      "dtypes: int64(6), object(9)\n",
      "memory usage: 468.9+ KB\n"
     ]
    }
   ],
   "source": [
    "adult_data.info()"
   ]
  },
  {
   "cell_type": "markdown",
   "metadata": {},
   "source": [
    "The information of the adult data shows that there's no missing data in all columns. Next we check the descriptive statistics of numerical data."
   ]
  },
  {
   "cell_type": "code",
   "execution_count": 6,
   "metadata": {
    "scrolled": true
   },
   "outputs": [
    {
     "data": {
      "text/html": [
       "<div>\n",
       "<style scoped>\n",
       "    .dataframe tbody tr th:only-of-type {\n",
       "        vertical-align: middle;\n",
       "    }\n",
       "\n",
       "    .dataframe tbody tr th {\n",
       "        vertical-align: top;\n",
       "    }\n",
       "\n",
       "    .dataframe thead th {\n",
       "        text-align: right;\n",
       "    }\n",
       "</style>\n",
       "<table border=\"1\" class=\"dataframe\">\n",
       "  <thead>\n",
       "    <tr style=\"text-align: right;\">\n",
       "      <th></th>\n",
       "      <th>Age</th>\n",
       "      <th>FNLWGT</th>\n",
       "      <th>EducationLevel</th>\n",
       "      <th>CapitalGain</th>\n",
       "      <th>CapitalLoss</th>\n",
       "      <th>HoursPerWeek</th>\n",
       "    </tr>\n",
       "  </thead>\n",
       "  <tbody>\n",
       "    <tr>\n",
       "      <th>count</th>\n",
       "      <td>4000.000000</td>\n",
       "      <td>4.000000e+03</td>\n",
       "      <td>4000.000000</td>\n",
       "      <td>4000.000000</td>\n",
       "      <td>4000.000000</td>\n",
       "      <td>4000.000000</td>\n",
       "    </tr>\n",
       "    <tr>\n",
       "      <th>mean</th>\n",
       "      <td>38.463500</td>\n",
       "      <td>1.888918e+05</td>\n",
       "      <td>10.057750</td>\n",
       "      <td>1087.994500</td>\n",
       "      <td>86.308500</td>\n",
       "      <td>40.413000</td>\n",
       "    </tr>\n",
       "    <tr>\n",
       "      <th>std</th>\n",
       "      <td>13.778775</td>\n",
       "      <td>1.075761e+05</td>\n",
       "      <td>2.564383</td>\n",
       "      <td>7633.716387</td>\n",
       "      <td>401.559989</td>\n",
       "      <td>12.427693</td>\n",
       "    </tr>\n",
       "    <tr>\n",
       "      <th>min</th>\n",
       "      <td>17.000000</td>\n",
       "      <td>1.487800e+04</td>\n",
       "      <td>1.000000</td>\n",
       "      <td>0.000000</td>\n",
       "      <td>0.000000</td>\n",
       "      <td>1.000000</td>\n",
       "    </tr>\n",
       "    <tr>\n",
       "      <th>25%</th>\n",
       "      <td>27.000000</td>\n",
       "      <td>1.167880e+05</td>\n",
       "      <td>9.000000</td>\n",
       "      <td>0.000000</td>\n",
       "      <td>0.000000</td>\n",
       "      <td>40.000000</td>\n",
       "    </tr>\n",
       "    <tr>\n",
       "      <th>50%</th>\n",
       "      <td>37.000000</td>\n",
       "      <td>1.783395e+05</td>\n",
       "      <td>10.000000</td>\n",
       "      <td>0.000000</td>\n",
       "      <td>0.000000</td>\n",
       "      <td>40.000000</td>\n",
       "    </tr>\n",
       "    <tr>\n",
       "      <th>75%</th>\n",
       "      <td>47.000000</td>\n",
       "      <td>2.345628e+05</td>\n",
       "      <td>12.000000</td>\n",
       "      <td>0.000000</td>\n",
       "      <td>0.000000</td>\n",
       "      <td>45.000000</td>\n",
       "    </tr>\n",
       "    <tr>\n",
       "      <th>max</th>\n",
       "      <td>90.000000</td>\n",
       "      <td>1.268339e+06</td>\n",
       "      <td>16.000000</td>\n",
       "      <td>99999.000000</td>\n",
       "      <td>4356.000000</td>\n",
       "      <td>99.000000</td>\n",
       "    </tr>\n",
       "  </tbody>\n",
       "</table>\n",
       "</div>"
      ],
      "text/plain": [
       "               Age        FNLWGT  EducationLevel   CapitalGain  CapitalLoss  \\\n",
       "count  4000.000000  4.000000e+03     4000.000000   4000.000000  4000.000000   \n",
       "mean     38.463500  1.888918e+05       10.057750   1087.994500    86.308500   \n",
       "std      13.778775  1.075761e+05        2.564383   7633.716387   401.559989   \n",
       "min      17.000000  1.487800e+04        1.000000      0.000000     0.000000   \n",
       "25%      27.000000  1.167880e+05        9.000000      0.000000     0.000000   \n",
       "50%      37.000000  1.783395e+05       10.000000      0.000000     0.000000   \n",
       "75%      47.000000  2.345628e+05       12.000000      0.000000     0.000000   \n",
       "max      90.000000  1.268339e+06       16.000000  99999.000000  4356.000000   \n",
       "\n",
       "       HoursPerWeek  \n",
       "count   4000.000000  \n",
       "mean      40.413000  \n",
       "std       12.427693  \n",
       "min        1.000000  \n",
       "25%       40.000000  \n",
       "50%       40.000000  \n",
       "75%       45.000000  \n",
       "max       99.000000  "
      ]
     },
     "execution_count": 6,
     "metadata": {},
     "output_type": "execute_result"
    }
   ],
   "source": [
    "# Display descriptive statistics\n",
    "adult_data.describe()"
   ]
  },
  {
   "cell_type": "markdown",
   "metadata": {},
   "source": [
    "-----\n",
    "\n",
    "The descriptive statistics indicate that the numerical columns all contain valid data, and that the ranges seem to be  reasonable. At this point, in a real-world problem we would also explore the categorical features; for example, checking the count of distinct values in a categorical column. In this case, however, we can proceed to the next step, where we define our label feature. This data is generally used to test classification algorithms, as the data include a _Salary_ column that includes one of two entries: `<=50K` or `>50K` to indicate if the individual's salary is less than or equal to \\\\$50,000 or if the individual's salary exceeds \\\\$50,000. \n",
    "\n",
    "To apply a machine learning algorithm to these data, we need to generate a numerical label that maps to these two values. For this, we create a new column in our DataFrame called `Label` and map the original column to $1$ if the `Salary` feature is equal to `>50K` and $0$ otherwise. This step is done in the following Code cell, where we map a lambda function onto the `Salary` feature to create this new feature. You can also use `LabelEncoder` introduced in the previous lesson, however, `LabelEncoder` maps categorical values to numbers based on alphabetical order instead. In this case we use `map` function to explicitly map `'<=50K'` to 0 and `'>50K'` to 1. The second Code cell compares the original `Salary` feature to our new `Label` feature by randomly sampling five instances to ensure this task was completed successfully.\n",
    "\n",
    "-----"
   ]
  },
  {
   "cell_type": "code",
   "execution_count": 7,
   "metadata": {
    "scrolled": true
   },
   "outputs": [
    {
     "data": {
      "text/html": [
       "<div>\n",
       "<style scoped>\n",
       "    .dataframe tbody tr th:only-of-type {\n",
       "        vertical-align: middle;\n",
       "    }\n",
       "\n",
       "    .dataframe tbody tr th {\n",
       "        vertical-align: top;\n",
       "    }\n",
       "\n",
       "    .dataframe thead th {\n",
       "        text-align: right;\n",
       "    }\n",
       "</style>\n",
       "<table border=\"1\" class=\"dataframe\">\n",
       "  <thead>\n",
       "    <tr style=\"text-align: right;\">\n",
       "      <th></th>\n",
       "      <th>Salary</th>\n",
       "      <th>Label</th>\n",
       "    </tr>\n",
       "  </thead>\n",
       "  <tbody>\n",
       "    <tr>\n",
       "      <th>2785</th>\n",
       "      <td>&lt;=50K</td>\n",
       "      <td>0</td>\n",
       "    </tr>\n",
       "    <tr>\n",
       "      <th>3222</th>\n",
       "      <td>&lt;=50K</td>\n",
       "      <td>0</td>\n",
       "    </tr>\n",
       "    <tr>\n",
       "      <th>2276</th>\n",
       "      <td>&lt;=50K</td>\n",
       "      <td>0</td>\n",
       "    </tr>\n",
       "    <tr>\n",
       "      <th>1477</th>\n",
       "      <td>&lt;=50K</td>\n",
       "      <td>0</td>\n",
       "    </tr>\n",
       "    <tr>\n",
       "      <th>2405</th>\n",
       "      <td>&lt;=50K</td>\n",
       "      <td>0</td>\n",
       "    </tr>\n",
       "  </tbody>\n",
       "</table>\n",
       "</div>"
      ],
      "text/plain": [
       "      Salary  Label\n",
       "2785   <=50K      0\n",
       "3222   <=50K      0\n",
       "2276   <=50K      0\n",
       "1477   <=50K      0\n",
       "2405   <=50K      0"
      ]
     },
     "execution_count": 7,
     "metadata": {},
     "output_type": "execute_result"
    }
   ],
   "source": [
    "# Create label column, one for >50K, zero otherwise.\n",
    "adult_data['Label'] = adult_data['Salary'].map(lambda x : 1 if '>50K' in x else 0)\n",
    "# Display label and original column for comparison\n",
    "adult_data[['Salary', 'Label']].sample(5)"
   ]
  },
  {
   "cell_type": "markdown",
   "metadata": {},
   "source": [
    "-----\n",
    "\n",
    "With our new `Label` feature, we can compute what is known as the *zero model*, in which we classify the data by always predicting the majority class. While we do not do this in practice since the model provides no predictive power or insights into the data, this does set a useful baseline for how well an algorithm should perform. Any model that performs worse or similar to the _zero model_ should be discarded. Instead, we will want to perform better than this value. In this case, the majority class is 0, our zero model performs at a 77.1% classification accuracy, which indicates that our data set is unbalanced since we have roughly three lower salary instances to every higher salary instance.\n",
    "\n",
    "-----"
   ]
  },
  {
   "cell_type": "code",
   "execution_count": 8,
   "metadata": {},
   "outputs": [
    {
     "data": {
      "text/plain": [
       "0    3084\n",
       "1     916\n",
       "Name: Label, dtype: int64"
      ]
     },
     "execution_count": 8,
     "metadata": {},
     "output_type": "execute_result"
    }
   ],
   "source": [
    "#count of each class in Label column\n",
    "adult_data.Label.value_counts()"
   ]
  },
  {
   "cell_type": "code",
   "execution_count": 18,
   "metadata": {},
   "outputs": [
    {
     "name": "stdout",
     "output_type": "stream",
     "text": [
      "Zero Model Performance = 77.1%\n"
     ]
    }
   ],
   "source": [
    "#zero model\n",
    "zm = adult_data.Label.value_counts()[0]/(adult_data.Label.value_counts()[0]+adult_data.Label.value_counts()[1])\n",
    "print(f'Zero Model Performance = {zm:.1%}')"
   ]
  },
  {
   "cell_type": "markdown",
   "metadata": {},
   "source": [
    "-----\n",
    "\n",
    "With our target label constructed, we now create the independent and dependent variables that we will use to construct the logistic regression model. \n",
    "\n",
    "In the following Code cell, we use patsy model to create independent and dependent variables. We select 4 columns as the independent variable. Among them, `Age`, `HoursPerWeek` and `CapitalGain` are continuous features; `Sex` is categorical feature.\n",
    "\n",
    "Feature selection is an important topic and we will discuss it in more details in future lessons. For now we will just pick these columns for demonstration purpose.\n",
    "\n",
    "-----"
   ]
  },
  {
   "cell_type": "code",
   "execution_count": 10,
   "metadata": {},
   "outputs": [],
   "source": [
    "import patsy as pts \n",
    "\n",
    "# Create dependent and independent variables\n",
    "y, x = pts.dmatrices('Label ~ Age + HoursPerWeek + CapitalGain + C(Sex)', data=adult_data, return_type='dataframe')"
   ]
  },
  {
   "cell_type": "code",
   "execution_count": 11,
   "metadata": {
    "scrolled": true
   },
   "outputs": [
    {
     "data": {
      "text/html": [
       "<div>\n",
       "<style scoped>\n",
       "    .dataframe tbody tr th:only-of-type {\n",
       "        vertical-align: middle;\n",
       "    }\n",
       "\n",
       "    .dataframe tbody tr th {\n",
       "        vertical-align: top;\n",
       "    }\n",
       "\n",
       "    .dataframe thead th {\n",
       "        text-align: right;\n",
       "    }\n",
       "</style>\n",
       "<table border=\"1\" class=\"dataframe\">\n",
       "  <thead>\n",
       "    <tr style=\"text-align: right;\">\n",
       "      <th></th>\n",
       "      <th>Intercept</th>\n",
       "      <th>C(Sex)[T. Male]</th>\n",
       "      <th>Age</th>\n",
       "      <th>HoursPerWeek</th>\n",
       "      <th>CapitalGain</th>\n",
       "    </tr>\n",
       "  </thead>\n",
       "  <tbody>\n",
       "    <tr>\n",
       "      <th>0</th>\n",
       "      <td>1.0</td>\n",
       "      <td>1.0</td>\n",
       "      <td>62.0</td>\n",
       "      <td>40.0</td>\n",
       "      <td>0.0</td>\n",
       "    </tr>\n",
       "    <tr>\n",
       "      <th>1</th>\n",
       "      <td>1.0</td>\n",
       "      <td>1.0</td>\n",
       "      <td>50.0</td>\n",
       "      <td>40.0</td>\n",
       "      <td>0.0</td>\n",
       "    </tr>\n",
       "    <tr>\n",
       "      <th>2</th>\n",
       "      <td>1.0</td>\n",
       "      <td>1.0</td>\n",
       "      <td>36.0</td>\n",
       "      <td>50.0</td>\n",
       "      <td>0.0</td>\n",
       "    </tr>\n",
       "    <tr>\n",
       "      <th>3</th>\n",
       "      <td>1.0</td>\n",
       "      <td>0.0</td>\n",
       "      <td>64.0</td>\n",
       "      <td>40.0</td>\n",
       "      <td>0.0</td>\n",
       "    </tr>\n",
       "    <tr>\n",
       "      <th>4</th>\n",
       "      <td>1.0</td>\n",
       "      <td>1.0</td>\n",
       "      <td>28.0</td>\n",
       "      <td>60.0</td>\n",
       "      <td>0.0</td>\n",
       "    </tr>\n",
       "  </tbody>\n",
       "</table>\n",
       "</div>"
      ],
      "text/plain": [
       "   Intercept  C(Sex)[T. Male]   Age  HoursPerWeek  CapitalGain\n",
       "0        1.0              1.0  62.0          40.0          0.0\n",
       "1        1.0              1.0  50.0          40.0          0.0\n",
       "2        1.0              1.0  36.0          50.0          0.0\n",
       "3        1.0              0.0  64.0          40.0          0.0\n",
       "4        1.0              1.0  28.0          60.0          0.0"
      ]
     },
     "execution_count": 11,
     "metadata": {},
     "output_type": "execute_result"
    }
   ],
   "source": [
    "x.head()"
   ]
  },
  {
   "cell_type": "markdown",
   "metadata": {},
   "source": [
    "-----\n",
    "\n",
    "### LogisticRegression Model\n",
    "\n",
    "With our feature and label data prepared, we are now ready to begin the machine learning process. In the following two Code cells we first create our logistic regression classifier, and then measure its performance on our training data. In the first Code cell, we start by splitting our data into training and testing samples. Since we have over 30,000 instances in our data set, our standard 60%:40% split should be sufficient. Next, we create the `LogisticRegression` estimator. The only hyperparameter that we specify at this time is  `C` in order to reduce the impact of regularization. Next, we fit this estimator to our training data, and generate an accuracy score on our test data. \n",
    "\n",
    "In the second Code cell, we compute and display a simple accuracy score before generating and displaying the full classification report. In the next Code cells, we define a function `confusion`, then use the function to plot the confusion matrix. Our logistic regression performs a little better than the zero model. The report indicates that our model performs worst in predicting the high income class(or 1). Specifically, the low recall rate of high income(class 0) indicates that we incorrectly label majority of high income targets as low income. This could prove problematic, for example, if we are seeking to target high wage earners in a marketing campaign.\n",
    "\n",
    "----"
   ]
  },
  {
   "cell_type": "code",
   "execution_count": 12,
   "metadata": {},
   "outputs": [],
   "source": [
    "from sklearn.model_selection import train_test_split\n",
    "from sklearn.linear_model import LogisticRegression\n",
    "\n",
    "x_train, x_test, y_train, y_test = train_test_split(x, y, test_size=0.4, random_state=23)\n",
    "\n",
    "adult_model = LogisticRegression(C=1E6)\n",
    "adult_model.fit(x_train, y_train)"
   ]
  },
  {
   "cell_type": "code",
   "execution_count": 19,
   "metadata": {
    "scrolled": true
   },
   "outputs": [
    {
     "name": "stdout",
     "output_type": "stream",
     "text": [
      "Logistic Regression [Adult Data] Score = 79.1%\n",
      "\n",
      "Classification Report:\n",
      "              precision    recall  f1-score   support\n",
      "\n",
      "         0.0       0.79      0.98      0.88      1211\n",
      "         1.0       0.74      0.21      0.33       389\n",
      "\n",
      "    accuracy                           0.79      1600\n",
      "   macro avg       0.77      0.59      0.60      1600\n",
      "weighted avg       0.78      0.79      0.74      1600\n",
      "\n"
     ]
    }
   ],
   "source": [
    "from sklearn import metrics\n",
    "\n",
    "# Classify test data and display score and report\n",
    "score = adult_model.score(x_test, y_test)\n",
    "print(f'Logistic Regression [Adult Data] Score = {score:.1%}\\n')\n",
    "predicted = adult_model.predict(x_test)\n",
    "print('Classification Report:')\n",
    "print(metrics.classification_report(y_test, predicted))"
   ]
  },
  {
   "cell_type": "code",
   "execution_count": 14,
   "metadata": {},
   "outputs": [],
   "source": [
    "# This method produces a colored heatmap that displays the relationship\n",
    "# between predicted and actual types from a machine learning method.\n",
    "\n",
    "def confusion(test, predict, labels, title='Confusion Matrix'):\n",
    "    '''\n",
    "        test: true label of test data, must be one dimensional\n",
    "        predict: predicted label of test data, must be one dimensional\n",
    "        labels: list of label names, ie: ['positive', 'negative']\n",
    "        title: plot title\n",
    "    '''\n",
    "\n",
    "    bins = len(labels)\n",
    "    # Make a 2D histogram from the test and result arrays\n",
    "    pts, xe, ye = np.histogram2d(test, predict, bins)\n",
    "\n",
    "    # For simplicity we create a new DataFrame\n",
    "    pd_pts = pd.DataFrame(pts.astype(int), index=labels, columns=labels )\n",
    "    \n",
    "    # Display heatmap and add decorations\n",
    "    hm = sns.heatmap(pd_pts, annot=True, fmt=\"d\")    \n",
    "    hm.axes.set_title(title, fontsize=20)\n",
    "    hm.axes.set_xlabel('Predicted', fontsize=18)\n",
    "    hm.axes.set_ylabel('Actual', fontsize=18)\n",
    "\n",
    "    return None"
   ]
  },
  {
   "cell_type": "code",
   "execution_count": 15,
   "metadata": {
    "scrolled": true
   },
   "outputs": [
    {
     "data": {
      "image/png": "[encoded data removed]",
      "text/plain": [
       "<Figure size 432x288 with 2 Axes>"
      ]
     },
     "metadata": {},
     "output_type": "display_data"
    }
   ],
   "source": [
    "confusion(y_test['Label'], predicted, ['low', 'high'], title='Logistic Regression')"
   ]
  },
  {
   "cell_type": "markdown",
   "metadata": {},
   "source": [
    "[[Back to TOC]](#Table-of-Contents)\n",
    "\n",
    "## Classification Performance Metrics\n",
    "\n",
    "There are many ways to measure the performance of a classification model. In the above code, to evaluate the model, we printed the accuracy score, the classification report which has precision, recall and f1-score, and plotted the confusion matrix. We will discuss these terms briefly below.\n",
    "\n",
    "Classification performance metrics are a very import concept. We will explore them in more details in future lessons.\n",
    "\n",
    "#### Accuracy Score\n",
    "Accuracy score is the proportion of correct predictions.  \n",
    "From the confusion matrix, the correct low income prediction is 1182, correct high income prediction is 82, so the accuracy score is (1182 + 82)/(1182+82+307+29)=0.79.\n",
    "\n",
    "#### Precision\n",
    "Precision is the proportion of the prediction that is actually correct.  \n",
    "From the confusion matrix, 1182+307 are predicted as low income, among them, 1182 are actual low income, so the precision of low income(or 0) is 1182/(1182+307)=0.79.  \n",
    "The precision of high income(or 1) is 82/(82+29)= 0.74. \n",
    "\n",
    "#### Recall\n",
    "Recall is the proportion of actual class of a label that is identified correctly.\n",
    "From the confusion matrix, actual number of low income is 1182+29, (among them 1182 are correctly identified as low income), so the recall of low income (or 0) is 1182/(1182+29)=0.98.  \n",
    "The recall of high income (or 1) is 82/(307+82)=0.21\n",
    "\n",
    "#### f1-score\n",
    "f1-score is a harmonic mean of Precision and Recall.  \n",
    "The low f1-score on high income(or 1) indicates that the model did a bad job on predicting high income.\n",
    "\n",
    "#### Support\n",
    "Support is the number of occurrences of each particular class in the true responses (responses in your test set). You can calculate it by summing the columns of the confusion matrix.\n",
    "\n",
    "#### Confusion Matrix\n",
    "A confusion matrix is a specific table layout that allows visualization of the performance of an algorithm.\n",
    "\n",
    "In the confusion matrix above, y axis represents actual values of test label and x axis represents predicted values.  \n",
    "The first row of the confusion matrix shows count of true low income, which is 1182 + 29, among which 1182 are correctly predicted as low income and 29 are wrongly predicted as high income.  \n",
    "The second row of the confusion matrix shows count of true high income, which is 307 + 82, among which 307 are wrongly predicted as low income and 82 are correctly predicted as high income.\n",
    "\n",
    "-----\n"
   ]
  },
  {
   "cell_type": "markdown",
   "metadata": {},
   "source": [
    "\n",
    "<font color='red' size = '5'> Student Exercise </font>\n",
    "\n",
    "In the preceding cells, we used logistic regression to predict if a person earns high income or low income from the `Age`, `HoursPerWeek`, `CapitalGain` and categorical `Sex` features. In the empty Code cell below, repeat this process, but add more features to independent variables, such as `Relationship` or `Race`. Has the prediction performance improved?\n"
   ]
  },
  {
   "cell_type": "code",
   "execution_count": null,
   "metadata": {},
   "outputs": [],
   "source": []
  },
  {
   "cell_type": "markdown",
   "metadata": {},
   "source": [
    "-----\n",
    "\n",
    "## Ancillary Information\n",
    "\n",
    "The following links are to additional documentation that you might find helpful in learning this material. Reading these web-accessible documents is completely optional.\n",
    "\n",
    "1. Wikipedia article on [Logistic Regression][1]\n",
    "1. An interesting blog article on performing [logistic regression][2] in Python\n",
    "2. An implementation of [logistic regression][3] for modeling usage of wells in remote locations\n",
    "5. A demonstration of logistic regression for [loan prediction][6]\n",
    "67. A concise discussion on [performance metrics][pm] for classification algorithms\n",
    "-----\n",
    "\n",
    "[1]: https://en.wikipedia.org/wiki/Logistic_regression\n",
    "[2]: http://blog.yhat.com/posts/logistic-regression-and-python.html\n",
    "[3]: http://slendermeans.org/arm-ch5.html\n",
    "[6]: http://nbviewer.jupyter.org/github/nborwankar/LearnDataScience/blob/master/notebooks/B3.%20Logistic%20Regression%20-%20Analysis.ipynb\n",
    "[pm]: http://mrvar.fdv.uni-lj.si/pub/mz/mz3.1/vuk.pdf"
   ]
  },
  {
   "cell_type": "markdown",
   "metadata": {
    "deletable": false,
    "editable": false
   },
   "source": [
    "**&copy; 2019: Gies College of Business at the University of Illinois.**\n",
    "\n",
    "This notebook is released under the [Creative Commons license CC BY-NC-SA 4.0][ll]. Any reproduction, adaptation, distribution, dissemination or making available of this notebook for commercial use is not allowed unless authorized in writing by the copyright holder.\n",
    "\n",
    "[ll]: https://creativecommons.org/licenses/by-nc-sa/4.0/legalcode "
   ]
  }
 ],
 "metadata": {
  "kernelspec": {
   "display_name": "Python 3",
   "language": "python",
   "name": "python3"
  },
  "language_info": {
   "codemirror_mode": {
    "name": "ipython",
    "version": 3
   },
   "file_extension": ".py",
   "mimetype": "text/x-python",
   "name": "python",
   "nbconvert_exporter": "python",
   "pygments_lexer": "ipython3",
   "version": "3.8.5"
  }
 },
 "nbformat": 4,
 "nbformat_minor": 4
}
