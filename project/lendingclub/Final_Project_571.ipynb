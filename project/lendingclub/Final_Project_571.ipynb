{
 "cells": [
  {
   "cell_type": "markdown",
   "metadata": {},
   "source": [
    "# ACCY 570 Group Project  \n",
    "\n",
    "## Overview \n",
    "-----\n",
    "\n",
    "### Goal   \n",
    "\n",
    "Complete a data analytics project that demonstrates your mastery of the course content.\n",
    "  \n",
    "  1.  Demonstrate the ability to use Markdown and basic Python to summarize data and to produce insightful visualizations.\n",
    "  2.  Show that you can use the proper statistical methods to summarize your data.  \n",
    "  3.  Show that you can create useful plots to highlight the important points of your data.  \n",
    "  \n",
    "### Prompt  \n",
    "\n",
    "After several years of operation, the Lending Club&trade; wants to understand how the individual components (i.e., features) of a loan, such as the amount loaned, the term length, or the interest rate, affect the profitability of a making a specific loan. In particular, they're interested in understanding how likely a loan is to be repaid and what type of return they can expect. In this project, you will use the provided loans dataset to help the Lending Club&trade; figure out which loans are most profitable.\n",
    "\n",
    "-----"
   ]
  },
  {
   "cell_type": "markdown",
   "metadata": {},
   "source": [
    "  \n",
    "## Criteria\n",
    "-----\n",
    "\n",
    "You will work in groups of __4-5__ students to analyze these data to make recommendations based on the variables in the `loan.csv` dataset. Specifically, you should address the following questions:\n",
    "1. What is the probability of a full repayment? and \n",
    "2. What is the return on the loan?\n",
    "To simplify the analysis, your group must focus on at least five features (or variables) that you think might be important (you can include more if you wish, but you must use at least five features). \n",
    "\n",
    "You will complete three tasks for this group project:\n",
    "1. A group report in the form of a Jupyter notebook,\n",
    "2. An in-class presentation where your group will present your results, and \n",
    "3. Peer evaluation of the contributions of each member of your group.\n",
    "\n",
    "Your final group report will be a single Jupyter notebook that will integrate Markdown, Python code, and the results from your code, such as data visualizations. Markdown cells should be used to explain any decisions you make regarding the data, to discuss any plots or visualizations generated in your notebook, and the results of your analysis. As a general guideline, the content should be written in a way that a fellow classmate (or an arbitrary data scientist/analyst) should be able to read your report and understand the results, implications, and processes that you followed to achieve your result. If printed (not that you should do this), your report should be at least fifteen pages.\n",
    "\n",
    "Your group will present the material in-class in a format that is left up to each group. For example, you can use presentation software such as MS Powerpoint, PDFs, your Notebook, or Prezi, or, alternatively, you can choose some other presentation style (feel free to discuss your ideas with the course staff). The presentations should cover all steps in your analytics process and highlight your results. The presentation should take between eight to twelve minutes, and will be graded by your discussion teaching assistant.\n",
    "\n",
    "### Rubric\n",
    "  - Notebook Report (60%)\n",
    "  - Class presentation (30%)\n",
    "  - Peer assessment from your group-mates (10%)\n",
    "\n",
    "### General\n",
    "\n",
    "Your report should \n",
    "  1. use proper markdown.  \n",
    "  2. include all of the code used for your analysis.\n",
    "  3. include properly labeled plots (eg., use axis labels and titles).\n",
    "  4. use a consistent style between graphs.\n",
    "  5. be entirely the work of your own group, **Do not plagiarize code, this includes anything you might find online**. All code should be written by you and your group.\n",
    "\n",
    "-----"
   ]
  },
  {
   "cell_type": "markdown",
   "metadata": {},
   "source": [
    "### Exploratory Data Analysis (EDA)\n",
    "\n",
    "1. For each of the features you select, briefly explain why your group decided to include it in the analysis. Specifically, think about why __you think__ they might be helpful in predicting which loans are likely to be repaid and which loans are likely to have the highest return. Other points to keep in mind:\n",
    "  - At least one variable must be categorical and at least one must be numerical.  \n",
    "  - You do not need to include summaries of any feature not included in your analysis.\n",
    "  - **Hint**: features with no (or very few) missing values are likely to be the most useful in making predictions.\n",
    "2. Create histograms to visualize each of the features included in your analysis.\n",
    "  - Briefly describe any issues or irregularities that you see in the data, for example:\n",
    "    - Are there any major outliers? \n",
    "    - Does the data look _well_ dispersed or does it _clump_ around some point? \n",
    "    - Are there a lot of missing values?\n",
    "3. Compute appropriate descriptive statistics for each feature. \n",
    "  - Numerical features should include at least a measure of centrality and a measure of dispersion.\n",
    "  - Categorical features should at a minimum indicate which category is most popular.\n",
    "4. Create histograms for both the _Repaid_ and _Return_ features, do they look normally distributed?\n",
    "  - Fit a normal distribution to the histogram.\n",
    "  - Include and discuss a QQ plot. \n",
    "5. Finally, include plots that demonstrate the relationship between each explanatory feature and each target feature.\n",
    "  - You might find a box plot, violin plot, scatter plot, or heat map to be helpful.\n",
    "  - Analyze these plots and note anything interesting or unusual that you see in your plots. \n",
    "  - Do any features look to be strongly related to either target? \n",
    "  - Comment on why you think features might be correlated.\n",
    "\n",
    "-----"
   ]
  },
  {
   "cell_type": "markdown",
   "metadata": {},
   "source": [
    "### Machine Learning \n",
    "1. Preprocess all data appropriately.\n",
    " - Normalize any continuous feature.\n",
    " - Encode any categorical feature.\n",
    " - Randomly split the data into _Training_ and _Testing_ data sets.\n",
    " \n",
    "2. Build a classifier on _Training_ dataset to classify loans as either repaid or not. \n",
    " - Try at least two different classification algorithms and compare their performance on the _Testing_ dataset using some measure of predictive power.\n",
    " - Include a confusion matrix for each algorithm.\n",
    " - Create a ROC curve comparing the performance of each algorithm on _Testing_ dataset and compute and display the AUC for each algorithm.\n",
    " - Create at least one other visualization that compares their relative performance on _Testing_ data. \n",
    " - Explain which model you prefer, include justification beyond the value of a performance metric.\n",
    " \n",
    "3. Build a regression model on _Training_ dataset to predict the loan return.\n",
    " - Try at least two different regression algorithms and compare their performance on _Testing_ dataset using some measure of predictive power.\n",
    " - Create a lift chart comparing the performance of each model.\n",
    " - Explain which model you prefer, include justification beyond the value of a performance metric.\n",
    "\n",
    "-----"
   ]
  },
  {
   "cell_type": "markdown",
   "metadata": {},
   "source": [
    "### Conclusion\n",
    "Summarize the results of your analysis. This summary should include anything interesting you found when performing EDA. Also, discuss the results of each classification and regression model. Be sure to address whether your classifier was much better than random on the test data, and comment on how accurate the predictions were from your regression model. Next, be sure to discuss the importance of each feature in both machine learning tasks. Finally, comment on your results and how they might be used to improve the performance of future loans made by the Lending Tree&trade;.\n",
    "\n",
    "-----"
   ]
  },
  {
   "cell_type": "markdown",
   "metadata": {
    "collapsed": true
   },
   "source": [
    "## Getting Started\n",
    "\n",
    "In order to ensure everyone starts at the same point, we provide the following Code cell that creates the two **target** columns that you will use for the analyses required to complete this group project. The `return` feature encodes the return for each loan and the `repaid` feature encodes whether the loan was repaid in full or not (for simplicity, we  assume that the loan is repaid if the borrower pays more than the loan amount).\n",
    "\n",
    "You should include these code cells in your own group project notebook.\n",
    "\n",
    "-----"
   ]
  },
  {
   "cell_type": "code",
   "execution_count": 1,
   "metadata": {},
   "outputs": [],
   "source": [
    "import numpy as np\n",
    "import pandas as pd\n",
    "\n",
    "loan = pd.read_csv('loan_2007_2012.csv', low_memory=False)\n",
    "loan['return'] = (loan['total_pymnt_inv'] - loan['funded_amnt_inv']) / loan['funded_amnt_inv']\n",
    "loan['repaid'] = loan['total_pymnt_inv'] > loan['funded_amnt_inv']\n",
    "loan_df = loan.copy()"
   ]
  },
  {
   "cell_type": "code",
   "execution_count": 2,
   "metadata": {},
   "outputs": [],
   "source": [
    "loan = loan_df.copy()\n",
    "#drop empty columns\n",
    "drop_columns = ['id','member_id', 'mths_since_last_delinq','mths_since_last_record','next_pymnt_d','annual_inc_joint','dti_joint','verification_status_joint','open_acc_6m','open_il_6m','open_il_12m','open_il_24m','mths_since_rcnt_il','total_bal_il','il_util','open_rv_12m','open_rv_24m','max_bal_bc','all_util','total_rev_hi_lim','inq_fi','total_cu_tl','inq_last_12m','tot_coll_amt','tot_cur_bal','mths_since_last_major_derog' ]\n",
    "#drop mostly 0 columns\n",
    "drop_columns += ['emp_title', 'url', 'desc', 'out_prncp','out_prncp_inv', 'total_rec_late_fee','recoveries','collection_recovery_fee','collections_12_mths_ex_med','acc_now_delinq', 'policy_code']\n",
    "drop_columns += ['funded_amnt', 'funded_amnt_inv', 'installment', 'issue_d', 'pymnt_plan', 'purpose', 'title', 'zip_code', 'addr_state','earliest_cr_line','pub_rec','revol_util', 'total_acc', 'initial_list_status', 'total_pymnt', 'total_pymnt_inv', 'total_rec_prncp', 'total_rec_int', 'last_pymnt_d', 'last_pymnt_amnt', 'last_credit_pull_d', 'application_type', 'Year' ]\n",
    "#grade or subgrade?\n",
    "#zip_code?\n",
    "#delinq_2yrs? relation with repaid, group\n",
    "#inq_last_6mths\n",
    "#total_acc or open_acc\n",
    "#total_pymnt-when is this dataset created? after loan term is over?\n",
    "\n",
    "loan.drop(drop_columns, axis=1, inplace=True)\n"
   ]
  },
  {
   "cell_type": "code",
   "execution_count": 3,
   "metadata": {},
   "outputs": [],
   "source": [
    "cat_columns = ['term', 'grade', 'sub_grade', 'emp_length', 'home_ownership', 'verification_status', ]\n",
    "continuous_columns = ['loan_amnt', 'int_rate', 'annual_inc', 'dti', 'revol_bal',  ]"
   ]
  },
  {
   "cell_type": "code",
   "execution_count": 4,
   "metadata": {},
   "outputs": [],
   "source": [
    "# Set up Notebook\n",
    "\n",
    "%matplotlib inline\n",
    "\n",
    "# Standard imports\n",
    "import matplotlib.pyplot as plt\n",
    "import seaborn as sns\n",
    "\n",
    "# We do this to ignore several specific Pandas warnings\n",
    "import warnings\n",
    "warnings.filterwarnings(\"ignore\")\n",
    "\n",
    "sns.set(style=\"white\")"
   ]
  },
  {
   "cell_type": "code",
   "execution_count": 5,
   "metadata": {},
   "outputs": [
    {
     "name": "stdout",
     "output_type": "stream",
     "text": [
      "0.0     83825\n",
      "1.0      8862\n",
      "2.0      2113\n",
      "3.0       635\n",
      "4.0       214\n",
      "5.0       110\n",
      "6.0        50\n",
      "7.0        33\n",
      "9.0         8\n",
      "8.0         8\n",
      "11.0        6\n",
      "10.0        4\n",
      "13.0        2\n",
      "12.0        1\n",
      "14.0        1\n",
      "18.0        1\n",
      "Name: delinq_2yrs, dtype: int64\n",
      "    delinq_2yrs    repaid\n",
      "9           9.0  1.000000\n",
      "10         10.0  1.000000\n",
      "12         12.0  1.000000\n",
      "13         13.0  1.000000\n",
      "15         18.0  1.000000\n",
      "0           0.0  0.849043\n",
      "2           2.0  0.840038\n",
      "1           1.0  0.839088\n",
      "11         11.0  0.833333\n",
      "3           3.0  0.829921\n",
      "5           5.0  0.827273\n",
      "4           4.0  0.827103\n",
      "6           6.0  0.820000\n",
      "7           7.0  0.757576\n",
      "8           8.0  0.625000\n",
      "14         14.0  0.000000\n",
      "   has_delinq    repaid\n",
      "0           0  0.849043\n",
      "1           1  0.837874\n",
      "   has_delinq    return\n",
      "1           1  0.099112\n",
      "0           0  0.080161\n"
     ]
    }
   ],
   "source": [
    "#delinq_2yrs--not important\n",
    "not_important_cols = []\n",
    "print(loan['delinq_2yrs'].value_counts())\n",
    "print(loan[['delinq_2yrs','repaid']].groupby(['delinq_2yrs'], as_index=False).mean().sort_values(by='repaid', ascending=False))\n",
    "#create has delinq\n",
    "loan['has_delinq'] = (loan.delinq_2yrs != 0).astype(int)\n",
    "print(loan[['has_delinq','repaid']].groupby(['has_delinq'], as_index=False).mean().sort_values(by='repaid', ascending=False))\n",
    "print(loan[['has_delinq','return']].groupby(['has_delinq'], as_index=False).mean().sort_values(by='return', ascending=False))\n",
    "\n",
    "#delinq_2yr doesn't affect repaid too much, so drop it\n",
    "#loan.drop(['delinq_2yrs', 'has_delinq'], axis=1, inplace=True)\n",
    "not_important_cols += ['delinq_2yrs', 'has_delinq']"
   ]
  },
  {
   "cell_type": "code",
   "execution_count": 6,
   "metadata": {},
   "outputs": [
    {
     "name": "stdout",
     "output_type": "stream",
     "text": [
      "RENT        44310\n",
      "MORTGAGE    43906\n",
      "OWN          7454\n",
      "OTHER         182\n",
      "NONE           50\n",
      "Name: home_ownership, dtype: int64\n",
      "  home_ownership    repaid\n",
      "0       MORTGAGE  0.850134\n",
      "3            OWN  0.847062\n",
      "4           RENT  0.845498\n",
      "1           NONE  0.840000\n",
      "2          OTHER  0.791209\n",
      "  home_ownership    return\n",
      "1           NONE  0.114013\n",
      "0       MORTGAGE  0.085618\n",
      "4           RENT  0.080570\n",
      "3            OWN  0.076614\n",
      "2          OTHER  0.055459\n"
     ]
    }
   ],
   "source": [
    "#home_ownership--not important\n",
    "print(loan['home_ownership'].value_counts())\n",
    "print(loan[['home_ownership','repaid']].groupby(['home_ownership'], as_index=False).mean().sort_values(by='repaid', ascending=False))\n",
    "print(loan[['home_ownership','return']].groupby(['home_ownership'], as_index=False).mean().sort_values(by='return', ascending=False))\n",
    "#home ownership not really needed\n",
    "#loan.drop(['home_ownership'], axis=1, inplace=True)\n",
    "not_important_cols += ['home_ownership']"
   ]
  },
  {
   "cell_type": "code",
   "execution_count": 7,
   "metadata": {},
   "outputs": [
    {
     "name": "stdout",
     "output_type": "stream",
     "text": [
      "0.0     45918\n",
      "1.0     26291\n",
      "2.0     13717\n",
      "3.0      7022\n",
      "4.0      1350\n",
      "5.0       717\n",
      "6.0       396\n",
      "7.0       195\n",
      "8.0       122\n",
      "9.0        50\n",
      "10.0       24\n",
      "11.0       15\n",
      "12.0       15\n",
      "15.0        9\n",
      "14.0        6\n",
      "13.0        6\n",
      "18.0        4\n",
      "16.0        3\n",
      "24.0        2\n",
      "17.0        2\n",
      "19.0        2\n",
      "20.0        1\n",
      "27.0        1\n",
      "33.0        1\n",
      "25.0        1\n",
      "32.0        1\n",
      "31.0        1\n",
      "28.0        1\n",
      "Name: inq_last_6mths, dtype: int64\n",
      "    inq_last_6mths    repaid\n",
      "24            28.0  1.000000\n",
      "21            24.0  1.000000\n",
      "25            31.0  1.000000\n",
      "19            19.0  1.000000\n",
      "16            16.0  1.000000\n",
      "23            27.0  1.000000\n",
      "10            10.0  0.875000\n",
      "0              0.0  0.869136\n",
      "1              1.0  0.843901\n",
      "2              2.0  0.829919\n",
      "3              3.0  0.796639\n",
      "4              4.0  0.793333\n",
      "5              5.0  0.748954\n",
      "11            11.0  0.733333\n",
      "9              9.0  0.720000\n",
      "6              6.0  0.707071\n",
      "7              7.0  0.676923\n",
      "13            13.0  0.666667\n",
      "8              8.0  0.614754\n",
      "12            12.0  0.600000\n",
      "17            17.0  0.500000\n",
      "18            18.0  0.500000\n",
      "15            15.0  0.444444\n",
      "14            14.0  0.333333\n",
      "22            25.0  0.000000\n",
      "20            20.0  0.000000\n",
      "26            32.0  0.000000\n",
      "27            33.0  0.000000\n",
      "   has_inq    repaid\n",
      "0        0  0.869136\n",
      "1        1  0.827885\n",
      "0    45918\n",
      "1    40008\n",
      "2     8372\n",
      "3     1575\n",
      "Name: inq_6_bin, dtype: int64\n",
      "  inq_6_bin    repaid\n",
      "0         0  0.869136\n",
      "1         1  0.839107\n",
      "2         2  0.796106\n",
      "3         3  0.713651\n",
      "  inq_6_bin    return\n",
      "0         0  0.092221\n",
      "1         1  0.082518\n",
      "2         2  0.046678\n",
      "3         3 -0.010888\n"
     ]
    }
   ],
   "source": [
    "#inq_last_6mths--important\n",
    "print(loan['inq_last_6mths'].value_counts())\n",
    "print(loan[['inq_last_6mths','repaid']].groupby(['inq_last_6mths'], as_index=False).mean().sort_values(by='repaid', ascending=False))\n",
    "loan['has_inq'] = (loan.inq_last_6mths != 0).astype(int)\n",
    "print(loan[['has_inq','repaid']].groupby(['has_inq'], as_index=False).mean().sort_values(by='repaid', ascending=False))\n",
    "#binning inq_last_6mths\n",
    "bins = [-1,0,2,4,100]\n",
    "cats = [0,1,2,3,]\n",
    "loan['inq_6_bin'] = pd.cut(loan['inq_last_6mths'], bins, labels=cats)\n",
    "print(loan['inq_6_bin'].value_counts())\n",
    "print(loan[['inq_6_bin','repaid']].groupby(['inq_6_bin'], as_index=False).mean().sort_values(by='repaid', ascending=False))\n",
    "print(loan[['inq_6_bin','return']].groupby(['inq_6_bin'], as_index=False).mean().sort_values(by='return', ascending=False))\n",
    "\n"
   ]
  },
  {
   "cell_type": "code",
   "execution_count": 8,
   "metadata": {},
   "outputs": [
    {
     "name": "stdout",
     "output_type": "stream",
     "text": [
      "<class 'pandas.core.frame.DataFrame'>\n",
      "Int64Index: 92610 entries, 0 to 95901\n",
      "Data columns (total 19 columns):\n",
      "loan_amnt              92610 non-null int64\n",
      "term                   92610 non-null object\n",
      "int_rate               92610 non-null float64\n",
      "grade                  92610 non-null object\n",
      "sub_grade              92610 non-null object\n",
      "emp_length             92610 non-null object\n",
      "home_ownership         92610 non-null object\n",
      "annual_inc             92610 non-null float64\n",
      "verification_status    92610 non-null object\n",
      "dti                    92610 non-null float64\n",
      "delinq_2yrs            92610 non-null float64\n",
      "inq_last_6mths         92610 non-null float64\n",
      "open_acc               92610 non-null float64\n",
      "revol_bal              92610 non-null int64\n",
      "return                 92610 non-null float64\n",
      "repaid                 92610 non-null bool\n",
      "has_delinq             92610 non-null int64\n",
      "has_inq                92610 non-null int64\n",
      "inq_6_bin              92610 non-null category\n",
      "dtypes: bool(1), category(1), float64(7), int64(4), object(6)\n",
      "memory usage: 12.9+ MB\n"
     ]
    },
    {
     "data": {
      "image/png": "[encoded data removed]",
      "text/plain": [
       "<Figure size 432x288 with 1 Axes>"
      ]
     },
     "metadata": {
      "needs_background": "light"
     },
     "output_type": "display_data"
    },
    {
     "data": {
      "image/png": "[encoded data removed]",
      "text/plain": [
       "<Figure size 432x288 with 1 Axes>"
      ]
     },
     "metadata": {
      "needs_background": "light"
     },
     "output_type": "display_data"
    }
   ],
   "source": [
    "#annual_inc/revol_bal qq plot\n",
    "loan = loan.dropna()\n",
    "loan.info()\n",
    "import statsmodels.api as sm\n",
    "import pylab\n",
    "\n",
    "sm.qqplot(loan['annual_inc'], line='s')\n",
    "sm.qqplot(loan['revol_bal'], line='s')\n",
    "\n",
    "pylab.show()"
   ]
  },
  {
   "cell_type": "code",
   "execution_count": 9,
   "metadata": {},
   "outputs": [
    {
     "data": {
      "image/png": "[encoded data removed]",
      "text/plain": [
       "<Figure size 720x360 with 1 Axes>"
      ]
     },
     "metadata": {
      "needs_background": "light"
     },
     "output_type": "display_data"
    }
   ],
   "source": [
    "#annual_inc--important\n",
    "fig, ax = plt.subplots(figsize=(10,5))\n",
    "# histogram containing ages from all the passengers\n",
    "loan[\"annual_inc\"].hist(bins=800, color=\"r\", label=\"Not Repaid\")\n",
    "# histogram containing ages from the survived passengers\n",
    "loan[\"annual_inc\"][loan[\"repaid\"]].hist(bins=800, color=\"g\", label=\"Repaid\")\n",
    "\n",
    "ax.set_xlim(4000, 200000)\n",
    "plt.legend(prop={\"size\":15})\n",
    "plt.show()"
   ]
  },
  {
   "cell_type": "code",
   "execution_count": 10,
   "metadata": {},
   "outputs": [
    {
     "data": {
      "image/png": "[encoded data removed]",
      "text/plain": [
       "<Figure size 720x360 with 1 Axes>"
      ]
     },
     "metadata": {
      "needs_background": "light"
     },
     "output_type": "display_data"
    }
   ],
   "source": [
    "#plt.figure(figsize=(10, 5))\n",
    "fig, ax = plt.subplots(figsize=(10,5))\n",
    "bins = np.arange(4000,200000,10000)\n",
    "# histogram containing ages from all the passengers\n",
    "loan[\"annual_inc\"].hist(bins=bins, color=\"r\", label=\"Not Repaid\")\n",
    "# histogram containing ages from the survived passengers\n",
    "loan[\"annual_inc\"][loan[\"repaid\"]].hist(bins=bins, color=\"g\", label=\"Repaid\")\n",
    "\n",
    "ax.set_xlim(4000, 200000)\n",
    "plt.legend(prop={\"size\":15})\n",
    "plt.show()"
   ]
  },
  {
   "cell_type": "code",
   "execution_count": 11,
   "metadata": {},
   "outputs": [
    {
     "name": "stdout",
     "output_type": "stream",
     "text": [
      "2    27518\n",
      "3    19246\n",
      "1    18839\n",
      "5    13585\n",
      "4    11541\n",
      "0     1881\n",
      "Name: annual_inc_bin, dtype: int64\n",
      "  annual_inc_bin    repaid\n",
      "5              5  0.884063\n",
      "4              4  0.863617\n",
      "3              3  0.854983\n",
      "2              2  0.839305\n",
      "1              1  0.835554\n",
      "0              0  0.826156\n",
      "  annual_inc_bin    return\n",
      "5              5  0.114581\n",
      "4              4  0.097262\n",
      "3              3  0.087700\n",
      "2              2  0.075286\n",
      "1              1  0.065772\n",
      "0              0  0.046133\n"
     ]
    }
   ],
   "source": [
    "#binning annual income\n",
    "bins = [0,20000,40000,60000,80000,100000,10000000]\n",
    "cats = [0,1,2,3,4,5]\n",
    "loan['annual_inc_bin'] = pd.cut(loan['annual_inc'], bins, labels=cats)\n",
    "#loan.sample(10)\n",
    "print(loan['annual_inc_bin'].value_counts())\n",
    "print(loan[['annual_inc_bin','repaid']].groupby(['annual_inc_bin'], as_index=False).mean().sort_values(by='repaid', ascending=False))\n",
    "print(loan[['annual_inc_bin','return']].groupby(['annual_inc_bin'], as_index=False).mean().sort_values(by='return', ascending=False))\n"
   ]
  },
  {
   "cell_type": "code",
   "execution_count": 12,
   "metadata": {},
   "outputs": [
    {
     "data": {
      "image/png": "[encoded data removed]",
      "text/plain": [
       "<Figure size 720x360 with 1 Axes>"
      ]
     },
     "metadata": {
      "needs_background": "light"
     },
     "output_type": "display_data"
    }
   ],
   "source": [
    "#revol_bal--not important\n",
    "fig, ax = plt.subplots(figsize=(10,5))\n",
    "# histogram containing ages from all the passengers\n",
    "loan[\"revol_bal\"].hist(bins=200, color=\"r\", label=\"Not Repaid\")\n",
    "# histogram containing ages from the survived passengers\n",
    "loan[\"revol_bal\"][loan[\"repaid\"]].hist(bins=200, color=\"g\", label=\"Repaid\")\n",
    "\n",
    "ax.set_xlim(0, 100000)\n",
    "plt.legend(prop={\"size\":15})\n",
    "plt.show()"
   ]
  },
  {
   "cell_type": "code",
   "execution_count": 13,
   "metadata": {},
   "outputs": [
    {
     "name": "stdout",
     "output_type": "stream",
     "text": [
      "2    28226\n",
      "1    22002\n",
      "3    20810\n",
      "0    20280\n",
      "Name: revol_bal_bin, dtype: int64\n",
      "  revol_bal_bin    repaid\n",
      "0             0  0.865828\n",
      "1             1  0.853059\n",
      "2             2  0.846099\n",
      "3             3  0.842095\n",
      "  revol_bal_bin    return\n",
      "3             3  0.092762\n",
      "2             2  0.087224\n",
      "1             1  0.084064\n",
      "0             0  0.071658\n"
     ]
    }
   ],
   "source": [
    "#binning revol_bal\n",
    "bins = [0,5000,10000,20000,10000000]\n",
    "cats = [0,1,2,3]\n",
    "loan['revol_bal_bin'] = pd.cut(loan['revol_bal'], bins, labels=cats)\n",
    "\n",
    "print(loan['revol_bal_bin'].value_counts())\n",
    "print(loan[['revol_bal_bin','repaid']].groupby(['revol_bal_bin'], as_index=False).mean().sort_values(by='repaid', ascending=False))\n",
    "print(loan[['revol_bal_bin','return']].groupby(['revol_bal_bin'], as_index=False).mean().sort_values(by='return', ascending=False))\n",
    "not_important_cols += ['revol_bal', 'revol_bal_bin']"
   ]
  },
  {
   "cell_type": "code",
   "execution_count": 14,
   "metadata": {},
   "outputs": [
    {
     "name": "stdout",
     "output_type": "stream",
     "text": [
      "0    67234\n",
      "1    25152\n",
      "Name: dti_bin, dtype: int64\n",
      "  dti_bin   repaid\n",
      "0       0  0.86251\n",
      "1       1  0.82077\n",
      "  dti_bin    return\n",
      "0       0  0.086701\n",
      "1       1  0.076461\n"
     ]
    },
    {
     "data": {
      "text/plain": [
       "<matplotlib.axes._subplots.AxesSubplot at 0x117997cc0>"
      ]
     },
     "execution_count": 14,
     "metadata": {},
     "output_type": "execute_result"
    },
    {
     "data": {
      "image/png": "[encoded data removed]",
      "text/plain": [
       "<Figure size 432x288 with 1 Axes>"
      ]
     },
     "metadata": {
      "needs_background": "light"
     },
     "output_type": "display_data"
    }
   ],
   "source": [
    "#dti--important\n",
    "#binning annual income\n",
    "bins = [0,20,35]\n",
    "cats = [0,1]\n",
    "loan['dti_bin'] = pd.cut(loan['dti'], bins, labels=cats)\n",
    "\n",
    "print(loan['dti_bin'].value_counts())\n",
    "print(loan[['dti_bin','repaid']].groupby(['dti_bin'], as_index=False).mean().sort_values(by='repaid', ascending=False))\n",
    "print(loan[['dti_bin','return']].groupby(['dti_bin'], as_index=False).mean().sort_values(by='return', ascending=False))\n",
    "loan['dti'].hist()"
   ]
  },
  {
   "cell_type": "code",
   "execution_count": 15,
   "metadata": {},
   "outputs": [],
   "source": [
    "loan[['open_acc']].describe()\n",
    "bins = [0,5,10,15,20,50]\n",
    "cats = [0,1,2,3,4]\n",
    "loan['open_acc_bin'] = pd.cut(loan['open_acc'], bins, labels=cats)\n"
   ]
  },
  {
   "cell_type": "code",
   "execution_count": 16,
   "metadata": {},
   "outputs": [
    {
     "name": "stdout",
     "output_type": "stream",
     "text": [
      "1    42431\n",
      "2    26188\n",
      "0    12762\n",
      "3     8839\n",
      "4     2390\n",
      "Name: open_acc_bin, dtype: int64\n",
      "  open_acc_bin    repaid\n",
      "0            0  0.857467\n",
      "1            1  0.855177\n",
      "2            2  0.846571\n",
      "3            3  0.842177\n",
      "4            4  0.828452\n",
      "  open_acc_bin    return\n",
      "4            4  0.095615\n",
      "3            3  0.086407\n",
      "2            2  0.084481\n",
      "0            0  0.084470\n",
      "1            1  0.082059\n"
     ]
    },
    {
     "data": {
      "text/plain": [
       "<matplotlib.axes._subplots.AxesSubplot at 0x11c1202e8>"
      ]
     },
     "execution_count": 16,
     "metadata": {},
     "output_type": "execute_result"
    },
    {
     "data": {
      "image/png": "[encoded data removed]",
      "text/plain": [
       "<Figure size 432x288 with 1 Axes>"
      ]
     },
     "metadata": {
      "needs_background": "light"
     },
     "output_type": "display_data"
    }
   ],
   "source": [
    "#open_acc--not important\n",
    "print(loan['open_acc_bin'].value_counts())\n",
    "print(loan[['open_acc_bin','repaid']].groupby(['open_acc_bin'], as_index=False).mean().sort_values(by='repaid', ascending=False))\n",
    "print(loan[['open_acc_bin','return']].groupby(['open_acc_bin'], as_index=False).mean().sort_values(by='return', ascending=False))\n",
    "loan['open_acc'].value_counts()\n",
    "loan['open_acc'].hist()"
   ]
  },
  {
   "cell_type": "code",
   "execution_count": 17,
   "metadata": {},
   "outputs": [
    {
     "name": "stdout",
     "output_type": "stream",
     "text": [
      "0    55193\n",
      "1    35027\n",
      "2     2390\n",
      "Name: open_acc_bin, dtype: int64\n",
      "  open_acc_bin    repaid\n",
      "0            0  0.855706\n",
      "1            1  0.845462\n",
      "2            2  0.828452\n",
      "  open_acc_bin    return\n",
      "2            2  0.095615\n",
      "1            1  0.084967\n",
      "0            0  0.082617\n"
     ]
    }
   ],
   "source": [
    "#binning open_acc\n",
    "bins = [0,10,20,100]\n",
    "cats = [0,1,2]\n",
    "loan['open_acc_bin'] = pd.cut(loan['open_acc'], bins,labels=cats)\n",
    "\n",
    "print(loan['open_acc_bin'].value_counts())\n",
    "print(loan[['open_acc_bin','repaid']].groupby(['open_acc_bin'], as_index=False).mean().sort_values(by='repaid', ascending=False))\n",
    "print(loan[['open_acc_bin','return']].groupby(['open_acc_bin'], as_index=False).mean().sort_values(by='return', ascending=False))\n",
    "#loan.drop(['open_acc', 'open_acc_bin'], axis=1, inplace=True)\n",
    "#drop open_acc\n",
    "not_important_cols += ['open_acc_bin', 'open_acc']"
   ]
  },
  {
   "cell_type": "code",
   "execution_count": 18,
   "metadata": {},
   "outputs": [
    {
     "name": "stdout",
     "output_type": "stream",
     "text": [
      "B    29795\n",
      "A    20144\n",
      "C    19973\n",
      "D    12960\n",
      "E     6427\n",
      "F     2558\n",
      "G      753\n",
      "Name: grade, dtype: int64\n",
      "  grade    repaid\n",
      "0     A  0.937153\n",
      "1     B  0.871119\n",
      "2     C  0.824012\n",
      "3     D  0.793210\n",
      "4     E  0.755096\n",
      "5     F  0.733776\n",
      "6     G  0.693227\n",
      "  grade    return\n",
      "3     D  0.093319\n",
      "2     C  0.090033\n",
      "4     E  0.088078\n",
      "1     B  0.087722\n",
      "5     F  0.080702\n",
      "6     G  0.074332\n",
      "0     A  0.065266\n"
     ]
    },
    {
     "data": {
      "text/plain": [
       "<matplotlib.axes._subplots.AxesSubplot at 0x11c474748>"
      ]
     },
     "execution_count": 18,
     "metadata": {},
     "output_type": "execute_result"
    },
    {
     "data": {
      "image/png": "[encoded data removed]",
      "text/plain": [
       "<Figure size 432x288 with 1 Axes>"
      ]
     },
     "metadata": {
      "needs_background": "light"
     },
     "output_type": "display_data"
    }
   ],
   "source": [
    "#grade\n",
    "print(loan['grade'].value_counts())\n",
    "print(loan[['grade','repaid']].groupby(['grade'], as_index=False).mean().sort_values(by='repaid', ascending=False))\n",
    "print(loan[['grade','return']].groupby(['grade'], as_index=False).mean().sort_values(by='return', ascending=False))\n",
    "\n",
    "loan['grade_label'] = loan.grade.astype('category').cat.codes\n",
    "loan['grade_label'].hist()"
   ]
  },
  {
   "cell_type": "code",
   "execution_count": 19,
   "metadata": {},
   "outputs": [
    {
     "data": {
      "image/png": "[encoded data removed]",
      "text/plain": [
       "<Figure size 432x288 with 1 Axes>"
      ]
     },
     "metadata": {
      "needs_background": "light"
     },
     "output_type": "display_data"
    }
   ],
   "source": [
    "#sub_grade--correlated to grade, just keep grade\n",
    "#print(loan['sub_grade'].value_counts())\n",
    "#print(loan[['sub_grade','repaid']].groupby(['sub_grade'], as_index=False).mean().sort_values(by='repaid', ascending=False))\n",
    "\n",
    "loan['sub_grade_label'] = loan.sub_grade.astype('category').cat.codes\n",
    "loan['sub_grade_label'].hist(bins=20)\n",
    "not_important_cols += ['sub_grade']"
   ]
  },
  {
   "cell_type": "code",
   "execution_count": 20,
   "metadata": {},
   "outputs": [
    {
     "name": "stdout",
     "output_type": "stream",
     "text": [
      "10+ years    24734\n",
      "2 years       9620\n",
      "< 1 year      9128\n",
      "3 years       8218\n",
      "5 years       7991\n",
      "4 years       7598\n",
      "1 year        7208\n",
      "6 years       6104\n",
      "7 years       4902\n",
      "8 years       3861\n",
      "9 years       3246\n",
      "Name: emp_length, dtype: int64\n",
      "   emp_length    repaid\n",
      "2     2 years  0.865281\n",
      "0      1 year  0.860988\n",
      "4     4 years  0.858252\n",
      "3     3 years  0.857630\n",
      "10   < 1 year  0.856814\n",
      "5     5 years  0.854336\n",
      "9     9 years  0.852434\n",
      "8     8 years  0.843823\n",
      "6     6 years  0.843545\n",
      "1   10+ years  0.841312\n",
      "7     7 years  0.834965\n"
     ]
    },
    {
     "data": {
      "image/png": "[encoded data removed]",
      "text/plain": [
       "<Figure size 432x288 with 1 Axes>"
      ]
     },
     "metadata": {
      "needs_background": "light"
     },
     "output_type": "display_data"
    }
   ],
   "source": [
    "#emp_length--not important\n",
    "print(loan['emp_length'].value_counts())\n",
    "print(loan[['emp_length','repaid']].groupby(['emp_length'], as_index=False).mean().sort_values(by='repaid', ascending=False))\n",
    "\n",
    "loan['emp_length_label'] = loan.emp_length.astype('category').cat.codes\n",
    "loan['emp_length_label'].hist()\n",
    "not_important_cols += ['emp_length_label', 'emp_length']"
   ]
  },
  {
   "cell_type": "code",
   "execution_count": 21,
   "metadata": {},
   "outputs": [
    {
     "name": "stdout",
     "output_type": "stream",
     "text": [
      "36 months    72185\n",
      "60 months    20425\n",
      "Name: term, dtype: int64\n",
      "        term    repaid\n",
      "0  36 months  0.887054\n",
      "1  60 months  0.724162\n",
      "        term    return\n",
      "0  36 months  0.088312\n",
      "1  60 months  0.068042\n",
      "        term   int_rate\n",
      "1  60 months  16.405390\n",
      "0  36 months  12.056353\n"
     ]
    },
    {
     "data": {
      "image/png": "[encoded data removed]",
      "text/plain": [
       "<Figure size 432x288 with 1 Axes>"
      ]
     },
     "metadata": {
      "needs_background": "light"
     },
     "output_type": "display_data"
    },
    {
     "data": {
      "image/png": "[encoded data removed]",
      "text/plain": [
       "<Figure size 720x360 with 1 Axes>"
      ]
     },
     "metadata": {
      "needs_background": "light"
     },
     "output_type": "display_data"
    }
   ],
   "source": [
    "#term--important\n",
    "print(loan['term'].value_counts())\n",
    "print(loan[['term','repaid']].groupby(['term'], as_index=False).mean().sort_values(by='repaid', ascending=False))\n",
    "print(loan[['term','return']].groupby(['term'], as_index=False).mean().sort_values(by='return', ascending=False))\n",
    "print(loan[['term','int_rate']].groupby(['term'], as_index=False).mean().sort_values(by='int_rate', ascending=False))\n",
    "\n",
    "loan['term_label'] = loan.term.astype('category').cat.codes\n",
    "loan['term_label'].hist()\n",
    "#loan['term_label'] = loan.term.astype('category').cat.codes\n",
    "fig, ax = plt.subplots(figsize=(10,5))\n",
    "# histogram containing ages from all the passengers\n",
    "loan[\"term_label\"].hist( color=\"r\", label=\"Not Repaid\")\n",
    "# histogram containing ages from the survived passengers\n",
    "loan[\"term_label\"][loan[\"repaid\"]].hist(color=\"g\", label=\"Repaid\")\n",
    "\n",
    "plt.legend(prop={\"size\":15})\n",
    "plt.show()"
   ]
  },
  {
   "cell_type": "code",
   "execution_count": 22,
   "metadata": {},
   "outputs": [
    {
     "name": "stdout",
     "output_type": "stream",
     "text": [
      "Not Verified       37718\n",
      "Verified           33000\n",
      "Source Verified    21892\n",
      "Name: verification_status, dtype: int64\n",
      "  verification_status    repaid\n",
      "0        Not Verified  0.883743\n",
      "1     Source Verified  0.851087\n",
      "2            Verified  0.813879\n",
      "  verification_status    return\n",
      "0        Not Verified  0.086472\n",
      "1     Source Verified  0.082945\n",
      "2            Verified  0.081428\n"
     ]
    },
    {
     "data": {
      "text/plain": [
       "<matplotlib.axes._subplots.AxesSubplot at 0x11c8a0c18>"
      ]
     },
     "execution_count": 22,
     "metadata": {},
     "output_type": "execute_result"
    },
    {
     "data": {
      "image/png": "[encoded data removed]",
      "text/plain": [
       "<Figure size 432x288 with 1 Axes>"
      ]
     },
     "metadata": {
      "needs_background": "light"
     },
     "output_type": "display_data"
    }
   ],
   "source": [
    "#verification_status--is important, negative correlated???\n",
    "print(loan['verification_status'].value_counts())\n",
    "print(loan[['verification_status','repaid']].groupby(['verification_status'], as_index=False).mean().sort_values(by='repaid', ascending=False))\n",
    "print(loan[['verification_status','return']].groupby(['verification_status'], as_index=False).mean().sort_values(by='return', ascending=False))\n",
    "\n",
    "loan['verification_status_label'] = loan.verification_status.astype('category').cat.codes\n",
    "loan['verification_status_label'].hist()"
   ]
  },
  {
   "cell_type": "code",
   "execution_count": 23,
   "metadata": {},
   "outputs": [
    {
     "data": {
      "image/png": "[encoded data removed]",
      "text/plain": [
       "<Figure size 720x360 with 1 Axes>"
      ]
     },
     "metadata": {
      "needs_background": "light"
     },
     "output_type": "display_data"
    }
   ],
   "source": [
    "#loan_amnt\n",
    "#plt.figure(figsize=(10, 5))\n",
    "fig, ax = plt.subplots(figsize=(10,5))\n",
    "# histogram containing ages from all the passengers\n",
    "loan[\"loan_amnt\"].hist(bins=10, color=\"r\", label=\"Not Repaid\")\n",
    "# histogram containing ages from the survived passengers\n",
    "loan[\"loan_amnt\"][loan[\"repaid\"]].hist(bins=10, color=\"g\", label=\"Repaid\")\n",
    "\n",
    "ax.set_xlim(0, 40000)\n",
    "plt.legend(prop={\"size\":15})\n",
    "plt.show()"
   ]
  },
  {
   "cell_type": "code",
   "execution_count": 24,
   "metadata": {},
   "outputs": [
    {
     "name": "stdout",
     "output_type": "stream",
     "text": [
      "(5000, 10000]     29119\n",
      "(10000, 15000]    19079\n",
      "(0, 5000]         16923\n",
      "(20000, 35000]    14135\n",
      "(15000, 20000]    13354\n",
      "Name: loan_amnt_bin, dtype: int64\n",
      "    loan_amnt_bin    repaid\n",
      "0       (0, 5000]  0.875790\n",
      "1   (5000, 10000]  0.875511\n",
      "2  (10000, 15000]  0.873002\n",
      "3  (15000, 20000]  0.802381\n",
      "4  (20000, 35000]  0.787902\n",
      "    loan_amnt_bin    return\n",
      "2  (10000, 15000]  0.093632\n",
      "1   (5000, 10000]  0.086768\n",
      "4  (20000, 35000]  0.080609\n",
      "0       (0, 5000]  0.077572\n",
      "3  (15000, 20000]  0.074836\n"
     ]
    }
   ],
   "source": [
    "#binning loan_amnt\n",
    "bins = [0,5000, 10000,15000,20000,35000]\n",
    "#cats = [0,1,2,3,]\n",
    "loan['loan_amnt_bin'] = pd.cut(loan['loan_amnt'], bins)\n",
    "\n",
    "print(loan['loan_amnt_bin'].value_counts())\n",
    "print(loan[['loan_amnt_bin','repaid']].groupby(['loan_amnt_bin'], as_index=False).mean().sort_values(by='repaid', ascending=False))\n",
    "print(loan[['loan_amnt_bin','return']].groupby(['loan_amnt_bin'], as_index=False).mean().sort_values(by='return', ascending=False))\n"
   ]
  },
  {
   "cell_type": "code",
   "execution_count": 25,
   "metadata": {},
   "outputs": [
    {
     "data": {
      "image/png": "[encoded data removed]",
      "text/plain": [
       "<Figure size 720x360 with 1 Axes>"
      ]
     },
     "metadata": {
      "needs_background": "light"
     },
     "output_type": "display_data"
    }
   ],
   "source": [
    "#interest rate\n",
    "#plt.figure(figsize=(10, 5))\n",
    "fig, ax = plt.subplots(figsize=(10,5))\n",
    "loan[\"int_rate\"].hist(bins=10, color=\"r\", label=\"Not Repaid\")\n",
    "# histogram containing ages from the survived passengers\n",
    "loan[\"int_rate\"][loan[\"repaid\"]].hist(bins=10, color=\"g\", label=\"Repaid\")\n",
    "\n",
    "ax.set_xlim(0, 30)\n",
    "plt.legend(prop={\"size\":15})\n",
    "plt.show()"
   ]
  },
  {
   "cell_type": "code",
   "execution_count": 26,
   "metadata": {},
   "outputs": [
    {
     "name": "stdout",
     "output_type": "stream",
     "text": [
      "(13, 14]    9997\n",
      "(12, 13]    8957\n",
      "(7, 8]      8957\n",
      "(14, 15]    8749\n",
      "(16, 18]    8688\n",
      "(15, 16]    7155\n",
      "(11, 12]    6946\n",
      "(18, 20]    6882\n",
      "(10, 11]    6651\n",
      "(6, 7]      5563\n",
      "(20, 30]    5168\n",
      "(8, 9]      4120\n",
      "(9, 10]     3502\n",
      "(0, 6]      1275\n",
      "Name: int_rate_bin, dtype: int64\n",
      "   int_rate_bin    repaid\n",
      "0        (0, 6]  0.962353\n",
      "1        (6, 7]  0.956858\n",
      "2        (7, 8]  0.935023\n",
      "3        (8, 9]  0.906553\n",
      "4       (9, 10]  0.896916\n",
      "5      (10, 11]  0.889641\n",
      "6      (11, 12]  0.875612\n",
      "7      (12, 13]  0.860668\n",
      "8      (13, 14]  0.845054\n",
      "9      (14, 15]  0.836324\n",
      "10     (15, 16]  0.810762\n",
      "11     (16, 18]  0.782459\n",
      "12     (18, 20]  0.757629\n",
      "13     (20, 30]  0.722910\n",
      "   int_rate_bin    return\n",
      "10     (15, 16]  0.098045\n",
      "11     (16, 18]  0.097919\n",
      "9      (14, 15]  0.094629\n",
      "8      (13, 14]  0.092379\n",
      "12     (18, 20]  0.092023\n",
      "7      (12, 13]  0.088052\n",
      "6      (11, 12]  0.082965\n",
      "5      (10, 11]  0.082815\n",
      "4       (9, 10]  0.074170\n",
      "13     (20, 30]  0.068300\n",
      "3        (8, 9]  0.067796\n",
      "2        (7, 8]  0.067549\n",
      "1        (6, 7]  0.061498\n",
      "0        (0, 6]  0.056962\n"
     ]
    }
   ],
   "source": [
    "#binning int_rate\n",
    "bins = [0,6,7,8,9,10,11,12,13,14,15,16,18,20,30]\n",
    "#cats = [0,1,2,3,]\n",
    "loan['int_rate_bin'] = pd.cut(loan['int_rate'], bins)\n",
    "\n",
    "print(loan['int_rate_bin'].value_counts())\n",
    "print(loan[['int_rate_bin','repaid']].groupby(['int_rate_bin'], as_index=False).mean().sort_values(by='repaid', ascending=False))\n",
    "print(loan[['int_rate_bin','return']].groupby(['int_rate_bin'], as_index=False).mean().sort_values(by='return', ascending=False))\n"
   ]
  },
  {
   "cell_type": "code",
   "execution_count": 27,
   "metadata": {},
   "outputs": [],
   "source": [
    "#loan_amnt is import, negatively related to repaid, but 10000-15000 has best return\n",
    "#interest rate is important\n",
    "#annual_inc is positively corr\n",
    "#inq_last_6mths is negatively corr\n",
    "#dti is negatively corr\n",
    "#grade is important\n",
    "#term is important\n",
    "#verification_status is important"
   ]
  },
  {
   "cell_type": "code",
   "execution_count": 28,
   "metadata": {},
   "outputs": [
    {
     "data": {
      "text/html": [
       "<div>\n",
       "<style scoped>\n",
       "    .dataframe tbody tr th:only-of-type {\n",
       "        vertical-align: middle;\n",
       "    }\n",
       "\n",
       "    .dataframe tbody tr th {\n",
       "        vertical-align: top;\n",
       "    }\n",
       "\n",
       "    .dataframe thead th {\n",
       "        text-align: right;\n",
       "    }\n",
       "</style>\n",
       "<table border=\"1\" class=\"dataframe\">\n",
       "  <thead>\n",
       "    <tr style=\"text-align: right;\">\n",
       "      <th></th>\n",
       "      <th>loan_amnt</th>\n",
       "      <th>term</th>\n",
       "      <th>int_rate</th>\n",
       "      <th>grade</th>\n",
       "      <th>sub_grade</th>\n",
       "      <th>emp_length</th>\n",
       "      <th>home_ownership</th>\n",
       "      <th>annual_inc</th>\n",
       "      <th>verification_status</th>\n",
       "      <th>dti</th>\n",
       "      <th>...</th>\n",
       "      <th>revol_bal_bin</th>\n",
       "      <th>dti_bin</th>\n",
       "      <th>open_acc_bin</th>\n",
       "      <th>grade_label</th>\n",
       "      <th>sub_grade_label</th>\n",
       "      <th>emp_length_label</th>\n",
       "      <th>term_label</th>\n",
       "      <th>verification_status_label</th>\n",
       "      <th>loan_amnt_bin</th>\n",
       "      <th>int_rate_bin</th>\n",
       "    </tr>\n",
       "  </thead>\n",
       "  <tbody>\n",
       "    <tr>\n",
       "      <td>0</td>\n",
       "      <td>5000</td>\n",
       "      <td>36 months</td>\n",
       "      <td>10.65</td>\n",
       "      <td>B</td>\n",
       "      <td>B2</td>\n",
       "      <td>10+ years</td>\n",
       "      <td>RENT</td>\n",
       "      <td>24000.0</td>\n",
       "      <td>Verified</td>\n",
       "      <td>27.65</td>\n",
       "      <td>...</td>\n",
       "      <td>2</td>\n",
       "      <td>1</td>\n",
       "      <td>0</td>\n",
       "      <td>1</td>\n",
       "      <td>6</td>\n",
       "      <td>1</td>\n",
       "      <td>0</td>\n",
       "      <td>2</td>\n",
       "      <td>(0, 5000]</td>\n",
       "      <td>(10, 11]</td>\n",
       "    </tr>\n",
       "    <tr>\n",
       "      <td>1</td>\n",
       "      <td>2500</td>\n",
       "      <td>60 months</td>\n",
       "      <td>15.27</td>\n",
       "      <td>C</td>\n",
       "      <td>C4</td>\n",
       "      <td>&lt; 1 year</td>\n",
       "      <td>RENT</td>\n",
       "      <td>30000.0</td>\n",
       "      <td>Source Verified</td>\n",
       "      <td>1.00</td>\n",
       "      <td>...</td>\n",
       "      <td>0</td>\n",
       "      <td>0</td>\n",
       "      <td>0</td>\n",
       "      <td>2</td>\n",
       "      <td>13</td>\n",
       "      <td>10</td>\n",
       "      <td>1</td>\n",
       "      <td>1</td>\n",
       "      <td>(0, 5000]</td>\n",
       "      <td>(15, 16]</td>\n",
       "    </tr>\n",
       "    <tr>\n",
       "      <td>2</td>\n",
       "      <td>2400</td>\n",
       "      <td>36 months</td>\n",
       "      <td>15.96</td>\n",
       "      <td>C</td>\n",
       "      <td>C5</td>\n",
       "      <td>10+ years</td>\n",
       "      <td>RENT</td>\n",
       "      <td>12252.0</td>\n",
       "      <td>Not Verified</td>\n",
       "      <td>8.72</td>\n",
       "      <td>...</td>\n",
       "      <td>0</td>\n",
       "      <td>0</td>\n",
       "      <td>0</td>\n",
       "      <td>2</td>\n",
       "      <td>14</td>\n",
       "      <td>1</td>\n",
       "      <td>0</td>\n",
       "      <td>0</td>\n",
       "      <td>(0, 5000]</td>\n",
       "      <td>(15, 16]</td>\n",
       "    </tr>\n",
       "    <tr>\n",
       "      <td>3</td>\n",
       "      <td>10000</td>\n",
       "      <td>36 months</td>\n",
       "      <td>13.49</td>\n",
       "      <td>C</td>\n",
       "      <td>C1</td>\n",
       "      <td>10+ years</td>\n",
       "      <td>RENT</td>\n",
       "      <td>49200.0</td>\n",
       "      <td>Source Verified</td>\n",
       "      <td>20.00</td>\n",
       "      <td>...</td>\n",
       "      <td>1</td>\n",
       "      <td>0</td>\n",
       "      <td>0</td>\n",
       "      <td>2</td>\n",
       "      <td>10</td>\n",
       "      <td>1</td>\n",
       "      <td>0</td>\n",
       "      <td>1</td>\n",
       "      <td>(5000, 10000]</td>\n",
       "      <td>(13, 14]</td>\n",
       "    </tr>\n",
       "    <tr>\n",
       "      <td>4</td>\n",
       "      <td>3000</td>\n",
       "      <td>60 months</td>\n",
       "      <td>12.69</td>\n",
       "      <td>B</td>\n",
       "      <td>B5</td>\n",
       "      <td>1 year</td>\n",
       "      <td>RENT</td>\n",
       "      <td>80000.0</td>\n",
       "      <td>Source Verified</td>\n",
       "      <td>17.94</td>\n",
       "      <td>...</td>\n",
       "      <td>3</td>\n",
       "      <td>0</td>\n",
       "      <td>1</td>\n",
       "      <td>1</td>\n",
       "      <td>9</td>\n",
       "      <td>0</td>\n",
       "      <td>1</td>\n",
       "      <td>1</td>\n",
       "      <td>(0, 5000]</td>\n",
       "      <td>(12, 13]</td>\n",
       "    </tr>\n",
       "  </tbody>\n",
       "</table>\n",
       "<p>5 rows × 30 columns</p>\n",
       "</div>"
      ],
      "text/plain": [
       "   loan_amnt       term  int_rate grade sub_grade emp_length home_ownership  \\\n",
       "0       5000  36 months     10.65     B        B2  10+ years           RENT   \n",
       "1       2500  60 months     15.27     C        C4   < 1 year           RENT   \n",
       "2       2400  36 months     15.96     C        C5  10+ years           RENT   \n",
       "3      10000  36 months     13.49     C        C1  10+ years           RENT   \n",
       "4       3000  60 months     12.69     B        B5     1 year           RENT   \n",
       "\n",
       "   annual_inc verification_status    dti  ...  revol_bal_bin  dti_bin  \\\n",
       "0     24000.0            Verified  27.65  ...              2        1   \n",
       "1     30000.0     Source Verified   1.00  ...              0        0   \n",
       "2     12252.0        Not Verified   8.72  ...              0        0   \n",
       "3     49200.0     Source Verified  20.00  ...              1        0   \n",
       "4     80000.0     Source Verified  17.94  ...              3        0   \n",
       "\n",
       "   open_acc_bin  grade_label  sub_grade_label  emp_length_label  term_label  \\\n",
       "0             0            1                6                 1           0   \n",
       "1             0            2               13                10           1   \n",
       "2             0            2               14                 1           0   \n",
       "3             0            2               10                 1           0   \n",
       "4             1            1                9                 0           1   \n",
       "\n",
       "   verification_status_label  loan_amnt_bin int_rate_bin  \n",
       "0                          2      (0, 5000]     (10, 11]  \n",
       "1                          1      (0, 5000]     (15, 16]  \n",
       "2                          0      (0, 5000]     (15, 16]  \n",
       "3                          1  (5000, 10000]     (13, 14]  \n",
       "4                          1      (0, 5000]     (12, 13]  \n",
       "\n",
       "[5 rows x 30 columns]"
      ]
     },
     "execution_count": 28,
     "metadata": {},
     "output_type": "execute_result"
    }
   ],
   "source": [
    "loan.head()"
   ]
  },
  {
   "cell_type": "code",
   "execution_count": 29,
   "metadata": {},
   "outputs": [],
   "source": [
    "loan['inq_6_bin'] = loan.inq_6_bin.astype(int)\n",
    "X_cols = ['loan_amnt', 'int_rate', 'annual_inc', 'dti', 'inq_6_bin', 'grade_label', 'term_label', 'verification_status_label']\n",
    "X_return_cols = ['int_rate', 'annual_inc_bin', 'dti_bin', 'inq_6_bin', 'term_label', 'open_acc_bin', 'revol_bal_bin', 'verification_status_label']\n",
    "y_cols = ['repaid', 'return']\n",
    "X = loan[X_cols]\n",
    "X_return = loan[X_return_cols]\n",
    "X_return['annual_inc_bin'] = X_return.annual_inc_bin.astype(int)\n",
    "X_return['dti_bin'] = X_return.dti_bin.astype(int)\n",
    "X_return['open_acc_bin'] = X_return.open_acc_bin.astype(int)\n",
    "X_return['revol_bal_bin'] = X_return.revol_bal_bin.astype(int)\n",
    "y_repaid = loan['repaid'].astype(int)\n",
    "y_return = loan['return']\n",
    "#loan.info()\n"
   ]
  },
  {
   "cell_type": "code",
   "execution_count": 30,
   "metadata": {},
   "outputs": [],
   "source": [
    "from sklearn.metrics import classification_report\n",
    "def print_repaid_score(model, X_train, y_repaid_train, X_test, y_repaid_test):\n",
    "    repaid_score = model.score(X_test, y_repaid_test)\n",
    "    print('training score:', model.score(X_train, y_repaid_train))\n",
    "    print('testing score:', repaid_score)\n",
    "    y_pred = model.predict(X_test)\n",
    "    labels = ['Not-Repaid', 'Repaid']\n",
    "    print(classification_report(y_repaid_test, y_pred, target_names=labels))"
   ]
  },
  {
   "cell_type": "code",
   "execution_count": 31,
   "metadata": {},
   "outputs": [],
   "source": [
    "#StandardScaler on annual_inc, int_rate and dti\n",
    "#MinMax on loan_amount, inq_6_bin, grade_label, verefication_status_label\n",
    "from sklearn.preprocessing import StandardScaler\n",
    "from sklearn.preprocessing import Normalizer\n",
    "from sklearn.preprocessing import MinMaxScaler\n",
    "\n",
    "#transform coluns\n",
    "ss=StandardScaler()\n",
    "nm=Normalizer()\n",
    "X_t = ss.fit_transform(X)\n",
    "X_t = pd.DataFrame(data=X_t, columns=X.columns)\n"
   ]
  },
  {
   "cell_type": "code",
   "execution_count": 32,
   "metadata": {},
   "outputs": [],
   "source": [
    "#split data\n",
    "from sklearn.model_selection import train_test_split\n",
    "X_train, X_test, y_repaid_train, y_repaid_test, y_return_train, y_return_test = \\\n",
    "    train_test_split(X, y_repaid, y_return, test_size=0.3, random_state=23)\n",
    "X_return_train, X_return_test, y_repaid_train, y_repaid_test, y_return_train, y_return_test = \\\n",
    "    train_test_split(X_return, y_repaid, y_return, test_size=0.3, random_state=23)\n"
   ]
  },
  {
   "cell_type": "code",
   "execution_count": 33,
   "metadata": {},
   "outputs": [],
   "source": [
    "#split data\n",
    "from sklearn.model_selection import train_test_split\n",
    "X_train_t, X_test_t, y_repaid_train_t, y_repaid_test_t, y_return_train_t, y_return_test_t = \\\n",
    "    train_test_split(X_t, y_repaid, y_return, test_size=0.3, random_state=23)"
   ]
  },
  {
   "cell_type": "code",
   "execution_count": 34,
   "metadata": {},
   "outputs": [
    {
     "name": "stdout",
     "output_type": "stream",
     "text": [
      "Training Time: 0:00:00.000094\n"
     ]
    }
   ],
   "source": [
    "#SVM\n",
    "from datetime import datetime\n",
    "from sklearn.svm import SVC\n",
    "t1 = datetime.now()\n",
    "loan_model = SVC()\n",
    "#loan_model.fit(X_train, y_repaid_train)\n",
    "print (\"Training Time:\", datetime.now() - t1)"
   ]
  },
  {
   "cell_type": "code",
   "execution_count": 35,
   "metadata": {},
   "outputs": [
    {
     "data": {
      "text/plain": [
       "\"\\nfrom sklearn.metrics import classification_report\\nrepaid_score = loan_model.score(X_test, y_repaid_test)\\nprint('testing score:', repaid_score)\\nprint('training score:', rfc.score(X_train, y_repaid_train))\\n\\ny_pred = loan_model.predict(X_test)\\nlabels = ['Not-Repaid', 'Repaid']\\nprint(classification_report(y_repaid_test, y_pred, target_names=labels))\\n\""
      ]
     },
     "execution_count": 35,
     "metadata": {},
     "output_type": "execute_result"
    }
   ],
   "source": [
    "'''\n",
    "from sklearn.metrics import classification_report\n",
    "repaid_score = loan_model.score(X_test, y_repaid_test)\n",
    "print('testing score:', repaid_score)\n",
    "print('training score:', rfc.score(X_train, y_repaid_train))\n",
    "\n",
    "y_pred = loan_model.predict(X_test)\n",
    "labels = ['Not-Repaid', 'Repaid']\n",
    "print(classification_report(y_repaid_test, y_pred, target_names=labels))\n",
    "'''"
   ]
  },
  {
   "cell_type": "code",
   "execution_count": 36,
   "metadata": {},
   "outputs": [
    {
     "name": "stdout",
     "output_type": "stream",
     "text": [
      "RFC Training Time: 0:00:06.495597\n"
     ]
    }
   ],
   "source": [
    "#RandomForest\n",
    "from sklearn.ensemble import RandomForestClassifier\n",
    "from datetime import datetime\n",
    "t1 = datetime.now()\n",
    "rfc = RandomForestClassifier(n_estimators=100)\n",
    "rfc.fit(X_train, y_repaid_train)\n",
    "print (\"RFC Training Time:\", datetime.now() - t1)"
   ]
  },
  {
   "cell_type": "code",
   "execution_count": 37,
   "metadata": {},
   "outputs": [
    {
     "name": "stdout",
     "output_type": "stream",
     "text": [
      "0.8456250224957708\n",
      "training score: 0.9999845743285977\n",
      "              precision    recall  f1-score   support\n",
      "\n",
      "  Not-Repaid       0.46      0.07      0.12      4241\n",
      "      Repaid       0.85      0.99      0.92     23542\n",
      "\n",
      "    accuracy                           0.85     27783\n",
      "   macro avg       0.66      0.53      0.52     27783\n",
      "weighted avg       0.79      0.85      0.79     27783\n",
      "\n"
     ]
    }
   ],
   "source": [
    "from sklearn.metrics import classification_report\n",
    "repaid_score = rfc.score(X_test, y_repaid_test)\n",
    "print(repaid_score)\n",
    "print('training score:', rfc.score(X_train, y_repaid_train))\n",
    "y_pred = rfc.predict(X_test)\n",
    "labels = ['Not-Repaid', 'Repaid']\n",
    "print(classification_report(y_repaid_test, y_pred, target_names=labels))"
   ]
  },
  {
   "cell_type": "code",
   "execution_count": 38,
   "metadata": {},
   "outputs": [
    {
     "name": "stdout",
     "output_type": "stream",
     "text": [
      "RFC Training Time: 0:00:00.221073\n"
     ]
    }
   ],
   "source": [
    "#LogisticRegression\n",
    "from sklearn.linear_model import LogisticRegression\n",
    "from datetime import datetime\n",
    "t1 = datetime.now()\n",
    "lr = LogisticRegression()\n",
    "lr.fit(X_train, y_repaid_train)\n",
    "print (\"RFC Training Time:\", datetime.now() - t1)"
   ]
  },
  {
   "cell_type": "code",
   "execution_count": 39,
   "metadata": {},
   "outputs": [
    {
     "name": "stdout",
     "output_type": "stream",
     "text": [
      "0.8473526976928337\n",
      "training score: 0.8527619664645903\n",
      "              precision    recall  f1-score   support\n",
      "\n",
      "  Not-Repaid       0.00      0.00      0.00      4241\n",
      "      Repaid       0.85      1.00      0.92     23542\n",
      "\n",
      "    accuracy                           0.85     27783\n",
      "   macro avg       0.42      0.50      0.46     27783\n",
      "weighted avg       0.72      0.85      0.78     27783\n",
      "\n"
     ]
    }
   ],
   "source": [
    "from sklearn.metrics import classification_report\n",
    "repaid_score = lr.score(X_test, y_repaid_test)\n",
    "print(repaid_score)\n",
    "print('training score:', lr.score(X_train, y_repaid_train))\n",
    "y_pred = lr.predict(X_test)\n",
    "labels = ['Not-Repaid', 'Repaid']\n",
    "print(classification_report(y_repaid_test, y_pred, target_names=labels))"
   ]
  },
  {
   "cell_type": "code",
   "execution_count": 40,
   "metadata": {},
   "outputs": [
    {
     "data": {
      "text/plain": [
       "'\\nsvp = Pipeline([(\\'ss\\', StandardScaler()), (\\'svc\\', SVC(random_state=23))])\\nt1 = datetime.now()\\nsvp.fit(X_train, y_repaid_train)\\nprint (\"SVP Training Time:\", datetime.now() - t1)\\nprint_repaid_score(svp, X_train, y_repaid_train, X_test, y_repaid_test)\\n'"
      ]
     },
     "execution_count": 40,
     "metadata": {},
     "output_type": "execute_result"
    }
   ],
   "source": [
    "from sklearn.pipeline import Pipeline\n",
    "from sklearn.svm import SVC\n",
    "from datetime import datetime\n",
    "'''\n",
    "svp = Pipeline([('ss', StandardScaler()), ('svc', SVC(random_state=23))])\n",
    "t1 = datetime.now()\n",
    "svp.fit(X_train, y_repaid_train)\n",
    "print (\"SVP Training Time:\", datetime.now() - t1)\n",
    "print_repaid_score(svp, X_train, y_repaid_train, X_test, y_repaid_test)\n",
    "'''"
   ]
  },
  {
   "cell_type": "code",
   "execution_count": 41,
   "metadata": {},
   "outputs": [
    {
     "name": "stdout",
     "output_type": "stream",
     "text": [
      "Linear SVP Training Time: 0:00:03.361129\n",
      "training score: 0.6726364014993753\n",
      "testing score: 0.671957671957672\n",
      "              precision    recall  f1-score   support\n",
      "\n",
      "  Not-Repaid       0.25      0.57      0.35      4241\n",
      "      Repaid       0.90      0.69      0.78     23542\n",
      "\n",
      "    accuracy                           0.67     27783\n",
      "   macro avg       0.57      0.63      0.56     27783\n",
      "weighted avg       0.80      0.67      0.71     27783\n",
      "\n"
     ]
    }
   ],
   "source": [
    "from sklearn.pipeline import Pipeline\n",
    "from sklearn.svm import LinearSVC\n",
    "from datetime import datetime\n",
    "#svp = Pipeline([('ss', StandardScaler()), ('svc', LinearSVC(class_weight=None, random_state=23))])\n",
    "#svp = Pipeline([('ss', StandardScaler()), ('svc', LinearSVC(class_weight='balanced', random_state=23))])\n",
    "#svp = Pipeline([('ss', Normalizer()), ('svc', LinearSVC(class_weight='balanced', random_state=23))])\n",
    "svp = Pipeline([('ss', MinMaxScaler()), ('svc', LinearSVC(class_weight='balanced', random_state=23))])\n",
    "#svp = Pipeline([('svc', LinearSVC(class_weight='balanced', random_state=23))])\n",
    "t1 = datetime.now()\n",
    "svp.fit(X_train, y_repaid_train)\n",
    "print (\"Linear SVP Training Time:\", datetime.now() - t1)\n",
    "print_repaid_score(svp, X_train, y_repaid_train, X_test, y_repaid_test)"
   ]
  },
  {
   "cell_type": "code",
   "execution_count": 42,
   "metadata": {},
   "outputs": [
    {
     "name": "stdout",
     "output_type": "stream",
     "text": [
      "Linear SVP Training Time: 0:00:09.069210\n",
      "training score: 0.6713406451015781\n",
      "testing score: 0.6707698952596912\n",
      "              precision    recall  f1-score   support\n",
      "\n",
      "  Not-Repaid       0.25      0.57      0.35      4241\n",
      "      Repaid       0.90      0.69      0.78     23542\n",
      "\n",
      "    accuracy                           0.67     27783\n",
      "   macro avg       0.57      0.63      0.56     27783\n",
      "weighted avg       0.80      0.67      0.71     27783\n",
      "\n"
     ]
    }
   ],
   "source": [
    "from sklearn.pipeline import Pipeline\n",
    "from sklearn.svm import LinearSVC\n",
    "from datetime import datetime\n",
    "#svp = Pipeline([('ss', StandardScaler()), ('svc', LinearSVC(class_weight=None, random_state=23))])\n",
    "svp = Pipeline([('ss', StandardScaler()), ('svc', LinearSVC(class_weight='balanced', random_state=23))])\n",
    "#svp = Pipeline([('ss', Normalizer()), ('svc', LinearSVC(class_weight='balanced', random_state=23))])\n",
    "#svp = Pipeline([('svc', LinearSVC(class_weight='balanced', random_state=23))])\n",
    "t1 = datetime.now()\n",
    "svp.fit(X_train, y_repaid_train)\n",
    "print (\"Linear SVP Training Time:\", datetime.now() - t1)\n",
    "print_repaid_score(svp, X_train, y_repaid_train, X_test, y_repaid_test)"
   ]
  },
  {
   "cell_type": "code",
   "execution_count": 43,
   "metadata": {},
   "outputs": [],
   "source": [
    "#transform coluns\n",
    "ss=StandardScaler()\n",
    "nm=Normalizer()\n",
    "X_train_t = ss.fit_transform(X_train)\n",
    "X_test_t = ss.fit_transform(X_test)\n",
    "X_train_t = pd.DataFrame(data=X_train_t, columns=X_train.columns)\n",
    "X_test_t = pd.DataFrame(data=X_test_t, columns=X_test.columns)"
   ]
  },
  {
   "cell_type": "code",
   "execution_count": 44,
   "metadata": {},
   "outputs": [
    {
     "name": "stdout",
     "output_type": "stream",
     "text": [
      "training score: 0.852746540793188\n",
      "testing score: 0.8473526976928337\n",
      "              precision    recall  f1-score   support\n",
      "\n",
      "  Not-Repaid       0.00      0.00      0.00      4241\n",
      "      Repaid       0.85      1.00      0.92     23542\n",
      "\n",
      "    accuracy                           0.85     27783\n",
      "   macro avg       0.42      0.50      0.46     27783\n",
      "weighted avg       0.72      0.85      0.78     27783\n",
      "\n"
     ]
    }
   ],
   "source": [
    "svc = LinearSVC(random_state=23)\n",
    "svc.fit(X_train_t, y_repaid_train)\n",
    "print_repaid_score(svc, X_train_t, y_repaid_train, X_test_t, y_repaid_test)"
   ]
  },
  {
   "cell_type": "code",
   "execution_count": 45,
   "metadata": {},
   "outputs": [
    {
     "name": "stdout",
     "output_type": "stream",
     "text": [
      "RFP Training Time: 0:00:06.277555\n",
      "training score: 0.9999382973143907\n",
      "testing score: 0.845409063096138\n",
      "              precision    recall  f1-score   support\n",
      "\n",
      "  Not-Repaid       0.45      0.05      0.10      4241\n",
      "      Repaid       0.85      0.99      0.92     23542\n",
      "\n",
      "    accuracy                           0.85     27783\n",
      "   macro avg       0.65      0.52      0.51     27783\n",
      "weighted avg       0.79      0.85      0.79     27783\n",
      "\n"
     ]
    }
   ],
   "source": [
    "from sklearn.pipeline import Pipeline\n",
    "from sklearn.ensemble import RandomForestClassifier\n",
    "from datetime import datetime\n",
    "rfp = Pipeline([('ss', StandardScaler()), ('rfc', RandomForestClassifier(class_weight='balanced', n_estimators=100,random_state=23))])\n",
    "t1 = datetime.now()\n",
    "rfp.fit(X_train, y_repaid_train)\n",
    "print (\"RFP Training Time:\", datetime.now() - t1)\n",
    "print_repaid_score(rfp, X_train, y_repaid_train, X_test, y_repaid_test)"
   ]
  },
  {
   "cell_type": "code",
   "execution_count": 46,
   "metadata": {},
   "outputs": [
    {
     "name": "stdout",
     "output_type": "stream",
     "text": [
      "RFP Training Time: 0:00:06.380548\n",
      "training score: 0.9999382973143907\n",
      "testing score: 0.845409063096138\n",
      "              precision    recall  f1-score   support\n",
      "\n",
      "  Not-Repaid       0.45      0.05      0.10      4241\n",
      "      Repaid       0.85      0.99      0.92     23542\n",
      "\n",
      "    accuracy                           0.85     27783\n",
      "   macro avg       0.65      0.52      0.51     27783\n",
      "weighted avg       0.79      0.85      0.79     27783\n",
      "\n"
     ]
    }
   ],
   "source": [
    "from sklearn.pipeline import Pipeline\n",
    "from sklearn.ensemble import RandomForestClassifier\n",
    "from datetime import datetime\n",
    "rfp = Pipeline([('rfc', RandomForestClassifier(class_weight='balanced', n_estimators=100,random_state=23))])\n",
    "#rfp = Pipeline([('ss', Normalizer()), ('rfc', RandomForestClassifier(class_weight='balanced', n_estimators=100,random_state=23))])\n",
    "t1 = datetime.now()\n",
    "rfp.fit(X_train, y_repaid_train)\n",
    "print (\"RFP Training Time:\", datetime.now() - t1)\n",
    "print_repaid_score(rfp, X_train, y_repaid_train, X_test, y_repaid_test)"
   ]
  },
  {
   "cell_type": "code",
   "execution_count": 47,
   "metadata": {},
   "outputs": [
    {
     "name": "stdout",
     "output_type": "stream",
     "text": [
      "KNNP Training Time: 0:00:00.150023\n",
      "training score: 0.9999845743285977\n",
      "testing score: 0.8256847712630025\n",
      "              precision    recall  f1-score   support\n",
      "\n",
      "  Not-Repaid       0.30      0.11      0.16      4241\n",
      "      Repaid       0.86      0.96      0.90     23542\n",
      "\n",
      "    accuracy                           0.83     27783\n",
      "   macro avg       0.58      0.53      0.53     27783\n",
      "weighted avg       0.77      0.83      0.79     27783\n",
      "\n"
     ]
    }
   ],
   "source": [
    "from sklearn.neighbors import KNeighborsClassifier\n",
    "from sklearn.pipeline import Pipeline\n",
    "from datetime import datetime\n",
    "#knnp = Pipeline([('knn', KNeighborsClassifier(weights='distance'))])\n",
    "knnp = Pipeline([('ss', StandardScaler()), ('knn', KNeighborsClassifier(weights='distance'))])\n",
    "t1 = datetime.now()\n",
    "knnp.fit(X_train, y_repaid_train)\n",
    "print (\"KNNP Training Time:\", datetime.now() - t1)\n",
    "print_repaid_score(knnp, X_train, y_repaid_train, X_test, y_repaid_test)"
   ]
  },
  {
   "cell_type": "code",
   "execution_count": 48,
   "metadata": {},
   "outputs": [
    {
     "data": {
      "image/png": "[encoded data removed]",
      "text/plain": [
       "<Figure size 360x360 with 1 Axes>"
      ]
     },
     "metadata": {
      "needs_background": "light"
     },
     "output_type": "display_data"
    }
   ],
   "source": [
    "#ROC\n",
    "from sklearn.metrics import roc_curve, auc\n",
    "from sklearn.metrics import auc\n",
    "\n",
    "# Grab positive class probability\n",
    "# Compute ROC curve and ROC area\n",
    "#svp\n",
    "y_score_svm = svp.decision_function(X_test)\n",
    "fpr_svm, tpr_svm, thresholds = roc_curve(y_repaid_test, y_score_svm)\n",
    "roc_auc_svm = auc(fpr_svm, tpr_svm)\n",
    "\n",
    "#svp\n",
    "y_score_rfp = rfp.predict_proba(X_test)\n",
    "fpr_rfp, tpr_rfp, thresholds = roc_curve(y_repaid_test, y_score_rfp[:,1])\n",
    "roc_auc_rfp = auc(fpr_rfp, tpr_rfp)\n",
    "\n",
    "# Make the plots\n",
    "fig, ax = plt.subplots(figsize=(5, 5))\n",
    "\n",
    "# Plot data and model\n",
    "\n",
    "ax.plot(fpr_svm, tpr_svm, alpha = 0.75, linestyle='-',\n",
    "        label=f'SVM (AUC = {roc_auc_svm:4.2f})')\n",
    "\n",
    "ax.plot(fpr_rfp, tpr_rfp, alpha = 0.75, linestyle='-',\n",
    "        label=f'RFC (AUC = {roc_auc_rfp:4.2f})')\n",
    "\n",
    "ax.plot([0, 1], [0, 1], alpha = 0.5, \n",
    "        lw=1, linestyle='-', label='Random')\n",
    "ax.plot([0, 0, 1], [0, 1, 1], alpha = 0.5, \n",
    "        lw=1, linestyle='-.', label='Perfect')\n",
    "\n",
    "# Decorate plot appropriately\n",
    "ax.set_title('Receiver Operating Characteristic Curve', fontsize=18)\n",
    "ax.set_xlabel('False Positive Rate', fontsize=16)\n",
    "ax.set_ylabel('True Positive Rate', fontsize=16)\n",
    "ax.set_xlim(-0.05, 1.05)\n",
    "ax.set_ylim(-0.05, 1.05)\n",
    "ax.set_aspect('equal')\n",
    "ax.legend(loc=4, fontsize=16)\n",
    "sns.despine(offset=5, trim=True)"
   ]
  },
  {
   "cell_type": "code",
   "execution_count": 49,
   "metadata": {},
   "outputs": [
    {
     "name": "stdout",
     "output_type": "stream",
     "text": [
      "training score: 0.8364724574637111\n",
      "testing score: 0.8327034517510707\n",
      "              precision    recall  f1-score   support\n",
      "\n",
      "  Not-Repaid       0.30      0.07      0.12      4241\n",
      "      Repaid       0.85      0.97      0.91     23542\n",
      "\n",
      "    accuracy                           0.83     27783\n",
      "   macro avg       0.58      0.52      0.51     27783\n",
      "weighted avg       0.77      0.83      0.79     27783\n",
      "\n"
     ]
    }
   ],
   "source": [
    "from sklearn.naive_bayes import GaussianNB\n",
    "\n",
    "nbc = GaussianNB()\n",
    "\n",
    "# Fit estimator to scaled training data\n",
    "nbc = nbc.fit(X_train, y_repaid_train)\n",
    "\n",
    "print_repaid_score(nbc, X_train, y_repaid_train, X_test, y_repaid_test)"
   ]
  },
  {
   "cell_type": "code",
   "execution_count": 50,
   "metadata": {},
   "outputs": [
    {
     "name": "stdout",
     "output_type": "stream",
     "text": [
      " loan_amnt variance = 1.000\n",
      "  int_rate variance = 1.000\n",
      "annual_inc variance = 1.000\n",
      "       dti variance = 1.000\n",
      " inq_6_bin variance = 1.000\n",
      "grade_label variance = 1.000\n",
      "term_label variance = 1.000\n",
      "verification_status_label variance = 1.000\n"
     ]
    }
   ],
   "source": [
    "#feature selection\n",
    "#variance threshold\n",
    "from sklearn.feature_selection import VarianceThreshold\n",
    "vt = VarianceThreshold()\n",
    "\n",
    "# Compute and display variances\n",
    "vt.fit_transform(X_train_t)\n",
    "for var, name in zip(vt.variances_, X_train.columns):\n",
    "    print(f'{name:>10} variance = {var:5.3f}')"
   ]
  },
  {
   "cell_type": "code",
   "execution_count": 51,
   "metadata": {},
   "outputs": [
    {
     "name": "stdout",
     "output_type": "stream",
     "text": [
      "        term_label score = 2394.643\n",
      "          int_rate score = 2116.502\n",
      "       grade_label score = 1807.618\n",
      "         loan_amnt score = 507.379\n",
      "verification_status_label score = 451.653\n",
      "         inq_6_bin score = 362.923\n",
      "               dti score = 275.404\n",
      "        annual_inc score = 64.363\n"
     ]
    }
   ],
   "source": [
    "from sklearn.feature_selection import SelectKBest\n",
    "\n",
    "skb = SelectKBest(k='all')\n",
    "\n",
    "fs = skb.fit(X_train_t, y_repaid_train_t)\n",
    "for var, name in sorted(zip(fs.scores_, X_train.columns), reverse=True):\n",
    "    print(f'{name:>18} score = {var:5.3f}')\n"
   ]
  },
  {
   "cell_type": "code",
   "execution_count": 52,
   "metadata": {},
   "outputs": [
    {
     "name": "stdout",
     "output_type": "stream",
     "text": [
      "        term_label rank = 1.000\n",
      "          int_rate rank = 2.000\n",
      "        annual_inc rank = 3.000\n",
      "         inq_6_bin rank = 4.000\n",
      "       grade_label rank = 5.000\n",
      "         loan_amnt rank = 6.000\n",
      "               dti rank = 7.000\n",
      "verification_status_label rank = 8.000\n"
     ]
    }
   ],
   "source": [
    "from sklearn.svm import LinearSVC\n",
    "from sklearn.feature_selection import RFE\n",
    "\n",
    "# Create classifier\n",
    "svc = LinearSVC(random_state=23)\n",
    "#svc = LinearSVR(random_state=23)\n",
    "\n",
    "# Perform RFE, select top feature (but rank all)\n",
    "rfe = RFE(svc, 1)\n",
    "\n",
    "# Fit features plus noise\n",
    "fs = rfe.fit(X_train_t, y_repaid_train_t)\n",
    "    \n",
    "# Display scores for features and noise\n",
    "for var, name in sorted(zip(fs.ranking_, X_train.columns), \n",
    "                        key=lambda x: x[0]):\n",
    "    print(f'{name:>18} rank = {var:5.3f}')"
   ]
  },
  {
   "cell_type": "code",
   "execution_count": 53,
   "metadata": {},
   "outputs": [
    {
     "name": "stdout",
     "output_type": "stream",
     "text": [
      "Label             : Importance\n",
      "--------------------------\n",
      "               dti: 27.72%\n",
      "        annual_inc: 22.57%\n",
      "         loan_amnt: 20.00%\n",
      "          int_rate: 17.24%\n",
      "       grade_label: 03.85%\n",
      "         inq_6_bin: 03.14%\n",
      "verification_status_label: 02.86%\n",
      "        term_label: 02.62%\n"
     ]
    }
   ],
   "source": [
    "#select from model\n",
    "from sklearn.ensemble import RandomForestClassifier\n",
    "# Build model\n",
    "rfc = RandomForestClassifier(random_state=23)\n",
    "rfc.fit(X_train_t, y_repaid_train_t)\n",
    "\n",
    "# Display scores for features and noise\n",
    "print(f'{\"Label\":18s}: Importance')\n",
    "print(26*'-')\n",
    "for val, name in sorted(zip(rfc.feature_importances_, X_train.columns), \n",
    "                        key=lambda x: x[0], reverse=True):\n",
    "    print(f'{name:>18}: {100.0*val:05.2f}%')"
   ]
  },
  {
   "cell_type": "code",
   "execution_count": 54,
   "metadata": {},
   "outputs": [
    {
     "name": "stdout",
     "output_type": "stream",
     "text": [
      "Most important labels\n",
      "--------------------\n",
      " loan_amnt\n",
      "  int_rate\n",
      "annual_inc\n",
      "       dti\n",
      " inq_6_bin\n",
      "grade_label\n",
      "term_label\n",
      "verification_status_label\n"
     ]
    }
   ],
   "source": [
    "from sklearn.feature_selection import SelectFromModel\n",
    "\n",
    "# Create model, since we are using a prefit classifier \n",
    "# (from above), we call transform directly\n",
    "svc = LinearSVC(random_state=23)\n",
    "svc.fit(X_train_t, y_repaid_train_t)\n",
    "sfm = SelectFromModel(svc, threshold=\"0.1*mean\", prefit=True)\n",
    "#features_new = sfm.transform(X_train_t)\n",
    "\n",
    "# Display scores for features and noise\n",
    "print('Most important labels')\n",
    "print(20*'-')\n",
    "for spt, name in zip(sfm.get_support(), X_train.columns):\n",
    "    if spt:\n",
    "        print(f'{name:>10}')"
   ]
  },
  {
   "cell_type": "code",
   "execution_count": 55,
   "metadata": {},
   "outputs": [
    {
     "name": "stdout",
     "output_type": "stream",
     "text": [
      "Linear SVC Training Time: 0:00:09.206504\n",
      "training score: 0.8527311151217857\n",
      "testing score: 0.8473526976928337\n",
      "              precision    recall  f1-score   support\n",
      "\n",
      "  Not-Repaid       0.00      0.00      0.00      4241\n",
      "      Repaid       0.85      1.00      0.92     23542\n",
      "\n",
      "    accuracy                           0.85     27783\n",
      "   macro avg       0.42      0.50      0.46     27783\n",
      "weighted avg       0.72      0.85      0.78     27783\n",
      "\n"
     ]
    }
   ],
   "source": [
    "#try drop annual_inc\n",
    "svc =  LinearSVC(class_weight='balanced', random_state=23)\n",
    "t1 = datetime.now()\n",
    "svc.fit(X_train.drop(['annual_inc'], axis=1), y_repaid_train_t)\n",
    "print (\"Linear SVC Training Time:\", datetime.now() - t1)\n",
    "print_repaid_score(svc, X_train.drop(['annual_inc'], axis=1), y_repaid_train_t, X_test.drop(['annual_inc'], axis=1), y_repaid_test_t)"
   ]
  },
  {
   "cell_type": "code",
   "execution_count": 56,
   "metadata": {},
   "outputs": [
    {
     "name": "stdout",
     "output_type": "stream",
     "text": [
      "-0.15857256080814675\n"
     ]
    }
   ],
   "source": [
    "#regression\n",
    "from sklearn.ensemble import RandomForestRegressor\n",
    "rft = RandomForestRegressor(n_estimators=20)\n",
    "rft.fit(X_train_t, y_return_train_t)\n",
    "print(rft.score(X_test_t, y_return_test_t))"
   ]
  },
  {
   "cell_type": "code",
   "execution_count": 57,
   "metadata": {},
   "outputs": [
    {
     "name": "stdout",
     "output_type": "stream",
     "text": [
      "0.008686496784119702\n"
     ]
    }
   ],
   "source": [
    "from sklearn.linear_model import LinearRegression\n",
    "rft = LinearRegression()\n",
    "rft.fit(X_train, y_return_train)\n",
    "print(rft.score(X_test, y_return_test))"
   ]
  },
  {
   "cell_type": "code",
   "execution_count": 58,
   "metadata": {},
   "outputs": [
    {
     "name": "stdout",
     "output_type": "stream",
     "text": [
      "-0.15381453134428003\n"
     ]
    }
   ],
   "source": [
    "from sklearn.svm import LinearSVR\n",
    "keep_cols = ['int_rate','grade_label','term_label']\n",
    "rft = LinearSVR(random_state=23)\n",
    "rft.fit(X_train_t[keep_cols], y_return_train)\n",
    "print(rft.score(X_test_t[keep_cols], y_return_test_t))"
   ]
  },
  {
   "cell_type": "code",
   "execution_count": 59,
   "metadata": {},
   "outputs": [
    {
     "data": {
      "text/html": [
       "<div>\n",
       "<style scoped>\n",
       "    .dataframe tbody tr th:only-of-type {\n",
       "        vertical-align: middle;\n",
       "    }\n",
       "\n",
       "    .dataframe tbody tr th {\n",
       "        vertical-align: top;\n",
       "    }\n",
       "\n",
       "    .dataframe thead th {\n",
       "        text-align: right;\n",
       "    }\n",
       "</style>\n",
       "<table border=\"1\" class=\"dataframe\">\n",
       "  <thead>\n",
       "    <tr style=\"text-align: right;\">\n",
       "      <th></th>\n",
       "      <th>Intercept</th>\n",
       "      <th>C(term)[T.60 months]</th>\n",
       "      <th>C(grade)[T.B]</th>\n",
       "      <th>C(grade)[T.C]</th>\n",
       "      <th>C(grade)[T.D]</th>\n",
       "      <th>C(grade)[T.E]</th>\n",
       "      <th>C(grade)[T.F]</th>\n",
       "      <th>C(grade)[T.G]</th>\n",
       "      <th>C(verification_status)[T.Source Verified]</th>\n",
       "      <th>C(verification_status)[T.Verified]</th>\n",
       "      <th>loan_amnt</th>\n",
       "      <th>int_rate</th>\n",
       "      <th>annual_inc</th>\n",
       "      <th>dti</th>\n",
       "      <th>inq_last_6mths</th>\n",
       "    </tr>\n",
       "  </thead>\n",
       "  <tbody>\n",
       "    <tr>\n",
       "      <td>58201</td>\n",
       "      <td>1.0</td>\n",
       "      <td>0.0</td>\n",
       "      <td>0.0</td>\n",
       "      <td>0.0</td>\n",
       "      <td>1.0</td>\n",
       "      <td>0.0</td>\n",
       "      <td>0.0</td>\n",
       "      <td>0.0</td>\n",
       "      <td>0.0</td>\n",
       "      <td>1.0</td>\n",
       "      <td>11700.0</td>\n",
       "      <td>18.49</td>\n",
       "      <td>87622.0</td>\n",
       "      <td>8.34</td>\n",
       "      <td>0.0</td>\n",
       "    </tr>\n",
       "    <tr>\n",
       "      <td>43237</td>\n",
       "      <td>1.0</td>\n",
       "      <td>0.0</td>\n",
       "      <td>0.0</td>\n",
       "      <td>0.0</td>\n",
       "      <td>1.0</td>\n",
       "      <td>0.0</td>\n",
       "      <td>0.0</td>\n",
       "      <td>0.0</td>\n",
       "      <td>0.0</td>\n",
       "      <td>0.0</td>\n",
       "      <td>3500.0</td>\n",
       "      <td>18.49</td>\n",
       "      <td>45000.0</td>\n",
       "      <td>14.40</td>\n",
       "      <td>0.0</td>\n",
       "    </tr>\n",
       "    <tr>\n",
       "      <td>54225</td>\n",
       "      <td>1.0</td>\n",
       "      <td>0.0</td>\n",
       "      <td>0.0</td>\n",
       "      <td>0.0</td>\n",
       "      <td>0.0</td>\n",
       "      <td>0.0</td>\n",
       "      <td>0.0</td>\n",
       "      <td>0.0</td>\n",
       "      <td>0.0</td>\n",
       "      <td>0.0</td>\n",
       "      <td>10000.0</td>\n",
       "      <td>6.03</td>\n",
       "      <td>46000.0</td>\n",
       "      <td>9.58</td>\n",
       "      <td>0.0</td>\n",
       "    </tr>\n",
       "    <tr>\n",
       "      <td>95147</td>\n",
       "      <td>1.0</td>\n",
       "      <td>0.0</td>\n",
       "      <td>0.0</td>\n",
       "      <td>0.0</td>\n",
       "      <td>0.0</td>\n",
       "      <td>0.0</td>\n",
       "      <td>0.0</td>\n",
       "      <td>0.0</td>\n",
       "      <td>0.0</td>\n",
       "      <td>1.0</td>\n",
       "      <td>20050.0</td>\n",
       "      <td>7.90</td>\n",
       "      <td>40000.0</td>\n",
       "      <td>20.85</td>\n",
       "      <td>0.0</td>\n",
       "    </tr>\n",
       "    <tr>\n",
       "      <td>55969</td>\n",
       "      <td>1.0</td>\n",
       "      <td>0.0</td>\n",
       "      <td>0.0</td>\n",
       "      <td>1.0</td>\n",
       "      <td>0.0</td>\n",
       "      <td>0.0</td>\n",
       "      <td>0.0</td>\n",
       "      <td>0.0</td>\n",
       "      <td>1.0</td>\n",
       "      <td>0.0</td>\n",
       "      <td>25450.0</td>\n",
       "      <td>16.29</td>\n",
       "      <td>57000.0</td>\n",
       "      <td>29.87</td>\n",
       "      <td>3.0</td>\n",
       "    </tr>\n",
       "  </tbody>\n",
       "</table>\n",
       "</div>"
      ],
      "text/plain": [
       "       Intercept  C(term)[T.60 months]  C(grade)[T.B]  C(grade)[T.C]  \\\n",
       "58201        1.0                   0.0            0.0            0.0   \n",
       "43237        1.0                   0.0            0.0            0.0   \n",
       "54225        1.0                   0.0            0.0            0.0   \n",
       "95147        1.0                   0.0            0.0            0.0   \n",
       "55969        1.0                   0.0            0.0            1.0   \n",
       "\n",
       "       C(grade)[T.D]  C(grade)[T.E]  C(grade)[T.F]  C(grade)[T.G]  \\\n",
       "58201            1.0            0.0            0.0            0.0   \n",
       "43237            1.0            0.0            0.0            0.0   \n",
       "54225            0.0            0.0            0.0            0.0   \n",
       "95147            0.0            0.0            0.0            0.0   \n",
       "55969            0.0            0.0            0.0            0.0   \n",
       "\n",
       "       C(verification_status)[T.Source Verified]  \\\n",
       "58201                                        0.0   \n",
       "43237                                        0.0   \n",
       "54225                                        0.0   \n",
       "95147                                        0.0   \n",
       "55969                                        1.0   \n",
       "\n",
       "       C(verification_status)[T.Verified]  loan_amnt  int_rate  annual_inc  \\\n",
       "58201                                 1.0    11700.0     18.49     87622.0   \n",
       "43237                                 0.0     3500.0     18.49     45000.0   \n",
       "54225                                 0.0    10000.0      6.03     46000.0   \n",
       "95147                                 1.0    20050.0      7.90     40000.0   \n",
       "55969                                 0.0    25450.0     16.29     57000.0   \n",
       "\n",
       "         dti  inq_last_6mths  \n",
       "58201   8.34             0.0  \n",
       "43237  14.40             0.0  \n",
       "54225   9.58             0.0  \n",
       "95147  20.85             0.0  \n",
       "55969  29.87             3.0  "
      ]
     },
     "execution_count": 59,
     "metadata": {},
     "output_type": "execute_result"
    }
   ],
   "source": [
    "import patsy as pts \n",
    "\n",
    "y, x = pts.dmatrices('repaid ~ loan_amnt + int_rate + annual_inc + dti + inq_last_6mths + ' +\n",
    "                     'C(term) + C(grade) + C(verification_status)',\n",
    "                     data=loan, return_type='dataframe')\n",
    "\n",
    "x.sample(5)"
   ]
  },
  {
   "cell_type": "code",
   "execution_count": 60,
   "metadata": {},
   "outputs": [],
   "source": [
    "#split data\n",
    "from sklearn.model_selection import train_test_split\n",
    "X_train_d, X_test_d, y_repaid_train_d, y_repaid_test_d, y_return_train_d, y_return_test_d = \\\n",
    "    train_test_split(x, y_repaid, y_return, test_size=0.3, random_state=23)"
   ]
  },
  {
   "cell_type": "code",
   "execution_count": 61,
   "metadata": {},
   "outputs": [
    {
     "name": "stdout",
     "output_type": "stream",
     "text": [
      "Linear SVP Training Time: 0:00:12.062035\n",
      "training score: 0.6713406451015781\n",
      "testing score: 0.6707698952596912\n",
      "              precision    recall  f1-score   support\n",
      "\n",
      "  Not-Repaid       0.25      0.57      0.35      4241\n",
      "      Repaid       0.90      0.69      0.78     23542\n",
      "\n",
      "    accuracy                           0.67     27783\n",
      "   macro avg       0.57      0.63      0.56     27783\n",
      "weighted avg       0.80      0.67      0.71     27783\n",
      "\n"
     ]
    }
   ],
   "source": [
    "from sklearn.pipeline import Pipeline\n",
    "from sklearn.svm import LinearSVC\n",
    "from datetime import datetime\n",
    "#svp = Pipeline([('ss', StandardScaler()), ('svc', LinearSVC(class_weight=None, random_state=23))])\n",
    "svp = Pipeline([('ss', StandardScaler()), ('svc', LinearSVC(class_weight='balanced', random_state=23))])\n",
    "#svp = Pipeline([('ss', Normalizer()), ('svc', LinearSVC(class_weight='balanced', random_state=23))])\n",
    "#svp = Pipeline([('svc', LinearSVC(class_weight='balanced', random_state=23))])\n",
    "t1 = datetime.now()\n",
    "svp.fit(X_train, y_repaid_train)\n",
    "print (\"Linear SVP Training Time:\", datetime.now() - t1)\n",
    "print_repaid_score(svp, X_train, y_repaid_train, X_test, y_repaid_test)"
   ]
  },
  {
   "cell_type": "code",
   "execution_count": 62,
   "metadata": {},
   "outputs": [
    {
     "name": "stdout",
     "output_type": "stream",
     "text": [
      "-0.048516630154430196\n"
     ]
    }
   ],
   "source": [
    "from sklearn.ensemble import RandomForestRegressor\n",
    "rft = RandomForestRegressor(n_estimators=100)\n",
    "rft.fit(X_train_d, y_return_train_d)\n",
    "print(rft.score(X_test_d, y_return_test_d))"
   ]
  },
  {
   "cell_type": "code",
   "execution_count": 63,
   "metadata": {},
   "outputs": [
    {
     "name": "stdout",
     "output_type": "stream",
     "text": [
      "0.011641177092859167\n",
      "0.010370801570413701\n"
     ]
    }
   ],
   "source": [
    "from sklearn.linear_model import LinearRegression\n",
    "rft = LinearRegression()\n",
    "rft.fit(X_train_d, y_return_train_d)\n",
    "print(rft.score(X_train_d, y_return_train_d))\n",
    "print(rft.score(X_test_d, y_return_test_d))"
   ]
  },
  {
   "cell_type": "code",
   "execution_count": 64,
   "metadata": {},
   "outputs": [
    {
     "name": "stdout",
     "output_type": "stream",
     "text": [
      "-0.19991770981897372\n"
     ]
    }
   ],
   "source": [
    "from sklearn.ensemble import RandomForestRegressor\n",
    "rft = RandomForestRegressor(n_estimators=100)\n",
    "rft.fit(X_return_train, y_return_train)\n",
    "print(rft.score(X_return_test, y_return_test))"
   ]
  },
  {
   "cell_type": "code",
   "execution_count": 65,
   "metadata": {},
   "outputs": [
    {
     "name": "stdout",
     "output_type": "stream",
     "text": [
      "-2.71851174357779e+33\n"
     ]
    }
   ],
   "source": [
    "from sklearn.svm import LinearSVR\n",
    "#keep_cols = ['int_rate','grade_label','term_label']\n",
    "rft = LinearSVR(random_state=23)\n",
    "rft.fit(X_return_train, y_return_train)\n",
    "print(rft.score(X_return_test, y_return_test))"
   ]
  },
  {
   "cell_type": "code",
   "execution_count": 66,
   "metadata": {},
   "outputs": [
    {
     "name": "stdout",
     "output_type": "stream",
     "text": [
      "0.00017821667239958927\n"
     ]
    }
   ],
   "source": [
    "from sklearn.linear_model import LinearRegression\n",
    "rft = LinearRegression()\n",
    "rft.fit(X_return_train, y_return_train)\n",
    "print(rft.score(X_return_test, y_return_test))"
   ]
  },
  {
   "cell_type": "code",
   "execution_count": 67,
   "metadata": {},
   "outputs": [
    {
     "name": "stdout",
     "output_type": "stream",
     "text": [
      "        term_label score = 20.658\n",
      "          int_rate score = 19.119\n",
      "           dti_bin score = 2.851\n",
      "     revol_bal_bin score = 1.610\n",
      "         inq_6_bin score = 1.337\n",
      "    annual_inc_bin score = 1.269\n",
      "verification_status_label score = 1.101\n",
      "      open_acc_bin score = 1.049\n"
     ]
    }
   ],
   "source": [
    "#feature selection for regression\n",
    "from sklearn.feature_selection import SelectKBest\n",
    "\n",
    "skb = SelectKBest(k='all')\n",
    "\n",
    "fs = skb.fit(X_return_train, y_return_train)\n",
    "for var, name in sorted(zip(fs.scores_, X_return_train.columns), reverse=True):\n",
    "    print(f'{name:>18} score = {var:5.3f}')\n"
   ]
  },
  {
   "cell_type": "code",
   "execution_count": 68,
   "metadata": {},
   "outputs": [
    {
     "name": "stdout",
     "output_type": "stream",
     "text": [
      "     revol_bal_bin rank = 1.000\n",
      "        term_label rank = 2.000\n",
      "          int_rate rank = 3.000\n",
      "verification_status_label rank = 4.000\n",
      "         inq_6_bin rank = 5.000\n",
      "           dti_bin rank = 6.000\n",
      "      open_acc_bin rank = 7.000\n",
      "    annual_inc_bin rank = 8.000\n"
     ]
    }
   ],
   "source": [
    "from sklearn.svm import LinearSVC\n",
    "from sklearn.feature_selection import RFE\n",
    "\n",
    "# Create classifier\n",
    "#svc = LinearSVC(random_state=23)\n",
    "svc = LinearSVR(random_state=23)\n",
    "\n",
    "# Perform RFE, select top feature (but rank all)\n",
    "rfe = RFE(svc, 1)\n",
    "\n",
    "# Fit features plus noise\n",
    "fs = rfe.fit(X_return_train, y_return_train)\n",
    "    \n",
    "# Display scores for features and noise\n",
    "for var, name in sorted(zip(fs.ranking_, X_return_train.columns), \n",
    "                        key=lambda x: x[0]):\n",
    "    print(f'{name:>18} rank = {var:5.3f}')"
   ]
  },
  {
   "cell_type": "code",
   "execution_count": 69,
   "metadata": {},
   "outputs": [
    {
     "name": "stdout",
     "output_type": "stream",
     "text": [
      "     revol_bal_bin rank = 1.000\n",
      "           dti_bin rank = 2.000\n",
      "    annual_inc_bin rank = 3.000\n",
      "          int_rate rank = 4.000\n",
      "verification_status_label rank = 5.000\n",
      "        term_label rank = 6.000\n",
      "         inq_6_bin rank = 7.000\n",
      "      open_acc_bin rank = 8.000\n"
     ]
    }
   ],
   "source": [
    "from sklearn.linear_model import LinearRegression\n",
    "from sklearn.feature_selection import RFE\n",
    "\n",
    "# Create classifier\n",
    "#svc = LinearSVC(random_state=23)\n",
    "svc = LinearRegression()\n",
    "\n",
    "# Perform RFE, select top feature (but rank all)\n",
    "rfe = RFE(svc, 1)\n",
    "\n",
    "# Fit features plus noise\n",
    "fs = rfe.fit(X_return_train, y_return_train)\n",
    "    \n",
    "# Display scores for features and noise\n",
    "for var, name in sorted(zip(fs.ranking_, X_return_train.columns), \n",
    "                        key=lambda x: x[0]):\n",
    "    print(f'{name:>18} rank = {var:5.3f}')"
   ]
  },
  {
   "cell_type": "code",
   "execution_count": 70,
   "metadata": {},
   "outputs": [
    {
     "name": "stdout",
     "output_type": "stream",
     "text": [
      "-0.00023514909267241535\n"
     ]
    }
   ],
   "source": [
    "from sklearn.svm import LinearSVR\n",
    "keep_cols = ['int_rate','term_label','inq_6_bin', 'open_acc_bin']\n",
    "#keep_cols = ['term_label', 'int_rate']\n",
    "rft = LinearSVR(random_state=23)\n",
    "rft.fit(X_return_train[keep_cols], y_return_train)\n",
    "print(rft.score(X_return_test[keep_cols], y_return_test))"
   ]
  },
  {
   "cell_type": "code",
   "execution_count": 71,
   "metadata": {},
   "outputs": [
    {
     "name": "stdout",
     "output_type": "stream",
     "text": [
      "0.002754013157222013\n"
     ]
    }
   ],
   "source": [
    "from sklearn.linear_model import LinearRegression\n",
    "#keep_cols = ['revol_bal_bin','dti_bin','annual_inc_bin', 'int_rate']\n",
    "keep_cols = ['term_label', 'int_rate']\n",
    "rft = LinearRegression()\n",
    "rft.fit(X_return_train[keep_cols], y_return_train)\n",
    "print(rft.score(X_return_test[keep_cols], y_return_test))"
   ]
  }
 ],
 "metadata": {
  "kernelspec": {
   "display_name": "Python 3",
   "language": "python",
   "name": "python3"
  },
  "language_info": {
   "codemirror_mode": {
    "name": "ipython",
    "version": 3
   },
   "file_extension": ".py",
   "mimetype": "text/x-python",
   "name": "python",
   "nbconvert_exporter": "python",
   "pygments_lexer": "ipython3",
   "version": "3.7.3"
  }
 },
 "nbformat": 4,
 "nbformat_minor": 2
}
