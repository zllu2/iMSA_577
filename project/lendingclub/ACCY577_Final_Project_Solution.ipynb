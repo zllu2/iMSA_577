{
 "cells": [
  {
   "cell_type": "markdown",
   "metadata": {},
   "source": [
    "# ACCY 577 Group Project  \n",
    "\n",
    "## Overview \n",
    "-----\n",
    "\n",
    "After several years of operation, the Lending Club&trade; wants to understand how the individual components (i.e., features) of a loan, such as the amount loaned, the term length, or the interest rate, affect the profitability of a making a specific loan. In particular, they're interested in understanding how likely a loan is to be repaid. In this project, you will use the provided loans dataset to help the Lending Club&trade; figure out which loans are most profitable.\n"
   ]
  },
  {
   "cell_type": "markdown",
   "metadata": {},
   "source": [
    "## Criteria\n",
    "-----\n",
    "\n",
    "You will work in groups to analyze the data to make recommendations based on the `lending_club_2007_2011_6_states.csv` dataset. \n",
    "\n",
    "You will complete three tasks for this group project:\n",
    "1. A group report in the form of a Jupyter notebook,\n",
    "2. A video presentation where your group will present your results, and \n",
    "3. Peer evaluation of the contributions of each member of your group.\n",
    "\n",
    "Your final group report will be a single Jupyter notebook that will integrate Markdown, Python code, and the results from your code, such as data visualizations. Markdown cells should be used to explain any decisions you make regarding the data, to discuss any plots or visualizations generated in your notebook, and the results of your analysis. As a general guideline, the content should be written in a way that a fellow classmate (or an arbitrary data scientist/analyst) should be able to read your report and understand the results, implications, and processes that you followed to achieve your result.\n",
    "\n",
    "All group members should present in the video presentation. You can use presentation software such as MS Powerpoint. The presentations should cover the steps in your analytics process and highlight your results. You don't need to explain python code in the presentation. Focus on your analysis method and results. The presentation should take between eight to twelve minutes.\n",
    "\n",
    "### Rubric\n",
    "  - Notebook Report (60%)\n",
    "  - Video presentation (30%)\n",
    "  - Peer assessment from your group-mates (10%)\n",
    "\n",
    "### General\n",
    "\n",
    "Your report should \n",
    "  1. use proper markdown.  \n",
    "  2. include all of the code used for your analysis.\n",
    "  3. plots should be properly labeled (eg., use axis labels and titles).\n",
    "  4. use a consistent style between graphs.\n",
    "\n",
    "-----"
   ]
  },
  {
   "cell_type": "markdown",
   "metadata": {},
   "source": [
    "## Project Framework"
   ]
  },
  {
   "cell_type": "code",
   "execution_count": 2,
   "metadata": {},
   "outputs": [],
   "source": [
    "%matplotlib inline\n",
    "\n",
    "import numpy as np\n",
    "import pandas as pd\n",
    "import seaborn as sns\n",
    "import matplotlib.pyplot as plt\n",
    "\n",
    "#display all dataframe columns in df.head()\n",
    "pd.options.display.max_columns = None\n",
    "#display long string in datafame\n",
    "pd.options.display.max_colwidth = 300\n",
    "\n",
    "#filter out warning messages\n",
    "import warnings\n",
    "warnings.filterwarnings('ignore')"
   ]
  },
  {
   "cell_type": "markdown",
   "metadata": {},
   "source": [
    "### Business Understanding\n",
    "\n",
    "#### Lending Club\n",
    "\n",
    "LendingClub is an American peer-to-peer lending company, headquartered in San Francisco, California. It is the world's largest peer-to-peer lending platform.\n",
    "\n",
    "LendingClub enables borrowers to create unsecured personal loans between \\\\$1,000 and \\\\$40,000. Investors can search and browse the loan listings on LendingClub website and select loans that they want to invest in based on the information supplied about the borrower, amount of loan, loan grade, and loan purpose. Investors make money from interest. LendingClub makes money by charging borrowers an origination fee and investors a service fee.\n",
    "\n",
    "For more information about the company please check out the wikipedia article about the [LendingClub](https://en.wikipedia.org/wiki/LendingClub).\n"
   ]
  },
  {
   "cell_type": "markdown",
   "metadata": {},
   "source": [
    "### Load Data and Data Dictionary"
   ]
  },
  {
   "cell_type": "code",
   "execution_count": 3,
   "metadata": {
    "scrolled": false
   },
   "outputs": [
    {
     "data": {
      "text/html": [
       "<div>\n",
       "<style scoped>\n",
       "    .dataframe tbody tr th:only-of-type {\n",
       "        vertical-align: middle;\n",
       "    }\n",
       "\n",
       "    .dataframe tbody tr th {\n",
       "        vertical-align: top;\n",
       "    }\n",
       "\n",
       "    .dataframe thead th {\n",
       "        text-align: right;\n",
       "    }\n",
       "</style>\n",
       "<table border=\"1\" class=\"dataframe\">\n",
       "  <thead>\n",
       "    <tr style=\"text-align: right;\">\n",
       "      <th></th>\n",
       "      <th>ColumnName</th>\n",
       "      <th>Description</th>\n",
       "    </tr>\n",
       "  </thead>\n",
       "  <tbody>\n",
       "    <tr>\n",
       "      <td>0</td>\n",
       "      <td>acc_now_delinq</td>\n",
       "      <td>The number of accounts on which the borrower is now delinquent.</td>\n",
       "    </tr>\n",
       "    <tr>\n",
       "      <td>1</td>\n",
       "      <td>addr_state</td>\n",
       "      <td>The state provided by the borrower in the loan application</td>\n",
       "    </tr>\n",
       "    <tr>\n",
       "      <td>2</td>\n",
       "      <td>annual_inc</td>\n",
       "      <td>The self-reported annual income provided by the borrower during registration.</td>\n",
       "    </tr>\n",
       "    <tr>\n",
       "      <td>3</td>\n",
       "      <td>application_type</td>\n",
       "      <td>Indicates whether the loan is an individual application or a joint application with two co-borrowers</td>\n",
       "    </tr>\n",
       "    <tr>\n",
       "      <td>4</td>\n",
       "      <td>chargeoff_within_12_mths</td>\n",
       "      <td>Number of charge-offs within 12 months</td>\n",
       "    </tr>\n",
       "    <tr>\n",
       "      <td>5</td>\n",
       "      <td>collection_recovery_fee</td>\n",
       "      <td>post charge off collection fee</td>\n",
       "    </tr>\n",
       "    <tr>\n",
       "      <td>6</td>\n",
       "      <td>collections_12_mths_ex_med</td>\n",
       "      <td>Number of collections in 12 months excluding medical collections</td>\n",
       "    </tr>\n",
       "    <tr>\n",
       "      <td>7</td>\n",
       "      <td>debt_settlement_flag</td>\n",
       "      <td>Flags whether or not the borrower, who has charged-off, is working with a debt-settlement company.</td>\n",
       "    </tr>\n",
       "    <tr>\n",
       "      <td>8</td>\n",
       "      <td>debt_settlement_flag_date</td>\n",
       "      <td>The most recent date that the Debt_Settlement_Flag has been set</td>\n",
       "    </tr>\n",
       "    <tr>\n",
       "      <td>9</td>\n",
       "      <td>delinq_2yrs</td>\n",
       "      <td>The number of 30+ days past-due incidences of delinquency in the borrower's credit file for the past 2 years</td>\n",
       "    </tr>\n",
       "    <tr>\n",
       "      <td>10</td>\n",
       "      <td>delinq_amnt</td>\n",
       "      <td>The past-due amount owed for the accounts on which the borrower is now delinquent.</td>\n",
       "    </tr>\n",
       "    <tr>\n",
       "      <td>11</td>\n",
       "      <td>disbursement_method</td>\n",
       "      <td>The method by which the borrower receives their loan. Possible values are: CASH, DIRECT_PAY</td>\n",
       "    </tr>\n",
       "    <tr>\n",
       "      <td>12</td>\n",
       "      <td>dti</td>\n",
       "      <td>A ratio calculated using the borrower’s total monthly debt payments on the total debt obligations, excluding mortgage and the requested LC loan, divided by the borrower’s self-reported monthly income.</td>\n",
       "    </tr>\n",
       "    <tr>\n",
       "      <td>13</td>\n",
       "      <td>earliest_cr_line</td>\n",
       "      <td>The month the borrower's earliest reported credit line was opened</td>\n",
       "    </tr>\n",
       "    <tr>\n",
       "      <td>14</td>\n",
       "      <td>emp_length</td>\n",
       "      <td>Employment length in years. Possible values are between 0 and 10 where 0 means less than one year and 10 means ten or more years.</td>\n",
       "    </tr>\n",
       "    <tr>\n",
       "      <td>15</td>\n",
       "      <td>emp_title</td>\n",
       "      <td>The job title supplied by the Borrower when applying for the loan.*</td>\n",
       "    </tr>\n",
       "    <tr>\n",
       "      <td>16</td>\n",
       "      <td>funded_amnt</td>\n",
       "      <td>The total amount committed to that loan at that point in time.</td>\n",
       "    </tr>\n",
       "    <tr>\n",
       "      <td>17</td>\n",
       "      <td>funded_amnt_inv</td>\n",
       "      <td>The total amount committed by investors for that loan at that point in time.</td>\n",
       "    </tr>\n",
       "    <tr>\n",
       "      <td>18</td>\n",
       "      <td>grade</td>\n",
       "      <td>LC assigned loan grade</td>\n",
       "    </tr>\n",
       "    <tr>\n",
       "      <td>19</td>\n",
       "      <td>hardship_flag</td>\n",
       "      <td>Flags whether or not the borrower is on a hardship plan</td>\n",
       "    </tr>\n",
       "    <tr>\n",
       "      <td>20</td>\n",
       "      <td>home_ownership</td>\n",
       "      <td>The home ownership status provided by the borrower during registration or obtained from the credit report. Our values are: RENT, OWN, MORTGAGE, OTHER</td>\n",
       "    </tr>\n",
       "    <tr>\n",
       "      <td>21</td>\n",
       "      <td>initial_list_status</td>\n",
       "      <td>The initial listing status of the loan. Possible values are – W, F</td>\n",
       "    </tr>\n",
       "    <tr>\n",
       "      <td>22</td>\n",
       "      <td>inq_last_6mths</td>\n",
       "      <td>The number of inquiries in past 6 months (excluding auto and mortgage inquiries)</td>\n",
       "    </tr>\n",
       "    <tr>\n",
       "      <td>23</td>\n",
       "      <td>installment</td>\n",
       "      <td>The monthly payment owed by the borrower if the loan originates.</td>\n",
       "    </tr>\n",
       "    <tr>\n",
       "      <td>24</td>\n",
       "      <td>int_rate</td>\n",
       "      <td>Interest Rate on the loan</td>\n",
       "    </tr>\n",
       "    <tr>\n",
       "      <td>25</td>\n",
       "      <td>issue_d</td>\n",
       "      <td>The month which the loan was funded</td>\n",
       "    </tr>\n",
       "    <tr>\n",
       "      <td>26</td>\n",
       "      <td>last_credit_pull_d</td>\n",
       "      <td>The most recent month LC pulled credit for this loan</td>\n",
       "    </tr>\n",
       "    <tr>\n",
       "      <td>27</td>\n",
       "      <td>last_pymnt_amnt</td>\n",
       "      <td>Last total payment amount received</td>\n",
       "    </tr>\n",
       "    <tr>\n",
       "      <td>28</td>\n",
       "      <td>last_pymnt_d</td>\n",
       "      <td>Last month payment was received</td>\n",
       "    </tr>\n",
       "    <tr>\n",
       "      <td>29</td>\n",
       "      <td>loan_amnt</td>\n",
       "      <td>The listed amount of the loan applied for by the borrower. If at some point in time, the credit department reduces the loan amount, then it will be reflected in this value.</td>\n",
       "    </tr>\n",
       "    <tr>\n",
       "      <td>30</td>\n",
       "      <td>loan_status</td>\n",
       "      <td>Current status of the loan</td>\n",
       "    </tr>\n",
       "    <tr>\n",
       "      <td>31</td>\n",
       "      <td>mths_since_last_delinq</td>\n",
       "      <td>The number of months since the borrower's last delinquency.</td>\n",
       "    </tr>\n",
       "    <tr>\n",
       "      <td>32</td>\n",
       "      <td>mths_since_last_major_derog</td>\n",
       "      <td>Months since most recent 90-day or worse rating</td>\n",
       "    </tr>\n",
       "    <tr>\n",
       "      <td>33</td>\n",
       "      <td>mths_since_last_record</td>\n",
       "      <td>The number of months since the last public record.</td>\n",
       "    </tr>\n",
       "    <tr>\n",
       "      <td>34</td>\n",
       "      <td>next_pymnt_d</td>\n",
       "      <td>Next scheduled payment date</td>\n",
       "    </tr>\n",
       "    <tr>\n",
       "      <td>35</td>\n",
       "      <td>open_acc</td>\n",
       "      <td>The number of open credit lines in the borrower's credit file.</td>\n",
       "    </tr>\n",
       "    <tr>\n",
       "      <td>36</td>\n",
       "      <td>out_prncp</td>\n",
       "      <td>Remaining outstanding principal for total amount funded</td>\n",
       "    </tr>\n",
       "    <tr>\n",
       "      <td>37</td>\n",
       "      <td>out_prncp_inv</td>\n",
       "      <td>Remaining outstanding principal for portion of total amount funded by investors</td>\n",
       "    </tr>\n",
       "    <tr>\n",
       "      <td>38</td>\n",
       "      <td>policy_code</td>\n",
       "      <td>publicly available policy_code=1\\nnew products not publicly available policy_code=2</td>\n",
       "    </tr>\n",
       "    <tr>\n",
       "      <td>39</td>\n",
       "      <td>pub_rec</td>\n",
       "      <td>Number of derogatory public records</td>\n",
       "    </tr>\n",
       "    <tr>\n",
       "      <td>40</td>\n",
       "      <td>pub_rec_bankruptcies</td>\n",
       "      <td>Number of public record bankruptcies</td>\n",
       "    </tr>\n",
       "    <tr>\n",
       "      <td>41</td>\n",
       "      <td>purpose</td>\n",
       "      <td>A category provided by the borrower for the loan request.</td>\n",
       "    </tr>\n",
       "    <tr>\n",
       "      <td>42</td>\n",
       "      <td>pymnt_plan</td>\n",
       "      <td>Indicates if a payment plan has been put in place for the loan</td>\n",
       "    </tr>\n",
       "    <tr>\n",
       "      <td>43</td>\n",
       "      <td>recoveries</td>\n",
       "      <td>post charge off gross recovery</td>\n",
       "    </tr>\n",
       "    <tr>\n",
       "      <td>44</td>\n",
       "      <td>revol_bal</td>\n",
       "      <td>Total credit revolving balance</td>\n",
       "    </tr>\n",
       "    <tr>\n",
       "      <td>45</td>\n",
       "      <td>revol_util</td>\n",
       "      <td>Revolving line utilization rate, or the amount of credit the borrower is using relative to all available revolving credit.</td>\n",
       "    </tr>\n",
       "    <tr>\n",
       "      <td>46</td>\n",
       "      <td>sub_grade</td>\n",
       "      <td>LC assigned loan subgrade</td>\n",
       "    </tr>\n",
       "    <tr>\n",
       "      <td>47</td>\n",
       "      <td>tax_liens</td>\n",
       "      <td>Number of tax liens</td>\n",
       "    </tr>\n",
       "    <tr>\n",
       "      <td>48</td>\n",
       "      <td>term</td>\n",
       "      <td>The number of payments on the loan. Values are in months and can be either 36 or 60.</td>\n",
       "    </tr>\n",
       "    <tr>\n",
       "      <td>49</td>\n",
       "      <td>title</td>\n",
       "      <td>The loan title provided by the borrower</td>\n",
       "    </tr>\n",
       "    <tr>\n",
       "      <td>50</td>\n",
       "      <td>total_acc</td>\n",
       "      <td>The total number of credit lines currently in the borrower's credit file</td>\n",
       "    </tr>\n",
       "    <tr>\n",
       "      <td>51</td>\n",
       "      <td>total_pymnt</td>\n",
       "      <td>Payments received to date for total amount funded</td>\n",
       "    </tr>\n",
       "    <tr>\n",
       "      <td>52</td>\n",
       "      <td>total_pymnt_inv</td>\n",
       "      <td>Payments received to date for portion of total amount funded by investors</td>\n",
       "    </tr>\n",
       "    <tr>\n",
       "      <td>53</td>\n",
       "      <td>total_rec_int</td>\n",
       "      <td>Interest received to date</td>\n",
       "    </tr>\n",
       "    <tr>\n",
       "      <td>54</td>\n",
       "      <td>total_rec_late_fee</td>\n",
       "      <td>Late fees received to date</td>\n",
       "    </tr>\n",
       "    <tr>\n",
       "      <td>55</td>\n",
       "      <td>total_rec_prncp</td>\n",
       "      <td>Principal received to date</td>\n",
       "    </tr>\n",
       "    <tr>\n",
       "      <td>56</td>\n",
       "      <td>verification_status</td>\n",
       "      <td>Indicates if income was verified by LC, not verified, or if the income source was verified</td>\n",
       "    </tr>\n",
       "    <tr>\n",
       "      <td>57</td>\n",
       "      <td>zip_code</td>\n",
       "      <td>The first 3 numbers of the zip code provided by the borrower in the loan application.</td>\n",
       "    </tr>\n",
       "  </tbody>\n",
       "</table>\n",
       "</div>"
      ],
      "text/plain": [
       "                     ColumnName  \\\n",
       "0                acc_now_delinq   \n",
       "1                    addr_state   \n",
       "2                    annual_inc   \n",
       "3              application_type   \n",
       "4      chargeoff_within_12_mths   \n",
       "5       collection_recovery_fee   \n",
       "6    collections_12_mths_ex_med   \n",
       "7          debt_settlement_flag   \n",
       "8     debt_settlement_flag_date   \n",
       "9                   delinq_2yrs   \n",
       "10                  delinq_amnt   \n",
       "11          disbursement_method   \n",
       "12                          dti   \n",
       "13             earliest_cr_line   \n",
       "14                   emp_length   \n",
       "15                    emp_title   \n",
       "16                  funded_amnt   \n",
       "17              funded_amnt_inv   \n",
       "18                        grade   \n",
       "19                hardship_flag   \n",
       "20               home_ownership   \n",
       "21          initial_list_status   \n",
       "22               inq_last_6mths   \n",
       "23                  installment   \n",
       "24                     int_rate   \n",
       "25                      issue_d   \n",
       "26           last_credit_pull_d   \n",
       "27              last_pymnt_amnt   \n",
       "28                 last_pymnt_d   \n",
       "29                    loan_amnt   \n",
       "30                  loan_status   \n",
       "31       mths_since_last_delinq   \n",
       "32  mths_since_last_major_derog   \n",
       "33       mths_since_last_record   \n",
       "34                 next_pymnt_d   \n",
       "35                     open_acc   \n",
       "36                    out_prncp   \n",
       "37                out_prncp_inv   \n",
       "38                  policy_code   \n",
       "39                      pub_rec   \n",
       "40         pub_rec_bankruptcies   \n",
       "41                      purpose   \n",
       "42                   pymnt_plan   \n",
       "43                   recoveries   \n",
       "44                    revol_bal   \n",
       "45                   revol_util   \n",
       "46                    sub_grade   \n",
       "47                    tax_liens   \n",
       "48                         term   \n",
       "49                        title   \n",
       "50                    total_acc   \n",
       "51                  total_pymnt   \n",
       "52              total_pymnt_inv   \n",
       "53                total_rec_int   \n",
       "54           total_rec_late_fee   \n",
       "55              total_rec_prncp   \n",
       "56          verification_status   \n",
       "57                     zip_code   \n",
       "\n",
       "                                                                                                                                                                                                 Description  \n",
       "0                                                                                                                                            The number of accounts on which the borrower is now delinquent.  \n",
       "1                                                                                                                                                 The state provided by the borrower in the loan application  \n",
       "2                                                                                                                              The self-reported annual income provided by the borrower during registration.  \n",
       "3                                                                                                       Indicates whether the loan is an individual application or a joint application with two co-borrowers  \n",
       "4                                                                                                                                                                     Number of charge-offs within 12 months  \n",
       "5                                                                                                                                                                             post charge off collection fee  \n",
       "6                                                                                                                                           Number of collections in 12 months excluding medical collections  \n",
       "7                                                                                                         Flags whether or not the borrower, who has charged-off, is working with a debt-settlement company.  \n",
       "8                                                                                                                                          The most recent date that the Debt_Settlement_Flag has been set    \n",
       "9                                                                                               The number of 30+ days past-due incidences of delinquency in the borrower's credit file for the past 2 years  \n",
       "10                                                                                                                        The past-due amount owed for the accounts on which the borrower is now delinquent.  \n",
       "11                                                                                                               The method by which the borrower receives their loan. Possible values are: CASH, DIRECT_PAY  \n",
       "12  A ratio calculated using the borrower’s total monthly debt payments on the total debt obligations, excluding mortgage and the requested LC loan, divided by the borrower’s self-reported monthly income.  \n",
       "13                                                                                                                                         The month the borrower's earliest reported credit line was opened  \n",
       "14                                                                        Employment length in years. Possible values are between 0 and 10 where 0 means less than one year and 10 means ten or more years.   \n",
       "15                                                                                                                                       The job title supplied by the Borrower when applying for the loan.*  \n",
       "16                                                                                                                                            The total amount committed to that loan at that point in time.  \n",
       "17                                                                                                                              The total amount committed by investors for that loan at that point in time.  \n",
       "18                                                                                                                                                                                    LC assigned loan grade  \n",
       "19                                                                                                                                                   Flags whether or not the borrower is on a hardship plan  \n",
       "20                                                     The home ownership status provided by the borrower during registration or obtained from the credit report. Our values are: RENT, OWN, MORTGAGE, OTHER  \n",
       "21                                                                                                                                        The initial listing status of the loan. Possible values are – W, F  \n",
       "22                                                                                                                          The number of inquiries in past 6 months (excluding auto and mortgage inquiries)  \n",
       "23                                                                                                                                          The monthly payment owed by the borrower if the loan originates.  \n",
       "24                                                                                                                                                                                 Interest Rate on the loan  \n",
       "25                                                                                                                                                                       The month which the loan was funded  \n",
       "26                                                                                                                                                      The most recent month LC pulled credit for this loan  \n",
       "27                                                                                                                                                                        Last total payment amount received  \n",
       "28                                                                                                                                                                           Last month payment was received  \n",
       "29                              The listed amount of the loan applied for by the borrower. If at some point in time, the credit department reduces the loan amount, then it will be reflected in this value.  \n",
       "30                                                                                                                                                                                Current status of the loan  \n",
       "31                                                                                                                                               The number of months since the borrower's last delinquency.  \n",
       "32                                                                                                                                                           Months since most recent 90-day or worse rating  \n",
       "33                                                                                                                                                        The number of months since the last public record.  \n",
       "34                                                                                                                                                                               Next scheduled payment date  \n",
       "35                                                                                                                                            The number of open credit lines in the borrower's credit file.  \n",
       "36                                                                                                                                                   Remaining outstanding principal for total amount funded  \n",
       "37                                                                                                                           Remaining outstanding principal for portion of total amount funded by investors  \n",
       "38                                                                                                                       publicly available policy_code=1\\nnew products not publicly available policy_code=2  \n",
       "39                                                                                                                                                                       Number of derogatory public records  \n",
       "40                                                                                                                                                                      Number of public record bankruptcies  \n",
       "41                                                                                                                                                A category provided by the borrower for the loan request.   \n",
       "42                                                                                                                                            Indicates if a payment plan has been put in place for the loan  \n",
       "43                                                                                                                                                                            post charge off gross recovery  \n",
       "44                                                                                                                                                                            Total credit revolving balance  \n",
       "45                                                                                Revolving line utilization rate, or the amount of credit the borrower is using relative to all available revolving credit.  \n",
       "46                                                                                                                                                                                 LC assigned loan subgrade  \n",
       "47                                                                                                                                                                                       Number of tax liens  \n",
       "48                                                                                                                      The number of payments on the loan. Values are in months and can be either 36 or 60.  \n",
       "49                                                                                                                                                                   The loan title provided by the borrower  \n",
       "50                                                                                                                                  The total number of credit lines currently in the borrower's credit file  \n",
       "51                                                                                                                                                         Payments received to date for total amount funded  \n",
       "52                                                                                                                                 Payments received to date for portion of total amount funded by investors  \n",
       "53                                                                                                                                                                                 Interest received to date  \n",
       "54                                                                                                                                                                                Late fees received to date  \n",
       "55                                                                                                                                                                                Principal received to date  \n",
       "56                                                                                                                Indicates if income was verified by LC, not verified, or if the income source was verified  \n",
       "57                                                                                                                     The first 3 numbers of the zip code provided by the borrower in the loan application.  "
      ]
     },
     "execution_count": 3,
     "metadata": {},
     "output_type": "execute_result"
    }
   ],
   "source": [
    "data_dict = pd.read_csv('data_dictionary.csv')\n",
    "data_dict"
   ]
  },
  {
   "cell_type": "code",
   "execution_count": 4,
   "metadata": {
    "scrolled": true
   },
   "outputs": [
    {
     "data": {
      "text/html": [
       "<div>\n",
       "<style scoped>\n",
       "    .dataframe tbody tr th:only-of-type {\n",
       "        vertical-align: middle;\n",
       "    }\n",
       "\n",
       "    .dataframe tbody tr th {\n",
       "        vertical-align: top;\n",
       "    }\n",
       "\n",
       "    .dataframe thead th {\n",
       "        text-align: right;\n",
       "    }\n",
       "</style>\n",
       "<table border=\"1\" class=\"dataframe\">\n",
       "  <thead>\n",
       "    <tr style=\"text-align: right;\">\n",
       "      <th></th>\n",
       "      <th>loan_amnt</th>\n",
       "      <th>funded_amnt</th>\n",
       "      <th>funded_amnt_inv</th>\n",
       "      <th>term</th>\n",
       "      <th>int_rate</th>\n",
       "      <th>installment</th>\n",
       "      <th>grade</th>\n",
       "      <th>sub_grade</th>\n",
       "      <th>emp_title</th>\n",
       "      <th>emp_length</th>\n",
       "      <th>home_ownership</th>\n",
       "      <th>annual_inc</th>\n",
       "      <th>verification_status</th>\n",
       "      <th>issue_d</th>\n",
       "      <th>loan_status</th>\n",
       "      <th>pymnt_plan</th>\n",
       "      <th>purpose</th>\n",
       "      <th>title</th>\n",
       "      <th>zip_code</th>\n",
       "      <th>addr_state</th>\n",
       "      <th>dti</th>\n",
       "      <th>delinq_2yrs</th>\n",
       "      <th>earliest_cr_line</th>\n",
       "      <th>inq_last_6mths</th>\n",
       "      <th>mths_since_last_delinq</th>\n",
       "      <th>mths_since_last_record</th>\n",
       "      <th>open_acc</th>\n",
       "      <th>pub_rec</th>\n",
       "      <th>revol_bal</th>\n",
       "      <th>revol_util</th>\n",
       "      <th>total_acc</th>\n",
       "      <th>initial_list_status</th>\n",
       "      <th>out_prncp</th>\n",
       "      <th>out_prncp_inv</th>\n",
       "      <th>total_pymnt</th>\n",
       "      <th>total_pymnt_inv</th>\n",
       "      <th>total_rec_prncp</th>\n",
       "      <th>total_rec_int</th>\n",
       "      <th>total_rec_late_fee</th>\n",
       "      <th>recoveries</th>\n",
       "      <th>collection_recovery_fee</th>\n",
       "      <th>last_pymnt_d</th>\n",
       "      <th>last_pymnt_amnt</th>\n",
       "      <th>next_pymnt_d</th>\n",
       "      <th>last_credit_pull_d</th>\n",
       "      <th>collections_12_mths_ex_med</th>\n",
       "      <th>mths_since_last_major_derog</th>\n",
       "      <th>policy_code</th>\n",
       "      <th>application_type</th>\n",
       "      <th>acc_now_delinq</th>\n",
       "      <th>chargeoff_within_12_mths</th>\n",
       "      <th>delinq_amnt</th>\n",
       "      <th>pub_rec_bankruptcies</th>\n",
       "      <th>tax_liens</th>\n",
       "      <th>hardship_flag</th>\n",
       "      <th>disbursement_method</th>\n",
       "      <th>debt_settlement_flag</th>\n",
       "      <th>debt_settlement_flag_date</th>\n",
       "    </tr>\n",
       "  </thead>\n",
       "  <tbody>\n",
       "    <tr>\n",
       "      <td>425</td>\n",
       "      <td>10000</td>\n",
       "      <td>10000</td>\n",
       "      <td>10000.0</td>\n",
       "      <td>36 months</td>\n",
       "      <td>14.27</td>\n",
       "      <td>343.09</td>\n",
       "      <td>C</td>\n",
       "      <td>C2</td>\n",
       "      <td>OEC Freight</td>\n",
       "      <td>4 years</td>\n",
       "      <td>RENT</td>\n",
       "      <td>40000.0</td>\n",
       "      <td>Source Verified</td>\n",
       "      <td>Dec-2011</td>\n",
       "      <td>Fully Paid</td>\n",
       "      <td>n</td>\n",
       "      <td>car</td>\n",
       "      <td>Car Loan</td>\n",
       "      <td>113xx</td>\n",
       "      <td>NY</td>\n",
       "      <td>18.69</td>\n",
       "      <td>0.0</td>\n",
       "      <td>Oct-2007</td>\n",
       "      <td>0.0</td>\n",
       "      <td>NaN</td>\n",
       "      <td>NaN</td>\n",
       "      <td>6.0</td>\n",
       "      <td>0.0</td>\n",
       "      <td>5689</td>\n",
       "      <td>87.5</td>\n",
       "      <td>7.0</td>\n",
       "      <td>f</td>\n",
       "      <td>0.0</td>\n",
       "      <td>0.0</td>\n",
       "      <td>11156.107513</td>\n",
       "      <td>11156.11</td>\n",
       "      <td>10000.00</td>\n",
       "      <td>1156.11</td>\n",
       "      <td>0.0</td>\n",
       "      <td>0.0</td>\n",
       "      <td>0.0</td>\n",
       "      <td>Nov-2012</td>\n",
       "      <td>7731.76</td>\n",
       "      <td>NaN</td>\n",
       "      <td>Nov-2017</td>\n",
       "      <td>0.0</td>\n",
       "      <td>NaN</td>\n",
       "      <td>1</td>\n",
       "      <td>Individual</td>\n",
       "      <td>0.0</td>\n",
       "      <td>0.0</td>\n",
       "      <td>0.0</td>\n",
       "      <td>0.0</td>\n",
       "      <td>0.0</td>\n",
       "      <td>N</td>\n",
       "      <td>Cash</td>\n",
       "      <td>N</td>\n",
       "      <td>NaN</td>\n",
       "    </tr>\n",
       "    <tr>\n",
       "      <td>5098</td>\n",
       "      <td>3600</td>\n",
       "      <td>3600</td>\n",
       "      <td>3600.0</td>\n",
       "      <td>36 months</td>\n",
       "      <td>13.99</td>\n",
       "      <td>123.03</td>\n",
       "      <td>C</td>\n",
       "      <td>C3</td>\n",
       "      <td>Ricoh Printing Systems America, Inc</td>\n",
       "      <td>2 years</td>\n",
       "      <td>RENT</td>\n",
       "      <td>67000.0</td>\n",
       "      <td>Not Verified</td>\n",
       "      <td>Aug-2011</td>\n",
       "      <td>Charged Off</td>\n",
       "      <td>n</td>\n",
       "      <td>credit_card</td>\n",
       "      <td>Credit Card Refinance Loan</td>\n",
       "      <td>930xx</td>\n",
       "      <td>CA</td>\n",
       "      <td>16.10</td>\n",
       "      <td>0.0</td>\n",
       "      <td>Nov-1996</td>\n",
       "      <td>1.0</td>\n",
       "      <td>45.0</td>\n",
       "      <td>NaN</td>\n",
       "      <td>5.0</td>\n",
       "      <td>0.0</td>\n",
       "      <td>3202</td>\n",
       "      <td>36.4</td>\n",
       "      <td>16.0</td>\n",
       "      <td>f</td>\n",
       "      <td>0.0</td>\n",
       "      <td>0.0</td>\n",
       "      <td>2460.600000</td>\n",
       "      <td>2460.60</td>\n",
       "      <td>1806.15</td>\n",
       "      <td>643.85</td>\n",
       "      <td>0.0</td>\n",
       "      <td>10.6</td>\n",
       "      <td>0.0</td>\n",
       "      <td>Apr-2013</td>\n",
       "      <td>123.03</td>\n",
       "      <td>NaN</td>\n",
       "      <td>Feb-2019</td>\n",
       "      <td>0.0</td>\n",
       "      <td>NaN</td>\n",
       "      <td>1</td>\n",
       "      <td>Individual</td>\n",
       "      <td>0.0</td>\n",
       "      <td>0.0</td>\n",
       "      <td>0.0</td>\n",
       "      <td>0.0</td>\n",
       "      <td>0.0</td>\n",
       "      <td>N</td>\n",
       "      <td>Cash</td>\n",
       "      <td>N</td>\n",
       "      <td>NaN</td>\n",
       "    </tr>\n",
       "    <tr>\n",
       "      <td>17518</td>\n",
       "      <td>5000</td>\n",
       "      <td>5000</td>\n",
       "      <td>5000.0</td>\n",
       "      <td>36 months</td>\n",
       "      <td>14.96</td>\n",
       "      <td>173.23</td>\n",
       "      <td>D</td>\n",
       "      <td>D2</td>\n",
       "      <td>New York City Police Department</td>\n",
       "      <td>5 years</td>\n",
       "      <td>MORTGAGE</td>\n",
       "      <td>110000.0</td>\n",
       "      <td>Verified</td>\n",
       "      <td>Oct-2009</td>\n",
       "      <td>Fully Paid</td>\n",
       "      <td>n</td>\n",
       "      <td>debt_consolidation</td>\n",
       "      <td>debt consolidation</td>\n",
       "      <td>109xx</td>\n",
       "      <td>NY</td>\n",
       "      <td>11.92</td>\n",
       "      <td>1.0</td>\n",
       "      <td>Dec-1999</td>\n",
       "      <td>2.0</td>\n",
       "      <td>12.0</td>\n",
       "      <td>NaN</td>\n",
       "      <td>7.0</td>\n",
       "      <td>0.0</td>\n",
       "      <td>21753</td>\n",
       "      <td>90.6</td>\n",
       "      <td>17.0</td>\n",
       "      <td>f</td>\n",
       "      <td>0.0</td>\n",
       "      <td>0.0</td>\n",
       "      <td>6236.045613</td>\n",
       "      <td>6236.05</td>\n",
       "      <td>5000.00</td>\n",
       "      <td>1236.05</td>\n",
       "      <td>0.0</td>\n",
       "      <td>0.0</td>\n",
       "      <td>0.0</td>\n",
       "      <td>Oct-2012</td>\n",
       "      <td>182.94</td>\n",
       "      <td>NaN</td>\n",
       "      <td>Oct-2012</td>\n",
       "      <td>0.0</td>\n",
       "      <td>NaN</td>\n",
       "      <td>1</td>\n",
       "      <td>Individual</td>\n",
       "      <td>0.0</td>\n",
       "      <td>0.0</td>\n",
       "      <td>0.0</td>\n",
       "      <td>0.0</td>\n",
       "      <td>0.0</td>\n",
       "      <td>N</td>\n",
       "      <td>Cash</td>\n",
       "      <td>N</td>\n",
       "      <td>NaN</td>\n",
       "    </tr>\n",
       "    <tr>\n",
       "      <td>9732</td>\n",
       "      <td>22500</td>\n",
       "      <td>22500</td>\n",
       "      <td>22500.0</td>\n",
       "      <td>60 months</td>\n",
       "      <td>20.48</td>\n",
       "      <td>602.14</td>\n",
       "      <td>G</td>\n",
       "      <td>G2</td>\n",
       "      <td>Cisco Systems</td>\n",
       "      <td>6 years</td>\n",
       "      <td>RENT</td>\n",
       "      <td>145000.0</td>\n",
       "      <td>Verified</td>\n",
       "      <td>Feb-2011</td>\n",
       "      <td>Fully Paid</td>\n",
       "      <td>n</td>\n",
       "      <td>debt_consolidation</td>\n",
       "      <td>Debt Consolidation Help</td>\n",
       "      <td>950xx</td>\n",
       "      <td>CA</td>\n",
       "      <td>12.03</td>\n",
       "      <td>0.0</td>\n",
       "      <td>Jul-2005</td>\n",
       "      <td>2.0</td>\n",
       "      <td>NaN</td>\n",
       "      <td>NaN</td>\n",
       "      <td>8.0</td>\n",
       "      <td>0.0</td>\n",
       "      <td>19200</td>\n",
       "      <td>76.6</td>\n",
       "      <td>20.0</td>\n",
       "      <td>f</td>\n",
       "      <td>0.0</td>\n",
       "      <td>0.0</td>\n",
       "      <td>36014.159916</td>\n",
       "      <td>36014.16</td>\n",
       "      <td>22500.00</td>\n",
       "      <td>13514.16</td>\n",
       "      <td>0.0</td>\n",
       "      <td>0.0</td>\n",
       "      <td>0.0</td>\n",
       "      <td>Oct-2015</td>\n",
       "      <td>3566.16</td>\n",
       "      <td>NaN</td>\n",
       "      <td>Feb-2019</td>\n",
       "      <td>0.0</td>\n",
       "      <td>NaN</td>\n",
       "      <td>1</td>\n",
       "      <td>Individual</td>\n",
       "      <td>0.0</td>\n",
       "      <td>0.0</td>\n",
       "      <td>0.0</td>\n",
       "      <td>0.0</td>\n",
       "      <td>0.0</td>\n",
       "      <td>N</td>\n",
       "      <td>Cash</td>\n",
       "      <td>N</td>\n",
       "      <td>NaN</td>\n",
       "    </tr>\n",
       "    <tr>\n",
       "      <td>9179</td>\n",
       "      <td>3500</td>\n",
       "      <td>3500</td>\n",
       "      <td>3500.0</td>\n",
       "      <td>60 months</td>\n",
       "      <td>10.00</td>\n",
       "      <td>74.37</td>\n",
       "      <td>B</td>\n",
       "      <td>B2</td>\n",
       "      <td>navylist</td>\n",
       "      <td>10+ years</td>\n",
       "      <td>RENT</td>\n",
       "      <td>45000.0</td>\n",
       "      <td>Source Verified</td>\n",
       "      <td>Mar-2011</td>\n",
       "      <td>Fully Paid</td>\n",
       "      <td>n</td>\n",
       "      <td>major_purchase</td>\n",
       "      <td>car trailer</td>\n",
       "      <td>128xx</td>\n",
       "      <td>NY</td>\n",
       "      <td>24.69</td>\n",
       "      <td>0.0</td>\n",
       "      <td>Sep-1998</td>\n",
       "      <td>0.0</td>\n",
       "      <td>NaN</td>\n",
       "      <td>NaN</td>\n",
       "      <td>4.0</td>\n",
       "      <td>0.0</td>\n",
       "      <td>8460</td>\n",
       "      <td>43.4</td>\n",
       "      <td>11.0</td>\n",
       "      <td>f</td>\n",
       "      <td>0.0</td>\n",
       "      <td>0.0</td>\n",
       "      <td>4444.699997</td>\n",
       "      <td>4444.70</td>\n",
       "      <td>3500.00</td>\n",
       "      <td>944.70</td>\n",
       "      <td>0.0</td>\n",
       "      <td>0.0</td>\n",
       "      <td>0.0</td>\n",
       "      <td>Aug-2015</td>\n",
       "      <td>472.02</td>\n",
       "      <td>NaN</td>\n",
       "      <td>Feb-2019</td>\n",
       "      <td>0.0</td>\n",
       "      <td>NaN</td>\n",
       "      <td>1</td>\n",
       "      <td>Individual</td>\n",
       "      <td>0.0</td>\n",
       "      <td>0.0</td>\n",
       "      <td>0.0</td>\n",
       "      <td>0.0</td>\n",
       "      <td>0.0</td>\n",
       "      <td>N</td>\n",
       "      <td>Cash</td>\n",
       "      <td>N</td>\n",
       "      <td>NaN</td>\n",
       "    </tr>\n",
       "  </tbody>\n",
       "</table>\n",
       "</div>"
      ],
      "text/plain": [
       "       loan_amnt  funded_amnt  funded_amnt_inv       term  int_rate  \\\n",
       "425        10000        10000          10000.0  36 months     14.27   \n",
       "5098        3600         3600           3600.0  36 months     13.99   \n",
       "17518       5000         5000           5000.0  36 months     14.96   \n",
       "9732       22500        22500          22500.0  60 months     20.48   \n",
       "9179        3500         3500           3500.0  60 months     10.00   \n",
       "\n",
       "       installment grade sub_grade                            emp_title  \\\n",
       "425         343.09     C        C2                          OEC Freight   \n",
       "5098        123.03     C        C3  Ricoh Printing Systems America, Inc   \n",
       "17518       173.23     D        D2      New York City Police Department   \n",
       "9732        602.14     G        G2                        Cisco Systems   \n",
       "9179         74.37     B        B2                             navylist   \n",
       "\n",
       "      emp_length home_ownership  annual_inc verification_status   issue_d  \\\n",
       "425      4 years           RENT     40000.0     Source Verified  Dec-2011   \n",
       "5098     2 years           RENT     67000.0        Not Verified  Aug-2011   \n",
       "17518    5 years       MORTGAGE    110000.0            Verified  Oct-2009   \n",
       "9732     6 years           RENT    145000.0            Verified  Feb-2011   \n",
       "9179   10+ years           RENT     45000.0     Source Verified  Mar-2011   \n",
       "\n",
       "       loan_status pymnt_plan             purpose                       title  \\\n",
       "425     Fully Paid          n                 car                    Car Loan   \n",
       "5098   Charged Off          n         credit_card  Credit Card Refinance Loan   \n",
       "17518   Fully Paid          n  debt_consolidation          debt consolidation   \n",
       "9732    Fully Paid          n  debt_consolidation     Debt Consolidation Help   \n",
       "9179    Fully Paid          n      major_purchase                 car trailer   \n",
       "\n",
       "      zip_code addr_state    dti  delinq_2yrs earliest_cr_line  \\\n",
       "425      113xx         NY  18.69          0.0         Oct-2007   \n",
       "5098     930xx         CA  16.10          0.0         Nov-1996   \n",
       "17518    109xx         NY  11.92          1.0         Dec-1999   \n",
       "9732     950xx         CA  12.03          0.0         Jul-2005   \n",
       "9179     128xx         NY  24.69          0.0         Sep-1998   \n",
       "\n",
       "       inq_last_6mths  mths_since_last_delinq  mths_since_last_record  \\\n",
       "425               0.0                     NaN                     NaN   \n",
       "5098              1.0                    45.0                     NaN   \n",
       "17518             2.0                    12.0                     NaN   \n",
       "9732              2.0                     NaN                     NaN   \n",
       "9179              0.0                     NaN                     NaN   \n",
       "\n",
       "       open_acc  pub_rec  revol_bal  revol_util  total_acc  \\\n",
       "425         6.0      0.0       5689        87.5        7.0   \n",
       "5098        5.0      0.0       3202        36.4       16.0   \n",
       "17518       7.0      0.0      21753        90.6       17.0   \n",
       "9732        8.0      0.0      19200        76.6       20.0   \n",
       "9179        4.0      0.0       8460        43.4       11.0   \n",
       "\n",
       "      initial_list_status  out_prncp  out_prncp_inv   total_pymnt  \\\n",
       "425                     f        0.0            0.0  11156.107513   \n",
       "5098                    f        0.0            0.0   2460.600000   \n",
       "17518                   f        0.0            0.0   6236.045613   \n",
       "9732                    f        0.0            0.0  36014.159916   \n",
       "9179                    f        0.0            0.0   4444.699997   \n",
       "\n",
       "       total_pymnt_inv  total_rec_prncp  total_rec_int  total_rec_late_fee  \\\n",
       "425           11156.11         10000.00        1156.11                 0.0   \n",
       "5098           2460.60          1806.15         643.85                 0.0   \n",
       "17518          6236.05          5000.00        1236.05                 0.0   \n",
       "9732          36014.16         22500.00       13514.16                 0.0   \n",
       "9179           4444.70          3500.00         944.70                 0.0   \n",
       "\n",
       "       recoveries  collection_recovery_fee last_pymnt_d  last_pymnt_amnt  \\\n",
       "425           0.0                      0.0     Nov-2012          7731.76   \n",
       "5098         10.6                      0.0     Apr-2013           123.03   \n",
       "17518         0.0                      0.0     Oct-2012           182.94   \n",
       "9732          0.0                      0.0     Oct-2015          3566.16   \n",
       "9179          0.0                      0.0     Aug-2015           472.02   \n",
       "\n",
       "       next_pymnt_d last_credit_pull_d  collections_12_mths_ex_med  \\\n",
       "425             NaN           Nov-2017                         0.0   \n",
       "5098            NaN           Feb-2019                         0.0   \n",
       "17518           NaN           Oct-2012                         0.0   \n",
       "9732            NaN           Feb-2019                         0.0   \n",
       "9179            NaN           Feb-2019                         0.0   \n",
       "\n",
       "       mths_since_last_major_derog  policy_code application_type  \\\n",
       "425                            NaN            1       Individual   \n",
       "5098                           NaN            1       Individual   \n",
       "17518                          NaN            1       Individual   \n",
       "9732                           NaN            1       Individual   \n",
       "9179                           NaN            1       Individual   \n",
       "\n",
       "       acc_now_delinq  chargeoff_within_12_mths  delinq_amnt  \\\n",
       "425               0.0                       0.0          0.0   \n",
       "5098              0.0                       0.0          0.0   \n",
       "17518             0.0                       0.0          0.0   \n",
       "9732              0.0                       0.0          0.0   \n",
       "9179              0.0                       0.0          0.0   \n",
       "\n",
       "       pub_rec_bankruptcies  tax_liens hardship_flag disbursement_method  \\\n",
       "425                     0.0        0.0             N                Cash   \n",
       "5098                    0.0        0.0             N                Cash   \n",
       "17518                   0.0        0.0             N                Cash   \n",
       "9732                    0.0        0.0             N                Cash   \n",
       "9179                    0.0        0.0             N                Cash   \n",
       "\n",
       "      debt_settlement_flag debt_settlement_flag_date  \n",
       "425                      N                       NaN  \n",
       "5098                     N                       NaN  \n",
       "17518                    N                       NaN  \n",
       "9732                     N                       NaN  \n",
       "9179                     N                       NaN  "
      ]
     },
     "execution_count": 4,
     "metadata": {},
     "output_type": "execute_result"
    }
   ],
   "source": [
    "loan_df = pd.read_csv('lending_club_2007_2011_6_states.csv')\n",
    "loan_df.sample(5)"
   ]
  },
  {
   "cell_type": "code",
   "execution_count": 5,
   "metadata": {
    "scrolled": false
   },
   "outputs": [
    {
     "name": "stdout",
     "output_type": "stream",
     "text": [
      "<class 'pandas.core.frame.DataFrame'>\n",
      "RangeIndex: 19908 entries, 0 to 19907\n",
      "Data columns (total 58 columns):\n",
      "loan_amnt                      19908 non-null int64\n",
      "funded_amnt                    19908 non-null int64\n",
      "funded_amnt_inv                19908 non-null float64\n",
      "term                           19908 non-null object\n",
      "int_rate                       19908 non-null float64\n",
      "installment                    19908 non-null float64\n",
      "grade                          19908 non-null object\n",
      "sub_grade                      19908 non-null object\n",
      "emp_title                      18723 non-null object\n",
      "emp_length                     19409 non-null object\n",
      "home_ownership                 19908 non-null object\n",
      "annual_inc                     19908 non-null float64\n",
      "verification_status            19908 non-null object\n",
      "issue_d                        19908 non-null object\n",
      "loan_status                    19908 non-null object\n",
      "pymnt_plan                     19908 non-null object\n",
      "purpose                        19908 non-null object\n",
      "title                          19903 non-null object\n",
      "zip_code                       19908 non-null object\n",
      "addr_state                     19908 non-null object\n",
      "dti                            19908 non-null float64\n",
      "delinq_2yrs                    19908 non-null float64\n",
      "earliest_cr_line               19908 non-null object\n",
      "inq_last_6mths                 19908 non-null float64\n",
      "mths_since_last_delinq         6998 non-null float64\n",
      "mths_since_last_record         1209 non-null float64\n",
      "open_acc                       19908 non-null float64\n",
      "pub_rec                        19908 non-null float64\n",
      "revol_bal                      19908 non-null int64\n",
      "revol_util                     19889 non-null float64\n",
      "total_acc                      19908 non-null float64\n",
      "initial_list_status            19908 non-null object\n",
      "out_prncp                      19908 non-null float64\n",
      "out_prncp_inv                  19908 non-null float64\n",
      "total_pymnt                    19908 non-null float64\n",
      "total_pymnt_inv                19908 non-null float64\n",
      "total_rec_prncp                19908 non-null float64\n",
      "total_rec_int                  19908 non-null float64\n",
      "total_rec_late_fee             19908 non-null float64\n",
      "recoveries                     19908 non-null float64\n",
      "collection_recovery_fee        19908 non-null float64\n",
      "last_pymnt_d                   19865 non-null object\n",
      "last_pymnt_amnt                19908 non-null float64\n",
      "next_pymnt_d                   0 non-null float64\n",
      "last_credit_pull_d             19906 non-null object\n",
      "collections_12_mths_ex_med     19893 non-null float64\n",
      "mths_since_last_major_derog    0 non-null float64\n",
      "policy_code                    19908 non-null int64\n",
      "application_type               19908 non-null object\n",
      "acc_now_delinq                 19908 non-null float64\n",
      "chargeoff_within_12_mths       19893 non-null float64\n",
      "delinq_amnt                    19908 non-null float64\n",
      "pub_rec_bankruptcies           19595 non-null float64\n",
      "tax_liens                      19898 non-null float64\n",
      "hardship_flag                  19908 non-null object\n",
      "disbursement_method            19908 non-null object\n",
      "debt_settlement_flag           19908 non-null object\n",
      "debt_settlement_flag_date      82 non-null object\n",
      "dtypes: float64(31), int64(4), object(23)\n",
      "memory usage: 8.8+ MB\n"
     ]
    }
   ],
   "source": [
    "loan_df.info()"
   ]
  },
  {
   "cell_type": "code",
   "execution_count": 6,
   "metadata": {},
   "outputs": [
    {
     "data": {
      "text/html": [
       "<div>\n",
       "<style scoped>\n",
       "    .dataframe tbody tr th:only-of-type {\n",
       "        vertical-align: middle;\n",
       "    }\n",
       "\n",
       "    .dataframe tbody tr th {\n",
       "        vertical-align: top;\n",
       "    }\n",
       "\n",
       "    .dataframe thead th {\n",
       "        text-align: right;\n",
       "    }\n",
       "</style>\n",
       "<table border=\"1\" class=\"dataframe\">\n",
       "  <thead>\n",
       "    <tr style=\"text-align: right;\">\n",
       "      <th></th>\n",
       "      <th>loan_amnt</th>\n",
       "      <th>funded_amnt</th>\n",
       "      <th>funded_amnt_inv</th>\n",
       "      <th>int_rate</th>\n",
       "      <th>installment</th>\n",
       "      <th>annual_inc</th>\n",
       "      <th>dti</th>\n",
       "      <th>delinq_2yrs</th>\n",
       "      <th>inq_last_6mths</th>\n",
       "      <th>mths_since_last_delinq</th>\n",
       "      <th>mths_since_last_record</th>\n",
       "      <th>open_acc</th>\n",
       "      <th>pub_rec</th>\n",
       "      <th>revol_bal</th>\n",
       "      <th>revol_util</th>\n",
       "      <th>total_acc</th>\n",
       "      <th>out_prncp</th>\n",
       "      <th>out_prncp_inv</th>\n",
       "      <th>total_pymnt</th>\n",
       "      <th>total_pymnt_inv</th>\n",
       "      <th>total_rec_prncp</th>\n",
       "      <th>total_rec_int</th>\n",
       "      <th>total_rec_late_fee</th>\n",
       "      <th>recoveries</th>\n",
       "      <th>collection_recovery_fee</th>\n",
       "      <th>last_pymnt_amnt</th>\n",
       "      <th>next_pymnt_d</th>\n",
       "      <th>collections_12_mths_ex_med</th>\n",
       "      <th>mths_since_last_major_derog</th>\n",
       "      <th>policy_code</th>\n",
       "      <th>acc_now_delinq</th>\n",
       "      <th>chargeoff_within_12_mths</th>\n",
       "      <th>delinq_amnt</th>\n",
       "      <th>pub_rec_bankruptcies</th>\n",
       "      <th>tax_liens</th>\n",
       "    </tr>\n",
       "  </thead>\n",
       "  <tbody>\n",
       "    <tr>\n",
       "      <td>count</td>\n",
       "      <td>19908.000000</td>\n",
       "      <td>19908.000000</td>\n",
       "      <td>19908.000000</td>\n",
       "      <td>19908.000000</td>\n",
       "      <td>19908.000000</td>\n",
       "      <td>1.990800e+04</td>\n",
       "      <td>19908.000000</td>\n",
       "      <td>19908.000000</td>\n",
       "      <td>19908.000000</td>\n",
       "      <td>6998.000000</td>\n",
       "      <td>1209.000000</td>\n",
       "      <td>19908.000000</td>\n",
       "      <td>19908.000000</td>\n",
       "      <td>19908.000000</td>\n",
       "      <td>19889.000000</td>\n",
       "      <td>19908.000000</td>\n",
       "      <td>19908.0</td>\n",
       "      <td>19908.0</td>\n",
       "      <td>19908.000000</td>\n",
       "      <td>19908.000000</td>\n",
       "      <td>19908.000000</td>\n",
       "      <td>19908.000000</td>\n",
       "      <td>19908.000000</td>\n",
       "      <td>19908.000000</td>\n",
       "      <td>19908.000000</td>\n",
       "      <td>19908.000000</td>\n",
       "      <td>0.0</td>\n",
       "      <td>19893.0</td>\n",
       "      <td>0.0</td>\n",
       "      <td>19908.0</td>\n",
       "      <td>19908.0</td>\n",
       "      <td>19893.0</td>\n",
       "      <td>19908.0</td>\n",
       "      <td>19595.000000</td>\n",
       "      <td>19898.0</td>\n",
       "    </tr>\n",
       "    <tr>\n",
       "      <td>mean</td>\n",
       "      <td>11353.846444</td>\n",
       "      <td>11065.763763</td>\n",
       "      <td>10500.929748</td>\n",
       "      <td>12.089717</td>\n",
       "      <td>330.614254</td>\n",
       "      <td>7.107345e+04</td>\n",
       "      <td>13.008619</td>\n",
       "      <td>0.143962</td>\n",
       "      <td>0.829466</td>\n",
       "      <td>35.841097</td>\n",
       "      <td>69.354839</td>\n",
       "      <td>9.278782</td>\n",
       "      <td>0.046715</td>\n",
       "      <td>13363.994826</td>\n",
       "      <td>49.424966</td>\n",
       "      <td>21.527627</td>\n",
       "      <td>0.0</td>\n",
       "      <td>0.0</td>\n",
       "      <td>12286.852391</td>\n",
       "      <td>11690.155107</td>\n",
       "      <td>9913.519990</td>\n",
       "      <td>2277.120129</td>\n",
       "      <td>1.489973</td>\n",
       "      <td>94.722382</td>\n",
       "      <td>11.861625</td>\n",
       "      <td>2636.253711</td>\n",
       "      <td>NaN</td>\n",
       "      <td>0.0</td>\n",
       "      <td>NaN</td>\n",
       "      <td>1.0</td>\n",
       "      <td>0.0</td>\n",
       "      <td>0.0</td>\n",
       "      <td>0.0</td>\n",
       "      <td>0.037969</td>\n",
       "      <td>0.0</td>\n",
       "    </tr>\n",
       "    <tr>\n",
       "      <td>std</td>\n",
       "      <td>7463.700492</td>\n",
       "      <td>7176.276661</td>\n",
       "      <td>7106.229650</td>\n",
       "      <td>3.698287</td>\n",
       "      <td>210.557434</td>\n",
       "      <td>6.980565e+04</td>\n",
       "      <td>6.663658</td>\n",
       "      <td>0.489576</td>\n",
       "      <td>1.044978</td>\n",
       "      <td>21.599170</td>\n",
       "      <td>44.520279</td>\n",
       "      <td>4.414903</td>\n",
       "      <td>0.217827</td>\n",
       "      <td>15943.303849</td>\n",
       "      <td>28.198395</td>\n",
       "      <td>11.269006</td>\n",
       "      <td>0.0</td>\n",
       "      <td>0.0</td>\n",
       "      <td>9098.847567</td>\n",
       "      <td>8984.722396</td>\n",
       "      <td>7126.424699</td>\n",
       "      <td>2583.733214</td>\n",
       "      <td>7.964257</td>\n",
       "      <td>666.434583</td>\n",
       "      <td>141.910324</td>\n",
       "      <td>4412.964304</td>\n",
       "      <td>NaN</td>\n",
       "      <td>0.0</td>\n",
       "      <td>NaN</td>\n",
       "      <td>0.0</td>\n",
       "      <td>0.0</td>\n",
       "      <td>0.0</td>\n",
       "      <td>0.0</td>\n",
       "      <td>0.191393</td>\n",
       "      <td>0.0</td>\n",
       "    </tr>\n",
       "    <tr>\n",
       "      <td>min</td>\n",
       "      <td>500.000000</td>\n",
       "      <td>500.000000</td>\n",
       "      <td>0.000000</td>\n",
       "      <td>5.420000</td>\n",
       "      <td>15.690000</td>\n",
       "      <td>4.000000e+03</td>\n",
       "      <td>0.000000</td>\n",
       "      <td>0.000000</td>\n",
       "      <td>0.000000</td>\n",
       "      <td>0.000000</td>\n",
       "      <td>0.000000</td>\n",
       "      <td>2.000000</td>\n",
       "      <td>0.000000</td>\n",
       "      <td>0.000000</td>\n",
       "      <td>0.000000</td>\n",
       "      <td>2.000000</td>\n",
       "      <td>0.0</td>\n",
       "      <td>0.0</td>\n",
       "      <td>0.000000</td>\n",
       "      <td>0.000000</td>\n",
       "      <td>0.000000</td>\n",
       "      <td>0.000000</td>\n",
       "      <td>0.000000</td>\n",
       "      <td>0.000000</td>\n",
       "      <td>0.000000</td>\n",
       "      <td>0.000000</td>\n",
       "      <td>NaN</td>\n",
       "      <td>0.0</td>\n",
       "      <td>NaN</td>\n",
       "      <td>1.0</td>\n",
       "      <td>0.0</td>\n",
       "      <td>0.0</td>\n",
       "      <td>0.0</td>\n",
       "      <td>0.000000</td>\n",
       "      <td>0.0</td>\n",
       "    </tr>\n",
       "    <tr>\n",
       "      <td>25%</td>\n",
       "      <td>5750.000000</td>\n",
       "      <td>5600.000000</td>\n",
       "      <td>5000.000000</td>\n",
       "      <td>9.450000</td>\n",
       "      <td>171.287500</td>\n",
       "      <td>4.200000e+04</td>\n",
       "      <td>7.840000</td>\n",
       "      <td>0.000000</td>\n",
       "      <td>0.000000</td>\n",
       "      <td>19.000000</td>\n",
       "      <td>0.000000</td>\n",
       "      <td>6.000000</td>\n",
       "      <td>0.000000</td>\n",
       "      <td>3770.500000</td>\n",
       "      <td>26.500000</td>\n",
       "      <td>13.000000</td>\n",
       "      <td>0.0</td>\n",
       "      <td>0.0</td>\n",
       "      <td>5670.592545</td>\n",
       "      <td>5239.857500</td>\n",
       "      <td>4800.000000</td>\n",
       "      <td>687.595000</td>\n",
       "      <td>0.000000</td>\n",
       "      <td>0.000000</td>\n",
       "      <td>0.000000</td>\n",
       "      <td>222.530000</td>\n",
       "      <td>NaN</td>\n",
       "      <td>0.0</td>\n",
       "      <td>NaN</td>\n",
       "      <td>1.0</td>\n",
       "      <td>0.0</td>\n",
       "      <td>0.0</td>\n",
       "      <td>0.0</td>\n",
       "      <td>0.000000</td>\n",
       "      <td>0.0</td>\n",
       "    </tr>\n",
       "    <tr>\n",
       "      <td>50%</td>\n",
       "      <td>10000.000000</td>\n",
       "      <td>10000.000000</td>\n",
       "      <td>9000.000000</td>\n",
       "      <td>11.860000</td>\n",
       "      <td>285.780000</td>\n",
       "      <td>6.000000e+04</td>\n",
       "      <td>13.075000</td>\n",
       "      <td>0.000000</td>\n",
       "      <td>0.000000</td>\n",
       "      <td>34.000000</td>\n",
       "      <td>90.000000</td>\n",
       "      <td>9.000000</td>\n",
       "      <td>0.000000</td>\n",
       "      <td>8876.500000</td>\n",
       "      <td>50.300000</td>\n",
       "      <td>20.000000</td>\n",
       "      <td>0.0</td>\n",
       "      <td>0.0</td>\n",
       "      <td>10042.735817</td>\n",
       "      <td>9427.845000</td>\n",
       "      <td>8000.000000</td>\n",
       "      <td>1389.230000</td>\n",
       "      <td>0.000000</td>\n",
       "      <td>0.000000</td>\n",
       "      <td>0.000000</td>\n",
       "      <td>544.700000</td>\n",
       "      <td>NaN</td>\n",
       "      <td>0.0</td>\n",
       "      <td>NaN</td>\n",
       "      <td>1.0</td>\n",
       "      <td>0.0</td>\n",
       "      <td>0.0</td>\n",
       "      <td>0.0</td>\n",
       "      <td>0.000000</td>\n",
       "      <td>0.0</td>\n",
       "    </tr>\n",
       "    <tr>\n",
       "      <td>75%</td>\n",
       "      <td>15000.000000</td>\n",
       "      <td>15000.000000</td>\n",
       "      <td>14500.000000</td>\n",
       "      <td>14.610000</td>\n",
       "      <td>440.815000</td>\n",
       "      <td>8.500000e+04</td>\n",
       "      <td>18.200000</td>\n",
       "      <td>0.000000</td>\n",
       "      <td>1.000000</td>\n",
       "      <td>51.000000</td>\n",
       "      <td>104.000000</td>\n",
       "      <td>12.000000</td>\n",
       "      <td>0.000000</td>\n",
       "      <td>16952.250000</td>\n",
       "      <td>72.800000</td>\n",
       "      <td>28.000000</td>\n",
       "      <td>0.0</td>\n",
       "      <td>0.0</td>\n",
       "      <td>16681.688450</td>\n",
       "      <td>15983.440000</td>\n",
       "      <td>14000.000000</td>\n",
       "      <td>2842.795000</td>\n",
       "      <td>0.000000</td>\n",
       "      <td>0.000000</td>\n",
       "      <td>0.000000</td>\n",
       "      <td>3193.352500</td>\n",
       "      <td>NaN</td>\n",
       "      <td>0.0</td>\n",
       "      <td>NaN</td>\n",
       "      <td>1.0</td>\n",
       "      <td>0.0</td>\n",
       "      <td>0.0</td>\n",
       "      <td>0.0</td>\n",
       "      <td>0.000000</td>\n",
       "      <td>0.0</td>\n",
       "    </tr>\n",
       "    <tr>\n",
       "      <td>max</td>\n",
       "      <td>35000.000000</td>\n",
       "      <td>35000.000000</td>\n",
       "      <td>35000.000000</td>\n",
       "      <td>24.400000</td>\n",
       "      <td>1302.690000</td>\n",
       "      <td>6.000000e+06</td>\n",
       "      <td>29.990000</td>\n",
       "      <td>11.000000</td>\n",
       "      <td>8.000000</td>\n",
       "      <td>106.000000</td>\n",
       "      <td>129.000000</td>\n",
       "      <td>44.000000</td>\n",
       "      <td>3.000000</td>\n",
       "      <td>148829.000000</td>\n",
       "      <td>99.900000</td>\n",
       "      <td>90.000000</td>\n",
       "      <td>0.0</td>\n",
       "      <td>0.0</td>\n",
       "      <td>58480.139915</td>\n",
       "      <td>58438.370000</td>\n",
       "      <td>35000.020000</td>\n",
       "      <td>23480.140000</td>\n",
       "      <td>180.200000</td>\n",
       "      <td>29623.350000</td>\n",
       "      <td>6543.040000</td>\n",
       "      <td>35596.410000</td>\n",
       "      <td>NaN</td>\n",
       "      <td>0.0</td>\n",
       "      <td>NaN</td>\n",
       "      <td>1.0</td>\n",
       "      <td>0.0</td>\n",
       "      <td>0.0</td>\n",
       "      <td>0.0</td>\n",
       "      <td>2.000000</td>\n",
       "      <td>0.0</td>\n",
       "    </tr>\n",
       "  </tbody>\n",
       "</table>\n",
       "</div>"
      ],
      "text/plain": [
       "          loan_amnt   funded_amnt  funded_amnt_inv      int_rate  \\\n",
       "count  19908.000000  19908.000000     19908.000000  19908.000000   \n",
       "mean   11353.846444  11065.763763     10500.929748     12.089717   \n",
       "std     7463.700492   7176.276661      7106.229650      3.698287   \n",
       "min      500.000000    500.000000         0.000000      5.420000   \n",
       "25%     5750.000000   5600.000000      5000.000000      9.450000   \n",
       "50%    10000.000000  10000.000000      9000.000000     11.860000   \n",
       "75%    15000.000000  15000.000000     14500.000000     14.610000   \n",
       "max    35000.000000  35000.000000     35000.000000     24.400000   \n",
       "\n",
       "        installment    annual_inc           dti   delinq_2yrs  inq_last_6mths  \\\n",
       "count  19908.000000  1.990800e+04  19908.000000  19908.000000    19908.000000   \n",
       "mean     330.614254  7.107345e+04     13.008619      0.143962        0.829466   \n",
       "std      210.557434  6.980565e+04      6.663658      0.489576        1.044978   \n",
       "min       15.690000  4.000000e+03      0.000000      0.000000        0.000000   \n",
       "25%      171.287500  4.200000e+04      7.840000      0.000000        0.000000   \n",
       "50%      285.780000  6.000000e+04     13.075000      0.000000        0.000000   \n",
       "75%      440.815000  8.500000e+04     18.200000      0.000000        1.000000   \n",
       "max     1302.690000  6.000000e+06     29.990000     11.000000        8.000000   \n",
       "\n",
       "       mths_since_last_delinq  mths_since_last_record      open_acc  \\\n",
       "count             6998.000000             1209.000000  19908.000000   \n",
       "mean                35.841097               69.354839      9.278782   \n",
       "std                 21.599170               44.520279      4.414903   \n",
       "min                  0.000000                0.000000      2.000000   \n",
       "25%                 19.000000                0.000000      6.000000   \n",
       "50%                 34.000000               90.000000      9.000000   \n",
       "75%                 51.000000              104.000000     12.000000   \n",
       "max                106.000000              129.000000     44.000000   \n",
       "\n",
       "            pub_rec      revol_bal    revol_util     total_acc  out_prncp  \\\n",
       "count  19908.000000   19908.000000  19889.000000  19908.000000    19908.0   \n",
       "mean       0.046715   13363.994826     49.424966     21.527627        0.0   \n",
       "std        0.217827   15943.303849     28.198395     11.269006        0.0   \n",
       "min        0.000000       0.000000      0.000000      2.000000        0.0   \n",
       "25%        0.000000    3770.500000     26.500000     13.000000        0.0   \n",
       "50%        0.000000    8876.500000     50.300000     20.000000        0.0   \n",
       "75%        0.000000   16952.250000     72.800000     28.000000        0.0   \n",
       "max        3.000000  148829.000000     99.900000     90.000000        0.0   \n",
       "\n",
       "       out_prncp_inv   total_pymnt  total_pymnt_inv  total_rec_prncp  \\\n",
       "count        19908.0  19908.000000     19908.000000     19908.000000   \n",
       "mean             0.0  12286.852391     11690.155107      9913.519990   \n",
       "std              0.0   9098.847567      8984.722396      7126.424699   \n",
       "min              0.0      0.000000         0.000000         0.000000   \n",
       "25%              0.0   5670.592545      5239.857500      4800.000000   \n",
       "50%              0.0  10042.735817      9427.845000      8000.000000   \n",
       "75%              0.0  16681.688450     15983.440000     14000.000000   \n",
       "max              0.0  58480.139915     58438.370000     35000.020000   \n",
       "\n",
       "       total_rec_int  total_rec_late_fee    recoveries  \\\n",
       "count   19908.000000        19908.000000  19908.000000   \n",
       "mean     2277.120129            1.489973     94.722382   \n",
       "std      2583.733214            7.964257    666.434583   \n",
       "min         0.000000            0.000000      0.000000   \n",
       "25%       687.595000            0.000000      0.000000   \n",
       "50%      1389.230000            0.000000      0.000000   \n",
       "75%      2842.795000            0.000000      0.000000   \n",
       "max     23480.140000          180.200000  29623.350000   \n",
       "\n",
       "       collection_recovery_fee  last_pymnt_amnt  next_pymnt_d  \\\n",
       "count             19908.000000     19908.000000           0.0   \n",
       "mean                 11.861625      2636.253711           NaN   \n",
       "std                 141.910324      4412.964304           NaN   \n",
       "min                   0.000000         0.000000           NaN   \n",
       "25%                   0.000000       222.530000           NaN   \n",
       "50%                   0.000000       544.700000           NaN   \n",
       "75%                   0.000000      3193.352500           NaN   \n",
       "max                6543.040000     35596.410000           NaN   \n",
       "\n",
       "       collections_12_mths_ex_med  mths_since_last_major_derog  policy_code  \\\n",
       "count                     19893.0                          0.0      19908.0   \n",
       "mean                          0.0                          NaN          1.0   \n",
       "std                           0.0                          NaN          0.0   \n",
       "min                           0.0                          NaN          1.0   \n",
       "25%                           0.0                          NaN          1.0   \n",
       "50%                           0.0                          NaN          1.0   \n",
       "75%                           0.0                          NaN          1.0   \n",
       "max                           0.0                          NaN          1.0   \n",
       "\n",
       "       acc_now_delinq  chargeoff_within_12_mths  delinq_amnt  \\\n",
       "count         19908.0                   19893.0      19908.0   \n",
       "mean              0.0                       0.0          0.0   \n",
       "std               0.0                       0.0          0.0   \n",
       "min               0.0                       0.0          0.0   \n",
       "25%               0.0                       0.0          0.0   \n",
       "50%               0.0                       0.0          0.0   \n",
       "75%               0.0                       0.0          0.0   \n",
       "max               0.0                       0.0          0.0   \n",
       "\n",
       "       pub_rec_bankruptcies  tax_liens  \n",
       "count          19595.000000    19898.0  \n",
       "mean               0.037969        0.0  \n",
       "std                0.191393        0.0  \n",
       "min                0.000000        0.0  \n",
       "25%                0.000000        0.0  \n",
       "50%                0.000000        0.0  \n",
       "75%                0.000000        0.0  \n",
       "max                2.000000        0.0  "
      ]
     },
     "execution_count": 6,
     "metadata": {},
     "output_type": "execute_result"
    }
   ],
   "source": [
    "loan_df.describe()"
   ]
  },
  {
   "cell_type": "markdown",
   "metadata": {},
   "source": [
    "### Data Understanding\n",
    "\n",
    "The purpose of the project is to identify the most profitable loans. There are two criteras that help you evaluate the loan portfolio profitbility, paid off rate and annual return of the portfolio.\n",
    "\n",
    "#### Paid off rate\n",
    "The dataset has loans initiated from 2007 to 2011. All loans have been either fully paid or charged off. So we will create a 'repaid' column by encoding loan status and map Charged Off to 0 and Fully Paid to 1. "
   ]
  },
  {
   "cell_type": "code",
   "execution_count": 7,
   "metadata": {},
   "outputs": [
    {
     "data": {
      "text/plain": [
       "Fully Paid     16965\n",
       "Charged Off     2943\n",
       "Name: loan_status, dtype: int64"
      ]
     },
     "execution_count": 7,
     "metadata": {},
     "output_type": "execute_result"
    }
   ],
   "source": [
    "loan_df.loan_status.value_counts()"
   ]
  },
  {
   "cell_type": "code",
   "execution_count": 8,
   "metadata": {},
   "outputs": [
    {
     "data": {
      "text/plain": [
       "1    16965\n",
       "0     2943\n",
       "Name: repaid, dtype: int64"
      ]
     },
     "execution_count": 8,
     "metadata": {},
     "output_type": "execute_result"
    }
   ],
   "source": [
    "mapping_dict = {'Charged Off':0, 'Fully Paid':1}\n",
    "loan_df['repaid'] = loan_df.loan_status.map(mapping_dict)\n",
    "loan_df.repaid.value_counts()"
   ]
  },
  {
   "cell_type": "markdown",
   "metadata": {},
   "source": [
    "The average repaid will be the paid off rate for a loan portfolio. For example, we get overall paid off rate of all loans in the dataset in the next code cell. About 85% of all loans are paid off."
   ]
  },
  {
   "cell_type": "code",
   "execution_count": 9,
   "metadata": {},
   "outputs": [
    {
     "data": {
      "text/plain": [
       "0.8521699819168174"
      ]
     },
     "execution_count": 9,
     "metadata": {},
     "output_type": "execute_result"
    }
   ],
   "source": [
    "loan_df.repaid.mean()"
   ]
  },
  {
   "cell_type": "markdown",
   "metadata": {},
   "source": [
    "#### Loan return\n",
    "\n",
    "Calculation of loan return is very complicated since the loan is paid by monthly installments. In this project, we simplify the calculation by using the total payment and funded amount. For charged off loans, total payment collected includes post charge off recoveries. So we can use following formula to calculate the total return:\n",
    "\n",
    "$TotalReturn = \\frac{Total Payment + recoveries}{Funded Amount} - 1$\n",
    "\n",
    "The overall return doesn't reflect loan profitbility since loans have different terms. It's more accurate to compare annual returns. There are only two terms in the dataset, 36 months and 60 months. The formula to calcuate annual return is:\n",
    "\n",
    "$Annualized Return = (1+Total Return)^{(1/years)} - 1$. \n",
    "\n",
    "For example, if overall return of a 36 month loan is 10%, then annualized return = `(1 + 0.1)**(1/3) - 1` = `0.032`.\n",
    "\n",
    "Again, this is not the true annualized return on a loan investment. But the goal of this project is to identify loans to invest, so we just need a benchmark to evaluate loan performance.\n",
    "\n",
    "In the following code cells, we first create total_return and annual_return for each loan, then we define a function to calculate annual return of a loan portfolio. The function calculates annual return for 36 month and 60 month loan separately."
   ]
  },
  {
   "cell_type": "code",
   "execution_count": 10,
   "metadata": {},
   "outputs": [],
   "source": [
    "loan_df['total_return'] = (loan_df.total_pymnt + loan_df.recoveries)/loan_df.funded_amnt-1\n",
    "loan_df['loan_term_year'] = loan_df.term.apply(lambda x:3 if x=='36 months' else 5)\n",
    "loan_df['annual_return'] = loan_df.apply(lambda x:(1+x.total_return)**(1/x.loan_term_year)-1, axis=1)"
   ]
  },
  {
   "cell_type": "code",
   "execution_count": 11,
   "metadata": {},
   "outputs": [
    {
     "data": {
      "text/html": [
       "<div>\n",
       "<style scoped>\n",
       "    .dataframe tbody tr th:only-of-type {\n",
       "        vertical-align: middle;\n",
       "    }\n",
       "\n",
       "    .dataframe tbody tr th {\n",
       "        vertical-align: top;\n",
       "    }\n",
       "\n",
       "    .dataframe thead th {\n",
       "        text-align: right;\n",
       "    }\n",
       "</style>\n",
       "<table border=\"1\" class=\"dataframe\">\n",
       "  <thead>\n",
       "    <tr style=\"text-align: right;\">\n",
       "      <th></th>\n",
       "      <th>loan_amnt</th>\n",
       "      <th>funded_amnt</th>\n",
       "      <th>funded_amnt_inv</th>\n",
       "      <th>term</th>\n",
       "      <th>int_rate</th>\n",
       "      <th>installment</th>\n",
       "      <th>grade</th>\n",
       "      <th>sub_grade</th>\n",
       "      <th>emp_title</th>\n",
       "      <th>emp_length</th>\n",
       "      <th>home_ownership</th>\n",
       "      <th>annual_inc</th>\n",
       "      <th>verification_status</th>\n",
       "      <th>issue_d</th>\n",
       "      <th>loan_status</th>\n",
       "      <th>pymnt_plan</th>\n",
       "      <th>purpose</th>\n",
       "      <th>title</th>\n",
       "      <th>zip_code</th>\n",
       "      <th>addr_state</th>\n",
       "      <th>dti</th>\n",
       "      <th>delinq_2yrs</th>\n",
       "      <th>earliest_cr_line</th>\n",
       "      <th>inq_last_6mths</th>\n",
       "      <th>mths_since_last_delinq</th>\n",
       "      <th>mths_since_last_record</th>\n",
       "      <th>open_acc</th>\n",
       "      <th>pub_rec</th>\n",
       "      <th>revol_bal</th>\n",
       "      <th>revol_util</th>\n",
       "      <th>total_acc</th>\n",
       "      <th>initial_list_status</th>\n",
       "      <th>out_prncp</th>\n",
       "      <th>out_prncp_inv</th>\n",
       "      <th>total_pymnt</th>\n",
       "      <th>total_pymnt_inv</th>\n",
       "      <th>total_rec_prncp</th>\n",
       "      <th>total_rec_int</th>\n",
       "      <th>total_rec_late_fee</th>\n",
       "      <th>recoveries</th>\n",
       "      <th>collection_recovery_fee</th>\n",
       "      <th>last_pymnt_d</th>\n",
       "      <th>last_pymnt_amnt</th>\n",
       "      <th>next_pymnt_d</th>\n",
       "      <th>last_credit_pull_d</th>\n",
       "      <th>collections_12_mths_ex_med</th>\n",
       "      <th>mths_since_last_major_derog</th>\n",
       "      <th>policy_code</th>\n",
       "      <th>application_type</th>\n",
       "      <th>acc_now_delinq</th>\n",
       "      <th>chargeoff_within_12_mths</th>\n",
       "      <th>delinq_amnt</th>\n",
       "      <th>pub_rec_bankruptcies</th>\n",
       "      <th>tax_liens</th>\n",
       "      <th>hardship_flag</th>\n",
       "      <th>disbursement_method</th>\n",
       "      <th>debt_settlement_flag</th>\n",
       "      <th>debt_settlement_flag_date</th>\n",
       "      <th>repaid</th>\n",
       "      <th>total_return</th>\n",
       "      <th>loan_term_year</th>\n",
       "      <th>annual_return</th>\n",
       "    </tr>\n",
       "  </thead>\n",
       "  <tbody>\n",
       "    <tr>\n",
       "      <td>5913</td>\n",
       "      <td>18575</td>\n",
       "      <td>16225</td>\n",
       "      <td>15975.0</td>\n",
       "      <td>60 months</td>\n",
       "      <td>11.99</td>\n",
       "      <td>360.84</td>\n",
       "      <td>B</td>\n",
       "      <td>B5</td>\n",
       "      <td>Viacom/MTV Networks</td>\n",
       "      <td>7 years</td>\n",
       "      <td>RENT</td>\n",
       "      <td>56000.0</td>\n",
       "      <td>Source Verified</td>\n",
       "      <td>Jul-2011</td>\n",
       "      <td>Fully Paid</td>\n",
       "      <td>n</td>\n",
       "      <td>debt_consolidation</td>\n",
       "      <td>Debt Consolidation Loan</td>\n",
       "      <td>113xx</td>\n",
       "      <td>NY</td>\n",
       "      <td>14.68</td>\n",
       "      <td>0.0</td>\n",
       "      <td>Nov-1999</td>\n",
       "      <td>0.0</td>\n",
       "      <td>NaN</td>\n",
       "      <td>NaN</td>\n",
       "      <td>13.0</td>\n",
       "      <td>0.0</td>\n",
       "      <td>23744</td>\n",
       "      <td>61.3</td>\n",
       "      <td>33.0</td>\n",
       "      <td>f</td>\n",
       "      <td>0.0</td>\n",
       "      <td>0.0</td>\n",
       "      <td>21649.924672</td>\n",
       "      <td>21316.34</td>\n",
       "      <td>16225.0</td>\n",
       "      <td>5424.92</td>\n",
       "      <td>0.0</td>\n",
       "      <td>0.0</td>\n",
       "      <td>0.0</td>\n",
       "      <td>Jul-2016</td>\n",
       "      <td>360.36</td>\n",
       "      <td>NaN</td>\n",
       "      <td>Feb-2019</td>\n",
       "      <td>0.0</td>\n",
       "      <td>NaN</td>\n",
       "      <td>1</td>\n",
       "      <td>Individual</td>\n",
       "      <td>0.0</td>\n",
       "      <td>0.0</td>\n",
       "      <td>0.0</td>\n",
       "      <td>0.0</td>\n",
       "      <td>0.0</td>\n",
       "      <td>N</td>\n",
       "      <td>Cash</td>\n",
       "      <td>N</td>\n",
       "      <td>NaN</td>\n",
       "      <td>1</td>\n",
       "      <td>0.334356</td>\n",
       "      <td>5</td>\n",
       "      <td>0.059386</td>\n",
       "    </tr>\n",
       "    <tr>\n",
       "      <td>10577</td>\n",
       "      <td>9000</td>\n",
       "      <td>9000</td>\n",
       "      <td>9000.0</td>\n",
       "      <td>36 months</td>\n",
       "      <td>12.23</td>\n",
       "      <td>299.92</td>\n",
       "      <td>C</td>\n",
       "      <td>C1</td>\n",
       "      <td>Lakeshore Dairy</td>\n",
       "      <td>9 years</td>\n",
       "      <td>OWN</td>\n",
       "      <td>60000.0</td>\n",
       "      <td>Source Verified</td>\n",
       "      <td>Jan-2011</td>\n",
       "      <td>Fully Paid</td>\n",
       "      <td>n</td>\n",
       "      <td>major_purchase</td>\n",
       "      <td>Diamond</td>\n",
       "      <td>932xx</td>\n",
       "      <td>CA</td>\n",
       "      <td>1.68</td>\n",
       "      <td>0.0</td>\n",
       "      <td>Jun-1999</td>\n",
       "      <td>3.0</td>\n",
       "      <td>52.0</td>\n",
       "      <td>NaN</td>\n",
       "      <td>5.0</td>\n",
       "      <td>0.0</td>\n",
       "      <td>2155</td>\n",
       "      <td>34.8</td>\n",
       "      <td>8.0</td>\n",
       "      <td>f</td>\n",
       "      <td>0.0</td>\n",
       "      <td>0.0</td>\n",
       "      <td>9930.508634</td>\n",
       "      <td>9930.51</td>\n",
       "      <td>9000.0</td>\n",
       "      <td>930.51</td>\n",
       "      <td>0.0</td>\n",
       "      <td>0.0</td>\n",
       "      <td>0.0</td>\n",
       "      <td>Dec-2012</td>\n",
       "      <td>144.24</td>\n",
       "      <td>NaN</td>\n",
       "      <td>Dec-2012</td>\n",
       "      <td>0.0</td>\n",
       "      <td>NaN</td>\n",
       "      <td>1</td>\n",
       "      <td>Individual</td>\n",
       "      <td>0.0</td>\n",
       "      <td>0.0</td>\n",
       "      <td>0.0</td>\n",
       "      <td>0.0</td>\n",
       "      <td>0.0</td>\n",
       "      <td>N</td>\n",
       "      <td>Cash</td>\n",
       "      <td>N</td>\n",
       "      <td>NaN</td>\n",
       "      <td>1</td>\n",
       "      <td>0.103390</td>\n",
       "      <td>3</td>\n",
       "      <td>0.033339</td>\n",
       "    </tr>\n",
       "    <tr>\n",
       "      <td>6498</td>\n",
       "      <td>35000</td>\n",
       "      <td>35000</td>\n",
       "      <td>34975.0</td>\n",
       "      <td>60 months</td>\n",
       "      <td>17.99</td>\n",
       "      <td>888.58</td>\n",
       "      <td>E</td>\n",
       "      <td>E1</td>\n",
       "      <td>Deutsche Bank</td>\n",
       "      <td>&lt; 1 year</td>\n",
       "      <td>RENT</td>\n",
       "      <td>85000.0</td>\n",
       "      <td>Verified</td>\n",
       "      <td>Jun-2011</td>\n",
       "      <td>Fully Paid</td>\n",
       "      <td>n</td>\n",
       "      <td>debt_consolidation</td>\n",
       "      <td>Consolidation and Liquidity Opportunity</td>\n",
       "      <td>107xx</td>\n",
       "      <td>NY</td>\n",
       "      <td>2.56</td>\n",
       "      <td>0.0</td>\n",
       "      <td>Sep-2002</td>\n",
       "      <td>1.0</td>\n",
       "      <td>NaN</td>\n",
       "      <td>NaN</td>\n",
       "      <td>4.0</td>\n",
       "      <td>0.0</td>\n",
       "      <td>9479</td>\n",
       "      <td>37.9</td>\n",
       "      <td>7.0</td>\n",
       "      <td>f</td>\n",
       "      <td>0.0</td>\n",
       "      <td>0.0</td>\n",
       "      <td>43119.525108</td>\n",
       "      <td>43088.73</td>\n",
       "      <td>35000.0</td>\n",
       "      <td>8119.53</td>\n",
       "      <td>0.0</td>\n",
       "      <td>0.0</td>\n",
       "      <td>0.0</td>\n",
       "      <td>Dec-2012</td>\n",
       "      <td>28913.54</td>\n",
       "      <td>NaN</td>\n",
       "      <td>Feb-2017</td>\n",
       "      <td>0.0</td>\n",
       "      <td>NaN</td>\n",
       "      <td>1</td>\n",
       "      <td>Individual</td>\n",
       "      <td>0.0</td>\n",
       "      <td>0.0</td>\n",
       "      <td>0.0</td>\n",
       "      <td>0.0</td>\n",
       "      <td>0.0</td>\n",
       "      <td>N</td>\n",
       "      <td>Cash</td>\n",
       "      <td>N</td>\n",
       "      <td>NaN</td>\n",
       "      <td>1</td>\n",
       "      <td>0.231986</td>\n",
       "      <td>5</td>\n",
       "      <td>0.042608</td>\n",
       "    </tr>\n",
       "    <tr>\n",
       "      <td>17897</td>\n",
       "      <td>9000</td>\n",
       "      <td>9000</td>\n",
       "      <td>8650.0</td>\n",
       "      <td>36 months</td>\n",
       "      <td>11.14</td>\n",
       "      <td>295.24</td>\n",
       "      <td>B</td>\n",
       "      <td>B1</td>\n",
       "      <td>Village of monroe police dept</td>\n",
       "      <td>9 years</td>\n",
       "      <td>RENT</td>\n",
       "      <td>72000.0</td>\n",
       "      <td>Source Verified</td>\n",
       "      <td>Aug-2009</td>\n",
       "      <td>Fully Paid</td>\n",
       "      <td>n</td>\n",
       "      <td>debt_consolidation</td>\n",
       "      <td>to consolidate</td>\n",
       "      <td>109xx</td>\n",
       "      <td>NY</td>\n",
       "      <td>9.87</td>\n",
       "      <td>0.0</td>\n",
       "      <td>Aug-1998</td>\n",
       "      <td>3.0</td>\n",
       "      <td>NaN</td>\n",
       "      <td>NaN</td>\n",
       "      <td>14.0</td>\n",
       "      <td>0.0</td>\n",
       "      <td>23255</td>\n",
       "      <td>45.1</td>\n",
       "      <td>63.0</td>\n",
       "      <td>f</td>\n",
       "      <td>0.0</td>\n",
       "      <td>0.0</td>\n",
       "      <td>9322.638507</td>\n",
       "      <td>8960.11</td>\n",
       "      <td>9000.0</td>\n",
       "      <td>322.64</td>\n",
       "      <td>0.0</td>\n",
       "      <td>0.0</td>\n",
       "      <td>0.0</td>\n",
       "      <td>Dec-2009</td>\n",
       "      <td>8437.84</td>\n",
       "      <td>NaN</td>\n",
       "      <td>Feb-2019</td>\n",
       "      <td>0.0</td>\n",
       "      <td>NaN</td>\n",
       "      <td>1</td>\n",
       "      <td>Individual</td>\n",
       "      <td>0.0</td>\n",
       "      <td>0.0</td>\n",
       "      <td>0.0</td>\n",
       "      <td>0.0</td>\n",
       "      <td>0.0</td>\n",
       "      <td>N</td>\n",
       "      <td>Cash</td>\n",
       "      <td>N</td>\n",
       "      <td>NaN</td>\n",
       "      <td>1</td>\n",
       "      <td>0.035849</td>\n",
       "      <td>3</td>\n",
       "      <td>0.011810</td>\n",
       "    </tr>\n",
       "    <tr>\n",
       "      <td>10357</td>\n",
       "      <td>3600</td>\n",
       "      <td>3600</td>\n",
       "      <td>3600.0</td>\n",
       "      <td>36 months</td>\n",
       "      <td>14.91</td>\n",
       "      <td>124.64</td>\n",
       "      <td>D</td>\n",
       "      <td>D2</td>\n",
       "      <td>The Walt Disney Company</td>\n",
       "      <td>10+ years</td>\n",
       "      <td>RENT</td>\n",
       "      <td>90000.0</td>\n",
       "      <td>Verified</td>\n",
       "      <td>Jan-2011</td>\n",
       "      <td>Fully Paid</td>\n",
       "      <td>n</td>\n",
       "      <td>moving</td>\n",
       "      <td>Moving</td>\n",
       "      <td>910xx</td>\n",
       "      <td>CA</td>\n",
       "      <td>10.03</td>\n",
       "      <td>3.0</td>\n",
       "      <td>Dec-1989</td>\n",
       "      <td>0.0</td>\n",
       "      <td>8.0</td>\n",
       "      <td>NaN</td>\n",
       "      <td>3.0</td>\n",
       "      <td>0.0</td>\n",
       "      <td>0</td>\n",
       "      <td>0.0</td>\n",
       "      <td>21.0</td>\n",
       "      <td>f</td>\n",
       "      <td>0.0</td>\n",
       "      <td>0.0</td>\n",
       "      <td>4486.931455</td>\n",
       "      <td>4486.93</td>\n",
       "      <td>3600.0</td>\n",
       "      <td>886.93</td>\n",
       "      <td>0.0</td>\n",
       "      <td>0.0</td>\n",
       "      <td>0.0</td>\n",
       "      <td>Feb-2014</td>\n",
       "      <td>132.35</td>\n",
       "      <td>NaN</td>\n",
       "      <td>Jan-2018</td>\n",
       "      <td>0.0</td>\n",
       "      <td>NaN</td>\n",
       "      <td>1</td>\n",
       "      <td>Individual</td>\n",
       "      <td>0.0</td>\n",
       "      <td>0.0</td>\n",
       "      <td>0.0</td>\n",
       "      <td>0.0</td>\n",
       "      <td>0.0</td>\n",
       "      <td>N</td>\n",
       "      <td>Cash</td>\n",
       "      <td>N</td>\n",
       "      <td>NaN</td>\n",
       "      <td>1</td>\n",
       "      <td>0.246370</td>\n",
       "      <td>3</td>\n",
       "      <td>0.076174</td>\n",
       "    </tr>\n",
       "  </tbody>\n",
       "</table>\n",
       "</div>"
      ],
      "text/plain": [
       "       loan_amnt  funded_amnt  funded_amnt_inv       term  int_rate  \\\n",
       "5913       18575        16225          15975.0  60 months     11.99   \n",
       "10577       9000         9000           9000.0  36 months     12.23   \n",
       "6498       35000        35000          34975.0  60 months     17.99   \n",
       "17897       9000         9000           8650.0  36 months     11.14   \n",
       "10357       3600         3600           3600.0  36 months     14.91   \n",
       "\n",
       "       installment grade sub_grade                      emp_title emp_length  \\\n",
       "5913        360.84     B        B5            Viacom/MTV Networks    7 years   \n",
       "10577       299.92     C        C1                Lakeshore Dairy    9 years   \n",
       "6498        888.58     E        E1                  Deutsche Bank   < 1 year   \n",
       "17897       295.24     B        B1  Village of monroe police dept    9 years   \n",
       "10357       124.64     D        D2        The Walt Disney Company  10+ years   \n",
       "\n",
       "      home_ownership  annual_inc verification_status   issue_d loan_status  \\\n",
       "5913            RENT     56000.0     Source Verified  Jul-2011  Fully Paid   \n",
       "10577            OWN     60000.0     Source Verified  Jan-2011  Fully Paid   \n",
       "6498            RENT     85000.0            Verified  Jun-2011  Fully Paid   \n",
       "17897           RENT     72000.0     Source Verified  Aug-2009  Fully Paid   \n",
       "10357           RENT     90000.0            Verified  Jan-2011  Fully Paid   \n",
       "\n",
       "      pymnt_plan             purpose                                    title  \\\n",
       "5913           n  debt_consolidation                  Debt Consolidation Loan   \n",
       "10577          n      major_purchase                                  Diamond   \n",
       "6498           n  debt_consolidation  Consolidation and Liquidity Opportunity   \n",
       "17897          n  debt_consolidation                           to consolidate   \n",
       "10357          n              moving                                   Moving   \n",
       "\n",
       "      zip_code addr_state    dti  delinq_2yrs earliest_cr_line  \\\n",
       "5913     113xx         NY  14.68          0.0         Nov-1999   \n",
       "10577    932xx         CA   1.68          0.0         Jun-1999   \n",
       "6498     107xx         NY   2.56          0.0         Sep-2002   \n",
       "17897    109xx         NY   9.87          0.0         Aug-1998   \n",
       "10357    910xx         CA  10.03          3.0         Dec-1989   \n",
       "\n",
       "       inq_last_6mths  mths_since_last_delinq  mths_since_last_record  \\\n",
       "5913              0.0                     NaN                     NaN   \n",
       "10577             3.0                    52.0                     NaN   \n",
       "6498              1.0                     NaN                     NaN   \n",
       "17897             3.0                     NaN                     NaN   \n",
       "10357             0.0                     8.0                     NaN   \n",
       "\n",
       "       open_acc  pub_rec  revol_bal  revol_util  total_acc  \\\n",
       "5913       13.0      0.0      23744        61.3       33.0   \n",
       "10577       5.0      0.0       2155        34.8        8.0   \n",
       "6498        4.0      0.0       9479        37.9        7.0   \n",
       "17897      14.0      0.0      23255        45.1       63.0   \n",
       "10357       3.0      0.0          0         0.0       21.0   \n",
       "\n",
       "      initial_list_status  out_prncp  out_prncp_inv   total_pymnt  \\\n",
       "5913                    f        0.0            0.0  21649.924672   \n",
       "10577                   f        0.0            0.0   9930.508634   \n",
       "6498                    f        0.0            0.0  43119.525108   \n",
       "17897                   f        0.0            0.0   9322.638507   \n",
       "10357                   f        0.0            0.0   4486.931455   \n",
       "\n",
       "       total_pymnt_inv  total_rec_prncp  total_rec_int  total_rec_late_fee  \\\n",
       "5913          21316.34          16225.0        5424.92                 0.0   \n",
       "10577          9930.51           9000.0         930.51                 0.0   \n",
       "6498          43088.73          35000.0        8119.53                 0.0   \n",
       "17897          8960.11           9000.0         322.64                 0.0   \n",
       "10357          4486.93           3600.0         886.93                 0.0   \n",
       "\n",
       "       recoveries  collection_recovery_fee last_pymnt_d  last_pymnt_amnt  \\\n",
       "5913          0.0                      0.0     Jul-2016           360.36   \n",
       "10577         0.0                      0.0     Dec-2012           144.24   \n",
       "6498          0.0                      0.0     Dec-2012         28913.54   \n",
       "17897         0.0                      0.0     Dec-2009          8437.84   \n",
       "10357         0.0                      0.0     Feb-2014           132.35   \n",
       "\n",
       "       next_pymnt_d last_credit_pull_d  collections_12_mths_ex_med  \\\n",
       "5913            NaN           Feb-2019                         0.0   \n",
       "10577           NaN           Dec-2012                         0.0   \n",
       "6498            NaN           Feb-2017                         0.0   \n",
       "17897           NaN           Feb-2019                         0.0   \n",
       "10357           NaN           Jan-2018                         0.0   \n",
       "\n",
       "       mths_since_last_major_derog  policy_code application_type  \\\n",
       "5913                           NaN            1       Individual   \n",
       "10577                          NaN            1       Individual   \n",
       "6498                           NaN            1       Individual   \n",
       "17897                          NaN            1       Individual   \n",
       "10357                          NaN            1       Individual   \n",
       "\n",
       "       acc_now_delinq  chargeoff_within_12_mths  delinq_amnt  \\\n",
       "5913              0.0                       0.0          0.0   \n",
       "10577             0.0                       0.0          0.0   \n",
       "6498              0.0                       0.0          0.0   \n",
       "17897             0.0                       0.0          0.0   \n",
       "10357             0.0                       0.0          0.0   \n",
       "\n",
       "       pub_rec_bankruptcies  tax_liens hardship_flag disbursement_method  \\\n",
       "5913                    0.0        0.0             N                Cash   \n",
       "10577                   0.0        0.0             N                Cash   \n",
       "6498                    0.0        0.0             N                Cash   \n",
       "17897                   0.0        0.0             N                Cash   \n",
       "10357                   0.0        0.0             N                Cash   \n",
       "\n",
       "      debt_settlement_flag debt_settlement_flag_date  repaid  total_return  \\\n",
       "5913                     N                       NaN       1      0.334356   \n",
       "10577                    N                       NaN       1      0.103390   \n",
       "6498                     N                       NaN       1      0.231986   \n",
       "17897                    N                       NaN       1      0.035849   \n",
       "10357                    N                       NaN       1      0.246370   \n",
       "\n",
       "       loan_term_year  annual_return  \n",
       "5913                5       0.059386  \n",
       "10577               3       0.033339  \n",
       "6498                5       0.042608  \n",
       "17897               3       0.011810  \n",
       "10357               3       0.076174  "
      ]
     },
     "execution_count": 11,
     "metadata": {},
     "output_type": "execute_result"
    }
   ],
   "source": [
    "loan_df.sample(5)"
   ]
  },
  {
   "cell_type": "code",
   "execution_count": 12,
   "metadata": {},
   "outputs": [
    {
     "data": {
      "text/plain": [
       "3    14852\n",
       "5     5056\n",
       "Name: loan_term_year, dtype: int64"
      ]
     },
     "execution_count": 12,
     "metadata": {},
     "output_type": "execute_result"
    }
   ],
   "source": [
    "loan_df.loan_term_year.value_counts()"
   ]
  },
  {
   "cell_type": "code",
   "execution_count": 13,
   "metadata": {},
   "outputs": [],
   "source": [
    "def get_loan_annual_return(df):\n",
    "    '''\n",
    "    display 36 and 60 month loan annual return\n",
    "    '''\n",
    "    annual_return_36, annual_return_60 = 0, 0\n",
    "    df_36 = df[df.loan_term_year==3]\n",
    "    if(len(df_36)>0):\n",
    "        return_36 = (df_36.total_pymnt.sum() + df_36.recoveries.sum())/df_36.funded_amnt.sum()-1\n",
    "        annual_return_36 = (1+return_36)**(1/3)-1\n",
    "    df_60 = df[df.loan_term_year==5]\n",
    "    if(len(df_60)>0):\n",
    "        return_60 = (df_60.total_pymnt.sum() + df_60.recoveries.sum())/df_60.funded_amnt.sum()-1\n",
    "        annual_return_60 = (1+return_60)**(1/5)-1\n",
    "    print ('36 months loan:', len(df_36), 'Annual return:', round(annual_return_36, 4))\n",
    "    print ('60 months loan:', len(df_60), 'Annual return:', round(annual_return_60, 4))"
   ]
  },
  {
   "cell_type": "markdown",
   "metadata": {},
   "source": [
    "We get annual returns of all loans in the dataset with the function in the next code cell. The 36 months loans have about 3.03% annual return and the 60 months loans have about 3.13% annual return."
   ]
  },
  {
   "cell_type": "code",
   "execution_count": 14,
   "metadata": {},
   "outputs": [
    {
     "name": "stdout",
     "output_type": "stream",
     "text": [
      "36 months loan: 14852 Annual return: 0.0303\n",
      "60 months loan: 5056 Annual return: 0.0313\n"
     ]
    }
   ],
   "source": [
    "get_loan_annual_return(loan_df)"
   ]
  },
  {
   "cell_type": "markdown",
   "metadata": {},
   "source": [
    "#### Select Features\n",
    "\n",
    "The objective of the project is to identify a profitable loan portfolio to invest. You will need to select the features based on which you can make the selection. The features should be available before loan initiation. They should also be most relavent to the objective.\n"
   ]
  },
  {
   "cell_type": "markdown",
   "metadata": {},
   "source": [
    "### Modeling\n",
    "\n",
    "Use machine learning models to help you identify loans that are most likely to be paid off.\n",
    "\n",
    "- Data preprocessing\n",
    "- Modeling, evaluation and optimization\n",
    "- Conclusion\n",
    "\n",
    "The next code cell defines function that plot the confusion matrix. You may use the function in your model evaluation."
   ]
  },
  {
   "cell_type": "code",
   "execution_count": 15,
   "metadata": {},
   "outputs": [],
   "source": [
    "# This method produces a colored heatmap that displays the relationship\n",
    "# between predicted and actual types from a machine learning method.\n",
    "def confusion(test, predict, labels, title='Confusion Matrix'):\n",
    "    '''\n",
    "        test: true label of test data, must be one dimensional\n",
    "        predict: predicted label of test data, must be one dimensional\n",
    "        labels: list of label names, ie: ['positive', 'negative']\n",
    "        title: plot title\n",
    "    '''\n",
    "\n",
    "    bins = len(labels)\n",
    "    # Make a 2D histogram from the test and result arrays\n",
    "    pts, xe, ye = np.histogram2d(test, predict, bins)\n",
    "\n",
    "    # For simplicity we create a new DataFrame\n",
    "    pd_pts = pd.DataFrame(pts.astype(int), index=labels, columns=labels )\n",
    "    \n",
    "    # Display heatmap and add decorations\n",
    "    hm = sns.heatmap(pd_pts, annot=True, fmt=\"d\")    \n",
    "    hm.axes.set_title(title, fontsize=20)\n",
    "    hm.axes.set_xlabel('Predicted', fontsize=18)\n",
    "    hm.axes.set_ylabel('Actual', fontsize=18)\n",
    "\n",
    "    return None"
   ]
  },
  {
   "cell_type": "markdown",
   "metadata": {},
   "source": [
    "### Construct Loan Portfolio\n",
    "\n",
    "Machine learning models help you to identify the loans most likely to be paid off. But our goal is to construct a portfolio of loans that has better than average annual return. So the overall model accracy rate doesn't matter. The paid off rate of the loans selected by your model is more important.\n"
   ]
  },
  {
   "cell_type": "markdown",
   "metadata": {},
   "source": [
    "----\n",
    "\n",
    "# Notebook Report Tasks(60 points)\n",
    "\n",
    "There are four tasks you need to finish for this notebook report. Each task accounts for certain points. There are total 60 points for this notebook report.\n",
    "\n",
    "- Select Features (10 points)\n",
    "- Modeling (30 points)\n",
    "- Construct Portfolio of Loans (15 points)\n",
    "- Conclusion (5 points)\n",
    "\n",
    "Please include all needed python code in this notebook. Each task should have a summary. \n",
    "\n",
    "**Please run all code cells before this cell before proceeding.**"
   ]
  },
  {
   "cell_type": "markdown",
   "metadata": {},
   "source": [
    "## Task 1: Select Features (10 points)\n",
    "\n",
    "Use domain knowledge and exploratory data analysis to make the initial feature selection. You need to justify why you discard or select a feature. For example, you may say, following features are excluded since they are only available after loan is initiated: feature1, feature2, ....\n",
    "\n",
    "Please include all python code used to help you make the selection. You can have as may code cells as needed and you will need to summerize your selections and reasons in a markdown cell.\n",
    "\n",
    "After task 1, you should have a new DataFrame that contains the selected features. This DataFrame should also include the three features that help to calculate loan returns. You will not use the three features to select loans but you will need them to evaluate your selection.\n",
    "\n",
    "You may use(but not limited to) following criterias to select features:\n",
    "\n",
    "- Exclude features that are only available after loan initiation. For example, total_pymnt is not a feature you can use to help you select loans.\n",
    "- Exclude features that have too many missing values, especially when it's hard to fill the missing values.\n",
    "- Exclude categorical features that have too many categories.\n",
    "- Exclude categorical features that have only one category.\n",
    "- Exclude features that have just one value.\n",
    "- Include features that have impact on paid off rate and return.\n",
    "\n",
    "You may use(but not limited to) following techiques:\n",
    "\n",
    "- Domain knowledge(common sense). For example, annual income is likely to have positive impact on paid off rate.\n",
    "- Exploratory Data Analysis with includes:\n",
    "    - Descriptive satistics\n",
    "    - Groupby\n",
    "    - Pivot table\n",
    "    - Visualization\n",
    "\n",
    "You are **not** required to use all techniques listed above."
   ]
  },
  {
   "cell_type": "code",
   "execution_count": 16,
   "metadata": {
    "scrolled": true
   },
   "outputs": [
    {
     "data": {
      "text/plain": [
       "Index(['loan_amnt', 'funded_amnt', 'funded_amnt_inv', 'term', 'int_rate',\n",
       "       'installment', 'grade', 'sub_grade', 'emp_title', 'emp_length',\n",
       "       'home_ownership', 'annual_inc', 'verification_status', 'issue_d',\n",
       "       'loan_status', 'pymnt_plan', 'purpose', 'title', 'zip_code',\n",
       "       'addr_state', 'dti', 'delinq_2yrs', 'earliest_cr_line',\n",
       "       'inq_last_6mths', 'mths_since_last_delinq', 'mths_since_last_record',\n",
       "       'open_acc', 'pub_rec', 'revol_bal', 'revol_util', 'total_acc',\n",
       "       'initial_list_status', 'out_prncp', 'out_prncp_inv', 'total_pymnt',\n",
       "       'total_pymnt_inv', 'total_rec_prncp', 'total_rec_int',\n",
       "       'total_rec_late_fee', 'recoveries', 'collection_recovery_fee',\n",
       "       'last_pymnt_d', 'last_pymnt_amnt', 'next_pymnt_d', 'last_credit_pull_d',\n",
       "       'collections_12_mths_ex_med', 'mths_since_last_major_derog',\n",
       "       'policy_code', 'application_type', 'acc_now_delinq',\n",
       "       'chargeoff_within_12_mths', 'delinq_amnt', 'pub_rec_bankruptcies',\n",
       "       'tax_liens', 'hardship_flag', 'disbursement_method',\n",
       "       'debt_settlement_flag', 'debt_settlement_flag_date', 'repaid',\n",
       "       'total_return', 'loan_term_year', 'annual_return'],\n",
       "      dtype='object')"
      ]
     },
     "execution_count": 16,
     "metadata": {},
     "output_type": "execute_result"
    }
   ],
   "source": [
    "loan_df.columns"
   ]
  },
  {
   "cell_type": "code",
   "execution_count": 17,
   "metadata": {},
   "outputs": [],
   "source": [
    "def evaluate_continuous_feature(feature):\n",
    "    print('feature:', feature)\n",
    "    print('avg by repaid:', loan_df.groupby('repaid')[feature].mean())\n",
    "    print('corr to return:', round(loan_df[[feature, 'annual_return']].corr().iat[0,1], 3))"
   ]
  },
  {
   "cell_type": "code",
   "execution_count": 18,
   "metadata": {},
   "outputs": [],
   "source": [
    "def evaluate_categorical_feature(feature):\n",
    "    print('feature:', feature)\n",
    "    print('value counts:\\n', loan_df[feature].value_counts())\n",
    "    print('avg repaid:\\n', loan_df.groupby(feature).repaid.mean().sort_values())\n",
    "    print('avg annual return:\\n', loan_df.groupby(feature).annual_return.mean().sort_values())"
   ]
  },
  {
   "cell_type": "markdown",
   "metadata": {},
   "source": [
    "#### funded_amnt\n",
    "lower funded_amnt higher repaid.  \n",
    "No correlation to annual_return. keep."
   ]
  },
  {
   "cell_type": "code",
   "execution_count": 19,
   "metadata": {},
   "outputs": [
    {
     "name": "stdout",
     "output_type": "stream",
     "text": [
      "feature: funded_amnt\n",
      "avg by repaid: repaid\n",
      "0    11904.289840\n",
      "1    10920.300619\n",
      "Name: funded_amnt, dtype: float64\n",
      "corr to return: 0.01\n"
     ]
    }
   ],
   "source": [
    "evaluate_continuous_feature('funded_amnt')"
   ]
  },
  {
   "cell_type": "markdown",
   "metadata": {},
   "source": [
    "#### emp_title\n",
    "Too many values"
   ]
  },
  {
   "cell_type": "code",
   "execution_count": 20,
   "metadata": {},
   "outputs": [
    {
     "data": {
      "text/plain": [
       "15048"
      ]
     },
     "execution_count": 20,
     "metadata": {},
     "output_type": "execute_result"
    }
   ],
   "source": [
    "len(loan_df.emp_title.unique())"
   ]
  },
  {
   "cell_type": "markdown",
   "metadata": {},
   "source": [
    "#### emp_length\n",
    "Longer emp_length seems to have lower repaid rate, but not very significant.\n",
    "It doesn't have clear impact on loan return."
   ]
  },
  {
   "cell_type": "code",
   "execution_count": 21,
   "metadata": {
    "scrolled": false
   },
   "outputs": [
    {
     "name": "stdout",
     "output_type": "stream",
     "text": [
      "feature: emp_length\n",
      "value counts:\n",
      " 10+ years    4249\n",
      "< 1 year     2306\n",
      "2 years      2218\n",
      "3 years      2108\n",
      "4 years      1871\n",
      "5 years      1649\n",
      "1 year       1637\n",
      "6 years      1151\n",
      "7 years       867\n",
      "8 years       718\n",
      "9 years       635\n",
      "Name: emp_length, dtype: int64\n",
      "avg repaid:\n",
      " emp_length\n",
      "10+ years    0.837138\n",
      "5 years      0.843542\n",
      "6 years      0.845352\n",
      "8 years      0.848189\n",
      "7 years      0.850058\n",
      "1 year       0.852169\n",
      "4 years      0.857830\n",
      "< 1 year     0.862966\n",
      "3 years      0.864326\n",
      "9 years      0.869291\n",
      "2 years      0.874211\n",
      "Name: repaid, dtype: float64\n",
      "avg annual return:\n",
      " emp_length\n",
      "6 years      0.016613\n",
      "7 years      0.017060\n",
      "8 years      0.017716\n",
      "1 year       0.017930\n",
      "< 1 year     0.018607\n",
      "4 years      0.018954\n",
      "5 years      0.019462\n",
      "10+ years    0.019721\n",
      "9 years      0.020286\n",
      "2 years      0.023222\n",
      "3 years      0.023345\n",
      "Name: annual_return, dtype: float64\n"
     ]
    }
   ],
   "source": [
    "evaluate_categorical_feature('emp_length')"
   ]
  },
  {
   "cell_type": "code",
   "execution_count": 22,
   "metadata": {},
   "outputs": [
    {
     "data": {
      "text/html": [
       "<div>\n",
       "<style scoped>\n",
       "    .dataframe tbody tr th:only-of-type {\n",
       "        vertical-align: middle;\n",
       "    }\n",
       "\n",
       "    .dataframe tbody tr th {\n",
       "        vertical-align: top;\n",
       "    }\n",
       "\n",
       "    .dataframe thead th {\n",
       "        text-align: right;\n",
       "    }\n",
       "</style>\n",
       "<table border=\"1\" class=\"dataframe\">\n",
       "  <thead>\n",
       "    <tr style=\"text-align: right;\">\n",
       "      <th></th>\n",
       "      <th>repaid</th>\n",
       "    </tr>\n",
       "    <tr>\n",
       "      <th>emp_length</th>\n",
       "      <th></th>\n",
       "    </tr>\n",
       "  </thead>\n",
       "  <tbody>\n",
       "    <tr>\n",
       "      <td>10+ years</td>\n",
       "      <td>0.837138</td>\n",
       "    </tr>\n",
       "    <tr>\n",
       "      <td>5 years</td>\n",
       "      <td>0.843542</td>\n",
       "    </tr>\n",
       "    <tr>\n",
       "      <td>6 years</td>\n",
       "      <td>0.845352</td>\n",
       "    </tr>\n",
       "    <tr>\n",
       "      <td>8 years</td>\n",
       "      <td>0.848189</td>\n",
       "    </tr>\n",
       "    <tr>\n",
       "      <td>7 years</td>\n",
       "      <td>0.850058</td>\n",
       "    </tr>\n",
       "    <tr>\n",
       "      <td>1 year</td>\n",
       "      <td>0.852169</td>\n",
       "    </tr>\n",
       "    <tr>\n",
       "      <td>4 years</td>\n",
       "      <td>0.857830</td>\n",
       "    </tr>\n",
       "    <tr>\n",
       "      <td>&lt; 1 year</td>\n",
       "      <td>0.862966</td>\n",
       "    </tr>\n",
       "    <tr>\n",
       "      <td>3 years</td>\n",
       "      <td>0.864326</td>\n",
       "    </tr>\n",
       "    <tr>\n",
       "      <td>9 years</td>\n",
       "      <td>0.869291</td>\n",
       "    </tr>\n",
       "    <tr>\n",
       "      <td>2 years</td>\n",
       "      <td>0.874211</td>\n",
       "    </tr>\n",
       "  </tbody>\n",
       "</table>\n",
       "</div>"
      ],
      "text/plain": [
       "              repaid\n",
       "emp_length          \n",
       "10+ years   0.837138\n",
       "5 years     0.843542\n",
       "6 years     0.845352\n",
       "8 years     0.848189\n",
       "7 years     0.850058\n",
       "1 year      0.852169\n",
       "4 years     0.857830\n",
       "< 1 year    0.862966\n",
       "3 years     0.864326\n",
       "9 years     0.869291\n",
       "2 years     0.874211"
      ]
     },
     "execution_count": 22,
     "metadata": {},
     "output_type": "execute_result"
    }
   ],
   "source": [
    "loan_df.pivot_table(index='emp_length', values='repaid', aggfunc='mean').sort_values(by='repaid')"
   ]
  },
  {
   "cell_type": "code",
   "execution_count": 23,
   "metadata": {
    "scrolled": true
   },
   "outputs": [
    {
     "name": "stdout",
     "output_type": "stream",
     "text": [
      "********** 10+ years\n",
      "36 months loan: 2849 Annual return: 0.0298\n",
      "60 months loan: 1400 Annual return: 0.0313\n",
      "********** 9 years\n",
      "36 months loan: 465 Annual return: 0.0277\n",
      "60 months loan: 170 Annual return: 0.0301\n",
      "********** 4 years\n",
      "36 months loan: 1436 Annual return: 0.0289\n",
      "60 months loan: 435 Annual return: 0.0328\n",
      "********** < 1 year\n",
      "36 months loan: 1857 Annual return: 0.03\n",
      "60 months loan: 449 Annual return: 0.0308\n",
      "********** 3 years\n",
      "36 months loan: 1612 Annual return: 0.0345\n",
      "60 months loan: 496 Annual return: 0.0329\n",
      "********** 6 years\n",
      "36 months loan: 840 Annual return: 0.0308\n",
      "60 months loan: 311 Annual return: 0.0281\n",
      "********** 5 years\n",
      "36 months loan: 1207 Annual return: 0.0302\n",
      "60 months loan: 442 Annual return: 0.0311\n",
      "********** 1 year\n",
      "36 months loan: 1329 Annual return: 0.0294\n",
      "60 months loan: 308 Annual return: 0.0286\n",
      "********** 2 years\n",
      "36 months loan: 1736 Annual return: 0.033\n",
      "60 months loan: 482 Annual return: 0.0377\n",
      "********** 7 years\n",
      "36 months loan: 617 Annual return: 0.0323\n",
      "60 months loan: 250 Annual return: 0.0255\n",
      "********** 8 years\n",
      "36 months loan: 535 Annual return: 0.0276\n",
      "60 months loan: 183 Annual return: 0.0325\n",
      "********** nan\n",
      "36 months loan: 0 Annual return: 0\n",
      "60 months loan: 0 Annual return: 0\n"
     ]
    }
   ],
   "source": [
    "for i in loan_df.emp_length.unique():\n",
    "    print ('*'*10, i)\n",
    "    get_loan_annual_return(loan_df[loan_df.emp_length==i])"
   ]
  },
  {
   "cell_type": "markdown",
   "metadata": {},
   "source": [
    "#### home_ownership\n",
    "\n",
    "Seems borrowers have home mortgage have higher repaid. But not affect loan return much.\n"
   ]
  },
  {
   "cell_type": "code",
   "execution_count": 24,
   "metadata": {},
   "outputs": [
    {
     "data": {
      "text/plain": [
       "RENT        10966\n",
       "MORTGAGE     7351\n",
       "OWN          1546\n",
       "OTHER          44\n",
       "NONE            1\n",
       "Name: home_ownership, dtype: int64"
      ]
     },
     "execution_count": 24,
     "metadata": {},
     "output_type": "execute_result"
    }
   ],
   "source": [
    "loan_df.home_ownership.value_counts()"
   ]
  },
  {
   "cell_type": "code",
   "execution_count": 25,
   "metadata": {
    "scrolled": true
   },
   "outputs": [
    {
     "data": {
      "text/plain": [
       "home_ownership\n",
       "MORTGAGE    0.861379\n",
       "NONE        1.000000\n",
       "OTHER       0.818182\n",
       "OWN         0.841527\n",
       "RENT        0.847620\n",
       "Name: repaid, dtype: float64"
      ]
     },
     "execution_count": 25,
     "metadata": {},
     "output_type": "execute_result"
    }
   ],
   "source": [
    "loan_df.groupby('home_ownership').repaid.mean()"
   ]
  },
  {
   "cell_type": "code",
   "execution_count": 26,
   "metadata": {},
   "outputs": [
    {
     "name": "stdout",
     "output_type": "stream",
     "text": [
      "36 months loan: 5058 Annual return: 0.0301\n",
      "60 months loan: 2293 Annual return: 0.0322\n"
     ]
    }
   ],
   "source": [
    "get_loan_annual_return(loan_df[loan_df.home_ownership=='MORTGAGE'])"
   ]
  },
  {
   "cell_type": "code",
   "execution_count": 27,
   "metadata": {
    "scrolled": true
   },
   "outputs": [
    {
     "name": "stdout",
     "output_type": "stream",
     "text": [
      "36 months loan: 9794 Annual return: 0.0304\n",
      "60 months loan: 2763 Annual return: 0.0304\n"
     ]
    }
   ],
   "source": [
    "get_loan_annual_return(loan_df[loan_df.home_ownership!='MORTGAGE'])"
   ]
  },
  {
   "cell_type": "markdown",
   "metadata": {},
   "source": [
    "#### verification_status\n",
    "Seems verifed has lower repaid rate, but no obvious impact on return."
   ]
  },
  {
   "cell_type": "code",
   "execution_count": 28,
   "metadata": {
    "scrolled": true
   },
   "outputs": [
    {
     "data": {
      "text/plain": [
       "Not Verified       8257\n",
       "Verified           6464\n",
       "Source Verified    5187\n",
       "Name: verification_status, dtype: int64"
      ]
     },
     "execution_count": 28,
     "metadata": {},
     "output_type": "execute_result"
    }
   ],
   "source": [
    "loan_df.verification_status.value_counts()"
   ]
  },
  {
   "cell_type": "code",
   "execution_count": 29,
   "metadata": {},
   "outputs": [
    {
     "data": {
      "text/plain": [
       "verification_status\n",
       "Not Verified       0.867991\n",
       "Source Verified    0.852130\n",
       "Verified           0.831993\n",
       "Name: repaid, dtype: float64"
      ]
     },
     "execution_count": 29,
     "metadata": {},
     "output_type": "execute_result"
    }
   ],
   "source": [
    "loan_df.groupby('verification_status').repaid.mean()"
   ]
  },
  {
   "cell_type": "code",
   "execution_count": 30,
   "metadata": {},
   "outputs": [
    {
     "name": "stdout",
     "output_type": "stream",
     "text": [
      "36 months loan: 3984 Annual return: 0.0318\n",
      "60 months loan: 2480 Annual return: 0.0316\n"
     ]
    }
   ],
   "source": [
    "get_loan_annual_return(loan_df[loan_df.verification_status=='Verified'])"
   ]
  },
  {
   "cell_type": "code",
   "execution_count": 31,
   "metadata": {},
   "outputs": [
    {
     "name": "stdout",
     "output_type": "stream",
     "text": [
      "36 months loan: 7199 Annual return: 0.0287\n",
      "60 months loan: 1058 Annual return: 0.031\n"
     ]
    }
   ],
   "source": [
    "get_loan_annual_return(loan_df[loan_df.verification_status=='Not Verified'])"
   ]
  },
  {
   "cell_type": "code",
   "execution_count": 32,
   "metadata": {},
   "outputs": [
    {
     "name": "stdout",
     "output_type": "stream",
     "text": [
      "36 months loan: 3669 Annual return: 0.0307\n",
      "60 months loan: 1518 Annual return: 0.0308\n"
     ]
    }
   ],
   "source": [
    "get_loan_annual_return(loan_df[loan_df.verification_status=='Source Verified'])"
   ]
  },
  {
   "cell_type": "markdown",
   "metadata": {},
   "source": [
    "#### pymnt_plan\n",
    "Only value 'n'."
   ]
  },
  {
   "cell_type": "code",
   "execution_count": 33,
   "metadata": {
    "scrolled": true
   },
   "outputs": [
    {
     "data": {
      "text/plain": [
       "n    19908\n",
       "Name: pymnt_plan, dtype: int64"
      ]
     },
     "execution_count": 33,
     "metadata": {},
     "output_type": "execute_result"
    }
   ],
   "source": [
    "loan_df.pymnt_plan.value_counts()"
   ]
  },
  {
   "cell_type": "markdown",
   "metadata": {},
   "source": [
    "#### purpose\n",
    "small business has low repaid and very low return. \n",
    "\n",
    "**May not be very effective for repaid classification, but can be used to construct loan portfolio.**\n",
    "Avoid:\n",
    "- small_business\n",
    "- educational"
   ]
  },
  {
   "cell_type": "code",
   "execution_count": 34,
   "metadata": {},
   "outputs": [
    {
     "data": {
      "text/plain": [
       "debt_consolidation    9389\n",
       "credit_card           2696\n",
       "other                 2060\n",
       "home_improvement      1330\n",
       "major_purchase        1048\n",
       "small_business         905\n",
       "car                    687\n",
       "wedding                539\n",
       "medical                350\n",
       "moving                 317\n",
       "vacation               199\n",
       "house                  176\n",
       "educational            161\n",
       "renewable_energy        51\n",
       "Name: purpose, dtype: int64"
      ]
     },
     "execution_count": 34,
     "metadata": {},
     "output_type": "execute_result"
    }
   ],
   "source": [
    "loan_df.purpose.value_counts()"
   ]
  },
  {
   "cell_type": "code",
   "execution_count": 35,
   "metadata": {},
   "outputs": [
    {
     "data": {
      "text/plain": [
       "purpose\n",
       "small_business        0.728177\n",
       "educational           0.801242\n",
       "house                 0.823864\n",
       "moving                0.829653\n",
       "other                 0.843689\n",
       "debt_consolidation    0.845670\n",
       "medical               0.854286\n",
       "vacation              0.859296\n",
       "renewable_energy      0.862745\n",
       "home_improvement      0.875188\n",
       "credit_card           0.885757\n",
       "major_purchase        0.887405\n",
       "car                   0.892285\n",
       "wedding               0.894249\n",
       "Name: repaid, dtype: float64"
      ]
     },
     "execution_count": 35,
     "metadata": {},
     "output_type": "execute_result"
    }
   ],
   "source": [
    "loan_df.groupby('purpose').repaid.mean().sort_values()"
   ]
  },
  {
   "cell_type": "code",
   "execution_count": 36,
   "metadata": {
    "scrolled": true
   },
   "outputs": [
    {
     "name": "stdout",
     "output_type": "stream",
     "text": [
      "36 months loan: 606 Annual return: 0.0073\n",
      "60 months loan: 299 Annual return: 0.0141\n"
     ]
    }
   ],
   "source": [
    "get_loan_annual_return(loan_df[loan_df.purpose=='small_business'])"
   ]
  },
  {
   "cell_type": "code",
   "execution_count": 37,
   "metadata": {},
   "outputs": [
    {
     "name": "stdout",
     "output_type": "stream",
     "text": [
      "36 months loan: 153 Annual return: 0.0147\n",
      "60 months loan: 8 Annual return: -0.0213\n"
     ]
    }
   ],
   "source": [
    "get_loan_annual_return(loan_df[loan_df.purpose=='educational'])"
   ]
  },
  {
   "cell_type": "code",
   "execution_count": 38,
   "metadata": {},
   "outputs": [
    {
     "name": "stdout",
     "output_type": "stream",
     "text": [
      "36 months loan: 125 Annual return: 0.019\n",
      "60 months loan: 51 Annual return: 0.0344\n"
     ]
    }
   ],
   "source": [
    "get_loan_annual_return(loan_df[loan_df.purpose=='house'])"
   ]
  },
  {
   "cell_type": "code",
   "execution_count": 39,
   "metadata": {},
   "outputs": [
    {
     "name": "stdout",
     "output_type": "stream",
     "text": [
      "36 months loan: 268 Annual return: 0.0237\n",
      "60 months loan: 49 Annual return: 0.034\n"
     ]
    }
   ],
   "source": [
    "get_loan_annual_return(loan_df[loan_df.purpose=='moving'])"
   ]
  },
  {
   "cell_type": "code",
   "execution_count": 40,
   "metadata": {},
   "outputs": [
    {
     "name": "stdout",
     "output_type": "stream",
     "text": [
      "36 months loan: 2174 Annual return: 0.0362\n",
      "60 months loan: 522 Annual return: 0.0356\n"
     ]
    }
   ],
   "source": [
    "get_loan_annual_return(loan_df[loan_df.purpose=='credit_card'])"
   ]
  },
  {
   "cell_type": "code",
   "execution_count": 41,
   "metadata": {},
   "outputs": [
    {
     "name": "stdout",
     "output_type": "stream",
     "text": [
      "36 months loan: 411 Annual return: 0.0309\n",
      "60 months loan: 128 Annual return: 0.0396\n"
     ]
    }
   ],
   "source": [
    "get_loan_annual_return(loan_df[loan_df.purpose=='wedding'])"
   ]
  },
  {
   "cell_type": "markdown",
   "metadata": {},
   "source": [
    "#### title\n",
    "too many unique values."
   ]
  },
  {
   "cell_type": "code",
   "execution_count": 42,
   "metadata": {},
   "outputs": [
    {
     "data": {
      "text/plain": [
       "10539"
      ]
     },
     "execution_count": 42,
     "metadata": {},
     "output_type": "execute_result"
    }
   ],
   "source": [
    "len(loan_df.title.unique())"
   ]
  },
  {
   "cell_type": "code",
   "execution_count": 43,
   "metadata": {},
   "outputs": [
    {
     "data": {
      "text/plain": [
       "260"
      ]
     },
     "execution_count": 43,
     "metadata": {},
     "output_type": "execute_result"
    }
   ],
   "source": [
    "len(loan_df.zip_code.unique())"
   ]
  },
  {
   "cell_type": "markdown",
   "metadata": {},
   "source": [
    "#### addr_state\n",
    "\n",
    "FL and CA has low repaid rate return. Consider keep."
   ]
  },
  {
   "cell_type": "code",
   "execution_count": 44,
   "metadata": {},
   "outputs": [
    {
     "name": "stdout",
     "output_type": "stream",
     "text": [
      "feature: addr_state\n",
      "value counts:\n",
      " CA    7105\n",
      "NY    3817\n",
      "FL    2872\n",
      "TX    2734\n",
      "NJ    1855\n",
      "IL    1525\n",
      "Name: addr_state, dtype: int64\n",
      "avg repaid:\n",
      " addr_state\n",
      "FL    0.822772\n",
      "CA    0.840816\n",
      "NJ    0.847978\n",
      "NY    0.868745\n",
      "IL    0.870164\n",
      "TX    0.882224\n",
      "Name: repaid, dtype: float64\n",
      "avg annual return:\n",
      " addr_state\n",
      "FL    0.012247\n",
      "CA    0.014999\n",
      "NJ    0.021213\n",
      "IL    0.023692\n",
      "NY    0.024185\n",
      "TX    0.026185\n",
      "Name: annual_return, dtype: float64\n"
     ]
    }
   ],
   "source": [
    "evaluate_categorical_feature('addr_state')"
   ]
  },
  {
   "cell_type": "code",
   "execution_count": 45,
   "metadata": {},
   "outputs": [
    {
     "data": {
      "text/plain": [
       "addr_state\n",
       "FL    0.822772\n",
       "CA    0.840816\n",
       "NJ    0.847978\n",
       "NY    0.868745\n",
       "IL    0.870164\n",
       "TX    0.882224\n",
       "Name: repaid, dtype: float64"
      ]
     },
     "execution_count": 45,
     "metadata": {},
     "output_type": "execute_result"
    }
   ],
   "source": [
    "loan_df.groupby('addr_state').repaid.mean().sort_values()"
   ]
  },
  {
   "cell_type": "code",
   "execution_count": 46,
   "metadata": {},
   "outputs": [
    {
     "name": "stdout",
     "output_type": "stream",
     "text": [
      "36 months loan: 2119 Annual return: 0.0231\n",
      "60 months loan: 753 Annual return: 0.0259\n"
     ]
    }
   ],
   "source": [
    "get_loan_annual_return(loan_df[loan_df.addr_state=='FL'])"
   ]
  },
  {
   "cell_type": "code",
   "execution_count": 47,
   "metadata": {},
   "outputs": [
    {
     "name": "stdout",
     "output_type": "stream",
     "text": [
      "36 months loan: 2049 Annual return: 0.035\n",
      "60 months loan: 685 Annual return: 0.0373\n"
     ]
    }
   ],
   "source": [
    "get_loan_annual_return(loan_df[loan_df.addr_state=='TX'])"
   ]
  },
  {
   "cell_type": "code",
   "execution_count": 48,
   "metadata": {},
   "outputs": [
    {
     "name": "stdout",
     "output_type": "stream",
     "text": [
      "36 months loan: 2853 Annual return: 0.0347\n",
      "60 months loan: 964 Annual return: 0.0343\n"
     ]
    }
   ],
   "source": [
    "get_loan_annual_return(loan_df[loan_df.addr_state=='NY'])"
   ]
  },
  {
   "cell_type": "code",
   "execution_count": 49,
   "metadata": {},
   "outputs": [
    {
     "name": "stdout",
     "output_type": "stream",
     "text": [
      "36 months loan: 5362 Annual return: 0.0276\n",
      "60 months loan: 1743 Annual return: 0.0278\n"
     ]
    }
   ],
   "source": [
    "get_loan_annual_return(loan_df[loan_df.addr_state=='CA'])"
   ]
  },
  {
   "cell_type": "code",
   "execution_count": 50,
   "metadata": {
    "scrolled": true
   },
   "outputs": [
    {
     "name": "stdout",
     "output_type": "stream",
     "text": [
      "36 months loan: 1337 Annual return: 0.0317\n",
      "60 months loan: 518 Annual return: 0.0325\n"
     ]
    }
   ],
   "source": [
    "get_loan_annual_return(loan_df[loan_df.addr_state=='NJ'])"
   ]
  },
  {
   "cell_type": "markdown",
   "metadata": {},
   "source": [
    "#### dti\n",
    "\n",
    "For continous features, check:\n",
    "- statistics\n",
    "- correlation to annual return\n",
    "- groupby repaid and compare mean\n",
    "\n",
    "Lower dti means better repaid rate. dti has negative correlation to return."
   ]
  },
  {
   "cell_type": "code",
   "execution_count": 51,
   "metadata": {},
   "outputs": [
    {
     "data": {
      "text/plain": [
       "count    19908.000000\n",
       "mean        13.008619\n",
       "std          6.663658\n",
       "min          0.000000\n",
       "25%          7.840000\n",
       "50%         13.075000\n",
       "75%         18.200000\n",
       "max         29.990000\n",
       "Name: dti, dtype: float64"
      ]
     },
     "execution_count": 51,
     "metadata": {},
     "output_type": "execute_result"
    }
   ],
   "source": [
    "loan_df.dti.describe()"
   ]
  },
  {
   "cell_type": "code",
   "execution_count": 52,
   "metadata": {},
   "outputs": [
    {
     "data": {
      "text/plain": [
       "repaid\n",
       "0    13.628270\n",
       "1    12.901125\n",
       "Name: dti, dtype: float64"
      ]
     },
     "execution_count": 52,
     "metadata": {},
     "output_type": "execute_result"
    }
   ],
   "source": [
    "loan_df.groupby('repaid').dti.mean()"
   ]
  },
  {
   "cell_type": "code",
   "execution_count": 53,
   "metadata": {},
   "outputs": [
    {
     "data": {
      "text/plain": [
       "0.8623292595255212"
      ]
     },
     "execution_count": 53,
     "metadata": {},
     "output_type": "execute_result"
    }
   ],
   "source": [
    "loan_df[loan_df.dti<5].repaid.mean()"
   ]
  },
  {
   "cell_type": "code",
   "execution_count": 54,
   "metadata": {},
   "outputs": [
    {
     "data": {
      "text/plain": [
       "0.8295234405269275"
      ]
     },
     "execution_count": 54,
     "metadata": {},
     "output_type": "execute_result"
    }
   ],
   "source": [
    "loan_df[loan_df.dti>18].repaid.mean()"
   ]
  },
  {
   "cell_type": "code",
   "execution_count": 55,
   "metadata": {},
   "outputs": [
    {
     "name": "stdout",
     "output_type": "stream",
     "text": [
      "36 months loan: 2218 Annual return: 0.0243\n",
      "60 months loan: 564 Annual return: 0.0286\n"
     ]
    }
   ],
   "source": [
    "get_loan_annual_return(loan_df[loan_df.dti<5])"
   ]
  },
  {
   "cell_type": "code",
   "execution_count": 56,
   "metadata": {},
   "outputs": [
    {
     "name": "stdout",
     "output_type": "stream",
     "text": [
      "36 months loan: 7640 Annual return: 0.0298\n",
      "60 months loan: 2244 Annual return: 0.0322\n"
     ]
    }
   ],
   "source": [
    "get_loan_annual_return(loan_df[loan_df.dti<13])"
   ]
  },
  {
   "cell_type": "code",
   "execution_count": 57,
   "metadata": {},
   "outputs": [
    {
     "name": "stdout",
     "output_type": "stream",
     "text": [
      "36 months loan: 7201 Annual return: 0.0307\n",
      "60 months loan: 2811 Annual return: 0.0306\n"
     ]
    }
   ],
   "source": [
    "get_loan_annual_return(loan_df[loan_df.dti>13])"
   ]
  },
  {
   "cell_type": "code",
   "execution_count": 58,
   "metadata": {},
   "outputs": [
    {
     "name": "stdout",
     "output_type": "stream",
     "text": [
      "36 months loan: 3654 Annual return: 0.0304\n",
      "60 months loan: 1508 Annual return: 0.0298\n"
     ]
    }
   ],
   "source": [
    "get_loan_annual_return(loan_df[loan_df.dti>18])"
   ]
  },
  {
   "cell_type": "code",
   "execution_count": 59,
   "metadata": {},
   "outputs": [
    {
     "data": {
      "text/html": [
       "<div>\n",
       "<style scoped>\n",
       "    .dataframe tbody tr th:only-of-type {\n",
       "        vertical-align: middle;\n",
       "    }\n",
       "\n",
       "    .dataframe tbody tr th {\n",
       "        vertical-align: top;\n",
       "    }\n",
       "\n",
       "    .dataframe thead th {\n",
       "        text-align: right;\n",
       "    }\n",
       "</style>\n",
       "<table border=\"1\" class=\"dataframe\">\n",
       "  <thead>\n",
       "    <tr style=\"text-align: right;\">\n",
       "      <th></th>\n",
       "      <th>dti</th>\n",
       "      <th>annual_return</th>\n",
       "    </tr>\n",
       "  </thead>\n",
       "  <tbody>\n",
       "    <tr>\n",
       "      <td>dti</td>\n",
       "      <td>1.000000</td>\n",
       "      <td>-0.006038</td>\n",
       "    </tr>\n",
       "    <tr>\n",
       "      <td>annual_return</td>\n",
       "      <td>-0.006038</td>\n",
       "      <td>1.000000</td>\n",
       "    </tr>\n",
       "  </tbody>\n",
       "</table>\n",
       "</div>"
      ],
      "text/plain": [
       "                    dti  annual_return\n",
       "dti            1.000000      -0.006038\n",
       "annual_return -0.006038       1.000000"
      ]
     },
     "execution_count": 59,
     "metadata": {},
     "output_type": "execute_result"
    }
   ],
   "source": [
    "loan_df[['dti', 'annual_return']].corr()"
   ]
  },
  {
   "cell_type": "code",
   "execution_count": 60,
   "metadata": {},
   "outputs": [
    {
     "data": {
      "text/html": [
       "<div>\n",
       "<style scoped>\n",
       "    .dataframe tbody tr th:only-of-type {\n",
       "        vertical-align: middle;\n",
       "    }\n",
       "\n",
       "    .dataframe tbody tr th {\n",
       "        vertical-align: top;\n",
       "    }\n",
       "\n",
       "    .dataframe thead th {\n",
       "        text-align: right;\n",
       "    }\n",
       "</style>\n",
       "<table border=\"1\" class=\"dataframe\">\n",
       "  <thead>\n",
       "    <tr style=\"text-align: right;\">\n",
       "      <th></th>\n",
       "      <th>dti</th>\n",
       "      <th>int_rate</th>\n",
       "    </tr>\n",
       "  </thead>\n",
       "  <tbody>\n",
       "    <tr>\n",
       "      <td>dti</td>\n",
       "      <td>1.000000</td>\n",
       "      <td>0.101981</td>\n",
       "    </tr>\n",
       "    <tr>\n",
       "      <td>int_rate</td>\n",
       "      <td>0.101981</td>\n",
       "      <td>1.000000</td>\n",
       "    </tr>\n",
       "  </tbody>\n",
       "</table>\n",
       "</div>"
      ],
      "text/plain": [
       "               dti  int_rate\n",
       "dti       1.000000  0.101981\n",
       "int_rate  0.101981  1.000000"
      ]
     },
     "execution_count": 60,
     "metadata": {},
     "output_type": "execute_result"
    }
   ],
   "source": [
    "loan_df[['dti', 'int_rate']].corr()"
   ]
  },
  {
   "cell_type": "code",
   "execution_count": 61,
   "metadata": {},
   "outputs": [
    {
     "data": {
      "text/html": [
       "<div>\n",
       "<style scoped>\n",
       "    .dataframe tbody tr th:only-of-type {\n",
       "        vertical-align: middle;\n",
       "    }\n",
       "\n",
       "    .dataframe tbody tr th {\n",
       "        vertical-align: top;\n",
       "    }\n",
       "\n",
       "    .dataframe thead th {\n",
       "        text-align: right;\n",
       "    }\n",
       "</style>\n",
       "<table border=\"1\" class=\"dataframe\">\n",
       "  <thead>\n",
       "    <tr style=\"text-align: right;\">\n",
       "      <th></th>\n",
       "      <th>int_rate</th>\n",
       "      <th>annual_return</th>\n",
       "    </tr>\n",
       "  </thead>\n",
       "  <tbody>\n",
       "    <tr>\n",
       "      <td>int_rate</td>\n",
       "      <td>1.000000</td>\n",
       "      <td>-0.003257</td>\n",
       "    </tr>\n",
       "    <tr>\n",
       "      <td>annual_return</td>\n",
       "      <td>-0.003257</td>\n",
       "      <td>1.000000</td>\n",
       "    </tr>\n",
       "  </tbody>\n",
       "</table>\n",
       "</div>"
      ],
      "text/plain": [
       "               int_rate  annual_return\n",
       "int_rate       1.000000      -0.003257\n",
       "annual_return -0.003257       1.000000"
      ]
     },
     "execution_count": 61,
     "metadata": {},
     "output_type": "execute_result"
    }
   ],
   "source": [
    "loan_df[['int_rate', 'annual_return']].corr()"
   ]
  },
  {
   "cell_type": "markdown",
   "metadata": {},
   "source": [
    "#### delinq_2yrs\n",
    "has minor impact on repaid. But delinq_2yrs>0 has much higher return. This means the interest rate increase more than fair value.\n",
    "\n",
    "**keep for portfolio selection, may not useful for repaid classification**"
   ]
  },
  {
   "cell_type": "code",
   "execution_count": 62,
   "metadata": {},
   "outputs": [
    {
     "data": {
      "text/plain": [
       "0.0     17790\n",
       "1.0      1617\n",
       "2.0       341\n",
       "3.0       111\n",
       "4.0        29\n",
       "5.0        12\n",
       "7.0         3\n",
       "6.0         3\n",
       "11.0        1\n",
       "8.0         1\n",
       "Name: delinq_2yrs, dtype: int64"
      ]
     },
     "execution_count": 62,
     "metadata": {},
     "output_type": "execute_result"
    }
   ],
   "source": [
    "loan_df.delinq_2yrs.value_counts()"
   ]
  },
  {
   "cell_type": "code",
   "execution_count": 63,
   "metadata": {},
   "outputs": [
    {
     "data": {
      "text/plain": [
       "delinq_2yrs\n",
       "0.0     0.853513\n",
       "1.0     0.840445\n",
       "2.0     0.844575\n",
       "3.0     0.846847\n",
       "4.0     0.793103\n",
       "5.0     0.916667\n",
       "6.0     1.000000\n",
       "7.0     0.666667\n",
       "8.0     0.000000\n",
       "11.0    1.000000\n",
       "Name: repaid, dtype: float64"
      ]
     },
     "execution_count": 63,
     "metadata": {},
     "output_type": "execute_result"
    }
   ],
   "source": [
    "loan_df.groupby('delinq_2yrs').repaid.mean()"
   ]
  },
  {
   "cell_type": "code",
   "execution_count": 64,
   "metadata": {},
   "outputs": [
    {
     "data": {
      "text/plain": [
       "0.853513209668353"
      ]
     },
     "execution_count": 64,
     "metadata": {},
     "output_type": "execute_result"
    }
   ],
   "source": [
    "loan_df[loan_df.delinq_2yrs==0].repaid.mean()"
   ]
  },
  {
   "cell_type": "code",
   "execution_count": 65,
   "metadata": {},
   "outputs": [
    {
     "data": {
      "text/plain": [
       "0.8408876298394712"
      ]
     },
     "execution_count": 65,
     "metadata": {},
     "output_type": "execute_result"
    }
   ],
   "source": [
    "loan_df[loan_df.delinq_2yrs>0].repaid.mean()"
   ]
  },
  {
   "cell_type": "code",
   "execution_count": 66,
   "metadata": {},
   "outputs": [
    {
     "name": "stdout",
     "output_type": "stream",
     "text": [
      "36 months loan: 13285 Annual return: 0.0297\n",
      "60 months loan: 4505 Annual return: 0.0303\n"
     ]
    }
   ],
   "source": [
    "get_loan_annual_return(loan_df[loan_df.delinq_2yrs==0])"
   ]
  },
  {
   "cell_type": "code",
   "execution_count": 67,
   "metadata": {},
   "outputs": [
    {
     "name": "stdout",
     "output_type": "stream",
     "text": [
      "36 months loan: 1567 Annual return: 0.0355\n",
      "60 months loan: 551 Annual return: 0.0398\n"
     ]
    }
   ],
   "source": [
    "get_loan_annual_return(loan_df[loan_df.delinq_2yrs>0])"
   ]
  },
  {
   "cell_type": "code",
   "execution_count": 68,
   "metadata": {},
   "outputs": [
    {
     "data": {
      "text/html": [
       "<div>\n",
       "<style scoped>\n",
       "    .dataframe tbody tr th:only-of-type {\n",
       "        vertical-align: middle;\n",
       "    }\n",
       "\n",
       "    .dataframe tbody tr th {\n",
       "        vertical-align: top;\n",
       "    }\n",
       "\n",
       "    .dataframe thead th {\n",
       "        text-align: right;\n",
       "    }\n",
       "</style>\n",
       "<table border=\"1\" class=\"dataframe\">\n",
       "  <thead>\n",
       "    <tr style=\"text-align: right;\">\n",
       "      <th></th>\n",
       "      <th>delinq_2yrs</th>\n",
       "      <th>int_rate</th>\n",
       "    </tr>\n",
       "  </thead>\n",
       "  <tbody>\n",
       "    <tr>\n",
       "      <td>delinq_2yrs</td>\n",
       "      <td>1.000000</td>\n",
       "      <td>0.157728</td>\n",
       "    </tr>\n",
       "    <tr>\n",
       "      <td>int_rate</td>\n",
       "      <td>0.157728</td>\n",
       "      <td>1.000000</td>\n",
       "    </tr>\n",
       "  </tbody>\n",
       "</table>\n",
       "</div>"
      ],
      "text/plain": [
       "             delinq_2yrs  int_rate\n",
       "delinq_2yrs     1.000000  0.157728\n",
       "int_rate        0.157728  1.000000"
      ]
     },
     "execution_count": 68,
     "metadata": {},
     "output_type": "execute_result"
    }
   ],
   "source": [
    "loan_df[['delinq_2yrs', 'int_rate']].corr()"
   ]
  },
  {
   "cell_type": "code",
   "execution_count": 69,
   "metadata": {},
   "outputs": [
    {
     "data": {
      "text/html": [
       "<div>\n",
       "<style scoped>\n",
       "    .dataframe tbody tr th:only-of-type {\n",
       "        vertical-align: middle;\n",
       "    }\n",
       "\n",
       "    .dataframe tbody tr th {\n",
       "        vertical-align: top;\n",
       "    }\n",
       "\n",
       "    .dataframe thead th {\n",
       "        text-align: right;\n",
       "    }\n",
       "</style>\n",
       "<table border=\"1\" class=\"dataframe\">\n",
       "  <thead>\n",
       "    <tr style=\"text-align: right;\">\n",
       "      <th></th>\n",
       "      <th>delinq_2yrs</th>\n",
       "      <th>annual_return</th>\n",
       "    </tr>\n",
       "  </thead>\n",
       "  <tbody>\n",
       "    <tr>\n",
       "      <td>delinq_2yrs</td>\n",
       "      <td>1.000000</td>\n",
       "      <td>0.008209</td>\n",
       "    </tr>\n",
       "    <tr>\n",
       "      <td>annual_return</td>\n",
       "      <td>0.008209</td>\n",
       "      <td>1.000000</td>\n",
       "    </tr>\n",
       "  </tbody>\n",
       "</table>\n",
       "</div>"
      ],
      "text/plain": [
       "               delinq_2yrs  annual_return\n",
       "delinq_2yrs       1.000000       0.008209\n",
       "annual_return     0.008209       1.000000"
      ]
     },
     "execution_count": 69,
     "metadata": {},
     "output_type": "execute_result"
    }
   ],
   "source": [
    "loan_df[['delinq_2yrs', 'annual_return']].corr()"
   ]
  },
  {
   "cell_type": "markdown",
   "metadata": {},
   "source": [
    "#### earliest_cr_line\n",
    "Too many values and can't find way to use it."
   ]
  },
  {
   "cell_type": "code",
   "execution_count": 70,
   "metadata": {},
   "outputs": [
    {
     "data": {
      "text/plain": [
       "array(['Nov-2001', 'Feb-1996', 'Jan-2007', 'Apr-2004', 'Sep-2004'],\n",
       "      dtype=object)"
      ]
     },
     "execution_count": 70,
     "metadata": {},
     "output_type": "execute_result"
    }
   ],
   "source": [
    "loan_df.earliest_cr_line.unique()[:5]"
   ]
  },
  {
   "cell_type": "code",
   "execution_count": 71,
   "metadata": {},
   "outputs": [
    {
     "data": {
      "text/plain": [
       "506"
      ]
     },
     "execution_count": 71,
     "metadata": {},
     "output_type": "execute_result"
    }
   ],
   "source": [
    "len(loan_df.earliest_cr_line.unique())"
   ]
  },
  {
   "cell_type": "markdown",
   "metadata": {},
   "source": [
    "#### inq_last_6mths\n",
    "0 has much higher repaid. make it bi-value, 0 or 1, 1 means has inq.\n",
    "Higer inq_last_6mths also means lower return."
   ]
  },
  {
   "cell_type": "code",
   "execution_count": 72,
   "metadata": {},
   "outputs": [
    {
     "data": {
      "text/plain": [
       "0.0    10017\n",
       "1.0     5393\n",
       "2.0     2808\n",
       "3.0     1439\n",
       "4.0      137\n",
       "5.0       69\n",
       "6.0       26\n",
       "7.0       14\n",
       "8.0        5\n",
       "Name: inq_last_6mths, dtype: int64"
      ]
     },
     "execution_count": 72,
     "metadata": {},
     "output_type": "execute_result"
    }
   ],
   "source": [
    "loan_df.inq_last_6mths.value_counts()"
   ]
  },
  {
   "cell_type": "code",
   "execution_count": 73,
   "metadata": {},
   "outputs": [
    {
     "data": {
      "text/plain": [
       "inq_last_6mths\n",
       "0.0    0.876710\n",
       "1.0    0.834971\n",
       "2.0    0.834758\n",
       "3.0    0.787352\n",
       "4.0    0.824818\n",
       "5.0    0.797101\n",
       "6.0    0.769231\n",
       "7.0    0.857143\n",
       "8.0    0.600000\n",
       "Name: repaid, dtype: float64"
      ]
     },
     "execution_count": 73,
     "metadata": {},
     "output_type": "execute_result"
    }
   ],
   "source": [
    "loan_df.groupby('inq_last_6mths').repaid.mean()"
   ]
  },
  {
   "cell_type": "code",
   "execution_count": 74,
   "metadata": {},
   "outputs": [
    {
     "name": "stdout",
     "output_type": "stream",
     "text": [
      "36 months loan: 7585 Annual return: 0.0338\n",
      "60 months loan: 2432 Annual return: 0.0335\n"
     ]
    }
   ],
   "source": [
    "get_loan_annual_return(loan_df[loan_df.inq_last_6mths==0])"
   ]
  },
  {
   "cell_type": "code",
   "execution_count": 75,
   "metadata": {},
   "outputs": [
    {
     "name": "stdout",
     "output_type": "stream",
     "text": [
      "36 months loan: 4022 Annual return: 0.0282\n",
      "60 months loan: 1371 Annual return: 0.0294\n"
     ]
    }
   ],
   "source": [
    "get_loan_annual_return(loan_df[loan_df.inq_last_6mths==1])"
   ]
  },
  {
   "cell_type": "code",
   "execution_count": 76,
   "metadata": {},
   "outputs": [
    {
     "name": "stdout",
     "output_type": "stream",
     "text": [
      "36 months loan: 2016 Annual return: 0.03\n",
      "60 months loan: 792 Annual return: 0.0341\n"
     ]
    }
   ],
   "source": [
    "get_loan_annual_return(loan_df[loan_df.inq_last_6mths==2])"
   ]
  },
  {
   "cell_type": "code",
   "execution_count": 77,
   "metadata": {},
   "outputs": [
    {
     "name": "stdout",
     "output_type": "stream",
     "text": [
      "36 months loan: 1051 Annual return: 0.0178\n",
      "60 months loan: 388 Annual return: 0.0235\n"
     ]
    }
   ],
   "source": [
    "get_loan_annual_return(loan_df[loan_df.inq_last_6mths==3])"
   ]
  },
  {
   "cell_type": "code",
   "execution_count": 78,
   "metadata": {},
   "outputs": [
    {
     "name": "stdout",
     "output_type": "stream",
     "text": [
      "36 months loan: 96 Annual return: 0.0143\n",
      "60 months loan: 41 Annual return: 0.0044\n"
     ]
    }
   ],
   "source": [
    "get_loan_annual_return(loan_df[loan_df.inq_last_6mths==4])"
   ]
  },
  {
   "cell_type": "code",
   "execution_count": 79,
   "metadata": {},
   "outputs": [
    {
     "name": "stdout",
     "output_type": "stream",
     "text": [
      "36 months loan: 1229 Annual return: 0.0151\n",
      "60 months loan: 461 Annual return: 0.0197\n"
     ]
    }
   ],
   "source": [
    "get_loan_annual_return(loan_df[loan_df.inq_last_6mths>2])"
   ]
  },
  {
   "cell_type": "markdown",
   "metadata": {},
   "source": [
    "<font color='red' size = '5'> Class Example </font>\n",
    "\n",
    "#### mths_since_last_delinq\n",
    "Fail to paid debt. Can switch to has delinquency or not, 0 or 1.\n",
    "Previous delinq doesn't affect repaid much, but has negative impact on interest rate. So loans with previous delinq actually have better returns.\n",
    "\n",
    "**So, don't use this for classification on repaid, but use it to construct loan portfolio**"
   ]
  },
  {
   "cell_type": "code",
   "execution_count": 80,
   "metadata": {},
   "outputs": [
    {
     "data": {
      "text/plain": [
       "0.0      189\n",
       "31.0     126\n",
       "29.0     123\n",
       "23.0     123\n",
       "30.0     122\n",
       "        ... \n",
       "83.0       1\n",
       "97.0       1\n",
       "106.0      1\n",
       "103.0      1\n",
       "85.0       1\n",
       "Name: mths_since_last_delinq, Length: 89, dtype: int64"
      ]
     },
     "execution_count": 80,
     "metadata": {},
     "output_type": "execute_result"
    }
   ],
   "source": [
    "loan_df.mths_since_last_delinq.value_counts()"
   ]
  },
  {
   "cell_type": "code",
   "execution_count": 81,
   "metadata": {},
   "outputs": [
    {
     "name": "stdout",
     "output_type": "stream",
     "text": [
      "36 months loan: 9624 Annual return: 0.0288\n",
      "60 months loan: 3286 Annual return: 0.0288\n"
     ]
    }
   ],
   "source": [
    "get_loan_annual_return(loan_df[loan_df.mths_since_last_delinq.isna()])"
   ]
  },
  {
   "cell_type": "code",
   "execution_count": 82,
   "metadata": {},
   "outputs": [
    {
     "name": "stdout",
     "output_type": "stream",
     "text": [
      "36 months loan: 5228 Annual return: 0.0332\n",
      "60 months loan: 1770 Annual return: 0.0361\n"
     ]
    }
   ],
   "source": [
    "get_loan_annual_return(loan_df[loan_df.mths_since_last_delinq>=0])"
   ]
  },
  {
   "cell_type": "code",
   "execution_count": 83,
   "metadata": {},
   "outputs": [
    {
     "data": {
      "text/plain": [
       "0.8563129357087529"
      ]
     },
     "execution_count": 83,
     "metadata": {},
     "output_type": "execute_result"
    }
   ],
   "source": [
    "loan_df[loan_df.mths_since_last_delinq.isna()].repaid.mean()"
   ]
  },
  {
   "cell_type": "code",
   "execution_count": 84,
   "metadata": {},
   "outputs": [
    {
     "data": {
      "text/plain": [
       "0.8445270077164905"
      ]
     },
     "execution_count": 84,
     "metadata": {},
     "output_type": "execute_result"
    }
   ],
   "source": [
    "loan_df[loan_df.mths_since_last_delinq>=0].repaid.mean()"
   ]
  },
  {
   "cell_type": "code",
   "execution_count": 85,
   "metadata": {},
   "outputs": [
    {
     "data": {
      "text/plain": [
       "13.293543869677208"
      ]
     },
     "execution_count": 85,
     "metadata": {},
     "output_type": "execute_result"
    }
   ],
   "source": [
    "loan_df[loan_df.mths_since_last_delinq>=0].int_rate.mean()"
   ]
  },
  {
   "cell_type": "code",
   "execution_count": 86,
   "metadata": {},
   "outputs": [
    {
     "data": {
      "text/plain": [
       "11.43716963594077"
      ]
     },
     "execution_count": 86,
     "metadata": {},
     "output_type": "execute_result"
    }
   ],
   "source": [
    "loan_df[loan_df.mths_since_last_delinq.isna()].int_rate.mean()"
   ]
  },
  {
   "cell_type": "markdown",
   "metadata": {},
   "source": [
    "#### mths_since_last_record\n",
    "Can convert to categorical feature, 0 for all missing values, 1 for >=0.\n",
    "Having record has negative impace on both repaid and return.\n",
    "\n",
    "**So keep for classfication on repaid**"
   ]
  },
  {
   "cell_type": "code",
   "execution_count": 87,
   "metadata": {},
   "outputs": [
    {
     "data": {
      "text/plain": [
       "0.856516391250869"
      ]
     },
     "execution_count": 87,
     "metadata": {},
     "output_type": "execute_result"
    }
   ],
   "source": [
    "loan_df[loan_df.mths_since_last_record.isna()].repaid.mean()"
   ]
  },
  {
   "cell_type": "code",
   "execution_count": 88,
   "metadata": {},
   "outputs": [
    {
     "data": {
      "text/plain": [
       "0.7849462365591398"
      ]
     },
     "execution_count": 88,
     "metadata": {},
     "output_type": "execute_result"
    }
   ],
   "source": [
    "loan_df[loan_df.mths_since_last_record>=0].repaid.mean()"
   ]
  },
  {
   "cell_type": "code",
   "execution_count": 89,
   "metadata": {},
   "outputs": [
    {
     "data": {
      "text/plain": [
       "0.7796052631578947"
      ]
     },
     "execution_count": 89,
     "metadata": {},
     "output_type": "execute_result"
    }
   ],
   "source": [
    "loan_df[loan_df.mths_since_last_record==0].repaid.mean()"
   ]
  },
  {
   "cell_type": "code",
   "execution_count": 90,
   "metadata": {},
   "outputs": [
    {
     "name": "stdout",
     "output_type": "stream",
     "text": [
      "36 months loan: 13887 Annual return: 0.0314\n",
      "60 months loan: 4812 Annual return: 0.0315\n"
     ]
    }
   ],
   "source": [
    "get_loan_annual_return(loan_df[loan_df.mths_since_last_record.isna()])"
   ]
  },
  {
   "cell_type": "code",
   "execution_count": 91,
   "metadata": {},
   "outputs": [
    {
     "name": "stdout",
     "output_type": "stream",
     "text": [
      "36 months loan: 965 Annual return: 0.0138\n",
      "60 months loan: 244 Annual return: 0.0259\n"
     ]
    }
   ],
   "source": [
    "get_loan_annual_return(loan_df[loan_df.mths_since_last_record>=0])"
   ]
  },
  {
   "cell_type": "code",
   "execution_count": 92,
   "metadata": {},
   "outputs": [
    {
     "data": {
      "text/plain": [
       "0.7796052631578947"
      ]
     },
     "execution_count": 92,
     "metadata": {},
     "output_type": "execute_result"
    }
   ],
   "source": [
    "loan_df[loan_df.mths_since_last_record==0].repaid.mean()"
   ]
  },
  {
   "cell_type": "code",
   "execution_count": 93,
   "metadata": {},
   "outputs": [
    {
     "data": {
      "text/plain": [
       "0.7849462365591398"
      ]
     },
     "execution_count": 93,
     "metadata": {},
     "output_type": "execute_result"
    }
   ],
   "source": [
    "loan_df[loan_df.mths_since_last_record>=0].repaid.mean()"
   ]
  },
  {
   "cell_type": "code",
   "execution_count": 94,
   "metadata": {},
   "outputs": [
    {
     "data": {
      "text/plain": [
       "0.856516391250869"
      ]
     },
     "execution_count": 94,
     "metadata": {},
     "output_type": "execute_result"
    }
   ],
   "source": [
    "loan_df[loan_df.mths_since_last_record.isna()].repaid.mean()"
   ]
  },
  {
   "cell_type": "markdown",
   "metadata": {},
   "source": [
    "#### open_acc\n",
    "No impace on repaid or return"
   ]
  },
  {
   "cell_type": "code",
   "execution_count": 95,
   "metadata": {},
   "outputs": [
    {
     "data": {
      "text/plain": [
       "count    19908.000000\n",
       "mean         9.278782\n",
       "std          4.414903\n",
       "min          2.000000\n",
       "25%          6.000000\n",
       "50%          9.000000\n",
       "75%         12.000000\n",
       "max         44.000000\n",
       "Name: open_acc, dtype: float64"
      ]
     },
     "execution_count": 95,
     "metadata": {},
     "output_type": "execute_result"
    }
   ],
   "source": [
    "loan_df.open_acc.describe()"
   ]
  },
  {
   "cell_type": "code",
   "execution_count": 96,
   "metadata": {},
   "outputs": [
    {
     "data": {
      "text/plain": [
       "0.8461277749533977"
      ]
     },
     "execution_count": 96,
     "metadata": {},
     "output_type": "execute_result"
    }
   ],
   "source": [
    "loan_df[loan_df.open_acc<=6].repaid.mean()"
   ]
  },
  {
   "cell_type": "code",
   "execution_count": 97,
   "metadata": {},
   "outputs": [
    {
     "data": {
      "text/plain": [
       "0.854762355614467"
      ]
     },
     "execution_count": 97,
     "metadata": {},
     "output_type": "execute_result"
    }
   ],
   "source": [
    "loan_df[loan_df.open_acc>=12].repaid.mean()"
   ]
  },
  {
   "cell_type": "code",
   "execution_count": 98,
   "metadata": {},
   "outputs": [
    {
     "name": "stdout",
     "output_type": "stream",
     "text": [
      "36 months loan: 4631 Annual return: 0.0303\n",
      "60 months loan: 1270 Annual return: 0.0301\n"
     ]
    }
   ],
   "source": [
    "get_loan_annual_return(loan_df[loan_df.open_acc<=6])"
   ]
  },
  {
   "cell_type": "code",
   "execution_count": 99,
   "metadata": {},
   "outputs": [
    {
     "name": "stdout",
     "output_type": "stream",
     "text": [
      "36 months loan: 3804 Annual return: 0.0304\n",
      "60 months loan: 1477 Annual return: 0.034\n"
     ]
    }
   ],
   "source": [
    "get_loan_annual_return(loan_df[loan_df.open_acc>=12])"
   ]
  },
  {
   "cell_type": "markdown",
   "metadata": {},
   "source": [
    "#### pub_rec\n",
    "Number of derogatory public records\n",
    "\n",
    "Has impact on repaid, but not return. keep for classification."
   ]
  },
  {
   "cell_type": "code",
   "execution_count": 100,
   "metadata": {
    "scrolled": true
   },
   "outputs": [
    {
     "name": "stdout",
     "output_type": "stream",
     "text": [
      "feature: pub_rec\n",
      "value counts:\n",
      " 0.0    19003\n",
      "1.0      884\n",
      "2.0       17\n",
      "3.0        4\n",
      "Name: pub_rec, dtype: int64\n",
      "avg repaid:\n",
      " pub_rec\n",
      "1.0    0.785068\n",
      "2.0    0.823529\n",
      "0.0    0.855286\n",
      "3.0    1.000000\n",
      "Name: repaid, dtype: float64\n",
      "avg annual return:\n",
      " pub_rec\n",
      "1.0    0.004657\n",
      "0.0    0.019786\n",
      "2.0    0.043347\n",
      "3.0    0.071315\n",
      "Name: annual_return, dtype: float64\n"
     ]
    }
   ],
   "source": [
    "evaluate_categorical_feature('pub_rec')"
   ]
  },
  {
   "cell_type": "markdown",
   "metadata": {},
   "source": [
    "#### revol_bal\n",
    "\n",
    "a revolving balance is the portion of credit card spending that goes unpaid at the end of a billing cycle. The amount can vary, going up or down depending on the amount borrowed and the amount repaid. ... When the balance is paid off, the customer is no longer revolving the debt.\n",
    "\n",
    "**not much impact on repaid, but higher revol_bal means higher return**  \n",
    "\n",
    "**but why correlation is negative? because higher revol_bal higher loan amount, higher interest rate, but not much drop in repaid**"
   ]
  },
  {
   "cell_type": "code",
   "execution_count": 101,
   "metadata": {
    "scrolled": true
   },
   "outputs": [
    {
     "name": "stdout",
     "output_type": "stream",
     "text": [
      "feature: revol_bal\n",
      "avg by repaid: repaid\n",
      "0    13278.195719\n",
      "1    13378.878809\n",
      "Name: revol_bal, dtype: float64\n",
      "corr to return: 0.018\n"
     ]
    }
   ],
   "source": [
    "evaluate_continuous_feature('revol_bal')"
   ]
  },
  {
   "cell_type": "code",
   "execution_count": 102,
   "metadata": {},
   "outputs": [
    {
     "data": {
      "text/plain": [
       "count     19908.000000\n",
       "mean      13363.994826\n",
       "std       15943.303849\n",
       "min           0.000000\n",
       "25%        3770.500000\n",
       "50%        8876.500000\n",
       "75%       16952.250000\n",
       "max      148829.000000\n",
       "Name: revol_bal, dtype: float64"
      ]
     },
     "execution_count": 102,
     "metadata": {},
     "output_type": "execute_result"
    }
   ],
   "source": [
    "loan_df.revol_bal.describe()"
   ]
  },
  {
   "cell_type": "code",
   "execution_count": 103,
   "metadata": {},
   "outputs": [
    {
     "data": {
      "text/plain": [
       "0.860423322683706"
      ]
     },
     "execution_count": 103,
     "metadata": {},
     "output_type": "execute_result"
    }
   ],
   "source": [
    "loan_df[loan_df.revol_bal<3800].repaid.mean()"
   ]
  },
  {
   "cell_type": "code",
   "execution_count": 104,
   "metadata": {},
   "outputs": [
    {
     "data": {
      "text/plain": [
       "0.016341575962200122"
      ]
     },
     "execution_count": 104,
     "metadata": {},
     "output_type": "execute_result"
    }
   ],
   "source": [
    "loan_df[loan_df.revol_bal<3800].annual_return.mean()"
   ]
  },
  {
   "cell_type": "code",
   "execution_count": 105,
   "metadata": {},
   "outputs": [
    {
     "data": {
      "text/plain": [
       "0.8450929442334599"
      ]
     },
     "execution_count": 105,
     "metadata": {},
     "output_type": "execute_result"
    }
   ],
   "source": [
    "loan_df[loan_df.revol_bal>16900].repaid.mean()"
   ]
  },
  {
   "cell_type": "code",
   "execution_count": 106,
   "metadata": {},
   "outputs": [
    {
     "data": {
      "text/plain": [
       "0.020697149669823802"
      ]
     },
     "execution_count": 106,
     "metadata": {},
     "output_type": "execute_result"
    }
   ],
   "source": [
    "loan_df[loan_df.revol_bal>20000].annual_return.mean()"
   ]
  },
  {
   "cell_type": "code",
   "execution_count": 107,
   "metadata": {},
   "outputs": [
    {
     "name": "stdout",
     "output_type": "stream",
     "text": [
      "36 months loan: 1399 Annual return: 0.0213\n",
      "60 months loan: 392 Annual return: 0.0217\n"
     ]
    }
   ],
   "source": [
    "get_loan_annual_return(loan_df[loan_df.revol_bal<1000])"
   ]
  },
  {
   "cell_type": "code",
   "execution_count": 108,
   "metadata": {},
   "outputs": [
    {
     "name": "stdout",
     "output_type": "stream",
     "text": [
      "36 months loan: 2307 Annual return: 0.0235\n",
      "60 months loan: 613 Annual return: 0.0249\n"
     ]
    }
   ],
   "source": [
    "get_loan_annual_return(loan_df[loan_df.revol_bal<2000])"
   ]
  },
  {
   "cell_type": "code",
   "execution_count": 109,
   "metadata": {},
   "outputs": [
    {
     "name": "stdout",
     "output_type": "stream",
     "text": [
      "36 months loan: 2681 Annual return: 0.0339\n",
      "60 months loan: 1229 Annual return: 0.0352\n"
     ]
    }
   ],
   "source": [
    "get_loan_annual_return(loan_df[loan_df.revol_bal>20000])"
   ]
  },
  {
   "cell_type": "code",
   "execution_count": 110,
   "metadata": {},
   "outputs": [
    {
     "name": "stdout",
     "output_type": "stream",
     "text": [
      "36 months loan: 83 Annual return: 0.0458\n",
      "60 months loan: 38 Annual return: 0.0589\n"
     ]
    }
   ],
   "source": [
    "get_loan_annual_return(loan_df[loan_df.revol_bal>100000])"
   ]
  },
  {
   "cell_type": "code",
   "execution_count": 111,
   "metadata": {},
   "outputs": [
    {
     "data": {
      "text/html": [
       "<div>\n",
       "<style scoped>\n",
       "    .dataframe tbody tr th:only-of-type {\n",
       "        vertical-align: middle;\n",
       "    }\n",
       "\n",
       "    .dataframe tbody tr th {\n",
       "        vertical-align: top;\n",
       "    }\n",
       "\n",
       "    .dataframe thead th {\n",
       "        text-align: right;\n",
       "    }\n",
       "</style>\n",
       "<table border=\"1\" class=\"dataframe\">\n",
       "  <thead>\n",
       "    <tr style=\"text-align: right;\">\n",
       "      <th></th>\n",
       "      <th>revol_bal</th>\n",
       "      <th>int_rate</th>\n",
       "    </tr>\n",
       "  </thead>\n",
       "  <tbody>\n",
       "    <tr>\n",
       "      <td>revol_bal</td>\n",
       "      <td>1.000000</td>\n",
       "      <td>0.084654</td>\n",
       "    </tr>\n",
       "    <tr>\n",
       "      <td>int_rate</td>\n",
       "      <td>0.084654</td>\n",
       "      <td>1.000000</td>\n",
       "    </tr>\n",
       "  </tbody>\n",
       "</table>\n",
       "</div>"
      ],
      "text/plain": [
       "           revol_bal  int_rate\n",
       "revol_bal   1.000000  0.084654\n",
       "int_rate    0.084654  1.000000"
      ]
     },
     "execution_count": 111,
     "metadata": {},
     "output_type": "execute_result"
    }
   ],
   "source": [
    "loan_df[['revol_bal', 'int_rate']].corr()"
   ]
  },
  {
   "cell_type": "code",
   "execution_count": 112,
   "metadata": {},
   "outputs": [
    {
     "data": {
      "text/html": [
       "<div>\n",
       "<style scoped>\n",
       "    .dataframe tbody tr th:only-of-type {\n",
       "        vertical-align: middle;\n",
       "    }\n",
       "\n",
       "    .dataframe tbody tr th {\n",
       "        vertical-align: top;\n",
       "    }\n",
       "\n",
       "    .dataframe thead th {\n",
       "        text-align: right;\n",
       "    }\n",
       "</style>\n",
       "<table border=\"1\" class=\"dataframe\">\n",
       "  <thead>\n",
       "    <tr style=\"text-align: right;\">\n",
       "      <th></th>\n",
       "      <th>revol_bal</th>\n",
       "      <th>annual_return</th>\n",
       "    </tr>\n",
       "  </thead>\n",
       "  <tbody>\n",
       "    <tr>\n",
       "      <td>revol_bal</td>\n",
       "      <td>1.000000</td>\n",
       "      <td>0.018403</td>\n",
       "    </tr>\n",
       "    <tr>\n",
       "      <td>annual_return</td>\n",
       "      <td>0.018403</td>\n",
       "      <td>1.000000</td>\n",
       "    </tr>\n",
       "  </tbody>\n",
       "</table>\n",
       "</div>"
      ],
      "text/plain": [
       "               revol_bal  annual_return\n",
       "revol_bal       1.000000       0.018403\n",
       "annual_return   0.018403       1.000000"
      ]
     },
     "execution_count": 112,
     "metadata": {},
     "output_type": "execute_result"
    }
   ],
   "source": [
    "loan_df[['revol_bal', 'annual_return']].corr()"
   ]
  },
  {
   "cell_type": "code",
   "execution_count": 113,
   "metadata": {},
   "outputs": [
    {
     "data": {
      "text/html": [
       "<div>\n",
       "<style scoped>\n",
       "    .dataframe tbody tr th:only-of-type {\n",
       "        vertical-align: middle;\n",
       "    }\n",
       "\n",
       "    .dataframe tbody tr th {\n",
       "        vertical-align: top;\n",
       "    }\n",
       "\n",
       "    .dataframe thead th {\n",
       "        text-align: right;\n",
       "    }\n",
       "</style>\n",
       "<table border=\"1\" class=\"dataframe\">\n",
       "  <thead>\n",
       "    <tr style=\"text-align: right;\">\n",
       "      <th></th>\n",
       "      <th>revol_bal</th>\n",
       "      <th>funded_amnt</th>\n",
       "    </tr>\n",
       "  </thead>\n",
       "  <tbody>\n",
       "    <tr>\n",
       "      <td>revol_bal</td>\n",
       "      <td>1.000000</td>\n",
       "      <td>0.302797</td>\n",
       "    </tr>\n",
       "    <tr>\n",
       "      <td>funded_amnt</td>\n",
       "      <td>0.302797</td>\n",
       "      <td>1.000000</td>\n",
       "    </tr>\n",
       "  </tbody>\n",
       "</table>\n",
       "</div>"
      ],
      "text/plain": [
       "             revol_bal  funded_amnt\n",
       "revol_bal     1.000000     0.302797\n",
       "funded_amnt   0.302797     1.000000"
      ]
     },
     "execution_count": 113,
     "metadata": {},
     "output_type": "execute_result"
    }
   ],
   "source": [
    "loan_df[['revol_bal', 'funded_amnt']].corr()"
   ]
  },
  {
   "cell_type": "markdown",
   "metadata": {},
   "source": [
    "#### revol_util\n",
    "Your revolving utilization ratio is also known as your debt-to-limit ratio or your credit utilization ratio. It measures how much of your credit limits are in use on each of your credit card accounts and expresses that calculation as a percentage.\n",
    "\n",
    "**lower revol_util higher repaid, higher return, keep**"
   ]
  },
  {
   "cell_type": "code",
   "execution_count": 114,
   "metadata": {
    "scrolled": true
   },
   "outputs": [
    {
     "name": "stdout",
     "output_type": "stream",
     "text": [
      "feature: revol_util\n",
      "avg by repaid: repaid\n",
      "0    55.496101\n",
      "1    48.372278\n",
      "Name: revol_util, dtype: float64\n",
      "corr to return: 0.009\n"
     ]
    }
   ],
   "source": [
    "evaluate_continuous_feature('revol_util')"
   ]
  },
  {
   "cell_type": "markdown",
   "metadata": {},
   "source": [
    "#### total_acc\n",
    "Number of credit card.\n",
    "\n",
    "**total_acc has positive impact on repaid, but a little negative impact on annual_return, avoid extremely low total_acc(<5?)**"
   ]
  },
  {
   "cell_type": "code",
   "execution_count": 115,
   "metadata": {},
   "outputs": [
    {
     "data": {
      "text/plain": [
       "count    19908.000000\n",
       "mean        21.527627\n",
       "std         11.269006\n",
       "min          2.000000\n",
       "25%         13.000000\n",
       "50%         20.000000\n",
       "75%         28.000000\n",
       "max         90.000000\n",
       "Name: total_acc, dtype: float64"
      ]
     },
     "execution_count": 115,
     "metadata": {},
     "output_type": "execute_result"
    }
   ],
   "source": [
    "#evaluate_categorical_feature('total_acc')\n",
    "loan_df.total_acc.describe()"
   ]
  },
  {
   "cell_type": "code",
   "execution_count": 116,
   "metadata": {},
   "outputs": [
    {
     "name": "stdout",
     "output_type": "stream",
     "text": [
      "feature: total_acc\n",
      "avg by repaid: repaid\n",
      "0    20.761468\n",
      "1    21.660536\n",
      "Name: total_acc, dtype: float64\n",
      "corr to return: 0.005\n"
     ]
    }
   ],
   "source": [
    "evaluate_continuous_feature('total_acc')"
   ]
  },
  {
   "cell_type": "code",
   "execution_count": 117,
   "metadata": {},
   "outputs": [
    {
     "data": {
      "text/plain": [
       "repaid           0.820671\n",
       "annual_return    0.015588\n",
       "dtype: float64"
      ]
     },
     "execution_count": 117,
     "metadata": {},
     "output_type": "execute_result"
    }
   ],
   "source": [
    "loan_df[loan_df.total_acc<10].mean()[['repaid', 'annual_return']]"
   ]
  },
  {
   "cell_type": "code",
   "execution_count": 118,
   "metadata": {},
   "outputs": [
    {
     "name": "stdout",
     "output_type": "stream",
     "text": [
      "36 months loan: 260 Annual return: 0.0247\n",
      "60 months loan: 55 Annual return: 0.0135\n"
     ]
    }
   ],
   "source": [
    "get_loan_annual_return(loan_df[loan_df.total_acc<5])"
   ]
  },
  {
   "cell_type": "code",
   "execution_count": 119,
   "metadata": {},
   "outputs": [
    {
     "data": {
      "text/plain": [
       "repaid           0.855740\n",
       "annual_return    0.017365\n",
       "dtype: float64"
      ]
     },
     "execution_count": 119,
     "metadata": {},
     "output_type": "execute_result"
    }
   ],
   "source": [
    "loan_df[loan_df.total_acc>30].mean()[['repaid', 'annual_return']]"
   ]
  },
  {
   "cell_type": "code",
   "execution_count": 120,
   "metadata": {},
   "outputs": [
    {
     "name": "stdout",
     "output_type": "stream",
     "text": [
      "36 months loan: 2720 Annual return: 0.0287\n",
      "60 months loan: 1252 Annual return: 0.0309\n"
     ]
    }
   ],
   "source": [
    "get_loan_annual_return(loan_df[loan_df.total_acc>30])"
   ]
  },
  {
   "cell_type": "markdown",
   "metadata": {},
   "source": [
    "#### initial_list_status\n",
    "\n",
    "Only f."
   ]
  },
  {
   "cell_type": "code",
   "execution_count": 121,
   "metadata": {
    "scrolled": true
   },
   "outputs": [
    {
     "name": "stdout",
     "output_type": "stream",
     "text": [
      "feature: initial_list_status\n",
      "value counts:\n",
      " f    19908\n",
      "Name: initial_list_status, dtype: int64\n",
      "avg repaid:\n",
      " initial_list_status\n",
      "f    0.85217\n",
      "Name: repaid, dtype: float64\n",
      "avg annual return:\n",
      " initial_list_status\n",
      "f    0.019144\n",
      "Name: annual_return, dtype: float64\n"
     ]
    }
   ],
   "source": [
    "evaluate_categorical_feature('initial_list_status')"
   ]
  },
  {
   "cell_type": "markdown",
   "metadata": {},
   "source": [
    "#### collections_12_mths_ex_med\n",
    "all 0"
   ]
  },
  {
   "cell_type": "code",
   "execution_count": 122,
   "metadata": {},
   "outputs": [
    {
     "data": {
      "text/plain": [
       "count    19893.0\n",
       "mean         0.0\n",
       "std          0.0\n",
       "min          0.0\n",
       "25%          0.0\n",
       "50%          0.0\n",
       "75%          0.0\n",
       "max          0.0\n",
       "Name: collections_12_mths_ex_med, dtype: float64"
      ]
     },
     "execution_count": 122,
     "metadata": {},
     "output_type": "execute_result"
    }
   ],
   "source": [
    "loan_df.collections_12_mths_ex_med.describe()"
   ]
  },
  {
   "cell_type": "markdown",
   "metadata": {},
   "source": [
    "#### pub_rec_bankruptcies\n",
    "Has negative impact on repaid and return. keep."
   ]
  },
  {
   "cell_type": "code",
   "execution_count": 123,
   "metadata": {},
   "outputs": [
    {
     "name": "stdout",
     "output_type": "stream",
     "text": [
      "feature: pub_rec_bankruptcies\n",
      "value counts:\n",
      " 0.0    18852\n",
      "1.0      742\n",
      "2.0        1\n",
      "Name: pub_rec_bankruptcies, dtype: int64\n",
      "avg repaid:\n",
      " pub_rec_bankruptcies\n",
      "1.0    0.784367\n",
      "0.0    0.856090\n",
      "2.0    1.000000\n",
      "Name: repaid, dtype: float64\n",
      "avg annual return:\n",
      " pub_rec_bankruptcies\n",
      "1.0    0.000246\n",
      "0.0    0.020173\n",
      "2.0    0.091377\n",
      "Name: annual_return, dtype: float64\n"
     ]
    }
   ],
   "source": [
    "evaluate_categorical_feature('pub_rec_bankruptcies')"
   ]
  },
  {
   "cell_type": "code",
   "execution_count": 124,
   "metadata": {},
   "outputs": [
    {
     "name": "stdout",
     "output_type": "stream",
     "text": [
      "36 months loan: 14003 Annual return: 0.0314\n",
      "60 months loan: 4849 Annual return: 0.0316\n"
     ]
    }
   ],
   "source": [
    "get_loan_annual_return(loan_df[loan_df.pub_rec_bankruptcies==0])"
   ]
  },
  {
   "cell_type": "code",
   "execution_count": 125,
   "metadata": {},
   "outputs": [
    {
     "name": "stdout",
     "output_type": "stream",
     "text": [
      "36 months loan: 536 Annual return: 0.0178\n",
      "60 months loan: 207 Annual return: 0.0219\n"
     ]
    }
   ],
   "source": [
    "get_loan_annual_return(loan_df[loan_df.pub_rec_bankruptcies>0])"
   ]
  },
  {
   "cell_type": "markdown",
   "metadata": {},
   "source": [
    "#### hardship_flat, disbursement_method, debt_settlement_flag"
   ]
  },
  {
   "cell_type": "code",
   "execution_count": 126,
   "metadata": {},
   "outputs": [
    {
     "data": {
      "text/plain": [
       "array(['N'], dtype=object)"
      ]
     },
     "execution_count": 126,
     "metadata": {},
     "output_type": "execute_result"
    }
   ],
   "source": [
    "loan_df.hardship_flag.unique()"
   ]
  },
  {
   "cell_type": "code",
   "execution_count": 127,
   "metadata": {},
   "outputs": [
    {
     "data": {
      "text/plain": [
       "array(['Cash'], dtype=object)"
      ]
     },
     "execution_count": 127,
     "metadata": {},
     "output_type": "execute_result"
    }
   ],
   "source": [
    "loan_df.disbursement_method.unique()"
   ]
  },
  {
   "cell_type": "code",
   "execution_count": 128,
   "metadata": {
    "scrolled": true
   },
   "outputs": [
    {
     "data": {
      "text/plain": [
       "array(['N', 'Y'], dtype=object)"
      ]
     },
     "execution_count": 128,
     "metadata": {},
     "output_type": "execute_result"
    }
   ],
   "source": [
    "loan_df.debt_settlement_flag.unique()"
   ]
  },
  {
   "cell_type": "code",
   "execution_count": 129,
   "metadata": {},
   "outputs": [
    {
     "name": "stdout",
     "output_type": "stream",
     "text": [
      "feature: debt_settlement_flag\n",
      "value counts:\n",
      " N    19826\n",
      "Y       82\n",
      "Name: debt_settlement_flag, dtype: int64\n",
      "avg repaid:\n",
      " debt_settlement_flag\n",
      "Y    0.000000\n",
      "N    0.855695\n",
      "Name: repaid, dtype: float64\n",
      "avg annual return:\n",
      " debt_settlement_flag\n",
      "N    0.019129\n",
      "Y    0.022810\n",
      "Name: annual_return, dtype: float64\n"
     ]
    }
   ],
   "source": [
    "evaluate_categorical_feature('debt_settlement_flag')"
   ]
  },
  {
   "cell_type": "markdown",
   "metadata": {},
   "source": [
    "### Task 1 Summary\n",
    "Write your summary in the next markdown cell."
   ]
  },
  {
   "cell_type": "code",
   "execution_count": 130,
   "metadata": {},
   "outputs": [
    {
     "data": {
      "text/html": [
       "<div>\n",
       "<style scoped>\n",
       "    .dataframe tbody tr th:only-of-type {\n",
       "        vertical-align: middle;\n",
       "    }\n",
       "\n",
       "    .dataframe tbody tr th {\n",
       "        vertical-align: top;\n",
       "    }\n",
       "\n",
       "    .dataframe thead th {\n",
       "        text-align: right;\n",
       "    }\n",
       "</style>\n",
       "<table border=\"1\" class=\"dataframe\">\n",
       "  <thead>\n",
       "    <tr style=\"text-align: right;\">\n",
       "      <th></th>\n",
       "      <th>loan_amnt</th>\n",
       "      <th>funded_amnt</th>\n",
       "      <th>funded_amnt_inv</th>\n",
       "      <th>int_rate</th>\n",
       "      <th>installment</th>\n",
       "      <th>annual_inc</th>\n",
       "      <th>dti</th>\n",
       "      <th>delinq_2yrs</th>\n",
       "      <th>inq_last_6mths</th>\n",
       "      <th>mths_since_last_delinq</th>\n",
       "      <th>mths_since_last_record</th>\n",
       "      <th>open_acc</th>\n",
       "      <th>pub_rec</th>\n",
       "      <th>revol_bal</th>\n",
       "      <th>revol_util</th>\n",
       "      <th>total_acc</th>\n",
       "      <th>out_prncp</th>\n",
       "      <th>out_prncp_inv</th>\n",
       "      <th>total_pymnt</th>\n",
       "      <th>total_pymnt_inv</th>\n",
       "      <th>total_rec_prncp</th>\n",
       "      <th>total_rec_int</th>\n",
       "      <th>total_rec_late_fee</th>\n",
       "      <th>recoveries</th>\n",
       "      <th>collection_recovery_fee</th>\n",
       "      <th>last_pymnt_amnt</th>\n",
       "      <th>next_pymnt_d</th>\n",
       "      <th>collections_12_mths_ex_med</th>\n",
       "      <th>mths_since_last_major_derog</th>\n",
       "      <th>policy_code</th>\n",
       "      <th>acc_now_delinq</th>\n",
       "      <th>chargeoff_within_12_mths</th>\n",
       "      <th>delinq_amnt</th>\n",
       "      <th>pub_rec_bankruptcies</th>\n",
       "      <th>tax_liens</th>\n",
       "      <th>repaid</th>\n",
       "      <th>total_return</th>\n",
       "      <th>loan_term_year</th>\n",
       "      <th>annual_return</th>\n",
       "    </tr>\n",
       "  </thead>\n",
       "  <tbody>\n",
       "    <tr>\n",
       "      <td>count</td>\n",
       "      <td>19908.000000</td>\n",
       "      <td>19908.000000</td>\n",
       "      <td>19908.000000</td>\n",
       "      <td>19908.000000</td>\n",
       "      <td>19908.000000</td>\n",
       "      <td>1.990800e+04</td>\n",
       "      <td>19908.000000</td>\n",
       "      <td>19908.000000</td>\n",
       "      <td>19908.000000</td>\n",
       "      <td>6998.000000</td>\n",
       "      <td>1209.000000</td>\n",
       "      <td>19908.000000</td>\n",
       "      <td>19908.000000</td>\n",
       "      <td>19908.000000</td>\n",
       "      <td>19889.000000</td>\n",
       "      <td>19908.000000</td>\n",
       "      <td>19908.0</td>\n",
       "      <td>19908.0</td>\n",
       "      <td>19908.000000</td>\n",
       "      <td>19908.000000</td>\n",
       "      <td>19908.000000</td>\n",
       "      <td>19908.000000</td>\n",
       "      <td>19908.000000</td>\n",
       "      <td>19908.000000</td>\n",
       "      <td>19908.000000</td>\n",
       "      <td>19908.000000</td>\n",
       "      <td>0.0</td>\n",
       "      <td>19893.0</td>\n",
       "      <td>0.0</td>\n",
       "      <td>19908.0</td>\n",
       "      <td>19908.0</td>\n",
       "      <td>19893.0</td>\n",
       "      <td>19908.0</td>\n",
       "      <td>19595.000000</td>\n",
       "      <td>19898.0</td>\n",
       "      <td>19908.00000</td>\n",
       "      <td>19908.000000</td>\n",
       "      <td>19908.000000</td>\n",
       "      <td>19908.000000</td>\n",
       "    </tr>\n",
       "    <tr>\n",
       "      <td>mean</td>\n",
       "      <td>11353.846444</td>\n",
       "      <td>11065.763763</td>\n",
       "      <td>10500.929748</td>\n",
       "      <td>12.089717</td>\n",
       "      <td>330.614254</td>\n",
       "      <td>7.107345e+04</td>\n",
       "      <td>13.008619</td>\n",
       "      <td>0.143962</td>\n",
       "      <td>0.829466</td>\n",
       "      <td>35.841097</td>\n",
       "      <td>69.354839</td>\n",
       "      <td>9.278782</td>\n",
       "      <td>0.046715</td>\n",
       "      <td>13363.994826</td>\n",
       "      <td>49.424966</td>\n",
       "      <td>21.527627</td>\n",
       "      <td>0.0</td>\n",
       "      <td>0.0</td>\n",
       "      <td>12286.852391</td>\n",
       "      <td>11690.155107</td>\n",
       "      <td>9913.519990</td>\n",
       "      <td>2277.120129</td>\n",
       "      <td>1.489973</td>\n",
       "      <td>94.722382</td>\n",
       "      <td>11.861625</td>\n",
       "      <td>2636.253711</td>\n",
       "      <td>NaN</td>\n",
       "      <td>0.0</td>\n",
       "      <td>NaN</td>\n",
       "      <td>1.0</td>\n",
       "      <td>0.0</td>\n",
       "      <td>0.0</td>\n",
       "      <td>0.0</td>\n",
       "      <td>0.037969</td>\n",
       "      <td>0.0</td>\n",
       "      <td>0.85217</td>\n",
       "      <td>0.107970</td>\n",
       "      <td>3.507937</td>\n",
       "      <td>0.019144</td>\n",
       "    </tr>\n",
       "    <tr>\n",
       "      <td>std</td>\n",
       "      <td>7463.700492</td>\n",
       "      <td>7176.276661</td>\n",
       "      <td>7106.229650</td>\n",
       "      <td>3.698287</td>\n",
       "      <td>210.557434</td>\n",
       "      <td>6.980565e+04</td>\n",
       "      <td>6.663658</td>\n",
       "      <td>0.489576</td>\n",
       "      <td>1.044978</td>\n",
       "      <td>21.599170</td>\n",
       "      <td>44.520279</td>\n",
       "      <td>4.414903</td>\n",
       "      <td>0.217827</td>\n",
       "      <td>15943.303849</td>\n",
       "      <td>28.198395</td>\n",
       "      <td>11.269006</td>\n",
       "      <td>0.0</td>\n",
       "      <td>0.0</td>\n",
       "      <td>9098.847567</td>\n",
       "      <td>8984.722396</td>\n",
       "      <td>7126.424699</td>\n",
       "      <td>2583.733214</td>\n",
       "      <td>7.964257</td>\n",
       "      <td>666.434583</td>\n",
       "      <td>141.910324</td>\n",
       "      <td>4412.964304</td>\n",
       "      <td>NaN</td>\n",
       "      <td>0.0</td>\n",
       "      <td>NaN</td>\n",
       "      <td>0.0</td>\n",
       "      <td>0.0</td>\n",
       "      <td>0.0</td>\n",
       "      <td>0.0</td>\n",
       "      <td>0.191393</td>\n",
       "      <td>0.0</td>\n",
       "      <td>0.35494</td>\n",
       "      <td>0.267606</td>\n",
       "      <td>0.870581</td>\n",
       "      <td>0.100369</td>\n",
       "    </tr>\n",
       "    <tr>\n",
       "      <td>min</td>\n",
       "      <td>500.000000</td>\n",
       "      <td>500.000000</td>\n",
       "      <td>0.000000</td>\n",
       "      <td>5.420000</td>\n",
       "      <td>15.690000</td>\n",
       "      <td>4.000000e+03</td>\n",
       "      <td>0.000000</td>\n",
       "      <td>0.000000</td>\n",
       "      <td>0.000000</td>\n",
       "      <td>0.000000</td>\n",
       "      <td>0.000000</td>\n",
       "      <td>2.000000</td>\n",
       "      <td>0.000000</td>\n",
       "      <td>0.000000</td>\n",
       "      <td>0.000000</td>\n",
       "      <td>2.000000</td>\n",
       "      <td>0.0</td>\n",
       "      <td>0.0</td>\n",
       "      <td>0.000000</td>\n",
       "      <td>0.000000</td>\n",
       "      <td>0.000000</td>\n",
       "      <td>0.000000</td>\n",
       "      <td>0.000000</td>\n",
       "      <td>0.000000</td>\n",
       "      <td>0.000000</td>\n",
       "      <td>0.000000</td>\n",
       "      <td>NaN</td>\n",
       "      <td>0.0</td>\n",
       "      <td>NaN</td>\n",
       "      <td>1.0</td>\n",
       "      <td>0.0</td>\n",
       "      <td>0.0</td>\n",
       "      <td>0.0</td>\n",
       "      <td>0.000000</td>\n",
       "      <td>0.0</td>\n",
       "      <td>0.00000</td>\n",
       "      <td>-1.000000</td>\n",
       "      <td>3.000000</td>\n",
       "      <td>-1.000000</td>\n",
       "    </tr>\n",
       "    <tr>\n",
       "      <td>25%</td>\n",
       "      <td>5750.000000</td>\n",
       "      <td>5600.000000</td>\n",
       "      <td>5000.000000</td>\n",
       "      <td>9.450000</td>\n",
       "      <td>171.287500</td>\n",
       "      <td>4.200000e+04</td>\n",
       "      <td>7.840000</td>\n",
       "      <td>0.000000</td>\n",
       "      <td>0.000000</td>\n",
       "      <td>19.000000</td>\n",
       "      <td>0.000000</td>\n",
       "      <td>6.000000</td>\n",
       "      <td>0.000000</td>\n",
       "      <td>3770.500000</td>\n",
       "      <td>26.500000</td>\n",
       "      <td>13.000000</td>\n",
       "      <td>0.0</td>\n",
       "      <td>0.0</td>\n",
       "      <td>5670.592545</td>\n",
       "      <td>5239.857500</td>\n",
       "      <td>4800.000000</td>\n",
       "      <td>687.595000</td>\n",
       "      <td>0.000000</td>\n",
       "      <td>0.000000</td>\n",
       "      <td>0.000000</td>\n",
       "      <td>222.530000</td>\n",
       "      <td>NaN</td>\n",
       "      <td>0.0</td>\n",
       "      <td>NaN</td>\n",
       "      <td>1.0</td>\n",
       "      <td>0.0</td>\n",
       "      <td>0.0</td>\n",
       "      <td>0.0</td>\n",
       "      <td>0.000000</td>\n",
       "      <td>0.0</td>\n",
       "      <td>1.00000</td>\n",
       "      <td>0.085900</td>\n",
       "      <td>3.000000</td>\n",
       "      <td>0.026958</td>\n",
       "    </tr>\n",
       "    <tr>\n",
       "      <td>50%</td>\n",
       "      <td>10000.000000</td>\n",
       "      <td>10000.000000</td>\n",
       "      <td>9000.000000</td>\n",
       "      <td>11.860000</td>\n",
       "      <td>285.780000</td>\n",
       "      <td>6.000000e+04</td>\n",
       "      <td>13.075000</td>\n",
       "      <td>0.000000</td>\n",
       "      <td>0.000000</td>\n",
       "      <td>34.000000</td>\n",
       "      <td>90.000000</td>\n",
       "      <td>9.000000</td>\n",
       "      <td>0.000000</td>\n",
       "      <td>8876.500000</td>\n",
       "      <td>50.300000</td>\n",
       "      <td>20.000000</td>\n",
       "      <td>0.0</td>\n",
       "      <td>0.0</td>\n",
       "      <td>10042.735817</td>\n",
       "      <td>9427.845000</td>\n",
       "      <td>8000.000000</td>\n",
       "      <td>1389.230000</td>\n",
       "      <td>0.000000</td>\n",
       "      <td>0.000000</td>\n",
       "      <td>0.000000</td>\n",
       "      <td>544.700000</td>\n",
       "      <td>NaN</td>\n",
       "      <td>0.0</td>\n",
       "      <td>NaN</td>\n",
       "      <td>1.0</td>\n",
       "      <td>0.0</td>\n",
       "      <td>0.0</td>\n",
       "      <td>0.0</td>\n",
       "      <td>0.000000</td>\n",
       "      <td>0.0</td>\n",
       "      <td>1.00000</td>\n",
       "      <td>0.155383</td>\n",
       "      <td>3.000000</td>\n",
       "      <td>0.045594</td>\n",
       "    </tr>\n",
       "    <tr>\n",
       "      <td>75%</td>\n",
       "      <td>15000.000000</td>\n",
       "      <td>15000.000000</td>\n",
       "      <td>14500.000000</td>\n",
       "      <td>14.610000</td>\n",
       "      <td>440.815000</td>\n",
       "      <td>8.500000e+04</td>\n",
       "      <td>18.200000</td>\n",
       "      <td>0.000000</td>\n",
       "      <td>1.000000</td>\n",
       "      <td>51.000000</td>\n",
       "      <td>104.000000</td>\n",
       "      <td>12.000000</td>\n",
       "      <td>0.000000</td>\n",
       "      <td>16952.250000</td>\n",
       "      <td>72.800000</td>\n",
       "      <td>28.000000</td>\n",
       "      <td>0.0</td>\n",
       "      <td>0.0</td>\n",
       "      <td>16681.688450</td>\n",
       "      <td>15983.440000</td>\n",
       "      <td>14000.000000</td>\n",
       "      <td>2842.795000</td>\n",
       "      <td>0.000000</td>\n",
       "      <td>0.000000</td>\n",
       "      <td>0.000000</td>\n",
       "      <td>3193.352500</td>\n",
       "      <td>NaN</td>\n",
       "      <td>0.0</td>\n",
       "      <td>NaN</td>\n",
       "      <td>1.0</td>\n",
       "      <td>0.0</td>\n",
       "      <td>0.0</td>\n",
       "      <td>0.0</td>\n",
       "      <td>0.000000</td>\n",
       "      <td>0.0</td>\n",
       "      <td>1.00000</td>\n",
       "      <td>0.224674</td>\n",
       "      <td>5.000000</td>\n",
       "      <td>0.062750</td>\n",
       "    </tr>\n",
       "    <tr>\n",
       "      <td>max</td>\n",
       "      <td>35000.000000</td>\n",
       "      <td>35000.000000</td>\n",
       "      <td>35000.000000</td>\n",
       "      <td>24.400000</td>\n",
       "      <td>1302.690000</td>\n",
       "      <td>6.000000e+06</td>\n",
       "      <td>29.990000</td>\n",
       "      <td>11.000000</td>\n",
       "      <td>8.000000</td>\n",
       "      <td>106.000000</td>\n",
       "      <td>129.000000</td>\n",
       "      <td>44.000000</td>\n",
       "      <td>3.000000</td>\n",
       "      <td>148829.000000</td>\n",
       "      <td>99.900000</td>\n",
       "      <td>90.000000</td>\n",
       "      <td>0.0</td>\n",
       "      <td>0.0</td>\n",
       "      <td>58480.139915</td>\n",
       "      <td>58438.370000</td>\n",
       "      <td>35000.020000</td>\n",
       "      <td>23480.140000</td>\n",
       "      <td>180.200000</td>\n",
       "      <td>29623.350000</td>\n",
       "      <td>6543.040000</td>\n",
       "      <td>35596.410000</td>\n",
       "      <td>NaN</td>\n",
       "      <td>0.0</td>\n",
       "      <td>NaN</td>\n",
       "      <td>1.0</td>\n",
       "      <td>0.0</td>\n",
       "      <td>0.0</td>\n",
       "      <td>0.0</td>\n",
       "      <td>2.000000</td>\n",
       "      <td>0.0</td>\n",
       "      <td>1.00000</td>\n",
       "      <td>1.241516</td>\n",
       "      <td>5.000000</td>\n",
       "      <td>0.295472</td>\n",
       "    </tr>\n",
       "  </tbody>\n",
       "</table>\n",
       "</div>"
      ],
      "text/plain": [
       "          loan_amnt   funded_amnt  funded_amnt_inv      int_rate  \\\n",
       "count  19908.000000  19908.000000     19908.000000  19908.000000   \n",
       "mean   11353.846444  11065.763763     10500.929748     12.089717   \n",
       "std     7463.700492   7176.276661      7106.229650      3.698287   \n",
       "min      500.000000    500.000000         0.000000      5.420000   \n",
       "25%     5750.000000   5600.000000      5000.000000      9.450000   \n",
       "50%    10000.000000  10000.000000      9000.000000     11.860000   \n",
       "75%    15000.000000  15000.000000     14500.000000     14.610000   \n",
       "max    35000.000000  35000.000000     35000.000000     24.400000   \n",
       "\n",
       "        installment    annual_inc           dti   delinq_2yrs  inq_last_6mths  \\\n",
       "count  19908.000000  1.990800e+04  19908.000000  19908.000000    19908.000000   \n",
       "mean     330.614254  7.107345e+04     13.008619      0.143962        0.829466   \n",
       "std      210.557434  6.980565e+04      6.663658      0.489576        1.044978   \n",
       "min       15.690000  4.000000e+03      0.000000      0.000000        0.000000   \n",
       "25%      171.287500  4.200000e+04      7.840000      0.000000        0.000000   \n",
       "50%      285.780000  6.000000e+04     13.075000      0.000000        0.000000   \n",
       "75%      440.815000  8.500000e+04     18.200000      0.000000        1.000000   \n",
       "max     1302.690000  6.000000e+06     29.990000     11.000000        8.000000   \n",
       "\n",
       "       mths_since_last_delinq  mths_since_last_record      open_acc  \\\n",
       "count             6998.000000             1209.000000  19908.000000   \n",
       "mean                35.841097               69.354839      9.278782   \n",
       "std                 21.599170               44.520279      4.414903   \n",
       "min                  0.000000                0.000000      2.000000   \n",
       "25%                 19.000000                0.000000      6.000000   \n",
       "50%                 34.000000               90.000000      9.000000   \n",
       "75%                 51.000000              104.000000     12.000000   \n",
       "max                106.000000              129.000000     44.000000   \n",
       "\n",
       "            pub_rec      revol_bal    revol_util     total_acc  out_prncp  \\\n",
       "count  19908.000000   19908.000000  19889.000000  19908.000000    19908.0   \n",
       "mean       0.046715   13363.994826     49.424966     21.527627        0.0   \n",
       "std        0.217827   15943.303849     28.198395     11.269006        0.0   \n",
       "min        0.000000       0.000000      0.000000      2.000000        0.0   \n",
       "25%        0.000000    3770.500000     26.500000     13.000000        0.0   \n",
       "50%        0.000000    8876.500000     50.300000     20.000000        0.0   \n",
       "75%        0.000000   16952.250000     72.800000     28.000000        0.0   \n",
       "max        3.000000  148829.000000     99.900000     90.000000        0.0   \n",
       "\n",
       "       out_prncp_inv   total_pymnt  total_pymnt_inv  total_rec_prncp  \\\n",
       "count        19908.0  19908.000000     19908.000000     19908.000000   \n",
       "mean             0.0  12286.852391     11690.155107      9913.519990   \n",
       "std              0.0   9098.847567      8984.722396      7126.424699   \n",
       "min              0.0      0.000000         0.000000         0.000000   \n",
       "25%              0.0   5670.592545      5239.857500      4800.000000   \n",
       "50%              0.0  10042.735817      9427.845000      8000.000000   \n",
       "75%              0.0  16681.688450     15983.440000     14000.000000   \n",
       "max              0.0  58480.139915     58438.370000     35000.020000   \n",
       "\n",
       "       total_rec_int  total_rec_late_fee    recoveries  \\\n",
       "count   19908.000000        19908.000000  19908.000000   \n",
       "mean     2277.120129            1.489973     94.722382   \n",
       "std      2583.733214            7.964257    666.434583   \n",
       "min         0.000000            0.000000      0.000000   \n",
       "25%       687.595000            0.000000      0.000000   \n",
       "50%      1389.230000            0.000000      0.000000   \n",
       "75%      2842.795000            0.000000      0.000000   \n",
       "max     23480.140000          180.200000  29623.350000   \n",
       "\n",
       "       collection_recovery_fee  last_pymnt_amnt  next_pymnt_d  \\\n",
       "count             19908.000000     19908.000000           0.0   \n",
       "mean                 11.861625      2636.253711           NaN   \n",
       "std                 141.910324      4412.964304           NaN   \n",
       "min                   0.000000         0.000000           NaN   \n",
       "25%                   0.000000       222.530000           NaN   \n",
       "50%                   0.000000       544.700000           NaN   \n",
       "75%                   0.000000      3193.352500           NaN   \n",
       "max                6543.040000     35596.410000           NaN   \n",
       "\n",
       "       collections_12_mths_ex_med  mths_since_last_major_derog  policy_code  \\\n",
       "count                     19893.0                          0.0      19908.0   \n",
       "mean                          0.0                          NaN          1.0   \n",
       "std                           0.0                          NaN          0.0   \n",
       "min                           0.0                          NaN          1.0   \n",
       "25%                           0.0                          NaN          1.0   \n",
       "50%                           0.0                          NaN          1.0   \n",
       "75%                           0.0                          NaN          1.0   \n",
       "max                           0.0                          NaN          1.0   \n",
       "\n",
       "       acc_now_delinq  chargeoff_within_12_mths  delinq_amnt  \\\n",
       "count         19908.0                   19893.0      19908.0   \n",
       "mean              0.0                       0.0          0.0   \n",
       "std               0.0                       0.0          0.0   \n",
       "min               0.0                       0.0          0.0   \n",
       "25%               0.0                       0.0          0.0   \n",
       "50%               0.0                       0.0          0.0   \n",
       "75%               0.0                       0.0          0.0   \n",
       "max               0.0                       0.0          0.0   \n",
       "\n",
       "       pub_rec_bankruptcies  tax_liens       repaid  total_return  \\\n",
       "count          19595.000000    19898.0  19908.00000  19908.000000   \n",
       "mean               0.037969        0.0      0.85217      0.107970   \n",
       "std                0.191393        0.0      0.35494      0.267606   \n",
       "min                0.000000        0.0      0.00000     -1.000000   \n",
       "25%                0.000000        0.0      1.00000      0.085900   \n",
       "50%                0.000000        0.0      1.00000      0.155383   \n",
       "75%                0.000000        0.0      1.00000      0.224674   \n",
       "max                2.000000        0.0      1.00000      1.241516   \n",
       "\n",
       "       loan_term_year  annual_return  \n",
       "count    19908.000000   19908.000000  \n",
       "mean         3.507937       0.019144  \n",
       "std          0.870581       0.100369  \n",
       "min          3.000000      -1.000000  \n",
       "25%          3.000000       0.026958  \n",
       "50%          3.000000       0.045594  \n",
       "75%          5.000000       0.062750  \n",
       "max          5.000000       0.295472  "
      ]
     },
     "execution_count": 130,
     "metadata": {},
     "output_type": "execute_result"
    }
   ],
   "source": [
    "loan_df.describe()"
   ]
  },
  {
   "cell_type": "code",
   "execution_count": 131,
   "metadata": {
    "scrolled": true
   },
   "outputs": [
    {
     "data": {
      "text/plain": [
       "Index(['loan_amnt', 'funded_amnt', 'funded_amnt_inv', 'term', 'int_rate',\n",
       "       'installment', 'grade', 'sub_grade', 'emp_title', 'emp_length',\n",
       "       'home_ownership', 'annual_inc', 'verification_status', 'issue_d',\n",
       "       'loan_status', 'pymnt_plan', 'purpose', 'title', 'zip_code',\n",
       "       'addr_state', 'dti', 'delinq_2yrs', 'earliest_cr_line',\n",
       "       'inq_last_6mths', 'mths_since_last_delinq', 'mths_since_last_record',\n",
       "       'open_acc', 'pub_rec', 'revol_bal', 'revol_util', 'total_acc',\n",
       "       'initial_list_status', 'out_prncp', 'out_prncp_inv', 'total_pymnt',\n",
       "       'total_pymnt_inv', 'total_rec_prncp', 'total_rec_int',\n",
       "       'total_rec_late_fee', 'recoveries', 'collection_recovery_fee',\n",
       "       'last_pymnt_d', 'last_pymnt_amnt', 'next_pymnt_d', 'last_credit_pull_d',\n",
       "       'collections_12_mths_ex_med', 'mths_since_last_major_derog',\n",
       "       'policy_code', 'application_type', 'acc_now_delinq',\n",
       "       'chargeoff_within_12_mths', 'delinq_amnt', 'pub_rec_bankruptcies',\n",
       "       'tax_liens', 'hardship_flag', 'disbursement_method',\n",
       "       'debt_settlement_flag', 'debt_settlement_flag_date', 'repaid',\n",
       "       'total_return', 'loan_term_year', 'annual_return'],\n",
       "      dtype='object')"
      ]
     },
     "execution_count": 131,
     "metadata": {},
     "output_type": "execute_result"
    }
   ],
   "source": [
    "loan_df.columns"
   ]
  },
  {
   "cell_type": "markdown",
   "metadata": {},
   "source": [
    "#### Label\n",
    "loan_status\n",
    "#### Columns after loan initiation\n",
    "issue_d, debt_settlement_flag, debt_settlement_flag_date\n",
    "#### Constant value\n",
    "pymnt_plan, application_type, initial_list_status, collections_12_mths_ex_med, policy_code, acc_now_delinq, chargeoff_within_12_mths, delinq_amnt, tax_liens, hardship_flat, disbursement_method\n",
    "#### Categorical feature with too many values\n",
    "title, zip_code, earliest_cr_line\n",
    "#### Too many missing values?\n",
    "mths_since_last_major_derog\n",
    "#### No impact on repaid or return\n",
    "emp_length, open_acc\n",
    "#### Keep all purpose\n",
    "funded_amnt, loan_term_year, int_rate, grade, home_ownership, annual_inc, verification_status, purpose, addr_state, dti, delinq_2yrs, inq_last_6mths, mths_since_last_delinq, mths_since_last_record, pub_rec, revol_bal, revol_util\n",
    "loan_status, repaid, annual_return, total_pymnt, recoveries, pub_rec_bankruptcies\n",
    "#### Keep for classification\n",
    "funded_amnt, loan_term_year, int_rate, grade, emp_length, home_ownership, annual_inc, verification_status, purpose, addr_state, dti, delinq_2yrs, inq_last_6mths, mths_since_last_record, pub_rec, revol_util, pub_rec_bankruptcies\n"
   ]
  },
  {
   "cell_type": "code",
   "execution_count": 132,
   "metadata": {},
   "outputs": [],
   "source": [
    "keep_columns = ['funded_amnt', 'loan_term_year', 'int_rate', 'grade', 'emp_length', 'home_ownership', 'annual_inc', \n",
    "                'verification_status', 'purpose', 'addr_state', 'dti', 'delinq_2yrs', 'inq_last_6mths', \n",
    "                'mths_since_last_delinq', 'mths_since_last_record', 'pub_rec', 'revol_bal', 'revol_util', \n",
    "                'loan_status', 'repaid', 'annual_return', 'total_pymnt', 'recoveries', 'pub_rec_bankruptcies']\n",
    "classification_columns = ['funded_amnt', 'loan_term_year', 'int_rate', 'grade', 'emp_length', 'home_ownership', \n",
    "                          'annual_inc', 'verification_status', 'purpose', 'addr_state', 'dti', 'delinq_2yrs', \n",
    "                          'inq_last_6mths', 'mths_since_last_record', 'pub_rec', 'revol_util', 'pub_rec_bankruptcies']\n",
    "#used to calculate returns\n",
    "calculate_columns = [c for c in keep_columns if c not in classification_columns]\n",
    "for c in \n",
    "cat_columns = ['loan_term_year','grade','emp_length','home_ownership','verification_status','purpose','addr_state']\n",
    "cont_columns = ['funded_amnt','int_rate','annual_inc', 'dti', 'revol_util']\n",
    "#convert to bi-value, 0 and 1\n",
    "convert_to_bi_cat_columns = ['delinq_2yrs','inq_last_6mths','mths_since_last_record', 'pub_rec', 'pub_rec_bankruptcies']"
   ]
  },
  {
   "cell_type": "code",
   "execution_count": 189,
   "metadata": {},
   "outputs": [
    {
     "data": {
      "text/plain": [
       "['mths_since_last_delinq',\n",
       " 'revol_bal',\n",
       " 'loan_status',\n",
       " 'repaid',\n",
       " 'annual_return',\n",
       " 'total_pymnt',\n",
       " 'recoveries']"
      ]
     },
     "execution_count": 189,
     "metadata": {},
     "output_type": "execute_result"
    }
   ],
   "source": [
    "[c for c in keep_columns if c not in classification_columns]"
   ]
  },
  {
   "cell_type": "code",
   "execution_count": 150,
   "metadata": {},
   "outputs": [],
   "source": [
    "#df with all useful columns\n",
    "df = loan_df[keep_columns]\n",
    "df['delinq_2yrs_bi'] = 0\n",
    "df.loc[df.delinq_2yrs>0, 'delinq_2yrs_bi'] = 1\n",
    "df['inq_last_6mths_bi'] = 0\n",
    "df.loc[df.inq_last_6mths>0, 'inq_last_6mths_bi'] = 1\n",
    "df['mths_since_last_record_bi'] = 0\n",
    "df.loc[df.mths_since_last_record>=0, 'mths_since_last_record_bi'] = 1\n",
    "df['pub_rec_bi'] = 0\n",
    "df.loc[df.pub_rec>0, 'pub_rec_bi'] = 1\n",
    "df['pub_rec_bankruptcies_bi'] = 0\n",
    "df.loc[df.pub_rec_bankruptcies>0, 'pub_rec_bankruptcies_bi'] = 1\n",
    "converted_bi_columns = ['delinq_2yrs_bi','inq_last_6mths_bi','mths_since_last_record_bi', 'pub_rec_bi', 'pub_rec_bankruptcies_bi']\n"
   ]
  },
  {
   "cell_type": "markdown",
   "metadata": {},
   "source": [
    "## Task 2: Modeling (30 points)\n",
    "\n",
    "#### Preprocessing\n",
    "\n",
    "- Separate label and data. Label is 'repaid' column. \n",
    "- Encode categorical features\n",
    "- Manage missing values(drop or fill), please justify your choice.\n",
    "- Splite dataset to train and test. Please set random_state to ensure reproducibility.\n",
    "\n",
    "#### Modeling, Evaluation and Optimization\n",
    "\n",
    "- Apply at least 2 classifiers including LogisticRegression.(The reason is explained in Task3).\n",
    "- If you choose Support Vector Machine, use LinearSVC instead of SVC. The reason is that SVC is very slow with this dataset.\n",
    "- Apply feature selection with following techniques(don't have to use all of them)\n",
    "    - Filter methods\n",
    "    - Wrapper methods\n",
    "    - Embedded methods\n",
    "- Optimize each classifier with cross validation. Select best options for major hyperparameters of the model.\n",
    "- Evaluate models with classification report and confusion matrix.\n",
    "- Compare models with ROC plot.\n",
    "\n",
    "#### Conclusion\n"
   ]
  },
  {
   "cell_type": "markdown",
   "metadata": {},
   "source": [
    "### Preprocessing\n",
    "#### Encode Categorical Features"
   ]
  },
  {
   "cell_type": "code",
   "execution_count": 151,
   "metadata": {},
   "outputs": [],
   "source": [
    "mapping_dict = {3:0, 5:1}\n",
    "#Encode term\n",
    "df['term_code'] = df.loan_term_year.map(mapping_dict)\n",
    "mapping_dict = {'A':0, 'B':1,'C':2,'D':3,'E':4,'F':5,'G':6}\n",
    "df['grade_code'] = df.grade.map(mapping_dict)\n",
    "mapping_dict = {\n",
    " '< 1 year':0,\n",
    " '1 year':1,\n",
    " '2 years':2,\n",
    " '3 years':3,\n",
    " '4 years':4,\n",
    " '5 years':5,\n",
    " '6 years':6,\n",
    " '7 years':7,\n",
    " '8 years':8,\n",
    " '9 years':9,\n",
    " '10+ years':10}\n",
    "df['emp_length_code'] = df.emp_length.map(mapping_dict)\n",
    "mapping_dict = {'Not Verified':0, 'Source Verified':1, 'Verified':2}\n",
    "df['verification_status_code'] = df.verification_status.map(mapping_dict)"
   ]
  },
  {
   "cell_type": "code",
   "execution_count": 152,
   "metadata": {},
   "outputs": [],
   "source": [
    "from sklearn.preprocessing import LabelEncoder\n",
    "\n",
    "le = LabelEncoder()\n",
    "df['purpose_code'] = le.fit_transform(df.purpose)\n",
    "df['home_ownership_code'] = le.fit_transform(df.home_ownership)\n",
    "df['addr_state_code'] = le.fit_transform(df.addr_state)\n"
   ]
  },
  {
   "cell_type": "code",
   "execution_count": 153,
   "metadata": {},
   "outputs": [],
   "source": [
    "cat_columns_encoded = ['term_code','grade_code','emp_length_code','home_ownership_code',\n",
    "                       'verification_status_code','purpose_code','addr_state_code']\n"
   ]
  },
  {
   "cell_type": "code",
   "execution_count": 154,
   "metadata": {},
   "outputs": [
    {
     "data": {
      "text/plain": [
       "['term_code',\n",
       " 'grade_code',\n",
       " 'emp_length_code',\n",
       " 'home_ownership_code',\n",
       " 'verification_status_code',\n",
       " 'purpose_code',\n",
       " 'addr_state_code',\n",
       " 'delinq_2yrs_bi',\n",
       " 'inq_last_6mths_bi',\n",
       " 'mths_since_last_record_bi',\n",
       " 'pub_rec_bi',\n",
       " 'pub_rec_bankruptcies_bi',\n",
       " 'funded_amnt',\n",
       " 'int_rate',\n",
       " 'annual_inc',\n",
       " 'dti',\n",
       " 'revol_util']"
      ]
     },
     "execution_count": 154,
     "metadata": {},
     "output_type": "execute_result"
    }
   ],
   "source": [
    "model_columns = cat_columns_encoded + converted_bi_columns + cont_columns\n",
    "model_columns"
   ]
  },
  {
   "cell_type": "code",
   "execution_count": 155,
   "metadata": {
    "scrolled": false
   },
   "outputs": [
    {
     "name": "stdout",
     "output_type": "stream",
     "text": [
      "<class 'pandas.core.frame.DataFrame'>\n",
      "RangeIndex: 19908 entries, 0 to 19907\n",
      "Data columns (total 17 columns):\n",
      "term_code                    19908 non-null int64\n",
      "grade_code                   19908 non-null int64\n",
      "emp_length_code              19409 non-null float64\n",
      "home_ownership_code          19908 non-null int64\n",
      "verification_status_code     19908 non-null int64\n",
      "purpose_code                 19908 non-null int64\n",
      "addr_state_code              19908 non-null int64\n",
      "delinq_2yrs_bi               19908 non-null int64\n",
      "inq_last_6mths_bi            19908 non-null int64\n",
      "mths_since_last_record_bi    19908 non-null int64\n",
      "pub_rec_bi                   19908 non-null int64\n",
      "pub_rec_bankruptcies_bi      19908 non-null int64\n",
      "funded_amnt                  19908 non-null int64\n",
      "int_rate                     19908 non-null float64\n",
      "annual_inc                   19908 non-null float64\n",
      "dti                          19908 non-null float64\n",
      "revol_util                   19889 non-null float64\n",
      "dtypes: float64(5), int64(12)\n",
      "memory usage: 2.6 MB\n"
     ]
    }
   ],
   "source": [
    "df[model_columns].info()"
   ]
  },
  {
   "cell_type": "markdown",
   "metadata": {},
   "source": [
    "#### Missing Values\n",
    "Fill missing values"
   ]
  },
  {
   "cell_type": "code",
   "execution_count": 156,
   "metadata": {},
   "outputs": [
    {
     "data": {
      "text/plain": [
       "10.0    4249\n",
       "0.0     2306\n",
       "2.0     2218\n",
       "3.0     2108\n",
       "4.0     1871\n",
       "5.0     1649\n",
       "1.0     1637\n",
       "6.0     1151\n",
       "7.0      867\n",
       "8.0      718\n",
       "9.0      635\n",
       "Name: emp_length_code, dtype: int64"
      ]
     },
     "execution_count": 156,
     "metadata": {},
     "output_type": "execute_result"
    }
   ],
   "source": [
    "df.emp_length_code.value_counts()"
   ]
  },
  {
   "cell_type": "code",
   "execution_count": 157,
   "metadata": {},
   "outputs": [
    {
     "data": {
      "text/plain": [
       "count    19889.000000\n",
       "mean        49.424966\n",
       "std         28.198395\n",
       "min          0.000000\n",
       "25%         26.500000\n",
       "50%         50.300000\n",
       "75%         72.800000\n",
       "max         99.900000\n",
       "Name: revol_util, dtype: float64"
      ]
     },
     "execution_count": 157,
     "metadata": {},
     "output_type": "execute_result"
    }
   ],
   "source": [
    "df.revol_util.describe()"
   ]
  },
  {
   "cell_type": "code",
   "execution_count": 158,
   "metadata": {
    "scrolled": true
   },
   "outputs": [
    {
     "name": "stdout",
     "output_type": "stream",
     "text": [
      "<class 'pandas.core.frame.DataFrame'>\n",
      "RangeIndex: 19908 entries, 0 to 19907\n",
      "Data columns (total 17 columns):\n",
      "term_code                    19908 non-null int64\n",
      "grade_code                   19908 non-null int64\n",
      "emp_length_code              19908 non-null float64\n",
      "home_ownership_code          19908 non-null int64\n",
      "verification_status_code     19908 non-null int64\n",
      "purpose_code                 19908 non-null int64\n",
      "addr_state_code              19908 non-null int64\n",
      "delinq_2yrs_bi               19908 non-null int64\n",
      "inq_last_6mths_bi            19908 non-null int64\n",
      "mths_since_last_record_bi    19908 non-null int64\n",
      "pub_rec_bi                   19908 non-null int64\n",
      "pub_rec_bankruptcies_bi      19908 non-null int64\n",
      "funded_amnt                  19908 non-null int64\n",
      "int_rate                     19908 non-null float64\n",
      "annual_inc                   19908 non-null float64\n",
      "dti                          19908 non-null float64\n",
      "revol_util                   19908 non-null float64\n",
      "dtypes: float64(5), int64(12)\n",
      "memory usage: 2.6 MB\n"
     ]
    }
   ],
   "source": [
    "df.emp_length_code.fillna(10.0, inplace=True)\n",
    "df.revol_util.fillna(df.revol_util.mean(), inplace=True)\n",
    "df[model_columns].info()"
   ]
  },
  {
   "cell_type": "markdown",
   "metadata": {},
   "source": [
    "#### Split dataset"
   ]
  },
  {
   "cell_type": "code",
   "execution_count": 159,
   "metadata": {},
   "outputs": [],
   "source": [
    "from sklearn.model_selection import train_test_split\n",
    "df_train, df_test = train_test_split(df, test_size=0.4, random_state=23)\n",
    "d_train = df_train[model_columns]\n",
    "d_test = df_test[model_columns]\n",
    "l_train = df_train.repaid\n",
    "l_test = df_test.repaid"
   ]
  },
  {
   "cell_type": "markdown",
   "metadata": {},
   "source": [
    "### Feature Selection\n",
    "#### Filter Method"
   ]
  },
  {
   "cell_type": "markdown",
   "metadata": {},
   "source": [
    "###### Statistical"
   ]
  },
  {
   "cell_type": "code",
   "execution_count": 160,
   "metadata": {
    "scrolled": true
   },
   "outputs": [
    {
     "name": "stdout",
     "output_type": "stream",
     "text": [
      " inq_last_6mths_bi variance = 0.250\n",
      "home_ownership_code variance = 0.222\n",
      "         term_code variance = 0.190\n",
      "verification_status_code variance = 0.184\n",
      "   addr_state_code variance = 0.147\n",
      "   emp_length_code variance = 0.128\n",
      "    delinq_2yrs_bi variance = 0.093\n",
      "        revol_util variance = 0.080\n",
      "      purpose_code variance = 0.071\n",
      "mths_since_last_record_bi variance = 0.058\n",
      "        grade_code variance = 0.054\n",
      "               dti variance = 0.049\n",
      "       funded_amnt variance = 0.044\n",
      "        pub_rec_bi variance = 0.044\n",
      "          int_rate variance = 0.038\n",
      "pub_rec_bankruptcies_bi variance = 0.036\n",
      "        annual_inc variance = 0.001\n"
     ]
    }
   ],
   "source": [
    "from sklearn.preprocessing import MinMaxScaler\n",
    "from sklearn.feature_selection import VarianceThreshold\n",
    "vt = VarianceThreshold()\n",
    "\n",
    "d_train_ss = MinMaxScaler().fit_transform(d_train)\n",
    "\n",
    "# Compute and display variances\n",
    "vt.fit_transform(d_train_ss)\n",
    "\n",
    "for name, var in sorted(zip(d_train.columns, vt.variances_), key=lambda x: x[1], reverse=True):\n",
    "    print(f'{name:>18} variance = {var:5.3f}')"
   ]
  },
  {
   "cell_type": "code",
   "execution_count": 161,
   "metadata": {},
   "outputs": [
    {
     "data": {
      "text/plain": [
       "0    5997\n",
       "1    5947\n",
       "Name: inq_last_6mths_bi, dtype: int64"
      ]
     },
     "execution_count": 161,
     "metadata": {},
     "output_type": "execute_result"
    }
   ],
   "source": [
    "d_train.inq_last_6mths_bi.value_counts()"
   ]
  },
  {
   "cell_type": "markdown",
   "metadata": {},
   "source": [
    "###### Univariate Technics"
   ]
  },
  {
   "cell_type": "code",
   "execution_count": 162,
   "metadata": {},
   "outputs": [
    {
     "data": {
      "text/plain": [
       "0    11207\n",
       "1      737\n",
       "Name: mths_since_last_record_bi, dtype: int64"
      ]
     },
     "execution_count": 162,
     "metadata": {},
     "output_type": "execute_result"
    }
   ],
   "source": [
    "d_train.mths_since_last_record_bi.value_counts()"
   ]
  },
  {
   "cell_type": "code",
   "execution_count": 180,
   "metadata": {
    "scrolled": false
   },
   "outputs": [
    {
     "name": "stdout",
     "output_type": "stream",
     "text": [
      "          int_rate score = 494.632\n",
      "        grade_code score = 462.357\n",
      "         term_code score = 294.032\n",
      "        revol_util score = 94.424\n",
      " inq_last_6mths_bi score = 76.877\n",
      "        annual_inc score = 24.345\n",
      "   addr_state_code score = 18.607\n",
      "      purpose_code score = 18.414\n",
      "mths_since_last_record_bi score = 18.085\n",
      "       funded_amnt score = 17.934\n",
      "verification_status_code score = 17.748\n",
      "        pub_rec_bi score = 12.417\n",
      "   emp_length_code score = 11.772\n",
      "pub_rec_bankruptcies_bi score = 11.492\n",
      "               dti score = 10.211\n",
      "home_ownership_code score = 2.724\n",
      "    delinq_2yrs_bi score = 0.021\n",
      "[\"int_rate\",\"grade_code\",\"term_code\",\"revol_util\",\"inq_last_6mths_bi\",\"annual_inc\",\"addr_state_code\",\"purpose_code\",\"mths_since_last_record_bi\",\"funded_amnt\",\"verification_status_code\",\"pub_rec_bi\",\"emp_length_code\",\"pub_rec_bankruptcies_bi\",\"dti\",\"home_ownership_code\",\"delinq_2yrs_bi\",]\n"
     ]
    }
   ],
   "source": [
    "from sklearn.feature_selection import SelectKBest\n",
    "\n",
    "skb = SelectKBest(k='all')\n",
    "fs = skb.fit(d_train, l_train)\n",
    "s = '['\n",
    "for var, name in sorted(zip(fs.scores_, d_train.columns), key=lambda x: x[0], reverse=True):\n",
    "    print(f'{name:>18} score = {var:5.3f}')\n",
    "    s += f'\"{name}\",'\n",
    "print (s+']')"
   ]
  },
  {
   "cell_type": "code",
   "execution_count": 181,
   "metadata": {},
   "outputs": [],
   "source": [
    "kbest_all = [\"int_rate\",\"grade_code\",\"term_code\",\"revol_util\",\"inq_last_6mths_bi\",\"annual_inc\",\n",
    "             \"addr_state_code\",\"purpose_code\",\"mths_since_last_record_bi\",\"funded_amnt\",\n",
    "             \"verification_status_code\",\"pub_rec_bi\",\"emp_length_code\",\"pub_rec_bankruptcies_bi\",\n",
    "             \"dti\",\"home_ownership_code\",\"delinq_2yrs_bi\"]\n",
    "kbest_15 = [\"int_rate\",\"grade_code\",\"term_code\",\"revol_util\",\"inq_last_6mths_bi\",\"annual_inc\",\n",
    "             \"addr_state_code\",\"purpose_code\",\"mths_since_last_record_bi\",\"funded_amnt\",\n",
    "             \"verification_status_code\",\"pub_rec_bi\",\"emp_length_code\",\"pub_rec_bankruptcies_bi\",\n",
    "             \"dti\"]"
   ]
  },
  {
   "cell_type": "markdown",
   "metadata": {},
   "source": [
    "#### Wrapper methods"
   ]
  },
  {
   "cell_type": "code",
   "execution_count": 164,
   "metadata": {},
   "outputs": [
    {
     "name": "stdout",
     "output_type": "stream",
     "text": [
      "         term_code rank = 1\n",
      "mths_since_last_record_bi rank = 2\n",
      " inq_last_6mths_bi rank = 3\n",
      "        pub_rec_bi rank = 4\n",
      "    delinq_2yrs_bi rank = 5\n",
      "          int_rate rank = 6\n",
      "pub_rec_bankruptcies_bi rank = 7\n",
      "   addr_state_code rank = 8\n",
      "        grade_code rank = 9\n",
      "verification_status_code rank = 10\n",
      "      purpose_code rank = 11\n",
      "home_ownership_code rank = 12\n",
      "   emp_length_code rank = 13\n",
      "               dti rank = 14\n",
      "        revol_util rank = 15\n",
      "       funded_amnt rank = 16\n",
      "        annual_inc rank = 17\n"
     ]
    }
   ],
   "source": [
    "from sklearn.feature_selection import RFE\n",
    "from sklearn.linear_model import LogisticRegression\n",
    "\n",
    "lr = LogisticRegression(C=1E6, class_weight='balanced')\n",
    "\n",
    "# Perform RFE, select top feature (but rank all)\n",
    "rfe = RFE(lr, 1)\n",
    "\n",
    "# Fit features plus noise\n",
    "fs = rfe.fit(d_train, l_train)\n",
    "    \n",
    "# Display feature ranking\n",
    "for var, name in sorted(zip(fs.ranking_, d_train.columns), key=lambda x: x[0]):\n",
    "    print(f'{name:>18} rank = {var}')"
   ]
  },
  {
   "cell_type": "code",
   "execution_count": 165,
   "metadata": {
    "scrolled": true
   },
   "outputs": [
    {
     "name": "stdout",
     "output_type": "stream",
     "text": [
      "         term_code rank = 1\n",
      "mths_since_last_record_bi rank = 2\n",
      " inq_last_6mths_bi rank = 3\n",
      "        pub_rec_bi rank = 4\n",
      "pub_rec_bankruptcies_bi rank = 5\n",
      "    delinq_2yrs_bi rank = 6\n",
      "          int_rate rank = 7\n",
      "   addr_state_code rank = 8\n",
      "verification_status_code rank = 9\n",
      "      purpose_code rank = 10\n",
      "home_ownership_code rank = 11\n",
      "   emp_length_code rank = 12\n",
      "        grade_code rank = 13\n",
      "               dti rank = 14\n",
      "        revol_util rank = 15\n",
      "        annual_inc rank = 16\n",
      "       funded_amnt rank = 17\n"
     ]
    }
   ],
   "source": [
    "lr = LogisticRegression()\n",
    "# Perform RFE, select top feature (but rank all)\n",
    "rfe = RFE(lr, 1)\n",
    "\n",
    "# Fit features plus noise\n",
    "fs = rfe.fit(d_train, l_train)\n",
    "    \n",
    "# Display feature ranking\n",
    "for var, name in sorted(zip(fs.ranking_, d_train.columns), key=lambda x: x[0]):\n",
    "    print(f'{name:>18} rank = {var}')"
   ]
  },
  {
   "cell_type": "code",
   "execution_count": 173,
   "metadata": {},
   "outputs": [],
   "source": [
    "top_10 = ['term_code',\n",
    "'mths_since_last_record_bi',\n",
    " 'inq_last_6mths_bi',\n",
    "        'pub_rec_bi',\n",
    "'pub_rec_bankruptcies_bi',\n",
    "    'delinq_2yrs_bi',\n",
    "          'int_rate',\n",
    "   'addr_state_code',\n",
    "'verification_status_code',\n",
    "      'purpose_code']\n",
    "top_15 = top_10 + ['home_ownership_code','emp_length_code','grade_code','dti','revol_util']"
   ]
  },
  {
   "cell_type": "markdown",
   "metadata": {},
   "source": [
    "##### Compare LogisticRegression models\n",
    "Try LR on all features and selected features."
   ]
  },
  {
   "cell_type": "code",
   "execution_count": 185,
   "metadata": {},
   "outputs": [
    {
     "name": "stdout",
     "output_type": "stream",
     "text": [
      "0.6406328478151683\n",
      "              precision    recall  f1-score   support\n",
      "\n",
      "           0       0.23      0.61      0.33      1186\n",
      "           1       0.90      0.65      0.75      6778\n",
      "\n",
      "    accuracy                           0.64      7964\n",
      "   macro avg       0.57      0.63      0.54      7964\n",
      "weighted avg       0.80      0.64      0.69      7964\n",
      "\n",
      "0:36month, 1:60month\n",
      " 3    4483\n",
      "5     369\n",
      "Name: loan_term_year, dtype: int64\n",
      "Repaid Rate:\n",
      "loan_term_year\n",
      "3    0.907874\n",
      "5    0.850949\n",
      "Name: repaid, dtype: float64\n",
      "36 months loan: 4483 Annual return: 0.0297\n",
      "60 months loan: 369 Annual return: 0.033\n",
      "predicted: None\n",
      "36 months loan: 5960 Annual return: 0.0285\n",
      "60 months loan: 2004 Annual return: 0.0303\n",
      "all: None\n"
     ]
    }
   ],
   "source": [
    "#Train on all features\n",
    "from sklearn.linear_model import LogisticRegression\n",
    "\n",
    "lr = LogisticRegression(C=1E6, class_weight='balanced')\n",
    "#lr = LogisticRegression(C=1E6)\n",
    "\n",
    "lr = lr.fit(d_train, l_train)\n",
    "print(lr.score(d_test, l_test))\n",
    "pred = lr.predict(d_test)\n",
    "print(metrics.classification_report(l_test, pred))\n",
    "get_pred_return(df_test, pred)\n"
   ]
  },
  {
   "cell_type": "code",
   "execution_count": 184,
   "metadata": {},
   "outputs": [
    {
     "name": "stdout",
     "output_type": "stream",
     "text": [
      "0.6352335509794074\n",
      "              precision    recall  f1-score   support\n",
      "\n",
      "           0       0.23      0.61      0.33      1186\n",
      "           1       0.90      0.64      0.75      6778\n",
      "\n",
      "    accuracy                           0.64      7964\n",
      "   macro avg       0.57      0.63      0.54      7964\n",
      "weighted avg       0.80      0.64      0.69      7964\n",
      "\n",
      "0:36month, 1:60month\n",
      " 3    4461\n",
      "5     328\n",
      "Name: loan_term_year, dtype: int64\n",
      "Repaid Rate:\n",
      "loan_term_year\n",
      "3    0.907644\n",
      "5    0.859756\n",
      "Name: repaid, dtype: float64\n",
      "36 months loan: 4461 Annual return: 0.0297\n",
      "60 months loan: 328 Annual return: 0.0332\n",
      "predicted: None\n",
      "36 months loan: 5960 Annual return: 0.0285\n",
      "60 months loan: 2004 Annual return: 0.0303\n",
      "all: None\n"
     ]
    }
   ],
   "source": [
    "# Train on kbest_15\n",
    "lr = LogisticRegression(C=1E6, class_weight='balanced')\n",
    "lr = lr.fit(d_train[kbest_15], l_train)\n",
    "print(lr.score(d_test[kbest_15], l_test))\n",
    "pred = lr.predict(d_test[kbest_15])\n",
    "print(metrics.classification_report(l_test, pred))\n",
    "get_pred_return(df_test, pred)\n"
   ]
  },
  {
   "cell_type": "code",
   "execution_count": 176,
   "metadata": {
    "scrolled": false
   },
   "outputs": [
    {
     "name": "stdout",
     "output_type": "stream",
     "text": [
      "0.8505775991963838\n",
      "              precision    recall  f1-score   support\n",
      "\n",
      "           0       0.36      0.00      0.01      1186\n",
      "           1       0.85      1.00      0.92      6778\n",
      "\n",
      "    accuracy                           0.85      7964\n",
      "   macro avg       0.60      0.50      0.46      7964\n",
      "weighted avg       0.78      0.85      0.78      7964\n",
      "\n",
      "0:36month, 1:60month\n",
      " 3    5960\n",
      "5    1990\n",
      "Name: loan_term_year, dtype: int64\n",
      "Repaid Rate:\n",
      "loan_term_year\n",
      "3    0.881544\n",
      "5    0.761307\n",
      "Name: repaid, dtype: float64\n",
      "36 months loan: 5960 Annual return: 0.0285\n",
      "60 months loan: 1990 Annual return: 0.0304\n",
      "predicted: None\n",
      "36 months loan: 5960 Annual return: 0.0285\n",
      "60 months loan: 2004 Annual return: 0.0303\n",
      "all: None\n"
     ]
    }
   ],
   "source": [
    "# Train on top 10 features\n",
    "lr = lr.fit(d_train[top_10], l_train)\n",
    "print(lr.score(d_test[top_10], l_test))\n",
    "pred = lr.predict(d_test[top_10])\n",
    "print(metrics.classification_report(l_test, pred))\n",
    "get_pred_return(df_test, pred)\n"
   ]
  },
  {
   "cell_type": "code",
   "execution_count": 177,
   "metadata": {},
   "outputs": [
    {
     "name": "stdout",
     "output_type": "stream",
     "text": [
      "0.8505775991963838\n",
      "              precision    recall  f1-score   support\n",
      "\n",
      "           0       0.38      0.01      0.01      1186\n",
      "           1       0.85      1.00      0.92      6778\n",
      "\n",
      "    accuracy                           0.85      7964\n",
      "   macro avg       0.61      0.50      0.46      7964\n",
      "weighted avg       0.78      0.85      0.78      7964\n",
      "\n",
      "0:36month, 1:60month\n",
      " 3    5960\n",
      "5    1988\n",
      "Name: loan_term_year, dtype: int64\n",
      "Repaid Rate:\n",
      "loan_term_year\n",
      "3    0.881544\n",
      "5    0.761569\n",
      "Name: repaid, dtype: float64\n",
      "36 months loan: 5960 Annual return: 0.0285\n",
      "60 months loan: 1988 Annual return: 0.0302\n",
      "predicted: None\n",
      "36 months loan: 5960 Annual return: 0.0285\n",
      "60 months loan: 2004 Annual return: 0.0303\n",
      "all: None\n"
     ]
    }
   ],
   "source": [
    "#top 15\n",
    "lr = lr.fit(d_train[top_15], l_train)\n",
    "print(lr.score(d_test[top_15], l_test))\n",
    "pred = lr.predict(d_test[top_15])\n",
    "print(metrics.classification_report(l_test, pred))\n",
    "get_pred_return(df_test, pred)\n"
   ]
  },
  {
   "cell_type": "markdown",
   "metadata": {},
   "source": [
    "#### Embedded method"
   ]
  },
  {
   "cell_type": "code",
   "execution_count": 166,
   "metadata": {},
   "outputs": [
    {
     "name": "stdout",
     "output_type": "stream",
     "text": [
      "0.8286037167252637\n",
      "              precision    recall  f1-score   support\n",
      "\n",
      "           0       0.27      0.09      0.14      1186\n",
      "           1       0.86      0.96      0.90      6778\n",
      "\n",
      "    accuracy                           0.83      7964\n",
      "   macro avg       0.57      0.52      0.52      7964\n",
      "weighted avg       0.77      0.83      0.79      7964\n",
      "\n"
     ]
    }
   ],
   "source": [
    "from sklearn.ensemble import RandomForestClassifier\n",
    "from sklearn import metrics\n",
    "\n",
    "# Create Regressor with default properties\n",
    "rf = RandomForestClassifier(random_state=23)\n",
    "\n",
    "# Fit estimator and display score\n",
    "rf = rf.fit(d_train, l_train)\n",
    "print(rf.score(d_test, l_test))\n",
    "pred = rf.predict(d_test)\n",
    "print(metrics.classification_report(l_test, pred))"
   ]
  },
  {
   "cell_type": "code",
   "execution_count": 167,
   "metadata": {},
   "outputs": [
    {
     "name": "stdout",
     "output_type": "stream",
     "text": [
      "               dti: 14.47%\n",
      "        revol_util: 13.77%\n",
      "        annual_inc: 13.56%\n",
      "          int_rate: 12.34%\n",
      "       funded_amnt: 11.68%\n",
      "   emp_length_code: 07.24%\n",
      "      purpose_code: 06.22%\n",
      "   addr_state_code: 05.01%\n",
      "        grade_code: 03.87%\n",
      "verification_status_code: 03.03%\n",
      "home_ownership_code: 02.59%\n",
      "         term_code: 01.69%\n",
      " inq_last_6mths_bi: 01.53%\n",
      "    delinq_2yrs_bi: 01.21%\n",
      "mths_since_last_record_bi: 00.81%\n",
      "        pub_rec_bi: 00.52%\n",
      "pub_rec_bankruptcies_bi: 00.47%\n"
     ]
    }
   ],
   "source": [
    "rf.feature_importances_\n",
    "for val, name in sorted(zip(rf.feature_importances_, d_train.columns), \n",
    "                        key=lambda x: x[0], reverse=True):\n",
    "    print(f'{name:>18}: {100.0*val:05.2f}%')"
   ]
  },
  {
   "cell_type": "markdown",
   "metadata": {},
   "source": [
    "#### Don't use bi columns in classification\n",
    "All bi columns are highly imbalanced. df.feature_importances_ shows they are not important."
   ]
  },
  {
   "cell_type": "code",
   "execution_count": 348,
   "metadata": {},
   "outputs": [],
   "source": [
    "model_columns_nobi = cat_columns_encoded + cont_columns\n",
    "\n",
    "from sklearn.model_selection import train_test_split\n",
    "df_train, df_test = train_test_split(df, test_size=0.4, random_state=23)\n",
    "d_train = df_train[model_columns_nobi]\n",
    "d_test = df_test[model_columns_nobi]\n",
    "l_train = df_train.repaid\n",
    "l_test = df_test.repaid"
   ]
  },
  {
   "cell_type": "code",
   "execution_count": 347,
   "metadata": {
    "scrolled": true
   },
   "outputs": [
    {
     "name": "stdout",
     "output_type": "stream",
     "text": [
      "0.8333751883475641\n",
      "              precision    recall  f1-score   support\n",
      "\n",
      "           0       0.26      0.07      0.11      1186\n",
      "           1       0.86      0.97      0.91      6778\n",
      "\n",
      "    accuracy                           0.83      7964\n",
      "   macro avg       0.56      0.52      0.51      7964\n",
      "weighted avg       0.77      0.83      0.79      7964\n",
      "\n"
     ]
    }
   ],
   "source": [
    "\n",
    "# Create Regressor with default properties\n",
    "rf = RandomForestClassifier(class_weight='balanced', random_state=23)\n",
    "\n",
    "# Fit estimator and display score\n",
    "rf = rf.fit(d_train, l_train)\n",
    "print(rf.score(d_test, l_test))\n",
    "pred = rf.predict(d_test)\n",
    "print(metrics.classification_report(l_test, pred))"
   ]
  },
  {
   "cell_type": "code",
   "execution_count": 319,
   "metadata": {},
   "outputs": [
    {
     "name": "stdout",
     "output_type": "stream",
     "text": [
      "        revol_util: 15.30%\n",
      "               dti: 15.02%\n",
      "        annual_inc: 14.59%\n",
      "          int_rate: 13.94%\n",
      "       funded_amnt: 12.41%\n",
      "   emp_length_code: 07.33%\n",
      "      purpose_code: 05.74%\n",
      "   addr_state_code: 04.99%\n",
      "        grade_code: 03.32%\n",
      "verification_status_code: 03.17%\n",
      "home_ownership_code: 02.61%\n",
      "         term_code: 01.57%\n"
     ]
    }
   ],
   "source": [
    "rf.feature_importances_\n",
    "for val, name in sorted(zip(rf.feature_importances_, d_train.columns), \n",
    "                        key=lambda x: x[0], reverse=True):\n",
    "    print(f'{name:>18}: {100.0*val:05.2f}%')"
   ]
  },
  {
   "cell_type": "markdown",
   "metadata": {},
   "source": [
    "#### Only select >5% columns"
   ]
  },
  {
   "cell_type": "code",
   "execution_count": 349,
   "metadata": {},
   "outputs": [
    {
     "name": "stdout",
     "output_type": "stream",
     "text": [
      "0.8299849321948769\n",
      "              precision    recall  f1-score   support\n",
      "\n",
      "           0       0.28      0.09      0.14      1186\n",
      "           1       0.86      0.96      0.91      6778\n",
      "\n",
      "    accuracy                           0.83      7964\n",
      "   macro avg       0.57      0.52      0.52      7964\n",
      "weighted avg       0.77      0.83      0.79      7964\n",
      "\n"
     ]
    }
   ],
   "source": [
    "selected_columns = ['revol_util', 'dti', 'annual_inc', 'int_rate', 'funded_amnt', 'emp_length_code', 'purpose_code']\n",
    "\n",
    "df_train, df_test = train_test_split(df, test_size=0.4, random_state=23)\n",
    "d_train = df_train[selected_columns]\n",
    "d_test = df_test[selected_columns]\n",
    "l_train = df_train.repaid\n",
    "l_test = df_test.repaid\n",
    "\n",
    "# Create Regressor with default properties\n",
    "rf = RandomForestClassifier(random_state=23)\n",
    "\n",
    "# Fit estimator and display score\n",
    "rf = rf.fit(d_train, l_train)\n",
    "print(rf.score(d_test, l_test))\n",
    "pred = rf.predict(d_test)\n",
    "print(metrics.classification_report(l_test, pred))"
   ]
  },
  {
   "cell_type": "code",
   "execution_count": 353,
   "metadata": {
    "scrolled": true
   },
   "outputs": [
    {
     "name": "stdout",
     "output_type": "stream",
     "text": [
      "0.2737317930688096\n",
      "              precision    recall  f1-score   support\n",
      "\n",
      "           0       0.16      0.95      0.28      1186\n",
      "           1       0.95      0.16      0.27      6778\n",
      "\n",
      "    accuracy                           0.27      7964\n",
      "   macro avg       0.56      0.55      0.27      7964\n",
      "weighted avg       0.83      0.27      0.27      7964\n",
      "\n",
      "0:36month, 1:60month\n",
      " 3    1002\n",
      "5     112\n",
      "Name: loan_term_year, dtype: int64\n",
      "Repaid Rate:\n",
      "loan_term_year\n",
      "3    0.949102\n",
      "5    0.919643\n",
      "Name: repaid, dtype: float64\n",
      "36 months loan: 1002 Annual return: 0.0271\n",
      "60 months loan: 112 Annual return: 0.0423\n",
      "predicted: None\n",
      "36 months loan: 5960 Annual return: 0.0285\n",
      "60 months loan: 2004 Annual return: 0.0303\n",
      "all: None\n"
     ]
    }
   ],
   "source": [
    "from sklearn.linear_model import LogisticRegression\n",
    "\n",
    "#lr = LogisticRegression(C=1E6, class_weight='balanced')\n",
    "lr = LogisticRegression(C=1E6, class_weight={1:0.1, 0:0.9})\n",
    "\n",
    "lr = lr.fit(d_train, l_train)\n",
    "print(lr.score(d_test, l_test))\n",
    "pred = lr.predict(d_test)\n",
    "print(metrics.classification_report(l_test, pred))\n",
    "get_pred_return(df_test, pred)\n"
   ]
  },
  {
   "cell_type": "markdown",
   "metadata": {},
   "source": [
    "#### One hot encoding"
   ]
  },
  {
   "cell_type": "code",
   "execution_count": 188,
   "metadata": {},
   "outputs": [
    {
     "data": {
      "text/plain": [
       "'repaid ~ C(term_code)+C(grade_code)+C(emp_length_code)+C(home_ownership_code)+C(verification_status_code)+C(purpose_code)+C(addr_state_code)+delinq_2yrs_bi+inq_last_6mths_bi+mths_since_last_record_bi+pub_rec_bi+pub_rec_bankruptcies_bi+funded_amnt+int_rate+annual_inc+dti+revol_util'"
      ]
     },
     "execution_count": 188,
     "metadata": {},
     "output_type": "execute_result"
    }
   ],
   "source": [
    "model_columns = cat_columns_encoded + converted_bi_columns + cont_columns\n",
    "import patsy as pts \n",
    "\n",
    "formula = 'repaid ~ '\n",
    "for c in cat_columns_encoded:\n",
    "    formula += f'C({c})+'\n",
    "for c in converted_bi_columns + cont_columns:\n",
    "    formula += f'{c}+'\n",
    "formula = formula[:-1]\n",
    "formula\n",
    "y, x = pts.dmatrices(formula, data=df, return_type='dataframe')\n"
   ]
  },
  {
   "cell_type": "code",
   "execution_count": null,
   "metadata": {},
   "outputs": [],
   "source": [
    "from sklearn.model_selection import train_test_split\n",
    "df_train, df_test = train_test_split(df, test_size=0.4, random_state=23)\n",
    "d_train = df_train[model_columns]\n",
    "d_test = df_test[model_columns]\n",
    "l_train = df_train.repaid\n",
    "l_test = df_test.repaid"
   ]
  },
  {
   "cell_type": "markdown",
   "metadata": {},
   "source": [
    "### Task 2 Summary"
   ]
  },
  {
   "cell_type": "markdown",
   "metadata": {},
   "source": []
  },
  {
   "cell_type": "markdown",
   "metadata": {},
   "source": [
    "## Task 3: Construct Loan Portfolio(15 points)\n",
    "\n",
    "Construct a loan portfolio out of the test set with the help of your models. The portfolio can be a small subset of all loans in the dataset, for example, 50% of all loans in the test set.\n",
    "\n",
    "For this task, finish following mini tasks.\n",
    "- Predict on the test set with optimized models\n",
    "- Select loans that are predicted to be paidoff by the models\n",
    "- Calculate paidoff rate of the selected loans. Is the paid off rate better than the overall paid off rate(85.2%)?\n",
    "- Calculate annual return of selected loans\n",
    "- Adjust class_weight to 'balanced' and other options, ie. class_weight={1:0.2, 0:0.8} and use the new model to construct loan portfolio. How is the accuracy rate change? How is the paid off rate and return of the new portfolio?\n",
    "- Discuss other possible ways to construct better loan portfolio. For example, what's the impact of selecting loans from borrowers that don't have bankruptcy record(pub_rec_bankruptcies==0)?\n",
    "- Summerize your finding and the performace of your portfolio.\n",
    "\n",
    "**Note:**  \n",
    "Some machine learning models are not sensitive to class_weight change by default. You may change some hyperparameter values to make the model more responsive to class_weight change. For example, set max_depth to 10 for a RandomForestClassifier. This is an advanced topic and you are not required to do it. Out of the models we learned, LogisticRegression is most sensitive to class_weight change. That's why you are asked to inlclude LogisticRegression in your modeling choices in task 2."
   ]
  },
  {
   "cell_type": "code",
   "execution_count": 169,
   "metadata": {},
   "outputs": [],
   "source": [
    "def get_pred_return(df_test, pred):\n",
    "    '''\n",
    "    get returns of predicted good loans\n",
    "    '''\n",
    "    df_pred = df_test.copy()\n",
    "    df_pred['pred'] = pred\n",
    "    print(\"0:36month, 1:60month\\n\", df_pred[df_pred.pred==1].loan_term_year.value_counts())\n",
    "    print(\"Repaid Rate:\")\n",
    "    print(df_pred[df_pred.pred==1].groupby('loan_term_year').repaid.mean())\n",
    "    print('predicted:', get_loan_annual_return(df_pred[df_pred.pred==1]))\n",
    "    print('all:', get_loan_annual_return(df_test))"
   ]
  },
  {
   "cell_type": "code",
   "execution_count": 321,
   "metadata": {},
   "outputs": [
    {
     "name": "stdout",
     "output_type": "stream",
     "text": [
      "0.633852335509794\n",
      "              precision    recall  f1-score   support\n",
      "\n",
      "           0       0.22      0.58      0.32      1186\n",
      "           1       0.90      0.64      0.75      6778\n",
      "\n",
      "    accuracy                           0.63      7964\n",
      "   macro avg       0.56      0.61      0.54      7964\n",
      "weighted avg       0.80      0.63      0.69      7964\n",
      "\n"
     ]
    }
   ],
   "source": [
    "# Create Regressor with default properties\n",
    "rf = RandomForestClassifier(max_depth = 5, class_weight='balanced', random_state=23)\n",
    "\n",
    "# Fit estimator and display score\n",
    "rf = rf.fit(d_train, l_train)\n",
    "print(rf.score(d_test, l_test))\n",
    "pred = rf.predict(d_test)\n",
    "print(metrics.classification_report(l_test, pred))"
   ]
  },
  {
   "cell_type": "code",
   "execution_count": 322,
   "metadata": {
    "scrolled": true
   },
   "outputs": [
    {
     "name": "stdout",
     "output_type": "stream",
     "text": [
      "0:36month, 1:60month\n",
      " 3    4122\n",
      "5     732\n",
      "Name: loan_term_year, dtype: int64\n",
      "Repaid Rate:\n",
      "loan_term_year\n",
      "3    0.910966\n",
      "5    0.823770\n",
      "Name: repaid, dtype: float64\n",
      "36 months loan: 4122 Annual return: 0.0273\n",
      "60 months loan: 732 Annual return: 0.0287\n",
      "predicted: None\n",
      "36 months loan: 5960 Annual return: 0.0285\n",
      "60 months loan: 2004 Annual return: 0.0303\n",
      "all: None\n"
     ]
    }
   ],
   "source": [
    "get_pred_return(df_test, pred)"
   ]
  },
  {
   "cell_type": "code",
   "execution_count": 323,
   "metadata": {},
   "outputs": [
    {
     "data": {
      "text/plain": [
       "loan_term_year\n",
       "3    0.881544\n",
       "5    0.760479\n",
       "Name: repaid, dtype: float64"
      ]
     },
     "execution_count": 323,
     "metadata": {},
     "output_type": "execute_result"
    }
   ],
   "source": [
    "df_test.groupby('loan_term_year').repaid.mean()"
   ]
  },
  {
   "cell_type": "code",
   "execution_count": 324,
   "metadata": {},
   "outputs": [
    {
     "data": {
      "text/plain": [
       "3    5960\n",
       "5    2004\n",
       "Name: loan_term_year, dtype: int64"
      ]
     },
     "execution_count": 324,
     "metadata": {},
     "output_type": "execute_result"
    }
   ],
   "source": [
    "df_test.loan_term_year.value_counts()"
   ]
  },
  {
   "cell_type": "markdown",
   "metadata": {},
   "source": [
    "#### Separate 36 and 60 month loans"
   ]
  },
  {
   "cell_type": "code",
   "execution_count": 357,
   "metadata": {},
   "outputs": [],
   "source": [
    "from sklearn.model_selection import train_test_split\n",
    "df_36 = df[df.loan_term_year==3]\n",
    "df_train, df_test = train_test_split(df_36, test_size=0.4, random_state=23)\n",
    "d_train = df_train[selected_columns]\n",
    "d_test = df_test[selected_columns]\n",
    "l_train = df_train.repaid\n",
    "l_test = df_test.repaid"
   ]
  },
  {
   "cell_type": "code",
   "execution_count": 329,
   "metadata": {
    "scrolled": true
   },
   "outputs": [
    {
     "name": "stdout",
     "output_type": "stream",
     "text": [
      "0.5808205635195255\n",
      "              precision    recall  f1-score   support\n",
      "\n",
      "           0       0.29      0.52      0.37       487\n",
      "           1       0.80      0.60      0.68      1536\n",
      "\n",
      "    accuracy                           0.58      2023\n",
      "   macro avg       0.55      0.56      0.53      2023\n",
      "weighted avg       0.68      0.58      0.61      2023\n",
      "\n"
     ]
    }
   ],
   "source": [
    "# Create Regressor with default properties\n",
    "rf = RandomForestClassifier(max_depth = 5, class_weight='balanced', random_state=23)\n",
    "\n",
    "# Fit estimator and display score\n",
    "rf = rf.fit(d_train, l_train)\n",
    "print(rf.score(d_test, l_test))\n",
    "pred = rf.predict(d_test)\n",
    "print(metrics.classification_report(l_test, pred))"
   ]
  },
  {
   "cell_type": "code",
   "execution_count": 330,
   "metadata": {},
   "outputs": [
    {
     "name": "stdout",
     "output_type": "stream",
     "text": [
      "0:36month, 1:60month\n",
      " 5    1154\n",
      "Name: loan_term_year, dtype: int64\n",
      "Repaid Rate:\n",
      "loan_term_year\n",
      "5    0.798094\n",
      "Name: repaid, dtype: float64\n",
      "36 months loan: 0 Annual return: 0\n",
      "60 months loan: 1154 Annual return: 0.03\n",
      "predicted: None\n",
      "36 months loan: 0 Annual return: 0\n",
      "60 months loan: 2023 Annual return: 0.0312\n",
      "all: None\n"
     ]
    }
   ],
   "source": [
    "get_pred_return(df_test, pred)"
   ]
  },
  {
   "cell_type": "code",
   "execution_count": 331,
   "metadata": {},
   "outputs": [
    {
     "data": {
      "text/plain": [
       "0.022725060898460117"
      ]
     },
     "execution_count": 331,
     "metadata": {},
     "output_type": "execute_result"
    }
   ],
   "source": [
    "df_test['pred'] = pred\n",
    "df_test[df_test.pred==1].annual_return.mean()"
   ]
  },
  {
   "cell_type": "code",
   "execution_count": 332,
   "metadata": {},
   "outputs": [
    {
     "data": {
      "text/plain": [
       "0.759268413247652"
      ]
     },
     "execution_count": 332,
     "metadata": {},
     "output_type": "execute_result"
    }
   ],
   "source": [
    "df_test.repaid.mean()"
   ]
  },
  {
   "cell_type": "code",
   "execution_count": 333,
   "metadata": {},
   "outputs": [
    {
     "data": {
      "text/plain": [
       "0.7980935875216638"
      ]
     },
     "execution_count": 333,
     "metadata": {},
     "output_type": "execute_result"
    }
   ],
   "source": [
    "df_test[df_test.pred==1].repaid.mean()"
   ]
  },
  {
   "cell_type": "code",
   "execution_count": 334,
   "metadata": {},
   "outputs": [
    {
     "data": {
      "text/plain": [
       "1    1154\n",
       "0     869\n",
       "Name: pred, dtype: int64"
      ]
     },
     "execution_count": 334,
     "metadata": {},
     "output_type": "execute_result"
    }
   ],
   "source": [
    "df_test.pred.value_counts()"
   ]
  },
  {
   "cell_type": "code",
   "execution_count": 335,
   "metadata": {},
   "outputs": [
    {
     "data": {
      "text/plain": [
       "0.02272506089845966"
      ]
     },
     "execution_count": 335,
     "metadata": {},
     "output_type": "execute_result"
    }
   ],
   "source": [
    "df_test.annual_return.mean()"
   ]
  },
  {
   "cell_type": "markdown",
   "metadata": {},
   "source": [
    "##### LogisticRegression"
   ]
  },
  {
   "cell_type": "code",
   "execution_count": 359,
   "metadata": {
    "scrolled": true
   },
   "outputs": [
    {
     "name": "stdout",
     "output_type": "stream",
     "text": [
      "0.5078269651573809\n",
      "              precision    recall  f1-score   support\n",
      "\n",
      "           0       0.16      0.76      0.27       697\n",
      "           1       0.94      0.47      0.63      5244\n",
      "\n",
      "    accuracy                           0.51      5941\n",
      "   macro avg       0.55      0.62      0.45      5941\n",
      "weighted avg       0.85      0.51      0.59      5941\n",
      "\n",
      "0:36month, 1:60month\n",
      " 3    2656\n",
      "Name: loan_term_year, dtype: int64\n",
      "Repaid Rate:\n",
      "loan_term_year\n",
      "3    0.936747\n",
      "Name: repaid, dtype: float64\n",
      "36 months loan: 2656 Annual return: 0.0277\n",
      "60 months loan: 0 Annual return: 0\n",
      "predicted: None\n",
      "36 months loan: 5941 Annual return: 0.0302\n",
      "60 months loan: 0 Annual return: 0\n",
      "all: None\n"
     ]
    }
   ],
   "source": [
    "from sklearn.linear_model import LogisticRegression\n",
    "\n",
    "#lr = LogisticRegression(C=1E6, class_weight='balanced')\n",
    "lr = LogisticRegression(C=1E6, class_weight={1:0.1, 0:0.9})\n",
    "\n",
    "lr = lr.fit(d_train, l_train)\n",
    "print(lr.score(d_test, l_test))\n",
    "pred = lr.predict(d_test)\n",
    "print(metrics.classification_report(l_test, pred))\n",
    "get_pred_return(df_test, pred)"
   ]
  },
  {
   "cell_type": "code",
   "execution_count": 363,
   "metadata": {},
   "outputs": [
    {
     "name": "stdout",
     "output_type": "stream",
     "text": [
      "36 months loan: 2656 Annual return: 0.0277\n",
      "60 months loan: 0 Annual return: 0\n"
     ]
    }
   ],
   "source": [
    "df_test['pred'] = pred\n",
    "portfolio_36 = df_test[df_test.pred==1]\n",
    "get_loan_annual_return(portfolio_36)"
   ]
  },
  {
   "cell_type": "code",
   "execution_count": 364,
   "metadata": {},
   "outputs": [
    {
     "data": {
      "text/plain": [
       "0.9367469879518072"
      ]
     },
     "execution_count": 364,
     "metadata": {},
     "output_type": "execute_result"
    }
   ],
   "source": [
    "portfolio_36.repaid.mean()"
   ]
  },
  {
   "cell_type": "code",
   "execution_count": 367,
   "metadata": {},
   "outputs": [
    {
     "name": "stdout",
     "output_type": "stream",
     "text": [
      "36 months loan: 697 Annual return: -0.1523\n",
      "60 months loan: 0 Annual return: 0\n"
     ]
    }
   ],
   "source": [
    "get_loan_annual_return(df_test[df_test.repaid==0])"
   ]
  },
  {
   "cell_type": "code",
   "execution_count": 368,
   "metadata": {},
   "outputs": [
    {
     "name": "stdout",
     "output_type": "stream",
     "text": [
      "36 months loan: 5244 Annual return: 0.0493\n",
      "60 months loan: 0 Annual return: 0\n"
     ]
    }
   ],
   "source": [
    "get_loan_annual_return(df_test[df_test.repaid==1])"
   ]
  },
  {
   "cell_type": "code",
   "execution_count": 370,
   "metadata": {},
   "outputs": [
    {
     "name": "stdout",
     "output_type": "stream",
     "text": [
      "36 months loan: 2488 Annual return: 0.0373\n",
      "60 months loan: 0 Annual return: 0\n"
     ]
    }
   ],
   "source": [
    "get_loan_annual_return(portfolio_36[portfolio_36.repaid==1])"
   ]
  },
  {
   "cell_type": "code",
   "execution_count": 374,
   "metadata": {},
   "outputs": [
    {
     "data": {
      "text/plain": [
       "0.9434063000533903"
      ]
     },
     "execution_count": 374,
     "metadata": {},
     "output_type": "execute_result"
    }
   ],
   "source": [
    "df_test[df_test.grade=='A'].repaid.mean()"
   ]
  },
  {
   "cell_type": "code",
   "execution_count": 375,
   "metadata": {},
   "outputs": [
    {
     "name": "stdout",
     "output_type": "stream",
     "text": [
      "36 months loan: 1873 Annual return: 0.0243\n",
      "60 months loan: 0 Annual return: 0\n"
     ]
    }
   ],
   "source": [
    "get_loan_annual_return(df_test[df_test.grade=='A'])"
   ]
  },
  {
   "cell_type": "code",
   "execution_count": 381,
   "metadata": {},
   "outputs": [
    {
     "name": "stdout",
     "output_type": "stream",
     "text": [
      "36 months loan: 15 Annual return: 0.0575\n",
      "60 months loan: 0 Annual return: 0\n"
     ]
    }
   ],
   "source": [
    "get_loan_annual_return(portfolio_36[portfolio_36.grade=='D'])"
   ]
  },
  {
   "cell_type": "code",
   "execution_count": 376,
   "metadata": {},
   "outputs": [
    {
     "name": "stdout",
     "output_type": "stream",
     "text": [
      "36 months loan: 1944 Annual return: 0.0288\n",
      "60 months loan: 0 Annual return: 0\n"
     ]
    }
   ],
   "source": [
    "get_loan_annual_return(df_test[df_test.grade=='B'])"
   ]
  },
  {
   "cell_type": "code",
   "execution_count": 377,
   "metadata": {},
   "outputs": [
    {
     "name": "stdout",
     "output_type": "stream",
     "text": [
      "36 months loan: 1167 Annual return: 0.0328\n",
      "60 months loan: 0 Annual return: 0\n"
     ]
    }
   ],
   "source": [
    "get_loan_annual_return(df_test[df_test.grade=='C'])"
   ]
  },
  {
   "cell_type": "code",
   "execution_count": 378,
   "metadata": {},
   "outputs": [
    {
     "name": "stdout",
     "output_type": "stream",
     "text": [
      "36 months loan: 709 Annual return: 0.0408\n",
      "60 months loan: 0 Annual return: 0\n"
     ]
    }
   ],
   "source": [
    "get_loan_annual_return(df_test[df_test.grade=='D'])"
   ]
  },
  {
   "cell_type": "code",
   "execution_count": 373,
   "metadata": {},
   "outputs": [
    {
     "data": {
      "text/plain": [
       "B    1944\n",
       "A    1873\n",
       "C    1167\n",
       "D     709\n",
       "E     184\n",
       "F      52\n",
       "G      12\n",
       "Name: grade, dtype: int64"
      ]
     },
     "execution_count": 373,
     "metadata": {},
     "output_type": "execute_result"
    }
   ],
   "source": [
    "df_test.grade.value_counts()"
   ]
  },
  {
   "cell_type": "code",
   "execution_count": 371,
   "metadata": {},
   "outputs": [
    {
     "data": {
      "text/plain": [
       "A    1803\n",
       "B     783\n",
       "C      51\n",
       "D      15\n",
       "E       3\n",
       "F       1\n",
       "Name: grade, dtype: int64"
      ]
     },
     "execution_count": 371,
     "metadata": {},
     "output_type": "execute_result"
    }
   ],
   "source": [
    "portfolio_36.grade.value_counts()"
   ]
  },
  {
   "cell_type": "code",
   "execution_count": 366,
   "metadata": {},
   "outputs": [
    {
     "name": "stdout",
     "output_type": "stream",
     "text": [
      "36 months loan: 168 Annual return: -0.1547\n",
      "60 months loan: 0 Annual return: 0\n"
     ]
    }
   ],
   "source": [
    "get_loan_annual_return(portfolio_36[portfolio_36.repaid==0])"
   ]
  },
  {
   "cell_type": "code",
   "execution_count": null,
   "metadata": {},
   "outputs": [],
   "source": []
  },
  {
   "cell_type": "code",
   "execution_count": null,
   "metadata": {},
   "outputs": [],
   "source": [
    "def filter_portfolio_bi_condition(df):"
   ]
  },
  {
   "cell_type": "code",
   "execution_count": 382,
   "metadata": {},
   "outputs": [
    {
     "data": {
      "text/plain": [
       "grade\n",
       "A     7.342050\n",
       "B    10.993709\n",
       "C    13.480300\n",
       "D    15.376883\n",
       "E    16.953424\n",
       "F    18.540000\n",
       "G    20.458333\n",
       "Name: int_rate, dtype: float64"
      ]
     },
     "execution_count": 382,
     "metadata": {},
     "output_type": "execute_result"
    }
   ],
   "source": [
    "df_test.groupby('grade').int_rate.mean()"
   ]
  },
  {
   "cell_type": "code",
   "execution_count": 386,
   "metadata": {},
   "outputs": [
    {
     "data": {
      "text/html": [
       "<div>\n",
       "<style scoped>\n",
       "    .dataframe tbody tr th:only-of-type {\n",
       "        vertical-align: middle;\n",
       "    }\n",
       "\n",
       "    .dataframe tbody tr th {\n",
       "        vertical-align: top;\n",
       "    }\n",
       "\n",
       "    .dataframe thead th {\n",
       "        text-align: right;\n",
       "    }\n",
       "</style>\n",
       "<table border=\"1\" class=\"dataframe\">\n",
       "  <thead>\n",
       "    <tr style=\"text-align: right;\">\n",
       "      <th></th>\n",
       "      <th>funded_amnt</th>\n",
       "      <th>loan_term_year</th>\n",
       "      <th>int_rate</th>\n",
       "      <th>grade</th>\n",
       "      <th>emp_length</th>\n",
       "      <th>home_ownership</th>\n",
       "      <th>annual_inc</th>\n",
       "      <th>verification_status</th>\n",
       "      <th>purpose</th>\n",
       "      <th>addr_state</th>\n",
       "      <th>dti</th>\n",
       "      <th>delinq_2yrs</th>\n",
       "      <th>inq_last_6mths</th>\n",
       "      <th>mths_since_last_delinq</th>\n",
       "      <th>mths_since_last_record</th>\n",
       "      <th>pub_rec</th>\n",
       "      <th>revol_bal</th>\n",
       "      <th>revol_util</th>\n",
       "      <th>loan_status</th>\n",
       "      <th>repaid</th>\n",
       "      <th>annual_return</th>\n",
       "      <th>total_pymnt</th>\n",
       "      <th>recoveries</th>\n",
       "      <th>pub_rec_bankruptcies</th>\n",
       "      <th>delinq_2yrs_bi</th>\n",
       "      <th>inq_last_6mths_bi</th>\n",
       "      <th>mths_since_last_record_bi</th>\n",
       "      <th>pub_rec_bi</th>\n",
       "      <th>pub_rec_bankruptcies_bi</th>\n",
       "      <th>term_code</th>\n",
       "      <th>grade_code</th>\n",
       "      <th>emp_length_code</th>\n",
       "      <th>verification_status_code</th>\n",
       "      <th>purpose_code</th>\n",
       "      <th>home_ownership_code</th>\n",
       "      <th>addr_state_code</th>\n",
       "      <th>pred</th>\n",
       "    </tr>\n",
       "  </thead>\n",
       "  <tbody>\n",
       "    <tr>\n",
       "      <td>6776</td>\n",
       "      <td>7000</td>\n",
       "      <td>3</td>\n",
       "      <td>19.39</td>\n",
       "      <td>E</td>\n",
       "      <td>7 years</td>\n",
       "      <td>RENT</td>\n",
       "      <td>43000.0</td>\n",
       "      <td>Verified</td>\n",
       "      <td>debt_consolidation</td>\n",
       "      <td>NY</td>\n",
       "      <td>5.64</td>\n",
       "      <td>0.0</td>\n",
       "      <td>1.0</td>\n",
       "      <td>24.0</td>\n",
       "      <td>NaN</td>\n",
       "      <td>0.0</td>\n",
       "      <td>5981</td>\n",
       "      <td>92.0</td>\n",
       "      <td>Fully Paid</td>\n",
       "      <td>1</td>\n",
       "      <td>0.038161</td>\n",
       "      <td>9287.014982</td>\n",
       "      <td>0.0</td>\n",
       "      <td>0.0</td>\n",
       "      <td>0</td>\n",
       "      <td>1</td>\n",
       "      <td>1</td>\n",
       "      <td>0</td>\n",
       "      <td>0</td>\n",
       "      <td>0</td>\n",
       "      <td>4</td>\n",
       "      <td>7.0</td>\n",
       "      <td>2</td>\n",
       "      <td>2</td>\n",
       "      <td>4</td>\n",
       "      <td>4</td>\n",
       "      <td>0</td>\n",
       "    </tr>\n",
       "    <tr>\n",
       "      <td>16674</td>\n",
       "      <td>21600</td>\n",
       "      <td>3</td>\n",
       "      <td>11.48</td>\n",
       "      <td>B</td>\n",
       "      <td>10+ years</td>\n",
       "      <td>OWN</td>\n",
       "      <td>138000.0</td>\n",
       "      <td>Not Verified</td>\n",
       "      <td>debt_consolidation</td>\n",
       "      <td>FL</td>\n",
       "      <td>22.09</td>\n",
       "      <td>0.0</td>\n",
       "      <td>1.0</td>\n",
       "      <td>NaN</td>\n",
       "      <td>NaN</td>\n",
       "      <td>0.0</td>\n",
       "      <td>682</td>\n",
       "      <td>3.3</td>\n",
       "      <td>Fully Paid</td>\n",
       "      <td>1</td>\n",
       "      <td>0.038161</td>\n",
       "      <td>21806.830000</td>\n",
       "      <td>0.0</td>\n",
       "      <td>0.0</td>\n",
       "      <td>0</td>\n",
       "      <td>1</td>\n",
       "      <td>1</td>\n",
       "      <td>0</td>\n",
       "      <td>0</td>\n",
       "      <td>0</td>\n",
       "      <td>1</td>\n",
       "      <td>10.0</td>\n",
       "      <td>0</td>\n",
       "      <td>2</td>\n",
       "      <td>3</td>\n",
       "      <td>1</td>\n",
       "      <td>1</td>\n",
       "    </tr>\n",
       "    <tr>\n",
       "      <td>16399</td>\n",
       "      <td>11000</td>\n",
       "      <td>3</td>\n",
       "      <td>15.33</td>\n",
       "      <td>D</td>\n",
       "      <td>10+ years</td>\n",
       "      <td>MORTGAGE</td>\n",
       "      <td>70000.0</td>\n",
       "      <td>Not Verified</td>\n",
       "      <td>debt_consolidation</td>\n",
       "      <td>FL</td>\n",
       "      <td>24.12</td>\n",
       "      <td>0.0</td>\n",
       "      <td>2.0</td>\n",
       "      <td>NaN</td>\n",
       "      <td>NaN</td>\n",
       "      <td>0.0</td>\n",
       "      <td>18107</td>\n",
       "      <td>68.8</td>\n",
       "      <td>Fully Paid</td>\n",
       "      <td>1</td>\n",
       "      <td>0.038161</td>\n",
       "      <td>13791.968178</td>\n",
       "      <td>0.0</td>\n",
       "      <td>0.0</td>\n",
       "      <td>0</td>\n",
       "      <td>1</td>\n",
       "      <td>1</td>\n",
       "      <td>0</td>\n",
       "      <td>0</td>\n",
       "      <td>0</td>\n",
       "      <td>3</td>\n",
       "      <td>10.0</td>\n",
       "      <td>0</td>\n",
       "      <td>2</td>\n",
       "      <td>0</td>\n",
       "      <td>1</td>\n",
       "      <td>0</td>\n",
       "    </tr>\n",
       "    <tr>\n",
       "      <td>15365</td>\n",
       "      <td>11000</td>\n",
       "      <td>3</td>\n",
       "      <td>13.11</td>\n",
       "      <td>C</td>\n",
       "      <td>4 years</td>\n",
       "      <td>RENT</td>\n",
       "      <td>50985.0</td>\n",
       "      <td>Not Verified</td>\n",
       "      <td>debt_consolidation</td>\n",
       "      <td>NJ</td>\n",
       "      <td>16.19</td>\n",
       "      <td>0.0</td>\n",
       "      <td>1.0</td>\n",
       "      <td>NaN</td>\n",
       "      <td>NaN</td>\n",
       "      <td>0.0</td>\n",
       "      <td>3621</td>\n",
       "      <td>34.8</td>\n",
       "      <td>Fully Paid</td>\n",
       "      <td>1</td>\n",
       "      <td>0.038161</td>\n",
       "      <td>13303.663155</td>\n",
       "      <td>0.0</td>\n",
       "      <td>0.0</td>\n",
       "      <td>0</td>\n",
       "      <td>1</td>\n",
       "      <td>1</td>\n",
       "      <td>0</td>\n",
       "      <td>0</td>\n",
       "      <td>0</td>\n",
       "      <td>2</td>\n",
       "      <td>4.0</td>\n",
       "      <td>0</td>\n",
       "      <td>2</td>\n",
       "      <td>4</td>\n",
       "      <td>3</td>\n",
       "      <td>0</td>\n",
       "    </tr>\n",
       "    <tr>\n",
       "      <td>10714</td>\n",
       "      <td>6875</td>\n",
       "      <td>3</td>\n",
       "      <td>6.54</td>\n",
       "      <td>A</td>\n",
       "      <td>&lt; 1 year</td>\n",
       "      <td>MORTGAGE</td>\n",
       "      <td>95000.0</td>\n",
       "      <td>Not Verified</td>\n",
       "      <td>small_business</td>\n",
       "      <td>NY</td>\n",
       "      <td>1.11</td>\n",
       "      <td>0.0</td>\n",
       "      <td>2.0</td>\n",
       "      <td>NaN</td>\n",
       "      <td>NaN</td>\n",
       "      <td>0.0</td>\n",
       "      <td>3640</td>\n",
       "      <td>7.4</td>\n",
       "      <td>Fully Paid</td>\n",
       "      <td>1</td>\n",
       "      <td>0.038161</td>\n",
       "      <td>7261.198496</td>\n",
       "      <td>0.0</td>\n",
       "      <td>0.0</td>\n",
       "      <td>0</td>\n",
       "      <td>1</td>\n",
       "      <td>1</td>\n",
       "      <td>0</td>\n",
       "      <td>0</td>\n",
       "      <td>0</td>\n",
       "      <td>0</td>\n",
       "      <td>0.0</td>\n",
       "      <td>0</td>\n",
       "      <td>11</td>\n",
       "      <td>0</td>\n",
       "      <td>4</td>\n",
       "      <td>1</td>\n",
       "    </tr>\n",
       "  </tbody>\n",
       "</table>\n",
       "</div>"
      ],
      "text/plain": [
       "       funded_amnt  loan_term_year  int_rate grade emp_length home_ownership  \\\n",
       "6776          7000               3     19.39     E    7 years           RENT   \n",
       "16674        21600               3     11.48     B  10+ years            OWN   \n",
       "16399        11000               3     15.33     D  10+ years       MORTGAGE   \n",
       "15365        11000               3     13.11     C    4 years           RENT   \n",
       "10714         6875               3      6.54     A   < 1 year       MORTGAGE   \n",
       "\n",
       "       annual_inc verification_status             purpose addr_state    dti  \\\n",
       "6776      43000.0            Verified  debt_consolidation         NY   5.64   \n",
       "16674    138000.0        Not Verified  debt_consolidation         FL  22.09   \n",
       "16399     70000.0        Not Verified  debt_consolidation         FL  24.12   \n",
       "15365     50985.0        Not Verified  debt_consolidation         NJ  16.19   \n",
       "10714     95000.0        Not Verified      small_business         NY   1.11   \n",
       "\n",
       "       delinq_2yrs  inq_last_6mths  mths_since_last_delinq  \\\n",
       "6776           0.0             1.0                    24.0   \n",
       "16674          0.0             1.0                     NaN   \n",
       "16399          0.0             2.0                     NaN   \n",
       "15365          0.0             1.0                     NaN   \n",
       "10714          0.0             2.0                     NaN   \n",
       "\n",
       "       mths_since_last_record  pub_rec  revol_bal  revol_util loan_status  \\\n",
       "6776                      NaN      0.0       5981        92.0  Fully Paid   \n",
       "16674                     NaN      0.0        682         3.3  Fully Paid   \n",
       "16399                     NaN      0.0      18107        68.8  Fully Paid   \n",
       "15365                     NaN      0.0       3621        34.8  Fully Paid   \n",
       "10714                     NaN      0.0       3640         7.4  Fully Paid   \n",
       "\n",
       "       repaid  annual_return   total_pymnt  recoveries  pub_rec_bankruptcies  \\\n",
       "6776        1       0.038161   9287.014982         0.0                   0.0   \n",
       "16674       1       0.038161  21806.830000         0.0                   0.0   \n",
       "16399       1       0.038161  13791.968178         0.0                   0.0   \n",
       "15365       1       0.038161  13303.663155         0.0                   0.0   \n",
       "10714       1       0.038161   7261.198496         0.0                   0.0   \n",
       "\n",
       "       delinq_2yrs_bi  inq_last_6mths_bi  mths_since_last_record_bi  \\\n",
       "6776                0                  1                          1   \n",
       "16674               0                  1                          1   \n",
       "16399               0                  1                          1   \n",
       "15365               0                  1                          1   \n",
       "10714               0                  1                          1   \n",
       "\n",
       "       pub_rec_bi  pub_rec_bankruptcies_bi  term_code  grade_code  \\\n",
       "6776            0                        0          0           4   \n",
       "16674           0                        0          0           1   \n",
       "16399           0                        0          0           3   \n",
       "15365           0                        0          0           2   \n",
       "10714           0                        0          0           0   \n",
       "\n",
       "       emp_length_code  verification_status_code  purpose_code  \\\n",
       "6776               7.0                         2             2   \n",
       "16674             10.0                         0             2   \n",
       "16399             10.0                         0             2   \n",
       "15365              4.0                         0             2   \n",
       "10714              0.0                         0            11   \n",
       "\n",
       "       home_ownership_code  addr_state_code  pred  \n",
       "6776                     4                4     0  \n",
       "16674                    3                1     1  \n",
       "16399                    0                1     0  \n",
       "15365                    4                3     0  \n",
       "10714                    0                4     1  "
      ]
     },
     "execution_count": 386,
     "metadata": {},
     "output_type": "execute_result"
    }
   ],
   "source": [
    "df_test.head()"
   ]
  },
  {
   "cell_type": "code",
   "execution_count": 387,
   "metadata": {},
   "outputs": [
    {
     "data": {
      "text/html": [
       "<div>\n",
       "<style scoped>\n",
       "    .dataframe tbody tr th:only-of-type {\n",
       "        vertical-align: middle;\n",
       "    }\n",
       "\n",
       "    .dataframe tbody tr th {\n",
       "        vertical-align: top;\n",
       "    }\n",
       "\n",
       "    .dataframe thead th {\n",
       "        text-align: right;\n",
       "    }\n",
       "</style>\n",
       "<table border=\"1\" class=\"dataframe\">\n",
       "  <thead>\n",
       "    <tr style=\"text-align: right;\">\n",
       "      <th></th>\n",
       "      <th>grade</th>\n",
       "      <th>repaid</th>\n",
       "      <th>funded_amnt</th>\n",
       "      <th>total_pymnt</th>\n",
       "      <th>recoveries</th>\n",
       "      <th>annual_return</th>\n",
       "    </tr>\n",
       "  </thead>\n",
       "  <tbody>\n",
       "    <tr>\n",
       "      <td>10714</td>\n",
       "      <td>A</td>\n",
       "      <td>1</td>\n",
       "      <td>6875</td>\n",
       "      <td>7261.198496</td>\n",
       "      <td>0.00</td>\n",
       "      <td>0.038161</td>\n",
       "    </tr>\n",
       "    <tr>\n",
       "      <td>13046</td>\n",
       "      <td>A</td>\n",
       "      <td>1</td>\n",
       "      <td>14000</td>\n",
       "      <td>15680.190629</td>\n",
       "      <td>0.00</td>\n",
       "      <td>0.038161</td>\n",
       "    </tr>\n",
       "    <tr>\n",
       "      <td>13747</td>\n",
       "      <td>A</td>\n",
       "      <td>1</td>\n",
       "      <td>9800</td>\n",
       "      <td>11049.110326</td>\n",
       "      <td>0.00</td>\n",
       "      <td>0.038161</td>\n",
       "    </tr>\n",
       "    <tr>\n",
       "      <td>7851</td>\n",
       "      <td>A</td>\n",
       "      <td>0</td>\n",
       "      <td>6725</td>\n",
       "      <td>3350.910000</td>\n",
       "      <td>236.75</td>\n",
       "      <td>0.038161</td>\n",
       "    </tr>\n",
       "    <tr>\n",
       "      <td>18320</td>\n",
       "      <td>A</td>\n",
       "      <td>1</td>\n",
       "      <td>6000</td>\n",
       "      <td>6672.905682</td>\n",
       "      <td>0.00</td>\n",
       "      <td>0.038161</td>\n",
       "    </tr>\n",
       "  </tbody>\n",
       "</table>\n",
       "</div>"
      ],
      "text/plain": [
       "      grade  repaid  funded_amnt   total_pymnt  recoveries  annual_return\n",
       "10714     A       1         6875   7261.198496        0.00       0.038161\n",
       "13046     A       1        14000  15680.190629        0.00       0.038161\n",
       "13747     A       1         9800  11049.110326        0.00       0.038161\n",
       "7851      A       0         6725   3350.910000      236.75       0.038161\n",
       "18320     A       1         6000   6672.905682        0.00       0.038161"
      ]
     },
     "execution_count": 387,
     "metadata": {},
     "output_type": "execute_result"
    }
   ],
   "source": [
    "df_test[df_test.grade=='A'][['grade', 'repaid','funded_amnt', 'total_pymnt', 'recoveries','annual_return']].head()"
   ]
  },
  {
   "cell_type": "markdown",
   "metadata": {},
   "source": [
    "### Task 3 Summary"
   ]
  },
  {
   "cell_type": "markdown",
   "metadata": {},
   "source": [
    "When use class_weight to get high positive precision, majority of loans are grade A, which has low interest rate."
   ]
  },
  {
   "cell_type": "code",
   "execution_count": null,
   "metadata": {},
   "outputs": [],
   "source": []
  },
  {
   "cell_type": "markdown",
   "metadata": {},
   "source": []
  },
  {
   "cell_type": "markdown",
   "metadata": {},
   "source": [
    "## Task 4: Conclusion(5 points)\n",
    "\n",
    "Summarize your findings in the project."
   ]
  }
 ],
 "metadata": {
  "kernelspec": {
   "display_name": "Python 3",
   "language": "python",
   "name": "python3"
  },
  "language_info": {
   "codemirror_mode": {
    "name": "ipython",
    "version": 3
   },
   "file_extension": ".py",
   "mimetype": "text/x-python",
   "name": "python",
   "nbconvert_exporter": "python",
   "pygments_lexer": "ipython3",
   "version": "3.7.3"
  }
 },
 "nbformat": 4,
 "nbformat_minor": 2
}
